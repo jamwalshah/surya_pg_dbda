{
  "nbformat": 4,
  "nbformat_minor": 0,
  "metadata": {
    "colab": {
      "provenance": [],
      "toc_visible": true
    },
    "kernelspec": {
      "name": "python3",
      "display_name": "Python 3"
    },
    "language_info": {
      "name": "python"
    }
  },
  "cells": [
    {
      "cell_type": "markdown",
      "source": [
        "# Clustering Algorithms\n",
        "- unsupervised learning, to detect patterns, usefule when you don't know what you're looking for\n",
        "- task of gathering samples into groups of similar samples accourding to some pre-defined similarity or dissimilarity measure\n",
        "- grouping of data objects such that the objects within a group of similar (or related) to another and different from (or unrelated to) the objects in other groups\n",
        "- ```outliers```\n",
        "    - objects that do not belong to any of the cluster or form a cluster of very small cardinality\n",
        "    - in some applicateions, we are interested in discovering outliers, not clusters (```outlier analysis```)"
      ],
      "metadata": {
        "id": "e89ndEk39Vvx"
      }
    },
    {
      "cell_type": "markdown",
      "source": [
        "# Goal of clustering\n",
        "- goal of clustering is to divide the data points into a number of groups so that the data points within each group are more comparable to one another  and different from the data points with the other groups\n",
        "- given a set of data points, each described by a set of attributes, find clusters such that\n",
        "    - inter-cluster similarity is F1 maximized\n",
        "    - intra-cluster similarity is minimized\n",
        "- requires the definition of a similarity measure"
      ],
      "metadata": {
        "id": "FhGnMUilB5c3"
      }
    },
    {
      "cell_type": "markdown",
      "source": [
        "# Applications of Clustering\n",
        "- Clustering is widely used technique in recommendation engines, banking, document Clustering and Image Segmentation\n",
        "- Image Segmentation\n",
        "    - use clustering to create clusters having similar pixels in the same group\n",
        "    - Cluster images based on their visual content\n",
        "- Web / Document Clustering\n",
        "    - to cluster similar documents together\n",
        "    - Grouping emails or search results\n",
        "    - cluster web pages based on their content\n",
        "    - Cluster groups of users based on their access patterns on web pages\n",
        "- Customer/Market segmentation\n",
        "    - group customers into different market segments based on customer shopping patterns\n",
        "    - this strategy is used across functions including telecom, e-commerce, sports, advertising, sales, etc.\n",
        "- Recommendation Engines\n",
        "    - to cluster similar content including songs, movies, books, etc and then recommend the most similar content\n",
        "- Social Network analysis\n",
        "    - Facebook smartlists\n",
        "- organizing computer clusters\n",
        "    - organizing computer clusters and data centers for network layout and location\n",
        "- Astronomical data analysis\n",
        "    - understanding galaxy information\n",
        "- Bioinformatics\n",
        "    - clustering gene expression data\n",
        "    - clustering similar proteins together (similarity w.r.t. chemical structure and/or functionality etc.)"
      ],
      "metadata": {
        "id": "VejQGNn7B0kh"
      }
    },
    {
      "cell_type": "markdown",
      "source": [
        "# Steps in clustering\n",
        "1. Feature extraction\n",
        "    - L2-Norm\n",
        "    - PCA- Principal Component Analysis\n",
        "        - with optional ICA(Independent Component Analysis)/ BSS(Blind Source Separation)\n",
        "    - UFL(Upper Flammable Limit)\n",
        "        - RICA(Reconstruction ICA)\n",
        "        - SFT(Spatial Feature Transform)\n",
        "2. Graph Construction\n",
        "    - Similarity Graph\n",
        "        - Scaling Factor\n",
        "        - Similarities\n",
        "        - kNN Criterion\n",
        "3. Graph Embedding\n",
        "    - Eigen Decomposition\n",
        "    - GNMF\n",
        "    - ICA(Independent Component Analysis)\n",
        "        - used as BSS(Blind SOurce Separation)\n",
        "4. Clustering\n",
        "    - K-Means\n",
        "        - check clusters\n",
        "        - NMI(Normalization of Mutual Information), ACC(Average Coverage Criterion)"
      ],
      "metadata": {
        "id": "sdMaMVQcRuv-"
      }
    },
    {
      "cell_type": "markdown",
      "source": [
        "# Types of clustering algorithms\n",
        "1. Hierarchical Algorithms\n",
        "    - create a hierarchical decomposition of the set of objects using some criterion\n",
        "        - Bottom-Up (Agglomerative Clustering)\n",
        "        - Top-Down (Divisive Clustering)\n",
        "2. Partitional Algorithms\n",
        "    - construct various partitions and evaluate them by some criterion\n",
        "        - K-Means Algorithm\n",
        "        - DB scan Algorithm"
      ],
      "metadata": {
        "id": "NbhDqy75Rxml"
      }
    },
    {
      "cell_type": "markdown",
      "source": [
        "## Hierarchical Clustering\n",
        "- statistical method used to build  a cluster by arranging elements at various levels\n",
        "- create a hierarchical decomposition of the set of objects using some criterion\n",
        "- there is only one dataset that can be perfectly clustered using a hierarchy\n",
        "\n"
      ],
      "metadata": {
        "id": "xmGzBLPJnP98"
      }
    },
    {
      "cell_type": "markdown",
      "source": [
        "### ```dendrogram```\n",
        "- a useful tool for summarizing similarity measurements\n",
        "- similarity between two objects in a dendrogram is represented as the height of the lowest internal node they share\n",
        "- each level will represent a possible cluster\n",
        "- closer to bottom, more the similarity between the clusters\n",
        "- finding of groups from a dendrogram is not simple and is very often subjective\n",
        "- The number of dendrograms with ```n``` leafs = ```(2n-3)! / [2^(n-2) (n-2)!]```"
      ],
      "metadata": {
        "id": "BEkOYzOvH28b"
      }
    },
    {
      "cell_type": "markdown",
      "source": [
        "### Uses of dendrogram\n",
        "- Couting Clusters\n",
        "    - dendrogram can be used to determine the \"correct\" number of clusters\n",
        "- Detecting Outliers\n",
        "    - the single isolated branch of a data point that is very different to all others"
      ],
      "metadata": {
        "id": "t0jKQ-RlH8Aj"
      }
    },
    {
      "cell_type": "markdown",
      "source": [
        "### Types of Hierarchical Clustering\n",
        "- since we cannot test all possible trees, we will have to heiristic search all possible trees. we could do this\n",
        "1. Bottom-Up (Agglomerative)\n",
        "    - starting with each item in its own cluster, find the best pair to merge into a new cluster\n",
        "    - repeat until all clusters are fused together\n",
        "2. Top-Down (Divisive)\n",
        "    - starting with all the data in a single cluster, consider  every possible way to divide the cluster into two clusters\n",
        "    - Choose the best division and recursively operate on both sides"
      ],
      "metadata": {
        "id": "nUSkazgDHf1N"
      }
    },
    {
      "cell_type": "markdown",
      "source": [
        "### Linkage\n",
        "- we can measure distance between tow objects, but defining distance between an object and a cluster or between two clusters is non-obvious\n",
        "- Linkage is used to represent neighborhood of clusters\n",
        "1. ```Single Linkage (Nearst Neighbor)```\n",
        "    - in this method, the distance between tow clusters is determined by the distance of the two closest objects (nearest neighbors) in  the different clusters\n",
        "2. ```Complete Linkage (Furthest Neighbor)```\n",
        "    - in this method, the distances between the clusters are determined by the greatest distance between any two objects in the different clusters (i.e. by the \"furthest neighbors\")\n",
        "3. ```Group Average Linkage```\n",
        "    - in this method , the distance between two clusters is calculated as the average distance between all the pairs of objects in the two different clusters\n",
        "4. ```Ward Linkage```\n",
        "    - the similarity of of two clusters is based upon the increase in squared error when two clusters are merged\n",
        "5. ```Centroid Linkage```\n",
        "    - the simailarity of two clustered is based on distance between the centroid of the clusters"
      ],
      "metadata": {
        "id": "IlgzXxMVJl6t"
      }
    },
    {
      "cell_type": "markdown",
      "source": [
        "### Bottom-Up (Agglomerative) Clustering\n",
        "- first merge very similar instances\n",
        "- incrementally build larger clusters out of smaller clusters\n",
        "- produces not one clustering, but  a family of clusterings represented by a dendrogram\n",
        "\n"
      ],
      "metadata": {
        "id": "P3O7iZZk-RMd"
      }
    },
    {
      "cell_type": "markdown",
      "source": [
        "#### Algorithm for Agglomerative Clustering\n",
        "- Maintain a set of clusters\n",
        "- initially, each instance is its own cluster\n",
        "- Repeat\n",
        "    - pick two closest clusters\n",
        "    - merge them into a new cluster\n",
        "    - stop when there is only one cluster left"
      ],
      "metadata": {
        "id": "uN9tdAczNsXD"
      }
    },
    {
      "cell_type": "markdown",
      "source": [
        "#### Choosing Closest Cluster\n",
        "- you can use different linkages to define closest cluster\n",
        "    1. Closest Pair (Single-Link Clustering)\n",
        "    2. Farthest Pair (Complete-Link Clustering)\n",
        "    3. Average of all pairs (Average Link Clustering)\n",
        "- Different choices create different clustering behaviors"
      ],
      "metadata": {
        "id": "OsNKSgdtNkag"
      }
    },
    {
      "cell_type": "markdown",
      "source": [
        "#### import libs"
      ],
      "metadata": {
        "id": "mnz68izin5uC"
      }
    },
    {
      "cell_type": "code",
      "source": [
        "import pandas as pd\n",
        "import numpy as np\n",
        "import matplotlib.pyplot as plt\n",
        "import seaborn as sns"
      ],
      "metadata": {
        "id": "cFb7TSKxnTtv"
      },
      "execution_count": 1,
      "outputs": []
    },
    {
      "cell_type": "markdown",
      "source": [
        "#### import dataset"
      ],
      "metadata": {
        "id": "7fBEdFEnn7OG"
      }
    },
    {
      "cell_type": "code",
      "source": [
        "# from google.colab import files\n",
        "# uploaded = files.upload()\n",
        "# D14data1.csv\n",
        "\n",
        "import os\n",
        "os.chdir(r'C:\\Users\\surya\\Downloads\\PG-DBDA-Mar23\\Datasets')\n",
        "os.getcwd()"
      ],
      "metadata": {
        "colab": {
          "base_uri": "https://localhost:8080/",
          "height": 0
        },
        "id": "6R73myS7nTrY",
        "outputId": "ef38e5de-2aa8-46ad-efd5-68937b2f728e"
      },
      "execution_count": 5,
      "outputs": [
        {
          "output_type": "execute_result",
          "data": {
            "text/plain": [
              "'C:\\\\Users\\\\surya\\\\Downloads\\\\PG-DBDA-Mar23\\\\Datasets'"
            ]
          },
          "metadata": {},
          "execution_count": 5
        }
      ]
    },
    {
      "cell_type": "code",
      "source": [
        "dataset = pd.read_csv('D14data1.csv')\n",
        "dataset.head()"
      ],
      "metadata": {
        "colab": {
          "base_uri": "https://localhost:8080/",
          "height": 206
        },
        "id": "smxD25WCnTpD",
        "outputId": "a403e9d6-d536-42f6-9fa0-64e8dd982958"
      },
      "execution_count": 3,
      "outputs": [
        {
          "output_type": "execute_result",
          "data": {
            "text/plain": [
              "   CustomerID  Gender  Age  Annual Income (k$)  Spending Score (1-100)\n",
              "0           1    Male   19                  15                      39\n",
              "1           2    Male   21                  15                      81\n",
              "2           3  Female   20                  16                       6\n",
              "3           4  Female   23                  16                      77\n",
              "4           5  Female   31                  17                      40"
            ],
            "text/html": [
              "<div>\n",
              "<style scoped>\n",
              "    .dataframe tbody tr th:only-of-type {\n",
              "        vertical-align: middle;\n",
              "    }\n",
              "\n",
              "    .dataframe tbody tr th {\n",
              "        vertical-align: top;\n",
              "    }\n",
              "\n",
              "    .dataframe thead th {\n",
              "        text-align: right;\n",
              "    }\n",
              "</style>\n",
              "<table border=\"1\" class=\"dataframe\">\n",
              "  <thead>\n",
              "    <tr style=\"text-align: right;\">\n",
              "      <th></th>\n",
              "      <th>CustomerID</th>\n",
              "      <th>Gender</th>\n",
              "      <th>Age</th>\n",
              "      <th>Annual Income (k$)</th>\n",
              "      <th>Spending Score (1-100)</th>\n",
              "    </tr>\n",
              "  </thead>\n",
              "  <tbody>\n",
              "    <tr>\n",
              "      <th>0</th>\n",
              "      <td>1</td>\n",
              "      <td>Male</td>\n",
              "      <td>19</td>\n",
              "      <td>15</td>\n",
              "      <td>39</td>\n",
              "    </tr>\n",
              "    <tr>\n",
              "      <th>1</th>\n",
              "      <td>2</td>\n",
              "      <td>Male</td>\n",
              "      <td>21</td>\n",
              "      <td>15</td>\n",
              "      <td>81</td>\n",
              "    </tr>\n",
              "    <tr>\n",
              "      <th>2</th>\n",
              "      <td>3</td>\n",
              "      <td>Female</td>\n",
              "      <td>20</td>\n",
              "      <td>16</td>\n",
              "      <td>6</td>\n",
              "    </tr>\n",
              "    <tr>\n",
              "      <th>3</th>\n",
              "      <td>4</td>\n",
              "      <td>Female</td>\n",
              "      <td>23</td>\n",
              "      <td>16</td>\n",
              "      <td>77</td>\n",
              "    </tr>\n",
              "    <tr>\n",
              "      <th>4</th>\n",
              "      <td>5</td>\n",
              "      <td>Female</td>\n",
              "      <td>31</td>\n",
              "      <td>17</td>\n",
              "      <td>40</td>\n",
              "    </tr>\n",
              "  </tbody>\n",
              "</table>\n",
              "</div>"
            ]
          },
          "metadata": {},
          "execution_count": 3
        }
      ]
    },
    {
      "cell_type": "code",
      "source": [
        "dataset.shape"
      ],
      "metadata": {
        "colab": {
          "base_uri": "https://localhost:8080/",
          "height": 0
        },
        "id": "NMMDWn5EnTmp",
        "outputId": "607c3382-8da2-4889-8d66-1a5c50350ee8"
      },
      "execution_count": 4,
      "outputs": [
        {
          "output_type": "execute_result",
          "data": {
            "text/plain": [
              "(200, 5)"
            ]
          },
          "metadata": {},
          "execution_count": 4
        }
      ]
    },
    {
      "cell_type": "code",
      "source": [
        "dataset.describe()"
      ],
      "metadata": {
        "colab": {
          "base_uri": "https://localhost:8080/",
          "height": 300
        },
        "id": "Dkb5jVDanTkh",
        "outputId": "989b237c-a045-47d9-d305-89037714a7bf"
      },
      "execution_count": 5,
      "outputs": [
        {
          "output_type": "execute_result",
          "data": {
            "text/plain": [
              "       CustomerID         Age  Annual Income (k$)  Spending Score (1-100)\n",
              "count  200.000000  200.000000          200.000000              200.000000\n",
              "mean   100.500000   38.850000           60.560000               50.200000\n",
              "std     57.879185   13.969007           26.264721               25.823522\n",
              "min      1.000000   18.000000           15.000000                1.000000\n",
              "25%     50.750000   28.750000           41.500000               34.750000\n",
              "50%    100.500000   36.000000           61.500000               50.000000\n",
              "75%    150.250000   49.000000           78.000000               73.000000\n",
              "max    200.000000   70.000000          137.000000               99.000000"
            ],
            "text/html": [
              "<div>\n",
              "<style scoped>\n",
              "    .dataframe tbody tr th:only-of-type {\n",
              "        vertical-align: middle;\n",
              "    }\n",
              "\n",
              "    .dataframe tbody tr th {\n",
              "        vertical-align: top;\n",
              "    }\n",
              "\n",
              "    .dataframe thead th {\n",
              "        text-align: right;\n",
              "    }\n",
              "</style>\n",
              "<table border=\"1\" class=\"dataframe\">\n",
              "  <thead>\n",
              "    <tr style=\"text-align: right;\">\n",
              "      <th></th>\n",
              "      <th>CustomerID</th>\n",
              "      <th>Age</th>\n",
              "      <th>Annual Income (k$)</th>\n",
              "      <th>Spending Score (1-100)</th>\n",
              "    </tr>\n",
              "  </thead>\n",
              "  <tbody>\n",
              "    <tr>\n",
              "      <th>count</th>\n",
              "      <td>200.000000</td>\n",
              "      <td>200.000000</td>\n",
              "      <td>200.000000</td>\n",
              "      <td>200.000000</td>\n",
              "    </tr>\n",
              "    <tr>\n",
              "      <th>mean</th>\n",
              "      <td>100.500000</td>\n",
              "      <td>38.850000</td>\n",
              "      <td>60.560000</td>\n",
              "      <td>50.200000</td>\n",
              "    </tr>\n",
              "    <tr>\n",
              "      <th>std</th>\n",
              "      <td>57.879185</td>\n",
              "      <td>13.969007</td>\n",
              "      <td>26.264721</td>\n",
              "      <td>25.823522</td>\n",
              "    </tr>\n",
              "    <tr>\n",
              "      <th>min</th>\n",
              "      <td>1.000000</td>\n",
              "      <td>18.000000</td>\n",
              "      <td>15.000000</td>\n",
              "      <td>1.000000</td>\n",
              "    </tr>\n",
              "    <tr>\n",
              "      <th>25%</th>\n",
              "      <td>50.750000</td>\n",
              "      <td>28.750000</td>\n",
              "      <td>41.500000</td>\n",
              "      <td>34.750000</td>\n",
              "    </tr>\n",
              "    <tr>\n",
              "      <th>50%</th>\n",
              "      <td>100.500000</td>\n",
              "      <td>36.000000</td>\n",
              "      <td>61.500000</td>\n",
              "      <td>50.000000</td>\n",
              "    </tr>\n",
              "    <tr>\n",
              "      <th>75%</th>\n",
              "      <td>150.250000</td>\n",
              "      <td>49.000000</td>\n",
              "      <td>78.000000</td>\n",
              "      <td>73.000000</td>\n",
              "    </tr>\n",
              "    <tr>\n",
              "      <th>max</th>\n",
              "      <td>200.000000</td>\n",
              "      <td>70.000000</td>\n",
              "      <td>137.000000</td>\n",
              "      <td>99.000000</td>\n",
              "    </tr>\n",
              "  </tbody>\n",
              "</table>\n",
              "</div>"
            ]
          },
          "metadata": {},
          "execution_count": 5
        }
      ]
    },
    {
      "cell_type": "code",
      "source": [
        "dataset.info()"
      ],
      "metadata": {
        "colab": {
          "base_uri": "https://localhost:8080/",
          "height": 0
        },
        "id": "x_HUG1HEnTib",
        "outputId": "eded7847-6008-4b6f-9f76-1d2f738aa3a9"
      },
      "execution_count": 6,
      "outputs": [
        {
          "output_type": "stream",
          "name": "stdout",
          "text": [
            "<class 'pandas.core.frame.DataFrame'>\n",
            "RangeIndex: 200 entries, 0 to 199\n",
            "Data columns (total 5 columns):\n",
            " #   Column                  Non-Null Count  Dtype \n",
            "---  ------                  --------------  ----- \n",
            " 0   CustomerID              200 non-null    int64 \n",
            " 1   Gender                  200 non-null    object\n",
            " 2   Age                     200 non-null    int64 \n",
            " 3   Annual Income (k$)      200 non-null    int64 \n",
            " 4   Spending Score (1-100)  200 non-null    int64 \n",
            "dtypes: int64(4), object(1)\n",
            "memory usage: 7.9+ KB\n"
          ]
        }
      ]
    },
    {
      "cell_type": "markdown",
      "source": [
        "#### input data"
      ],
      "metadata": {
        "id": "pKyKCG8voB21"
      }
    },
    {
      "cell_type": "code",
      "source": [
        "x = dataset.iloc[ : , [3,4]].values\n",
        "x[:5]"
      ],
      "metadata": {
        "colab": {
          "base_uri": "https://localhost:8080/",
          "height": 0
        },
        "id": "vDKrAAmBn-fV",
        "outputId": "29ce2725-0ce4-4c98-8cd5-bd677eaed7a9"
      },
      "execution_count": 7,
      "outputs": [
        {
          "output_type": "execute_result",
          "data": {
            "text/plain": [
              "array([[15, 39],\n",
              "       [15, 81],\n",
              "       [16,  6],\n",
              "       [16, 77],\n",
              "       [17, 40]], dtype=int64)"
            ]
          },
          "metadata": {},
          "execution_count": 7
        }
      ]
    },
    {
      "cell_type": "markdown",
      "source": [
        "#### dendrogram"
      ],
      "metadata": {
        "id": "dcu-SQG6oXxq"
      }
    },
    {
      "cell_type": "code",
      "source": [
        "import scipy.cluster.hierarchy as sch"
      ],
      "metadata": {
        "id": "NSh1tcMCn-cC"
      },
      "execution_count": 8,
      "outputs": []
    },
    {
      "cell_type": "code",
      "source": [
        "plt.figure(figsize=(18, 7))\n",
        "dendogram = sch.dendrogram(sch.linkage(x, method='ward'))\n",
        "# Plot the hierarchical clustering as a dendrogram\n",
        "plt.title('Dendrogram')\n",
        "plt.xlabel('Customer Score')\n",
        "plt.ylabel('Annual Income')\n",
        "plt.show()"
      ],
      "metadata": {
        "colab": {
          "base_uri": "https://localhost:8080/",
          "height": 579
        },
        "id": "sosPTqt0n-Z5",
        "outputId": "fd6d1917-d158-42fe-8fd4-a727367eccc7"
      },
      "execution_count": 9,
      "outputs": [
        {
          "output_type": "display_data",
          "data": {
            "text/plain": [
              "<Figure size 1800x700 with 1 Axes>"
            ],
            "image/png": "[encoded data removed]"
          },
          "metadata": {}
        }
      ]
    },
    {
      "cell_type": "markdown",
      "source": [
        "#### Modeling\n",
        "- Modeling dataset for hierarchical clustering using AgglomerativeClustering"
      ],
      "metadata": {
        "id": "8g87N0_uqqlB"
      }
    },
    {
      "cell_type": "code",
      "source": [
        "from sklearn.cluster import AgglomerativeClustering"
      ],
      "metadata": {
        "id": "cmuidXtwn-Xh"
      },
      "execution_count": 10,
      "outputs": []
    },
    {
      "cell_type": "code",
      "source": [
        "hc = AgglomerativeClustering(n_clusters=5, metric='euclidean', linkage='ward')\n",
        "# Recursively merges pair of clusters of sample data; uses linkage distance\n",
        "\n",
        "# hc = AgglomerativeClustering(n_clusters=5, affinity='euclidean', linkage='ward')\n",
        "# affinity is deprecated, renamed to metric\n"
      ],
      "metadata": {
        "id": "jC4vZv9In-Va"
      },
      "execution_count": 11,
      "outputs": []
    },
    {
      "cell_type": "markdown",
      "source": [
        "#### Training & Prediction"
      ],
      "metadata": {
        "id": "pDM9pOiMrSgU"
      }
    },
    {
      "cell_type": "code",
      "source": [
        "y_hc = hc.fit_predict(x)\n",
        "y_hc[:5]"
      ],
      "metadata": {
        "colab": {
          "base_uri": "https://localhost:8080/",
          "height": 0
        },
        "id": "sEj6C_6Gn-Qz",
        "outputId": "283acc7d-0a45-46fa-db85-1fe32dc40241"
      },
      "execution_count": 12,
      "outputs": [
        {
          "output_type": "execute_result",
          "data": {
            "text/plain": [
              "array([4, 3, 4, 3, 4], dtype=int64)"
            ]
          },
          "metadata": {},
          "execution_count": 12
        }
      ]
    },
    {
      "cell_type": "code",
      "source": [
        "pd.Series(y_hc).nunique()\n",
        "# count of clusters"
      ],
      "metadata": {
        "colab": {
          "base_uri": "https://localhost:8080/",
          "height": 0
        },
        "id": "hLo0pmH3bTuC",
        "outputId": "33f1d7e9-86c2-40cf-96db-ec515817d684"
      },
      "execution_count": 13,
      "outputs": [
        {
          "output_type": "execute_result",
          "data": {
            "text/plain": [
              "5"
            ]
          },
          "metadata": {},
          "execution_count": 13
        }
      ]
    },
    {
      "cell_type": "markdown",
      "source": [
        "#### Visualize the cluster"
      ],
      "metadata": {
        "id": "BwWwJEqXrqkb"
      }
    },
    {
      "cell_type": "code",
      "source": [
        "plt.scatter(x[y_hc==0, 0], x[y_hc==0, 1], s=50, c='red')\n",
        "plt.scatter(x[y_hc==1, 0], x[y_hc==1, 1], s=50, c='blue')\n",
        "plt.scatter(x[y_hc==2, 0], x[y_hc==2, 1], s=50, c='green')\n",
        "plt.scatter(x[y_hc==3, 0], x[y_hc==3, 1], s=50, c='cyan')\n",
        "plt.scatter(x[y_hc==4, 0], x[y_hc==4, 1], s=50, c='yellow')\n",
        "# plt.scatter(x[y_hc==5, 0], x[y_hc==5, 1], s=50, c='brown')\n",
        "plt.title('Agglomerative Clustering')\n",
        "plt.xlabel('Customer Score')\n",
        "plt.ylabel('Customer Annual Income')\n",
        "plt.show()"
      ],
      "metadata": {
        "colab": {
          "base_uri": "https://localhost:8080/",
          "height": 472
        },
        "id": "klB3flSPn-Ot",
        "outputId": "89e95882-5713-4677-bbd9-97d027261233"
      },
      "execution_count": 14,
      "outputs": [
        {
          "output_type": "display_data",
          "data": {
            "text/plain": [
              "<Figure size 640x480 with 1 Axes>"
            ],
            "image/png": "[encoded data removed]"
          },
          "metadata": {}
        }
      ]
    },
    {
      "cell_type": "markdown",
      "source": [
        "## Partitional Algorithms\n",
        "- construct various partitions and evaluate them by some criterion\n",
        "    - K-Means Algorithm\n",
        "    - DB scan Algorithm"
      ],
      "metadata": {
        "id": "YXb-nBIDCvrf"
      }
    },
    {
      "cell_type": "markdown",
      "source": [
        "### K-Means Algorithm\n",
        "- unsupervised, iterative, clustering (Partitional) algorithm which groups unlabeled dataset into clusters which have similar properites\n",
        "- method of grouping ```n``` observations in to ```k``` clusters\n",
        "- uses vector quantization,  and assigns each data point to earest mean/centroid\n",
        "- sensitive to outliers, need to identify and handle outliers before applying K-Means clustering\n",
        "- Goal\n",
        "    -  to minimize the sum of squared distances between the data points and their corresponding cluster centroids resulting in clusters that are internally homogeneous and distinct from each other\n",
        "    - to optimize the centroids by repetitive re-clustering until convergence, resulting in optimal clustering solution\n",
        "- centroid based algorithm where each cluster is associated with its centroid\n",
        "- ```k```\n",
        "    - represents the number of clusters we want to classify the items into\n",
        "    - value of ```k``` needs to be pre-determined\n",
        "- ```means```\n",
        "    - refers to the averaging of the data , i.e. finding the centroid\n",
        "- ```centroid```\n",
        "    - imaginary or real location representing the center of the cluster\n",
        "- It has two tasks\n",
        "    - determines the best value of ```k``` center points or centroids by an iterative process\n",
        "    - assigns each data point to its closest k-center/centroid , and the data points near to a particular centroid creates a cluster"
      ],
      "metadata": {
        "id": "mWRuaIJPvOeD"
      }
    },
    {
      "cell_type": "markdown",
      "source": [
        "#### Properties of Clustering\n",
        "1. Property I\n",
        "    - all the data points in a cluster should be similar to each other\n",
        "2. Property I\n",
        "    - data points from different clusters should be as different as possible\n",
        "- Hence, data points from different clusters should be as different from each other as possible to have more meaningful clusters"
      ],
      "metadata": {
        "id": "8MJhzIDBZDJt"
      }
    },
    {
      "cell_type": "markdown",
      "source": [
        "#### Evaluation Metrics for clustering\n",
        "1. Inertia\n",
        "    - tells us how far the points within a cluster are\n",
        "    - Value of Inertia should be as low as possible\n",
        "    - calculates the sum of distances of all points within a cluster from the centroid of that cluster\n",
        "    - to calculate distance,\n",
        "        - use ```Euclidean Distance``` as long as most features are ```Numerical```\n",
        "        - use ```Manhattan Distance```, in case most of the features are ```Categorical```\n",
        "    - covers only Property I of Clustering, but does not cover Property II\n",
        "    \n",
        "    - But, we can't say that lower inertia value means better clustering\n",
        "2. Dunn Index\n",
        "    - ratio of minimum of inter-cluster distance  and maximum of intra-cluster distances\n",
        "    - ```Dunn Index``` = ```min(Inter-Cluster Distance) / max(Intra-Cluster Distance)```\n",
        "    - more the value of Dunn index, better the clusters will be\n",
        "    - to maximize Dunn index\n",
        "        - inter-cluster distance should be maximum, means clusters should be as far as possible\n",
        "        - intra-cluster distance should be minimum, means data points with a cluster should be closer\n",
        "    - covers both properties of clustering\n",
        "    - makes sure data points are closer to each other (Property I) as well as data points are different from each other\n",
        "    - takes in account distances\n",
        "        - between centroid and data points(intra cluster distance)\n",
        "        - between two clusters (inter-cluster distance)\n",
        "3. Silhouette Score\n",
        "    - Silhouette Score and plot are used to evaluate the quality of a clustering solution produced by the K-Means Algorithm\n",
        "    - measures the similarity of each point to its own cluster as compared to other clusters\n",
        "    - higher silhouette score indicates well separated clusters, and each data point has more similarity within its cluster\n",
        "    - silhouette score of\n",
        "        - ```zero``` means overlapping\n",
        "        - ```negative``` means poor clustering"
      ],
      "metadata": {
        "id": "ITTPZ-TZYItd"
      }
    },
    {
      "cell_type": "markdown",
      "source": [
        "#### Algorithm for K-Means\n",
        "1. Choose the number of clusters ```k```\n",
        "2. Select ```k``` random points from the data as centroids\n",
        "3. Assign all points to the nearest cluster centroid\n",
        "4. Recompute the centroids of newly formed clusters\n",
        "5. Repeat Step 3 and Step 4\n",
        "6. Stopping Criteria for k-Means CLustering\n",
        "    - Centroids of newly formed clusters do not change\n",
        "        - centroids are not changing even after multiple iterations, means that model is not learning any new pattern\n",
        "    - Points remain in the same cluster\n",
        "        - Points remain in the same cluster even after training model for multiple iterations\n",
        "    - Maximum number of iterations is reached (```default max_iter = 300```)\n",
        "        - process of assigning nearest cluster centroid and recomputing centroids of newly formed clusters will repeat for set number of iterations\n",
        "    \n",
        "    "
      ],
      "metadata": {
        "id": "RSFM2NutosVu"
      }
    },
    {
      "cell_type": "markdown",
      "source": [
        "#### Challanges with K-Means Algorithm\n",
        "1. Size of clusters is different\n",
        "    - clusters might be of different shapes\n",
        "2. Densities of original points is different\n",
        "    - if there is one cluster which is loosly packed / spread out (is less dense) and other clusters are closely packed / compact (are dense), then upon re-clustering, closely packed clusters are assigned into a single cluster , but loosly packed clusters are are assigned into different clusters\n",
        "3. Larger the dataset, more the computation cost\n",
        "#### Solution to Challanges\n",
        "1. Use a higher number of clusters\n",
        "    - increasing the number of clusters might lead to more meaningful clusters\n",
        "    - ```K-Means++```\n",
        "        - we can use K-Means++ algorithm to choose the initial values or the initial cluster centroids at initialization using sampling based on empirical probability distribution of points' contribution to the overall inertia\n",
        "        - this technique speeds up cnvergence\n",
        "        - it is implemented by ```Greedy K-Means++```\n",
        "2. Determining the optimal number of clusters for k-Means clustering can be another challange\n",
        "    - it heavily relies on the subjective interpretations and the underlying structure of data\n",
        "    - ```Elbow Method```\n",
        "        - method to find the optimal number of clusters\n",
        "        - plots the sum of squared Euclideandistances between data points and their cluster center and chooses the number of clusters where the change in the sum of squared distances begin to level off\n",
        "        - uses the concept of ```WCSS (Within Cluster Sum of Squares)```, which defines the total variations within a cluster\n",
        "        - to measure the distance between data points and centroid, we can use euclidean distance or manhattan distance\n",
        "3. Outliers can have a significant impact on the results\n",
        "    - need to identify and handle outliers before applying K-Means clustering to ensure that the results are meaningful and not skewed by the presence of outliers\n",
        "    - methods to Handle ```Outliers```\n",
        "        - removing outliers\n",
        "        - transforming outliers\n",
        "        - using a robust variant of K-Means clustering that is less sensitive to the presence of outliers\n",
        "4. As the size of datasets increases, computational cost of K-Means clustering can also increase\n",
        "    - consider ```alternative algorithms``` while working with huge datasets"
      ],
      "metadata": {
        "id": "2A-2ba0ycmR1"
      }
    },
    {
      "cell_type": "markdown",
      "source": [
        "#### K-Means++\n",
        "- in some cases, if initilization of clusters is is not appropriate, K-Means can result in arbitrarily bad clusters\n",
        "- K-Means++ specifies a procedure to initialize the cluster centers before moving forward with the standard k-Means clustering algorithm\n",
        "- we can use K-Means++ algorithm to choose the initial values or the initial cluster centroids at initialization using sampling based on empirical probability distribution of points' contribution to the overall inertia\n",
        "- this technique speeds up cnvergence\n",
        "- it is implemented by ```Greedy K-Means++```\n",
        "- Steps to initialize centroids using K-Means++\n",
        "   1. first cluster is chosen uniformly at random from the data points we want to cluster, which is similar to what we do in K-Means, but instead of randomly picking all the centroids, we just pick one centroid here\n",
        "   2. compute the distance ```(D(x))``` of each point from the cluster center that has already been chosen\n",
        "   3. choose the cluster center from the data points with the probability of ```x``` being proportional to ```(D(x))^2```\n",
        "   4. repeat setp 2 and step 3 until ```k``` clusters have been chosen"
      ],
      "metadata": {
        "id": "FNiqUnCjm4MX"
      }
    },
    {
      "cell_type": "markdown",
      "source": [
        "#### import libs"
      ],
      "metadata": {
        "id": "H66AvshvveaW"
      }
    },
    {
      "cell_type": "code",
      "source": [
        "import numpy as np\n",
        "import pandas as pd\n",
        "import matplotlib.pyplot as plt\n",
        "import seaborn as sns"
      ],
      "metadata": {
        "id": "RrAFV3itn-MV"
      },
      "execution_count": 15,
      "outputs": []
    },
    {
      "cell_type": "markdown",
      "source": [
        "#### import dataset"
      ],
      "metadata": {
        "id": "IplMSZgTvgFQ"
      }
    },
    {
      "cell_type": "code",
      "source": [
        "# from google.colab import files\n",
        "# uploaded = files.upload()\n",
        "# D14data1.csv\n",
        "\n",
        "import os\n",
        "os.chdir(r'C:\\Users\\surya\\Downloads\\PG-DBDA-Mar23\\Datasets')\n",
        "os.getcwd()"
      ],
      "metadata": {
        "colab": {
          "base_uri": "https://localhost:8080/",
          "height": 0
        },
        "id": "WJiGrqAZn-KP",
        "outputId": "4fbfe67a-7467-435d-fc1e-bb7426a5199e"
      },
      "execution_count": 16,
      "outputs": [
        {
          "output_type": "execute_result",
          "data": {
            "text/plain": [
              "'C:\\\\Users\\\\surya\\\\Downloads\\\\PG-DBDA-Mar23\\\\Datasets'"
            ]
          },
          "metadata": {},
          "execution_count": 16
        }
      ]
    },
    {
      "cell_type": "code",
      "source": [
        "dataset = pd.read_csv('D14data1.csv')\n",
        "dataset.head()"
      ],
      "metadata": {
        "colab": {
          "base_uri": "https://localhost:8080/",
          "height": 206
        },
        "id": "h2yylBXAn-Hl",
        "outputId": "44f73e1f-9625-4339-9d8b-7546fd6ea616"
      },
      "execution_count": 17,
      "outputs": [
        {
          "output_type": "execute_result",
          "data": {
            "text/plain": [
              "   CustomerID  Gender  Age  Annual Income (k$)  Spending Score (1-100)\n",
              "0           1    Male   19                  15                      39\n",
              "1           2    Male   21                  15                      81\n",
              "2           3  Female   20                  16                       6\n",
              "3           4  Female   23                  16                      77\n",
              "4           5  Female   31                  17                      40"
            ],
            "text/html": [
              "<div>\n",
              "<style scoped>\n",
              "    .dataframe tbody tr th:only-of-type {\n",
              "        vertical-align: middle;\n",
              "    }\n",
              "\n",
              "    .dataframe tbody tr th {\n",
              "        vertical-align: top;\n",
              "    }\n",
              "\n",
              "    .dataframe thead th {\n",
              "        text-align: right;\n",
              "    }\n",
              "</style>\n",
              "<table border=\"1\" class=\"dataframe\">\n",
              "  <thead>\n",
              "    <tr style=\"text-align: right;\">\n",
              "      <th></th>\n",
              "      <th>CustomerID</th>\n",
              "      <th>Gender</th>\n",
              "      <th>Age</th>\n",
              "      <th>Annual Income (k$)</th>\n",
              "      <th>Spending Score (1-100)</th>\n",
              "    </tr>\n",
              "  </thead>\n",
              "  <tbody>\n",
              "    <tr>\n",
              "      <th>0</th>\n",
              "      <td>1</td>\n",
              "      <td>Male</td>\n",
              "      <td>19</td>\n",
              "      <td>15</td>\n",
              "      <td>39</td>\n",
              "    </tr>\n",
              "    <tr>\n",
              "      <th>1</th>\n",
              "      <td>2</td>\n",
              "      <td>Male</td>\n",
              "      <td>21</td>\n",
              "      <td>15</td>\n",
              "      <td>81</td>\n",
              "    </tr>\n",
              "    <tr>\n",
              "      <th>2</th>\n",
              "      <td>3</td>\n",
              "      <td>Female</td>\n",
              "      <td>20</td>\n",
              "      <td>16</td>\n",
              "      <td>6</td>\n",
              "    </tr>\n",
              "    <tr>\n",
              "      <th>3</th>\n",
              "      <td>4</td>\n",
              "      <td>Female</td>\n",
              "      <td>23</td>\n",
              "      <td>16</td>\n",
              "      <td>77</td>\n",
              "    </tr>\n",
              "    <tr>\n",
              "      <th>4</th>\n",
              "      <td>5</td>\n",
              "      <td>Female</td>\n",
              "      <td>31</td>\n",
              "      <td>17</td>\n",
              "      <td>40</td>\n",
              "    </tr>\n",
              "  </tbody>\n",
              "</table>\n",
              "</div>"
            ]
          },
          "metadata": {},
          "execution_count": 17
        }
      ]
    },
    {
      "cell_type": "markdown",
      "source": [
        "#### input dataset"
      ],
      "metadata": {
        "id": "ljSBREcBvkYE"
      }
    },
    {
      "cell_type": "code",
      "source": [
        "x = dataset.iloc[ : , [3, 4]].values\n",
        "x[:5]"
      ],
      "metadata": {
        "colab": {
          "base_uri": "https://localhost:8080/",
          "height": 0
        },
        "id": "IrU33Nh6vjhG",
        "outputId": "c9db2a2f-f2b5-4913-973a-6016e3046f55"
      },
      "execution_count": 18,
      "outputs": [
        {
          "output_type": "execute_result",
          "data": {
            "text/plain": [
              "array([[15, 39],\n",
              "       [15, 81],\n",
              "       [16,  6],\n",
              "       [16, 77],\n",
              "       [17, 40]], dtype=int64)"
            ]
          },
          "metadata": {},
          "execution_count": 18
        }
      ]
    },
    {
      "cell_type": "markdown",
      "source": [
        "#### Elbow Method\n",
        "- most popular way to find the optimal number of clusters\n",
        "- uses the concept of ```WCSS (Within Cluster Sum of Squares)```, which defines the total variations within a cluster\n",
        "- plots agraph called ```Elbow Curve```, where ```x-axis``` is ```number of clusters``` and ```y-axis``` is ```evaluation metric (inertia or Dunn Index)```\n",
        "- to measure the distance between data points and centroid, we can use euclidean distance or manhattan distance\n",
        "- elbow method follows following steps\n",
        "    - executes K-Measns clustering on a given data set for different ```k``` values (ranges 1-10)\n",
        "    - for each value of ```k```, calculate the ```WCSS``` value\n",
        "    - plot a curve between ```WCSS``` value and the number of clusters ```k```\n",
        "    - sharp point of bend or a point of plot that looks like elbow of arm is the best value of ```k``` for K-Means\n",
        "- Maximum Possible number of clusters is the number of observations in the dataset"
      ],
      "metadata": {
        "id": "iAsq5tEb0XJ5"
      }
    },
    {
      "cell_type": "code",
      "source": [
        "from sklearn.cluster import KMeans"
      ],
      "metadata": {
        "id": "Sc_fbIs8vjeQ"
      },
      "execution_count": 19,
      "outputs": []
    },
    {
      "cell_type": "code",
      "source": [
        "wcss = []\n",
        "for i in range(1, 11):\n",
        "    kmeans = KMeans(n_clusters=i, init='k-means++', random_state=0)\n",
        "    # K-Means clustering for finding WCSS\n",
        "    kmeans.fit(x)\n",
        "    wcss.append(kmeans.inertia_)\n",
        "plt.plot(range(1, 11), wcss)\n",
        "plt.xlabel(\"Number of clusters (k)\")\n",
        "plt.ylabel(\"wcss_list\")\n",
        "# forms elbow curve, indicating it is K-Means algorithm\n",
        "# optimal number of clusters is 5  as curve forms elbow at value 5 number of clusters"
      ],
      "metadata": {
        "colab": {
          "base_uri": "https://localhost:8080/",
          "height": 853
        },
        "id": "bcD6_KzDvjba",
        "outputId": "9ce0fdd5-c39c-43d8-baed-b85570c886dc"
      },
      "execution_count": 20,
      "outputs": [
        {
          "output_type": "stream",
          "name": "stderr",
          "text": [
            "c:\\users\\surya\\appdata\\local\\programs\\python\\python39\\lib\\site-packages\\sklearn\\cluster\\_kmeans.py:1412: FutureWarning: The default value of `n_init` will change from 10 to 'auto' in 1.4. Set the value of `n_init` explicitly to suppress the warning\n",
            "  super()._check_params_vs_input(X, default_n_init=10)\n",
            "c:\\users\\surya\\appdata\\local\\programs\\python\\python39\\lib\\site-packages\\sklearn\\cluster\\_kmeans.py:1412: FutureWarning: The default value of `n_init` will change from 10 to 'auto' in 1.4. Set the value of `n_init` explicitly to suppress the warning\n",
            "  super()._check_params_vs_input(X, default_n_init=10)\n",
            "c:\\users\\surya\\appdata\\local\\programs\\python\\python39\\lib\\site-packages\\sklearn\\cluster\\_kmeans.py:1412: FutureWarning: The default value of `n_init` will change from 10 to 'auto' in 1.4. Set the value of `n_init` explicitly to suppress the warning\n",
            "  super()._check_params_vs_input(X, default_n_init=10)\n",
            "c:\\users\\surya\\appdata\\local\\programs\\python\\python39\\lib\\site-packages\\sklearn\\cluster\\_kmeans.py:1412: FutureWarning: The default value of `n_init` will change from 10 to 'auto' in 1.4. Set the value of `n_init` explicitly to suppress the warning\n",
            "  super()._check_params_vs_input(X, default_n_init=10)\n",
            "c:\\users\\surya\\appdata\\local\\programs\\python\\python39\\lib\\site-packages\\sklearn\\cluster\\_kmeans.py:1412: FutureWarning: The default value of `n_init` will change from 10 to 'auto' in 1.4. Set the value of `n_init` explicitly to suppress the warning\n",
            "  super()._check_params_vs_input(X, default_n_init=10)\n",
            "c:\\users\\surya\\appdata\\local\\programs\\python\\python39\\lib\\site-packages\\sklearn\\cluster\\_kmeans.py:1412: FutureWarning: The default value of `n_init` will change from 10 to 'auto' in 1.4. Set the value of `n_init` explicitly to suppress the warning\n",
            "  super()._check_params_vs_input(X, default_n_init=10)\n",
            "c:\\users\\surya\\appdata\\local\\programs\\python\\python39\\lib\\site-packages\\sklearn\\cluster\\_kmeans.py:1412: FutureWarning: The default value of `n_init` will change from 10 to 'auto' in 1.4. Set the value of `n_init` explicitly to suppress the warning\n",
            "  super()._check_params_vs_input(X, default_n_init=10)\n",
            "c:\\users\\surya\\appdata\\local\\programs\\python\\python39\\lib\\site-packages\\sklearn\\cluster\\_kmeans.py:1412: FutureWarning: The default value of `n_init` will change from 10 to 'auto' in 1.4. Set the value of `n_init` explicitly to suppress the warning\n",
            "  super()._check_params_vs_input(X, default_n_init=10)\n",
            "c:\\users\\surya\\appdata\\local\\programs\\python\\python39\\lib\\site-packages\\sklearn\\cluster\\_kmeans.py:1412: FutureWarning: The default value of `n_init` will change from 10 to 'auto' in 1.4. Set the value of `n_init` explicitly to suppress the warning\n",
            "  super()._check_params_vs_input(X, default_n_init=10)\n",
            "c:\\users\\surya\\appdata\\local\\programs\\python\\python39\\lib\\site-packages\\sklearn\\cluster\\_kmeans.py:1412: FutureWarning: The default value of `n_init` will change from 10 to 'auto' in 1.4. Set the value of `n_init` explicitly to suppress the warning\n",
            "  super()._check_params_vs_input(X, default_n_init=10)\n"
          ]
        },
        {
          "output_type": "execute_result",
          "data": {
            "text/plain": [
              "Text(0, 0.5, 'wcss_list')"
            ]
          },
          "metadata": {},
          "execution_count": 20
        },
        {
          "output_type": "display_data",
          "data": {
            "text/plain": [
              "<Figure size 640x480 with 1 Axes>"
            ],
            "image/png": "[encoded data removed]"
          },
          "metadata": {}
        }
      ]
    },
    {
      "cell_type": "code",
      "source": [
        "wcss\n",
        "# count of clusters"
      ],
      "metadata": {
        "colab": {
          "base_uri": "https://localhost:8080/",
          "height": 0
        },
        "id": "aJ17qxCXkBqI",
        "outputId": "7ea2a394-65de-4d74-fb3d-fa733cac1063"
      },
      "execution_count": 21,
      "outputs": [
        {
          "output_type": "execute_result",
          "data": {
            "text/plain": [
              "[269981.28,\n",
              " 181363.595959596,\n",
              " 106348.37306211119,\n",
              " 73679.78903948836,\n",
              " 44448.45544793371,\n",
              " 37265.86520484347,\n",
              " 30259.65720728547,\n",
              " 25050.83230754752,\n",
              " 21862.092672182887,\n",
              " 19657.783608703958]"
            ]
          },
          "metadata": {},
          "execution_count": 21
        }
      ]
    },
    {
      "cell_type": "markdown",
      "source": [
        "#### Modeling"
      ],
      "metadata": {
        "id": "3dnSXto_k4ya"
      }
    },
    {
      "cell_type": "code",
      "source": [
        "from sklearn.cluster import KMeans"
      ],
      "metadata": {
        "id": "JLdem06XYtHs"
      },
      "execution_count": 22,
      "outputs": []
    },
    {
      "cell_type": "code",
      "source": [
        "kmeans = KMeans(n_clusters=5, init='k-means++', random_state=0)\n",
        "# K-Means clustering for actual clustering"
      ],
      "metadata": {
        "id": "K8IGLzDE0ReN"
      },
      "execution_count": 23,
      "outputs": []
    },
    {
      "cell_type": "markdown",
      "source": [
        "#### Training & Prediction"
      ],
      "metadata": {
        "id": "e2Fp33bJ0CIR"
      }
    },
    {
      "cell_type": "code",
      "source": [
        "y_kmeans = kmeans.fit_predict(x)\n",
        "y_kmeans[:5]"
      ],
      "metadata": {
        "colab": {
          "base_uri": "https://localhost:8080/",
          "height": 0
        },
        "id": "KG1dZfKsvjYW",
        "outputId": "87a6d14f-1c20-403c-ff93-56405d63223e"
      },
      "execution_count": 24,
      "outputs": [
        {
          "output_type": "stream",
          "name": "stderr",
          "text": [
            "c:\\users\\surya\\appdata\\local\\programs\\python\\python39\\lib\\site-packages\\sklearn\\cluster\\_kmeans.py:1412: FutureWarning: The default value of `n_init` will change from 10 to 'auto' in 1.4. Set the value of `n_init` explicitly to suppress the warning\n",
            "  super()._check_params_vs_input(X, default_n_init=10)\n"
          ]
        },
        {
          "output_type": "execute_result",
          "data": {
            "text/plain": [
              "array([3, 4, 3, 4, 3])"
            ]
          },
          "metadata": {},
          "execution_count": 24
        }
      ]
    },
    {
      "cell_type": "code",
      "source": [
        "pd.Series(y_kmeans).nunique()\n",
        "# count of clusters"
      ],
      "metadata": {
        "colab": {
          "base_uri": "https://localhost:8080/",
          "height": 0
        },
        "id": "B5q69MYrj1EA",
        "outputId": "c949991d-27cb-4146-a24e-58ad4967dbe2"
      },
      "execution_count": 25,
      "outputs": [
        {
          "output_type": "execute_result",
          "data": {
            "text/plain": [
              "5"
            ]
          },
          "metadata": {},
          "execution_count": 25
        }
      ]
    },
    {
      "cell_type": "markdown",
      "source": [
        "#### Evaluation"
      ],
      "metadata": {
        "id": "08E43u29f1Rc"
      }
    },
    {
      "cell_type": "markdown",
      "source": [
        "##### Intertia"
      ],
      "metadata": {
        "id": "EHT9mWQuf4gL"
      }
    },
    {
      "cell_type": "code",
      "source": [
        "kmeans.inertia_"
      ],
      "metadata": {
        "colab": {
          "base_uri": "https://localhost:8080/",
          "height": 0
        },
        "id": "AJVDgA3Qf6rq",
        "outputId": "c518ce91-5c76-407c-c566-685601b540e0"
      },
      "execution_count": 26,
      "outputs": [
        {
          "output_type": "execute_result",
          "data": {
            "text/plain": [
              "44448.45544793371"
            ]
          },
          "metadata": {},
          "execution_count": 26
        }
      ]
    },
    {
      "cell_type": "markdown",
      "source": [
        "#### Visualize the cluster"
      ],
      "metadata": {
        "id": "DK1g3VvI0ah8"
      }
    },
    {
      "cell_type": "code",
      "source": [
        "plt.scatter(x[y_kmeans==0, 0], x[y_kmeans==0, 1], s=50, c='red', label='C1')\n",
        "plt.scatter(x[y_kmeans==1, 0], x[y_kmeans==1, 1], s=50, c='blue', label='C2')\n",
        "plt.scatter(x[y_kmeans==2, 0], x[y_kmeans==2, 1], s=50, c='green', label='C3')\n",
        "plt.scatter(x[y_kmeans==3, 0], x[y_kmeans==3, 1], s=50, c='cyan', label='C4')\n",
        "plt.scatter(x[y_kmeans==4, 0], x[y_kmeans==4, 1], s=50, c='yellow', label='C5')\n",
        "# plt.scatter(x[y_hc==5, 0], x[y_hc==5, 1], s=50, c='brown')\n",
        "plt.title('K-Means Clustering')\n",
        "plt.xlabel('Annual Income (k$)')\n",
        "plt.ylabel('Spending Score (1-100)')\n",
        "plt.legend()\n",
        "plt.show()"
      ],
      "metadata": {
        "colab": {
          "base_uri": "https://localhost:8080/",
          "height": 472
        },
        "id": "HHWnVjP8vjVh",
        "outputId": "6f0c94b2-4e75-44d3-8a5c-f788802da299"
      },
      "execution_count": 27,
      "outputs": [
        {
          "output_type": "display_data",
          "data": {
            "text/plain": [
              "<Figure size 640x480 with 1 Axes>"
            ],
            "image/png": "[encoded data removed]"
          },
          "metadata": {}
        }
      ]
    },
    {
      "cell_type": "markdown",
      "source": [
        "### DB Scan Algorithm"
      ],
      "metadata": {
        "id": "BhA-LzAZdMao"
      }
    },
    {
      "cell_type": "markdown",
      "source": [
        "- DB Scan : ```Density Based Spatial Clustering of Appications with Noise```\n",
        "- proposed by Martin Ester et al in 1996\n",
        "- It assumes that the cluster are dense regions in space separated by regions of lower density\n",
        "- DB Scan is a density-based unsupervised clustering algorithm\n",
        "- Clusters\n",
        "    - no need to specify the number of clusters\n",
        "    - clusters formed can be of any arbitrary shape\n",
        "    - It can work well with datasets having noise or outliers\n",
        "- Density\n",
        "    - Density = number of points within a specified radius (```eps```)\n",
        "    - density is the decision making criteria for creating clusters\n",
        "    - locates regions with high density that are separated from one another by regions of low density\n",
        "    - in density based clustering, clusters are dense regions in the data space , separated by regions of lower object density\n",
        "\n",
        "\n",
        "- ```High-Density```\n",
        "    - ```ϵ-Neighborhood``` of an object contains atleast ```MinPts``` of objects\n",
        "- AnalyticsVidya | [How Does DBSCAN Clustering Work? | DBSCAN Clustering for ML](https://www.analyticsvidhya.com/blog/2020/09/how-dbscan-clustering-works/)\n"
      ],
      "metadata": {
        "id": "yXuuCiD3AFO0"
      }
    },
    {
      "cell_type": "markdown",
      "source": [
        "#### Hyperparameters of DB Scan\n",
        "- Two HyperParameters required for DB Scan are\n",
        "    1. Epsilon (```eps``` or ```ϵ```)\n",
        "        - ```eps``` or ```ϵ``` defines the neighborhood around a data point\n",
        "        - if the distance between two points is lower or equal to ```eps``` then they are neighbors\n",
        "        - if ```eps``` is too small, then a large part of data will be considered outlier\n",
        "        - if ```eps``` is too large, then the clusters will emerge and the majority of the data points will be the same clusters\n",
        "        - one way to find the value of ```eps``` is based on k-distance graph\n",
        "        - in general,small value of ```eps``` are preferred\n",
        "    2. Minimum Points (```MinPts```)\n",
        "        - mininmum number of neigbors within ```eps``` radius\n",
        "        - larger the dataset, larger the value of ```MinPts``` must be chosen\n",
        "        - the minimum value of ```MinPts``` must be chosen at least 3, larger is better\n",
        "        - ```MinPts``` being 1 does not make any sense, as then every point on its own will already be a cluster\n",
        "        - As a general rule, minimum ```MinPts``` can be derived from the number of Dimensions ```D``` in the dataset as ```MinPts >= D =1```"
      ],
      "metadata": {
        "id": "XC4gXseIFnFT"
      }
    },
    {
      "cell_type": "markdown",
      "source": [
        "#### Types of Data points\n",
        "- It can have three types of data points\n",
        "    1. ```Core Point```\n",
        "        - these are the points that are in the interior of a cluster\n",
        "        - a point is a core point if it has more than specified number of points (```MinPts```) within ```eps```\n",
        "        - Any two core points are close enough within a distance ```eps``` of another, are put in the same cluster\n",
        "    2.  ```Border Point```\n",
        "        - a border point has fewer ```MinPts``` with ```eps``` , but is in the neigborhood of a core point\n",
        "        - Any border point that is close enough to a core point is put in the same cluster as the core point\n",
        "    3. ```Noise Point``` or ```Outlier```\n",
        "        - A point which is not  a core point or border point\n",
        "        - Noise Points are discarded\n",
        "- ```ϵ Neighborhood```\n",
        "    - objects within a radius of ```ϵ``` from an object (epsilon-neighborhood)\n",
        "- ```Core Objects```\n",
        "    - ϵ-Neighborhood of an object contains atleast ```MinPts``` of objects"
      ],
      "metadata": {
        "id": "Ot61MIoDCdxz"
      }
    },
    {
      "cell_type": "markdown",
      "source": [
        "#### Reachability and Connectivity\n",
        "- ```Reachability```\n",
        "    - states if a data point can be accessed from another data points directly or indirectly\n",
        "- ```Connectivity```\n",
        "    - states that whether two data points belong to the same cluster or not\n",
        "-  Two points ```X``` & ```Y``` can be referred in DB Scan as\n",
        "    - ```Directly Density-Reachable```\n",
        "        - Directly Density-Reachable is ```not-symmetrical```\n",
        "        - point ```X``` is directly reachable from point ```Y```  w.r.t. ```eps``` and ```MinPts``` if\n",
        "            - ```X``` belongs to the neighborhood of ```Y```, i.e. ```dist(X, Y)<=ϵ```\n",
        "            - ```Y``` is a core point\n",
        "        - here, ```X``` is directly density-reachable from ```Y```, but vice-versa is not valid\n",
        "    - ```Density-Reachable```\n",
        "        - Density-Reachable is ```not-symmetrical```\n",
        "        - a point ```X``` is density-reachable from point ```Y``` w.r.t. ```eps``` and ```MinPts``` if\n",
        "            - there is a chain of points ```p1, p2, p3, ..., pn``` and ```p1```=```X``` and ```pn```=```Y```, such that ```pi+1``` is directly density-reachable from ```pi```\n",
        "        - Here, ```X``` is density-reachable from ```Y```, but the inverse of this is not valid\n",
        "    - ```Density Connected```\n",
        "        - not good enough to describe clusters\n",
        "        - Density-Connectivity is ```symmetric```\n",
        "        -  a point ```X``` is density-connected from point ```Y``` w.r.t. ```eps``` and ```MinPts```, if\n",
        "            - there exists a point ```O``` such that both ```X``` & ```Y``` are density reachable from ```O``` w.r.t. ```eps``` and ```MinPts```\n",
        "        - a pair of points ```X``` and ```Y``` are density connected, if they are commonly density-reachable from a point ```O```"
      ],
      "metadata": {
        "id": "lv2SBdo2ACM8"
      }
    },
    {
      "cell_type": "markdown",
      "source": [
        "#### import libs"
      ],
      "metadata": {
        "id": "daybBmtidRYk"
      }
    },
    {
      "cell_type": "code",
      "source": [
        "import numpy as np\n",
        "import pandas as pd\n",
        "import matplotlib.pyplot as plt\n",
        "import seaborn as sns"
      ],
      "metadata": {
        "id": "cnc3iXYNdSdh"
      },
      "execution_count": 28,
      "outputs": []
    },
    {
      "cell_type": "markdown",
      "source": [
        "#### import dataset"
      ],
      "metadata": {
        "id": "6MQv3q6ydWJf"
      }
    },
    {
      "cell_type": "code",
      "source": [
        "# from google.colab import files\n",
        "# uploaded = files.upload()\n",
        "# D14data1.csv\n",
        "\n",
        "import os\n",
        "os.chdir(r'C:\\Users\\surya\\Downloads\\PG-DBDA-Mar23\\Datasets')\n",
        "os.getcwd()"
      ],
      "metadata": {
        "colab": {
          "base_uri": "https://localhost:8080/",
          "height": 0
        },
        "id": "Uq3riRfMdSae",
        "outputId": "17a2b1bc-49fc-487d-deea-286df42dfb5e"
      },
      "execution_count": 29,
      "outputs": [
        {
          "output_type": "execute_result",
          "data": {
            "text/plain": [
              "'C:\\\\Users\\\\surya\\\\Downloads\\\\PG-DBDA-Mar23\\\\Datasets'"
            ]
          },
          "metadata": {},
          "execution_count": 29
        }
      ]
    },
    {
      "cell_type": "code",
      "source": [
        "dataset = pd.read_csv('D14data1.csv')\n",
        "dataset.head()"
      ],
      "metadata": {
        "colab": {
          "base_uri": "https://localhost:8080/",
          "height": 206
        },
        "id": "pzUuzfUSdSVA",
        "outputId": "458bb0c9-e9c2-45a6-ff72-8983959c5ff2"
      },
      "execution_count": 30,
      "outputs": [
        {
          "output_type": "execute_result",
          "data": {
            "text/plain": [
              "   CustomerID  Gender  Age  Annual Income (k$)  Spending Score (1-100)\n",
              "0           1    Male   19                  15                      39\n",
              "1           2    Male   21                  15                      81\n",
              "2           3  Female   20                  16                       6\n",
              "3           4  Female   23                  16                      77\n",
              "4           5  Female   31                  17                      40"
            ],
            "text/html": [
              "<div>\n",
              "<style scoped>\n",
              "    .dataframe tbody tr th:only-of-type {\n",
              "        vertical-align: middle;\n",
              "    }\n",
              "\n",
              "    .dataframe tbody tr th {\n",
              "        vertical-align: top;\n",
              "    }\n",
              "\n",
              "    .dataframe thead th {\n",
              "        text-align: right;\n",
              "    }\n",
              "</style>\n",
              "<table border=\"1\" class=\"dataframe\">\n",
              "  <thead>\n",
              "    <tr style=\"text-align: right;\">\n",
              "      <th></th>\n",
              "      <th>CustomerID</th>\n",
              "      <th>Gender</th>\n",
              "      <th>Age</th>\n",
              "      <th>Annual Income (k$)</th>\n",
              "      <th>Spending Score (1-100)</th>\n",
              "    </tr>\n",
              "  </thead>\n",
              "  <tbody>\n",
              "    <tr>\n",
              "      <th>0</th>\n",
              "      <td>1</td>\n",
              "      <td>Male</td>\n",
              "      <td>19</td>\n",
              "      <td>15</td>\n",
              "      <td>39</td>\n",
              "    </tr>\n",
              "    <tr>\n",
              "      <th>1</th>\n",
              "      <td>2</td>\n",
              "      <td>Male</td>\n",
              "      <td>21</td>\n",
              "      <td>15</td>\n",
              "      <td>81</td>\n",
              "    </tr>\n",
              "    <tr>\n",
              "      <th>2</th>\n",
              "      <td>3</td>\n",
              "      <td>Female</td>\n",
              "      <td>20</td>\n",
              "      <td>16</td>\n",
              "      <td>6</td>\n",
              "    </tr>\n",
              "    <tr>\n",
              "      <th>3</th>\n",
              "      <td>4</td>\n",
              "      <td>Female</td>\n",
              "      <td>23</td>\n",
              "      <td>16</td>\n",
              "      <td>77</td>\n",
              "    </tr>\n",
              "    <tr>\n",
              "      <th>4</th>\n",
              "      <td>5</td>\n",
              "      <td>Female</td>\n",
              "      <td>31</td>\n",
              "      <td>17</td>\n",
              "      <td>40</td>\n",
              "    </tr>\n",
              "  </tbody>\n",
              "</table>\n",
              "</div>"
            ]
          },
          "metadata": {},
          "execution_count": 30
        }
      ]
    },
    {
      "cell_type": "code",
      "source": [
        "dataset.shape"
      ],
      "metadata": {
        "colab": {
          "base_uri": "https://localhost:8080/",
          "height": 0
        },
        "id": "wuEyjSY1dypC",
        "outputId": "39a82d35-6d47-4afa-cc74-c1326628a412"
      },
      "execution_count": 31,
      "outputs": [
        {
          "output_type": "execute_result",
          "data": {
            "text/plain": [
              "(200, 5)"
            ]
          },
          "metadata": {},
          "execution_count": 31
        }
      ]
    },
    {
      "cell_type": "code",
      "source": [
        "dataset.describe()"
      ],
      "metadata": {
        "colab": {
          "base_uri": "https://localhost:8080/",
          "height": 300
        },
        "id": "qgTrdecrdyk3",
        "outputId": "37f2af6b-01cc-42a8-ce27-20b7930bda78"
      },
      "execution_count": 32,
      "outputs": [
        {
          "output_type": "execute_result",
          "data": {
            "text/plain": [
              "       CustomerID         Age  Annual Income (k$)  Spending Score (1-100)\n",
              "count  200.000000  200.000000          200.000000              200.000000\n",
              "mean   100.500000   38.850000           60.560000               50.200000\n",
              "std     57.879185   13.969007           26.264721               25.823522\n",
              "min      1.000000   18.000000           15.000000                1.000000\n",
              "25%     50.750000   28.750000           41.500000               34.750000\n",
              "50%    100.500000   36.000000           61.500000               50.000000\n",
              "75%    150.250000   49.000000           78.000000               73.000000\n",
              "max    200.000000   70.000000          137.000000               99.000000"
            ],
            "text/html": [
              "<div>\n",
              "<style scoped>\n",
              "    .dataframe tbody tr th:only-of-type {\n",
              "        vertical-align: middle;\n",
              "    }\n",
              "\n",
              "    .dataframe tbody tr th {\n",
              "        vertical-align: top;\n",
              "    }\n",
              "\n",
              "    .dataframe thead th {\n",
              "        text-align: right;\n",
              "    }\n",
              "</style>\n",
              "<table border=\"1\" class=\"dataframe\">\n",
              "  <thead>\n",
              "    <tr style=\"text-align: right;\">\n",
              "      <th></th>\n",
              "      <th>CustomerID</th>\n",
              "      <th>Age</th>\n",
              "      <th>Annual Income (k$)</th>\n",
              "      <th>Spending Score (1-100)</th>\n",
              "    </tr>\n",
              "  </thead>\n",
              "  <tbody>\n",
              "    <tr>\n",
              "      <th>count</th>\n",
              "      <td>200.000000</td>\n",
              "      <td>200.000000</td>\n",
              "      <td>200.000000</td>\n",
              "      <td>200.000000</td>\n",
              "    </tr>\n",
              "    <tr>\n",
              "      <th>mean</th>\n",
              "      <td>100.500000</td>\n",
              "      <td>38.850000</td>\n",
              "      <td>60.560000</td>\n",
              "      <td>50.200000</td>\n",
              "    </tr>\n",
              "    <tr>\n",
              "      <th>std</th>\n",
              "      <td>57.879185</td>\n",
              "      <td>13.969007</td>\n",
              "      <td>26.264721</td>\n",
              "      <td>25.823522</td>\n",
              "    </tr>\n",
              "    <tr>\n",
              "      <th>min</th>\n",
              "      <td>1.000000</td>\n",
              "      <td>18.000000</td>\n",
              "      <td>15.000000</td>\n",
              "      <td>1.000000</td>\n",
              "    </tr>\n",
              "    <tr>\n",
              "      <th>25%</th>\n",
              "      <td>50.750000</td>\n",
              "      <td>28.750000</td>\n",
              "      <td>41.500000</td>\n",
              "      <td>34.750000</td>\n",
              "    </tr>\n",
              "    <tr>\n",
              "      <th>50%</th>\n",
              "      <td>100.500000</td>\n",
              "      <td>36.000000</td>\n",
              "      <td>61.500000</td>\n",
              "      <td>50.000000</td>\n",
              "    </tr>\n",
              "    <tr>\n",
              "      <th>75%</th>\n",
              "      <td>150.250000</td>\n",
              "      <td>49.000000</td>\n",
              "      <td>78.000000</td>\n",
              "      <td>73.000000</td>\n",
              "    </tr>\n",
              "    <tr>\n",
              "      <th>max</th>\n",
              "      <td>200.000000</td>\n",
              "      <td>70.000000</td>\n",
              "      <td>137.000000</td>\n",
              "      <td>99.000000</td>\n",
              "    </tr>\n",
              "  </tbody>\n",
              "</table>\n",
              "</div>"
            ]
          },
          "metadata": {},
          "execution_count": 32
        }
      ]
    },
    {
      "cell_type": "code",
      "source": [
        "dataset.info()"
      ],
      "metadata": {
        "colab": {
          "base_uri": "https://localhost:8080/",
          "height": 0
        },
        "id": "J5jDJsHVdyhS",
        "outputId": "b7bfe9d2-2d62-482e-9d67-5356a393f079"
      },
      "execution_count": 44,
      "outputs": [
        {
          "output_type": "stream",
          "name": "stdout",
          "text": [
            "<class 'pandas.core.frame.DataFrame'>\n",
            "RangeIndex: 200 entries, 0 to 199\n",
            "Data columns (total 5 columns):\n",
            " #   Column                  Non-Null Count  Dtype \n",
            "---  ------                  --------------  ----- \n",
            " 0   CustomerID              200 non-null    int64 \n",
            " 1   Gender                  200 non-null    object\n",
            " 2   Age                     200 non-null    int64 \n",
            " 3   Annual Income (k$)      200 non-null    int64 \n",
            " 4   Spending Score (1-100)  200 non-null    int64 \n",
            "dtypes: int64(4), object(1)\n",
            "memory usage: 7.9+ KB\n"
          ]
        }
      ]
    },
    {
      "cell_type": "markdown",
      "source": [
        "#### input dataset"
      ],
      "metadata": {
        "id": "evSbUoQ_dfuF"
      }
    },
    {
      "cell_type": "code",
      "source": [
        "x = dataset.iloc[ : , [3, 4]].values\n",
        "x[:5]"
      ],
      "metadata": {
        "colab": {
          "base_uri": "https://localhost:8080/",
          "height": 0
        },
        "id": "sxDPopA0dSPy",
        "outputId": "97774c83-8a3b-4a56-9464-8f39b7e8e473"
      },
      "execution_count": 45,
      "outputs": [
        {
          "output_type": "execute_result",
          "data": {
            "text/plain": [
              "array([[15, 39],\n",
              "       [15, 81],\n",
              "       [16,  6],\n",
              "       [16, 77],\n",
              "       [17, 40]], dtype=int64)"
            ]
          },
          "metadata": {},
          "execution_count": 45
        }
      ]
    },
    {
      "cell_type": "markdown",
      "source": [
        "#### Preprocessing"
      ],
      "metadata": {
        "id": "LElY6ItseO0n"
      }
    },
    {
      "cell_type": "markdown",
      "source": [
        "##### Feature scaling\n",
        "- avoid feature scaling because it makes it very dense, so all data points go under single cluster"
      ],
      "metadata": {
        "id": "ZUKhdAyYeTt7"
      }
    },
    {
      "cell_type": "code",
      "source": [
        "# from sklearn.preprocessing import StandardScaler"
      ],
      "metadata": {
        "id": "RvqciGLDeVZp"
      },
      "execution_count": 46,
      "outputs": []
    },
    {
      "cell_type": "code",
      "source": [
        "# sc = StandardScaler()"
      ],
      "metadata": {
        "id": "JKCyVTLYeVq5"
      },
      "execution_count": 47,
      "outputs": []
    },
    {
      "cell_type": "code",
      "source": [
        "# x = sc.fit_transform(x)\n",
        "# x[:5]"
      ],
      "metadata": {
        "id": "Ln8rsoxeePj_"
      },
      "execution_count": 48,
      "outputs": []
    },
    {
      "cell_type": "markdown",
      "source": [
        "### DB scan (eps=3)"
      ],
      "metadata": {
        "id": "YJqaypGdjgfH"
      }
    },
    {
      "cell_type": "markdown",
      "source": [
        "#### Modeling (eps=3)"
      ],
      "metadata": {
        "id": "Sv6Ldnatdmod"
      }
    },
    {
      "cell_type": "code",
      "source": [
        "from sklearn.cluster import DBSCAN"
      ],
      "metadata": {
        "id": "0WXeLcY8dSMw"
      },
      "execution_count": 49,
      "outputs": []
    },
    {
      "cell_type": "code",
      "source": [
        "dbscan = DBSCAN(eps=3, min_samples=4, metric='euclidean')\n",
        "cls = dbscan.fit(x)"
      ],
      "metadata": {
        "id": "iZNUg2yDdSJn"
      },
      "execution_count": 50,
      "outputs": []
    },
    {
      "cell_type": "code",
      "source": [
        "la = cls.labels_\n",
        "la[:5]"
      ],
      "metadata": {
        "colab": {
          "base_uri": "https://localhost:8080/",
          "height": 0
        },
        "id": "DQkbeELWfvAP",
        "outputId": "52c472aa-cc13-4107-bf12-ef2260ee6b58"
      },
      "execution_count": 51,
      "outputs": [
        {
          "output_type": "execute_result",
          "data": {
            "text/plain": [
              "array([-1, -1, -1, -1, -1], dtype=int64)"
            ]
          },
          "metadata": {},
          "execution_count": 51
        }
      ]
    },
    {
      "cell_type": "code",
      "source": [
        "pd.Series(la).unique()\n",
        "# unique values for labels"
      ],
      "metadata": {
        "colab": {
          "base_uri": "https://localhost:8080/",
          "height": 0
        },
        "id": "a9649gt4rPpd",
        "outputId": "c65e1f27-7f01-46a6-e7b7-e12525fec238"
      },
      "execution_count": 53,
      "outputs": [
        {
          "output_type": "execute_result",
          "data": {
            "text/plain": [
              "array([-1,  0,  1,  2,  3,  4,  5,  6,  7,  8], dtype=int64)"
            ]
          },
          "metadata": {},
          "execution_count": 53
        }
      ]
    },
    {
      "cell_type": "markdown",
      "source": [
        "#### Training & Prediction (eps=3)"
      ],
      "metadata": {
        "id": "7NxLl_L2fc2Z"
      }
    },
    {
      "cell_type": "code",
      "source": [
        "y_pred_dbscan = dbscan.fit_predict(x)\n",
        "y_pred_dbscan[:5]"
      ],
      "metadata": {
        "colab": {
          "base_uri": "https://localhost:8080/",
          "height": 0
        },
        "id": "O67z0xqFdSHS",
        "outputId": "a6ec4912-5975-4570-f424-7565baf0fb8a"
      },
      "execution_count": 54,
      "outputs": [
        {
          "output_type": "execute_result",
          "data": {
            "text/plain": [
              "array([-1, -1, -1, -1, -1], dtype=int64)"
            ]
          },
          "metadata": {},
          "execution_count": 54
        }
      ]
    },
    {
      "cell_type": "code",
      "source": [
        "pd.Series(y_pred_dbscan).nunique()\n",
        "# count of clusters"
      ],
      "metadata": {
        "colab": {
          "base_uri": "https://localhost:8080/",
          "height": 0
        },
        "id": "PRYL_WZdzXp9",
        "outputId": "961adbd2-d59b-465e-f152-4312001685c6"
      },
      "execution_count": 56,
      "outputs": [
        {
          "output_type": "execute_result",
          "data": {
            "text/plain": [
              "10"
            ]
          },
          "metadata": {},
          "execution_count": 56
        }
      ]
    },
    {
      "cell_type": "markdown",
      "source": [
        "#### visualization (eps=3)"
      ],
      "metadata": {
        "id": "5PK0LQWgwPQS"
      }
    },
    {
      "cell_type": "code",
      "source": [
        "plt.scatter(x[y_pred_dbscan==0, 0], x[y_pred_dbscan==0, 1], s=50, c='red', label='C1')\n",
        "plt.scatter(x[y_pred_dbscan==1, 0], x[y_pred_dbscan==1, 1], s=50, c='blue', label='C2')\n",
        "plt.scatter(x[y_pred_dbscan==2, 0], x[y_pred_dbscan==2, 1], s=50, c='green', label='C3')\n",
        "plt.scatter(x[y_pred_dbscan==3, 0], x[y_pred_dbscan==3, 1], s=50, c='cyan', label='C4')\n",
        "plt.scatter(x[y_pred_dbscan==4, 0], x[y_pred_dbscan==4, 1], s=50, c='yellow', label='C5')\n",
        "plt.scatter(x[y_pred_dbscan==5, 0], x[y_pred_dbscan==5, 1], s=50, c='gray', label='C6')\n",
        "plt.scatter(x[y_pred_dbscan==6, 0], x[y_pred_dbscan==6, 1], s=50, c='pink', label='C7')\n",
        "plt.scatter(x[y_pred_dbscan==7, 0], x[y_pred_dbscan==7, 1], s=50, c='magenta', label='C8')\n",
        "plt.scatter(x[y_pred_dbscan==8, 0], x[y_pred_dbscan==8, 1], s=50, c='orange', label='C9')\n",
        "plt.scatter(x[y_pred_dbscan==9, 0], x[y_pred_dbscan==9, 1], s=50, c='brown', label='C10')\n",
        "# plt.scatter(x[y_hc==5, 0], x[y_hc==5, 1], s=50, c='brown')\n",
        "plt.title('DBScan Clustering')\n",
        "plt.xlabel('Customer Score')\n",
        "plt.ylabel('Customer Annual Income')\n",
        "\n",
        "plt.show()"
      ],
      "metadata": {
        "colab": {
          "base_uri": "https://localhost:8080/",
          "height": 472
        },
        "id": "U8t0Vf7vdSD-",
        "outputId": "618d4d32-3ca6-4be6-e2b9-ed6f8d510d7a"
      },
      "execution_count": 57,
      "outputs": [
        {
          "output_type": "display_data",
          "data": {
            "text/plain": [
              "<Figure size 640x480 with 1 Axes>"
            ],
            "image/png": "[encoded data removed]"
          },
          "metadata": {}
        }
      ]
    },
    {
      "cell_type": "markdown",
      "source": [
        "### DB scan (eps=5)"
      ],
      "metadata": {
        "id": "fyZ99muHwH-c"
      }
    },
    {
      "cell_type": "markdown",
      "source": [
        "#### Modeling (eps=5)"
      ],
      "metadata": {
        "id": "gL_pNuvqwWlr"
      }
    },
    {
      "cell_type": "code",
      "source": [
        "from sklearn.cluster import DBSCAN"
      ],
      "metadata": {
        "id": "WC9cP0WMwJN0"
      },
      "execution_count": 58,
      "outputs": []
    },
    {
      "cell_type": "code",
      "source": [
        "dbscan = DBSCAN(eps=5, min_samples=4, metric='euclidean')\n",
        "cls = dbscan.fit(x)"
      ],
      "metadata": {
        "id": "C4VpZGKYwJLS"
      },
      "execution_count": 59,
      "outputs": []
    },
    {
      "cell_type": "code",
      "source": [
        "la = cls.labels_\n",
        "la[:5]"
      ],
      "metadata": {
        "colab": {
          "base_uri": "https://localhost:8080/",
          "height": 0
        },
        "id": "WgtkW8cAwJIl",
        "outputId": "2cb8b2f9-b3a5-481f-ded2-5855189c02aa"
      },
      "execution_count": 60,
      "outputs": [
        {
          "output_type": "execute_result",
          "data": {
            "text/plain": [
              "array([-1,  0, -1,  0, -1], dtype=int64)"
            ]
          },
          "metadata": {},
          "execution_count": 60
        }
      ]
    },
    {
      "cell_type": "code",
      "source": [
        "pd.Series(la).unique()\n",
        "# unique values for labels"
      ],
      "metadata": {
        "colab": {
          "base_uri": "https://localhost:8080/",
          "height": 0
        },
        "id": "LE2yjDgXrjnv",
        "outputId": "21e1655e-0653-4ea1-e723-7a8a97bc36ce"
      },
      "execution_count": 61,
      "outputs": [
        {
          "output_type": "execute_result",
          "data": {
            "text/plain": [
              "array([-1,  0,  1,  4,  2,  3,  5,  6], dtype=int64)"
            ]
          },
          "metadata": {},
          "execution_count": 61
        }
      ]
    },
    {
      "cell_type": "markdown",
      "source": [
        "#### Training & Prediction (eps=5)"
      ],
      "metadata": {
        "id": "d5a36vHzx-SV"
      }
    },
    {
      "cell_type": "code",
      "source": [
        "y_pred_dbscan = dbscan.fit_predict(x)\n",
        "y_pred_dbscan[:5]"
      ],
      "metadata": {
        "colab": {
          "base_uri": "https://localhost:8080/",
          "height": 0
        },
        "id": "MGL1A6S5wJGA",
        "outputId": "99bb030c-a976-4af3-85aa-9a3e2dbbca63"
      },
      "execution_count": 62,
      "outputs": [
        {
          "output_type": "execute_result",
          "data": {
            "text/plain": [
              "array([-1,  0, -1,  0, -1], dtype=int64)"
            ]
          },
          "metadata": {},
          "execution_count": 62
        }
      ]
    },
    {
      "cell_type": "code",
      "source": [
        "pd.Series(y_pred_dbscan).nunique()\n",
        "# as eps increases from 3 to 5, number of clusters decreased from 10 to 8"
      ],
      "metadata": {
        "colab": {
          "base_uri": "https://localhost:8080/",
          "height": 0
        },
        "id": "cF_VdAq5zaQi",
        "outputId": "2cb36477-9543-4a31-89a6-355d17fd0413"
      },
      "execution_count": 63,
      "outputs": [
        {
          "output_type": "execute_result",
          "data": {
            "text/plain": [
              "8"
            ]
          },
          "metadata": {},
          "execution_count": 63
        }
      ]
    },
    {
      "cell_type": "markdown",
      "source": [
        "#### visualization (eps=5)"
      ],
      "metadata": {
        "id": "mDoZ3XGQyM9A"
      }
    },
    {
      "cell_type": "code",
      "source": [
        "plt.scatter(x[y_pred_dbscan==0, 0], x[y_pred_dbscan==0, 1], s=50, c='red', label='C1')\n",
        "plt.scatter(x[y_pred_dbscan==1, 0], x[y_pred_dbscan==1, 1], s=50, c='blue', label='C2')\n",
        "plt.scatter(x[y_pred_dbscan==2, 0], x[y_pred_dbscan==2, 1], s=50, c='green', label='C3')\n",
        "plt.scatter(x[y_pred_dbscan==3, 0], x[y_pred_dbscan==3, 1], s=50, c='cyan', label='C4')\n",
        "plt.scatter(x[y_pred_dbscan==4, 0], x[y_pred_dbscan==4, 1], s=50, c='yellow', label='C5')\n",
        "plt.scatter(x[y_pred_dbscan==5, 0], x[y_pred_dbscan==5, 1], s=50, c='gray', label='C6')\n",
        "plt.scatter(x[y_pred_dbscan==6, 0], x[y_pred_dbscan==6, 1], s=50, c='pink', label='C7')\n",
        "plt.scatter(x[y_pred_dbscan==7, 0], x[y_pred_dbscan==7, 1], s=50, c='magenta', label='C8')\n",
        "plt.scatter(x[y_pred_dbscan==8, 0], x[y_pred_dbscan==8, 1], s=50, c='orange', label='C9')\n",
        "# plt.scatter(x[y_hc==5, 0], x[y_hc==5, 1], s=50, c='brown')\n",
        "plt.title('DBScan Clustering')\n",
        "plt.xlabel('Customer Score')\n",
        "plt.ylabel('Customer Annual Income')\n",
        "plt.show()"
      ],
      "metadata": {
        "colab": {
          "base_uri": "https://localhost:8080/",
          "height": 472
        },
        "id": "bCSoysRJx_Lg",
        "outputId": "d6890f19-0b7d-4a10-bb21-930ef4468135"
      },
      "execution_count": 64,
      "outputs": [
        {
          "output_type": "display_data",
          "data": {
            "text/plain": [
              "<Figure size 640x480 with 1 Axes>"
            ],
            "image/png": "[encoded data removed]"
          },
          "metadata": {}
        }
      ]
    },
    {
      "cell_type": "code",
      "source": [],
      "metadata": {
        "id": "iaWY1IPQx-yz"
      },
      "execution_count": 64,
      "outputs": []
    },
    {
      "cell_type": "markdown",
      "source": [
        "### DBscan Example 2"
      ],
      "metadata": {
        "id": "3UVLhIxaru7y"
      }
    },
    {
      "cell_type": "markdown",
      "source": [
        "#### import libs"
      ],
      "metadata": {
        "id": "WmoR3k9rtsKb"
      }
    },
    {
      "cell_type": "code",
      "source": [
        "import pandas as pd\n",
        "import numpy as np\n",
        "import matplotlib.pyplot as plt"
      ],
      "metadata": {
        "id": "eA2dtpiMdRwH"
      },
      "execution_count": 93,
      "outputs": []
    },
    {
      "cell_type": "markdown",
      "source": [
        "#### import dataset"
      ],
      "metadata": {
        "id": "V0v_OsC4tu0O"
      }
    },
    {
      "cell_type": "code",
      "source": [
        "# from google.colab import files\n",
        "# uploaded = files.upload()\n",
        "# D14data2.npy\n",
        "\n",
        "import os\n",
        "os.chdir(r'C:\\Users\\surya\\Downloads\\PG-DBDA-Mar23\\Datasets')\n",
        "os.getcwd()"
      ],
      "metadata": {
        "colab": {
          "base_uri": "https://localhost:8080/",
          "height": 0
        },
        "id": "-A5fVThAruRV",
        "outputId": "edde6c2d-10c8-41ad-f372-e81ed6f48796"
      },
      "execution_count": 4,
      "outputs": [
        {
          "output_type": "execute_result",
          "data": {
            "text/plain": [
              "'C:\\\\Users\\\\surya\\\\Downloads\\\\PG-DBDA-Mar23\\\\Datasets'"
            ]
          },
          "metadata": {},
          "execution_count": 4
        }
      ]
    },
    {
      "cell_type": "code",
      "source": [
        "# dataset = np.load('D14data2.npy')\n",
        "# dataset[:5]"
      ],
      "metadata": {
        "id": "S1j2WGohruPG"
      },
      "execution_count": 95,
      "outputs": []
    },
    {
      "cell_type": "code",
      "source": [
        "dataset = pd.DataFrame(np.load('D14data2.npy'), columns=['x', 'y'])\n",
        "dataset.head()"
      ],
      "metadata": {
        "colab": {
          "base_uri": "https://localhost:8080/",
          "height": 206
        },
        "id": "iFAvMeRQruM2",
        "outputId": "2a863fcf-b655-4bd5-9753-55269719838d"
      },
      "execution_count": 96,
      "outputs": [
        {
          "output_type": "execute_result",
          "data": {
            "text/plain": [
              "          x         y\n",
              "0 -0.121535 -0.228763\n",
              "1 -0.220937 -0.252511\n",
              "2  0.125904 -0.273143\n",
              "3 -0.164537 -0.222244\n",
              "4 -0.180824 -0.211075"
            ],
            "text/html": [
              "<div>\n",
              "<style scoped>\n",
              "    .dataframe tbody tr th:only-of-type {\n",
              "        vertical-align: middle;\n",
              "    }\n",
              "\n",
              "    .dataframe tbody tr th {\n",
              "        vertical-align: top;\n",
              "    }\n",
              "\n",
              "    .dataframe thead th {\n",
              "        text-align: right;\n",
              "    }\n",
              "</style>\n",
              "<table border=\"1\" class=\"dataframe\">\n",
              "  <thead>\n",
              "    <tr style=\"text-align: right;\">\n",
              "      <th></th>\n",
              "      <th>x</th>\n",
              "      <th>y</th>\n",
              "    </tr>\n",
              "  </thead>\n",
              "  <tbody>\n",
              "    <tr>\n",
              "      <th>0</th>\n",
              "      <td>-0.121535</td>\n",
              "      <td>-0.228763</td>\n",
              "    </tr>\n",
              "    <tr>\n",
              "      <th>1</th>\n",
              "      <td>-0.220937</td>\n",
              "      <td>-0.252511</td>\n",
              "    </tr>\n",
              "    <tr>\n",
              "      <th>2</th>\n",
              "      <td>0.125904</td>\n",
              "      <td>-0.273143</td>\n",
              "    </tr>\n",
              "    <tr>\n",
              "      <th>3</th>\n",
              "      <td>-0.164537</td>\n",
              "      <td>-0.222244</td>\n",
              "    </tr>\n",
              "    <tr>\n",
              "      <th>4</th>\n",
              "      <td>-0.180824</td>\n",
              "      <td>-0.211075</td>\n",
              "    </tr>\n",
              "  </tbody>\n",
              "</table>\n",
              "</div>"
            ]
          },
          "metadata": {},
          "execution_count": 96
        }
      ]
    },
    {
      "cell_type": "markdown",
      "source": [
        "#### visualize x & Y"
      ],
      "metadata": {
        "id": "tplVc5Xeusb6"
      }
    },
    {
      "cell_type": "code",
      "source": [
        "dataset.plot(kind='scatter', x='x', y='y')"
      ],
      "metadata": {
        "colab": {
          "base_uri": "https://localhost:8080/",
          "height": 467
        },
        "id": "G6GatYPAruKV",
        "outputId": "cc6e1ad4-f317-460a-c4be-f87b80c59a17"
      },
      "execution_count": 97,
      "outputs": [
        {
          "output_type": "execute_result",
          "data": {
            "text/plain": [
              "<Axes: xlabel='x', ylabel='y'>"
            ]
          },
          "metadata": {},
          "execution_count": 97
        },
        {
          "output_type": "display_data",
          "data": {
            "text/plain": [
              "<Figure size 640x480 with 1 Axes>"
            ],
            "image/png": "[encoded data removed]"
          },
          "metadata": {}
        }
      ]
    },
    {
      "cell_type": "markdown",
      "source": [
        "#### DB Scan (eps=0.033)"
      ],
      "metadata": {
        "id": "mGDep_h_uviH"
      }
    },
    {
      "cell_type": "code",
      "source": [
        "from sklearn.cluster import DBSCAN"
      ],
      "metadata": {
        "id": "CDic86clruHa"
      },
      "execution_count": 98,
      "outputs": []
    },
    {
      "cell_type": "code",
      "source": [
        "dbscan = DBSCAN(eps=0.033, min_samples=22, algorithm='brute', p=0.9)\n",
        "# eps : epsilon\n",
        "# min_samples : MinPts\n",
        "# algorithm : algorithm to be used by the NearestNeighbors module to compute pointwise distances and find nearest neighbors\n",
        "# p : power of the Minkowski metric to be used to calculate distance between points. If None, then p=2"
      ],
      "metadata": {
        "id": "bCfCPs2wruFO"
      },
      "execution_count": 99,
      "outputs": []
    },
    {
      "cell_type": "markdown",
      "source": [
        "##### Modeling (eps=0.03)"
      ],
      "metadata": {
        "id": "CLsn8GaNvJQr"
      }
    },
    {
      "cell_type": "code",
      "source": [
        "db = dbscan.fit(dataset)"
      ],
      "metadata": {
        "id": "FIOElzDtruCq"
      },
      "execution_count": 100,
      "outputs": []
    },
    {
      "cell_type": "code",
      "source": [
        "la = cls.labels_\n",
        "la[:5]"
      ],
      "metadata": {
        "colab": {
          "base_uri": "https://localhost:8080/",
          "height": 0
        },
        "id": "MkFQ2lBgrvPg",
        "outputId": "b19a1b26-8ee6-4510-b1c5-eb3855a52f59"
      },
      "execution_count": 101,
      "outputs": [
        {
          "output_type": "execute_result",
          "data": {
            "text/plain": [
              "array([-1,  0, -1,  0, -1], dtype=int64)"
            ]
          },
          "metadata": {},
          "execution_count": 101
        }
      ]
    },
    {
      "cell_type": "code",
      "source": [
        "pd.Series(la).unique()\n",
        "# unique values for labels"
      ],
      "metadata": {
        "colab": {
          "base_uri": "https://localhost:8080/",
          "height": 0
        },
        "id": "-0GMDnjurz-S",
        "outputId": "76003779-8754-4d39-e76f-808671bc1307"
      },
      "execution_count": 102,
      "outputs": [
        {
          "output_type": "execute_result",
          "data": {
            "text/plain": [
              "array([-1,  0,  1,  4,  2,  3,  5,  6], dtype=int64)"
            ]
          },
          "metadata": {},
          "execution_count": 102
        }
      ]
    },
    {
      "cell_type": "code",
      "source": [
        "len(dbscan.core_sample_indices_)\n",
        "# count of indices of core samples"
      ],
      "metadata": {
        "colab": {
          "base_uri": "https://localhost:8080/",
          "height": 0
        },
        "id": "h-RkfVBY8sQG",
        "outputId": "4eb9fbbc-964d-4fb4-e9d4-f0fd7d3bcfa8"
      },
      "execution_count": 103,
      "outputs": [
        {
          "output_type": "execute_result",
          "data": {
            "text/plain": [
              "1364"
            ]
          },
          "metadata": {},
          "execution_count": 103
        }
      ]
    },
    {
      "cell_type": "markdown",
      "source": [
        "##### Training & Prediction (eps=0.03)"
      ],
      "metadata": {
        "id": "NPuySmEGvLRk"
      }
    },
    {
      "cell_type": "code",
      "source": [
        "y_pred_dbscan = db.fit_predict(dataset)\n",
        "y_pred_dbscan[:5]"
      ],
      "metadata": {
        "colab": {
          "base_uri": "https://localhost:8080/",
          "height": 0
        },
        "id": "rhprR9E8n-F9",
        "outputId": "961574fe-5f1c-41a2-b275-3212a5a76e73"
      },
      "execution_count": 104,
      "outputs": [
        {
          "output_type": "execute_result",
          "data": {
            "text/plain": [
              "array([0, 0, 0, 0, 0], dtype=int64)"
            ]
          },
          "metadata": {},
          "execution_count": 104
        }
      ]
    },
    {
      "cell_type": "code",
      "source": [
        "pd.Series(y_pred_dbscan).nunique()\n",
        "# count of clusters"
      ],
      "metadata": {
        "colab": {
          "base_uri": "https://localhost:8080/",
          "height": 0
        },
        "id": "DGZ5pwGEnTgR",
        "outputId": "43129ebb-20b9-400a-f756-32852b848ebb"
      },
      "execution_count": 105,
      "outputs": [
        {
          "output_type": "execute_result",
          "data": {
            "text/plain": [
              "7"
            ]
          },
          "metadata": {},
          "execution_count": 105
        }
      ]
    },
    {
      "cell_type": "markdown",
      "source": [
        "##### visualization (eps=0.03)"
      ],
      "metadata": {
        "id": "Ti3JuBx3xSEq"
      }
    },
    {
      "cell_type": "code",
      "source": [
        "dataset.plot(kind='scatter', x='x', y='y', c=db.labels_, colorbar=True, cmap='Accent_r', figsize=(10,7))\n",
        "plt.show()\n",
        "# type(db)"
      ],
      "metadata": {
        "colab": {
          "base_uri": "https://localhost:8080/",
          "height": 624
        },
        "id": "nXWXCUMj86Af",
        "outputId": "e4328cb6-3ce3-4f86-90bc-80ea1af74c3d"
      },
      "execution_count": 118,
      "outputs": [
        {
          "output_type": "display_data",
          "data": {
            "text/plain": [
              "<Figure size 1000x700 with 2 Axes>"
            ],
            "image/png": "[encoded data removed]"
          },
          "metadata": {}
        }
      ]
    },
    {
      "cell_type": "markdown",
      "source": [
        "# Market Basket Anlaysis\n",
        "- popular example of frequent itemset mining is Market Basket Analysis\n",
        "- leads to discovery of associations and correlations between items in huge transactional or relational datasets\n",
        "- identifies customer buying habits by finding associations between items that customers place in their shopping baskets\n",
        "- discovery of such associations is useful for retailers or marketers to develop strategies by gaining insights into which items are frequently bought together"
      ],
      "metadata": {
        "id": "smw1HJTwthHd"
      }
    },
    {
      "cell_type": "markdown",
      "source": [
        "# Working of Market Basket Analysis\n",
        "1. Collect Transactional Data\n",
        "    - Collect data on customer transactions, such as items purchased in each transaction, the time and date of the transaction, and any other relevant information\n",
        "2. Preprocess data\n",
        "    - Clean & preprocess the data, removing any irrelevant information, handling missing values, and converting the data into a suitable format for analysis\n",
        "3. Identify Frequent item sets\n",
        "    - Use ```Association Rules Mining``` algorithms such as ```Apriori``` or ```FP-Growth``` to identify frequent item sets, sets of items often appearing together in a transaction\n",
        "4. Calculate Support & Confidence\n",
        "    - Calculate the support & confidencefor each frequent itemset, which expresses the likelihood of one of them being purchased given the purchase of another item\n",
        "5. Generate Association Rules\n",
        "    - Generate association rules based on frequent itemsets and their corresponding support and confidence values\n",
        "    - Association rules express the likelihood of one item being purchased given the purchase of another item\n",
        "6. Interpret the results\n",
        "    - Interpret the results of the market basket analysis, identifying which items are frequently purchased together, the strength of the association between the items, and any other relevant insights into customer behavior and preference\n",
        "7. Take Action\n",
        "    - Use the insights from the basket analysis to inform business decisions such as product recommendations, store layout optimization, and targeted marketing campaigns"
      ],
      "metadata": {
        "id": "tHH-45lS0OHD"
      }
    },
    {
      "cell_type": "markdown",
      "source": [
        "# Types of Market Basket Analysis\n",
        "1. Association Rule Mining\n",
        "    - involves ```identifying frequent item sets``` and generating association rules that express the likelihood of one item being purchased with the puchase of another item\n",
        "    - used to identify the relationships or association between items in a transactional dataset\n",
        "2. Sequence Analysis\n",
        "    - it focuses on ```order in which the items are purchased``` in a transaction\n",
        "    - identifies frequent item sequences and generates sequential association rules describing the likelihood of one of the item sequence being followed by another\n",
        "3. Cluster Analysis\n",
        "    - involves ```grouping similar items or transactions``` into clusters or segments based on their attributes\n",
        "    - helps to identify customer segments with similar purchasing behaviors, which can inform product recommendations and marketing strategies"
      ],
      "metadata": {
        "id": "EOzjGerO0tL2"
      }
    },
    {
      "cell_type": "markdown",
      "source": [
        "# Applications of Market Basket Analysis\n",
        "- Retail\n",
        "    - Identify frequently purchased product combinations and create promotions or cross-selling strategies\n",
        "- E-Commerce\n",
        "    - Suggest compelementary products to customers and improve the customer experience\n",
        "- Hospitality\n",
        "    - Identify which menu items are often ordered together and create meal packages or menu recommendations\n",
        "- Healthcare\n",
        "    - Understand which medications are often prescribed together and identify patterns in patient behavior or treatment outcomes\n",
        "- Banking / Finance\n",
        "    - Identify which products or services are frequently used together by customers and create targeted marketing campaigns or bundle deals\n",
        "- Telecommunication\n",
        "    - Understand which products or services are often purchased together and create bundled service packages that increase revenue and improve the customer experience"
      ],
      "metadata": {
        "id": "vPLNtNjg1Ep7"
      }
    },
    {
      "cell_type": "markdown",
      "source": [
        "# Advantages of Market Basket Analysis\n",
        "- can be applied to data of customers from the Point-Of-Sale (PoS) Systems\n",
        "- helps retaliers in following ways\n",
        "    - increases customer engagement\n",
        "    - boosts sales and increases RoI\n",
        "    - improves customer experience\n",
        "    - optimizes marketing strategies and campaigns\n",
        "    - helps in demographic data analysis\n",
        "    - identifies customer behavior and pattern"
      ],
      "metadata": {
        "id": "ErWat0lLpktv"
      }
    },
    {
      "cell_type": "markdown",
      "source": [
        "# Association Rule for Market Basket Analysis\n",
        "- Let ```I``` = ```{I1, I2,..., Im}``` be the itemset, these itemsets are called ```Antecedents```\n",
        "- Let ```D```, the data , be a set of database transactions where each transaction ```T``` is a non-empty itemset such that ```T ⊆ I```\n",
        "- Each transaction is associated with an identifier called as ```TID``` (or ```Tid```)\n",
        "- Let ```A``` be a set of items(itemsets)\n",
        "- ```T``` is the transaction that is said to contain ```A``` if ```A ⊆ T```\n",
        "- An Association Rule is an implication form ```A ⇒ B```, where ```A ⊆ I```, ```B ⊆ I```, and ```A ∩ B = φ (Empty Set)```\n",
        "- Probability, ```P(A ∪ B)```\n",
        "    - Rule ```A ⇒ B``` holds in the data set (transactions) ```D``` with supports, where ```s``` is the percentage of transactions in database ```D``` that contain ```A ∪ B``` (i.e. both ```A``` and ```B```)\n",
        "- Conditional Probability, ```P(B|A)```\n",
        "    - Rule ```A ⇒ B``` has confidence ```c``` in the transaction set ```D```, where ```c``` is the percentage of transactions in ```D``` containing ```A``` that also contains ```B```\n",
        "- ```Support(A ⇒ B)``` = ```P(A ∪ B)```\n",
        "- ```Confidence(A ⇒ B)``` = ```P(B|A)```\n",
        "- Rules are called ```Strong```, that satisfy\n",
        "    - a Minumum Support Threshold (called ```MinSup```)\n",
        "    - a Minimum Confidence Threshold  (called ```MinConf```)\n",
        "- ```Confidence(A ⇒ B)```   = ```P(B|A)```\n",
        "- ```Confidence(A ⇒ B)```   = ```Support(A ∪ B)```/```Support(A)```\n",
        "- ```Confidence(A ⇒ B)```   = ```support count(A ∪ B)```/```support count(A)```"
      ],
      "metadata": {
        "id": "9y7MW-oxYqRr"
      }
    },
    {
      "cell_type": "markdown",
      "source": [
        "# Association Rule Mining\n",
        "- primarily used when you want to identify an association between different items in a set and the find frequent patterns in a transactional database or relational database\n",
        "- can be viewed as a two-step process\n",
        "    1. Find All Frequent Itemsets\n",
        "        - each of these itemset will occur at least as frequently as a pre-established minimum support count ```MinSup```\n",
        "    2. Generate Association Rules from Frequent Itemsets\n",
        "        - these rules must satisfy Minimum Support ```MinSup``` and Minimum Confidence ```MinConf```"
      ],
      "metadata": {
        "id": "PJc4zjfH1kI8"
      }
    },
    {
      "cell_type": "markdown",
      "source": [
        "# Algorithms used in Market Basket Analysis\n",
        "- one of the important object is ```to predict the probability of items that are being bought together by customers```\n",
        "1. Apriori Algorithm\n",
        "2. AIS\n",
        "3. SETM Algorithm\n",
        "4. FP-Growth"
      ],
      "metadata": {
        "id": "vPLwo6oPoMnE"
      }
    },
    {
      "cell_type": "markdown",
      "source": [
        "# Apriori Analysis\n",
        "- algorithm is named ```Apriori``` because it uses prior knowledge of frequent itemset properties\n",
        "- also called as ```Frequent Pattern Mining```\n",
        "- considered accurate and overtop AIS algorithm and SETM algorithm\n",
        "- an iterative search or level-wise search is used where k-frequent itemsets are used to find k+1 itemsets\n",
        "- used to calculate the association rules between objects\n",
        "- is an association learning that analyzes that poeple who bought product A also bought Product B\n",
        "- operates on a database containing a huge number of ```transactions```, which corresponds to a basket of specific items\n",
        "- need to scan the database multiple times to generate ```frequent itemset```, so increases computation cost\n",
        "- ```frequent pattern```\n",
        "    - a pattern (a set of items, subsequences, substructures, etc.) that occurs frequently in a dataset\n",
        "    - an intrinsic and important property of datasets\n",
        "    - essential for many data mining tasks\n",
        "        - Association, correlation, and casuality analysis\n",
        "        - Sequential, structural (e.g., sub-graph) pattern\n",
        "        - Pattern analysis in spatioemporal, multimedia, time-series, and stream data\n",
        "- frequent pattern analysis is first proposed by by Agrawal, Imielinski and Swami [AIS93] in the contect of ```frequent itemsets``` and ```association rule mining```\n",
        "- ```Basket Data```\n",
        "    - a very common type of data, which corresponds to a basket of specific items\n"
      ],
      "metadata": {
        "id": "s9JDyoJ88epc"
      }
    },
    {
      "cell_type": "markdown",
      "source": [
        "# Components of Apriori Algorithm\n",
        "- for ```Rule : X ⇒ Y```\n",
        "- consider this example data to understand components, out of ```4000 transactions```\n",
        "    - ```400``` contain ```biscuits```\n",
        "    - ```600``` contain ```Chocolate```\n",
        "    - and these ```600``` transactions contain ```200``` transactions which includes ```both biscuits and chocolates```\n",
        "1. Support\n",
        "    - ```Support``` = ```freq(X, Y)``` / ```N```\n",
        "    - also called ```coverage```\n",
        "    - refers to how much of database contains `if` part\n",
        "    - refers to the default popularity of any product\n",
        "    - is the quotient of the division of the number of transactions comprising that product by total number of transactions\n",
        "    - ```Support(Biscuits)``` = ```(Transactions relating biscuits)``` / ```(Total Transactions)``` = 400/4000 = 10%\n",
        "2. Confidence\n",
        "    - ```Confidence``` = ```freq(X, Y)``` / ```freq(X)```\n",
        "    - same as ```accuracy```\n",
        "    - when `if` part is true, how often is `then` bit true\n",
        "    - refers to the possibility that the customers bought both biscuits and chocolate together\n",
        "    - divide the number of transactions the comprise both biscuits and chocolates by the total number of transactions to get the confidence\n",
        "    - ```Confidence``` = ```(Transactions involving both biscuits and chocolate)``` / ```(Total transactions involving biscuits)``` = 200/400 = 50%\n",
        "    - means that 50% of customers who bought biscuits bought chocolates also\n",
        "3. Lift\n",
        "    - ```Lift``` = ```Support``` / ```Supp(X)``` x ```Supp(Y)```\n",
        "    - refers to the increase in ratio of the sale of chocolates when you sell biscuits\n",
        "    - ```Lift``` = ```(Confidence (Biscuits-Chocolates) / Support(Biscuits))``` = 50/10 = 5\n",
        "    - means that probability of people buying bith biscuits and chocolates together is 5 times more than that of purchasing the biscuits alone\n",
        "    - if ```Lift = 1```\n",
        "        - probability of antecedent and consequent is independent of each other\n",
        "    - if ```Lift < 1```\n",
        "        - it is unlikely that people buy two items together\n",
        "        - one item is substitute for another, one item has negative effect on another\n",
        "    - if ```Lift > 1```\n",
        "        - determines the degree to which two itemsets are dependent to each other\n",
        "    - ```Larger the lift```, more the chances of cross-selling, better the combination\n"
      ],
      "metadata": {
        "id": "Cxo2GmRlx_to"
      }
    },
    {
      "cell_type": "markdown",
      "source": [
        "# Advantages of Apriori Algorithm\n",
        "- used to calculate huge itemsets\n",
        "- simple to understand and apply"
      ],
      "metadata": {
        "id": "-TghPR_VyC_A"
      }
    },
    {
      "cell_type": "markdown",
      "source": [
        "# Disadvantages of Apriori Algorithm\n",
        "- an expensive method to find support since the calculation has to pass through the whole database\n",
        "- needs huge number of candidate rules, so ite becomes computationally more expensive"
      ],
      "metadata": {
        "id": "moLskOTqyNex"
      }
    },
    {
      "cell_type": "markdown",
      "source": [
        "## install libs"
      ],
      "metadata": {
        "id": "BuVM5UpxQ0Tz"
      }
    },
    {
      "cell_type": "code",
      "source": [
        "pip install apyori"
      ],
      "metadata": {
        "colab": {
          "base_uri": "https://localhost:8080/"
        },
        "id": "bL1mImZ3QnOh",
        "outputId": "5e9901b3-5aa8-42f9-a424-c8b7d01be758"
      },
      "execution_count": 14,
      "outputs": [
        {
          "output_type": "stream",
          "name": "stdout",
          "text": [
            "Requirement already satisfied: apyori in c:\\users\\surya\\appdata\\local\\programs\\python\\python39\\lib\\site-packages (1.1.2)Note: you may need to restart the kernel to use updated packages.\n",
            "\n"
          ]
        }
      ]
    },
    {
      "cell_type": "markdown",
      "source": [
        "## import libs"
      ],
      "metadata": {
        "id": "1dDn4XRy-K-r"
      }
    },
    {
      "cell_type": "code",
      "source": [
        "import pandas as pd\n",
        "import numpy as np\n",
        "import matplotlib.pyplot as plt\n",
        "import seaborn as sns"
      ],
      "metadata": {
        "id": "nw4wlJsw-Gdh"
      },
      "execution_count": 15,
      "outputs": []
    },
    {
      "cell_type": "markdown",
      "source": [
        "## import dataset"
      ],
      "metadata": {
        "id": "QfzxI7Zo-NN5"
      }
    },
    {
      "cell_type": "code",
      "source": [
        "# from google.colab import files\n",
        "# uploaded = files.upload()\n",
        "# D14data3.csv\n",
        "\n",
        "import os\n",
        "os.chdir(r'C:\\Users\\surya\\Downloads\\PG-DBDA-Mar23\\Datasets')\n",
        "os.getcwd()"
      ],
      "metadata": {
        "colab": {
          "base_uri": "https://localhost:8080/"
        },
        "id": "Xcr4FdHa-IwA",
        "outputId": "a6ea678c-4499-4bc9-8202-d212b862ca97"
      },
      "execution_count": 16,
      "outputs": [
        {
          "output_type": "execute_result",
          "data": {
            "text/plain": [
              "'C:\\\\Users\\\\surya\\\\Downloads\\\\PG-DBDA-Mar23\\\\Datasets'"
            ]
          },
          "metadata": {},
          "execution_count": 16
        }
      ]
    },
    {
      "cell_type": "code",
      "source": [
        "dataset = pd.read_csv('D14data3.csv', header=None)\n",
        "dataset.head()"
      ],
      "metadata": {
        "colab": {
          "base_uri": "https://localhost:8080/",
          "height": 258
        },
        "id": "36r7Cp-O8eaB",
        "outputId": "05b74a4c-2bbb-4264-b991-b4903691549b"
      },
      "execution_count": 17,
      "outputs": [
        {
          "output_type": "execute_result",
          "data": {
            "text/plain": [
              "              0          1           2                 3             4   \\\n",
              "0         shrimp    almonds     avocado    vegetables mix  green grapes   \n",
              "1        burgers  meatballs        eggs               NaN           NaN   \n",
              "2        chutney        NaN         NaN               NaN           NaN   \n",
              "3         turkey    avocado         NaN               NaN           NaN   \n",
              "4  mineral water       milk  energy bar  whole wheat rice     green tea   \n",
              "\n",
              "                 5     6               7             8             9   \\\n",
              "0  whole weat flour  yams  cottage cheese  energy drink  tomato juice   \n",
              "1               NaN   NaN             NaN           NaN           NaN   \n",
              "2               NaN   NaN             NaN           NaN           NaN   \n",
              "3               NaN   NaN             NaN           NaN           NaN   \n",
              "4               NaN   NaN             NaN           NaN           NaN   \n",
              "\n",
              "               10         11     12     13             14      15  \\\n",
              "0  low fat yogurt  green tea  honey  salad  mineral water  salmon   \n",
              "1             NaN        NaN    NaN    NaN            NaN     NaN   \n",
              "2             NaN        NaN    NaN    NaN            NaN     NaN   \n",
              "3             NaN        NaN    NaN    NaN            NaN     NaN   \n",
              "4             NaN        NaN    NaN    NaN            NaN     NaN   \n",
              "\n",
              "                  16               17       18         19  \n",
              "0  antioxydant juice  frozen smoothie  spinach  olive oil  \n",
              "1                NaN              NaN      NaN        NaN  \n",
              "2                NaN              NaN      NaN        NaN  \n",
              "3                NaN              NaN      NaN        NaN  \n",
              "4                NaN              NaN      NaN        NaN  "
            ],
            "text/html": [
              "<div>\n",
              "<style scoped>\n",
              "    .dataframe tbody tr th:only-of-type {\n",
              "        vertical-align: middle;\n",
              "    }\n",
              "\n",
              "    .dataframe tbody tr th {\n",
              "        vertical-align: top;\n",
              "    }\n",
              "\n",
              "    .dataframe thead th {\n",
              "        text-align: right;\n",
              "    }\n",
              "</style>\n",
              "<table border=\"1\" class=\"dataframe\">\n",
              "  <thead>\n",
              "    <tr style=\"text-align: right;\">\n",
              "      <th></th>\n",
              "      <th>0</th>\n",
              "      <th>1</th>\n",
              "      <th>2</th>\n",
              "      <th>3</th>\n",
              "      <th>4</th>\n",
              "      <th>5</th>\n",
              "      <th>6</th>\n",
              "      <th>7</th>\n",
              "      <th>8</th>\n",
              "      <th>9</th>\n",
              "      <th>10</th>\n",
              "      <th>11</th>\n",
              "      <th>12</th>\n",
              "      <th>13</th>\n",
              "      <th>14</th>\n",
              "      <th>15</th>\n",
              "      <th>16</th>\n",
              "      <th>17</th>\n",
              "      <th>18</th>\n",
              "      <th>19</th>\n",
              "    </tr>\n",
              "  </thead>\n",
              "  <tbody>\n",
              "    <tr>\n",
              "      <th>0</th>\n",
              "      <td>shrimp</td>\n",
              "      <td>almonds</td>\n",
              "      <td>avocado</td>\n",
              "      <td>vegetables mix</td>\n",
              "      <td>green grapes</td>\n",
              "      <td>whole weat flour</td>\n",
              "      <td>yams</td>\n",
              "      <td>cottage cheese</td>\n",
              "      <td>energy drink</td>\n",
              "      <td>tomato juice</td>\n",
              "      <td>low fat yogurt</td>\n",
              "      <td>green tea</td>\n",
              "      <td>honey</td>\n",
              "      <td>salad</td>\n",
              "      <td>mineral water</td>\n",
              "      <td>salmon</td>\n",
              "      <td>antioxydant juice</td>\n",
              "      <td>frozen smoothie</td>\n",
              "      <td>spinach</td>\n",
              "      <td>olive oil</td>\n",
              "    </tr>\n",
              "    <tr>\n",
              "      <th>1</th>\n",
              "      <td>burgers</td>\n",
              "      <td>meatballs</td>\n",
              "      <td>eggs</td>\n",
              "      <td>NaN</td>\n",
              "      <td>NaN</td>\n",
              "      <td>NaN</td>\n",
              "      <td>NaN</td>\n",
              "      <td>NaN</td>\n",
              "      <td>NaN</td>\n",
              "      <td>NaN</td>\n",
              "      <td>NaN</td>\n",
              "      <td>NaN</td>\n",
              "      <td>NaN</td>\n",
              "      <td>NaN</td>\n",
              "      <td>NaN</td>\n",
              "      <td>NaN</td>\n",
              "      <td>NaN</td>\n",
              "      <td>NaN</td>\n",
              "      <td>NaN</td>\n",
              "      <td>NaN</td>\n",
              "    </tr>\n",
              "    <tr>\n",
              "      <th>2</th>\n",
              "      <td>chutney</td>\n",
              "      <td>NaN</td>\n",
              "      <td>NaN</td>\n",
              "      <td>NaN</td>\n",
              "      <td>NaN</td>\n",
              "      <td>NaN</td>\n",
              "      <td>NaN</td>\n",
              "      <td>NaN</td>\n",
              "      <td>NaN</td>\n",
              "      <td>NaN</td>\n",
              "      <td>NaN</td>\n",
              "      <td>NaN</td>\n",
              "      <td>NaN</td>\n",
              "      <td>NaN</td>\n",
              "      <td>NaN</td>\n",
              "      <td>NaN</td>\n",
              "      <td>NaN</td>\n",
              "      <td>NaN</td>\n",
              "      <td>NaN</td>\n",
              "      <td>NaN</td>\n",
              "    </tr>\n",
              "    <tr>\n",
              "      <th>3</th>\n",
              "      <td>turkey</td>\n",
              "      <td>avocado</td>\n",
              "      <td>NaN</td>\n",
              "      <td>NaN</td>\n",
              "      <td>NaN</td>\n",
              "      <td>NaN</td>\n",
              "      <td>NaN</td>\n",
              "      <td>NaN</td>\n",
              "      <td>NaN</td>\n",
              "      <td>NaN</td>\n",
              "      <td>NaN</td>\n",
              "      <td>NaN</td>\n",
              "      <td>NaN</td>\n",
              "      <td>NaN</td>\n",
              "      <td>NaN</td>\n",
              "      <td>NaN</td>\n",
              "      <td>NaN</td>\n",
              "      <td>NaN</td>\n",
              "      <td>NaN</td>\n",
              "      <td>NaN</td>\n",
              "    </tr>\n",
              "    <tr>\n",
              "      <th>4</th>\n",
              "      <td>mineral water</td>\n",
              "      <td>milk</td>\n",
              "      <td>energy bar</td>\n",
              "      <td>whole wheat rice</td>\n",
              "      <td>green tea</td>\n",
              "      <td>NaN</td>\n",
              "      <td>NaN</td>\n",
              "      <td>NaN</td>\n",
              "      <td>NaN</td>\n",
              "      <td>NaN</td>\n",
              "      <td>NaN</td>\n",
              "      <td>NaN</td>\n",
              "      <td>NaN</td>\n",
              "      <td>NaN</td>\n",
              "      <td>NaN</td>\n",
              "      <td>NaN</td>\n",
              "      <td>NaN</td>\n",
              "      <td>NaN</td>\n",
              "      <td>NaN</td>\n",
              "      <td>NaN</td>\n",
              "    </tr>\n",
              "  </tbody>\n",
              "</table>\n",
              "</div>"
            ]
          },
          "metadata": {},
          "execution_count": 17
        }
      ]
    },
    {
      "cell_type": "code",
      "source": [
        "dataset.shape"
      ],
      "metadata": {
        "colab": {
          "base_uri": "https://localhost:8080/"
        },
        "id": "uoFdWNzB8eV1",
        "outputId": "861b03c6-f806-406f-e755-2ec0f0983004"
      },
      "execution_count": 18,
      "outputs": [
        {
          "output_type": "execute_result",
          "data": {
            "text/plain": [
              "(7501, 20)"
            ]
          },
          "metadata": {},
          "execution_count": 18
        }
      ]
    },
    {
      "cell_type": "code",
      "source": [
        "dataset.describe()"
      ],
      "metadata": {
        "colab": {
          "base_uri": "https://localhost:8080/",
          "height": 192
        },
        "id": "Z6b8WgG5Q9i6",
        "outputId": "f6ba60dc-1214-4ce5-f8c1-2ca8f4929b20"
      },
      "execution_count": 19,
      "outputs": [
        {
          "output_type": "execute_result",
          "data": {
            "text/plain": [
              "                   0              1              2              3          4   \\\n",
              "count            7501           5747           4389           3345       2529   \n",
              "unique            115            117            115            114        110   \n",
              "top     mineral water  mineral water  mineral water  mineral water  green tea   \n",
              "freq              577            484            375            201        153   \n",
              "\n",
              "                  5          6          7          8          9   \\\n",
              "count           1864       1369        981        654        395   \n",
              "unique           106        102         98         88         80   \n",
              "top     french fries  green tea  green tea  green tea  green tea   \n",
              "freq             107         96         67         57         31   \n",
              "\n",
              "                    10         11         12         13         14      15  \\\n",
              "count              256        154         87         47         25       8   \n",
              "unique              66         50         43         28         19       8   \n",
              "top     low fat yogurt  green tea  green tea  green tea  magazines  salmon   \n",
              "freq                22         15          8          4          3       1   \n",
              "\n",
              "                     16           17       18         19  \n",
              "count                 4            4        3          1  \n",
              "unique                3            3        3          1  \n",
              "top     frozen smoothie  protein bar  spinach  olive oil  \n",
              "freq                  2            2        1          1  "
            ],
            "text/html": [
              "<div>\n",
              "<style scoped>\n",
              "    .dataframe tbody tr th:only-of-type {\n",
              "        vertical-align: middle;\n",
              "    }\n",
              "\n",
              "    .dataframe tbody tr th {\n",
              "        vertical-align: top;\n",
              "    }\n",
              "\n",
              "    .dataframe thead th {\n",
              "        text-align: right;\n",
              "    }\n",
              "</style>\n",
              "<table border=\"1\" class=\"dataframe\">\n",
              "  <thead>\n",
              "    <tr style=\"text-align: right;\">\n",
              "      <th></th>\n",
              "      <th>0</th>\n",
              "      <th>1</th>\n",
              "      <th>2</th>\n",
              "      <th>3</th>\n",
              "      <th>4</th>\n",
              "      <th>5</th>\n",
              "      <th>6</th>\n",
              "      <th>7</th>\n",
              "      <th>8</th>\n",
              "      <th>9</th>\n",
              "      <th>10</th>\n",
              "      <th>11</th>\n",
              "      <th>12</th>\n",
              "      <th>13</th>\n",
              "      <th>14</th>\n",
              "      <th>15</th>\n",
              "      <th>16</th>\n",
              "      <th>17</th>\n",
              "      <th>18</th>\n",
              "      <th>19</th>\n",
              "    </tr>\n",
              "  </thead>\n",
              "  <tbody>\n",
              "    <tr>\n",
              "      <th>count</th>\n",
              "      <td>7501</td>\n",
              "      <td>5747</td>\n",
              "      <td>4389</td>\n",
              "      <td>3345</td>\n",
              "      <td>2529</td>\n",
              "      <td>1864</td>\n",
              "      <td>1369</td>\n",
              "      <td>981</td>\n",
              "      <td>654</td>\n",
              "      <td>395</td>\n",
              "      <td>256</td>\n",
              "      <td>154</td>\n",
              "      <td>87</td>\n",
              "      <td>47</td>\n",
              "      <td>25</td>\n",
              "      <td>8</td>\n",
              "      <td>4</td>\n",
              "      <td>4</td>\n",
              "      <td>3</td>\n",
              "      <td>1</td>\n",
              "    </tr>\n",
              "    <tr>\n",
              "      <th>unique</th>\n",
              "      <td>115</td>\n",
              "      <td>117</td>\n",
              "      <td>115</td>\n",
              "      <td>114</td>\n",
              "      <td>110</td>\n",
              "      <td>106</td>\n",
              "      <td>102</td>\n",
              "      <td>98</td>\n",
              "      <td>88</td>\n",
              "      <td>80</td>\n",
              "      <td>66</td>\n",
              "      <td>50</td>\n",
              "      <td>43</td>\n",
              "      <td>28</td>\n",
              "      <td>19</td>\n",
              "      <td>8</td>\n",
              "      <td>3</td>\n",
              "      <td>3</td>\n",
              "      <td>3</td>\n",
              "      <td>1</td>\n",
              "    </tr>\n",
              "    <tr>\n",
              "      <th>top</th>\n",
              "      <td>mineral water</td>\n",
              "      <td>mineral water</td>\n",
              "      <td>mineral water</td>\n",
              "      <td>mineral water</td>\n",
              "      <td>green tea</td>\n",
              "      <td>french fries</td>\n",
              "      <td>green tea</td>\n",
              "      <td>green tea</td>\n",
              "      <td>green tea</td>\n",
              "      <td>green tea</td>\n",
              "      <td>low fat yogurt</td>\n",
              "      <td>green tea</td>\n",
              "      <td>green tea</td>\n",
              "      <td>green tea</td>\n",
              "      <td>magazines</td>\n",
              "      <td>salmon</td>\n",
              "      <td>frozen smoothie</td>\n",
              "      <td>protein bar</td>\n",
              "      <td>spinach</td>\n",
              "      <td>olive oil</td>\n",
              "    </tr>\n",
              "    <tr>\n",
              "      <th>freq</th>\n",
              "      <td>577</td>\n",
              "      <td>484</td>\n",
              "      <td>375</td>\n",
              "      <td>201</td>\n",
              "      <td>153</td>\n",
              "      <td>107</td>\n",
              "      <td>96</td>\n",
              "      <td>67</td>\n",
              "      <td>57</td>\n",
              "      <td>31</td>\n",
              "      <td>22</td>\n",
              "      <td>15</td>\n",
              "      <td>8</td>\n",
              "      <td>4</td>\n",
              "      <td>3</td>\n",
              "      <td>1</td>\n",
              "      <td>2</td>\n",
              "      <td>2</td>\n",
              "      <td>1</td>\n",
              "      <td>1</td>\n",
              "    </tr>\n",
              "  </tbody>\n",
              "</table>\n",
              "</div>"
            ]
          },
          "metadata": {},
          "execution_count": 19
        }
      ]
    },
    {
      "cell_type": "code",
      "source": [
        "dataset.info()"
      ],
      "metadata": {
        "colab": {
          "base_uri": "https://localhost:8080/"
        },
        "id": "-HeB9I4PRJdZ",
        "outputId": "8409f68d-c170-4988-dd21-10e2db579e3d"
      },
      "execution_count": 20,
      "outputs": [
        {
          "output_type": "stream",
          "name": "stdout",
          "text": [
            "<class 'pandas.core.frame.DataFrame'>\n",
            "RangeIndex: 7501 entries, 0 to 7500\n",
            "Data columns (total 20 columns):\n",
            " #   Column  Non-Null Count  Dtype \n",
            "---  ------  --------------  ----- \n",
            " 0   0       7501 non-null   object\n",
            " 1   1       5747 non-null   object\n",
            " 2   2       4389 non-null   object\n",
            " 3   3       3345 non-null   object\n",
            " 4   4       2529 non-null   object\n",
            " 5   5       1864 non-null   object\n",
            " 6   6       1369 non-null   object\n",
            " 7   7       981 non-null    object\n",
            " 8   8       654 non-null    object\n",
            " 9   9       395 non-null    object\n",
            " 10  10      256 non-null    object\n",
            " 11  11      154 non-null    object\n",
            " 12  12      87 non-null     object\n",
            " 13  13      47 non-null     object\n",
            " 14  14      25 non-null     object\n",
            " 15  15      8 non-null      object\n",
            " 16  16      4 non-null      object\n",
            " 17  17      4 non-null      object\n",
            " 18  18      3 non-null      object\n",
            " 19  19      1 non-null      object\n",
            "dtypes: object(20)\n",
            "memory usage: 1.1+ MB\n"
          ]
        }
      ]
    },
    {
      "cell_type": "markdown",
      "source": [
        "## generate transactions"
      ],
      "metadata": {
        "id": "i4OJqAxQfXLu"
      }
    },
    {
      "cell_type": "code",
      "source": [
        "# converting dataframe into list of lists\n",
        "transaction = []\n",
        "for i in range(1, 7501):\n",
        "    transaction.append([str(dataset.values[i, j]) for j in range(0, 20)])"
      ],
      "metadata": {
        "id": "_P553Sxz8eTs"
      },
      "execution_count": 22,
      "outputs": []
    },
    {
      "cell_type": "code",
      "source": [
        "# transaction[:3] #debug"
      ],
      "metadata": {
        "id": "GnYoKXI2i2wI"
      },
      "execution_count": 23,
      "outputs": []
    },
    {
      "cell_type": "markdown",
      "source": [
        "## Apriori Rules"
      ],
      "metadata": {
        "id": "dbpTXYi5hxvZ"
      }
    },
    {
      "cell_type": "code",
      "source": [
        "from apyori import apriori"
      ],
      "metadata": {
        "id": "a6BiGVM78eRV"
      },
      "execution_count": 24,
      "outputs": []
    },
    {
      "cell_type": "code",
      "source": [
        "rules = apriori(transaction, min_support=0.0045, min_confidence=0.2, min_lift=3, min_length=2)\n",
        "# defining MinSup, MinConf, MinLift and MinLength using transaction data to generate rules\n",
        "rules"
      ],
      "metadata": {
        "colab": {
          "base_uri": "https://localhost:8080/"
        },
        "id": "norwrykQ8eO-",
        "outputId": "e9d36531-08c8-40d9-97af-cb9c3d1dd545"
      },
      "execution_count": 25,
      "outputs": [
        {
          "output_type": "execute_result",
          "data": {
            "text/plain": [
              "<generator object apriori at 0x000002DFABF07510>"
            ]
          },
          "metadata": {},
          "execution_count": 25
        }
      ]
    },
    {
      "cell_type": "code",
      "source": [
        "# converting rules into list\n",
        "results = list(rules)\n",
        "results[:2]"
      ],
      "metadata": {
        "colab": {
          "base_uri": "https://localhost:8080/"
        },
        "id": "SbS2nXcU8eMK",
        "outputId": "13c4c190-91a9-4142-fe58-6d19e36c25aa"
      },
      "execution_count": 26,
      "outputs": [
        {
          "output_type": "execute_result",
          "data": {
            "text/plain": [
              "[RelationRecord(items=frozenset({'chicken', 'light cream'}), support=0.004533333333333334, ordered_statistics=[OrderedStatistic(items_base=frozenset({'light cream'}), items_add=frozenset({'chicken'}), confidence=0.2905982905982906, lift=4.843304843304844)]),\n",
              " RelationRecord(items=frozenset({'mushroom cream sauce', 'escalope'}), support=0.005733333333333333, ordered_statistics=[OrderedStatistic(items_base=frozenset({'mushroom cream sauce'}), items_add=frozenset({'escalope'}), confidence=0.30069930069930073, lift=3.7903273197390845)])]"
            ]
          },
          "metadata": {},
          "execution_count": 26
        }
      ]
    },
    {
      "cell_type": "markdown",
      "source": [
        "## Rules' Combinations"
      ],
      "metadata": {
        "id": "6XloYe5C0ADg"
      }
    },
    {
      "cell_type": "code",
      "source": [
        "for i in range(0, len(results)):\n",
        "    print(results[i][0])\n",
        "# printing combinations from rules"
      ],
      "metadata": {
        "colab": {
          "base_uri": "https://localhost:8080/"
        },
        "id": "9f5dyd8tf0gW",
        "outputId": "dd7e05c9-c77f-400b-b322-ec838391683b"
      },
      "execution_count": null,
      "outputs": [
        {
          "output_type": "stream",
          "name": "stdout",
          "text": [
            "frozenset({'light cream', 'chicken'})\n",
            "frozenset({'escalope', 'mushroom cream sauce'})\n",
            "frozenset({'escalope', 'pasta'})\n",
            "frozenset({'ground beef', 'herb & pepper'})\n",
            "frozenset({'ground beef', 'tomato sauce'})\n",
            "frozenset({'olive oil', 'whole wheat pasta'})\n",
            "frozenset({'pasta', 'shrimp'})\n",
            "frozenset({'light cream', 'chicken', 'nan'})\n",
            "frozenset({'shrimp', 'chocolate', 'frozen vegetables'})\n",
            "frozenset({'ground beef', 'spaghetti', 'cooking oil'})\n",
            "frozenset({'escalope', 'nan', 'mushroom cream sauce'})\n",
            "frozenset({'escalope', 'nan', 'pasta'})\n",
            "frozenset({'ground beef', 'spaghetti', 'frozen vegetables'})\n",
            "frozenset({'milk', 'olive oil', 'frozen vegetables'})\n",
            "frozenset({'mineral water', 'shrimp', 'frozen vegetables'})\n",
            "frozenset({'olive oil', 'spaghetti', 'frozen vegetables'})\n",
            "frozenset({'shrimp', 'spaghetti', 'frozen vegetables'})\n",
            "frozenset({'tomatoes', 'spaghetti', 'frozen vegetables'})\n",
            "frozenset({'ground beef', 'spaghetti', 'grated cheese'})\n",
            "frozenset({'ground beef', 'herb & pepper', 'mineral water'})\n",
            "frozenset({'ground beef', 'herb & pepper', 'nan'})\n",
            "frozenset({'ground beef', 'spaghetti', 'herb & pepper'})\n",
            "frozenset({'ground beef', 'olive oil', 'milk'})\n",
            "frozenset({'ground beef', 'tomato sauce', 'nan'})\n",
            "frozenset({'ground beef', 'spaghetti', 'shrimp'})\n",
            "frozenset({'milk', 'olive oil', 'spaghetti'})\n",
            "frozenset({'olive oil', 'soup', 'mineral water'})\n",
            "frozenset({'olive oil', 'whole wheat pasta', 'nan'})\n",
            "frozenset({'pasta', 'nan', 'shrimp'})\n",
            "frozenset({'olive oil', 'pancakes', 'spaghetti'})\n",
            "frozenset({'shrimp', 'chocolate', 'nan', 'frozen vegetables'})\n",
            "frozenset({'ground beef', 'spaghetti', 'cooking oil', 'nan'})\n",
            "frozenset({'ground beef', 'spaghetti', 'nan', 'frozen vegetables'})\n",
            "frozenset({'milk', 'mineral water', 'spaghetti', 'frozen vegetables'})\n",
            "frozenset({'milk', 'olive oil', 'nan', 'frozen vegetables'})\n",
            "frozenset({'mineral water', 'shrimp', 'nan', 'frozen vegetables'})\n",
            "frozenset({'olive oil', 'spaghetti', 'nan', 'frozen vegetables'})\n",
            "frozenset({'shrimp', 'spaghetti', 'nan', 'frozen vegetables'})\n",
            "frozenset({'tomatoes', 'spaghetti', 'nan', 'frozen vegetables'})\n",
            "frozenset({'ground beef', 'nan', 'spaghetti', 'grated cheese'})\n",
            "frozenset({'ground beef', 'herb & pepper', 'nan', 'mineral water'})\n",
            "frozenset({'ground beef', 'spaghetti', 'herb & pepper', 'nan'})\n",
            "frozenset({'ground beef', 'olive oil', 'milk', 'nan'})\n",
            "frozenset({'ground beef', 'spaghetti', 'nan', 'shrimp'})\n",
            "frozenset({'milk', 'olive oil', 'spaghetti', 'nan'})\n",
            "frozenset({'olive oil', 'soup', 'nan', 'mineral water'})\n",
            "frozenset({'olive oil', 'pancakes', 'spaghetti', 'nan'})\n",
            "frozenset({'frozen vegetables', 'milk', 'mineral water', 'nan', 'spaghetti'})\n"
          ]
        }
      ]
    },
    {
      "cell_type": "markdown",
      "source": [
        "## Rules, Support, Confidence and Lift ratio"
      ],
      "metadata": {
        "id": "GbZY-1eO0Dka"
      }
    },
    {
      "cell_type": "code",
      "source": [
        "# printing Rules, Support, Confidence and Lift ratio\n",
        "for item in results:\n",
        "    # first  index of the inner list\n",
        "    # contains base item and add item\n",
        "    pair = item[0]\n",
        "    items = [x for x in pair]\n",
        "    print(\"Rule: \"+items[0] + \"->\"+items[1])\n",
        "\n",
        "    # second index of the inner list\n",
        "    print(\"Support: \"+str(item[1]))\n",
        "\n",
        "    # third index of the list located at 0th of the third index of the inner list\n",
        "    print(\"Confidence: \"+str(item[2][0][2]))\n",
        "    print(\"Lift: \"+str(item[2][0][3]))\n",
        "    print(\"------------------------------------------------------------------\")"
      ],
      "metadata": {
        "id": "DG-GBIO8ga5l",
        "colab": {
          "base_uri": "https://localhost:8080/"
        },
        "outputId": "2c4e5f4a-55ac-406d-ecd2-c7e8eaf2c304"
      },
      "execution_count": 28,
      "outputs": [
        {
          "output_type": "stream",
          "name": "stdout",
          "text": [
            "Rule: chicken->light cream\n",
            "Support: 0.004533333333333334\n",
            "Confidence: 0.2905982905982906\n",
            "Lift: 4.843304843304844\n",
            "------------------------------------------------------------------\n",
            "Rule: mushroom cream sauce->escalope\n",
            "Support: 0.005733333333333333\n",
            "Confidence: 0.30069930069930073\n",
            "Lift: 3.7903273197390845\n",
            "------------------------------------------------------------------\n",
            "Rule: pasta->escalope\n",
            "Support: 0.005866666666666667\n",
            "Confidence: 0.37288135593220345\n",
            "Lift: 4.700185158809287\n",
            "------------------------------------------------------------------\n",
            "Rule: herb & pepper->ground beef\n",
            "Support: 0.016\n",
            "Confidence: 0.3234501347708895\n",
            "Lift: 3.2915549671393096\n",
            "------------------------------------------------------------------\n",
            "Rule: tomato sauce->ground beef\n",
            "Support: 0.005333333333333333\n",
            "Confidence: 0.37735849056603776\n",
            "Lift: 3.840147461662528\n",
            "------------------------------------------------------------------\n",
            "Rule: whole wheat pasta->olive oil\n",
            "Support: 0.008\n",
            "Confidence: 0.2714932126696833\n",
            "Lift: 4.130221288078346\n",
            "------------------------------------------------------------------\n",
            "Rule: shrimp->pasta\n",
            "Support: 0.005066666666666666\n",
            "Confidence: 0.3220338983050848\n",
            "Lift: 4.514493901473151\n",
            "------------------------------------------------------------------\n",
            "Rule: nan->chicken\n",
            "Support: 0.004533333333333334\n",
            "Confidence: 0.2905982905982906\n",
            "Lift: 4.843304843304844\n",
            "------------------------------------------------------------------\n",
            "Rule: chocolate->shrimp\n",
            "Support: 0.005333333333333333\n",
            "Confidence: 0.23255813953488372\n",
            "Lift: 3.260160834601174\n",
            "------------------------------------------------------------------\n",
            "Rule: spaghetti->cooking oil\n",
            "Support: 0.0048\n",
            "Confidence: 0.5714285714285714\n",
            "Lift: 3.281557646029315\n",
            "------------------------------------------------------------------\n",
            "Rule: mushroom cream sauce->nan\n",
            "Support: 0.005733333333333333\n",
            "Confidence: 0.30069930069930073\n",
            "Lift: 3.7903273197390845\n",
            "------------------------------------------------------------------\n",
            "Rule: pasta->nan\n",
            "Support: 0.005866666666666667\n",
            "Confidence: 0.37288135593220345\n",
            "Lift: 4.700185158809287\n",
            "------------------------------------------------------------------\n",
            "Rule: spaghetti->frozen vegetables\n",
            "Support: 0.008666666666666666\n",
            "Confidence: 0.3110047846889952\n",
            "Lift: 3.164906221394116\n",
            "------------------------------------------------------------------\n",
            "Rule: milk->olive oil\n",
            "Support: 0.0048\n",
            "Confidence: 0.20338983050847456\n",
            "Lift: 3.094165778526489\n",
            "------------------------------------------------------------------\n",
            "Rule: mineral water->shrimp\n",
            "Support: 0.0072\n",
            "Confidence: 0.3068181818181818\n",
            "Lift: 3.2183725365543547\n",
            "------------------------------------------------------------------\n",
            "Rule: spaghetti->olive oil\n",
            "Support: 0.005733333333333333\n",
            "Confidence: 0.20574162679425836\n",
            "Lift: 3.1299436124887174\n",
            "------------------------------------------------------------------\n",
            "Rule: spaghetti->shrimp\n",
            "Support: 0.006\n",
            "Confidence: 0.21531100478468898\n",
            "Lift: 3.0183785717479763\n",
            "------------------------------------------------------------------\n",
            "Rule: spaghetti->tomatoes\n",
            "Support: 0.006666666666666667\n",
            "Confidence: 0.23923444976076555\n",
            "Lift: 3.497579674864993\n",
            "------------------------------------------------------------------\n",
            "Rule: spaghetti->grated cheese\n",
            "Support: 0.005333333333333333\n",
            "Confidence: 0.3225806451612903\n",
            "Lift: 3.282706701098612\n",
            "------------------------------------------------------------------\n",
            "Rule: mineral water->herb & pepper\n",
            "Support: 0.006666666666666667\n",
            "Confidence: 0.390625\n",
            "Lift: 3.975152645861601\n",
            "------------------------------------------------------------------\n",
            "Rule: nan->herb & pepper\n",
            "Support: 0.016\n",
            "Confidence: 0.3234501347708895\n",
            "Lift: 3.2915549671393096\n",
            "------------------------------------------------------------------\n",
            "Rule: spaghetti->herb & pepper\n",
            "Support: 0.0064\n",
            "Confidence: 0.3934426229508197\n",
            "Lift: 4.003825878061259\n",
            "------------------------------------------------------------------\n",
            "Rule: milk->olive oil\n",
            "Support: 0.004933333333333333\n",
            "Confidence: 0.22424242424242424\n",
            "Lift: 3.411395906324912\n",
            "------------------------------------------------------------------\n",
            "Rule: tomato sauce->nan\n",
            "Support: 0.005333333333333333\n",
            "Confidence: 0.37735849056603776\n",
            "Lift: 3.840147461662528\n",
            "------------------------------------------------------------------\n",
            "Rule: spaghetti->shrimp\n",
            "Support: 0.006\n",
            "Confidence: 0.5232558139534884\n",
            "Lift: 3.004914704939635\n",
            "------------------------------------------------------------------\n",
            "Rule: spaghetti->milk\n",
            "Support: 0.0072\n",
            "Confidence: 0.20300751879699247\n",
            "Lift: 3.0883496774390333\n",
            "------------------------------------------------------------------\n",
            "Rule: mineral water->olive oil\n",
            "Support: 0.0052\n",
            "Confidence: 0.2254335260115607\n",
            "Lift: 3.4295161157945335\n",
            "------------------------------------------------------------------\n",
            "Rule: whole wheat pasta->nan\n",
            "Support: 0.008\n",
            "Confidence: 0.2714932126696833\n",
            "Lift: 4.130221288078346\n",
            "------------------------------------------------------------------\n",
            "Rule: nan->shrimp\n",
            "Support: 0.005066666666666666\n",
            "Confidence: 0.3220338983050848\n",
            "Lift: 4.514493901473151\n",
            "------------------------------------------------------------------\n",
            "Rule: spaghetti->pancakes\n",
            "Support: 0.005066666666666666\n",
            "Confidence: 0.20105820105820105\n",
            "Lift: 3.0586947422647217\n",
            "------------------------------------------------------------------\n",
            "Rule: chocolate->nan\n",
            "Support: 0.005333333333333333\n",
            "Confidence: 0.23255813953488372\n",
            "Lift: 3.260160834601174\n",
            "------------------------------------------------------------------\n",
            "Rule: spaghetti->nan\n",
            "Support: 0.0048\n",
            "Confidence: 0.5714285714285714\n",
            "Lift: 3.281557646029315\n",
            "------------------------------------------------------------------\n",
            "Rule: spaghetti->nan\n",
            "Support: 0.008666666666666666\n",
            "Confidence: 0.3110047846889952\n",
            "Lift: 3.164906221394116\n",
            "------------------------------------------------------------------\n",
            "Rule: spaghetti->milk\n",
            "Support: 0.004533333333333334\n",
            "Confidence: 0.28813559322033905\n",
            "Lift: 3.0224013274860737\n",
            "------------------------------------------------------------------\n",
            "Rule: milk->olive oil\n",
            "Support: 0.0048\n",
            "Confidence: 0.20338983050847456\n",
            "Lift: 3.094165778526489\n",
            "------------------------------------------------------------------\n",
            "Rule: mineral water->shrimp\n",
            "Support: 0.0072\n",
            "Confidence: 0.3068181818181818\n",
            "Lift: 3.2183725365543547\n",
            "------------------------------------------------------------------\n",
            "Rule: spaghetti->nan\n",
            "Support: 0.005733333333333333\n",
            "Confidence: 0.20574162679425836\n",
            "Lift: 3.1299436124887174\n",
            "------------------------------------------------------------------\n",
            "Rule: spaghetti->nan\n",
            "Support: 0.006\n",
            "Confidence: 0.21531100478468898\n",
            "Lift: 3.0183785717479763\n",
            "------------------------------------------------------------------\n",
            "Rule: spaghetti->nan\n",
            "Support: 0.006666666666666667\n",
            "Confidence: 0.23923444976076555\n",
            "Lift: 3.497579674864993\n",
            "------------------------------------------------------------------\n",
            "Rule: spaghetti->nan\n",
            "Support: 0.005333333333333333\n",
            "Confidence: 0.3225806451612903\n",
            "Lift: 3.282706701098612\n",
            "------------------------------------------------------------------\n",
            "Rule: mineral water->herb & pepper\n",
            "Support: 0.006666666666666667\n",
            "Confidence: 0.390625\n",
            "Lift: 3.975152645861601\n",
            "------------------------------------------------------------------\n",
            "Rule: spaghetti->nan\n",
            "Support: 0.0064\n",
            "Confidence: 0.3934426229508197\n",
            "Lift: 4.003825878061259\n",
            "------------------------------------------------------------------\n",
            "Rule: milk->olive oil\n",
            "Support: 0.004933333333333333\n",
            "Confidence: 0.22424242424242424\n",
            "Lift: 3.411395906324912\n",
            "------------------------------------------------------------------\n",
            "Rule: spaghetti->nan\n",
            "Support: 0.006\n",
            "Confidence: 0.5232558139534884\n",
            "Lift: 3.004914704939635\n",
            "------------------------------------------------------------------\n",
            "Rule: spaghetti->milk\n",
            "Support: 0.0072\n",
            "Confidence: 0.20300751879699247\n",
            "Lift: 3.0883496774390333\n",
            "------------------------------------------------------------------\n",
            "Rule: mineral water->olive oil\n",
            "Support: 0.0052\n",
            "Confidence: 0.2254335260115607\n",
            "Lift: 3.4295161157945335\n",
            "------------------------------------------------------------------\n",
            "Rule: spaghetti->nan\n",
            "Support: 0.005066666666666666\n",
            "Confidence: 0.20105820105820105\n",
            "Lift: 3.0586947422647217\n",
            "------------------------------------------------------------------\n",
            "Rule: milk->mineral water\n",
            "Support: 0.004533333333333334\n",
            "Confidence: 0.28813559322033905\n",
            "Lift: 3.0224013274860737\n",
            "------------------------------------------------------------------\n"
          ]
        }
      ]
    },
    {
      "cell_type": "code",
      "source": [],
      "metadata": {
        "id": "iEo6wkD8gayY"
      },
      "execution_count": 28,
      "outputs": []
    }
  ]
}