{
  "nbformat": 4,
  "nbformat_minor": 0,
  "metadata": {
    "colab": {
      "provenance": [],
      "toc_visible": true
    },
    "kernelspec": {
      "name": "python3",
      "display_name": "Python 3"
    },
    "language_info": {
      "name": "python"
    }
  },
  "cells": [
    {
      "cell_type": "markdown",
      "source": [
        "- only theory lecture was taken up (No coding was perfromed)"
      ],
      "metadata": {
        "id": "XleW-m0QRlyf"
      }
    },
    {
      "cell_type": "code",
      "execution_count": 1,
      "metadata": {
        "id": "C55r-DOow4lJ"
      },
      "outputs": [],
      "source": [
        "# only theory lecture was taken up (No coding was perfromed)"
      ]
    }
  ]
}