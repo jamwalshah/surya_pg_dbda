{
  "nbformat": 4,
  "nbformat_minor": 0,
  "metadata": {
    "colab": {
      "provenance": [],
      "toc_visible": true
    },
    "kernelspec": {
      "name": "python3",
      "display_name": "Python 3"
    },
    "language_info": {
      "name": "python"
    }
  },
  "cells": [
    {
      "cell_type": "markdown",
      "source": [
        "# → Sequential / Probabilistic Algorithms\n",
        "- Naive-Bayes - single decision\n",
        "- Decision Tree - multiple decisions in single tree\n",
        "- Random Forest - multiple decisions in multiple trees\n"
      ],
      "metadata": {
        "id": "tGWcQjc5DTQ9"
      }
    },
    {
      "cell_type": "markdown",
      "source": [
        "# Naive-Bayes Clasiifier using GaussianNB\n",
        "- single decision based on probability\n",
        "- Probabilistic Classification\n",
        "- calculates Probability / certainity\n",
        "- based on Bayes Theorem\n",
        "    - ```P(A|B)``` = ```P(B|A).P(A) / P(B)```\n",
        "- assumes\n",
        "    - classes are mutually exclusive and exhaustive\n",
        "    - attributes are independent given the class"
      ],
      "metadata": {
        "id": "2SjJYrlqrYux"
      }
    },
    {
      "cell_type": "markdown",
      "source": [
        "# Advantages of Naive-Bayes Classifier\n",
        "- one of the fast and easy ML algorithms for classification\n",
        "- can be used for binary as well as Multi-class classifications\n",
        "- performs better in multi-class classification as compared to other algorithms"
      ],
      "metadata": {
        "id": "7ck-Luflm3sf"
      }
    },
    {
      "cell_type": "markdown",
      "source": [
        "# Disadvantages of Naive-Bayes Classifier\n",
        "- Naive-Bayes Classifier assumes that all classes are mutually exclusive and exhaustive, so it cannot learn the relationship between features"
      ],
      "metadata": {
        "id": "jcf4tbgQnt31"
      }
    },
    {
      "cell_type": "markdown",
      "source": [
        "# Types of Naive-Bayes Classifier\n",
        "- Gaussian classifier\n",
        "    - assumes that features follow a normal distribution\n",
        "    - as it follows normal distribution, predictors can take continuous values instead of discrete values\n",
        "- Multinomial classifier\n",
        "    - used when data is multinomial distributed\n",
        "    - works on the frequency of words, so it is mostly used to classify documents\n",
        "- Bernoulli classifier\n",
        "    - similar to Multinomial classfier, but it considers the presence of words as boolean instead of frequency of words"
      ],
      "metadata": {
        "id": "iqW6ryWXoXGv"
      }
    },
    {
      "cell_type": "markdown",
      "source": [
        "# Conditional Probability\n",
        "- ```A```: observation Event\n",
        "- ```B```: condition, which is occuring\n",
        "- Conditional Probability, ```P(A|B)``` = Probability of A when event B occurs\n",
        "- Conditional Probability, ```P(A|B)``` = ```P(A ∩ B)``` / ```P(B)```\n",
        "- \t```P(A|B)``` : Posterior , Probability of hypothesis A when we have occurred an evidence B\n",
        "- ```P(B|A)``` : Likelihood / Evidence\n",
        "- ```P(A)``` : Prior Probability\n",
        "- ```P(B)``` : Marginal Probability\n",
        "- ```P(A∩B)``` : Joint probability of A & B\n",
        "- ```P(A|B)``` = ```P(B|A) P(A)``` / ```P(B)``` ←Bayes Theorem\n"
      ],
      "metadata": {
        "id": "LyG3wIRRz5Ec"
      }
    },
    {
      "cell_type": "markdown",
      "source": [
        "# Bayes Theorem Derivation\n",
        "- We have, ```P(A|B)``` = ```P(A∩B)``` / ```P(B)```\n",
        "    - so, ```P(A∩B)``` = ```P(A|B) P(B)```\n",
        "- also ,  ```P(B|A)``` = ```P(B∩A)``` / ```P(A)```\n",
        "    - so, ```P(B∩A)``` = ```P(B|A) P(A)```\n",
        "- Since, ```P(A∩B)``` = ```P(B∩A)```\n",
        "- So , ```P(A|B) P(B)``` = ```P(B|A) P(A)```\n",
        "- thus ```P(A|B)``` = ```P(B|A) P(A)``` / ```P(B)``` ←Bayes Theorem\n"
      ],
      "metadata": {
        "id": "sklwEFWX0o2I"
      }
    },
    {
      "cell_type": "markdown",
      "source": [
        "## importing libs"
      ],
      "metadata": {
        "id": "JThSPAE-nPil"
      }
    },
    {
      "cell_type": "code",
      "source": [
        "import pandas as pd\n",
        "import numpy as np\n",
        "import matplotlib.pyplot as plt"
      ],
      "metadata": {
        "id": "2drvpsjxnQFT"
      },
      "execution_count": 2,
      "outputs": []
    },
    {
      "cell_type": "markdown",
      "source": [
        "## Assigning features and label variables"
      ],
      "metadata": {
        "id": "B3M4hTSvm2ji"
      }
    },
    {
      "cell_type": "code",
      "source": [
        "### First Feature\n",
        "weather=['Sunny','Sunny','Overcast','Rainy','Rainy','Rainy','Overcast','Sunny','Sunny', 'Rainy','Sunny','Overcast','Overcast','Rainy']"
      ],
      "metadata": {
        "id": "9sqxy7nUmwXj"
      },
      "execution_count": 3,
      "outputs": []
    },
    {
      "cell_type": "code",
      "source": [
        "### Second Feature\n",
        "temp=['Hot','Hot','Hot','Mild','Cool','Cool','Cool','Mild','Cool','Mild','Mild','Mild','Hot','Mild']"
      ],
      "metadata": {
        "id": "RjmEeYcjmwVn"
      },
      "execution_count": 4,
      "outputs": []
    },
    {
      "cell_type": "code",
      "source": [
        "### Label or target varible\n",
        "play=['No','No','Yes','Yes','Yes','No','Yes','No','Yes','Yes','Yes','Yes','Yes','No']"
      ],
      "metadata": {
        "id": "DyLhKZgwmwTS"
      },
      "execution_count": 5,
      "outputs": []
    },
    {
      "cell_type": "markdown",
      "source": [
        "## preprocessing"
      ],
      "metadata": {
        "id": "Bi3zVQvjm3oX"
      }
    },
    {
      "cell_type": "markdown",
      "source": [
        "### Label Encoding"
      ],
      "metadata": {
        "id": "fqgXqI6UoN9P"
      }
    },
    {
      "cell_type": "code",
      "source": [
        "from sklearn.preprocessing import LabelEncoder"
      ],
      "metadata": {
        "id": "Jo9i8oPumwRN"
      },
      "execution_count": 6,
      "outputs": []
    },
    {
      "cell_type": "code",
      "source": [
        "la = LabelEncoder()\n",
        "# creating label encoder"
      ],
      "metadata": {
        "id": "B6Fos_p8mwOm"
      },
      "execution_count": 7,
      "outputs": []
    },
    {
      "cell_type": "markdown",
      "source": [
        "#### encoding predictors"
      ],
      "metadata": {
        "id": "iQhRdHWroQv4"
      }
    },
    {
      "cell_type": "code",
      "source": [
        "w_encode = la.fit_transform(weather)\n",
        "w_encode\n",
        "# overcast: 0       # Rainy : 1     # sunny: 2"
      ],
      "metadata": {
        "colab": {
          "base_uri": "https://localhost:8080/"
        },
        "id": "uxlDQF5RmwM2",
        "outputId": "1232d257-b544-43b0-b13c-da386866f9cf"
      },
      "execution_count": 8,
      "outputs": [
        {
          "output_type": "execute_result",
          "data": {
            "text/plain": [
              "array([2, 2, 0, 1, 1, 1, 0, 2, 2, 1, 2, 0, 0, 1], dtype=int64)"
            ]
          },
          "metadata": {},
          "execution_count": 8
        }
      ]
    },
    {
      "cell_type": "code",
      "source": [
        "t_encode = la.fit_transform(temp)\n",
        "t_encode\n",
        "# Cool : 0      # Hot : 1       # Mild : 2"
      ],
      "metadata": {
        "colab": {
          "base_uri": "https://localhost:8080/"
        },
        "id": "UmUf3BIGmwKg",
        "outputId": "7b504860-6cb6-4650-ee3a-0297dc1f3ec9"
      },
      "execution_count": 9,
      "outputs": [
        {
          "output_type": "execute_result",
          "data": {
            "text/plain": [
              "array([1, 1, 1, 2, 0, 0, 0, 2, 0, 2, 2, 2, 1, 2], dtype=int64)"
            ]
          },
          "metadata": {},
          "execution_count": 9
        }
      ]
    },
    {
      "cell_type": "markdown",
      "source": [
        "#### encoding target"
      ],
      "metadata": {
        "id": "QyRYXu0noUBV"
      }
    },
    {
      "cell_type": "code",
      "source": [
        "p_encode = la.fit_transform(play)\n",
        "p_encode\n",
        "# No : 0        # Yes : 1"
      ],
      "metadata": {
        "colab": {
          "base_uri": "https://localhost:8080/"
        },
        "id": "OXtlpO3SmwH-",
        "outputId": "8be4c9cb-6078-4523-d573-0a5e4c86ca4c"
      },
      "execution_count": 10,
      "outputs": [
        {
          "output_type": "execute_result",
          "data": {
            "text/plain": [
              "array([0, 0, 1, 1, 1, 0, 1, 0, 1, 1, 1, 1, 1, 0], dtype=int64)"
            ]
          },
          "metadata": {},
          "execution_count": 10
        }
      ]
    },
    {
      "cell_type": "markdown",
      "source": [
        "### Combining Predictors: zip()"
      ],
      "metadata": {
        "id": "o6nW5fxuoX0-"
      }
    },
    {
      "cell_type": "code",
      "source": [
        "features = list(zip(w_encode, t_encode))\n",
        "features[:5]"
      ],
      "metadata": {
        "colab": {
          "base_uri": "https://localhost:8080/"
        },
        "id": "nR4cBr14mv_i",
        "outputId": "9b9d06f6-c6e3-4015-df1a-3a255bd48106"
      },
      "execution_count": 11,
      "outputs": [
        {
          "output_type": "execute_result",
          "data": {
            "text/plain": [
              "[(2, 1), (2, 1), (0, 1), (1, 2), (1, 0)]"
            ]
          },
          "metadata": {},
          "execution_count": 11
        }
      ]
    },
    {
      "cell_type": "markdown",
      "source": [
        "## Training"
      ],
      "metadata": {
        "id": "Z3sOxGZJom_3"
      }
    },
    {
      "cell_type": "code",
      "source": [
        "from sklearn.naive_bayes import GaussianNB"
      ],
      "metadata": {
        "id": "bUoG5r16om6A"
      },
      "execution_count": 12,
      "outputs": []
    },
    {
      "cell_type": "code",
      "source": [
        "model = GaussianNB()\n",
        "# creating model"
      ],
      "metadata": {
        "id": "dS1VBE34om3q"
      },
      "execution_count": 13,
      "outputs": []
    },
    {
      "cell_type": "code",
      "source": [
        "model.fit(features, p_encode)\n",
        "# Training model"
      ],
      "metadata": {
        "colab": {
          "base_uri": "https://localhost:8080/",
          "height": 75
        },
        "id": "rSz6U8p3om1L",
        "outputId": "0f90f32c-f07e-4eb3-bb90-f4cbbb4e90a7"
      },
      "execution_count": 14,
      "outputs": [
        {
          "output_type": "execute_result",
          "data": {
            "text/plain": [
              "GaussianNB()"
            ],
            "text/html": [
              "<style>#sk-container-id-1 {color: black;}#sk-container-id-1 pre{padding: 0;}#sk-container-id-1 div.sk-toggleable {background-color: white;}#sk-container-id-1 label.sk-toggleable__label {cursor: pointer;display: block;width: 100%;margin-bottom: 0;padding: 0.3em;box-sizing: border-box;text-align: center;}#sk-container-id-1 label.sk-toggleable__label-arrow:before {content: \"▸\";float: left;margin-right: 0.25em;color: #696969;}#sk-container-id-1 label.sk-toggleable__label-arrow:hover:before {color: black;}#sk-container-id-1 div.sk-estimator:hover label.sk-toggleable__label-arrow:before {color: black;}#sk-container-id-1 div.sk-toggleable__content {max-height: 0;max-width: 0;overflow: hidden;text-align: left;background-color: #f0f8ff;}#sk-container-id-1 div.sk-toggleable__content pre {margin: 0.2em;color: black;border-radius: 0.25em;background-color: #f0f8ff;}#sk-container-id-1 input.sk-toggleable__control:checked~div.sk-toggleable__content {max-height: 200px;max-width: 100%;overflow: auto;}#sk-container-id-1 input.sk-toggleable__control:checked~label.sk-toggleable__label-arrow:before {content: \"▾\";}#sk-container-id-1 div.sk-estimator input.sk-toggleable__control:checked~label.sk-toggleable__label {background-color: #d4ebff;}#sk-container-id-1 div.sk-label input.sk-toggleable__control:checked~label.sk-toggleable__label {background-color: #d4ebff;}#sk-container-id-1 input.sk-hidden--visually {border: 0;clip: rect(1px 1px 1px 1px);clip: rect(1px, 1px, 1px, 1px);height: 1px;margin: -1px;overflow: hidden;padding: 0;position: absolute;width: 1px;}#sk-container-id-1 div.sk-estimator {font-family: monospace;background-color: #f0f8ff;border: 1px dotted black;border-radius: 0.25em;box-sizing: border-box;margin-bottom: 0.5em;}#sk-container-id-1 div.sk-estimator:hover {background-color: #d4ebff;}#sk-container-id-1 div.sk-parallel-item::after {content: \"\";width: 100%;border-bottom: 1px solid gray;flex-grow: 1;}#sk-container-id-1 div.sk-label:hover label.sk-toggleable__label {background-color: #d4ebff;}#sk-container-id-1 div.sk-serial::before {content: \"\";position: absolute;border-left: 1px solid gray;box-sizing: border-box;top: 0;bottom: 0;left: 50%;z-index: 0;}#sk-container-id-1 div.sk-serial {display: flex;flex-direction: column;align-items: center;background-color: white;padding-right: 0.2em;padding-left: 0.2em;position: relative;}#sk-container-id-1 div.sk-item {position: relative;z-index: 1;}#sk-container-id-1 div.sk-parallel {display: flex;align-items: stretch;justify-content: center;background-color: white;position: relative;}#sk-container-id-1 div.sk-item::before, #sk-container-id-1 div.sk-parallel-item::before {content: \"\";position: absolute;border-left: 1px solid gray;box-sizing: border-box;top: 0;bottom: 0;left: 50%;z-index: -1;}#sk-container-id-1 div.sk-parallel-item {display: flex;flex-direction: column;z-index: 1;position: relative;background-color: white;}#sk-container-id-1 div.sk-parallel-item:first-child::after {align-self: flex-end;width: 50%;}#sk-container-id-1 div.sk-parallel-item:last-child::after {align-self: flex-start;width: 50%;}#sk-container-id-1 div.sk-parallel-item:only-child::after {width: 0;}#sk-container-id-1 div.sk-dashed-wrapped {border: 1px dashed gray;margin: 0 0.4em 0.5em 0.4em;box-sizing: border-box;padding-bottom: 0.4em;background-color: white;}#sk-container-id-1 div.sk-label label {font-family: monospace;font-weight: bold;display: inline-block;line-height: 1.2em;}#sk-container-id-1 div.sk-label-container {text-align: center;}#sk-container-id-1 div.sk-container {/* jupyter's `normalize.less` sets `[hidden] { display: none; }` but bootstrap.min.css set `[hidden] { display: none !important; }` so we also need the `!important` here to be able to override the default hidden behavior on the sphinx rendered scikit-learn.org. See: https://github.com/scikit-learn/scikit-learn/issues/21755 */display: inline-block !important;position: relative;}#sk-container-id-1 div.sk-text-repr-fallback {display: none;}</style><div id=\"sk-container-id-1\" class=\"sk-top-container\"><div class=\"sk-text-repr-fallback\"><pre>GaussianNB()</pre><b>In a Jupyter environment, please rerun this cell to show the HTML representation or trust the notebook. <br />On GitHub, the HTML representation is unable to render, please try loading this page with nbviewer.org.</b></div><div class=\"sk-container\" hidden><div class=\"sk-item\"><div class=\"sk-estimator sk-toggleable\"><input class=\"sk-toggleable__control sk-hidden--visually\" id=\"sk-estimator-id-1\" type=\"checkbox\" checked><label for=\"sk-estimator-id-1\" class=\"sk-toggleable__label sk-toggleable__label-arrow\">GaussianNB</label><div class=\"sk-toggleable__content\"><pre>GaussianNB()</pre></div></div></div></div></div>"
            ]
          },
          "metadata": {},
          "execution_count": 14
        }
      ]
    },
    {
      "cell_type": "markdown",
      "source": [
        "## Prediction"
      ],
      "metadata": {
        "id": "M_BBe5eUpNRt"
      }
    },
    {
      "cell_type": "code",
      "source": [
        "predicted = model.predict([[0, 2]])\n",
        "predicted"
      ],
      "metadata": {
        "colab": {
          "base_uri": "https://localhost:8080/"
        },
        "id": "KUC6_fbgomzE",
        "outputId": "73d8819b-f76a-44ba-87d5-84d8641dc2fd"
      },
      "execution_count": 15,
      "outputs": [
        {
          "output_type": "execute_result",
          "data": {
            "text/plain": [
              "array([1], dtype=int64)"
            ]
          },
          "metadata": {},
          "execution_count": 15
        }
      ]
    },
    {
      "cell_type": "code",
      "source": [
        "predicted = model.predict([[2, 0]])\n",
        "predicted"
      ],
      "metadata": {
        "colab": {
          "base_uri": "https://localhost:8080/"
        },
        "id": "aI6w7yBromu5",
        "outputId": "143d8dbc-1f4d-4be0-be0b-4a7b3a052f39"
      },
      "execution_count": 16,
      "outputs": [
        {
          "output_type": "execute_result",
          "data": {
            "text/plain": [
              "array([0], dtype=int64)"
            ]
          },
          "metadata": {},
          "execution_count": 16
        }
      ]
    },
    {
      "cell_type": "markdown",
      "source": [
        "## Evaluation"
      ],
      "metadata": {
        "id": "n6UKGk4upnuO"
      }
    },
    {
      "cell_type": "markdown",
      "source": [
        "## Test data needs to be provided for evaluation"
      ],
      "metadata": {
        "id": "Y4crp6qPBxZ7"
      }
    },
    {
      "cell_type": "markdown",
      "source": [
        "### confusion_matrix"
      ],
      "metadata": {
        "id": "v2wFPiAQp1_t"
      }
    },
    {
      "cell_type": "code",
      "source": [
        "from sklearn.metrics import confusion_matrix"
      ],
      "metadata": {
        "id": "-LlwxfbDoms0"
      },
      "execution_count": 17,
      "outputs": []
    },
    {
      "cell_type": "code",
      "source": [
        "# confusion_matrix(y_test, y_pred)\n",
        "# Test data needs to be provided."
      ],
      "metadata": {
        "id": "ZIYBEJDEp0zQ"
      },
      "execution_count": 18,
      "outputs": []
    },
    {
      "cell_type": "markdown",
      "source": [
        "### classification_report"
      ],
      "metadata": {
        "id": "Oqes6_MTp30u"
      }
    },
    {
      "cell_type": "code",
      "source": [
        "from sklearn.metrics import classification_report"
      ],
      "metadata": {
        "id": "TeoNB7-gmv9S"
      },
      "execution_count": 19,
      "outputs": []
    },
    {
      "cell_type": "code",
      "source": [
        "# print(classification_report(y_test, y_pred))\n",
        "# Test data needs to be provided."
      ],
      "metadata": {
        "id": "gOsDw6Mop0_m"
      },
      "execution_count": 20,
      "outputs": []
    },
    {
      "cell_type": "markdown",
      "source": [
        "### accuracy_score"
      ],
      "metadata": {
        "id": "X5V4B4u_p5d3"
      }
    },
    {
      "cell_type": "code",
      "execution_count": 21,
      "metadata": {
        "id": "ABP2T_Q0mt2L"
      },
      "outputs": [],
      "source": [
        "from sklearn.metrics import accuracy_score"
      ]
    },
    {
      "cell_type": "code",
      "source": [
        "# accuracy_score(y_test, y_pred)\n",
        "# Test data needs to be provided."
      ],
      "metadata": {
        "id": "d7wsPg91p1Vn"
      },
      "execution_count": 22,
      "outputs": []
    },
    {
      "cell_type": "markdown",
      "source": [
        "### precision_score"
      ],
      "metadata": {
        "id": "sQmguChtCgs8"
      }
    },
    {
      "cell_type": "code",
      "source": [
        "from sklearn.metrics import precision_score"
      ],
      "metadata": {
        "id": "b9QhdZf_CgWy"
      },
      "execution_count": 23,
      "outputs": []
    },
    {
      "cell_type": "code",
      "source": [
        "# precision_score(y_test, y_pred)"
      ],
      "metadata": {
        "id": "QPpeNYHtCgTu"
      },
      "execution_count": 24,
      "outputs": []
    },
    {
      "cell_type": "markdown",
      "source": [
        "### recall_score"
      ],
      "metadata": {
        "id": "vdwpK4CwChM3"
      }
    },
    {
      "cell_type": "code",
      "source": [
        "from sklearn.metrics import recall_score"
      ],
      "metadata": {
        "id": "lnDuEEgXCgQ5"
      },
      "execution_count": 25,
      "outputs": []
    },
    {
      "cell_type": "code",
      "source": [
        "# recall_score(y_test, y_pred)"
      ],
      "metadata": {
        "id": "Bp4o0ywNCgM4"
      },
      "execution_count": 26,
      "outputs": []
    },
    {
      "cell_type": "markdown",
      "source": [
        "# Interview Questions:\n",
        "----------------------\n",
        "1. What is the Naive-Bayes Algorithm?\n",
        "2. How does Naive-Bayes Algorithm work?\n",
        "3. What are the different applications of Naive-Bayes Algorithm?\n",
        "4. What is the formula given by Bayes Theorem?\n",
        "5. What is Posterior Probability & Prior Probability in Bayes Theorem?\n",
        "6. Define Likelihood and Evidence in Bayes Theorem.\n",
        "7. What is Bernoulli’s Distribution in Naive-Bayes?\n",
        "8. What is the best dataset scenario for the Naive-Bayes Classifier?\n",
        "9. Is Naive-Bayes discriminative or generative classifier? [it is generative]\n",
        "10. How does Naive-Bayes Algorithm treat numerical & categorical values? [categorical : Bernoulli distribution, continuous: Gaussian distribution, Discrete: Multinomial distribution]\n"
      ],
      "metadata": {
        "id": "xjYlr8l8r6UL"
      }
    },
    {
      "cell_type": "code",
      "source": [],
      "metadata": {
        "id": "7SoU1xHPC9Ek"
      },
      "execution_count": 26,
      "outputs": []
    }
  ]
}