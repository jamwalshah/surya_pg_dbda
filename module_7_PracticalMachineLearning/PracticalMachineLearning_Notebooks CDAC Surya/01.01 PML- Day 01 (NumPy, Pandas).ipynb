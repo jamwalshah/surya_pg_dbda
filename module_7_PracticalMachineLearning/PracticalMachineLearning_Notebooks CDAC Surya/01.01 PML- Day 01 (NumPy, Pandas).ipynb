{
  "nbformat": 4,
  "nbformat_minor": 0,
  "metadata": {
    "colab": {
      "provenance": [],
      "toc_visible": true
    },
    "kernelspec": {
      "name": "python3",
      "display_name": "Python 3"
    },
    "language_info": {
      "name": "python"
    }
  },
  "cells": [
    {
      "cell_type": "markdown",
      "source": [
        "# introduction to Machine Learning"
      ],
      "metadata": {
        "id": "AkZXC8s9fVxL"
      }
    },
    {
      "cell_type": "markdown",
      "source": [
        "## numpy"
      ],
      "metadata": {
        "id": "kKw5f_Wulwqp"
      }
    },
    {
      "cell_type": "markdown",
      "source": [
        "### import libs"
      ],
      "metadata": {
        "id": "zhLX1sv01XTh"
      }
    },
    {
      "cell_type": "code",
      "execution_count": null,
      "metadata": {
        "id": "8UjxrX6vfG5o"
      },
      "outputs": [],
      "source": [
        "import numpy as np\n",
        "# importing numpy"
      ]
    },
    {
      "cell_type": "code",
      "source": [
        "my_list = [1, 2, 3, 4]\n",
        "# creating a list\n",
        "my_list"
      ],
      "metadata": {
        "colab": {
          "base_uri": "https://localhost:8080/"
        },
        "id": "51SYFu3CfVD7",
        "outputId": "f3df5036-3731-488a-a32e-eb4176eb5220"
      },
      "execution_count": null,
      "outputs": [
        {
          "output_type": "execute_result",
          "data": {
            "text/plain": [
              "[1, 2, 3, 4]"
            ]
          },
          "metadata": {},
          "execution_count": 4
        }
      ]
    },
    {
      "cell_type": "markdown",
      "source": [
        "### 1-D array"
      ],
      "metadata": {
        "id": "Xrh-hm-2uAbP"
      }
    },
    {
      "cell_type": "code",
      "source": [
        "list1 = np.array(my_list)\n",
        "# creating 1-D ndarray from a list\n",
        "list1"
      ],
      "metadata": {
        "colab": {
          "base_uri": "https://localhost:8080/"
        },
        "id": "gbHtUXPqfeWI",
        "outputId": "6bdd1d73-f234-42b5-80a3-98eec2d4673c"
      },
      "execution_count": null,
      "outputs": [
        {
          "output_type": "execute_result",
          "data": {
            "text/plain": [
              "array([1, 2, 3, 4])"
            ]
          },
          "metadata": {},
          "execution_count": 5
        }
      ]
    },
    {
      "cell_type": "code",
      "source": [
        "np.array(range(15))\n",
        "# creating ndarray using range()"
      ],
      "metadata": {
        "colab": {
          "base_uri": "https://localhost:8080/"
        },
        "id": "yPk5Q9qOfnD_",
        "outputId": "808892ea-91a8-4487-ae96-63df2f4e0954"
      },
      "execution_count": null,
      "outputs": [
        {
          "output_type": "execute_result",
          "data": {
            "text/plain": [
              "array([ 0,  1,  2,  3,  4,  5,  6,  7,  8,  9, 10, 11, 12, 13, 14])"
            ]
          },
          "metadata": {},
          "execution_count": 6
        }
      ]
    },
    {
      "cell_type": "code",
      "source": [
        "mylist2 = np.array(range(1, 5))\n",
        "# creating ndarray using range()\n",
        "mylist2"
      ],
      "metadata": {
        "colab": {
          "base_uri": "https://localhost:8080/"
        },
        "id": "41yfQjjZfs3d",
        "outputId": "7589c834-1334-4d42-adac-5b7ce1e37870"
      },
      "execution_count": null,
      "outputs": [
        {
          "output_type": "execute_result",
          "data": {
            "text/plain": [
              "array([1, 2, 3, 4])"
            ]
          },
          "metadata": {},
          "execution_count": 7
        }
      ]
    },
    {
      "cell_type": "code",
      "source": [
        "mylist2.ndim\n",
        "# printing dimensions of ndarray"
      ],
      "metadata": {
        "colab": {
          "base_uri": "https://localhost:8080/"
        },
        "id": "IFpnMxd6f2Hc",
        "outputId": "4fc37d0a-9f84-496a-d400-4f89d513898e"
      },
      "execution_count": null,
      "outputs": [
        {
          "output_type": "execute_result",
          "data": {
            "text/plain": [
              "1"
            ]
          },
          "metadata": {},
          "execution_count": 8
        }
      ]
    },
    {
      "cell_type": "markdown",
      "source": [
        "### 2-D array"
      ],
      "metadata": {
        "id": "Bqbnpn3SgASa"
      }
    },
    {
      "cell_type": "code",
      "source": [
        "np.array([range(1, 4), range(4, 7)])\n",
        "# creating a 2-D ndarray using range()"
      ],
      "metadata": {
        "colab": {
          "base_uri": "https://localhost:8080/"
        },
        "id": "xDJInUgPf54x",
        "outputId": "b6af229a-811a-4089-a754-11061911f3ab"
      },
      "execution_count": null,
      "outputs": [
        {
          "output_type": "execute_result",
          "data": {
            "text/plain": [
              "array([[1, 2, 3],\n",
              "       [4, 5, 6]])"
            ]
          },
          "metadata": {},
          "execution_count": 9
        }
      ]
    },
    {
      "cell_type": "code",
      "source": [
        "b = np.array([[9, 8, 7], [6, 5, 4]])\n",
        "# creating a 2-D ndarray\n",
        "b"
      ],
      "metadata": {
        "colab": {
          "base_uri": "https://localhost:8080/"
        },
        "id": "PHXNahprghdh",
        "outputId": "169109b4-d824-4736-999d-c4e161f5c2c5"
      },
      "execution_count": null,
      "outputs": [
        {
          "output_type": "execute_result",
          "data": {
            "text/plain": [
              "array([[9, 8, 7],\n",
              "       [6, 5, 4]])"
            ]
          },
          "metadata": {},
          "execution_count": 10
        }
      ]
    },
    {
      "cell_type": "code",
      "source": [
        "b1 = np.array([[9.0, 8.0, 7.0], [6.0, 5.0, 4.0]])\n",
        "# # creating a 2-D ndarray of decimal values\n",
        "b1"
      ],
      "metadata": {
        "colab": {
          "base_uri": "https://localhost:8080/"
        },
        "id": "G9yFalaqghyW",
        "outputId": "b4bd2c5e-ba2c-4dda-d6ca-a8c4e2c7ca40"
      },
      "execution_count": null,
      "outputs": [
        {
          "output_type": "execute_result",
          "data": {
            "text/plain": [
              "array([[9., 8., 7.],\n",
              "       [6., 5., 4.]])"
            ]
          },
          "metadata": {},
          "execution_count": 11
        }
      ]
    },
    {
      "cell_type": "markdown",
      "source": [
        "#### 3x3 matrix using 2-D ndarrray"
      ],
      "metadata": {
        "id": "F1YZD2gRgsir"
      }
    },
    {
      "cell_type": "code",
      "source": [
        "matrix = [[1, 2, 3], [4, 5, 6], [7, 8, 9]]\n",
        "# creates 3x3 list\n",
        "matrix"
      ],
      "metadata": {
        "colab": {
          "base_uri": "https://localhost:8080/"
        },
        "id": "IvqOdkPkgqHV",
        "outputId": "d2f0b0eb-5050-4df4-9ac7-7ca4ee3fe05f"
      },
      "execution_count": null,
      "outputs": [
        {
          "output_type": "execute_result",
          "data": {
            "text/plain": [
              "[[1, 2, 3], [4, 5, 6], [7, 8, 9]]"
            ]
          },
          "metadata": {},
          "execution_count": 12
        }
      ]
    },
    {
      "cell_type": "code",
      "source": [
        "a1 = np.array(matrix)\n",
        "# creates 3x3 matrix / ndarray\n",
        "a1"
      ],
      "metadata": {
        "colab": {
          "base_uri": "https://localhost:8080/"
        },
        "id": "EgrJ7tGPgz13",
        "outputId": "b4bc07db-2ae3-4ddf-985b-60125d27e2fa"
      },
      "execution_count": null,
      "outputs": [
        {
          "output_type": "execute_result",
          "data": {
            "text/plain": [
              "array([[1, 2, 3],\n",
              "       [4, 5, 6],\n",
              "       [7, 8, 9]])"
            ]
          },
          "metadata": {},
          "execution_count": 13
        }
      ]
    },
    {
      "cell_type": "code",
      "source": [
        "a1.ndim\n",
        "# checking dimensions of 3x3 matrix"
      ],
      "metadata": {
        "colab": {
          "base_uri": "https://localhost:8080/"
        },
        "id": "ILYGQKdsg-XQ",
        "outputId": "2cb759b0-0e56-4c30-90b5-3860c5b54bf8"
      },
      "execution_count": null,
      "outputs": [
        {
          "output_type": "execute_result",
          "data": {
            "text/plain": [
              "2"
            ]
          },
          "metadata": {},
          "execution_count": 14
        }
      ]
    },
    {
      "cell_type": "code",
      "source": [
        "a1.shape\n",
        "# checking shape of 3x3 matrix"
      ],
      "metadata": {
        "colab": {
          "base_uri": "https://localhost:8080/"
        },
        "id": "CmtZ3mK5g_dW",
        "outputId": "f25256ef-170f-4cad-ae7e-aae5782c01b3"
      },
      "execution_count": null,
      "outputs": [
        {
          "output_type": "execute_result",
          "data": {
            "text/plain": [
              "(3, 3)"
            ]
          },
          "metadata": {},
          "execution_count": 15
        }
      ]
    },
    {
      "cell_type": "code",
      "source": [
        "a1.size\n",
        "# prints Number of elements in ndarray"
      ],
      "metadata": {
        "id": "EH3BsACCvEYH",
        "colab": {
          "base_uri": "https://localhost:8080/"
        },
        "outputId": "9ac3b190-f18d-4e25-cd46-16041a574b32"
      },
      "execution_count": null,
      "outputs": [
        {
          "output_type": "execute_result",
          "data": {
            "text/plain": [
              "9"
            ]
          },
          "metadata": {},
          "execution_count": 16
        }
      ]
    },
    {
      "cell_type": "code",
      "source": [
        "a1.nbytes\n",
        "# prints number of bytes comsumed by ndarray"
      ],
      "metadata": {
        "colab": {
          "base_uri": "https://localhost:8080/"
        },
        "id": "-eVC26JRhAwQ",
        "outputId": "8c9cbc5d-3481-4e35-a93c-52c7b60ac162"
      },
      "execution_count": null,
      "outputs": [
        {
          "output_type": "execute_result",
          "data": {
            "text/plain": [
              "72"
            ]
          },
          "metadata": {},
          "execution_count": 17
        }
      ]
    },
    {
      "cell_type": "code",
      "source": [
        "np.array([[True, False], [True, False]])"
      ],
      "metadata": {
        "colab": {
          "base_uri": "https://localhost:8080/"
        },
        "id": "XYlcUR69hNZe",
        "outputId": "a48c8a97-ccec-4569-9ffc-45bd3c65217c"
      },
      "execution_count": null,
      "outputs": [
        {
          "output_type": "execute_result",
          "data": {
            "text/plain": [
              "array([[ True, False],\n",
              "       [ True, False]])"
            ]
          },
          "metadata": {},
          "execution_count": 18
        }
      ]
    },
    {
      "cell_type": "code",
      "source": [
        "x = np.array([1, 2, 3], dtype='int32')\n",
        "# creates nd array with explicitly specified data type\n",
        "x"
      ],
      "metadata": {
        "colab": {
          "base_uri": "https://localhost:8080/"
        },
        "id": "LpayV-BLhdVq",
        "outputId": "6f9bc7a5-7f31-42c3-8b9d-6afd556fcddb"
      },
      "execution_count": null,
      "outputs": [
        {
          "output_type": "execute_result",
          "data": {
            "text/plain": [
              "array([1, 2, 3], dtype=int32)"
            ]
          },
          "metadata": {},
          "execution_count": 19
        }
      ]
    },
    {
      "cell_type": "code",
      "source": [
        "x.dtype\n",
        "# checks data type of each element of ndarray"
      ],
      "metadata": {
        "colab": {
          "base_uri": "https://localhost:8080/"
        },
        "id": "MlEm8XJKht4M",
        "outputId": "eef3556e-56fb-42cc-b704-4082e6c85865"
      },
      "execution_count": null,
      "outputs": [
        {
          "output_type": "execute_result",
          "data": {
            "text/plain": [
              "dtype('int32')"
            ]
          },
          "metadata": {},
          "execution_count": 20
        }
      ]
    },
    {
      "cell_type": "markdown",
      "source": [
        "### random number: rand(), randint()"
      ],
      "metadata": {
        "id": "IcWdImPWiIxl"
      }
    },
    {
      "cell_type": "code",
      "source": [
        "np.random.rand(4, 2)\n",
        "# generates 4x2 ndarray"
      ],
      "metadata": {
        "colab": {
          "base_uri": "https://localhost:8080/"
        },
        "id": "OfcJinc2iD9h",
        "outputId": "fe21e8c0-04fb-4f12-d65d-fe21de60e566"
      },
      "execution_count": null,
      "outputs": [
        {
          "output_type": "execute_result",
          "data": {
            "text/plain": [
              "array([[0.26123897, 0.00220105],\n",
              "       [0.88022955, 0.46270049],\n",
              "       [0.93782603, 0.64366779],\n",
              "       [0.82134896, 0.44393012]])"
            ]
          },
          "metadata": {},
          "execution_count": 21
        }
      ]
    },
    {
      "cell_type": "code",
      "source": [
        "np.random.rand(3)\n",
        "# equidistant, follows normal distribution"
      ],
      "metadata": {
        "colab": {
          "base_uri": "https://localhost:8080/"
        },
        "id": "KV5hP8T6iNu7",
        "outputId": "479d850f-4a85-4fde-f062-e1592e70a52d"
      },
      "execution_count": null,
      "outputs": [
        {
          "output_type": "execute_result",
          "data": {
            "text/plain": [
              "array([0.10721946, 0.8302901 , 0.71665792])"
            ]
          },
          "metadata": {},
          "execution_count": 22
        }
      ]
    },
    {
      "cell_type": "code",
      "source": [
        "np.random.randint(2, 100)\n",
        "# specify (min, max) and generates a random integers"
      ],
      "metadata": {
        "colab": {
          "base_uri": "https://localhost:8080/"
        },
        "id": "Gw1Qs-h9ijfE",
        "outputId": "24fa5918-e190-4aff-e15f-ec0a03d878ab"
      },
      "execution_count": null,
      "outputs": [
        {
          "output_type": "execute_result",
          "data": {
            "text/plain": [
              "35"
            ]
          },
          "metadata": {},
          "execution_count": 23
        }
      ]
    },
    {
      "cell_type": "code",
      "source": [
        "np.random.rand(3, 3)\n",
        "# generate randomn"
      ],
      "metadata": {
        "colab": {
          "base_uri": "https://localhost:8080/"
        },
        "id": "tC-3Cj5di0AE",
        "outputId": "fd0e0240-77a1-4fbd-cc4d-7cfbc9037b86"
      },
      "execution_count": null,
      "outputs": [
        {
          "output_type": "execute_result",
          "data": {
            "text/plain": [
              "array([[0.38960341, 0.09046973, 0.99413171],\n",
              "       [0.175529  , 0.54600008, 0.64218308],\n",
              "       [0.7552817 , 0.88648012, 0.08937039]])"
            ]
          },
          "metadata": {},
          "execution_count": 24
        }
      ]
    },
    {
      "cell_type": "code",
      "source": [
        "r1 = np.random.randint(1, 10, 8)\n",
        "# generating ndarray of 8 random values between 1 to 10\n",
        "r1"
      ],
      "metadata": {
        "colab": {
          "base_uri": "https://localhost:8080/"
        },
        "id": "he2OwM8-i_BJ",
        "outputId": "15adcb0a-85e9-4068-8b6a-529e5f6c0439"
      },
      "execution_count": null,
      "outputs": [
        {
          "output_type": "execute_result",
          "data": {
            "text/plain": [
              "array([3, 1, 4, 8, 1, 4, 1, 9])"
            ]
          },
          "metadata": {},
          "execution_count": 25
        }
      ]
    },
    {
      "cell_type": "markdown",
      "source": [
        "### Aggregate functions"
      ],
      "metadata": {
        "id": "SvplOGOv1n9P"
      }
    },
    {
      "cell_type": "code",
      "source": [
        "r1.max()\n",
        "# max value from ndarray"
      ],
      "metadata": {
        "colab": {
          "base_uri": "https://localhost:8080/"
        },
        "id": "AdiWPvQzjNfY",
        "outputId": "347e17fb-ab90-447f-f085-ac43eecb1d26"
      },
      "execution_count": null,
      "outputs": [
        {
          "output_type": "execute_result",
          "data": {
            "text/plain": [
              "9"
            ]
          },
          "metadata": {},
          "execution_count": 26
        }
      ]
    },
    {
      "cell_type": "code",
      "source": [
        "r1.min()\n",
        "# min value from ndarray"
      ],
      "metadata": {
        "colab": {
          "base_uri": "https://localhost:8080/"
        },
        "id": "JvJXtSpljREr",
        "outputId": "127bae11-8528-4275-f227-4f2c95e39db9"
      },
      "execution_count": null,
      "outputs": [
        {
          "output_type": "execute_result",
          "data": {
            "text/plain": [
              "1"
            ]
          },
          "metadata": {},
          "execution_count": 27
        }
      ]
    },
    {
      "cell_type": "code",
      "source": [
        "r1.argmax()\n",
        "# index of max value from ndarray"
      ],
      "metadata": {
        "colab": {
          "base_uri": "https://localhost:8080/"
        },
        "id": "rnWpmQIJjSZ9",
        "outputId": "c35909a2-305c-44db-880f-c0abfced59cd"
      },
      "execution_count": null,
      "outputs": [
        {
          "output_type": "execute_result",
          "data": {
            "text/plain": [
              "7"
            ]
          },
          "metadata": {},
          "execution_count": 28
        }
      ]
    },
    {
      "cell_type": "code",
      "source": [
        "r1.argmin()\n",
        "# index of min value from ndarray"
      ],
      "metadata": {
        "colab": {
          "base_uri": "https://localhost:8080/"
        },
        "id": "XFCEApjnjUAM",
        "outputId": "34762164-ebf7-4163-8723-3bf37c710172"
      },
      "execution_count": null,
      "outputs": [
        {
          "output_type": "execute_result",
          "data": {
            "text/plain": [
              "1"
            ]
          },
          "metadata": {},
          "execution_count": 29
        }
      ]
    },
    {
      "cell_type": "markdown",
      "source": [
        "### Generating dafault matrices"
      ],
      "metadata": {
        "id": "N5eBK5UFwhQV"
      }
    },
    {
      "cell_type": "code",
      "source": [
        "np.zeros(5)\n",
        "# generates ndarray of zeros"
      ],
      "metadata": {
        "colab": {
          "base_uri": "https://localhost:8080/"
        },
        "id": "ummO_tSyjV5Z",
        "outputId": "5fe903f7-2afe-4dc8-df38-552baf04c31b"
      },
      "execution_count": null,
      "outputs": [
        {
          "output_type": "execute_result",
          "data": {
            "text/plain": [
              "array([0., 0., 0., 0., 0.])"
            ]
          },
          "metadata": {},
          "execution_count": 30
        }
      ]
    },
    {
      "cell_type": "code",
      "source": [
        "np.ones(5)\n",
        "# generates ndarray of ones"
      ],
      "metadata": {
        "colab": {
          "base_uri": "https://localhost:8080/"
        },
        "id": "LVMJOltkjoPG",
        "outputId": "43b8dc57-cb35-471e-b440-ef503e62cbd7"
      },
      "execution_count": null,
      "outputs": [
        {
          "output_type": "execute_result",
          "data": {
            "text/plain": [
              "array([1., 1., 1., 1., 1.])"
            ]
          },
          "metadata": {},
          "execution_count": 31
        }
      ]
    },
    {
      "cell_type": "code",
      "source": [
        "np.identity(5)\n",
        "# identity matrix"
      ],
      "metadata": {
        "colab": {
          "base_uri": "https://localhost:8080/"
        },
        "id": "Lh9144s8jtKO",
        "outputId": "422362e5-aa74-400d-b433-34c6c935a3ed"
      },
      "execution_count": null,
      "outputs": [
        {
          "output_type": "execute_result",
          "data": {
            "text/plain": [
              "array([[1., 0., 0., 0., 0.],\n",
              "       [0., 1., 0., 0., 0.],\n",
              "       [0., 0., 1., 0., 0.],\n",
              "       [0., 0., 0., 1., 0.],\n",
              "       [0., 0., 0., 0., 1.]])"
            ]
          },
          "metadata": {},
          "execution_count": 32
        }
      ]
    },
    {
      "cell_type": "code",
      "source": [
        "np.random.rand(3, 3) + 5\n",
        "# creating an ndarray with 3x3 matrix and performing broadcasting operation"
      ],
      "metadata": {
        "colab": {
          "base_uri": "https://localhost:8080/"
        },
        "id": "8mWfibuej8do",
        "outputId": "8c5309b1-ed8e-46e6-f6bc-19643261a04e"
      },
      "execution_count": null,
      "outputs": [
        {
          "output_type": "execute_result",
          "data": {
            "text/plain": [
              "array([[5.09359657, 5.05570999, 5.761124  ],\n",
              "       [5.35049421, 5.41443224, 5.24340962],\n",
              "       [5.50363013, 5.93834033, 5.77712611]])"
            ]
          },
          "metadata": {},
          "execution_count": 33
        }
      ]
    },
    {
      "cell_type": "markdown",
      "source": [
        "### Broadcasting operation on ndarray"
      ],
      "metadata": {
        "id": "0Ziqd1Srw37A"
      }
    },
    {
      "cell_type": "code",
      "source": [
        "a = np.array([1, 2, 3])\n",
        "# creating ndarray\n",
        "a"
      ],
      "metadata": {
        "colab": {
          "base_uri": "https://localhost:8080/"
        },
        "id": "mHKcBRDikSyN",
        "outputId": "e31498d7-85d3-44d5-b634-440514ae3a92"
      },
      "execution_count": null,
      "outputs": [
        {
          "output_type": "execute_result",
          "data": {
            "text/plain": [
              "array([1, 2, 3])"
            ]
          },
          "metadata": {},
          "execution_count": 34
        }
      ]
    },
    {
      "cell_type": "code",
      "source": [
        "a+2\n",
        "# performing broadcasting operation ndarray of adding 2 to each element"
      ],
      "metadata": {
        "colab": {
          "base_uri": "https://localhost:8080/"
        },
        "id": "JD0rLPXqkYXL",
        "outputId": "e6b172b4-7597-4a89-c041-b863a3ce0847"
      },
      "execution_count": null,
      "outputs": [
        {
          "output_type": "execute_result",
          "data": {
            "text/plain": [
              "array([3, 4, 5])"
            ]
          },
          "metadata": {},
          "execution_count": 35
        }
      ]
    },
    {
      "cell_type": "code",
      "source": [
        "a-2\n",
        "# performing broadcasting operation ndarray of subtracting 2 from each element"
      ],
      "metadata": {
        "colab": {
          "base_uri": "https://localhost:8080/"
        },
        "id": "meHLObE2kZN9",
        "outputId": "bacdfec1-4ecd-48eb-fa44-08b7bf6d3d1e"
      },
      "execution_count": null,
      "outputs": [
        {
          "output_type": "execute_result",
          "data": {
            "text/plain": [
              "array([-1,  0,  1])"
            ]
          },
          "metadata": {},
          "execution_count": 36
        }
      ]
    },
    {
      "cell_type": "code",
      "source": [
        "a*2\n",
        "# performing broadcasting operation ndarray of multiplying 2 to each element"
      ],
      "metadata": {
        "colab": {
          "base_uri": "https://localhost:8080/"
        },
        "id": "46ti8cOfkd-m",
        "outputId": "3b8223f9-c714-4bce-ae8d-80839f461ed5"
      },
      "execution_count": null,
      "outputs": [
        {
          "output_type": "execute_result",
          "data": {
            "text/plain": [
              "array([2, 4, 6])"
            ]
          },
          "metadata": {},
          "execution_count": 37
        }
      ]
    },
    {
      "cell_type": "code",
      "source": [
        "a/2\n",
        "# performing broadcasting operation ndarray of dividing 2 from each element"
      ],
      "metadata": {
        "colab": {
          "base_uri": "https://localhost:8080/"
        },
        "id": "3SwySeRXkfWZ",
        "outputId": "002c3846-bf9c-4fb5-a5e3-098714224aae"
      },
      "execution_count": null,
      "outputs": [
        {
          "output_type": "execute_result",
          "data": {
            "text/plain": [
              "array([0.5, 1. , 1.5])"
            ]
          },
          "metadata": {},
          "execution_count": 38
        }
      ]
    },
    {
      "cell_type": "code",
      "source": [
        "a+a\n",
        "# performing broadcasting operation of adding two ndarrays"
      ],
      "metadata": {
        "colab": {
          "base_uri": "https://localhost:8080/"
        },
        "id": "pnr93PNgkgAS",
        "outputId": "877a0b44-b03b-4f2e-8250-8e0a4b660d37"
      },
      "execution_count": null,
      "outputs": [
        {
          "output_type": "execute_result",
          "data": {
            "text/plain": [
              "array([2, 4, 6])"
            ]
          },
          "metadata": {},
          "execution_count": 39
        }
      ]
    },
    {
      "cell_type": "code",
      "source": [
        "a ** 3\n",
        "# performing broadcasting operation of cube of elements of ndarray"
      ],
      "metadata": {
        "colab": {
          "base_uri": "https://localhost:8080/"
        },
        "id": "f4CNwnggkiVx",
        "outputId": "7096d3f8-1f6a-4972-94f3-c22fb1e2ec6b"
      },
      "execution_count": null,
      "outputs": [
        {
          "output_type": "execute_result",
          "data": {
            "text/plain": [
              "array([ 1,  8, 27])"
            ]
          },
          "metadata": {},
          "execution_count": 40
        }
      ]
    },
    {
      "cell_type": "code",
      "source": [
        "a**0.5\n",
        "# performing broadcasting operation of square root of elements of ndarray"
      ],
      "metadata": {
        "colab": {
          "base_uri": "https://localhost:8080/"
        },
        "id": "OVs2r4oHkqAY",
        "outputId": "c4feea64-b6e3-45ff-9310-ab35e8970307"
      },
      "execution_count": null,
      "outputs": [
        {
          "output_type": "execute_result",
          "data": {
            "text/plain": [
              "array([1.        , 1.41421356, 1.73205081])"
            ]
          },
          "metadata": {},
          "execution_count": 41
        }
      ]
    },
    {
      "cell_type": "code",
      "source": [
        "np.sqrt(a)\n",
        "# performing broadcasting operation of square root of elements of ndarray"
      ],
      "metadata": {
        "colab": {
          "base_uri": "https://localhost:8080/"
        },
        "id": "YF5n8bsdksaU",
        "outputId": "3325c313-b9be-4cf7-8229-66030e250ec4"
      },
      "execution_count": null,
      "outputs": [
        {
          "output_type": "execute_result",
          "data": {
            "text/plain": [
              "array([1.        , 1.41421356, 1.73205081])"
            ]
          },
          "metadata": {},
          "execution_count": 42
        }
      ]
    },
    {
      "cell_type": "code",
      "source": [
        "np.exp(a)\n",
        "# calculate exponent of each element"
      ],
      "metadata": {
        "colab": {
          "base_uri": "https://localhost:8080/"
        },
        "id": "4XVETAoLkwyq",
        "outputId": "31b1f059-f0f1-4a51-ded8-335f5ae38f9d"
      },
      "execution_count": null,
      "outputs": [
        {
          "output_type": "execute_result",
          "data": {
            "text/plain": [
              "array([ 2.71828183,  7.3890561 , 20.08553692])"
            ]
          },
          "metadata": {},
          "execution_count": 43
        }
      ]
    },
    {
      "cell_type": "code",
      "source": [
        "np.log(a)\n",
        "# calculate log of each element"
      ],
      "metadata": {
        "colab": {
          "base_uri": "https://localhost:8080/"
        },
        "id": "Am4cRCGXk-wP",
        "outputId": "2e252ecd-752b-4a65-e825-1e9358c2d846"
      },
      "execution_count": null,
      "outputs": [
        {
          "output_type": "execute_result",
          "data": {
            "text/plain": [
              "array([0.        , 0.69314718, 1.09861229])"
            ]
          },
          "metadata": {},
          "execution_count": 44
        }
      ]
    },
    {
      "cell_type": "markdown",
      "source": [
        "## pandas"
      ],
      "metadata": {
        "id": "bijJIgKilznW"
      }
    },
    {
      "cell_type": "markdown",
      "source": [
        "### import libs"
      ],
      "metadata": {
        "id": "CfdhGpU318iv"
      }
    },
    {
      "cell_type": "code",
      "source": [
        "import pandas as pd\n",
        "# importing pandas"
      ],
      "metadata": {
        "id": "2GhimSydlGHb"
      },
      "execution_count": null,
      "outputs": []
    },
    {
      "cell_type": "markdown",
      "source": [
        "1. Series - 1-D\n",
        "2. DataFrame - 2-D"
      ],
      "metadata": {
        "id": "s-RPm0uKl77w"
      }
    },
    {
      "cell_type": "markdown",
      "source": [
        "### Series"
      ],
      "metadata": {
        "id": "wqtBASbll3jF"
      }
    },
    {
      "cell_type": "code",
      "source": [
        "pd.Series({1:\"Harry\", 2:\"Puttar\"})\n",
        "# creating a Series"
      ],
      "metadata": {
        "colab": {
          "base_uri": "https://localhost:8080/"
        },
        "id": "azIuyYWxl2Kh",
        "outputId": "208e4d00-d426-4def-c96b-205a3196f566"
      },
      "execution_count": null,
      "outputs": [
        {
          "output_type": "execute_result",
          "data": {
            "text/plain": [
              "1     Harry\n",
              "2    Puttar\n",
              "dtype: object"
            ]
          },
          "metadata": {},
          "execution_count": 46
        }
      ]
    },
    {
      "cell_type": "code",
      "source": [
        "obj = pd.Series([1, \"John\",3.5, \"Hey\"])\n",
        "# creating a Series using list\n",
        "obj"
      ],
      "metadata": {
        "colab": {
          "base_uri": "https://localhost:8080/"
        },
        "id": "Fcwi9m3KmYPp",
        "outputId": "eadc876b-4029-4606-8f43-359659660d08"
      },
      "execution_count": null,
      "outputs": [
        {
          "output_type": "execute_result",
          "data": {
            "text/plain": [
              "0       1\n",
              "1    John\n",
              "2     3.5\n",
              "3     Hey\n",
              "dtype: object"
            ]
          },
          "metadata": {},
          "execution_count": 47
        }
      ]
    },
    {
      "cell_type": "code",
      "source": [
        "obj[1]\n",
        "# accessing 1st index"
      ],
      "metadata": {
        "colab": {
          "base_uri": "https://localhost:8080/",
          "height": 36
        },
        "id": "QFmbZWK2miwa",
        "outputId": "cf4b8df9-8dbc-46a9-d38a-415b96628e63"
      },
      "execution_count": null,
      "outputs": [
        {
          "output_type": "execute_result",
          "data": {
            "text/plain": [
              "'John'"
            ],
            "application/vnd.google.colaboratory.intrinsic+json": {
              "type": "string"
            }
          },
          "metadata": {},
          "execution_count": 48
        }
      ]
    },
    {
      "cell_type": "markdown",
      "source": [
        "### pandas index"
      ],
      "metadata": {
        "id": "sTeqhtri2aWb"
      }
    },
    {
      "cell_type": "code",
      "source": [
        "obj.index = ['zero', 'one', 'two', 'three']\n",
        "# overwriting the indices with a new list\n",
        "obj"
      ],
      "metadata": {
        "colab": {
          "base_uri": "https://localhost:8080/"
        },
        "id": "Eh4I8EvpmskB",
        "outputId": "a2b3f453-398f-41e7-a0a4-4bdb1a069b40"
      },
      "execution_count": null,
      "outputs": [
        {
          "output_type": "execute_result",
          "data": {
            "text/plain": [
              "zero        1\n",
              "one      John\n",
              "two       3.5\n",
              "three     Hey\n",
              "dtype: object"
            ]
          },
          "metadata": {},
          "execution_count": 49
        }
      ]
    },
    {
      "cell_type": "code",
      "source": [
        "obj1 = pd.Series([1, \"John\",3.5, \"Hey\"], index=['a', 'b', 'c', 'd'])\n",
        "# creating a new Series with custom index\n",
        "obj1"
      ],
      "metadata": {
        "colab": {
          "base_uri": "https://localhost:8080/"
        },
        "id": "BxcUHNQom4x0",
        "outputId": "3fcd5f21-dc01-41ab-c0a4-f22cc634d922"
      },
      "execution_count": null,
      "outputs": [
        {
          "output_type": "execute_result",
          "data": {
            "text/plain": [
              "a       1\n",
              "b    John\n",
              "c     3.5\n",
              "d     Hey\n",
              "dtype: object"
            ]
          },
          "metadata": {},
          "execution_count": 50
        }
      ]
    },
    {
      "cell_type": "code",
      "source": [
        "obj1['b']\n",
        "# accessing value at index 'b'"
      ],
      "metadata": {
        "colab": {
          "base_uri": "https://localhost:8080/",
          "height": 36
        },
        "id": "7g6RC5YUnK-x",
        "outputId": "38318bbc-19ea-4f96-ea08-648790af4cb4"
      },
      "execution_count": null,
      "outputs": [
        {
          "output_type": "execute_result",
          "data": {
            "text/plain": [
              "'John'"
            ],
            "application/vnd.google.colaboratory.intrinsic+json": {
              "type": "string"
            }
          },
          "metadata": {},
          "execution_count": 51
        }
      ]
    },
    {
      "cell_type": "code",
      "source": [
        "obj1.index\n",
        "# printing the index of Series obj1"
      ],
      "metadata": {
        "colab": {
          "base_uri": "https://localhost:8080/"
        },
        "id": "VRvuHRfpnM9i",
        "outputId": "acb52fa5-b4aa-4764-c0f4-55d314f899e7"
      },
      "execution_count": null,
      "outputs": [
        {
          "output_type": "execute_result",
          "data": {
            "text/plain": [
              "Index(['a', 'b', 'c', 'd'], dtype='object')"
            ]
          },
          "metadata": {},
          "execution_count": 52
        }
      ]
    },
    {
      "cell_type": "code",
      "source": [
        "score = {\"Jane\":90, \"Bill\":80, \"Elon\":85, \"Tom\": 75, \"Tim\":95}\n",
        "# creating a dict\n",
        "score"
      ],
      "metadata": {
        "id": "wVysIUCTnVzc",
        "colab": {
          "base_uri": "https://localhost:8080/"
        },
        "outputId": "ebdc2fe4-2b0c-4cca-89f8-5fd62567366a"
      },
      "execution_count": null,
      "outputs": [
        {
          "output_type": "execute_result",
          "data": {
            "text/plain": [
              "{'Jane': 90, 'Bill': 80, 'Elon': 85, 'Tom': 75, 'Tim': 95}"
            ]
          },
          "metadata": {},
          "execution_count": 53
        }
      ]
    },
    {
      "cell_type": "code",
      "source": [
        "np.array(score)\n",
        "# using a dict to create a ndarray,\n",
        "# not recommended to create ndarray with dict, instead create Series with dict"
      ],
      "metadata": {
        "colab": {
          "base_uri": "https://localhost:8080/"
        },
        "id": "bVkAOVMMnirU",
        "outputId": "120df7d7-4ba1-46ab-f256-217d69e80d37"
      },
      "execution_count": null,
      "outputs": [
        {
          "output_type": "execute_result",
          "data": {
            "text/plain": [
              "array({'Jane': 90, 'Bill': 80, 'Elon': 85, 'Tom': 75, 'Tim': 95},\n",
              "      dtype=object)"
            ]
          },
          "metadata": {},
          "execution_count": 54
        }
      ]
    },
    {
      "cell_type": "code",
      "source": [
        "names = pd.Series(score)\n",
        "# creating Series using dict\n",
        "names"
      ],
      "metadata": {
        "colab": {
          "base_uri": "https://localhost:8080/"
        },
        "id": "g5SXVasLnmYj",
        "outputId": "b3fd4210-bb05-4a48-a5e6-64b3aded758f"
      },
      "execution_count": null,
      "outputs": [
        {
          "output_type": "execute_result",
          "data": {
            "text/plain": [
              "Jane    90\n",
              "Bill    80\n",
              "Elon    85\n",
              "Tom     75\n",
              "Tim     95\n",
              "dtype: int64"
            ]
          },
          "metadata": {},
          "execution_count": 55
        }
      ]
    },
    {
      "cell_type": "code",
      "source": [
        "names['Tom']\n",
        "# fetching value at index 'Tom'"
      ],
      "metadata": {
        "colab": {
          "base_uri": "https://localhost:8080/"
        },
        "id": "-I20HdhenthI",
        "outputId": "a3f584bd-7e43-4ab8-a14d-a5b88be1fa48"
      },
      "execution_count": null,
      "outputs": [
        {
          "output_type": "execute_result",
          "data": {
            "text/plain": [
              "75"
            ]
          },
          "metadata": {},
          "execution_count": 56
        }
      ]
    },
    {
      "cell_type": "markdown",
      "source": [
        "### ops on Series"
      ],
      "metadata": {
        "id": "LxVXD02W2ltN"
      }
    },
    {
      "cell_type": "code",
      "source": [
        "names < 80\n",
        "# returns boolean Series for condition check on Series"
      ],
      "metadata": {
        "colab": {
          "base_uri": "https://localhost:8080/"
        },
        "id": "K7o1AlY7oNIk",
        "outputId": "a235153b-80de-4ffd-cff2-63baa9388407"
      },
      "execution_count": null,
      "outputs": [
        {
          "output_type": "execute_result",
          "data": {
            "text/plain": [
              "Jane    False\n",
              "Bill    False\n",
              "Elon    False\n",
              "Tom      True\n",
              "Tim     False\n",
              "dtype: bool"
            ]
          },
          "metadata": {},
          "execution_count": 57
        }
      ]
    },
    {
      "cell_type": "code",
      "source": [
        "names[names < 80]\n",
        "# returns elements which satisfy the condition"
      ],
      "metadata": {
        "colab": {
          "base_uri": "https://localhost:8080/"
        },
        "id": "WH4xneiZn5PT",
        "outputId": "dfdb6e6b-1355-46d6-deba-3e78a28859cb"
      },
      "execution_count": null,
      "outputs": [
        {
          "output_type": "execute_result",
          "data": {
            "text/plain": [
              "Tom    75\n",
              "dtype: int64"
            ]
          },
          "metadata": {},
          "execution_count": 58
        }
      ]
    },
    {
      "cell_type": "code",
      "source": [
        "names.isnull()\n",
        "# returns boolean Series for condition check on Series"
      ],
      "metadata": {
        "colab": {
          "base_uri": "https://localhost:8080/"
        },
        "id": "jQw8fKZmobRN",
        "outputId": "5ec895fc-b039-4c4f-b869-e89a34b9ffd1"
      },
      "execution_count": null,
      "outputs": [
        {
          "output_type": "execute_result",
          "data": {
            "text/plain": [
              "Jane    False\n",
              "Bill    False\n",
              "Elon    False\n",
              "Tom     False\n",
              "Tim     False\n",
              "dtype: bool"
            ]
          },
          "metadata": {},
          "execution_count": 59
        }
      ]
    },
    {
      "cell_type": "code",
      "source": [
        "names[names.isnull()]\n",
        "# returns elements which satisfy the condition"
      ],
      "metadata": {
        "colab": {
          "base_uri": "https://localhost:8080/"
        },
        "id": "Sa6W_0rwoJcw",
        "outputId": "48d2763c-520d-457c-ba85-599d943d99ef"
      },
      "execution_count": null,
      "outputs": [
        {
          "output_type": "execute_result",
          "data": {
            "text/plain": [
              "Series([], dtype: int64)"
            ]
          },
          "metadata": {},
          "execution_count": 60
        }
      ]
    },
    {
      "cell_type": "markdown",
      "source": [
        "## Series: working on nyc_weather data set"
      ],
      "metadata": {
        "id": "ToduqT76MPsW"
      }
    },
    {
      "cell_type": "markdown",
      "source": [
        "### import libs"
      ],
      "metadata": {
        "id": "NDaRFb5G2uOO"
      }
    },
    {
      "cell_type": "code",
      "source": [
        "import pandas as pd"
      ],
      "metadata": {
        "id": "-WVf36RRoXXo"
      },
      "execution_count": null,
      "outputs": []
    },
    {
      "cell_type": "markdown",
      "source": [
        "### import dataset"
      ],
      "metadata": {
        "id": "CdIz9-0Z2yJL"
      }
    },
    {
      "cell_type": "code",
      "source": [
        "# from google.colab import files\n",
        "# uploaded = files.upload()\n",
        "# upload nyc_weather.csv\n",
        "\n",
        "import os\n",
        "os.chdir(r'C:\\Users\\surya\\Downloads\\PG-DBDA-Mar23\\Datasets')\n",
        "os.getcwd()"
      ],
      "metadata": {
        "colab": {
          "base_uri": "https://localhost:8080/"
        },
        "id": "UzeNHjEDqBRf",
        "outputId": "aee42d1f-555a-49dd-c8db-fb249988f397"
      },
      "execution_count": null,
      "outputs": [
        {
          "output_type": "execute_result",
          "data": {
            "text/plain": [
              "'C:\\\\Users\\\\surya\\\\Downloads\\\\PG-DBDA-Mar23\\\\Datasets'"
            ]
          },
          "metadata": {},
          "execution_count": 2
        }
      ]
    },
    {
      "cell_type": "code",
      "source": [
        "df = pd.read_csv('nyc_weather.csv')\n",
        "# reading csv into dataframe\n",
        "df.head()"
      ],
      "metadata": {
        "colab": {
          "base_uri": "https://localhost:8080/",
          "height": 206
        },
        "id": "pvPHaMb4qI-G",
        "outputId": "4d6be4b9-b4e9-4257-9b74-1dfef81ec4df"
      },
      "execution_count": null,
      "outputs": [
        {
          "output_type": "execute_result",
          "data": {
            "text/plain": [
              "        EST  Temperature  DewPoint  Humidity  Sea Level PressureIn  \\\n",
              "0  1/1/2016           38        23        52                 30.03   \n",
              "1  1/2/2016           36        18        46                 30.02   \n",
              "2  1/3/2016           40        21        47                 29.86   \n",
              "3  1/4/2016           25         9        44                 30.05   \n",
              "4  1/5/2016           20        -3        41                 30.57   \n",
              "\n",
              "   VisibilityMiles  WindSpeedMPH PrecipitationIn  CloudCover Events  \\\n",
              "0               10           8.0               0           5    NaN   \n",
              "1               10           7.0               0           3    NaN   \n",
              "2               10           8.0               0           1    NaN   \n",
              "3               10           9.0               0           3    NaN   \n",
              "4               10           5.0               0           0    NaN   \n",
              "\n",
              "   WindDirDegrees  \n",
              "0             281  \n",
              "1             275  \n",
              "2             277  \n",
              "3             345  \n",
              "4             333  "
            ],
            "text/html": [
              "<div>\n",
              "<style scoped>\n",
              "    .dataframe tbody tr th:only-of-type {\n",
              "        vertical-align: middle;\n",
              "    }\n",
              "\n",
              "    .dataframe tbody tr th {\n",
              "        vertical-align: top;\n",
              "    }\n",
              "\n",
              "    .dataframe thead th {\n",
              "        text-align: right;\n",
              "    }\n",
              "</style>\n",
              "<table border=\"1\" class=\"dataframe\">\n",
              "  <thead>\n",
              "    <tr style=\"text-align: right;\">\n",
              "      <th></th>\n",
              "      <th>EST</th>\n",
              "      <th>Temperature</th>\n",
              "      <th>DewPoint</th>\n",
              "      <th>Humidity</th>\n",
              "      <th>Sea Level PressureIn</th>\n",
              "      <th>VisibilityMiles</th>\n",
              "      <th>WindSpeedMPH</th>\n",
              "      <th>PrecipitationIn</th>\n",
              "      <th>CloudCover</th>\n",
              "      <th>Events</th>\n",
              "      <th>WindDirDegrees</th>\n",
              "    </tr>\n",
              "  </thead>\n",
              "  <tbody>\n",
              "    <tr>\n",
              "      <th>0</th>\n",
              "      <td>1/1/2016</td>\n",
              "      <td>38</td>\n",
              "      <td>23</td>\n",
              "      <td>52</td>\n",
              "      <td>30.03</td>\n",
              "      <td>10</td>\n",
              "      <td>8.0</td>\n",
              "      <td>0</td>\n",
              "      <td>5</td>\n",
              "      <td>NaN</td>\n",
              "      <td>281</td>\n",
              "    </tr>\n",
              "    <tr>\n",
              "      <th>1</th>\n",
              "      <td>1/2/2016</td>\n",
              "      <td>36</td>\n",
              "      <td>18</td>\n",
              "      <td>46</td>\n",
              "      <td>30.02</td>\n",
              "      <td>10</td>\n",
              "      <td>7.0</td>\n",
              "      <td>0</td>\n",
              "      <td>3</td>\n",
              "      <td>NaN</td>\n",
              "      <td>275</td>\n",
              "    </tr>\n",
              "    <tr>\n",
              "      <th>2</th>\n",
              "      <td>1/3/2016</td>\n",
              "      <td>40</td>\n",
              "      <td>21</td>\n",
              "      <td>47</td>\n",
              "      <td>29.86</td>\n",
              "      <td>10</td>\n",
              "      <td>8.0</td>\n",
              "      <td>0</td>\n",
              "      <td>1</td>\n",
              "      <td>NaN</td>\n",
              "      <td>277</td>\n",
              "    </tr>\n",
              "    <tr>\n",
              "      <th>3</th>\n",
              "      <td>1/4/2016</td>\n",
              "      <td>25</td>\n",
              "      <td>9</td>\n",
              "      <td>44</td>\n",
              "      <td>30.05</td>\n",
              "      <td>10</td>\n",
              "      <td>9.0</td>\n",
              "      <td>0</td>\n",
              "      <td>3</td>\n",
              "      <td>NaN</td>\n",
              "      <td>345</td>\n",
              "    </tr>\n",
              "    <tr>\n",
              "      <th>4</th>\n",
              "      <td>1/5/2016</td>\n",
              "      <td>20</td>\n",
              "      <td>-3</td>\n",
              "      <td>41</td>\n",
              "      <td>30.57</td>\n",
              "      <td>10</td>\n",
              "      <td>5.0</td>\n",
              "      <td>0</td>\n",
              "      <td>0</td>\n",
              "      <td>NaN</td>\n",
              "      <td>333</td>\n",
              "    </tr>\n",
              "  </tbody>\n",
              "</table>\n",
              "</div>"
            ]
          },
          "metadata": {},
          "execution_count": 4
        }
      ]
    },
    {
      "cell_type": "code",
      "source": [
        "df.shape\n",
        "# df.shape"
      ],
      "metadata": {
        "colab": {
          "base_uri": "https://localhost:8080/"
        },
        "id": "TvliYBgbqab-",
        "outputId": "b5c1b3ac-b3f1-41a6-e0ad-051baa6c8e01"
      },
      "execution_count": null,
      "outputs": [
        {
          "output_type": "execute_result",
          "data": {
            "text/plain": [
              "(31, 11)"
            ]
          },
          "metadata": {},
          "execution_count": 64
        }
      ]
    },
    {
      "cell_type": "markdown",
      "source": [
        "### aggregation op"
      ],
      "metadata": {
        "id": "17LKSXAk3EiQ"
      }
    },
    {
      "cell_type": "code",
      "source": [
        "df['Temperature'].max()\n",
        "# printing max value from temperature column"
      ],
      "metadata": {
        "colab": {
          "base_uri": "https://localhost:8080/"
        },
        "id": "IUwPQmSEqeVg",
        "outputId": "b1dbf364-53e1-4ab9-f20d-dba966b72e53"
      },
      "execution_count": null,
      "outputs": [
        {
          "output_type": "execute_result",
          "data": {
            "text/plain": [
              "50"
            ]
          },
          "metadata": {},
          "execution_count": 85
        }
      ]
    },
    {
      "cell_type": "code",
      "source": [
        "# calculate EST when Event=Rain\n",
        "df['EST'][df['Events']=='Rain']"
      ],
      "metadata": {
        "colab": {
          "base_uri": "https://localhost:8080/"
        },
        "id": "SaXFCDlnqlPN",
        "outputId": "feb1e7e4-92c3-491c-9931-b42f8d7dbd0b"
      },
      "execution_count": null,
      "outputs": [
        {
          "output_type": "execute_result",
          "data": {
            "text/plain": [
              "8      1/9/2016\n",
              "9     1/10/2016\n",
              "15    1/16/2016\n",
              "26    1/27/2016\n",
              "Name: EST, dtype: object"
            ]
          },
          "metadata": {},
          "execution_count": 86
        }
      ]
    },
    {
      "cell_type": "code",
      "source": [
        "df['WindSpeedMPH'].mean()\n",
        "# printing mean value of WindSpeedMPH column"
      ],
      "metadata": {
        "colab": {
          "base_uri": "https://localhost:8080/"
        },
        "id": "p0QF6BYMrBIx",
        "outputId": "1fa82523-cc6a-47af-9699-e92cbce59948"
      },
      "execution_count": null,
      "outputs": [
        {
          "output_type": "execute_result",
          "data": {
            "text/plain": [
              "6.892857142857143"
            ]
          },
          "metadata": {},
          "execution_count": 87
        }
      ]
    },
    {
      "cell_type": "markdown",
      "source": [
        "## interview questions\n",
        "1. what is meant by learning in context of Machine Learning?\n",
        "2. What is Machine learning? Give Real-Life Examples\n",
        "3. List down the types of Machine Learning with an example\n",
        "4. What are the differences between supervised & unsupervised learning?\n",
        "5. What is meant by supervised classification?\n",
        "6. Explain unsupervised learning with an example\n",
        "7. What do you mean by reinforcement learning? Explain with an example\n",
        "8. What are the challanges in Machine Learning ?"
      ],
      "metadata": {
        "id": "JeWaPFf8rg0y"
      }
    }
  ]
}