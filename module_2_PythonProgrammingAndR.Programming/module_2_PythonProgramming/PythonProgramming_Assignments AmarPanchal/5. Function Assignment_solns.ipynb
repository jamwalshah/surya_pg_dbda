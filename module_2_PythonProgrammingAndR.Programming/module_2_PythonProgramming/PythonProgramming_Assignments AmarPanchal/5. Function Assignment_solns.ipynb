{
  "nbformat": 4,
  "nbformat_minor": 0,
  "metadata": {
    "colab": {
      "provenance": []
    },
    "kernelspec": {
      "name": "python3",
      "display_name": "Python 3"
    },
    "language_info": {
      "name": "python"
    }
  },
  "cells": [
    {
      "cell_type": "markdown",
      "source": [
        "1. Write a Python function to find the maximum of three numbers."
      ],
      "metadata": {
        "id": "liPJ2PuvSlpk"
      }
    },
    {
      "cell_type": "code",
      "execution_count": null,
      "metadata": {
        "colab": {
          "base_uri": "https://localhost:8080/"
        },
        "id": "s4N3zAsVSc2c",
        "outputId": "480017df-c574-47fd-be2b-afa535569172"
      },
      "outputs": [
        {
          "output_type": "stream",
          "name": "stdout",
          "text": [
            "Enter no1: 2\n",
            "Enter no2: 6\n",
            "Enter no3: 7\n",
            "7.0 is greatest\n"
          ]
        }
      ],
      "source": [
        "def max3(n1, n2, n3):\n",
        "  if n1==n2 and n2==n3:\n",
        "    print(n1, n2, n3, \"all three are equal\")\n",
        "  elif n1>n2 and n1>n3:\n",
        "    print(n1, \"is greatest\")\n",
        "  elif n2>n1  and n2>n3:\n",
        "    print(n2, \"is greatest\")\n",
        "  elif n3>n1 and n3>n2:\n",
        "    print(n3, \"is greatest\")\n",
        "  else:\n",
        "    print(\"any two are equal\")\n",
        "\n",
        "no1=float(input(\"Enter no1: \"))\n",
        "no2=float(input(\"Enter no2: \"))\n",
        "no3=float(input(\"Enter no3: \"))\n",
        "max3(no1, no2, no3)"
      ]
    },
    {
      "cell_type": "markdown",
      "source": [
        "2. Write a Python function to sum all the numbers in a list."
      ],
      "metadata": {
        "id": "Xhlg649ASm15"
      }
    },
    {
      "cell_type": "code",
      "source": [
        "'''\n",
        "Sample List : (8, 2, 3, 0, 7)\n",
        "Expected Output : 20\n",
        "'''\n",
        "def listsum(larg):\n",
        "  sum=0\n",
        "  for ele in larg:\n",
        "    sum=sum+ele\n",
        "  return sum\n",
        "\n",
        "sample=[8, 2, 3, 0, 7]\n",
        "print(\"sum: \", listsum(sample))"
      ],
      "metadata": {
        "colab": {
          "base_uri": "https://localhost:8080/"
        },
        "id": "PaFAJqyYSnDt",
        "outputId": "1848909f-4159-4a55-db3c-3513cabdbe51"
      },
      "execution_count": null,
      "outputs": [
        {
          "output_type": "stream",
          "name": "stdout",
          "text": [
            "sum:  20\n"
          ]
        }
      ]
    },
    {
      "cell_type": "markdown",
      "source": [
        "3. Write a Python function to multiply all the numbers in a list."
      ],
      "metadata": {
        "id": "h9b4xzs3SnPj"
      }
    },
    {
      "cell_type": "code",
      "source": [
        "'''\n",
        "Sample List : (8, 2, 3, -1, 7)\n",
        "Expected Output : -336\n",
        "'''\n",
        "def listmul(larg):\n",
        "  product=1\n",
        "  for ele in larg:\n",
        "    product=product*ele\n",
        "  return product\n",
        "\n",
        "mulsample=[8, 2, 3, -1, 7]\n",
        "print(\"Product: \", listmul(mulsample))"
      ],
      "metadata": {
        "colab": {
          "base_uri": "https://localhost:8080/"
        },
        "id": "iae0znkQSnj7",
        "outputId": "ffa662fd-eb8f-472e-aeab-6f13644faec4"
      },
      "execution_count": null,
      "outputs": [
        {
          "output_type": "stream",
          "name": "stdout",
          "text": [
            "Product:  -336\n"
          ]
        }
      ]
    },
    {
      "cell_type": "markdown",
      "source": [
        "4. Write a Python program to reverse a string."
      ],
      "metadata": {
        "id": "NwfZFSoMSnzj"
      }
    },
    {
      "cell_type": "code",
      "source": [
        "'''\n",
        "Sample String : \"1234abcd\"\n",
        "Expected Output : \"dcba4321\"\n",
        "'''\n",
        "def strreverse(strarg):\n",
        "  return strarg[::-1]\n",
        "\n",
        "inputstr=\"1234abcd\"\n",
        "print(strreverse(inputstr))"
      ],
      "metadata": {
        "colab": {
          "base_uri": "https://localhost:8080/"
        },
        "id": "EMd-DcoCSoJO",
        "outputId": "fb215f57-cc69-49aa-83a8-73830ee8b486"
      },
      "execution_count": null,
      "outputs": [
        {
          "output_type": "stream",
          "name": "stdout",
          "text": [
            "dcba4321\n"
          ]
        }
      ]
    },
    {
      "cell_type": "markdown",
      "source": [
        "5. Write a Python function to calculate the factorial of a number (a nonnegative integer). The function accepts the number as an argument."
      ],
      "metadata": {
        "id": "1r1idNCrSoWd"
      }
    },
    {
      "cell_type": "code",
      "source": [
        "def factorial(num):\n",
        "  fact=1\n",
        "  for i in range(num, 0, -1):\n",
        "    fact=fact*i\n",
        "  return fact\n",
        "\n",
        "inputno=int(input(\"Enter input number: \"))\n",
        "print(\"Factorial of \", inputno, \"is\", factorial(inputno))"
      ],
      "metadata": {
        "colab": {
          "base_uri": "https://localhost:8080/"
        },
        "id": "srAILG-0TDQj",
        "outputId": "7273a9ce-2ed2-4efa-e115-4f1f35428b0c"
      },
      "execution_count": null,
      "outputs": [
        {
          "output_type": "stream",
          "name": "stdout",
          "text": [
            "Enter input number: 5\n",
            "Factorial of  5 is 120\n"
          ]
        }
      ]
    },
    {
      "cell_type": "markdown",
      "source": [
        "6. Write a Python function to check whether a number falls within a given range."
      ],
      "metadata": {
        "id": "5qLNvPQ7TDjF"
      }
    },
    {
      "cell_type": "code",
      "source": [
        "def no_in_range(start, end, chk):\n",
        "  return chk in range(start, end+1)\n",
        "\n",
        "starting=int(input(\"Enter start of range: \"))\n",
        "ending=int(input(\"Enter end of range: \"))\n",
        "chkno=int(input(\"Enter number to check in range: \"))\n",
        "print(no_in_range(starting, ending, chkno))"
      ],
      "metadata": {
        "colab": {
          "base_uri": "https://localhost:8080/"
        },
        "id": "RbKkdpDMTD8y",
        "outputId": "3a20574f-f51f-408c-d701-5a3d6ae94350"
      },
      "execution_count": null,
      "outputs": [
        {
          "output_type": "stream",
          "name": "stdout",
          "text": [
            "Enter start of range: 1\n",
            "Enter end of range: 99\n",
            "Enter number to check in range: 99\n",
            "True\n"
          ]
        }
      ]
    },
    {
      "cell_type": "markdown",
      "source": [
        "7. Write a Python function that accepts a string and counts the number of\n",
        "upper and lower case letters.\n"
      ],
      "metadata": {
        "id": "Slm7EtZHTEKC"
      }
    },
    {
      "cell_type": "code",
      "source": [
        "'''\n",
        "Sample String : 'The quick Brow Fox'\n",
        "Expected Output :\n",
        "No. of Upper case characters : 3\n",
        "No. of Lower case Characters : 12\n",
        "'''\n",
        "def count_upper_lower(strarg):\n",
        "  uppercnt, lowercnt=0, 0\n",
        "  for ch in strarg:\n",
        "    if ch.isupper():\n",
        "      uppercnt+=1\n",
        "    if ch.islower():\n",
        "      lowercnt+=1\n",
        "  return uppercnt, lowercnt\n",
        "\n",
        "samplestr='The quick Brow Fox'\n",
        "ucnt, lcnt=count_upper_lower(samplestr)\n",
        "print(\"No. of Upper case characters :\", ucnt)\n",
        "print(\"No. of Lower case characters :\", lcnt)"
      ],
      "metadata": {
        "colab": {
          "base_uri": "https://localhost:8080/"
        },
        "id": "WYNkDpEVTEat",
        "outputId": "83c5d050-0ee1-4770-f952-dee385386e1c"
      },
      "execution_count": null,
      "outputs": [
        {
          "output_type": "stream",
          "name": "stdout",
          "text": [
            "No. of Upper case characters : 3\n",
            "No. of Lower case characters : 12\n"
          ]
        }
      ]
    },
    {
      "cell_type": "markdown",
      "source": [
        "8. Write a Python function that takes a list and returns a new list with distinct elements from the first list."
      ],
      "metadata": {
        "id": "hS-CKgyETEqR"
      }
    },
    {
      "cell_type": "code",
      "source": [
        "'''\n",
        "Sample List : [1,2,3,3,3,3,4,5]\n",
        "Unique List : [1, 2, 3, 4, 5]\n",
        "'''\n",
        "def unique_ele_list(listarg):\n",
        "  reslst=[]\n",
        "  for item in listarg:\n",
        "    if item not in reslst:\n",
        "      reslst.append(item)\n",
        "  return reslst\n",
        "\n",
        "samplelst=[1,2,3,3,3,3,4,5]\n",
        "print(\"Sample List :\", samplelst)\n",
        "print(\"Unique List :\", unique_ele_list(samplelst))"
      ],
      "metadata": {
        "colab": {
          "base_uri": "https://localhost:8080/"
        },
        "id": "gfnjam5xTFKY",
        "outputId": "55b77755-757d-47ee-8337-4a6c58072b48"
      },
      "execution_count": null,
      "outputs": [
        {
          "output_type": "stream",
          "name": "stdout",
          "text": [
            "Sample List : [1, 2, 3, 3, 3, 3, 4, 5]\n",
            "Unique List : [1, 2, 3, 4, 5]\n"
          ]
        }
      ]
    },
    {
      "cell_type": "markdown",
      "source": [
        "9. Write a Python function that takes a number as a parameter and checks\n",
        "whether the number is prime or not.\n",
        "Note : A prime number (or a prime) is a natural number greater than 1 and\n",
        "that has no positive divisors other than 1 and itself."
      ],
      "metadata": {
        "id": "0Yld0uxaTFX9"
      }
    },
    {
      "cell_type": "code",
      "source": [
        "# prime number check\n",
        "def isprime(num):\n",
        "  flag=True\n",
        "  if num==1:\n",
        "    return flag\n",
        "  else:\n",
        "    for i in range(2, num//2+1):\n",
        "        if num%i==0:\n",
        "            flag=False\n",
        "            return flag\n",
        "    return flag\n",
        "\n",
        "no=int(input(\"Enter number to check prime:\"))\n",
        "print(\"Prime check for\", no, \":\", isprime(no))"
      ],
      "metadata": {
        "colab": {
          "base_uri": "https://localhost:8080/"
        },
        "id": "OF1LnIsnTFvm",
        "outputId": "68640c36-f4e2-472a-d59c-329c296f51d3"
      },
      "execution_count": 23,
      "outputs": [
        {
          "output_type": "stream",
          "name": "stdout",
          "text": [
            "Enter number to check prime:5\n",
            "Prime check for 5 : True\n"
          ]
        }
      ]
    },
    {
      "cell_type": "markdown",
      "source": [
        "10. Write a Python program to print the even numbers from a given list."
      ],
      "metadata": {
        "id": "vdZ9_UaWTGMG"
      }
    },
    {
      "cell_type": "code",
      "source": [
        "'''\n",
        "Sample List : [1, 2, 3, 4, 5, 6, 7, 8, 9]\n",
        "Expected Result : [2, 4, 6, 8]\n",
        "'''\n",
        "def getevens(listarg):\n",
        "  reslst=[]\n",
        "  for ele in listarg:\n",
        "    if ele%2==0:\n",
        "      reslst.append(ele)\n",
        "  return reslst\n",
        "\n",
        "samplelst=[1, 2, 3, 4, 5, 6, 7, 8, 9]\n",
        "print(getevens(samplelst))"
      ],
      "metadata": {
        "colab": {
          "base_uri": "https://localhost:8080/"
        },
        "id": "Gv4enrOzThfQ",
        "outputId": "089ea3cf-08d2-4043-cd2d-048f2e4c8f49"
      },
      "execution_count": null,
      "outputs": [
        {
          "output_type": "stream",
          "name": "stdout",
          "text": [
            "[2, 4, 6, 8]\n"
          ]
        }
      ]
    },
    {
      "cell_type": "markdown",
      "source": [
        "11. Write a Python function to check whether a number is \"Perfect\" or not.\n",
        "According to Wikipedia : In number theory, a perfect number is a positive\n",
        "integer that is equal to the sum of its proper positive divisors, that is, the sum of its positive divisors excluding the number itself (also known as its aliquot sum). Equivalently, a perfect number is a number that is half the sum of all of its positive divisors (including itself).\n"
      ],
      "metadata": {
        "id": "QMNFjazeThuc"
      }
    },
    {
      "cell_type": "code",
      "source": [
        "'''\n",
        "Example : The first perfect number is 6, because 1, 2, and 3 are its proper\n",
        "positive divisors, and 1 + 2 + 3 = 6. Equivalently, the number 6 is equal to half\n",
        "the sum of all its positive divisors: ( 1 + 2 + 3 + 6 ) / 2 = 6. The next perfect\n",
        "number is 28 = 1 + 2 + 4 + 7 + 14. This is followed by the perfect numbers 496\n",
        "and 8128.\n",
        "'''\n",
        "def isperfectno(num):\n",
        "  sum=0\n",
        "  for i in range(1, (num//2)+1):\n",
        "    if num%i==0:\n",
        "      sum=sum+i\n",
        "  return sum==num\n",
        "\n",
        "num=int(input(\"Enter number to check perfect number: \"))\n",
        "print(\"Perfect number check for \", num, \"is\", isperfectno(num))"
      ],
      "metadata": {
        "colab": {
          "base_uri": "https://localhost:8080/"
        },
        "id": "TCKZETYvTiG7",
        "outputId": "b6de897e-4c4f-4496-a6cc-22b0571d0b9d"
      },
      "execution_count": null,
      "outputs": [
        {
          "output_type": "stream",
          "name": "stdout",
          "text": [
            "Enter number to check perfect number: 6\n",
            "Perfect number check for  6 is True\n"
          ]
        }
      ]
    },
    {
      "cell_type": "markdown",
      "source": [
        "12. Write a Python function that checks whether a passed string is a\n",
        "palindrome or not.\n",
        "Note: A palindrome is a word, phrase, or sequence that reads the same\n",
        "backward as forward, e.g., madam or nurses run."
      ],
      "metadata": {
        "id": "Pw25-P5JTigm"
      }
    },
    {
      "cell_type": "code",
      "source": [
        "def ispallindrome(strarg):\n",
        "  return strarg==strarg[::-1]\n",
        "\n",
        "inputstr=input(\"Enter a string to check pallindrome: \")\n",
        "print(\"Pallindrome check for\", inputstr, \" :\", ispallindrome(inputstr))"
      ],
      "metadata": {
        "colab": {
          "base_uri": "https://localhost:8080/"
        },
        "id": "ieXwckV7Tiz7",
        "outputId": "10242a39-2d0f-4364-9b39-4ca4ed64c499"
      },
      "execution_count": null,
      "outputs": [
        {
          "output_type": "stream",
          "name": "stdout",
          "text": [
            "Enter a string to check pallindrome: madam\n",
            "Pallindrome check for madam  : True\n"
          ]
        }
      ]
    },
    {
      "cell_type": "markdown",
      "source": [
        "13. Write a Python function that prints out the first n rows of Pascal's triangle.\n",
        "\n",
        "Note : Pascal's triangle is an arithmetic and geometric figure first imagined by\n",
        "Blaise Pascal.\n",
        "\n",
        "Sample Pascal's triangle :\n",
        "\n",
        "![Untitled.jpg](data:image/jpeg;base64,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)\n",
        "\n",
        "Each number is the two numbers above it added together"
      ],
      "metadata": {
        "id": "jRGTN1yOTkJW"
      }
    },
    {
      "cell_type": "code",
      "source": [
        "def pascalt(n):\n",
        "  for i in range(0, n+1):\n",
        "    temp=row=11**i\n",
        "    print(\" \"*(n-i), end=\"\")\n",
        "    while temp>0:\n",
        "      d=temp%10\n",
        "      temp=temp//10\n",
        "      print(d, \" \", end=\"\")\n",
        "    print()\n",
        "\n",
        "pascalt(4)"
      ],
      "metadata": {
        "colab": {
          "base_uri": "https://localhost:8080/"
        },
        "id": "6YdZm7VHTkZb",
        "outputId": "1da0f242-6361-4cb1-beff-f86ba340efbb"
      },
      "execution_count": null,
      "outputs": [
        {
          "output_type": "stream",
          "name": "stdout",
          "text": [
            "    1  \n",
            "   1  1  \n",
            "  1  2  1  \n",
            " 1  3  3  1  \n",
            "1  4  6  4  1  \n"
          ]
        }
      ]
    },
    {
      "cell_type": "markdown",
      "source": [
        "14. Write a Python function to check whether a string is a pangram or not.\n",
        "Note : Pangrams are words or sentences containing every letter of the\n",
        "alphabet at least once."
      ],
      "metadata": {
        "id": "n2WNsppgTkrr"
      }
    },
    {
      "cell_type": "code",
      "source": [
        "'''\n",
        "For example : \"The quick brown fox jumps over the lazy dog\"\n",
        "'''\n",
        "\n",
        "def ispangram(strarg):\n",
        "  strlow=strarg.lower()\n",
        "  flag=True\n",
        "  for i in range(ord('a'), ord('z')+1):\n",
        "    if chr(i) not in strlow:\n",
        "      flag=False\n",
        "      break\n",
        "  return flag\n",
        "\n",
        "samplestr=\"The quick brown fox jumps over the lazy dog\"\n",
        "print(\"Sample string:\", samplestr)\n",
        "print(\"Pangram check for Sample string :\", ispangram(samplestr))"
      ],
      "metadata": {
        "colab": {
          "base_uri": "https://localhost:8080/"
        },
        "id": "V_XUKVD8TlAI",
        "outputId": "dccb466d-ec4f-4e5a-ec1b-2f74c703dd74"
      },
      "execution_count": null,
      "outputs": [
        {
          "output_type": "stream",
          "name": "stdout",
          "text": [
            "Sample string: The quick brown fox jumps over the lazy dog\n",
            "Pangram check for Sample string : True\n"
          ]
        }
      ]
    },
    {
      "cell_type": "markdown",
      "source": [
        "15. Write a Python program that accepts a hyphen-separated sequence of\n",
        "words as input and prints the words in a hyphen-separated sequence after\n",
        "sorting them alphabetically."
      ],
      "metadata": {
        "id": "k8bMCGuXTlc8"
      }
    },
    {
      "cell_type": "code",
      "source": [
        "'''\n",
        "Sample Items : green-red-yellow-black-white\n",
        "Expected Result : black-green-red-white-yellow\n",
        "'''\n",
        "def sorthyphensep(strarg):\n",
        "  wlst=strarg.split(\"-\")\n",
        "  wlst.sort()\n",
        "  resstr=\"-\".join(wlst)\n",
        "  return resstr\n",
        "\n",
        "inpstr=\"green-red-yellow-black-white\"\n",
        "print(sorthyphensep(inpstr))"
      ],
      "metadata": {
        "colab": {
          "base_uri": "https://localhost:8080/"
        },
        "id": "9v1aapUCTlvr",
        "outputId": "589bc042-8aa7-4c8e-c62b-2ee5e469ad36"
      },
      "execution_count": null,
      "outputs": [
        {
          "output_type": "stream",
          "name": "stdout",
          "text": [
            "black-green-red-white-yellow\n"
          ]
        }
      ]
    },
    {
      "cell_type": "markdown",
      "source": [
        "16. Write a Python function to create and print a list where the values are the\n",
        "squares of numbers between 1 and 30 (both included)."
      ],
      "metadata": {
        "id": "bmpIUXsDTl7Q"
      }
    },
    {
      "cell_type": "code",
      "source": [
        "def sqlstgen():\n",
        "  res=[]\n",
        "  for i in range(1, 31):\n",
        "    res.append(i*i)\n",
        "  return res\n",
        "\n",
        "print(sqlstgen())"
      ],
      "metadata": {
        "colab": {
          "base_uri": "https://localhost:8080/"
        },
        "id": "n1nQZdR_TmJV",
        "outputId": "30341835-1889-473a-b347-55492b17acd3"
      },
      "execution_count": null,
      "outputs": [
        {
          "output_type": "stream",
          "name": "stdout",
          "text": [
            "[1, 4, 9, 16, 25, 36, 49, 64, 81, 100, 121, 144, 169, 196, 225, 256, 289, 324, 361, 400, 441, 484, 529, 576, 625, 676, 729, 784, 841, 900]\n"
          ]
        }
      ]
    },
    {
      "cell_type": "markdown",
      "source": [
        "17. Write a Python program to create a chain of function decorators (bold,\n",
        "italic, underline etc.)."
      ],
      "metadata": {
        "id": "5Ou3QwUyUobt"
      }
    },
    {
      "cell_type": "code",
      "source": [
        "def bold(strarg):\n",
        "  bold = '\\033[1m'\n",
        "  end = '\\033[0m'\n",
        "  return bold+strarg+end\n",
        "\n",
        "def italic(strarg):\n",
        "  italics = '\\033[3m'\n",
        "  end = '\\033[0m'\n",
        "  return italics+strarg+end\n",
        "\n",
        "def underline(strarg):\n",
        "  underline = '\\033[4m'\n",
        "  end = '\\033[0m'\n",
        "  return underline+strarg+end\n",
        "\n",
        "def formatter(strarg, fmting):\n",
        "  if fmting==\"bold\":\n",
        "    strarg=bold(strarg)\n",
        "  if fmting==\"italics\":\n",
        "    strarg=italic(strarg)\n",
        "  if fmting==\"underline\":\n",
        "    strarg=underline(strarg)\n",
        "  return strarg\n",
        "\n",
        "inputstr=\"this is testing string for formatting\"\n",
        "print(\"Bold:\", formatter(inputstr, \"bold\"))\n",
        "print(\"Italic:\", formatter(inputstr, \"italics\"))\n",
        "print(\"Underlined:\", formatter(inputstr, \"underline\"))"
      ],
      "metadata": {
        "colab": {
          "base_uri": "https://localhost:8080/"
        },
        "id": "4ihCpIm0Tm2l",
        "outputId": "9cb79ce5-74ec-4e12-b2b6-d75499d8ca38"
      },
      "execution_count": null,
      "outputs": [
        {
          "output_type": "stream",
          "name": "stdout",
          "text": [
            "Bold: \u001b[1mthis is testing string for formatting\u001b[0m\n",
            "Italic: \u001b[3mthis is testing string for formatting\u001b[0m\n",
            "Underlined: \u001b[4mthis is testing string for formatting\u001b[0m\n"
          ]
        }
      ]
    },
    {
      "cell_type": "markdown",
      "source": [
        "18. Write a Python program to execute a string containing Python code."
      ],
      "metadata": {
        "id": "CRPF-NScTmhD"
      }
    },
    {
      "cell_type": "code",
      "source": [
        "def pyrunner(code):\n",
        "  exec(code)\n",
        "\n",
        "snippet='''a, b=1, 2\n",
        "print(\"a:\", a, \"b:\", b)\n",
        "print(\"sum of a & b:\", a+b)'''\n",
        "print(snippet, \"\\n\\nAbove Code is executed below: \\n\")\n",
        "pyrunner(snippet)"
      ],
      "metadata": {
        "colab": {
          "base_uri": "https://localhost:8080/"
        },
        "id": "0MrEtcZqUuSe",
        "outputId": "3ad3411c-af0a-445b-a70b-e45b8b7d7a77"
      },
      "execution_count": null,
      "outputs": [
        {
          "output_type": "stream",
          "name": "stdout",
          "text": [
            "a, b=1, 2\n",
            "print(\"a:\", a, \"b:\", b)\n",
            "print(\"sum of a & b:\", a+b) \n",
            "\n",
            "Above Code is executed below: \n",
            "\n",
            "a: 1 b: 2\n",
            "sum of a & b: 3\n"
          ]
        }
      ]
    },
    {
      "cell_type": "markdown",
      "source": [
        "19. Write a Python program to access a function inside a function."
      ],
      "metadata": {
        "id": "cxFo05y3UueE"
      }
    },
    {
      "cell_type": "code",
      "source": [
        "def menu(a):\n",
        "  print(\"From menu\")\n",
        "  def add(b):\n",
        "    print(\"From sum\")\n",
        "    print(\"Sum: \", a+b)\n",
        "  return add\n",
        "\n",
        "no1=int(input(\"Enter a number: \"))\n",
        "no2=int(input(\"Enter another number: \"))\n",
        "menu(no1)(no2)"
      ],
      "metadata": {
        "colab": {
          "base_uri": "https://localhost:8080/"
        },
        "id": "gid4SabxUuy1",
        "outputId": "f8216842-d6c7-45da-d7b3-5d1926438afe"
      },
      "execution_count": null,
      "outputs": [
        {
          "output_type": "stream",
          "name": "stdout",
          "text": [
            "Enter a number: 1\n",
            "Enter another number: 4\n",
            "From menu\n",
            "From sum\n",
            "Sum:  5\n"
          ]
        }
      ]
    },
    {
      "cell_type": "markdown",
      "source": [
        "20. Write a Python program to detect the number of local variables declared in\n",
        "a function."
      ],
      "metadata": {
        "id": "I-GHcLXnUvJT"
      }
    },
    {
      "cell_type": "code",
      "source": [
        "'''\n",
        "Sample Output:\n",
        "3\n",
        "'''\n",
        "def locals(argstr):\n",
        "  locstr=argstr\n",
        "  return locals.__code__.co_nlocals\n",
        "inpstr=\"welcome to cdac mumbai\"\n",
        "print(locals(inpstr))"
      ],
      "metadata": {
        "colab": {
          "base_uri": "https://localhost:8080/"
        },
        "id": "v2_3O5wxUvbp",
        "outputId": "a517cef7-c14b-4e8c-bcdb-44a4d074fb6c"
      },
      "execution_count": null,
      "outputs": [
        {
          "output_type": "stream",
          "name": "stdout",
          "text": [
            "2\n"
          ]
        }
      ]
    },
    {
      "cell_type": "code",
      "source": [],
      "metadata": {
        "id": "2cwRLhT9tVPR"
      },
      "execution_count": null,
      "outputs": []
    }
  ]
}