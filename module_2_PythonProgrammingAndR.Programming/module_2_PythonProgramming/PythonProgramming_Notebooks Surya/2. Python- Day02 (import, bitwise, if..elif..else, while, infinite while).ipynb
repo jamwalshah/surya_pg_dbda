{
  "nbformat": 4,
  "nbformat_minor": 0,
  "metadata": {
    "colab": {
      "provenance": []
    },
    "kernelspec": {
      "name": "python3",
      "display_name": "Python 3"
    },
    "language_info": {
      "name": "python"
    }
  },
  "cells": [
    {
      "cell_type": "markdown",
      "source": [],
      "metadata": {
        "id": "piPM1wNeQ4ap"
      }
    },
    {
      "cell_type": "code",
      "execution_count": null,
      "metadata": {
        "colab": {
          "base_uri": "https://localhost:8080/"
        },
        "id": "tj5qOztEQyCR",
        "outputId": "e7f93ff8-8f56-4e2c-e02a-e45bf893719f"
      },
      "outputs": [
        {
          "output_type": "stream",
          "name": "stdout",
          "text": [
            "Enter r: 5.6\n",
            "Area:  98.4704\n"
          ]
        }
      ],
      "source": [
        "r=float(input(\"Enter r: \"))\n",
        "area=3.14*r**2\n",
        "print(\"Area: \", area)"
      ]
    },
    {
      "cell_type": "code",
      "source": [
        "#interview challange, find area of circle in minimum lines of code\n",
        "r=float(input(\"Enter r: \"))\n",
        "print(\"Area: \", 3.14*r**2)"
      ],
      "metadata": {
        "colab": {
          "base_uri": "https://localhost:8080/"
        },
        "id": "gxWmjh1YSkWI",
        "outputId": "a66d5567-ac46-4dea-b602-348f2661726c"
      },
      "execution_count": null,
      "outputs": [
        {
          "output_type": "stream",
          "name": "stdout",
          "text": [
            "Enter r: 5.6\n",
            "Area:  98.4704\n"
          ]
        }
      ]
    },
    {
      "cell_type": "code",
      "source": [
        "#interview challange, find area of circle in minimum lines of code\n",
        "print(\"Area: \", 3.14*float(input(\"Enter r: \"))**2)"
      ],
      "metadata": {
        "colab": {
          "base_uri": "https://localhost:8080/"
        },
        "id": "kd-8ky2HStm8",
        "outputId": "a0d8689e-2b6b-4bb4-e164-acbf6eab89b3"
      },
      "execution_count": null,
      "outputs": [
        {
          "output_type": "stream",
          "name": "stdout",
          "text": [
            "Enter r: 5.6\n",
            "Area:  98.4704\n"
          ]
        }
      ]
    },
    {
      "cell_type": "code",
      "source": [
        "#interview challange, find area of rectangle in minimum lines of code\n",
        "print(\"area: \", float(input(\"Enter l: \"))*float(input(\"Enter b: \")))"
      ],
      "metadata": {
        "colab": {
          "base_uri": "https://localhost:8080/"
        },
        "id": "dHI8P7PtS4Hm",
        "outputId": "9c4b132f-59ae-4a1b-92c4-6bd44f340645"
      },
      "execution_count": null,
      "outputs": [
        {
          "output_type": "stream",
          "name": "stdout",
          "text": [
            "Enter l: 7.8\n",
            "Enter b: 11\n",
            "area:  85.8\n"
          ]
        }
      ]
    },
    {
      "cell_type": "code",
      "source": [
        "#interview challange, to convert fahreinheit to Celsius"
      ],
      "metadata": {
        "id": "Y27m_dZQTPxe"
      },
      "execution_count": null,
      "outputs": []
    },
    {
      "cell_type": "code",
      "source": [
        "#interview challange, to calculate compound interest\n",
        "p=float(input(\"Enter Principal: \"))\n",
        "r=float(input(\"Enter Rate of Interest per month: \"))\n",
        "t=float(input(\"Enter Time span in months: \"))\n",
        "print(\"Amount: \", p*(1+r/100)**t)\n",
        "print(\"Interst: \", (p*(1+r/100)**t)-p)"
      ],
      "metadata": {
        "colab": {
          "base_uri": "https://localhost:8080/"
        },
        "id": "fGpYYKDGUpPw",
        "outputId": "fc0af438-615a-48af-e635-344263eacf6a"
      },
      "execution_count": null,
      "outputs": [
        {
          "output_type": "stream",
          "name": "stdout",
          "text": [
            "Enter Principal: 1000\n",
            "Enter Rate of Interest: 10\n",
            "Enter Time span in months: 1\n",
            "Amount:  1100.0\n",
            "Interst:  100.0\n"
          ]
        }
      ]
    },
    {
      "cell_type": "code",
      "source": [
        "import math\n",
        "math.pi"
      ],
      "metadata": {
        "colab": {
          "base_uri": "https://localhost:8080/"
        },
        "id": "AVL8WeloVpQc",
        "outputId": "49054b09-fbf7-40c9-b6e1-13fbc8e68db4"
      },
      "execution_count": null,
      "outputs": [
        {
          "output_type": "execute_result",
          "data": {
            "text/plain": [
              "3.141592653589793"
            ]
          },
          "metadata": {},
          "execution_count": 12
        }
      ]
    },
    {
      "cell_type": "code",
      "source": [
        "math.inf"
      ],
      "metadata": {
        "colab": {
          "base_uri": "https://localhost:8080/"
        },
        "id": "v04yUFRBXX48",
        "outputId": "1996fe27-2132-4073-8093-98dd6ef0561f"
      },
      "execution_count": null,
      "outputs": [
        {
          "output_type": "execute_result",
          "data": {
            "text/plain": [
              "inf"
            ]
          },
          "metadata": {},
          "execution_count": 13
        }
      ]
    },
    {
      "cell_type": "code",
      "source": [
        "math.sqrt(121)"
      ],
      "metadata": {
        "colab": {
          "base_uri": "https://localhost:8080/"
        },
        "id": "dAl3bB2rXeXd",
        "outputId": "02298e86-c5dc-4871-a96a-748e1aabeea6"
      },
      "execution_count": null,
      "outputs": [
        {
          "output_type": "execute_result",
          "data": {
            "text/plain": [
              "11.0"
            ]
          },
          "metadata": {},
          "execution_count": 14
        }
      ]
    },
    {
      "cell_type": "code",
      "source": [
        "# interview challange, find square root of a number without sqrt() method\n",
        "121**0.5"
      ],
      "metadata": {
        "colab": {
          "base_uri": "https://localhost:8080/"
        },
        "id": "XDd7nP3rXhBr",
        "outputId": "6ad1fb47-b8fc-47b3-e07c-8437a447819e"
      },
      "execution_count": null,
      "outputs": [
        {
          "output_type": "execute_result",
          "data": {
            "text/plain": [
              "11.0"
            ]
          },
          "metadata": {},
          "execution_count": 15
        }
      ]
    },
    {
      "cell_type": "markdown",
      "source": [
        "# interview challange, to swap two numbers with bitwise\n",
        "1. x = (10)10 = (1010)2\n",
        "2. y = (8)10 = (1000)2\n",
        "3. x = x^y = = 1010\n",
        "4. y = x^y = = (1010)2 = (10)10\n",
        "5. x= x^y = = (1000)2 = (8)10"
      ],
      "metadata": {
        "id": "Rm1Unzp2ZgnP"
      }
    },
    {
      "cell_type": "markdown",
      "source": [
        "#interview challange, divide a number without arithmetic operator\n",
        "- ```<<``` n is same as *2n\n",
        "- ```>>``` n is same as /2n\n",
        "\n",
        "Note: Bitwise operators only support 'int' data type"
      ],
      "metadata": {
        "id": "w2xjWHNdaNAJ"
      }
    },
    {
      "cell_type": "code",
      "source": [
        "x=10\n",
        "x<<2"
      ],
      "metadata": {
        "colab": {
          "base_uri": "https://localhost:8080/"
        },
        "id": "BM6wpWFWXrAW",
        "outputId": "b306815b-a534-4c3c-e396-2bb8a77836b2"
      },
      "execution_count": null,
      "outputs": [
        {
          "output_type": "execute_result",
          "data": {
            "text/plain": [
              "40"
            ]
          },
          "metadata": {},
          "execution_count": 16
        }
      ]
    },
    {
      "cell_type": "code",
      "source": [
        "x=10\n",
        "x>>2"
      ],
      "metadata": {
        "colab": {
          "base_uri": "https://localhost:8080/"
        },
        "id": "lABcc66_a7dI",
        "outputId": "574cfdc5-d8f0-4bfd-d3ad-7994071719bf"
      },
      "execution_count": null,
      "outputs": [
        {
          "output_type": "execute_result",
          "data": {
            "text/plain": [
              "2"
            ]
          },
          "metadata": {},
          "execution_count": 17
        }
      ]
    },
    {
      "cell_type": "code",
      "source": [
        "x=10.00\n",
        "# x>>2  # Bitwise operators only support 'int' data type"
      ],
      "metadata": {
        "id": "0fnMy0Mla930"
      },
      "execution_count": null,
      "outputs": []
    },
    {
      "cell_type": "code",
      "source": [
        "~128 # reverse sign & -1; 128 becomes -128, then -128-1 = -129"
      ],
      "metadata": {
        "colab": {
          "base_uri": "https://localhost:8080/"
        },
        "id": "BvQZWkBRbDWu",
        "outputId": "f93493f8-1c40-4bb5-b50d-690f3bfb3350"
      },
      "execution_count": null,
      "outputs": [
        {
          "output_type": "execute_result",
          "data": {
            "text/plain": [
              "-129"
            ]
          },
          "metadata": {},
          "execution_count": 19
        }
      ]
    },
    {
      "cell_type": "code",
      "source": [
        "~-128 # 128-1=127"
      ],
      "metadata": {
        "colab": {
          "base_uri": "https://localhost:8080/"
        },
        "id": "MbpeicyjbV8E",
        "outputId": "8b910992-bacc-421b-e415-1ca0f83dc1a9"
      },
      "execution_count": null,
      "outputs": [
        {
          "output_type": "execute_result",
          "data": {
            "text/plain": [
              "127"
            ]
          },
          "metadata": {},
          "execution_count": 20
        }
      ]
    },
    {
      "cell_type": "markdown",
      "source": [
        "###interview challange, reverse of a>b\n",
        "it is b<=a (do not put b<a)"
      ],
      "metadata": {
        "id": "qFPpgNhLcLpv"
      }
    },
    {
      "cell_type": "code",
      "source": [
        "no=int(input(\"Enter a number: \"))\n",
        "if no>=0:\n",
        "  print(\"Accept it\")\n",
        "print(\"done\")"
      ],
      "metadata": {
        "colab": {
          "base_uri": "https://localhost:8080/"
        },
        "id": "EH0r62oJbig9",
        "outputId": "5956a067-cf49-40fd-ea56-bc30cfaa1621"
      },
      "execution_count": null,
      "outputs": [
        {
          "output_type": "stream",
          "name": "stdout",
          "text": [
            "Enter a number: 8\n",
            "Accept it\n",
            "done\n"
          ]
        }
      ]
    },
    {
      "cell_type": "code",
      "source": [
        "no=int(input(\"Enter a number: \"))\n",
        "if no>=0:\n",
        "  print(\"Entered if block\")\n",
        "  print(\"Accept it\")\n",
        "  print(\"Exiting if block\")\n",
        "print(\"done\")"
      ],
      "metadata": {
        "colab": {
          "base_uri": "https://localhost:8080/"
        },
        "id": "8j4yU3kgdAzL",
        "outputId": "a10c0670-21fc-4136-cb37-ba6c29a3e65d"
      },
      "execution_count": null,
      "outputs": [
        {
          "output_type": "stream",
          "name": "stdout",
          "text": [
            "Enter a number: -6\n",
            "done\n"
          ]
        }
      ]
    },
    {
      "cell_type": "code",
      "source": [
        "no=int(input(\"Enter a number: \"))\n",
        "if no>=0:\n",
        "  print(\"Accept it\")\n",
        "else:\n",
        "    print(\"Rejected it\")\n",
        "print(\"done\")"
      ],
      "metadata": {
        "colab": {
          "base_uri": "https://localhost:8080/"
        },
        "id": "WrM5i_4EdPNw",
        "outputId": "985d7d59-e54c-4767-94c1-ed675e1c52af"
      },
      "execution_count": null,
      "outputs": [
        {
          "output_type": "stream",
          "name": "stdout",
          "text": [
            "Enter a number: 5\n",
            "Accept it\n",
            "done\n"
          ]
        }
      ]
    },
    {
      "cell_type": "code",
      "source": [
        "# +ve or -ve\n",
        "no=int(input(\"Enter a number: \"))\n",
        "if no>=0:\n",
        "  print(\"no is +ve\")\n",
        "else:\n",
        "    print(\"no is -ve\")\n",
        "print(\"done\")"
      ],
      "metadata": {
        "colab": {
          "base_uri": "https://localhost:8080/"
        },
        "id": "IjUA-2V5e_ia",
        "outputId": "22fa6c9a-34d1-49c7-8d15-d183a7e97ee1"
      },
      "execution_count": null,
      "outputs": [
        {
          "output_type": "stream",
          "name": "stdout",
          "text": [
            "Enter a number: 0\n",
            "no is +ve\n",
            "done\n"
          ]
        }
      ]
    },
    {
      "cell_type": "code",
      "source": [
        "# +ve 0 or -ve\n",
        "no=int(input(\"Enter a number: \"))\n",
        "if no>0:\n",
        "  print(no, \"is +ve\")\n",
        "elif no<0:\n",
        "    print(no, \"is -ve\")\n",
        "else:\n",
        "  print(no, \"is zero\")\n",
        "print(\"done\")"
      ],
      "metadata": {
        "colab": {
          "base_uri": "https://localhost:8080/"
        },
        "id": "6ZUPgfblfHup",
        "outputId": "b62fc54c-986a-45a2-f576-4c589f2faf1a"
      },
      "execution_count": null,
      "outputs": [
        {
          "output_type": "stream",
          "name": "stdout",
          "text": [
            "Enter a number: 5\n",
            "5 is +ve\n",
            "done\n"
          ]
        }
      ]
    },
    {
      "cell_type": "code",
      "source": [
        "# take two numbers, print smaller, also check if both are equal\n",
        "n1=int(input(\"Enter 1st number: \"))\n",
        "n2=int(input(\"Enter 2nd number: \"))\n",
        "if n1<n2:\n",
        "  print(n1, \"is smaller\")\n",
        "elif n2<n1:\n",
        "  print(n2, \"is smaller\")\n",
        "else:\n",
        "  print(\"both\", n1, \"&\", n2, \"are equal\")"
      ],
      "metadata": {
        "colab": {
          "base_uri": "https://localhost:8080/"
        },
        "id": "IoFV7ND0fodd",
        "outputId": "51805ab6-9466-4261-f7b2-a7ff63073307"
      },
      "execution_count": null,
      "outputs": [
        {
          "output_type": "stream",
          "name": "stdout",
          "text": [
            "Enter 1st number: 1\n",
            "Enter 2nd number: 1\n",
            "both 1 & 1 are equal\n"
          ]
        }
      ]
    },
    {
      "cell_type": "code",
      "source": [
        "#print passing class given percentage\n",
        "# p>60: first\n",
        "# 50<=p<60 : second\n",
        "# 40<=p<50 : third\n",
        "# p<40 : fail\n",
        "per=float(input(\"Enter percentage: \"))\n",
        "if per>=60:\n",
        "  print(\"First class\")\n",
        "elif 50<=per and per<60:\n",
        "  print(\"Second class\")\n",
        "elif 40<=per and per<50:\n",
        "  print(\"Third class\")\n",
        "else:\n",
        "  print(\"Fail\")"
      ],
      "metadata": {
        "colab": {
          "base_uri": "https://localhost:8080/"
        },
        "id": "jgTtx9PrgRMl",
        "outputId": "411c8293-7141-45f8-e1d6-b6a83fdc4eed"
      },
      "execution_count": null,
      "outputs": [
        {
          "output_type": "stream",
          "name": "stdout",
          "text": [
            "Enter percentage: 32.9\n",
            "Fail\n"
          ]
        }
      ]
    },
    {
      "cell_type": "code",
      "source": [
        "# optimized, at most only one block will execute\n",
        "per=float(input(\"Enter percentage: \"))\n",
        "if per>=60:\n",
        "  print(\"First class\")\n",
        "elif 50<=per:\n",
        "  print(\"Second class\")\n",
        "elif 40<=per:\n",
        "  print(\"Third class\")\n",
        "else:\n",
        "  print(\"Fail\")"
      ],
      "metadata": {
        "colab": {
          "base_uri": "https://localhost:8080/"
        },
        "id": "56nvpE5SiJpG",
        "outputId": "0938f50a-5624-4085-8713-1acd67ebe3ea"
      },
      "execution_count": null,
      "outputs": [
        {
          "output_type": "stream",
          "name": "stdout",
          "text": [
            "Enter percentage: 76.8\n",
            "First class\n"
          ]
        }
      ]
    },
    {
      "cell_type": "code",
      "source": [
        "i=0\n",
        "while i<=3:\n",
        "  print(i)\n",
        "  i+=1\n",
        "print(\"finally i is\", i)"
      ],
      "metadata": {
        "colab": {
          "base_uri": "https://localhost:8080/"
        },
        "id": "21Bn7YkCjLlV",
        "outputId": "8a170d48-9782-45fd-c594-97e89e4ac155"
      },
      "execution_count": null,
      "outputs": [
        {
          "output_type": "stream",
          "name": "stdout",
          "text": [
            "0\n",
            "1\n",
            "2\n",
            "3\n",
            "finally i is 4\n"
          ]
        }
      ]
    },
    {
      "cell_type": "code",
      "source": [
        "# 10, 20, 30... 100\n",
        "i=10\n",
        "while i<=100:\n",
        "  print(i)\n",
        "  i+=10"
      ],
      "metadata": {
        "colab": {
          "base_uri": "https://localhost:8080/"
        },
        "id": "5n0ANNzYms5x",
        "outputId": "324155b6-1e22-4261-e43f-b506d5869b26"
      },
      "execution_count": null,
      "outputs": [
        {
          "output_type": "stream",
          "name": "stdout",
          "text": [
            "10\n",
            "20\n",
            "30\n",
            "40\n",
            "50\n",
            "60\n",
            "70\n",
            "80\n",
            "90\n",
            "100\n"
          ]
        }
      ]
    },
    {
      "cell_type": "code",
      "source": [
        "# 10, 9, 8, ... 1\n",
        "i=10\n",
        "while i>=1:\n",
        "  print(i)\n",
        "  i-=1"
      ],
      "metadata": {
        "colab": {
          "base_uri": "https://localhost:8080/"
        },
        "id": "MzKryxMnnQb_",
        "outputId": "bf3795ba-dbae-4a83-b9a3-5141a5d15b6b"
      },
      "execution_count": null,
      "outputs": [
        {
          "output_type": "stream",
          "name": "stdout",
          "text": [
            "10\n",
            "9\n",
            "8\n",
            "7\n",
            "6\n",
            "5\n",
            "4\n",
            "3\n",
            "2\n",
            "1\n"
          ]
        }
      ]
    },
    {
      "cell_type": "code",
      "source": [
        "# 1 to n, where n entered by user n>0\n",
        "n=int(input(\"Enter value of n : \"))\n",
        "if n>0:\n",
        "  i=1\n",
        "  while i<=n:\n",
        "    print(i)\n",
        "    i+=1"
      ],
      "metadata": {
        "colab": {
          "base_uri": "https://localhost:8080/"
        },
        "id": "ZvPTTnwinYF2",
        "outputId": "76b154b7-7a7f-418a-d434-0e4d244c1709"
      },
      "execution_count": null,
      "outputs": [
        {
          "output_type": "stream",
          "name": "stdout",
          "text": [
            "Enter value of n : 5\n",
            "1\n",
            "2\n",
            "3\n",
            "4\n",
            "5\n"
          ]
        }
      ]
    },
    {
      "cell_type": "code",
      "source": [
        "# print series start to end\n",
        "#     start: 3 end: 5    3, 4, 5\n",
        "start=int(input(\"Enter start : \"))\n",
        "end=int(input(\"Enter end : \"))\n",
        "i=start\n",
        "while i<=end:\n",
        "  print(i)\n",
        "  i+=1"
      ],
      "metadata": {
        "colab": {
          "base_uri": "https://localhost:8080/"
        },
        "id": "_WAI0MVmnTSr",
        "outputId": "bad8ea93-7088-43d5-d37f-44b0f97ac513"
      },
      "execution_count": null,
      "outputs": [
        {
          "output_type": "stream",
          "name": "stdout",
          "text": [
            "Enter start : 3\n",
            "Enter end : 5\n",
            "3\n",
            "4\n",
            "5\n"
          ]
        }
      ]
    },
    {
      "cell_type": "code",
      "source": [
        "# print series start to end\n",
        "#     start: 2 end:-2   2, 1, 0, -1, -2\n",
        "start, end=int(input(\"Enter start : \")), int(input(\"Enter end : \"))\n",
        "if start<end:\n",
        "  i=start\n",
        "  while i<=end:\n",
        "    print(i, end='', sep=',')\n",
        "    i+=1\n",
        "else:\n",
        "  i=start\n",
        "  while i>=end:\n",
        "    print(i, ',', end='')\n",
        "    i-=1"
      ],
      "metadata": {
        "colab": {
          "base_uri": "https://localhost:8080/"
        },
        "id": "ykLxdpsynakX",
        "outputId": "62cb77a2-ef1b-40f7-b105-85e95d43f7d7"
      },
      "execution_count": null,
      "outputs": [
        {
          "output_type": "stream",
          "name": "stdout",
          "text": [
            "Enter start : 3\n",
            "Enter end : -4\n",
            "3 ,2 ,1 ,0 ,-1 ,-2 ,-3 ,-4 ,"
          ]
        }
      ]
    },
    {
      "cell_type": "markdown",
      "source": [
        "### infinite while loop\n",
        "1. Loop will only stop when user wants\n",
        "2. uses break statement"
      ],
      "metadata": {
        "id": "AyBqXYB3rSHU"
      }
    },
    {
      "cell_type": "code",
      "source": [
        "while True:\n",
        "  no=input(\"Enter a number: \")\n",
        "  if no=='':\n",
        "    break\n",
        "print(\"Thanks for using code\")"
      ],
      "metadata": {
        "colab": {
          "base_uri": "https://localhost:8080/"
        },
        "id": "F3cOOvf8o33C",
        "outputId": "cb1e19cf-a4e9-4669-90e7-89922cc361ce"
      },
      "execution_count": null,
      "outputs": [
        {
          "output_type": "stream",
          "name": "stdout",
          "text": [
            "Enter a number: 11\n",
            "Enter a number: -22\n",
            "Enter a number: 34\n",
            "Enter a number: 77\n",
            "Enter a number: 23546\n",
            "Enter a number: 0\n",
            "Enter a number: \n",
            "Thanks for using code\n"
          ]
        }
      ]
    },
    {
      "cell_type": "code",
      "source": [
        "# code should ask the user to guess number, and run until he guesses 28\n",
        "while True:\n",
        "  no=float(input(\"Guess the number: \"))\n",
        "  if no==28.00:\n",
        "    break\n",
        "print(\"You've correctly guessed number 28\")"
      ],
      "metadata": {
        "colab": {
          "base_uri": "https://localhost:8080/"
        },
        "id": "4p57nHO8sAKO",
        "outputId": "94a42d2d-61a5-49af-d353-c6e29ec9a96f"
      },
      "execution_count": null,
      "outputs": [
        {
          "output_type": "stream",
          "name": "stdout",
          "text": [
            "Guess the number: 28.2\n",
            "Guess the number: 28.0000\n",
            "You've correctly guessed number 28\n"
          ]
        }
      ]
    },
    {
      "cell_type": "code",
      "source": [
        "# 1. tea  2. coffee 3. colddrink  0. exit ---Error\n",
        "while True:\n",
        "  #Menu\n",
        "  print(\"\\n1. Tea\\n2. Coffee\\n3. ColdDrink\\n0. exit\\n:\")\n",
        "  ##input\n",
        "  ch=int(input(\"\"))\n",
        "  #conditional\n",
        "  if ch==1:\n",
        "    print(\"Have Tea\")\n",
        "  elif ch==2:\n",
        "    print(\"Have coffee\")\n",
        "  elif ch==3:\n",
        "    print(\"Have cold drink\")\n",
        "  elif ch==0:\n",
        "    print(\"Thanks for using code\")\n",
        "    break\n",
        "  else:\n",
        "    print(\"Erong Choice\")"
      ],
      "metadata": {
        "colab": {
          "base_uri": "https://localhost:8080/"
        },
        "id": "MfsC1GyYsm6g",
        "outputId": "be65205a-427f-4727-bf88-9c69da41fc6e"
      },
      "execution_count": null,
      "outputs": [
        {
          "output_type": "stream",
          "name": "stdout",
          "text": [
            "\n",
            "1. Tea\n",
            "2. Coffee\n",
            "3. ColdDrink\n",
            "0. exit\n",
            ":\n",
            "1\n",
            "Have Tea\n",
            "\n",
            "1. Tea\n",
            "2. Coffee\n",
            "3. ColdDrink\n",
            "0. exit\n",
            ":\n",
            "2\n",
            "Have coffee\n",
            "\n",
            "1. Tea\n",
            "2. Coffee\n",
            "3. ColdDrink\n",
            "0. exit\n",
            ":\n",
            "3\n",
            "Have cold drink\n",
            "\n",
            "1. Tea\n",
            "2. Coffee\n",
            "3. ColdDrink\n",
            "0. exit\n",
            ":\n",
            "8\n",
            "Erong Choice\n",
            "\n",
            "1. Tea\n",
            "2. Coffee\n",
            "3. ColdDrink\n",
            "0. exit\n",
            ":\n",
            "0\n",
            "Thanks for using code\n"
          ]
        }
      ]
    },
    {
      "cell_type": "code",
      "source": [
        "#10 tea   #15 coffee    #30 cold drink    # calculate earnings at end, and how much of each item has earned\n",
        "earnTea, earnCoffee, earnColD=0, 0, 0\n",
        "while True:\n",
        "  print(\"\\n1. Rs.10 for tea\\n2. Rs.15 for coffee\\n3. Rs.30 for cold drink\\n0. to end day & show earnings\\n:\")\n",
        "  ch=int(input(''))\n",
        "  print(\"tea:\", earnTea, \"Coffee:\", earnCoffee, \"ColdD:\", earnColD)   #debug\n",
        "  if ch==1:\n",
        "    print(\"Have tea for Rs. 10\")\n",
        "    earnTea+=10\n",
        "    print(\"tea:\", earnTea, \"Coffee:\", earnCoffee, \"ColdD:\", earnColD)   #debug\n",
        "  elif ch==2:\n",
        "    print(\"Have Coffee for Rs. 15\")\n",
        "    earnCoffee+=15\n",
        "    print(\"tea:\", earnTea, \"Coffee:\", earnCoffee, \"ColdD:\", earnColD)   #debug\n",
        "  elif ch==3:\n",
        "    print(\"Have Cold Drink for Rs. 30\")\n",
        "    earnColD+=30\n",
        "    print(\"tea:\", earnTea, \"Coffee:\", earnCoffee, \"ColdD:\", earnColD)   #debug\n",
        "  elif ch==0:\n",
        "    print(\"\\n\\nDay end\\nTea Earning:\", earnTea, \"\\nCoffee Earning:\", earnCoffee, \"\\nCold Drink Earning:\", earnColD, \"\\nTotal Earning:\", earnTea+earnCoffee+earnColD)\n",
        "    break\n",
        "  else:\n",
        "    print(\"Wrong Choice\")"
      ],
      "metadata": {
        "colab": {
          "base_uri": "https://localhost:8080/"
        },
        "id": "pTsW6RZ_vIQO",
        "outputId": "e32bbf0b-f89d-498f-9a69-f076b750e875"
      },
      "execution_count": null,
      "outputs": [
        {
          "output_type": "stream",
          "name": "stdout",
          "text": [
            "\n",
            "1. Rs.10 for tea\n",
            "2. Rs.15 for coffee\n",
            "3. Rs.30 for cold drink\n",
            "0. to end day & show earnings\n",
            ":\n",
            "1\n",
            "tea: 0 Coffee: 0 ColdD: 0\n",
            "Have tea for Rs. 10\n",
            "tea: 10 Coffee: 0 ColdD: 0\n",
            "\n",
            "1. Rs.10 for tea\n",
            "2. Rs.15 for coffee\n",
            "3. Rs.30 for cold drink\n",
            "0. to end day & show earnings\n",
            ":\n",
            "2\n",
            "tea: 10 Coffee: 0 ColdD: 0\n",
            "Have Coffee for Rs. 15\n",
            "tea: 10 Coffee: 15 ColdD: 0\n",
            "\n",
            "1. Rs.10 for tea\n",
            "2. Rs.15 for coffee\n",
            "3. Rs.30 for cold drink\n",
            "0. to end day & show earnings\n",
            ":\n",
            "2\n",
            "tea: 10 Coffee: 15 ColdD: 0\n",
            "Have Coffee for Rs. 15\n",
            "tea: 10 Coffee: 30 ColdD: 0\n",
            "\n",
            "1. Rs.10 for tea\n",
            "2. Rs.15 for coffee\n",
            "3. Rs.30 for cold drink\n",
            "0. to end day & show earnings\n",
            ":\n",
            "2\n",
            "tea: 10 Coffee: 30 ColdD: 0\n",
            "Have Coffee for Rs. 15\n",
            "tea: 10 Coffee: 45 ColdD: 0\n",
            "\n",
            "1. Rs.10 for tea\n",
            "2. Rs.15 for coffee\n",
            "3. Rs.30 for cold drink\n",
            "0. to end day & show earnings\n",
            ":\n",
            "3\n",
            "tea: 10 Coffee: 45 ColdD: 0\n",
            "Have Cold Drink for Rs. 30\n",
            "tea: 10 Coffee: 45 ColdD: 30\n",
            "\n",
            "1. Rs.10 for tea\n",
            "2. Rs.15 for coffee\n",
            "3. Rs.30 for cold drink\n",
            "0. to end day & show earnings\n",
            ":\n",
            "0\n",
            "tea: 10 Coffee: 45 ColdD: 30\n",
            "\n",
            "\n",
            "Day end\n",
            "Tea Earning: 10 \n",
            "Coffee Earning: 45 \n",
            "Cold Drink Earning: 30 \n",
            "Total Earning: 85\n"
          ]
        }
      ]
    },
    {
      "cell_type": "code",
      "source": [
        "# no % 10 returns last digit\n",
        "# no // 10 will remove last digit\n",
        "# no /10 will not work in python unlike java,  CPP, etc.\n",
        "no=12345\n",
        "while no>0:\n",
        "  d=no%10\n",
        "  no=no//10\n",
        "  print(no, d)"
      ],
      "metadata": {
        "colab": {
          "base_uri": "https://localhost:8080/"
        },
        "id": "tOcyiE-sxSAs",
        "outputId": "1600ac83-7b3f-4224-d159-a5eadb26c34d"
      },
      "execution_count": null,
      "outputs": [
        {
          "output_type": "stream",
          "name": "stdout",
          "text": [
            "1234 5\n",
            "123 4\n",
            "12 3\n",
            "1 2\n",
            "0 1\n"
          ]
        }
      ]
    },
    {
      "cell_type": "code",
      "source": [
        "# reverse a number\n",
        "no=12345\n",
        "rno=0\n",
        "while no>0:\n",
        "  d=no%10\n",
        "  no=no//10\n",
        "  rno=rno*10+d\n",
        "  print(\"no: \", no, \"rno: \", rno)"
      ],
      "metadata": {
        "colab": {
          "base_uri": "https://localhost:8080/"
        },
        "id": "y7DJBdJk0dXO",
        "outputId": "541a8e93-45cd-4ed5-b005-a011a74a4632"
      },
      "execution_count": null,
      "outputs": [
        {
          "output_type": "stream",
          "name": "stdout",
          "text": [
            "no:  1234 rno:  5\n",
            "no:  123 rno:  54\n",
            "no:  12 rno:  543\n",
            "no:  1 rno:  5432\n",
            "no:  0 rno:  54321\n"
          ]
        }
      ]
    },
    {
      "cell_type": "code",
      "source": [
        "# check if number is armstrong\n",
        "no=int(input(\"Enter number to check armstrong: \"))\n",
        "actnum=no\n",
        "arm=0\n",
        "while no>0:\n",
        "  d=no%10\n",
        "  no=no//10\n",
        "  arm=arm+d**3\n",
        "  print(\"no: \", no, \"arm:\", arm, \"d: \", d)\n",
        "if(actnum==arm):\n",
        "  print(\"Armstrong\")\n",
        "else:\n",
        "  print(\"Non-Armstrong\")"
      ],
      "metadata": {
        "colab": {
          "base_uri": "https://localhost:8080/"
        },
        "id": "80P8DYLM04Qc",
        "outputId": "aa4630ae-6a33-40c7-d33f-ffe5add9c4c4"
      },
      "execution_count": null,
      "outputs": [
        {
          "output_type": "stream",
          "name": "stdout",
          "text": [
            "Enter number to check armstrong: 153\n",
            "no:  15 arm: 27 d:  3\n",
            "no:  1 arm: 152 d:  5\n",
            "no:  0 arm: 153 d:  1\n",
            "Armstrong\n"
          ]
        }
      ]
    },
    {
      "cell_type": "code",
      "source": [],
      "metadata": {
        "id": "DMpWm-vo2AQc"
      },
      "execution_count": null,
      "outputs": []
    }
  ]
}