{
  "nbformat": 4,
  "nbformat_minor": 0,
  "metadata": {
    "colab": {
      "provenance": []
    },
    "kernelspec": {
      "name": "python3",
      "display_name": "Python 3"
    },
    "language_info": {
      "name": "python"
    }
  },
  "cells": [
    {
      "cell_type": "code",
      "execution_count": null,
      "metadata": {
        "colab": {
          "base_uri": "https://localhost:8080/"
        },
        "id": "bD5QFUxvww43",
        "outputId": "b85fece9-05a1-42e4-d6c8-bd90c39c5c4e"
      },
      "outputs": [
        {
          "output_type": "execute_result",
          "data": {
            "text/plain": [
              "list"
            ]
          },
          "metadata": {},
          "execution_count": 2
        }
      ],
      "source": [
        "data=[]\n",
        "type(data)"
      ]
    },
    {
      "cell_type": "code",
      "source": [
        "data=()\n",
        "type(data)"
      ],
      "metadata": {
        "colab": {
          "base_uri": "https://localhost:8080/"
        },
        "id": "aFi-akOIw7Ih",
        "outputId": "a10b9b5f-437f-4664-b72c-11729a0c24e0"
      },
      "execution_count": null,
      "outputs": [
        {
          "output_type": "execute_result",
          "data": {
            "text/plain": [
              "tuple"
            ]
          },
          "metadata": {},
          "execution_count": 3
        }
      ]
    },
    {
      "cell_type": "code",
      "source": [
        "data={}#dict not set\n",
        "type(data)"
      ],
      "metadata": {
        "colab": {
          "base_uri": "https://localhost:8080/"
        },
        "id": "sKZUB4Kzw9PI",
        "outputId": "856c912b-0ae7-4e75-d1de-77fe442529a6"
      },
      "execution_count": null,
      "outputs": [
        {
          "output_type": "execute_result",
          "data": {
            "text/plain": [
              "set"
            ]
          },
          "metadata": {},
          "execution_count": 5
        }
      ]
    },
    {
      "cell_type": "code",
      "source": [
        "data={0}#set\n",
        "type(data)"
      ],
      "metadata": {
        "colab": {
          "base_uri": "https://localhost:8080/"
        },
        "id": "hati7kWYxJCX",
        "outputId": "88f16856-cc23-416c-d9d1-b121bbb368f0"
      },
      "execution_count": null,
      "outputs": [
        {
          "output_type": "execute_result",
          "data": {
            "text/plain": [
              "set"
            ]
          },
          "metadata": {},
          "execution_count": 6
        }
      ]
    },
    {
      "cell_type": "code",
      "source": [
        "data=set()#way to create blank set\n",
        "type(data)"
      ],
      "metadata": {
        "colab": {
          "base_uri": "https://localhost:8080/"
        },
        "id": "PYYdN_4_xR9b",
        "outputId": "15cf209a-1c7f-47f0-e1bb-6e37d95d12f2"
      },
      "execution_count": null,
      "outputs": [
        {
          "output_type": "execute_result",
          "data": {
            "text/plain": [
              "set"
            ]
          },
          "metadata": {},
          "execution_count": 8
        }
      ]
    },
    {
      "cell_type": "markdown",
      "source": [
        "# **LIST**"
      ],
      "metadata": {
        "id": "0JcWW_ki1BMt"
      }
    },
    {
      "cell_type": "code",
      "source": [
        "#create   var=[]   var=[v1,v2,v3,v4]\n",
        "data=[11,22,\"amar\",True,3.14]#hetrogeneous\n",
        "print(data)\n"
      ],
      "metadata": {
        "colab": {
          "base_uri": "https://localhost:8080/"
        },
        "id": "DPIA4NxaxZH_",
        "outputId": "04e51fcb-c5e9-4348-f455-5999c2f87570"
      },
      "execution_count": null,
      "outputs": [
        {
          "output_type": "stream",
          "name": "stdout",
          "text": [
            "[11, 22, 'amar', True, 3.14]\n"
          ]
        }
      ]
    },
    {
      "cell_type": "code",
      "source": [
        "#indexed access\n",
        "#positive   #negative\n",
        "\n",
        "data=[11,22,33,44,55,66]\n",
        "print(data[0])\n",
        "print(data[-1])\n",
        "print(len(data))"
      ],
      "metadata": {
        "colab": {
          "base_uri": "https://localhost:8080/"
        },
        "id": "UW3BVJDs1EwO",
        "outputId": "9a112df0-3437-4163-de91-51579da8bee9"
      },
      "execution_count": null,
      "outputs": [
        {
          "output_type": "stream",
          "name": "stdout",
          "text": [
            "11\n",
            "66\n",
            "6\n"
          ]
        }
      ]
    },
    {
      "cell_type": "code",
      "source": [
        "#indexed access\n",
        "data=[11,22,33,44,55,66]\n",
        "for i in range(len(data)):\n",
        "    print(\"at\",i,\"we have:\",data[i])"
      ],
      "metadata": {
        "colab": {
          "base_uri": "https://localhost:8080/"
        },
        "id": "CVCK6ZtA2YNo",
        "outputId": "81ee1f0b-4f67-4a24-84eb-79f299d53b64"
      },
      "execution_count": null,
      "outputs": [
        {
          "output_type": "stream",
          "name": "stdout",
          "text": [
            "at 0 we have: 11\n",
            "at 1 we have: 22\n",
            "at 2 we have: 33\n",
            "at 3 we have: 44\n",
            "at 4 we have: 55\n",
            "at 5 we have: 66\n"
          ]
        }
      ]
    },
    {
      "cell_type": "code",
      "source": [
        "#auto iterated access\n",
        "data=[11,22,33,44,55,66]\n",
        "for i in data:\n",
        "    print(i)"
      ],
      "metadata": {
        "colab": {
          "base_uri": "https://localhost:8080/"
        },
        "id": "DwPt06s12wB9",
        "outputId": "f0fcbb11-4353-4cd5-e23a-5e2d16d3732f"
      },
      "execution_count": null,
      "outputs": [
        {
          "output_type": "stream",
          "name": "stdout",
          "text": [
            "11\n",
            "22\n",
            "33\n",
            "44\n",
            "55\n",
            "66\n"
          ]
        }
      ]
    },
    {
      "cell_type": "code",
      "source": [
        "data1=[11,22,33,44]\n",
        "data2=[1,2,3]\n",
        "data3=data1+data2\n",
        "data4=data1*2\n",
        "print(data3)\n",
        "print(data4)"
      ],
      "metadata": {
        "colab": {
          "base_uri": "https://localhost:8080/"
        },
        "id": "Nsxyz6LZ3ZDv",
        "outputId": "9952ee61-1a3c-4489-dd61-b3bf787ab7f1"
      },
      "execution_count": null,
      "outputs": [
        {
          "output_type": "stream",
          "name": "stdout",
          "text": [
            "[11, 22, 33, 44, 1, 2, 3]\n",
            "[11, 22, 33, 44, 11, 22, 33, 44]\n"
          ]
        }
      ]
    },
    {
      "cell_type": "code",
      "source": [
        "data=[11,22,33,44,55,66,77,88,99,111]\n",
        "print(data[::2])\n",
        "print(data)\n",
        "data2=data[::-1]"
      ],
      "metadata": {
        "colab": {
          "base_uri": "https://localhost:8080/"
        },
        "id": "V9wCu2Z84rJU",
        "outputId": "003f5ba6-66a9-47ae-b00b-6c63aeb90c1b"
      },
      "execution_count": null,
      "outputs": [
        {
          "output_type": "stream",
          "name": "stdout",
          "text": [
            "[11, 33, 55, 77, 99]\n",
            "[11, 22, 33, 44, 55, 66, 77, 88, 99, 111]\n"
          ]
        }
      ]
    },
    {
      "cell_type": "code",
      "source": [
        "data2"
      ],
      "metadata": {
        "colab": {
          "base_uri": "https://localhost:8080/"
        },
        "id": "yMvxxE4X6P63",
        "outputId": "d9481b8f-127a-4e51-a575-a35b103e4add"
      },
      "execution_count": null,
      "outputs": [
        {
          "output_type": "execute_result",
          "data": {
            "text/plain": [
              "[111, 99, 88, 77, 66, 55, 44, 33, 22, 11]"
            ]
          },
          "metadata": {},
          "execution_count": 23
        }
      ]
    },
    {
      "cell_type": "code",
      "source": [
        "list2d=[[10,20,30],[40,50],[60,70,80,90,100]]"
      ],
      "metadata": {
        "id": "IbJW8ahp6bI6"
      },
      "execution_count": null,
      "outputs": []
    },
    {
      "cell_type": "code",
      "source": [
        "len(list2d)"
      ],
      "metadata": {
        "colab": {
          "base_uri": "https://localhost:8080/"
        },
        "id": "yvMZwd2c69Kt",
        "outputId": "b1dfa463-8053-429c-85d4-120bde690b0f"
      },
      "execution_count": null,
      "outputs": [
        {
          "output_type": "execute_result",
          "data": {
            "text/plain": [
              "3"
            ]
          },
          "metadata": {},
          "execution_count": 25
        }
      ]
    },
    {
      "cell_type": "code",
      "source": [
        "for row in list2d:\n",
        "    print(row)"
      ],
      "metadata": {
        "colab": {
          "base_uri": "https://localhost:8080/"
        },
        "id": "rOfk3kDT7Iop",
        "outputId": "c6e2ac22-a5fe-4f11-a067-9418c40787a1"
      },
      "execution_count": null,
      "outputs": [
        {
          "output_type": "stream",
          "name": "stdout",
          "text": [
            "[10, 20, 30]\n",
            "[40, 50]\n",
            "[60, 70, 80, 90, 100]\n"
          ]
        }
      ]
    },
    {
      "cell_type": "code",
      "source": [
        "len(list2d[2])"
      ],
      "metadata": {
        "colab": {
          "base_uri": "https://localhost:8080/"
        },
        "id": "2oifjbHg8qFc",
        "outputId": "dfb38087-5af0-4803-bea0-cbb8e91bb9c4"
      },
      "execution_count": null,
      "outputs": [
        {
          "output_type": "execute_result",
          "data": {
            "text/plain": [
              "5"
            ]
          },
          "metadata": {},
          "execution_count": 32
        }
      ]
    },
    {
      "cell_type": "code",
      "source": [
        "'''\n",
        "print each element using index only\n",
        "10 20 30\n",
        "40 50\n",
        "...\n",
        "'''\n",
        "for row in range(0,len(list2d)):\n",
        "    for column in range(0,len(list2d[row])):\n",
        "        #print(\"at\",row,\",\",\"column:\",column,\":\",list2d[row][column])\n",
        "        print(list2d[row][column],\" \",end=\"\")\n",
        "    print()"
      ],
      "metadata": {
        "colab": {
          "base_uri": "https://localhost:8080/"
        },
        "id": "yIDv_5CL8fND",
        "outputId": "d7187e42-c679-4ec2-ad4b-21cd1ee8d417"
      },
      "execution_count": null,
      "outputs": [
        {
          "output_type": "stream",
          "name": "stdout",
          "text": [
            "10  20  30  \n",
            "40  50  \n",
            "60  70  80  90  100  \n"
          ]
        }
      ]
    },
    {
      "cell_type": "code",
      "source": [
        "data=[[11,22,33,44],[55,66,77,88],[99,111,222,333],[444,555,666,777]]\n",
        "#print in zigzag manner on norMAL AND REVERSAL\n",
        "# 11 22 33 44\n",
        "# 88 77 66 55\n",
        "# 99 111 222 333\n",
        "# 777 666 555 444"
      ],
      "metadata": {
        "id": "lYe2F0Ez_QQ8"
      },
      "execution_count": null,
      "outputs": []
    },
    {
      "cell_type": "code",
      "source": [
        "data=[[11,22,33,44],[55,66,77,88],[99,111,222,333],[444,555,666,777]]\n",
        "for index in range(0,len(data)):\n",
        "    temp=data[index]\n",
        "    if index%2!=0:\n",
        "        print(temp)\n",
        "    else:\n",
        "        print(temp[::-1])"
      ],
      "metadata": {
        "colab": {
          "base_uri": "https://localhost:8080/"
        },
        "id": "oT6VYJdu_Z1I",
        "outputId": "8827ca92-f25d-4644-faf9-5934974a0951"
      },
      "execution_count": null,
      "outputs": [
        {
          "output_type": "stream",
          "name": "stdout",
          "text": [
            "[44, 33, 22, 11]\n",
            "[55, 66, 77, 88]\n",
            "[333, 222, 111, 99]\n",
            "[444, 555, 666, 777]\n"
          ]
        }
      ]
    },
    {
      "cell_type": "code",
      "source": [
        "datalist=[]"
      ],
      "metadata": {
        "id": "XVpLfT0OC2ug"
      },
      "execution_count": null,
      "outputs": []
    },
    {
      "cell_type": "code",
      "source": [
        "datalist.append(int(input(\"Enter data:\")))"
      ],
      "metadata": {
        "colab": {
          "base_uri": "https://localhost:8080/"
        },
        "id": "enKWFjxqC9g7",
        "outputId": "1ec84861-3192-46d8-87cd-cf9c0652a56a"
      },
      "execution_count": null,
      "outputs": [
        {
          "name": "stdout",
          "output_type": "stream",
          "text": [
            "Enter data:-99\n"
          ]
        }
      ]
    },
    {
      "cell_type": "code",
      "source": [
        "print(\"datalist has:\",len(datalist),datalist)"
      ],
      "metadata": {
        "colab": {
          "base_uri": "https://localhost:8080/"
        },
        "id": "bKohIzQyDEPF",
        "outputId": "c040bf6d-e37b-451e-b110-528ff3b9bbea"
      },
      "execution_count": null,
      "outputs": [
        {
          "output_type": "stream",
          "name": "stdout",
          "text": [
            "datalist has: 6 [333, 1000, 19, 6, -99, 212]\n"
          ]
        }
      ]
    },
    {
      "cell_type": "code",
      "source": [
        "datalist.insert(-100,333)"
      ],
      "metadata": {
        "id": "zSsjMEeiDYVu"
      },
      "execution_count": null,
      "outputs": []
    },
    {
      "cell_type": "code",
      "source": [
        "d1=[11,22,33]\n",
        "d2=[10,20,30]\n",
        "d1=d1+d2#temp changes\n",
        "print(\"d1:\",d1)"
      ],
      "metadata": {
        "colab": {
          "base_uri": "https://localhost:8080/"
        },
        "id": "fGRH50rqEJ9k",
        "outputId": "6005ab2d-cd39-4f36-edc8-a6bb1576635a"
      },
      "execution_count": null,
      "outputs": [
        {
          "output_type": "stream",
          "name": "stdout",
          "text": [
            "d1: [11, 22, 33]\n"
          ]
        }
      ]
    },
    {
      "cell_type": "code",
      "source": [
        "d1=[11,22,33]\n",
        "d2=[10,20,30]\n",
        "d1.extend(d2)#permanent changes\n",
        "print(d1)"
      ],
      "metadata": {
        "colab": {
          "base_uri": "https://localhost:8080/"
        },
        "id": "YQVXZcWuEO1d",
        "outputId": "95f403da-82e0-46fa-ba32-d1f7271fdad0"
      },
      "execution_count": null,
      "outputs": [
        {
          "output_type": "stream",
          "name": "stdout",
          "text": [
            "[11, 22, 33, 10, 20, 30]\n"
          ]
        }
      ]
    },
    {
      "cell_type": "code",
      "source": [
        "d1"
      ],
      "metadata": {
        "colab": {
          "base_uri": "https://localhost:8080/"
        },
        "id": "QsMXbpepESpt",
        "outputId": "4a7e762a-8601-4f4c-ebdb-b433f103fda8"
      },
      "execution_count": null,
      "outputs": [
        {
          "output_type": "execute_result",
          "data": {
            "text/plain": [
              "[11, 22, 33, 10, 20, 30]"
            ]
          },
          "metadata": {},
          "execution_count": 61
        }
      ]
    },
    {
      "cell_type": "code",
      "source": [
        "d=[11,22,11,33,44,55]"
      ],
      "metadata": {
        "id": "CseM_KD3Ft2b"
      },
      "execution_count": null,
      "outputs": []
    },
    {
      "cell_type": "code",
      "source": [
        "d.pop(2)"
      ],
      "metadata": {
        "colab": {
          "base_uri": "https://localhost:8080/"
        },
        "id": "0hLnhjGxF_B9",
        "outputId": "f40ea1de-2d20-490e-ea48-ada113d38e5e"
      },
      "execution_count": null,
      "outputs": [
        {
          "output_type": "execute_result",
          "data": {
            "text/plain": [
              "11"
            ]
          },
          "metadata": {},
          "execution_count": 77
        }
      ]
    },
    {
      "cell_type": "code",
      "source": [
        "print(d)"
      ],
      "metadata": {
        "colab": {
          "base_uri": "https://localhost:8080/"
        },
        "id": "ZIudOxc_GByH",
        "outputId": "e54d9d80-b978-4585-c10d-6bd57cb36cfa"
      },
      "execution_count": null,
      "outputs": [
        {
          "output_type": "stream",
          "name": "stdout",
          "text": [
            "[11, 22, 33, 44, 55]\n"
          ]
        }
      ]
    },
    {
      "cell_type": "code",
      "source": [
        "d.remove(11)\n",
        "print(d)"
      ],
      "metadata": {
        "colab": {
          "base_uri": "https://localhost:8080/",
          "height": 183
        },
        "id": "bTJTAxOxFz58",
        "outputId": "f63c1b53-64cd-4c29-fe44-ec477d7229a8"
      },
      "execution_count": null,
      "outputs": [
        {
          "output_type": "error",
          "ename": "ValueError",
          "evalue": "ignored",
          "traceback": [
            "\u001b[0;31m---------------------------------------------------------------------------\u001b[0m",
            "\u001b[0;31mValueError\u001b[0m                                Traceback (most recent call last)",
            "\u001b[0;32m<ipython-input-67-efef4923fc3f>\u001b[0m in \u001b[0;36m<cell line: 1>\u001b[0;34m()\u001b[0m\n\u001b[0;32m----> 1\u001b[0;31m \u001b[0md\u001b[0m\u001b[0;34m.\u001b[0m\u001b[0mremove\u001b[0m\u001b[0;34m(\u001b[0m\u001b[0;36m11\u001b[0m\u001b[0;34m)\u001b[0m\u001b[0;34m\u001b[0m\u001b[0;34m\u001b[0m\u001b[0m\n\u001b[0m\u001b[1;32m      2\u001b[0m \u001b[0mprint\u001b[0m\u001b[0;34m(\u001b[0m\u001b[0md\u001b[0m\u001b[0;34m)\u001b[0m\u001b[0;34m\u001b[0m\u001b[0;34m\u001b[0m\u001b[0m\n",
            "\u001b[0;31mValueError\u001b[0m: list.remove(x): x not in list"
          ]
        }
      ]
    },
    {
      "cell_type": "code",
      "source": [
        "print(data)"
      ],
      "metadata": {
        "colab": {
          "base_uri": "https://localhost:8080/"
        },
        "id": "dUZXKHsWG12f",
        "outputId": "f5d57d38-68d2-4d98-9a5f-cf7244c73c6f"
      },
      "execution_count": null,
      "outputs": [
        {
          "output_type": "stream",
          "name": "stdout",
          "text": [
            "[]\n"
          ]
        }
      ]
    },
    {
      "cell_type": "code",
      "source": [
        "data.clear()"
      ],
      "metadata": {
        "id": "Y1yI4YpCG32h"
      },
      "execution_count": null,
      "outputs": []
    },
    {
      "cell_type": "code",
      "source": [
        "data=[11,22,33,11,44,11,55]\n",
        "print(data.index(11))#searches from 0th index\n",
        "print(data.index(11,1))#searches from 1st index\n",
        "print(data.index(420))"
      ],
      "metadata": {
        "colab": {
          "base_uri": "https://localhost:8080/",
          "height": 235
        },
        "id": "cI8c37otHcjy",
        "outputId": "0645c7a7-1d30-4779-cbf2-09ae2fdd09cf"
      },
      "execution_count": null,
      "outputs": [
        {
          "output_type": "stream",
          "name": "stdout",
          "text": [
            "0\n",
            "3\n"
          ]
        },
        {
          "output_type": "error",
          "ename": "ValueError",
          "evalue": "ignored",
          "traceback": [
            "\u001b[0;31m---------------------------------------------------------------------------\u001b[0m",
            "\u001b[0;31mValueError\u001b[0m                                Traceback (most recent call last)",
            "\u001b[0;32m<ipython-input-87-cfe734d64b05>\u001b[0m in \u001b[0;36m<cell line: 4>\u001b[0;34m()\u001b[0m\n\u001b[1;32m      2\u001b[0m \u001b[0mprint\u001b[0m\u001b[0;34m(\u001b[0m\u001b[0mdata\u001b[0m\u001b[0;34m.\u001b[0m\u001b[0mindex\u001b[0m\u001b[0;34m(\u001b[0m\u001b[0;36m11\u001b[0m\u001b[0;34m)\u001b[0m\u001b[0;34m)\u001b[0m\u001b[0;31m#searches from 0th index\u001b[0m\u001b[0;34m\u001b[0m\u001b[0;34m\u001b[0m\u001b[0m\n\u001b[1;32m      3\u001b[0m \u001b[0mprint\u001b[0m\u001b[0;34m(\u001b[0m\u001b[0mdata\u001b[0m\u001b[0;34m.\u001b[0m\u001b[0mindex\u001b[0m\u001b[0;34m(\u001b[0m\u001b[0;36m11\u001b[0m\u001b[0;34m,\u001b[0m\u001b[0;36m1\u001b[0m\u001b[0;34m)\u001b[0m\u001b[0;34m)\u001b[0m\u001b[0;31m#searches from 1st index\u001b[0m\u001b[0;34m\u001b[0m\u001b[0;34m\u001b[0m\u001b[0m\n\u001b[0;32m----> 4\u001b[0;31m \u001b[0mprint\u001b[0m\u001b[0;34m(\u001b[0m\u001b[0mdata\u001b[0m\u001b[0;34m.\u001b[0m\u001b[0mindex\u001b[0m\u001b[0;34m(\u001b[0m\u001b[0;36m420\u001b[0m\u001b[0;34m)\u001b[0m\u001b[0;34m)\u001b[0m\u001b[0;34m\u001b[0m\u001b[0;34m\u001b[0m\u001b[0m\n\u001b[0m",
            "\u001b[0;31mValueError\u001b[0m: 420 is not in list"
          ]
        }
      ]
    },
    {
      "cell_type": "code",
      "source": [
        "print(data)\n",
        "data.count(420)"
      ],
      "metadata": {
        "colab": {
          "base_uri": "https://localhost:8080/"
        },
        "id": "0P-1Y40QIDo3",
        "outputId": "b8caa6a1-7173-4e82-b720-dfd1f0ff68fd"
      },
      "execution_count": null,
      "outputs": [
        {
          "output_type": "stream",
          "name": "stdout",
          "text": [
            "[11, 22, 33, 11, 44, 11, 55]\n"
          ]
        },
        {
          "output_type": "execute_result",
          "data": {
            "text/plain": [
              "0"
            ]
          },
          "metadata": {},
          "execution_count": 90
        }
      ]
    },
    {
      "cell_type": "code",
      "source": [
        "data"
      ],
      "metadata": {
        "colab": {
          "base_uri": "https://localhost:8080/"
        },
        "id": "IllgGQZCIRU4",
        "outputId": "f7717223-370b-4a0c-e062-0a7f170db026"
      },
      "execution_count": null,
      "outputs": [
        {
          "output_type": "execute_result",
          "data": {
            "text/plain": [
              "[11, 22, 33, 11, 44, 11, 55]"
            ]
          },
          "metadata": {},
          "execution_count": 91
        }
      ]
    },
    {
      "cell_type": "code",
      "source": [
        "data[::-1]#temp"
      ],
      "metadata": {
        "colab": {
          "base_uri": "https://localhost:8080/"
        },
        "id": "v-wQbAbdIVzp",
        "outputId": "8a46e101-576e-44b5-9477-b67b397e2b61"
      },
      "execution_count": null,
      "outputs": [
        {
          "output_type": "execute_result",
          "data": {
            "text/plain": [
              "[55, 11, 44, 11, 33, 22, 11]"
            ]
          },
          "metadata": {},
          "execution_count": 92
        }
      ]
    },
    {
      "cell_type": "code",
      "source": [
        "data.reverse()#inplace"
      ],
      "metadata": {
        "id": "mDzVAq3iIXq4"
      },
      "execution_count": null,
      "outputs": []
    },
    {
      "cell_type": "code",
      "source": [
        "print(data)"
      ],
      "metadata": {
        "colab": {
          "base_uri": "https://localhost:8080/"
        },
        "id": "2SITlfpAIbU7",
        "outputId": "64c97f31-f0dd-4103-ab05-500948c48ca9"
      },
      "execution_count": null,
      "outputs": [
        {
          "output_type": "stream",
          "name": "stdout",
          "text": [
            "[55, 11, 44, 11, 33, 22, 11]\n"
          ]
        }
      ]
    },
    {
      "cell_type": "code",
      "source": [
        "data"
      ],
      "metadata": {
        "colab": {
          "base_uri": "https://localhost:8080/"
        },
        "id": "dBtm-r0ZInqa",
        "outputId": "3945a65c-e73e-4125-e509-7c44a4e9f24c"
      },
      "execution_count": null,
      "outputs": [
        {
          "output_type": "execute_result",
          "data": {
            "text/plain": [
              "[55, 11, 44, 11, 33, 22, 11]"
            ]
          },
          "metadata": {},
          "execution_count": 95
        }
      ]
    },
    {
      "cell_type": "code",
      "source": [
        "data.sort(reverse=True)"
      ],
      "metadata": {
        "id": "HxV9YV7QIrnm"
      },
      "execution_count": null,
      "outputs": []
    },
    {
      "cell_type": "code",
      "source": [
        "data"
      ],
      "metadata": {
        "colab": {
          "base_uri": "https://localhost:8080/"
        },
        "id": "lLh7QsxNI51w",
        "outputId": "0d66da19-0e83-4196-86e8-d38fec61ac30"
      },
      "execution_count": null,
      "outputs": [
        {
          "output_type": "execute_result",
          "data": {
            "text/plain": [
              "[55, 44, 33, 22, 11, 11, 11]"
            ]
          },
          "metadata": {},
          "execution_count": 99
        }
      ]
    },
    {
      "cell_type": "code",
      "source": [
        "data"
      ],
      "metadata": {
        "colab": {
          "base_uri": "https://localhost:8080/"
        },
        "id": "kS1p1QGPIt-g",
        "outputId": "fa4cf4aa-71b1-47ae-ba28-85f52d41e576"
      },
      "execution_count": null,
      "outputs": [
        {
          "output_type": "execute_result",
          "data": {
            "text/plain": [
              "[11, 11, 11, 22, 33, 44, 55]"
            ]
          },
          "metadata": {},
          "execution_count": 97
        }
      ]
    },
    {
      "cell_type": "code",
      "source": [
        "data=[22,11,44,55,22,77,6]\n",
        "print(\"sorted:\",sorted(data))#temp\n",
        "print(data)\n"
      ],
      "metadata": {
        "colab": {
          "base_uri": "https://localhost:8080/"
        },
        "id": "yi4VLXFuJHiE",
        "outputId": "86e7e9d8-72bf-4ff3-e05c-13acff8afab8"
      },
      "execution_count": null,
      "outputs": [
        {
          "output_type": "stream",
          "name": "stdout",
          "text": [
            "sorted: [6, 11, 22, 22, 44, 55, 77]\n",
            "[22, 11, 44, 55, 22, 77, 6]\n"
          ]
        }
      ]
    },
    {
      "cell_type": "code",
      "source": [
        "sum(data)"
      ],
      "metadata": {
        "colab": {
          "base_uri": "https://localhost:8080/"
        },
        "id": "U2_D23ccKF8n",
        "outputId": "8be91f77-6d6e-41c9-bafe-c6c7228f6984"
      },
      "execution_count": null,
      "outputs": [
        {
          "output_type": "execute_result",
          "data": {
            "text/plain": [
              "237"
            ]
          },
          "metadata": {},
          "execution_count": 104
        }
      ]
    },
    {
      "cell_type": "code",
      "source": [
        "#Enter all elements in list till first blank\n",
        "#then print sum of all use sum()\n",
        "dlist=[]\n",
        "while True:\n",
        "    data=input(\"Enter data:\")\n",
        "    if data=='':\n",
        "        break\n",
        "    dlist.append(float(data))\n",
        "print(\"Sum of all\",len(dlist),\"elements is:\",sum(dlist))"
      ],
      "metadata": {
        "colab": {
          "base_uri": "https://localhost:8080/"
        },
        "id": "aKqV2CMsJ4ep",
        "outputId": "3201f706-3b96-4ce4-9f15-5ed1ff371c3e"
      },
      "execution_count": null,
      "outputs": [
        {
          "output_type": "stream",
          "name": "stdout",
          "text": [
            "Enter data:34\n",
            "Enter data:11\n",
            "Enter data:78\n",
            "Enter data:90\n",
            "Enter data:34\n",
            "Enter data:1\n",
            "Enter data:\n",
            "Sum of all 6 elements is: 248.0\n"
          ]
        }
      ]
    },
    {
      "cell_type": "code",
      "source": [
        "#Enter all elements in list till first blank\n",
        "#then print sum of all use sum()\n",
        "#print all elements lesser than avg of all\n",
        "dlist=[]\n",
        "while True:\n",
        "    data=input(\"Enter data:\")\n",
        "    if data=='':\n",
        "        break\n",
        "    dlist.append(float(data))\n",
        "avg=sum(dlist)/len(dlist)\n",
        "print(\"Average is:\",avg)\n",
        "for i in dlist:\n",
        "    if i<avg:\n",
        "        print(i)\n",
        "\n"
      ],
      "metadata": {
        "colab": {
          "base_uri": "https://localhost:8080/"
        },
        "id": "bzU5IoccMurL",
        "outputId": "acd8ae35-5898-4bde-d5f4-ea03c6df2df5"
      },
      "execution_count": null,
      "outputs": [
        {
          "output_type": "stream",
          "name": "stdout",
          "text": [
            "Enter data:11\n",
            "Enter data:66\n",
            "Enter data:100\n",
            "Enter data:22\n",
            "Enter data:88\n",
            "Enter data:33\n",
            "Enter data:93\n",
            "Enter data:17\n",
            "Enter data:\n",
            "Average is: 53.75\n",
            "11.0\n",
            "22.0\n",
            "33.0\n",
            "17.0\n"
          ]
        }
      ]
    },
    {
      "cell_type": "code",
      "source": [
        "#Enter all elements in list till first blank\n",
        "#then print sum of all use sum()\n",
        "#print all elements lesser than avg of all in sorted order\n",
        "dlist=[]\n",
        "while True:\n",
        "    data=input(\"Enter data:\")\n",
        "    if data=='':\n",
        "        break\n",
        "    dlist.append(float(data))\n",
        "avg=sum(dlist)/len(dlist)\n",
        "dlist.sort()\n",
        "print(\"Average is:\",avg)\n",
        "for i in dlist:\n",
        "    if i<avg:\n",
        "        print(i)\n"
      ],
      "metadata": {
        "colab": {
          "base_uri": "https://localhost:8080/"
        },
        "id": "Ly2kq9MOOxyw",
        "outputId": "c8590639-abb6-4e33-fb96-a3eae8f1247e"
      },
      "execution_count": null,
      "outputs": [
        {
          "output_type": "stream",
          "name": "stdout",
          "text": [
            "Enter data:33\n",
            "Enter data:11\n",
            "Enter data:77\n",
            "Enter data:34\n",
            "Enter data:89\n",
            "Enter data:67\n",
            "Enter data:\n",
            "Average is: 51.833333333333336\n",
            "11.0\n",
            "33.0\n",
            "34.0\n"
          ]
        }
      ]
    },
    {
      "cell_type": "code",
      "source": [
        "#Enter all elements in list till first blank\n",
        "#print second largest and second smallest\n",
        "dlist=[]\n",
        "while True:\n",
        "    data=input(\"Enter data:\")\n",
        "    if data=='':\n",
        "        break\n",
        "    dlist.append(float(data))\n",
        "dlist.sort()\n",
        "print(\"Second minimum:\",dlist[1],\"\\nSocond Largest:\",dlist[-2])"
      ],
      "metadata": {
        "colab": {
          "base_uri": "https://localhost:8080/"
        },
        "id": "xpkMpohqQTA8",
        "outputId": "7afb4e28-e9c5-48ef-e33f-3ecee4f74e40"
      },
      "execution_count": null,
      "outputs": [
        {
          "output_type": "stream",
          "name": "stdout",
          "text": [
            "Enter data:33\n",
            "Enter data:11\n",
            "Enter data:66\n",
            "Enter data:88\n",
            "Enter data:44\n",
            "Enter data:99\n",
            "Enter data:55\n",
            "Enter data:\n",
            "Second minimum: 33.0 \n",
            "Socond Largest: 88.0\n"
          ]
        }
      ]
    },
    {
      "cell_type": "code",
      "source": [
        "#[1,2,3,4,5]\n",
        "#rotate content for n time given by user\n",
        "'''\n",
        "1:[2,3,4,5,1]\n",
        "2:[3,4,5,1,2]\n",
        "3:[4,5,1,2,3]\n",
        "'''\n",
        "d=[1,2,3,4,5]\n",
        "n=int(input(\"Number of cycles:\"))\n",
        "while n>0:\n",
        "    t=d.pop(0)\n",
        "    d.append(t)\n",
        "    print(d)\n",
        "    n-=1"
      ],
      "metadata": {
        "colab": {
          "base_uri": "https://localhost:8080/"
        },
        "id": "R8-KTYOERmGf",
        "outputId": "625a40f0-f38c-4cf7-8160-aa9c23ee8d6e"
      },
      "execution_count": null,
      "outputs": [
        {
          "output_type": "stream",
          "name": "stdout",
          "text": [
            "Number of cycles:5\n",
            "[2, 3, 4, 5, 1]\n",
            "[3, 4, 5, 1, 2]\n",
            "[4, 5, 1, 2, 3]\n",
            "[5, 1, 2, 3, 4]\n",
            "[1, 2, 3, 4, 5]\n"
          ]
        }
      ]
    },
    {
      "cell_type": "code",
      "source": [
        "#[1,2,3,4,5]\n",
        "#rotate content for n time given by user\n",
        "'''\n",
        "1:[5,1,2,3,4]\n",
        "2:[4,5,1,2,3]\n",
        "\n",
        "'''\n",
        "d=[1,2,3,4,5]\n",
        "n=int(input(\"Number of cycles:\"))\n",
        "while n>0:\n",
        "    t=d.pop()\n",
        "    d.insert(0,t)\n",
        "    print(d)\n",
        "    n-=1"
      ],
      "metadata": {
        "colab": {
          "base_uri": "https://localhost:8080/"
        },
        "id": "gL8yiQQhTtAB",
        "outputId": "c78dc4e6-819d-477b-9852-baca1e1dd64d"
      },
      "execution_count": null,
      "outputs": [
        {
          "output_type": "stream",
          "name": "stdout",
          "text": [
            "Number of cycles:5\n",
            "[5, 1, 2, 3, 4]\n",
            "[4, 5, 1, 2, 3]\n",
            "[3, 4, 5, 1, 2]\n",
            "[2, 3, 4, 5, 1]\n",
            "[1, 2, 3, 4, 5]\n"
          ]
        }
      ]
    },
    {
      "cell_type": "code",
      "source": [
        "t=(10,20,30)\n",
        "print(t,type(t),id(t))\n",
        "t=(11,22,33)\n",
        "print(t,id(t))"
      ],
      "metadata": {
        "colab": {
          "base_uri": "https://localhost:8080/"
        },
        "id": "d_kLMywdqyJW",
        "outputId": "eca31879-7b14-4b00-95a4-40c2c132bd3c"
      },
      "execution_count": null,
      "outputs": [
        {
          "output_type": "stream",
          "name": "stdout",
          "text": [
            "(10, 20, 30) <class 'tuple'> 140657059278080\n",
            "(11, 22, 33) 140656714481792\n"
          ]
        }
      ]
    },
    {
      "cell_type": "code",
      "source": [],
      "metadata": {
        "colab": {
          "base_uri": "https://localhost:8080/"
        },
        "id": "TsF8swkvrLvu",
        "outputId": "fa711ca7-2cd9-4c21-c4db-85d0c6db832d"
      },
      "execution_count": null,
      "outputs": [
        {
          "output_type": "stream",
          "name": "stdout",
          "text": [
            "(11, 22, 33)\n"
          ]
        }
      ]
    },
    {
      "cell_type": "code",
      "source": [
        "t[0]=t[0]*100"
      ],
      "metadata": {
        "colab": {
          "base_uri": "https://localhost:8080/",
          "height": 166
        },
        "id": "o9vjqLeXq6MG",
        "outputId": "0d0ecf07-0ef4-42c6-f2cb-be9a96343ea6"
      },
      "execution_count": null,
      "outputs": [
        {
          "output_type": "error",
          "ename": "TypeError",
          "evalue": "ignored",
          "traceback": [
            "\u001b[0;31m---------------------------------------------------------------------------\u001b[0m",
            "\u001b[0;31mTypeError\u001b[0m                                 Traceback (most recent call last)",
            "\u001b[0;32m<ipython-input-6-e83bd1d9a7a8>\u001b[0m in \u001b[0;36m<cell line: 1>\u001b[0;34m()\u001b[0m\n\u001b[0;32m----> 1\u001b[0;31m \u001b[0mt\u001b[0m\u001b[0;34m[\u001b[0m\u001b[0;36m0\u001b[0m\u001b[0;34m]\u001b[0m\u001b[0;34m=\u001b[0m\u001b[0mt\u001b[0m\u001b[0;34m[\u001b[0m\u001b[0;36m0\u001b[0m\u001b[0;34m]\u001b[0m\u001b[0;34m*\u001b[0m\u001b[0;36m100\u001b[0m\u001b[0;34m\u001b[0m\u001b[0;34m\u001b[0m\u001b[0m\n\u001b[0m",
            "\u001b[0;31mTypeError\u001b[0m: 'tuple' object does not support item assignment"
          ]
        }
      ]
    },
    {
      "cell_type": "code",
      "source": [
        "for i in t:\n",
        "    print(i)"
      ],
      "metadata": {
        "colab": {
          "base_uri": "https://localhost:8080/"
        },
        "id": "c2qXT_WArCfn",
        "outputId": "38139770-5e7a-4399-d58a-440bdb492232"
      },
      "execution_count": null,
      "outputs": [
        {
          "output_type": "stream",
          "name": "stdout",
          "text": [
            "10\n",
            "20\n",
            "30\n"
          ]
        }
      ]
    },
    {
      "cell_type": "code",
      "source": [
        "t=(10,20,[11,22,33])"
      ],
      "metadata": {
        "id": "SfGbMIJKrJJi"
      },
      "execution_count": null,
      "outputs": []
    },
    {
      "cell_type": "code",
      "source": [
        "t[2].append(100)"
      ],
      "metadata": {
        "id": "e5vSXmF3uBhr"
      },
      "execution_count": null,
      "outputs": []
    },
    {
      "cell_type": "code",
      "source": [
        "print(t)"
      ],
      "metadata": {
        "colab": {
          "base_uri": "https://localhost:8080/"
        },
        "id": "YmGYb0NGuNct",
        "outputId": "2adf0beb-7a46-4965-8740-f8198a5aeb4b"
      },
      "execution_count": null,
      "outputs": [
        {
          "output_type": "stream",
          "name": "stdout",
          "text": [
            "(10, 20, [11, 22, 33, 100])\n"
          ]
        }
      ]
    },
    {
      "cell_type": "code",
      "source": [
        "t[2].append([1000,2000,3000])"
      ],
      "metadata": {
        "id": "1PZqrPp7uW9M"
      },
      "execution_count": null,
      "outputs": []
    },
    {
      "cell_type": "code",
      "source": [
        "print(t)"
      ],
      "metadata": {
        "colab": {
          "base_uri": "https://localhost:8080/"
        },
        "id": "4cmkni5Ducvf",
        "outputId": "3611c093-ad90-4bf0-ad7e-84e0ded7e8c6"
      },
      "execution_count": null,
      "outputs": [
        {
          "output_type": "stream",
          "name": "stdout",
          "text": [
            "(10, 20, [11, 22, 33, 100, [1000, 2000, 3000]])\n"
          ]
        }
      ]
    },
    {
      "cell_type": "code",
      "source": [
        "(t[2][-1])[-1]"
      ],
      "metadata": {
        "colab": {
          "base_uri": "https://localhost:8080/"
        },
        "id": "amL1bBkuumH_",
        "outputId": "02a46978-c3ce-4756-8abc-edc4534e54d0"
      },
      "execution_count": null,
      "outputs": [
        {
          "output_type": "execute_result",
          "data": {
            "text/plain": [
              "3000"
            ]
          },
          "metadata": {},
          "execution_count": 16
        }
      ]
    },
    {
      "cell_type": "code",
      "source": [
        "s={11,22,11,33,11,22,44,11,22}"
      ],
      "metadata": {
        "id": "6hrwBKTu143u"
      },
      "execution_count": null,
      "outputs": []
    },
    {
      "cell_type": "code",
      "source": [
        "print(s)"
      ],
      "metadata": {
        "colab": {
          "base_uri": "https://localhost:8080/"
        },
        "id": "xw4uRQ8w2EsT",
        "outputId": "e45adca7-7340-4816-eec3-7ec9497164b8"
      },
      "execution_count": null,
      "outputs": [
        {
          "output_type": "stream",
          "name": "stdout",
          "text": [
            "{33, 11, 44, 22}\n"
          ]
        }
      ]
    },
    {
      "cell_type": "code",
      "source": [
        "s"
      ],
      "metadata": {
        "colab": {
          "base_uri": "https://localhost:8080/"
        },
        "id": "3u9PayEo2M5w",
        "outputId": "0498d718-6e79-432e-fbf5-fc09f2dabd66"
      },
      "execution_count": null,
      "outputs": [
        {
          "output_type": "execute_result",
          "data": {
            "text/plain": [
              "{11, 22, 33, 44}"
            ]
          },
          "metadata": {},
          "execution_count": 19
        }
      ]
    },
    {
      "cell_type": "code",
      "source": [
        "s[1]"
      ],
      "metadata": {
        "colab": {
          "base_uri": "https://localhost:8080/",
          "height": 166
        },
        "id": "DKwZ-6FE2o1z",
        "outputId": "ffebb006-6d0a-4252-f61c-c2ba14e6f757"
      },
      "execution_count": null,
      "outputs": [
        {
          "output_type": "error",
          "ename": "TypeError",
          "evalue": "ignored",
          "traceback": [
            "\u001b[0;31m---------------------------------------------------------------------------\u001b[0m",
            "\u001b[0;31mTypeError\u001b[0m                                 Traceback (most recent call last)",
            "\u001b[0;32m<ipython-input-20-f8bb2b116405>\u001b[0m in \u001b[0;36m<cell line: 1>\u001b[0;34m()\u001b[0m\n\u001b[0;32m----> 1\u001b[0;31m \u001b[0ms\u001b[0m\u001b[0;34m[\u001b[0m\u001b[0;36m1\u001b[0m\u001b[0;34m]\u001b[0m\u001b[0;34m\u001b[0m\u001b[0;34m\u001b[0m\u001b[0m\n\u001b[0m",
            "\u001b[0;31mTypeError\u001b[0m: 'set' object is not subscriptable"
          ]
        }
      ]
    },
    {
      "cell_type": "code",
      "source": [
        "for i in s:\n",
        "    print(i)"
      ],
      "metadata": {
        "colab": {
          "base_uri": "https://localhost:8080/"
        },
        "id": "KCbsKVP92zwV",
        "outputId": "1abf7d16-12f7-4ea1-dc12-320f42138090"
      },
      "execution_count": null,
      "outputs": [
        {
          "output_type": "stream",
          "name": "stdout",
          "text": [
            "33\n",
            "11\n",
            "44\n",
            "22\n"
          ]
        }
      ]
    },
    {
      "cell_type": "code",
      "source": [
        "a={1,2,3,4}\n",
        "b={3,4,5,6}\n",
        "b-a"
      ],
      "metadata": {
        "colab": {
          "base_uri": "https://localhost:8080/"
        },
        "id": "p-dPgZDp4Jhq",
        "outputId": "10c9f0bd-24d1-476a-8c99-9863561d9023"
      },
      "execution_count": null,
      "outputs": [
        {
          "output_type": "execute_result",
          "data": {
            "text/plain": [
              "{5, 6}"
            ]
          },
          "metadata": {},
          "execution_count": 26
        }
      ]
    },
    {
      "cell_type": "code",
      "source": [
        "emp={1,2,3,4,5,6,7,8,9}\n",
        "drama={2,4,6,7}\n",
        "sing={1,3,6,8}\n",
        "sports={1,3,6,8}"
      ],
      "metadata": {
        "id": "DC_RHJL15I_m"
      },
      "execution_count": null,
      "outputs": []
    },
    {
      "cell_type": "code",
      "source": [
        "drama|sing|sports"
      ],
      "metadata": {
        "colab": {
          "base_uri": "https://localhost:8080/"
        },
        "id": "XJT_p-4x7DDj",
        "outputId": "e7321224-449e-47b9-84be-8e22a0cac8ca"
      },
      "execution_count": null,
      "outputs": [
        {
          "output_type": "execute_result",
          "data": {
            "text/plain": [
              "{1, 2, 3, 4, 6, 7, 8}"
            ]
          },
          "metadata": {},
          "execution_count": 30
        }
      ]
    },
    {
      "cell_type": "code",
      "source": [
        "drama&sing&sports"
      ],
      "metadata": {
        "colab": {
          "base_uri": "https://localhost:8080/"
        },
        "id": "0A-uxV1s6Wqe",
        "outputId": "f765b1a3-27bd-41b7-e01d-72f8db75abaf"
      },
      "execution_count": null,
      "outputs": [
        {
          "output_type": "execute_result",
          "data": {
            "text/plain": [
              "{6}"
            ]
          },
          "metadata": {},
          "execution_count": 28
        }
      ]
    },
    {
      "cell_type": "code",
      "source": [
        "emp-drama-sing-sports"
      ],
      "metadata": {
        "colab": {
          "base_uri": "https://localhost:8080/"
        },
        "id": "aFZXiQq26i91",
        "outputId": "0a24443c-3af8-417b-8d8a-6424e6407b9b"
      },
      "execution_count": null,
      "outputs": [
        {
          "output_type": "execute_result",
          "data": {
            "text/plain": [
              "{5, 9}"
            ]
          },
          "metadata": {},
          "execution_count": 29
        }
      ]
    },
    {
      "cell_type": "code",
      "source": [
        "s=set()"
      ],
      "metadata": {
        "id": "blJNAPOU8PB2"
      },
      "execution_count": null,
      "outputs": []
    },
    {
      "cell_type": "code",
      "source": [
        "s.add(int(input(\"Enter data:\")))"
      ],
      "metadata": {
        "colab": {
          "base_uri": "https://localhost:8080/"
        },
        "id": "QBfw1mtt8Sud",
        "outputId": "5df2838d-6233-48e7-ac90-656ab260e9d3"
      },
      "execution_count": null,
      "outputs": [
        {
          "name": "stdout",
          "output_type": "stream",
          "text": [
            "Enter data:6\n"
          ]
        }
      ]
    },
    {
      "cell_type": "code",
      "source": [
        "print(s,len(s))"
      ],
      "metadata": {
        "colab": {
          "base_uri": "https://localhost:8080/"
        },
        "id": "RYerawJT8YBr",
        "outputId": "e3718e24-7619-4791-92a5-50c9bab07d2e"
      },
      "execution_count": null,
      "outputs": [
        {
          "output_type": "stream",
          "name": "stdout",
          "text": [
            "{33, 66, 11, 6} 4\n"
          ]
        }
      ]
    },
    {
      "cell_type": "code",
      "source": [
        "s"
      ],
      "metadata": {
        "colab": {
          "base_uri": "https://localhost:8080/"
        },
        "id": "Be4uFV9x8j6J",
        "outputId": "49de3d89-9c80-4416-ded1-ac548ce92eea"
      },
      "execution_count": null,
      "outputs": [
        {
          "output_type": "execute_result",
          "data": {
            "text/plain": [
              "{6, 11, 33, 66}"
            ]
          },
          "metadata": {},
          "execution_count": 40
        }
      ]
    },
    {
      "cell_type": "code",
      "source": [
        "print(s)"
      ],
      "metadata": {
        "colab": {
          "base_uri": "https://localhost:8080/"
        },
        "id": "08VS3-Wy8k0m",
        "outputId": "2730a608-3d90-4143-9522-af5c61d6101c"
      },
      "execution_count": null,
      "outputs": [
        {
          "output_type": "stream",
          "name": "stdout",
          "text": [
            "{33, 66}\n"
          ]
        }
      ]
    },
    {
      "cell_type": "code",
      "source": [
        "s.remove(11)"
      ],
      "metadata": {
        "colab": {
          "base_uri": "https://localhost:8080/",
          "height": 166
        },
        "id": "3_nu2o5i8q7q",
        "outputId": "5052084c-8dc1-458f-d254-647e1457c1e2"
      },
      "execution_count": null,
      "outputs": [
        {
          "output_type": "error",
          "ename": "KeyError",
          "evalue": "ignored",
          "traceback": [
            "\u001b[0;31m---------------------------------------------------------------------------\u001b[0m",
            "\u001b[0;31mKeyError\u001b[0m                                  Traceback (most recent call last)",
            "\u001b[0;32m<ipython-input-44-05b54e818299>\u001b[0m in \u001b[0;36m<cell line: 1>\u001b[0;34m()\u001b[0m\n\u001b[0;32m----> 1\u001b[0;31m \u001b[0ms\u001b[0m\u001b[0;34m.\u001b[0m\u001b[0mremove\u001b[0m\u001b[0;34m(\u001b[0m\u001b[0;36m11\u001b[0m\u001b[0;34m)\u001b[0m\u001b[0;34m\u001b[0m\u001b[0;34m\u001b[0m\u001b[0m\n\u001b[0m",
            "\u001b[0;31mKeyError\u001b[0m: 11"
          ]
        }
      ]
    },
    {
      "cell_type": "code",
      "source": [
        "s.discard(6)"
      ],
      "metadata": {
        "id": "sJun3EFb8x1A"
      },
      "execution_count": null,
      "outputs": []
    },
    {
      "cell_type": "code",
      "source": [
        "s={11,22,33,11,44,33,66,55,77,88,11,22}"
      ],
      "metadata": {
        "id": "5cwWvQM29Hlq"
      },
      "execution_count": null,
      "outputs": []
    },
    {
      "cell_type": "code",
      "source": [
        "print(s)"
      ],
      "metadata": {
        "colab": {
          "base_uri": "https://localhost:8080/"
        },
        "id": "vpp2i0zo9MGD",
        "outputId": "58489ea1-155a-4ccc-9f4a-152483407692"
      },
      "execution_count": null,
      "outputs": [
        {
          "output_type": "stream",
          "name": "stdout",
          "text": [
            "{22, 55, 88}\n"
          ]
        }
      ]
    },
    {
      "cell_type": "code",
      "source": [
        "s.pop(1)"
      ],
      "metadata": {
        "colab": {
          "base_uri": "https://localhost:8080/",
          "height": 166
        },
        "id": "0I8R6KQG8-Ip",
        "outputId": "4f586e8b-979a-4980-cb6d-cde1f983d2f9"
      },
      "execution_count": null,
      "outputs": [
        {
          "output_type": "error",
          "ename": "TypeError",
          "evalue": "ignored",
          "traceback": [
            "\u001b[0;31m---------------------------------------------------------------------------\u001b[0m",
            "\u001b[0;31mTypeError\u001b[0m                                 Traceback (most recent call last)",
            "\u001b[0;32m<ipython-input-61-f06e91dfbaaa>\u001b[0m in \u001b[0;36m<cell line: 1>\u001b[0;34m()\u001b[0m\n\u001b[0;32m----> 1\u001b[0;31m \u001b[0ms\u001b[0m\u001b[0;34m.\u001b[0m\u001b[0mpop\u001b[0m\u001b[0;34m(\u001b[0m\u001b[0;36m1\u001b[0m\u001b[0;34m)\u001b[0m\u001b[0;34m\u001b[0m\u001b[0;34m\u001b[0m\u001b[0m\n\u001b[0m",
            "\u001b[0;31mTypeError\u001b[0m: set.pop() takes no arguments (1 given)"
          ]
        }
      ]
    },
    {
      "cell_type": "code",
      "source": [
        "#Enter all elements in list till first blank\n",
        "#print only unique data\n",
        "dlist=[]\n",
        "while True:\n",
        "    data=input(\"Enter data:\")\n",
        "    if data=='':\n",
        "        break\n",
        "    dlist.append(float(data))\n",
        "print(\"unique data\\n\")\n",
        "for i in sorted(set(dlist)):\n",
        "    print(i)"
      ],
      "metadata": {
        "colab": {
          "base_uri": "https://localhost:8080/"
        },
        "id": "R0-fjJqh9vdX",
        "outputId": "65e13ac8-1e04-43fe-a7b8-de690a70812a"
      },
      "execution_count": null,
      "outputs": [
        {
          "output_type": "stream",
          "name": "stdout",
          "text": [
            "Enter data:11\n",
            "Enter data:22\n",
            "Enter data:55\n",
            "Enter data:22\n",
            "Enter data:77\n",
            "Enter data:11\n",
            "Enter data:99\n",
            "Enter data:22\n",
            "Enter data:33\n",
            "Enter data:11\n",
            "Enter data:99\n",
            "Enter data:\n",
            "unique data\n",
            "\n",
            "11.0\n",
            "22.0\n",
            "33.0\n",
            "55.0\n",
            "77.0\n",
            "99.0\n"
          ]
        }
      ]
    },
    {
      "cell_type": "code",
      "source": [
        "#list all elements in sorted manner with their count.\n",
        "dlist=[]\n",
        "while True:\n",
        "    data=input(\"Enter data:\")\n",
        "    if data=='':\n",
        "        break\n",
        "    dlist.append(float(data))\n",
        "print(\"unique data\\n\")\n",
        "for i in sorted(set(dlist)):\n",
        "    print(i,\"frequency:\",dlist.count(i))"
      ],
      "metadata": {
        "colab": {
          "base_uri": "https://localhost:8080/"
        },
        "id": "0fVk-4WF-lE9",
        "outputId": "d0b6261c-9793-4d01-f02e-0bc2c6a2ed58"
      },
      "execution_count": null,
      "outputs": [
        {
          "output_type": "stream",
          "name": "stdout",
          "text": [
            "Enter data:11\n",
            "Enter data:22\n",
            "Enter data:33\n",
            "Enter data:11\n",
            "Enter data:8\n",
            "Enter data:3\n",
            "Enter data:9\n",
            "Enter data:11\n",
            "Enter data:6\n",
            "Enter data:3\n",
            "Enter data:9\n",
            "Enter data:11\n",
            "Enter data:8\n",
            "Enter data:11\n",
            "Enter data:11\n",
            "Enter data:\n",
            "unique data\n",
            "\n",
            "3.0 frequency: 2\n",
            "6.0 frequency: 1\n",
            "8.0 frequency: 2\n",
            "9.0 frequency: 2\n",
            "11.0 frequency: 6\n",
            "22.0 frequency: 1\n",
            "33.0 frequency: 1\n"
          ]
        }
      ]
    },
    {
      "cell_type": "code",
      "source": [
        "#list all elements in sorted manner with their count.\n",
        "dlist=[]\n",
        "while True:\n",
        "    data=input(\"Enter data:\")\n",
        "    if data=='':\n",
        "        break\n",
        "    dlist.append(float(data))\n",
        "print(\"unique data\\n\")\n",
        "maxelement=0\n",
        "max=0\n",
        "for i in sorted(set(dlist)):\n",
        "   if dlist.count(i)>max:\n",
        "       max=dlist.count(i)\n",
        "       maxelement=i\n",
        "print(\"Maximum Frequency of\",max,\"is:\",maxelement)"
      ],
      "metadata": {
        "colab": {
          "base_uri": "https://localhost:8080/"
        },
        "id": "8uev8R-fCilQ",
        "outputId": "f777e569-2cab-42ab-a44d-8a7b5ccdcf2c"
      },
      "execution_count": null,
      "outputs": [
        {
          "output_type": "stream",
          "name": "stdout",
          "text": [
            "Enter data:11\n",
            "Enter data:22\n",
            "Enter data:11\n",
            "Enter data:33\n",
            "Enter data:11\n",
            "Enter data:55\n",
            "Enter data:22\n",
            "Enter data:11\n",
            "Enter data:66\n",
            "Enter data:11\n",
            "Enter data:99\n",
            "Enter data:11\n",
            "Enter data:\n",
            "unique data\n",
            "\n",
            "Maximum Frequency of 6 is: 11.0\n"
          ]
        }
      ]
    },
    {
      "cell_type": "code",
      "source": [
        "d={1:\"One\",2:\"Two\",3:\"Three\",4:\"Four\"}"
      ],
      "metadata": {
        "id": "8mSKq_jbEhPg"
      },
      "execution_count": null,
      "outputs": []
    },
    {
      "cell_type": "code",
      "source": [
        "d[2]"
      ],
      "metadata": {
        "colab": {
          "base_uri": "https://localhost:8080/",
          "height": 35
        },
        "id": "CPx6tjq_EthK",
        "outputId": "da7e5e0c-3474-4c63-f217-cdc862ac6c8d"
      },
      "execution_count": null,
      "outputs": [
        {
          "output_type": "execute_result",
          "data": {
            "text/plain": [
              "'Two'"
            ],
            "application/vnd.google.colaboratory.intrinsic+json": {
              "type": "string"
            }
          },
          "metadata": {},
          "execution_count": 69
        }
      ]
    },
    {
      "cell_type": "code",
      "source": [
        "d[5]=\"five\""
      ],
      "metadata": {
        "id": "jiFCrl9cEx_V"
      },
      "execution_count": null,
      "outputs": []
    },
    {
      "cell_type": "code",
      "source": [
        "print(d)"
      ],
      "metadata": {
        "colab": {
          "base_uri": "https://localhost:8080/"
        },
        "id": "5g7yTSHjE1u2",
        "outputId": "b7edf0ed-4649-4016-f122-9018e436cd1e"
      },
      "execution_count": null,
      "outputs": [
        {
          "output_type": "stream",
          "name": "stdout",
          "text": [
            "{1: 'Ek Number', 2: 'Two', 3: 'Three', 4: 'Four', 5: 'five'}\n"
          ]
        }
      ]
    },
    {
      "cell_type": "code",
      "source": [
        "d[1]=\"Ek Number\""
      ],
      "metadata": {
        "id": "Mb6jZD-OE7gt"
      },
      "execution_count": null,
      "outputs": []
    },
    {
      "cell_type": "code",
      "source": [
        "#Print number in words digit by digit\n",
        "#Example: 123--->one two three\n",
        "dw={1:\"one\",2:\"two\",3:\"three\",4:\"four\",5:\"five\",6:\"six\",7:\"seven\",8:\"eight\",9:\"nine\",0:\"zero\"}\n",
        "no=int(input(\"Enter a number:\"))\n",
        "rno=0\n",
        "while no>0:\n",
        "    rno=rno*10+(no%10)\n",
        "    no=no//10\n",
        "while rno>0:\n",
        "    d=rno%10\n",
        "    rno=rno//10\n",
        "    print(dw[d],end=\" \")"
      ],
      "metadata": {
        "colab": {
          "base_uri": "https://localhost:8080/"
        },
        "id": "UROwRG4VFDPU",
        "outputId": "4279a1d2-a1c0-4e13-c831-5d44f5fbcb99"
      },
      "execution_count": null,
      "outputs": [
        {
          "output_type": "stream",
          "name": "stdout",
          "text": [
            "Enter a number:8194\n",
            "eight one nine four "
          ]
        }
      ]
    },
    {
      "cell_type": "code",
      "source": [
        "#take a number and print only unique digits only \n",
        "#in sorted mannerin words\n",
        "#input:361421288\n",
        "#output:one two three four six eight\n",
        "dw={1:\"one\",2:\"two\",3:\"three\",4:\"four\",5:\"five\",6:\"six\",7:\"seven\",8:\"eight\",9:\"nine\",0:\"zero\"}\n",
        "s=set()\n",
        "no=int(input(\"Enter a number:\"))\n",
        "while no>0:\n",
        "    d=no%10\n",
        "    no=no//10\n",
        "    s.add(d)\n",
        "for digit in sorted(s):\n",
        "    print(dw[digit],end=\" \")\n",
        "\n"
      ],
      "metadata": {
        "colab": {
          "base_uri": "https://localhost:8080/"
        },
        "id": "VDl30p-yH95L",
        "outputId": "69ee170d-0a77-441f-8585-3800fe4bb8c6"
      },
      "execution_count": null,
      "outputs": [
        {
          "output_type": "stream",
          "name": "stdout",
          "text": [
            "Enter a number:361421288\n",
            "one two three four six eight "
          ]
        }
      ]
    },
    {
      "cell_type": "code",
      "source": [
        "dw={1:\"one\",2:\"two\",3:\"three\",4:\"four\",5:\"five\",6:\"six\",7:\"seven\",8:\"eight\",9:\"nine\",0:\"zero\"}\n",
        "for i in dw:\n",
        "    print(i)"
      ],
      "metadata": {
        "colab": {
          "base_uri": "https://localhost:8080/"
        },
        "id": "G_YOIiDcMzSf",
        "outputId": "27a0574e-1617-4783-d205-434220249a46"
      },
      "execution_count": null,
      "outputs": [
        {
          "output_type": "stream",
          "name": "stdout",
          "text": [
            "1\n",
            "2\n",
            "3\n",
            "4\n",
            "5\n",
            "6\n",
            "7\n",
            "8\n",
            "9\n",
            "0\n"
          ]
        }
      ]
    },
    {
      "cell_type": "code",
      "source": [
        "print(dw.keys())"
      ],
      "metadata": {
        "colab": {
          "base_uri": "https://localhost:8080/"
        },
        "id": "TSoGk2vjM_Nx",
        "outputId": "a0986eb7-0f7a-4ff7-cf7e-1c568dffcd62"
      },
      "execution_count": null,
      "outputs": [
        {
          "output_type": "stream",
          "name": "stdout",
          "text": [
            "dict_keys([1, 2, 3, 4, 5, 6, 7, 8, 9, 0])\n"
          ]
        }
      ]
    },
    {
      "cell_type": "code",
      "source": [
        "print(dw.values())\n"
      ],
      "metadata": {
        "colab": {
          "base_uri": "https://localhost:8080/"
        },
        "id": "03Hk7aJwNCEi",
        "outputId": "4c1cc147-cf36-4d18-b6db-431fd255082a"
      },
      "execution_count": null,
      "outputs": [
        {
          "output_type": "stream",
          "name": "stdout",
          "text": [
            "dict_values(['one', 'two', 'three', 'four', 'five', 'six', 'seven', 'eight', 'nine', 'zero'])\n"
          ]
        }
      ]
    },
    {
      "cell_type": "code",
      "source": [
        "print(dw.items())"
      ],
      "metadata": {
        "colab": {
          "base_uri": "https://localhost:8080/"
        },
        "id": "C_bMoIwDNHaG",
        "outputId": "c31c5888-dec2-43bd-8db9-6408aeed64dc"
      },
      "execution_count": null,
      "outputs": [
        {
          "output_type": "stream",
          "name": "stdout",
          "text": [
            "dict_items([(1, 'one'), (2, 'two'), (3, 'three'), (4, 'four'), (5, 'five'), (6, 'six'), (7, 'seven'), (8, 'eight'), (9, 'nine'), (0, 'zero')])\n"
          ]
        }
      ]
    },
    {
      "cell_type": "code",
      "source": [
        "for k,i in dw.items():\n",
        "    print(\"Key:\",k,\":Item:\",i)"
      ],
      "metadata": {
        "colab": {
          "base_uri": "https://localhost:8080/"
        },
        "id": "-6JgZRa-N4TT",
        "outputId": "95400246-58a3-4461-b29c-5b51a0c93ba7"
      },
      "execution_count": null,
      "outputs": [
        {
          "output_type": "stream",
          "name": "stdout",
          "text": [
            "Key: 1 :Item: one\n",
            "Key: 2 :Item: two\n",
            "Key: 3 :Item: three\n",
            "Key: 4 :Item: four\n",
            "Key: 5 :Item: five\n",
            "Key: 6 :Item: six\n",
            "Key: 7 :Item: seven\n",
            "Key: 8 :Item: eight\n",
            "Key: 9 :Item: nine\n",
            "Key: 0 :Item: zero\n"
          ]
        }
      ]
    }
  ]
}