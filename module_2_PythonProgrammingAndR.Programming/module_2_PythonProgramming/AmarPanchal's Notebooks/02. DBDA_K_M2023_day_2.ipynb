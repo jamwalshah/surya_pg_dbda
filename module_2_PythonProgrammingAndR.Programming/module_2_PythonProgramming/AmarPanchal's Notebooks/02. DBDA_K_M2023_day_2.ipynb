{
  "nbformat": 4,
  "nbformat_minor": 0,
  "metadata": {
    "colab": {
      "provenance": []
    },
    "kernelspec": {
      "name": "python3",
      "display_name": "Python 3"
    },
    "language_info": {
      "name": "python"
    }
  },
  "cells": [
    {
      "cell_type": "code",
      "execution_count": null,
      "metadata": {
        "colab": {
          "base_uri": "https://localhost:8080/"
        },
        "id": "1A7NS-_HSHND",
        "outputId": "2e1d4d6c-53ea-4346-da50-13cde232da94"
      },
      "outputs": [
        {
          "output_type": "stream",
          "name": "stdout",
          "text": [
            "Enter r:5.6\n",
            "Area: 98.4704\n"
          ]
        }
      ],
      "source": [
        "r=float(input(\"Enter r:\"))\n",
        "area=3.14*r**2\n",
        "print(\"Area:\",area)"
      ]
    },
    {
      "cell_type": "code",
      "source": [
        "r=float(input(\"Enter r:\"))\n",
        "print(\"Area:\",3.14*r**2)"
      ],
      "metadata": {
        "colab": {
          "base_uri": "https://localhost:8080/"
        },
        "id": "JP_ECfRFSfX4",
        "outputId": "88310941-1f4c-4824-b0b8-d2905a08b46c"
      },
      "execution_count": null,
      "outputs": [
        {
          "output_type": "stream",
          "name": "stdout",
          "text": [
            "Enter r:5.6\n",
            "Area: 98.4704\n"
          ]
        }
      ]
    },
    {
      "cell_type": "code",
      "source": [
        "print(\"Area:\",3.14*float(input(\"Enter r:\"))**2)"
      ],
      "metadata": {
        "colab": {
          "base_uri": "https://localhost:8080/"
        },
        "id": "otc0CKpfSsUE",
        "outputId": "e7b3217a-c014-44ee-fad2-a1cb21eb98b0"
      },
      "execution_count": null,
      "outputs": [
        {
          "output_type": "stream",
          "name": "stdout",
          "text": [
            "Enter r:5.6\n",
            "Area: 98.4704\n"
          ]
        }
      ]
    },
    {
      "cell_type": "code",
      "source": [
        "print(\"Area of Rectangle:\",float(input(\"Enter l:\"))*float(input(\"Enter b:\")))"
      ],
      "metadata": {
        "colab": {
          "base_uri": "https://localhost:8080/"
        },
        "id": "u_3muybQT_Z6",
        "outputId": "3325c2a3-b556-46fd-c0fb-864e356e9186"
      },
      "execution_count": null,
      "outputs": [
        {
          "output_type": "stream",
          "name": "stdout",
          "text": [
            "Enter l:7.8\n",
            "Enter b:11\n",
            "Area of Rectangle: 85.8\n"
          ]
        }
      ]
    },
    {
      "cell_type": "code",
      "source": [
        "p=float(input(\"Enter Amount:\"))\n",
        "r=float(input(\"rate of interest:\"))\n",
        "t=float(input(\"Enter time in years0:\"))\n",
        "a=p*(1+r/100)**t\n",
        "print(\"Compound interest:\",a-p)"
      ],
      "metadata": {
        "colab": {
          "base_uri": "https://localhost:8080/"
        },
        "id": "hEdE2PuQVrqw",
        "outputId": "be48d36a-313c-4779-beab-32d76c8f8c50"
      },
      "execution_count": null,
      "outputs": [
        {
          "output_type": "stream",
          "name": "stdout",
          "text": [
            "Enter Amount:0\n",
            "rate of interest:0\n",
            "Enter time in years:9\n",
            "Compound interest: 0.0\n"
          ]
        }
      ]
    },
    {
      "cell_type": "code",
      "source": [
        "import math"
      ],
      "metadata": {
        "id": "sJVo1sLmWmWp"
      },
      "execution_count": null,
      "outputs": []
    },
    {
      "cell_type": "code",
      "source": [
        "math.inf"
      ],
      "metadata": {
        "colab": {
          "base_uri": "https://localhost:8080/"
        },
        "id": "_R9eDsZ1W9I8",
        "outputId": "15b05014-09f3-40f6-af0e-8f59cdc5e2d1"
      },
      "execution_count": null,
      "outputs": [
        {
          "output_type": "execute_result",
          "data": {
            "text/plain": [
              "inf"
            ]
          },
          "metadata": {},
          "execution_count": 10
        }
      ]
    },
    {
      "cell_type": "code",
      "source": [
        "math.sqrt(121)"
      ],
      "metadata": {
        "colab": {
          "base_uri": "https://localhost:8080/"
        },
        "id": "bh5GUeTlW8Fe",
        "outputId": "fdc8a876-23db-49b0-9221-cb8a37055501"
      },
      "execution_count": null,
      "outputs": [
        {
          "output_type": "execute_result",
          "data": {
            "text/plain": [
              "11.0"
            ]
          },
          "metadata": {},
          "execution_count": 11
        }
      ]
    },
    {
      "cell_type": "code",
      "source": [
        "121**0.5"
      ],
      "metadata": {
        "colab": {
          "base_uri": "https://localhost:8080/"
        },
        "id": "dAqwwMuPWsUl",
        "outputId": "45179947-6b0d-4002-ec97-790c6d475a72"
      },
      "execution_count": null,
      "outputs": [
        {
          "output_type": "execute_result",
          "data": {
            "text/plain": [
              "11.0"
            ]
          },
          "metadata": {},
          "execution_count": 12
        }
      ]
    },
    {
      "cell_type": "code",
      "source": [
        "x=10\n",
        "x<<2"
      ],
      "metadata": {
        "colab": {
          "base_uri": "https://localhost:8080/"
        },
        "id": "YUVeBPemaabu",
        "outputId": "05cef76a-9e31-4f6e-ba94-a99bf5bf24a0"
      },
      "execution_count": null,
      "outputs": [
        {
          "output_type": "execute_result",
          "data": {
            "text/plain": [
              "40"
            ]
          },
          "metadata": {},
          "execution_count": 13
        }
      ]
    },
    {
      "cell_type": "code",
      "source": [
        "x=10\n",
        "x>>2"
      ],
      "metadata": {
        "colab": {
          "base_uri": "https://localhost:8080/"
        },
        "id": "3f6AyDqYai-y",
        "outputId": "bd70b0e6-a5ae-44cb-cf42-9079311403e6"
      },
      "execution_count": null,
      "outputs": [
        {
          "output_type": "execute_result",
          "data": {
            "text/plain": [
              "2"
            ]
          },
          "metadata": {},
          "execution_count": 16
        }
      ]
    },
    {
      "cell_type": "code",
      "source": [
        "~(-1234)"
      ],
      "metadata": {
        "colab": {
          "base_uri": "https://localhost:8080/"
        },
        "id": "wkxDhZQLbTcA",
        "outputId": "c83bf6f5-2941-42e3-a7b2-00986a57d18c"
      },
      "execution_count": null,
      "outputs": [
        {
          "output_type": "execute_result",
          "data": {
            "text/plain": [
              "1233"
            ]
          },
          "metadata": {},
          "execution_count": 18
        }
      ]
    },
    {
      "cell_type": "code",
      "source": [
        "no=int(input(\"Enter a number:\"))\n",
        "if no>=0:\n",
        "    print(\"Entered if\")\n",
        "    print(\"Accept it\")\n",
        "    print(\"Exiting if\")\n",
        "print(\"done\")"
      ],
      "metadata": {
        "colab": {
          "base_uri": "https://localhost:8080/",
          "height": 131
        },
        "id": "B0DSGl0CcvDs",
        "outputId": "dea4f721-82f5-4730-b3e1-0a42a601036f"
      },
      "execution_count": null,
      "outputs": [
        {
          "output_type": "error",
          "ename": "IndentationError",
          "evalue": "ignored",
          "traceback": [
            "\u001b[0;36m  File \u001b[0;32m\"<ipython-input-24-7fc14bcb2ee3>\"\u001b[0;36m, line \u001b[0;32m6\u001b[0m\n\u001b[0;31m    print(\"done\")\u001b[0m\n\u001b[0m    ^\u001b[0m\n\u001b[0;31mIndentationError\u001b[0m\u001b[0;31m:\u001b[0m unexpected indent\n"
          ]
        }
      ]
    },
    {
      "cell_type": "code",
      "source": [
        "no=int(input(\"Enter a number:\"))\n",
        "if no>=0:\n",
        "    print(\"Accept it\")\n",
        "else:\n",
        "    print(\"Rejected it\")\n",
        "print(\"done\")"
      ],
      "metadata": {
        "colab": {
          "base_uri": "https://localhost:8080/"
        },
        "id": "Kzlu7FjUeAOD",
        "outputId": "a504ba4a-01b8-4b07-c52b-62f04d9db6e1"
      },
      "execution_count": null,
      "outputs": [
        {
          "output_type": "stream",
          "name": "stdout",
          "text": [
            "Enter a number:-99\n",
            "Rejected it\n",
            "done\n"
          ]
        }
      ]
    },
    {
      "cell_type": "code",
      "source": [
        "if:\n",
        "elif:\n",
        "elif:\n",
        "elif:\n",
        "else:"
      ],
      "metadata": {
        "colab": {
          "base_uri": "https://localhost:8080/",
          "height": 131
        },
        "id": "4Jii2RL6eZxa",
        "outputId": "5d5aed0d-50d3-4355-9d4c-51b5accfff56"
      },
      "execution_count": null,
      "outputs": [
        {
          "output_type": "error",
          "ename": "SyntaxError",
          "evalue": "ignored",
          "traceback": [
            "\u001b[0;36m  File \u001b[0;32m\"<ipython-input-28-774f1dd50554>\"\u001b[0;36m, line \u001b[0;32m1\u001b[0m\n\u001b[0;31m    if\u001b[0m\n\u001b[0m       ^\u001b[0m\n\u001b[0;31mSyntaxError\u001b[0m\u001b[0;31m:\u001b[0m invalid syntax\n"
          ]
        }
      ]
    },
    {
      "cell_type": "code",
      "source": [
        "#+ve or -ve\n",
        "no=int(input(\"Enter a number:\"))\n",
        "if no>=0:\n",
        "    print(no,\"is +ve\")\n",
        "else:\n",
        "    print(no,\"is -ve\")\n"
      ],
      "metadata": {
        "colab": {
          "base_uri": "https://localhost:8080/"
        },
        "id": "UGzW8jane6a1",
        "outputId": "a0b9da67-418b-4764-bc4c-798981b9c4a2"
      },
      "execution_count": null,
      "outputs": [
        {
          "output_type": "stream",
          "name": "stdout",
          "text": [
            "Enter a number:-0\n",
            "0 is +ve\n"
          ]
        }
      ]
    },
    {
      "cell_type": "code",
      "source": [
        "# +ve 0 or -ve\n",
        "no=int(input(\"Enter a number:\"))\n",
        "if no>0:\n",
        "    print(no,\"is +ve\")\n",
        "elif no<0:\n",
        "    print(no,\"is -ve\")\n",
        "else:\n",
        "    print(no,\"is zero\")\n",
        "    "
      ],
      "metadata": {
        "colab": {
          "base_uri": "https://localhost:8080/"
        },
        "id": "QmuS8MjnfPVt",
        "outputId": "03551365-8b2f-4952-a4f0-fe7b1a15f02e"
      },
      "execution_count": null,
      "outputs": [
        {
          "output_type": "stream",
          "name": "stdout",
          "text": [
            "Enter a number:0\n",
            "0 is zero\n"
          ]
        }
      ]
    },
    {
      "cell_type": "code",
      "source": [
        "#rear 2 numbers and print smaller also check for both equal\n",
        "no1=int(input(\"Enter a number:\"))\n",
        "no2=int(input(\"Enter another number:\"))\n",
        "if no1<no2:\n",
        "    print(no1,\"is minimum\")\n",
        "elif no2<no1:\n",
        "    print(no2,\"is minimum\")\n",
        "else:\n",
        "    print(no1,no2,\"are equal\")"
      ],
      "metadata": {
        "colab": {
          "base_uri": "https://localhost:8080/"
        },
        "id": "6bD42MnEc-jG",
        "outputId": "d03364ec-a9be-43ac-8f42-915471d38978"
      },
      "execution_count": null,
      "outputs": [
        {
          "output_type": "stream",
          "name": "stdout",
          "text": [
            "Enter a number:9\n",
            "Enter another number:9\n",
            "9 9 are equal\n"
          ]
        }
      ]
    },
    {
      "cell_type": "code",
      "source": [
        "#print passing class given percentage\n",
        "# p>60:first\n",
        "#  50<=p<60:Second\n",
        "# 40<=p<50:Third\n",
        "# p<40:fail\n",
        "p=float(input(\"Enter Percentages:\"))\n",
        "if p>=60:\n",
        "    print(\"First class\")\n",
        "elif p>=50:\n",
        "    print(\"Second class\")\n",
        "elif p>=40:\n",
        "    print(\"Third class\")\n",
        "else:\n",
        "    print(\"Fail\")"
      ],
      "metadata": {
        "colab": {
          "base_uri": "https://localhost:8080/"
        },
        "id": "T6qL3ZvNhG1v",
        "outputId": "6f85c052-d76c-40ea-dffe-8dbdb660afee"
      },
      "execution_count": null,
      "outputs": [
        {
          "output_type": "stream",
          "name": "stdout",
          "text": [
            "Enter Percentages:76.9\n",
            "First class\n"
          ]
        }
      ]
    },
    {
      "cell_type": "code",
      "source": [
        "i=0\n",
        "while i<=3:\n",
        "    print(i)\n",
        "    i+=1\n",
        "print(\"Finally i is:\",i)"
      ],
      "metadata": {
        "colab": {
          "base_uri": "https://localhost:8080/"
        },
        "id": "UkSfeAJWjabv",
        "outputId": "52d9ef17-4252-4d5e-ae20-57ad8ea8a785"
      },
      "execution_count": null,
      "outputs": [
        {
          "output_type": "stream",
          "name": "stdout",
          "text": [
            "0\n",
            "1\n",
            "2\n",
            "3\n",
            "Finally i is: 4\n"
          ]
        }
      ]
    },
    {
      "cell_type": "code",
      "source": [
        "# 10,20,30... 100\n",
        "# 10,9,8,    1\n",
        "# 1 to n where n enter by user n>0\n",
        "# print series start to end \n",
        "    start:3 end:5 3,4,5\n",
        "    start:2 end:-2 2,1,0,-1,-2"
      ],
      "metadata": {
        "id": "GRE4zbHymqkn"
      },
      "execution_count": null,
      "outputs": []
    },
    {
      "cell_type": "code",
      "source": [],
      "metadata": {
        "id": "9vsItbokpTUd"
      },
      "execution_count": null,
      "outputs": []
    },
    {
      "cell_type": "code",
      "source": [
        "# 10,20,30... 100\n",
        "i=10\n",
        "while i<=100:\n",
        "    print(i)\n",
        "    i+=10\n",
        "print(\"Finally i is:\",i)"
      ],
      "metadata": {
        "colab": {
          "base_uri": "https://localhost:8080/"
        },
        "id": "NjwCNhjpohRS",
        "outputId": "73b5dca9-3c0b-4c6a-8487-679b06218e47"
      },
      "execution_count": null,
      "outputs": [
        {
          "output_type": "stream",
          "name": "stdout",
          "text": [
            "10\n",
            "20\n",
            "30\n",
            "40\n",
            "50\n",
            "60\n",
            "70\n",
            "80\n",
            "90\n",
            "100\n",
            "Finally i is: 110\n"
          ]
        }
      ]
    },
    {
      "cell_type": "code",
      "source": [
        "#10,9,8    1\n",
        "i=10\n",
        "while i>=1:\n",
        "    print(i)\n",
        "    i-=1\n"
      ],
      "metadata": {
        "colab": {
          "base_uri": "https://localhost:8080/"
        },
        "id": "FumaU2mXozrR",
        "outputId": "4451bb34-5c65-4b24-85de-4e12343a0dde"
      },
      "execution_count": null,
      "outputs": [
        {
          "output_type": "stream",
          "name": "stdout",
          "text": [
            "10\n",
            "9\n",
            "8\n",
            "7\n",
            "6\n",
            "5\n",
            "4\n",
            "3\n",
            "2\n",
            "1\n"
          ]
        }
      ]
    },
    {
      "cell_type": "code",
      "source": [
        "# 1 to n\n",
        "n=int(input(\"Enter n:\"))\n",
        "i=1\n",
        "while i<=n:\n",
        "    print(i)\n",
        "    i+=1"
      ],
      "metadata": {
        "colab": {
          "base_uri": "https://localhost:8080/"
        },
        "id": "y8sJoCRWpEKV",
        "outputId": "06bddd3a-5fd0-4ae7-f8aa-3d333d18006d"
      },
      "execution_count": null,
      "outputs": [
        {
          "output_type": "stream",
          "name": "stdout",
          "text": [
            "Enter n:7\n",
            "1\n",
            "2\n",
            "3\n",
            "4\n",
            "5\n",
            "6\n",
            "7\n"
          ]
        }
      ]
    },
    {
      "cell_type": "code",
      "source": [
        "'''print series start to end \n",
        "    start:3 end:5 3,4,5\n",
        "    start:2 end:-2 2,1,0,-1,-2'''\n",
        "start,end=int(input(\"Enter start:\")),int(input(\"Enter End:\"))\n",
        "if start<end:#counter\n",
        "    i=start\n",
        "    while i<=end:\n",
        "        print(i,\",\",end='')\n",
        "        i+=1\n",
        "else:\n",
        "    i=start\n",
        "    while i>=end:\n",
        "        print(i,\",\",end='')\n",
        "        i-=1"
      ],
      "metadata": {
        "colab": {
          "base_uri": "https://localhost:8080/"
        },
        "id": "plAr8r_NpXHs",
        "outputId": "bead19df-03af-4f08-9d8e-c07cb0d8dc3f"
      },
      "execution_count": null,
      "outputs": [
        {
          "output_type": "stream",
          "name": "stdout",
          "text": [
            "Enter start:3\n",
            "Enter End:-4\n",
            "3 ,2 ,1 ,0 ,-1 ,-2 ,-3 ,-4 ,"
          ]
        }
      ]
    },
    {
      "cell_type": "code",
      "source": [
        "while True:\n",
        "    no=input(\"Enter a number:\")\n",
        "    if no=='':\n",
        "        break\n",
        "print(\"Tnaks for using code.\")\n"
      ],
      "metadata": {
        "colab": {
          "base_uri": "https://localhost:8080/"
        },
        "id": "9sd3YwMMrRQd",
        "outputId": "4a606ced-b153-4c89-c5de-b56f0009d1f9"
      },
      "execution_count": null,
      "outputs": [
        {
          "output_type": "stream",
          "name": "stdout",
          "text": [
            "Enter a number:11\n",
            "Enter a number:-22\n",
            "Enter a number:34\n",
            "Enter a number:77\n",
            "Enter a number:123456\n",
            "Enter a number:8765432\n",
            "Enter a number:0\n",
            "Enter a number:\n",
            "Tnaks for using code.\n"
          ]
        }
      ]
    },
    {
      "cell_type": "code",
      "source": [
        "while True:\n",
        "    no=int(input(\"Enter a number:\"))\n",
        "    if no==28:\n",
        "        break\n",
        "print(\"Thaks for using code.\")\n"
      ],
      "metadata": {
        "colab": {
          "base_uri": "https://localhost:8080/"
        },
        "id": "17LpJ2H5st6c",
        "outputId": "60f1f12d-5116-4166-b8d9-459110feacfd"
      },
      "execution_count": null,
      "outputs": [
        {
          "output_type": "stream",
          "name": "stdout",
          "text": [
            "Enter a number:22\n",
            "Enter a number:11\n",
            "Enter a number:0\n",
            "Enter a number:29\n",
            "Enter a number:28\n",
            "Thaks for using code.\n"
          ]
        }
      ]
    },
    {
      "cell_type": "code",
      "source": [
        "#1.tea 2.coffe 3. cold drink 0.exit ---Error\n",
        "while True:\n",
        "    #menu\n",
        "    print(\"\\n1.tea\\n2.coffe\\n3.cold drink\\n0.exit\\n:\") \n",
        "    #input\n",
        "    ch=int(input(\"\"))\n",
        "    #conditional if elif elif else(error)\n",
        "    if ch==1:\n",
        "        print(\"Have tea\")\n",
        "    elif ch==2:\n",
        "        print(\"Have coffe\")\n",
        "    elif ch==3:\n",
        "        print(\"Have cold drink\")\n",
        "    elif ch==0:\n",
        "        print(\"Thanks for using code:\")\n",
        "        break\n",
        "    else:\n",
        "        print(\"Wrong Choice\")"
      ],
      "metadata": {
        "colab": {
          "base_uri": "https://localhost:8080/"
        },
        "id": "jClsGXDbs9_I",
        "outputId": "711ba622-3137-4d8b-9b66-d00a8530ec9d"
      },
      "execution_count": null,
      "outputs": [
        {
          "name": "stdout",
          "output_type": "stream",
          "text": [
            "\n",
            "1.tea\n",
            "2.coffe\n",
            "3.cold drink\n",
            "0.exit\n",
            ":\n",
            "1\n",
            "Have tea\n",
            "\n",
            "1.tea\n",
            "2.coffe\n",
            "3.cold drink\n",
            "0.exit\n",
            ":\n",
            "2\n",
            "Have coffe\n",
            "\n",
            "1.tea\n",
            "2.coffe\n",
            "3.cold drink\n",
            "0.exit\n",
            ":\n",
            "3\n",
            "Have cold drink\n",
            "\n",
            "1.tea\n",
            "2.coffe\n",
            "3.cold drink\n",
            "0.exit\n",
            ":\n",
            "8\n",
            "Wrong Choice\n",
            "\n",
            "1.tea\n",
            "2.coffe\n",
            "3.cold drink\n",
            "0.exit\n",
            ":\n",
            "0\n"
          ]
        }
      ]
    },
    {
      "cell_type": "code",
      "source": [
        "#1.tea 2.coffe 3. cold drink 0.exit ---Error\n",
        "total=0\n",
        "ct=cc=cd=0\n",
        "while True:\n",
        "    #menu\n",
        "    print(\"\\n1.tea\\n2.coffe\\n3.cold drink\\n0.exit\\n:\") \n",
        "    #input\n",
        "    ch=int(input(\"\"))\n",
        "    #conditional if elif elif else(error)\n",
        "    if ch==1:\n",
        "        ct+=1\n",
        "        print(\"Have tea\")\n",
        "    elif ch==2:\n",
        "        cc+=1\n",
        "        print(\"Have coffe\")\n",
        "    elif ch==3:\n",
        "        cd+=1\n",
        "        print(\"Have cold drink\")\n",
        "    elif ch==0:\n",
        "        total=ct*10+cc*15+cd*30\n",
        "        print(\"Total business:\",total,\"\\nTea:\",ct,\" Coffee:\",cc,\" Cold Drink:\",cd)\n",
        "        break\n",
        "    else:\n",
        "        print(\"Wrong Choice\")"
      ],
      "metadata": {
        "colab": {
          "base_uri": "https://localhost:8080/"
        },
        "id": "0om0dbupxBjT",
        "outputId": "aa01c1e0-4047-4c65-cc88-c22bae5b6ad4"
      },
      "execution_count": null,
      "outputs": [
        {
          "output_type": "stream",
          "name": "stdout",
          "text": [
            "\n",
            "1.tea\n",
            "2.coffe\n",
            "3.cold drink\n",
            "0.exit\n",
            ":\n",
            "1\n",
            "Have tea\n",
            "\n",
            "1.tea\n",
            "2.coffe\n",
            "3.cold drink\n",
            "0.exit\n",
            ":\n",
            "1\n",
            "Have tea\n",
            "\n",
            "1.tea\n",
            "2.coffe\n",
            "3.cold drink\n",
            "0.exit\n",
            ":\n",
            "1\n",
            "Have tea\n",
            "\n",
            "1.tea\n",
            "2.coffe\n",
            "3.cold drink\n",
            "0.exit\n",
            ":\n",
            "2\n",
            "Have coffe\n",
            "\n",
            "1.tea\n",
            "2.coffe\n",
            "3.cold drink\n",
            "0.exit\n",
            ":\n",
            "2\n",
            "Have coffe\n",
            "\n",
            "1.tea\n",
            "2.coffe\n",
            "3.cold drink\n",
            "0.exit\n",
            ":\n",
            "3\n",
            "Have cold drink\n",
            "\n",
            "1.tea\n",
            "2.coffe\n",
            "3.cold drink\n",
            "0.exit\n",
            ":\n",
            "0\n",
            "Total business: 90 \n",
            "Tea: 3  Coffee: 2  Cold Drink: 1\n"
          ]
        }
      ]
    },
    {
      "cell_type": "code",
      "source": [
        "#1.tea 2.coffe 3. cold drink 0.exit ---Error\n",
        "total=0\n",
        "ct=cc=cd=0\n",
        "while True:\n",
        "    #menu\n",
        "    print(\"\\n1.tea\\n2.coffe\\n3.cold drink\\n0.exit\\n:\") \n",
        "    #input\n",
        "    ch=int(input(\"\"))\n",
        "    #conditional if elif elif else(error)\n",
        "    if ch==1:\n",
        "        ct+=1\n",
        "        total+=10\n",
        "        print(\"Have tea\")\n",
        "    elif ch==2:\n",
        "        cc+=1\n",
        "        total+=15\n",
        "        print(\"Have coffe\")\n",
        "    elif ch==3:\n",
        "        cd+=1\n",
        "        total+=30\n",
        "        print(\"Have cold drink\")\n",
        "    elif ch==0:\n",
        "        print(\"Total business:\",total,\"\\nTea:\",ct,\" Coffee:\",cc,\" Cold Drink:\",cd)\n",
        "        break\n",
        "    else:\n",
        "        print(\"Wrong Choice\")"
      ],
      "metadata": {
        "colab": {
          "base_uri": "https://localhost:8080/"
        },
        "id": "PaIQgrGmymws",
        "outputId": "73495624-4d8d-48ac-8a59-07824d977ce9"
      },
      "execution_count": null,
      "outputs": [
        {
          "output_type": "stream",
          "name": "stdout",
          "text": [
            "\n",
            "1.tea\n",
            "2.coffe\n",
            "3.cold drink\n",
            "0.exit\n",
            ":\n",
            "1\n",
            "Have tea\n",
            "\n",
            "1.tea\n",
            "2.coffe\n",
            "3.cold drink\n",
            "0.exit\n",
            ":\n",
            "1\n",
            "Have tea\n",
            "\n",
            "1.tea\n",
            "2.coffe\n",
            "3.cold drink\n",
            "0.exit\n",
            ":\n",
            "1\n",
            "Have tea\n",
            "\n",
            "1.tea\n",
            "2.coffe\n",
            "3.cold drink\n",
            "0.exit\n",
            ":\n",
            "2\n",
            "Have coffe\n",
            "\n",
            "1.tea\n",
            "2.coffe\n",
            "3.cold drink\n",
            "0.exit\n",
            ":\n",
            "2\n",
            "Have coffe\n",
            "\n",
            "1.tea\n",
            "2.coffe\n",
            "3.cold drink\n",
            "0.exit\n",
            ":\n",
            "3\n",
            "Have cold drink\n",
            "\n",
            "1.tea\n",
            "2.coffe\n",
            "3.cold drink\n",
            "0.exit\n",
            ":\n",
            "0\n",
            "Total business: 90 \n",
            "Tea: 3  Coffee: 2  Cold Drink: 1\n"
          ]
        }
      ]
    },
    {
      "cell_type": "code",
      "source": [
        "#Armstrong  153=1^3+5^3+3^3\n",
        "no=121\n",
        "tno=no\n",
        "sum=0\n",
        "while no>0:\n",
        "    d=no%10\n",
        "    no=no//10\n",
        "    sum=sum+d**3\n",
        "if sum==tno:\n",
        "    print(\"Yes it is\")\n",
        "else:\n",
        "    print(\"No it is not\")\n",
        "\n"
      ],
      "metadata": {
        "colab": {
          "base_uri": "https://localhost:8080/"
        },
        "id": "JKVMaRY41VCz",
        "outputId": "e55ceeff-7e08-4cfb-c4a0-b00fe4f540e8"
      },
      "execution_count": null,
      "outputs": [
        {
          "output_type": "stream",
          "name": "stdout",
          "text": [
            "No it is not\n"
          ]
        }
      ]
    },
    {
      "cell_type": "code",
      "source": [
        "no=12345\n",
        "while no>0:\n",
        "    d=no%10\n",
        "    no=no//10\n",
        "    print(no,d)\n"
      ],
      "metadata": {
        "colab": {
          "base_uri": "https://localhost:8080/"
        },
        "id": "Gx3ASE-mzk4c",
        "outputId": "2b6644e3-93dd-4fa3-e7fc-b4da04f673e6"
      },
      "execution_count": null,
      "outputs": [
        {
          "output_type": "stream",
          "name": "stdout",
          "text": [
            "1234 5\n",
            "123 4\n",
            "12 3\n",
            "1 2\n",
            "0 1\n"
          ]
        }
      ]
    },
    {
      "cell_type": "code",
      "source": [
        "no=121\n",
        "tno=no\n",
        "rno=0\n",
        "while no>0:\n",
        "    d=no%10\n",
        "    no=no//10\n",
        "    rno=rno*10+d\n",
        "    print(\"no:\",no,\"rno\",rno)\n",
        "if rno==tno:\n",
        "    print(\"Yes\")\n",
        "else:\n",
        "    print(\"No\")"
      ],
      "metadata": {
        "colab": {
          "base_uri": "https://localhost:8080/"
        },
        "id": "wKWgieHM0baO",
        "outputId": "ffb76f34-7bf8-443e-f66a-3ce5c512dee5"
      },
      "execution_count": null,
      "outputs": [
        {
          "output_type": "stream",
          "name": "stdout",
          "text": [
            "no: 12 rno 1\n",
            "no: 1 rno 12\n",
            "no: 0 rno 121\n",
            "Yes\n"
          ]
        }
      ]
    }
  ]
}