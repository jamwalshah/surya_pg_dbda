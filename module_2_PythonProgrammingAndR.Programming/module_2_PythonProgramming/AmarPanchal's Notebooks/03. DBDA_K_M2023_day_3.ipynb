{
  "nbformat": 4,
  "nbformat_minor": 0,
  "metadata": {
    "colab": {
      "provenance": []
    },
    "kernelspec": {
      "name": "python3",
      "display_name": "Python 3"
    },
    "language_info": {
      "name": "python"
    }
  },
  "cells": [
    {
      "cell_type": "code",
      "execution_count": null,
      "metadata": {
        "colab": {
          "base_uri": "https://localhost:8080/"
        },
        "id": "jqRV1fipawhw",
        "outputId": "a8dd797e-d48d-4395-fc2f-ce1ea2ece20b"
      },
      "outputs": [
        {
          "output_type": "stream",
          "name": "stdout",
          "text": [
            "1\n",
            "2\n",
            "3\n",
            "4\n"
          ]
        }
      ],
      "source": [
        "for i in range(1,5,1):\n",
        "    print(i)"
      ]
    },
    {
      "cell_type": "code",
      "source": [
        "for i in range(5,0,-1):\n",
        "    print(i)"
      ],
      "metadata": {
        "colab": {
          "base_uri": "https://localhost:8080/"
        },
        "id": "LOeFAdikcouY",
        "outputId": "7ebced57-0c46-41e3-ed66-3775fb3a2b6d"
      },
      "execution_count": null,
      "outputs": [
        {
          "output_type": "stream",
          "name": "stdout",
          "text": [
            "5\n",
            "4\n",
            "3\n",
            "2\n",
            "1\n"
          ]
        }
      ]
    },
    {
      "cell_type": "code",
      "source": [
        "for i in range(1,4,0.5):\n",
        "    print(i)"
      ],
      "metadata": {
        "colab": {
          "base_uri": "https://localhost:8080/",
          "height": 183
        },
        "id": "o1gyE68Qc2D4",
        "outputId": "57b6c5a5-04b1-47d1-b980-7343e2f5ed59"
      },
      "execution_count": null,
      "outputs": [
        {
          "output_type": "error",
          "ename": "TypeError",
          "evalue": "ignored",
          "traceback": [
            "\u001b[0;31m---------------------------------------------------------------------------\u001b[0m",
            "\u001b[0;31mTypeError\u001b[0m                                 Traceback (most recent call last)",
            "\u001b[0;32m<ipython-input-8-a97c802bbf22>\u001b[0m in \u001b[0;36m<cell line: 1>\u001b[0;34m()\u001b[0m\n\u001b[0;32m----> 1\u001b[0;31m \u001b[0;32mfor\u001b[0m \u001b[0mi\u001b[0m \u001b[0;32min\u001b[0m \u001b[0mrange\u001b[0m\u001b[0;34m(\u001b[0m\u001b[0;36m1\u001b[0m\u001b[0;34m,\u001b[0m\u001b[0;36m4\u001b[0m\u001b[0;34m,\u001b[0m\u001b[0;36m0.5\u001b[0m\u001b[0;34m)\u001b[0m\u001b[0;34m:\u001b[0m\u001b[0;34m\u001b[0m\u001b[0;34m\u001b[0m\u001b[0m\n\u001b[0m\u001b[1;32m      2\u001b[0m     \u001b[0mprint\u001b[0m\u001b[0;34m(\u001b[0m\u001b[0mi\u001b[0m\u001b[0;34m)\u001b[0m\u001b[0;34m\u001b[0m\u001b[0;34m\u001b[0m\u001b[0m\n",
            "\u001b[0;31mTypeError\u001b[0m: 'float' object cannot be interpreted as an integer"
          ]
        }
      ]
    },
    {
      "cell_type": "code",
      "source": [
        "i=1\n",
        "while i<=3:\n",
        "    print(i)\n",
        "    i+=0.5"
      ],
      "metadata": {
        "colab": {
          "base_uri": "https://localhost:8080/"
        },
        "id": "WbBaZ675eIZ2",
        "outputId": "dbf6390b-a768-43e2-e621-55a17d2e0691"
      },
      "execution_count": null,
      "outputs": [
        {
          "output_type": "stream",
          "name": "stdout",
          "text": [
            "1\n",
            "1.5\n",
            "2.0\n",
            "2.5\n",
            "3.0\n"
          ]
        }
      ]
    },
    {
      "cell_type": "code",
      "source": [
        "for i in range(1,4):\n",
        "    for j in range(1,4):\n",
        "        print(\"i:\",i,\" j:\",j)"
      ],
      "metadata": {
        "colab": {
          "base_uri": "https://localhost:8080/"
        },
        "id": "As7sMzubeqZ3",
        "outputId": "0a8d382f-9200-41e4-f59c-fa3005e424e4"
      },
      "execution_count": null,
      "outputs": [
        {
          "output_type": "stream",
          "name": "stdout",
          "text": [
            "i: 1  j: 1\n",
            "i: 1  j: 2\n",
            "i: 1  j: 3\n",
            "i: 2  j: 1\n",
            "i: 2  j: 2\n",
            "i: 2  j: 3\n",
            "i: 3  j: 1\n",
            "i: 3  j: 2\n",
            "i: 3  j: 3\n"
          ]
        }
      ]
    },
    {
      "cell_type": "code",
      "source": [
        "for i in range(1,6):\n",
        "    for j in range(1,i+1):\n",
        "        print(j%2,\" \",end='')\n",
        "    print()"
      ],
      "metadata": {
        "colab": {
          "base_uri": "https://localhost:8080/"
        },
        "id": "JTU9HsWZghtV",
        "outputId": "4a6e00d8-f75f-4b67-d052-970a3b2e0ffa"
      },
      "execution_count": null,
      "outputs": [
        {
          "output_type": "stream",
          "name": "stdout",
          "text": [
            "1  \n",
            "1  0  \n",
            "1  0  1  \n",
            "1  0  1  0  \n",
            "1  0  1  0  1  \n"
          ]
        }
      ]
    },
    {
      "cell_type": "code",
      "source": [
        "for i in range(5,0,-1):\n",
        "    for j in range(1,i+1):\n",
        "        print(j,\" \",end='')\n",
        "    print()"
      ],
      "metadata": {
        "colab": {
          "base_uri": "https://localhost:8080/"
        },
        "id": "frnLPCMLjfsV",
        "outputId": "7f3b8f69-20ad-43cb-a9d6-8838734cfd4e"
      },
      "execution_count": null,
      "outputs": [
        {
          "output_type": "stream",
          "name": "stdout",
          "text": [
            "1  2  3  4  5  \n",
            "1  2  3  4  \n",
            "1  2  3  \n",
            "1  2  \n",
            "1  \n"
          ]
        }
      ]
    },
    {
      "cell_type": "code",
      "source": [
        "for i in range(5,0,-1):\n",
        "    for j in range(1,i+1):\n",
        "        print(i,\" \",end='')\n",
        "    print()"
      ],
      "metadata": {
        "colab": {
          "base_uri": "https://localhost:8080/"
        },
        "id": "NTg4s9Z6jkXl",
        "outputId": "a96b6b68-1466-419a-c9b4-ac5da0a022b8"
      },
      "execution_count": null,
      "outputs": [
        {
          "output_type": "stream",
          "name": "stdout",
          "text": [
            "5  5  5  5  5  \n",
            "4  4  4  4  \n",
            "3  3  3  \n",
            "2  2  \n",
            "1  \n"
          ]
        }
      ]
    },
    {
      "cell_type": "code",
      "source": [
        "for i in range(1,6):\n",
        "    for j in range(1,i+1):\n",
        "        print(i%2,\" \",end='')\n",
        "    print()"
      ],
      "metadata": {
        "colab": {
          "base_uri": "https://localhost:8080/"
        },
        "id": "Mn9-xcjAhgvO",
        "outputId": "cf2db507-ef7f-4786-90d4-b0700624d3f7"
      },
      "execution_count": null,
      "outputs": [
        {
          "output_type": "stream",
          "name": "stdout",
          "text": [
            "1  \n",
            "0  0  \n",
            "1  1  1  \n",
            "0  0  0  0  \n",
            "1  1  1  1  1  \n"
          ]
        }
      ]
    },
    {
      "cell_type": "code",
      "source": [
        "for i in range(5,0,-1):\n",
        "    for j in range(5,i-1,-1):\n",
        "        print(j,\" \",end='')\n",
        "    print()"
      ],
      "metadata": {
        "colab": {
          "base_uri": "https://localhost:8080/"
        },
        "id": "2S7m7iXgieij",
        "outputId": "4a6cb448-f99a-4fbf-fb13-6214d513a9ff"
      },
      "execution_count": null,
      "outputs": [
        {
          "output_type": "stream",
          "name": "stdout",
          "text": [
            "5  \n",
            "5  4  \n",
            "5  4  3  \n",
            "5  4  3  2  \n",
            "5  4  3  2  1  \n"
          ]
        }
      ]
    },
    {
      "cell_type": "code",
      "source": [
        "'''\n",
        "1\n",
        "2 3\n",
        "4 5 6\n",
        "7 8 9 10\n",
        "'''\n",
        "k=1\n",
        "for i in range(1,6):\n",
        "    for j in range(1,i+1):\n",
        "        print(k,\" \",end='')\n",
        "        k+=1\n",
        "    print()"
      ],
      "metadata": {
        "colab": {
          "base_uri": "https://localhost:8080/"
        },
        "id": "OvB-rFuBk_Es",
        "outputId": "d207860a-3154-4425-924a-807ce31c9204"
      },
      "execution_count": null,
      "outputs": [
        {
          "output_type": "stream",
          "name": "stdout",
          "text": [
            "1  \n",
            "2  3  \n",
            "4  5  6  \n",
            "7  8  9  10  \n",
            "11  12  13  14  15  \n"
          ]
        }
      ]
    },
    {
      "cell_type": "code",
      "source": [
        "space=5\n",
        "i=1\n",
        "while i<=5:\n",
        "    s=1\n",
        "    while s<=space:#space printing\n",
        "        print(\" \",end=\" \")\n",
        "        s+=1\n",
        "    j=1\n",
        "    while j<=i:\n",
        "        print(j,\" \",end=\"\")\n",
        "        j+=1\n",
        "    i+=1\n",
        "    space-=1\n",
        "    print()\n",
        "\n",
        "\n",
        "\n",
        " "
      ],
      "metadata": {
        "colab": {
          "base_uri": "https://localhost:8080/"
        },
        "id": "K6TRbnB4mU0A",
        "outputId": "56c0af9d-7d89-480e-ce0a-091c7f252983"
      },
      "execution_count": null,
      "outputs": [
        {
          "output_type": "stream",
          "name": "stdout",
          "text": [
            "          1  \n",
            "        1  2  \n",
            "      1  2  3  \n",
            "    1  2  3  4  \n",
            "  1  2  3  4  5  \n"
          ]
        }
      ]
    },
    {
      "cell_type": "code",
      "source": [
        "#Armstrong  153=1^3+5^3+3^3\n",
        "for no in range(100,1000):\n",
        "    tno=no\n",
        "    sum=0\n",
        "    while tno>0:\n",
        "        d=tno%10\n",
        "        tno=tno//10\n",
        "        sum=sum+d**3\n",
        "    if sum==no:\n",
        "        print(no)\n",
        "   \n"
      ],
      "metadata": {
        "colab": {
          "base_uri": "https://localhost:8080/"
        },
        "id": "Y6BrWahHpGvY",
        "outputId": "6dceea69-6b47-462f-bf97-901a04b6f932"
      },
      "execution_count": null,
      "outputs": [
        {
          "output_type": "stream",
          "name": "stdout",
          "text": [
            "153\n",
            "370\n",
            "371\n",
            "407\n"
          ]
        }
      ]
    },
    {
      "cell_type": "code",
      "source": [
        "for y in range(int(input(\"Enter start:\")),int(input(\"Enter end:\"))+1):\n",
        "    if(y%4==0 and y%100!=0)or(y%400==0):\n",
        "        print(y,\"is a Leap\")\n",
        "   "
      ],
      "metadata": {
        "colab": {
          "base_uri": "https://localhost:8080/"
        },
        "id": "to6LEOZ4roOs",
        "outputId": "f911c746-2ef8-4a7b-dccd-6db38e3ceb79"
      },
      "execution_count": null,
      "outputs": [
        {
          "output_type": "stream",
          "name": "stdout",
          "text": [
            "Enter start:2000\n",
            "Enter end:2023\n",
            "2000 is a Leap\n",
            "2004 is a Leap\n",
            "2008 is a Leap\n",
            "2012 is a Leap\n",
            "2016 is a Leap\n",
            "2020 is a Leap\n"
          ]
        }
      ]
    },
    {
      "cell_type": "code",
      "source": [
        "#fibo 0 1 1 2 3 5 8....\n",
        "f0,f1=0,1\n",
        "for i in range(0,int(input(\"Enter n:\"))):\n",
        "    if i<=1:\n",
        "        print(i,\",\",end=\"\")\n",
        "    else:\n",
        "        fn=f0+f1\n",
        "        f0,f1=f1,fn\n",
        "        print(fn,\",\",end=\"\")"
      ],
      "metadata": {
        "colab": {
          "base_uri": "https://localhost:8080/"
        },
        "id": "yCG99WkFo7gr",
        "outputId": "e98f0ea0-24ad-40c9-ecd8-e86064f8cb9c"
      },
      "execution_count": null,
      "outputs": [
        {
          "output_type": "stream",
          "name": "stdout",
          "text": [
            "Enter n:10\n",
            "0 ,1 ,1 ,2 ,3 ,5 ,8 ,13 ,21 ,34 ,"
          ]
        }
      ]
    },
    {
      "cell_type": "code",
      "source": [
        "#fibo 0 1 1 2 3 5 8....\n",
        "no=int(input(\"Enter a number:\"))\n",
        "f0,f1=0,1\n",
        "for i in range(0,no+1):\n",
        "    if i<=1:\n",
        "        if no==0 or no==1:\n",
        "            print(no,\"in series\")\n",
        "    else:\n",
        "        fn=f0+f1\n",
        "        if no==fn:\n",
        "            print(no,\"Found in series\")\n",
        "            break\n",
        "        elif fn>no:\n",
        "            print(no,\"not found in series\")\n",
        "            break\n",
        "        f0,f1=f1,fn\n",
        "       "
      ],
      "metadata": {
        "colab": {
          "base_uri": "https://localhost:8080/"
        },
        "id": "7Jv0mDPoxZ_4",
        "outputId": "6344193e-efc2-4c67-b41e-280eb21258fd"
      },
      "execution_count": null,
      "outputs": [
        {
          "output_type": "stream",
          "name": "stdout",
          "text": [
            "Enter a number:5\n",
            "5 Found in series\n"
          ]
        }
      ]
    },
    {
      "cell_type": "code",
      "source": [
        "no1=int(input(\"Enter a number:\"))\n",
        "no2=int(input(\"Enter another number:\"))\n",
        "while no1%no2!=0:\n",
        "    no1,no2=no2,no1%no2\n",
        "print(no2,\":GCD\")"
      ],
      "metadata": {
        "colab": {
          "base_uri": "https://localhost:8080/"
        },
        "id": "Jie0yS2Jyxtq",
        "outputId": "e7011263-5ff8-4c01-9d5a-2769a3caa6c9"
      },
      "execution_count": null,
      "outputs": [
        {
          "output_type": "stream",
          "name": "stdout",
          "text": [
            "Enter a number:18\n",
            "Enter another number:12\n",
            "6 :GCD\n"
          ]
        }
      ]
    },
    {
      "cell_type": "code",
      "source": [
        "#print tableof a number entered by user\n",
        "no:2\n",
        "2 X 1= 2\n",
        "2 X 2= 4\n",
        ".\n",
        ".\n",
        ".\n",
        ".\n",
        "2X10=20"
      ],
      "metadata": {
        "id": "zHYIVkVsz3Am"
      },
      "execution_count": null,
      "outputs": []
    },
    {
      "cell_type": "code",
      "source": [
        "no=int(input(\"Enter a number:\"))\n",
        "for i in range(1,11):\n",
        "    print(no,\"X\",i,\"=\",no*i)"
      ],
      "metadata": {
        "colab": {
          "base_uri": "https://localhost:8080/"
        },
        "id": "MqRfVZtQ0Za3",
        "outputId": "f737ae51-59c2-489c-c7e0-934f5a10ba68"
      },
      "execution_count": null,
      "outputs": [
        {
          "output_type": "stream",
          "name": "stdout",
          "text": [
            "Enter a number:6\n",
            "6 X 1 = 6\n",
            "6 X 2 = 12\n",
            "6 X 3 = 18\n",
            "6 X 4 = 24\n",
            "6 X 5 = 30\n",
            "6 X 6 = 36\n",
            "6 X 7 = 42\n",
            "6 X 8 = 48\n",
            "6 X 9 = 54\n",
            "6 X 10 = 60\n"
          ]
        }
      ]
    },
    {
      "cell_type": "code",
      "source": [
        "#prime\n",
        "no=int(input(\"Enter a number:\"))\n",
        "flag=True\n",
        "for i in range(2,no):\n",
        "    if no%i==0:\n",
        "        flag=False\n",
        "        break\n",
        "if flag:#flag==True\n",
        "    print(no,\"is prime\")\n",
        "else:\n",
        "    print(no,\"is not prime\")\n",
        "\n"
      ],
      "metadata": {
        "colab": {
          "base_uri": "https://localhost:8080/"
        },
        "id": "_ABRdfYF1zY5",
        "outputId": "845b3b27-95fb-4404-b257-e5bc1d990b2a"
      },
      "execution_count": null,
      "outputs": [
        {
          "output_type": "stream",
          "name": "stdout",
          "text": [
            "Enter a number:12\n",
            "12 is not prime\n"
          ]
        }
      ]
    },
    {
      "cell_type": "code",
      "source": [
        "for no in range(1,101):\n",
        "    flag=True\n",
        "    for i in range(2,no):\n",
        "        if no%i==0:\n",
        "            flag=False\n",
        "            break\n",
        "    if flag:#flag==True\n",
        "        print(no,\"is prime\")\n",
        "    "
      ],
      "metadata": {
        "colab": {
          "base_uri": "https://localhost:8080/"
        },
        "id": "60P6kOXS4GL8",
        "outputId": "6670caf1-c285-4d71-fd77-9d38587b600f"
      },
      "execution_count": null,
      "outputs": [
        {
          "output_type": "stream",
          "name": "stdout",
          "text": [
            "1 is prime\n",
            "2 is prime\n",
            "3 is prime\n",
            "5 is prime\n",
            "7 is prime\n",
            "11 is prime\n",
            "13 is prime\n",
            "17 is prime\n",
            "19 is prime\n",
            "23 is prime\n",
            "29 is prime\n",
            "31 is prime\n",
            "37 is prime\n",
            "41 is prime\n",
            "43 is prime\n",
            "47 is prime\n",
            "53 is prime\n",
            "59 is prime\n",
            "61 is prime\n",
            "67 is prime\n",
            "71 is prime\n",
            "73 is prime\n",
            "79 is prime\n",
            "83 is prime\n",
            "89 is prime\n",
            "97 is prime\n"
          ]
        }
      ]
    },
    {
      "cell_type": "code",
      "source": [
        "'''\n",
        "1+9=10\n",
        "2+8=10\n",
        "\n",
        "\n",
        "\n",
        "\n",
        "9+1=10\n",
        "'''\n",
        "for i in range(1,10):\n",
        "    print(i,\"+\",(10-i),\"=\",(i+(10-i)))"
      ],
      "metadata": {
        "colab": {
          "base_uri": "https://localhost:8080/"
        },
        "id": "EpPUd7r34h7B",
        "outputId": "cf52a453-8a39-4366-e4e8-94e6f2b7626b"
      },
      "execution_count": null,
      "outputs": [
        {
          "output_type": "stream",
          "name": "stdout",
          "text": [
            "1 + 9 = 10\n",
            "2 + 8 = 10\n",
            "3 + 7 = 10\n",
            "4 + 6 = 10\n",
            "5 + 5 = 10\n",
            "6 + 4 = 10\n",
            "7 + 3 = 10\n",
            "8 + 2 = 10\n",
            "9 + 1 = 10\n"
          ]
        }
      ]
    },
    {
      "cell_type": "code",
      "source": [
        "#list all number from 1 to 50 perfectly div by 3 and 5\n",
        "for i in range(1,51):\n",
        "    if i%3==0 and i%5==0:\n",
        "        print(i)"
      ],
      "metadata": {
        "colab": {
          "base_uri": "https://localhost:8080/"
        },
        "id": "25lxs5_Z58ty",
        "outputId": "f13fc55a-c332-4a6d-c8bd-4d112e2e91ab"
      },
      "execution_count": null,
      "outputs": [
        {
          "output_type": "stream",
          "name": "stdout",
          "text": [
            "15\n",
            "30\n",
            "45\n"
          ]
        }
      ]
    },
    {
      "cell_type": "code",
      "source": [],
      "metadata": {
        "id": "tBXxI6CU9mE7"
      },
      "execution_count": null,
      "outputs": []
    }
  ]
}