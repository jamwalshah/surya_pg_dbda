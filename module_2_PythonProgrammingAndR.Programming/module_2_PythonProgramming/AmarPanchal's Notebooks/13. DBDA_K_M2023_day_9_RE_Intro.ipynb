{
  "nbformat": 4,
  "nbformat_minor": 0,
  "metadata": {
    "colab": {
      "provenance": []
    },
    "kernelspec": {
      "name": "python3",
      "display_name": "Python 3"
    },
    "language_info": {
      "name": "python"
    }
  },
  "cells": [
    {
      "cell_type": "code",
      "execution_count": null,
      "metadata": {
        "colab": {
          "base_uri": "https://localhost:8080/"
        },
        "id": "lRWky-yt5uqX",
        "outputId": "0b2de02c-c252-457c-ce41-d3e8fdc2b3f7"
      },
      "outputs": [
        {
          "output_type": "stream",
          "name": "stdout",
          "text": [
            "Match not found.\n"
          ]
        }
      ],
      "source": [
        "#re.search(pattern, string) - searches for the first occurrence of pattern in string and returns a match object. \n",
        "#If no match is found, it returns None.\n",
        "import re\n",
        "\n",
        "string = \"The quick brown fox jumps over the lazy dog.\"\n",
        "pattern = \"brown\"\n",
        "\n",
        "match = re.search(pattern, string)\n",
        "if match:#match==True\n",
        "    print(\"Match found:\", match.group())\n",
        "else:\n",
        "    print(\"Match not found.\")\n"
      ]
    },
    {
      "cell_type": "code",
      "source": [
        "#re.match(pattern, string) - similar to re.search(), \n",
        "#but it only searches for the pattern at the beginning of the string. \n",
        "#If no match is found, it returns None.\n",
        "import re\n",
        "\n",
        "string = \"The quick brown fox jumps over the lazy dog.\"\n",
        "pattern = \"The\"\n",
        "\n",
        "match = re.match(pattern, string)\n",
        "if match:\n",
        "    print(\"Match found:\", match.group())\n",
        "else:\n",
        "    print(\"Match not found.\")\n"
      ],
      "metadata": {
        "colab": {
          "base_uri": "https://localhost:8080/"
        },
        "id": "QVRqs00J6NHL",
        "outputId": "103f413c-9058-4a18-c3e5-fa7971bf264c"
      },
      "execution_count": null,
      "outputs": [
        {
          "output_type": "stream",
          "name": "stdout",
          "text": [
            "Match not found.\n"
          ]
        }
      ]
    },
    {
      "cell_type": "code",
      "source": [
        "#re.findall(pattern, string) - searches for all non-overlapping occurrences of pattern in string and returns a list of strings. \n",
        "#If no match is found, it returns an empty list.\n",
        "import re\n",
        "\n",
        "string = \"The quick brown fox jumps over the lazy dog.\"\n",
        "pattern = \"[aeiou]\"\n",
        "\n",
        "matches = re.findall(pattern, string)#returns list\n",
        "if matches:\n",
        "    print(\"Matches found:\", matches)\n",
        "else:\n",
        "    print(\"Matches not found.\")\n",
        "print(\"Total vowels are:\",len(matches))"
      ],
      "metadata": {
        "colab": {
          "base_uri": "https://localhost:8080/"
        },
        "id": "rfrkzC0e6o30",
        "outputId": "9cdb3328-34b0-4de0-cb35-59d47bc20f70"
      },
      "execution_count": null,
      "outputs": [
        {
          "output_type": "stream",
          "name": "stdout",
          "text": [
            "Matches found: ['e', 'u', 'i', 'o', 'o', 'u', 'o', 'e', 'e', 'a', 'o']\n",
            "Total vowels are: 11\n"
          ]
        }
      ]
    },
    {
      "cell_type": "code",
      "source": [
        "#re.sub(pattern, repl, string) - searches for all non-overlapping occurrences of pattern in string and replaces them with repl.\n",
        "#Returns the modified string.\n",
        "import re\n",
        "\n",
        "string = \"The quick brown fox jumps over the lazy dog.\"\n",
        "pattern = \"brown\"\n",
        "\n",
        "new_string = re.sub(pattern, \"red\", string)\n",
        "print(new_string)\n"
      ],
      "metadata": {
        "colab": {
          "base_uri": "https://localhost:8080/"
        },
        "id": "1NkHTh_U63vw",
        "outputId": "f5ae7bfb-7542-4c34-badd-4de3c56524a0"
      },
      "execution_count": null,
      "outputs": [
        {
          "output_type": "stream",
          "name": "stdout",
          "text": [
            "The quick red fox jumps over the lazy dog.\n"
          ]
        }
      ]
    },
    {
      "cell_type": "code",
      "source": [
        "#re.split(pattern, string) - splits string into a list of substrings using pattern as the delimiter. \n",
        "#Returns the list.\n",
        "import re\n",
        "\n",
        "string = \"The quick       brown fox        jumps over the lazy dog.\"\n",
        "pattern = \"\\s+\"\n",
        "\n",
        "split_string = re.split(pattern, string)\n",
        "print(split_string)\n"
      ],
      "metadata": {
        "colab": {
          "base_uri": "https://localhost:8080/"
        },
        "id": "03ff0DZP7J-G",
        "outputId": "6631ec31-8e02-4bbc-ef2b-bd62b6f4446e"
      },
      "execution_count": null,
      "outputs": [
        {
          "output_type": "stream",
          "name": "stdout",
          "text": [
            "['The', 'quick', 'brown', 'fox', 'jumps', 'over', 'the', 'lazy', 'dog.']\n"
          ]
        }
      ]
    },
    {
      "cell_type": "markdown",
      "source": [
        "Match any character: . (dot)\n",
        "Example: a.b matches \"a b\", \"a1b\", \"a!b\", etc.\n",
        "\n",
        "Match the start of a string: ^\n",
        "Example: ^hello matches \"hello world\", but not \"world hello\"\n",
        "\n",
        "Match the end of a string: $\n",
        "Example: world$ matches \"hello world\", but not \"world hello\"\n",
        "\n",
        "Match any single digit: \\d\n",
        "Example: \\d matches any digit from 0 to 9\n",
        "\n",
        "Match any non-digit character: \\D\n",
        "Example: \\D matches any character that is not a digit\n",
        "\n",
        "Match any whitespace character: \\s\n",
        "Example: \\s matches spaces, tabs, and newlines\n",
        "\n",
        "Match any non-whitespace character: \\S\n",
        "Example: \\S matches any character that is not whitespace\n",
        "\n",
        "Match any word character (letters, digits, or underscore): \\w\n",
        "Example: \\w+ matches one or more word characters (letters, digits, or underscore)\n",
        "\n",
        "Match any non-word character: \\W\n",
        "Example: \\W matches any character that is not a word character\n",
        "\n",
        "Match zero or one occurrence of the previous character: ?\n",
        "Example: colou?r matches \"color\" and \"colour\"\n",
        "\n",
        "Match zero or more occurrences of the previous character: *\n",
        "Example: ab*c matches \"ac\", \"abc\", \"abbc\", etc.\n",
        "\n",
        "Match one or more occurrences of the previous character: +\n",
        "Example: ab+c matches \"abc\", \"abbc\", \"abbbc\", etc.\n",
        "\n",
        "Match a specific number of occurrences of the previous character: {m}\n",
        "Example: a{3} matches \"aaa\"\n",
        "\n",
        "Match a range of occurrences of the previous character: {m,n}\n",
        "Example: a{2,4} matches \"aa\", \"aaa\", and \"aaaa\"\n",
        "\n",
        "Match any one of a set of characters: []\n",
        "Example: [abc] matches \"a\", \"b\", or \"c\"\n",
        "\n",
        "Match any character except those in a set: [^]\n",
        "Example: [^abc] matches any character except \"a\", \"b\", or \"c\"\n",
        "\n",
        "Match the same characters as a previously captured group: \\1, \\2, etc.\n",
        "Example: (\\w) is \\1 matches \"a is a\", \"b is b\", etc.\n",
        "\n",
        "These are just some of the most common regular expressions used in Python. There are many more advanced regular expressions available as well."
      ],
      "metadata": {
        "id": "iIackK8B73r3"
      }
    }
  ]
}