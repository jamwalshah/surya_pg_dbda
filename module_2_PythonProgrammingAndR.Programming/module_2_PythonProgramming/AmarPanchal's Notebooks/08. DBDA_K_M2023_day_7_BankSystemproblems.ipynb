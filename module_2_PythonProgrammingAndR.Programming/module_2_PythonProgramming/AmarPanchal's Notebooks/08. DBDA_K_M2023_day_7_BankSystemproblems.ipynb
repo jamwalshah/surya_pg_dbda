{
  "nbformat": 4,
  "nbformat_minor": 0,
  "metadata": {
    "colab": {
      "provenance": []
    },
    "kernelspec": {
      "name": "python3",
      "display_name": "Python 3"
    }
  },
  "cells": [
    {
      "cell_type": "code",
      "metadata": {
        "id": "QzPgdc4GkuWn"
      },
      "source": [
        "class Bank:\n",
        "  account_no=202300\n",
        "  def create_account(self):\n",
        "    Bank.account_no+=1\n",
        "    self.accno=Bank.account_no\n",
        "    print(\"Your account created: \",self.accno)\n",
        "    self.name=input(\"Enter name: \")\n",
        "    while True:\n",
        "      self.amount=float(input(\"Enter amount to start account: \"))\n",
        "      if self.amount<2000:\n",
        "        print('you need minimum 2000 to start a account \\n please enter amount greater than 2000')\n",
        "      else:\n",
        "        break   \n",
        "    print(\"Account number:\"+str(self.accno)+\" Name:\"+self.name+\" Amount:\"+str(self.amount))\n",
        "    #print(self)#self.deposit_ammount()\n",
        "  def __str__(self):\n",
        "    return \"Account number:\"+str(self.accno)+\" Name:\"+self.name+\" Amount:\"+str(self.amount)\n",
        "  \n",
        "  def deposit_ammount(self):\n",
        "    while True:\n",
        "      self.deposit=float(input(\"Enter amount to deposit: \"))\n",
        "      if self.deposit<=0:\n",
        "        print('please enter amount greater than 0')\n",
        "      else:\n",
        "        self.amount +=self.deposit\n",
        "        break \n",
        "  \n",
        "  def withdraw_ammount(self):\n",
        "    while True:\n",
        "      self.withdraw=float(input(\"Enter amount to withdraw: \"))\n",
        "      amnt = self.amount-self.withdraw\n",
        "      if self.withdraw<=0 or amnt<2000:\n",
        "        print('Transaction will lead to minimum account hence terminated')\n",
        "      else:\n",
        "        self.amount = amnt\n",
        "        break"
      ],
      "execution_count": null,
      "outputs": []
    },
    {
      "cell_type": "code",
      "metadata": {
        "id": "tsVsvz_yRfGf"
      },
      "source": [
        "b1=Bank()\n"
      ],
      "execution_count": null,
      "outputs": []
    },
    {
      "cell_type": "code",
      "metadata": {
        "colab": {
          "base_uri": "https://localhost:8080/"
        },
        "id": "xWO9ZZ_QRmkz",
        "outputId": "04521abf-0e61-4b5a-cb11-e7107271bd40"
      },
      "source": [
        "b1.create_account()"
      ],
      "execution_count": null,
      "outputs": [
        {
          "output_type": "stream",
          "name": "stdout",
          "text": [
            "Your account created:  202301\n",
            "Enter name: amar\n",
            "Enter amount to start account: 1000\n",
            "you need minimum 2000 to start a account \n",
            " please enter amount greater than 2000\n",
            "Enter amount to start account: 1500\n",
            "you need minimum 2000 to start a account \n",
            " please enter amount greater than 2000\n",
            "Enter amount to start account: 2000\n",
            "Account number:202301 Name:amar Amount:2000.0\n"
          ]
        }
      ]
    },
    {
      "cell_type": "code",
      "source": [
        "b1.withdraw_ammount()"
      ],
      "metadata": {
        "colab": {
          "base_uri": "https://localhost:8080/"
        },
        "id": "A3fmaK4LL0g2",
        "outputId": "e2428778-dd7b-4470-f181-518e1aeaae0f"
      },
      "execution_count": null,
      "outputs": [
        {
          "name": "stdout",
          "output_type": "stream",
          "text": [
            "Enter amount to withdraw: 2900\n"
          ]
        }
      ]
    },
    {
      "cell_type": "code",
      "source": [
        "print(b1)"
      ],
      "metadata": {
        "colab": {
          "base_uri": "https://localhost:8080/"
        },
        "id": "JHJxOax9MBbh",
        "outputId": "ca1e1d80-b647-4464-db99-f186519fd22a"
      },
      "execution_count": null,
      "outputs": [
        {
          "output_type": "stream",
          "name": "stdout",
          "text": [
            "Account number:202301 Name:amar Amount:11100.0\n"
          ]
        }
      ]
    },
    {
      "cell_type": "code",
      "source": [
        "b1.deposit_ammount()"
      ],
      "metadata": {
        "colab": {
          "base_uri": "https://localhost:8080/"
        },
        "id": "aVIbvNSIMEih",
        "outputId": "b3e353f2-f815-4a8d-8a1e-1011fd21c4e0"
      },
      "execution_count": null,
      "outputs": [
        {
          "name": "stdout",
          "output_type": "stream",
          "text": [
            "Enter amount to deposit: -9999\n",
            "please enter amount greater than 0\n",
            "Enter amount to deposit: 12000\n"
          ]
        }
      ]
    },
    {
      "cell_type": "code",
      "metadata": {
        "colab": {
          "base_uri": "https://localhost:8080/"
        },
        "id": "Z7BySEUGRuYz",
        "outputId": "6ca741fc-7f61-4dd1-bc12-4dc3a3d195dd"
      },
      "source": [
        "b2=Bank()\n",
        "b2.create_account()"
      ],
      "execution_count": null,
      "outputs": [
        {
          "output_type": "stream",
          "name": "stdout",
          "text": [
            "Your account created:  202202\n",
            "Enter name: RUTUJA\n",
            "Enter amount to start account: 2000\n",
            "Account number:202202 Name:RUTUJA Amount:2000.0\n"
          ]
        }
      ]
    },
    {
      "cell_type": "code",
      "metadata": {
        "colab": {
          "base_uri": "https://localhost:8080/"
        },
        "id": "FQ2NJ_3RR2ik",
        "outputId": "3aa39d55-f0ad-4581-c877-af61677e301e"
      },
      "source": [
        "b1.deposit_ammount()"
      ],
      "execution_count": null,
      "outputs": [
        {
          "name": "stdout",
          "output_type": "stream",
          "text": [
            "Enter amount to deposit: 3000\n"
          ]
        }
      ]
    },
    {
      "cell_type": "code",
      "source": [
        "print(b1)"
      ],
      "metadata": {
        "colab": {
          "base_uri": "https://localhost:8080/"
        },
        "id": "D-aDtoZlCbvD",
        "outputId": "434c9bcc-3f38-4b6b-c5d5-4aa6032d1d97"
      },
      "execution_count": null,
      "outputs": [
        {
          "output_type": "stream",
          "name": "stdout",
          "text": [
            "Account number:202201 Name:amar Amount:6000.0\n"
          ]
        }
      ]
    },
    {
      "cell_type": "code",
      "metadata": {
        "colab": {
          "base_uri": "https://localhost:8080/"
        },
        "id": "MAcYI5OA5810",
        "outputId": "b53fe29f-4639-4e01-d88c-b78a5073a14c"
      },
      "source": [
        "acclist=[]\n",
        "while True:\n",
        "  ch=int(input(\"\\n1.Create Account\\n2.Check Balance\\n3.Deposit Amount\\n4.Withdraw amount\\n0.Exit\\n:\"))\n",
        "  if ch==1:\n",
        "    b=Bank()\n",
        "    b.create_account()\n",
        "    acclist.append(b)\n",
        "  elif ch==2:\n",
        "    searchno=int(input(\"Enter account number:\"))\n",
        "    flag=False\n",
        "    for i in acclist:\n",
        "      if i.accno==searchno:\n",
        "        print(i)\n",
        "        flag=True  \n",
        "    if flag==False:\n",
        "       print(\"Acount doesnt exist\\ncreate  a account first\")\n",
        "\n",
        "  elif ch==3:\n",
        "    searchno=int(input(\"Enter account number:\"))\n",
        "    flag=False\n",
        "    for i in acclist:\n",
        "      if i.accno==searchno:\n",
        "        i.deposit_ammount()\n",
        "        print(i)\n",
        "        flag=True  \n",
        "    if flag==False:\n",
        "       print(\"Acount doesnt exist\\ncreate  a account first\")  \n",
        "  elif ch==4:\n",
        "    searchno=int(input(\"Enter account number:\"))\n",
        "    flag=False\n",
        "    for i in acclist:\n",
        "      if i.accno==searchno:\n",
        "        i.withdraw_ammount()\n",
        "        print(i)\n",
        "        flag=True  \n",
        "    if flag==False:\n",
        "       print(\"Acount doesnt exist\\ncreate  a account first\")\n",
        "    \n",
        "  elif ch==0:\n",
        "    print(\"Exiting.........\")\n",
        "    break  \n",
        "  else:\n",
        "    print(\"Error\")"
      ],
      "execution_count": null,
      "outputs": [
        {
          "output_type": "stream",
          "name": "stdout",
          "text": [
            "\n",
            "1.Create Account\n",
            "2.Check Balance\n",
            "3.Deposit Amount\n",
            "4.Withdraw amount\n",
            "0.Exit\n",
            ":1\n",
            "Your account created:  202302\n",
            "Enter name: hulk\n",
            "Enter amount to start account: 30000\n",
            "Account number:202302 Name:hulk Amount:30000.0\n",
            "\n",
            "1.Create Account\n",
            "2.Check Balance\n",
            "3.Deposit Amount\n",
            "4.Withdraw amount\n",
            "0.Exit\n",
            ":1\n",
            "Your account created:  202303\n",
            "Enter name: iorn man\n",
            "Enter amount to start account: 120000\n",
            "Account number:202303 Name:iorn man Amount:120000.0\n",
            "\n",
            "1.Create Account\n",
            "2.Check Balance\n",
            "3.Deposit Amount\n",
            "4.Withdraw amount\n",
            "0.Exit\n",
            ":2\n",
            "Enter account number:202302\n",
            "Account number:202302 Name:hulk Amount:30000.0\n",
            "\n",
            "1.Create Account\n",
            "2.Check Balance\n",
            "3.Deposit Amount\n",
            "4.Withdraw amount\n",
            "0.Exit\n",
            ":3\n",
            "Enter account number:202301\n",
            "Acount doesnt exist\n",
            "create  a account first\n",
            "\n",
            "1.Create Account\n",
            "2.Check Balance\n",
            "3.Deposit Amount\n",
            "4.Withdraw amount\n",
            "0.Exit\n",
            ":3\n",
            "Enter account number:202302\n",
            "Enter amount to deposit: 10000\n",
            "Account number:202302 Name:hulk Amount:40000.0\n",
            "\n",
            "1.Create Account\n",
            "2.Check Balance\n",
            "3.Deposit Amount\n",
            "4.Withdraw amount\n",
            "0.Exit\n",
            ":77\n",
            "Error\n",
            "\n",
            "1.Create Account\n",
            "2.Check Balance\n",
            "3.Deposit Amount\n",
            "4.Withdraw amount\n",
            "0.Exit\n",
            ":0\n",
            "Exiting.........\n"
          ]
        }
      ]
    }
  ]
}