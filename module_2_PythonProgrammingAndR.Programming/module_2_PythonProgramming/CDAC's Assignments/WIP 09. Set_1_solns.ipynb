{
  "nbformat": 4,
  "nbformat_minor": 0,
  "metadata": {
    "colab": {
      "provenance": []
    },
    "kernelspec": {
      "name": "python3",
      "display_name": "Python 3"
    },
    "language_info": {
      "name": "python"
    }
  },
  "cells": [
    {
      "cell_type": "markdown",
      "source": [
        "1. Python program to interchange first and last elements in a list\n",
        "Given a list, write a Python program to swap first and last element of the list."
      ],
      "metadata": {
        "id": "1oBu1qh3SGCv"
      }
    },
    {
      "cell_type": "code",
      "execution_count": null,
      "metadata": {
        "id": "BQiJ5D2tSB9c"
      },
      "outputs": [],
      "source": [
        "'''\n",
        "Examples: \n",
        "Input : [12, 35, 9, 56, 24]\n",
        "Output : [24, 35, 9, 56, 12]\n",
        "\n",
        "Input : [1, 2, 3]\n",
        "Output : [3, 2, 1]\n",
        "\n",
        "'''\n"
      ]
    },
    {
      "cell_type": "markdown",
      "source": [
        "2. WAP to find length of list\n"
      ],
      "metadata": {
        "id": "zVXW87JgSGfa"
      }
    },
    {
      "cell_type": "code",
      "source": [
        "'''\n",
        "The list is : [1, 4, 5, 7, 8]\n",
        "Length of list is : 5\n",
        "'''\n"
      ],
      "metadata": {
        "id": "IDjbSmJ_SGw1"
      },
      "execution_count": null,
      "outputs": []
    },
    {
      "cell_type": "markdown",
      "source": [
        "3. \n",
        "WAP to Check if element exists in list"
      ],
      "metadata": {
        "id": "-Yf749zISHD3"
      }
    },
    {
      "cell_type": "code",
      "source": [
        "'''\n",
        "Checking if 4 exists in list : \n",
        "Element Exists\n",
        "'''\n"
      ],
      "metadata": {
        "id": "9D1Fl9nKSHRH"
      },
      "execution_count": null,
      "outputs": []
    },
    {
      "cell_type": "markdown",
      "source": [
        "4. WAP to clear a list"
      ],
      "metadata": {
        "id": "ICRO58uRSHeZ"
      }
    },
    {
      "cell_type": "code",
      "source": [
        "'''\n",
        "before clear: [6, 0, 4, 1]\n",
        "after clear: []\n",
        "'''\n"
      ],
      "metadata": {
        "id": "Ln_tfY2qSHrq"
      },
      "execution_count": null,
      "outputs": []
    },
    {
      "cell_type": "markdown",
      "source": [
        "5. WAP to Reversing a List"
      ],
      "metadata": {
        "id": "jiAKasOySIPv"
      }
    },
    {
      "cell_type": "code",
      "source": [
        "'''\n",
        "Input : list = [10, 11, 12, 13, 14, 15]\n",
        "Output : [15, 14, 13, 12, 11, 10]\n",
        "\n",
        "\n",
        "Input : list = [4, 5, 6, 7, 8, 9]\n",
        "Output : [9, 8, 7, 6, 5, 4]\n",
        "'''\n"
      ],
      "metadata": {
        "id": "umm8BcOASInT"
      },
      "execution_count": null,
      "outputs": []
    },
    {
      "cell_type": "markdown",
      "source": [
        "6. Given a list of numbers, write a Python program to find the sum of all the elements in the list."
      ],
      "metadata": {
        "id": "4wDYuagISvwO"
      }
    },
    {
      "cell_type": "code",
      "source": [
        "'''\n",
        "Example: \n",
        " \n",
        "Input: [12, 15, 3, 10]\n",
        "Output: 40\n",
        "\n",
        "\n",
        "Input: [17, 5, 3, 5]\n",
        "Output: 30\n",
        "'''\n"
      ],
      "metadata": {
        "id": "KS9ak-bJSwBi"
      },
      "execution_count": null,
      "outputs": []
    },
    {
      "cell_type": "markdown",
      "source": [
        "7. Given a list of numbers, the task is to write a Python program to find the second largest number in the given list."
      ],
      "metadata": {
        "id": "Xv1j-y4tSwd_"
      }
    },
    {
      "cell_type": "code",
      "source": [
        "'''\n",
        "Examples: \n",
        "Input: list1 = [10, 20, 4]\n",
        "Output: 10\n",
        "Input: list2 = [70, 11, 20, 4, 100]\n",
        "Output: 70\n",
        "'''\n"
      ],
      "metadata": {
        "id": "gbmzaL1zSwtJ"
      },
      "execution_count": null,
      "outputs": []
    },
    {
      "cell_type": "markdown",
      "source": [
        "8. Given a list of integers, the task is to find N largest elements assuming size of list is greater than or equal o N."
      ],
      "metadata": {
        "id": "MpC9x96fSxD5"
      }
    },
    {
      "cell_type": "code",
      "source": [
        "'''\n",
        "Examples :\n",
        "Input : [4, 5, 1, 2, 9] \n",
        "N = 2\n",
        "Output :  [9, 5]\n",
        "\n",
        "\n",
        "Input : [81, 52, 45, 10, 3, 2, 96] \n",
        "N = 3\n",
        "Output : [81, 96, 52]\n",
        "'''\n"
      ],
      "metadata": {
        "id": "vw15a6kZSxUv"
      },
      "execution_count": null,
      "outputs": []
    },
    {
      "cell_type": "markdown",
      "source": [
        "9. Given a list of numbers, write a Python program to remove multiple elements from a list based on the given condition."
      ],
      "metadata": {
        "id": "colJNvcFSxwN"
      }
    },
    {
      "cell_type": "code",
      "source": [
        "'''\n",
        "Example: \n",
        "Input: [12, 15, 3, 10]\n",
        "Output: Remove = [12, 3], New_List = [15, 10]\n",
        "\n",
        "\n",
        "Input: [11, 5, 17, 18, 23, 50]\n",
        "Output: Remove = [1:5], New_list = [11, 50]\n",
        "'''\n"
      ],
      "metadata": {
        "id": "Z8P9-flWSyML"
      },
      "execution_count": null,
      "outputs": []
    },
    {
      "cell_type": "markdown",
      "source": [
        "10. Given a list of numbers, write a Python program to count elements from a list based on the given input."
      ],
      "metadata": {
        "id": "zs98OBfvTMbl"
      }
    },
    {
      "cell_type": "code",
      "source": [
        "'''\n",
        "Input : lst = [15, 6, 7, 10, 12, 20, 10, 28, 10]\n",
        "x = 10\n",
        "Output : 3 \n",
        "10 appears three times in given list.\n",
        "\n",
        "\n",
        "Input : lst = [8, 6, 8, 10, 8, 20, 10, 8, 8]\n",
        "x = 16\n",
        "Output : 0\n",
        "'''\n"
      ],
      "metadata": {
        "id": "KVzdG8mCTMrp"
      },
      "execution_count": null,
      "outputs": []
    },
    {
      "cell_type": "markdown",
      "source": [
        "11. Given a list of integers with duplicate elements in it. The task to generate another list, which contains only the duplicate elements. In simple words, the new list should contain the elements which appear more than one."
      ],
      "metadata": {
        "id": "O-HqHixyTM8O"
      }
    },
    {
      "cell_type": "code",
      "source": [
        "'''\n",
        "Examples : \n",
        "Input : list = [10, 20, 30, 20, 20, 30, 40, 50, -20, 60, 60, -20, -20]\n",
        "Output : output_list = [20, 30, -20, 60]\n",
        "\n",
        "Input :  list = [-1, 1, -1, 8]\n",
        "Output : output_list = [-1]\n",
        "'''\n"
      ],
      "metadata": {
        "id": "eYiiEFVXTNPV"
      },
      "execution_count": null,
      "outputs": []
    },
    {
      "cell_type": "markdown",
      "source": [
        "12. Python program to find Cumulative sum of a list\n",
        "The problem statement asks to produce a new list whose i^{th} element will be equal to the sum of the (i + 1) elements."
      ],
      "metadata": {
        "id": "yqbdF01hTNe0"
      }
    },
    {
      "cell_type": "code",
      "source": [
        "'''\n",
        "Examples :\n",
        "Input : list = [10, 20, 30, 40, 50]\n",
        "Output : [10, 30, 60, 100, 150]\n",
        "\n",
        "\n",
        "Input : list = [4, 10, 15, 18, 20]\n",
        "Output : [4, 14, 29, 47, 67]\n",
        "'''\n"
      ],
      "metadata": {
        "id": "rWveDQLYTN0G"
      },
      "execution_count": null,
      "outputs": []
    },
    {
      "cell_type": "markdown",
      "source": [
        "13. Break a list into chunks of size N in Python"
      ],
      "metadata": {
        "id": "9jSKHmoFT04a"
      }
    },
    {
      "cell_type": "code",
      "source": [
        "'''\n",
        "Input: [1, 2, 3, 4, 5,6, 7, 8, 9]\n",
        "Output: [[1, 2, 3, 4], [5, 6, 7, 8], [9]]\n",
        "'''\n"
      ],
      "metadata": {
        "id": "mc9mLIgET1IC"
      },
      "execution_count": null,
      "outputs": []
    },
    {
      "cell_type": "markdown",
      "source": [
        "14. Remove common elements from two list in Python"
      ],
      "metadata": {
        "id": "GZwZEH5pT1X0"
      }
    },
    {
      "cell_type": "code",
      "source": [],
      "metadata": {
        "id": "1llVFL6VT1mr"
      },
      "execution_count": null,
      "outputs": []
    }
  ]
}