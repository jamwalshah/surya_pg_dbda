{
  "nbformat": 4,
  "nbformat_minor": 0,
  "metadata": {
    "colab": {
      "provenance": []
    },
    "kernelspec": {
      "name": "python3",
      "display_name": "Python 3"
    },
    "language_info": {
      "name": "python"
    }
  },
  "cells": [
    {
      "cell_type": "markdown",
      "source": [
        "1. Scenario: You are working on a project for a clothing company that has multiple stores in different cities. The company wants to keep track of the inventory in each store and the sales made at each store. You decide to use tuples to store this information.\n",
        "\n",
        "    Question: How would you use tuples to store inventory and sales data for each store? Can you provide an example?"
      ],
      "metadata": {
        "id": "Dgzgx41Lp71M"
      }
    },
    {
      "cell_type": "code",
      "execution_count": null,
      "metadata": {
        "id": "Q3BkEDoap04S"
      },
      "outputs": [],
      "source": []
    },
    {
      "cell_type": "markdown",
      "source": [
        "2. Scenario: You're a teacher creating a grading system for a class of 30 students. You want to store the students' names, their grades on three exams, and their final letter grade in a data structure that can be easily sorted.\n",
        "\n",
        "    Question: How could you use tuples to store this information, and what advantages does using tuples provide in this situation? Can you provide an example?"
      ],
      "metadata": {
        "id": "rdAu5ZTNp8de"
      }
    },
    {
      "cell_type": "code",
      "source": [],
      "metadata": {
        "id": "SqQdwwS8p8wm"
      },
      "execution_count": null,
      "outputs": []
    },
    {
      "cell_type": "markdown",
      "source": [
        "3. Scenario: You are building a program for a hotel management system. You want to store information about the guests, their room assignments, and any special requests they have made.\n",
        "\n",
        "    Question: How could you use tuples to store this information, and what advantages does using tuples provide in this situation? Can you provide an example?"
      ],
      "metadata": {
        "id": "mqtkVMCUp89U"
      }
    },
    {
      "cell_type": "code",
      "source": [],
      "metadata": {
        "id": "0dqjiWMap9R0"
      },
      "execution_count": null,
      "outputs": []
    },
    {
      "cell_type": "markdown",
      "source": [
        "4. Scenario: You are building a program for a car rental agency. You want to keep track of the car models available, their rental rates, and the number of cars of each model currently available for rent.\n",
        "\n",
        "    Question: How could you use tuples to store this information, and what advantages does using tuples provide in this situation? Can you provide an example?"
      ],
      "metadata": {
        "id": "869bXB5ep9lN"
      }
    },
    {
      "cell_type": "code",
      "source": [],
      "metadata": {
        "id": "_bq72mtep92K"
      },
      "execution_count": null,
      "outputs": []
    },
    {
      "cell_type": "markdown",
      "source": [
        "5. Scenario: You are working on a program for a company that manages events. You want to store information about the events, including the event name, date and time, location, and number of attendees.\n",
        "\n",
        "    Question: How could you use tuples to store this information, and what advantages does using tuples provide in this situation? Can you provide an example?"
      ],
      "metadata": {
        "id": "ojs3ywkZp-F4"
      }
    },
    {
      "cell_type": "code",
      "source": [],
      "metadata": {
        "id": "_juvFGipp-YV"
      },
      "execution_count": null,
      "outputs": []
    },
    {
      "cell_type": "markdown",
      "source": [
        "6. Question: Write a Python function that takes in a list of tuples, where each tuple contains a student's name and their grade on an exam. The function should return a new list of tuples, where each tuple contains the student's name and their letter grade (A, B, C, D, or F) based on the following scale:\n",
        "- A: 90-100\n",
        "- B: 80-89\n",
        "- C: 70-79\n",
        "- D: 60-69\n",
        "- F: below 60"
      ],
      "metadata": {
        "id": "3yIBbjgap-mw"
      }
    },
    {
      "cell_type": "code",
      "source": [],
      "metadata": {
        "id": "iNK4Lwx5p_Gq"
      },
      "execution_count": null,
      "outputs": []
    },
    {
      "cell_type": "markdown",
      "source": [
        "7. Question: Write a Python function that takes in a list of tuples, where each tuple contains a word and its frequency in a text. The function should return the most frequent word in the list."
      ],
      "metadata": {
        "id": "MTnBf4Ezp_Vs"
      }
    },
    {
      "cell_type": "code",
      "source": [],
      "metadata": {
        "id": "96xDqki8p_kj"
      },
      "execution_count": null,
      "outputs": []
    },
    {
      "cell_type": "markdown",
      "source": [
        "8. You are building a program for a small store that sells fruits and vegetables. You want to keep track of the inventory for each type of produce, including the name of the item, the price per pound, and the number of pounds currently in stock.\n",
        "\n",
        "    Question: How could you use tuples to store this information, and what advantages does using tuples provide in this situation? Can you provide an example?\n"
      ],
      "metadata": {
        "id": "FTtB1NaYp_4M"
      }
    },
    {
      "cell_type": "code",
      "source": [],
      "metadata": {
        "id": "-3VTQYO5qAYF"
      },
      "execution_count": null,
      "outputs": []
    }
  ]
}