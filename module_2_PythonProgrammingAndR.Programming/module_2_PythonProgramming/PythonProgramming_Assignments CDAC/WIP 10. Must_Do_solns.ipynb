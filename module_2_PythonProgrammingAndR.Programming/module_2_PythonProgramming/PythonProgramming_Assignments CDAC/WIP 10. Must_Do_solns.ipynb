{
  "nbformat": 4,
  "nbformat_minor": 0,
  "metadata": {
    "colab": {
      "provenance": []
    },
    "kernelspec": {
      "name": "python3",
      "display_name": "Python 3"
    },
    "language_info": {
      "name": "python"
    }
  },
  "cells": [
    {
      "cell_type": "markdown",
      "source": [
        "# Python Coding Questions on Numbers"
      ],
      "metadata": {
        "id": "J9uEGe7BU1wh"
      }
    },
    {
      "cell_type": "markdown",
      "source": [
        "1. Write a program to reverse an integer in Python"
      ],
      "metadata": {
        "id": "foZlmsFYUdK8"
      }
    },
    {
      "cell_type": "code",
      "execution_count": null,
      "metadata": {
        "id": "Gc37NGfgUbXB"
      },
      "outputs": [],
      "source": []
    },
    {
      "cell_type": "markdown",
      "source": [
        "2. Write a program in Python to check whether an integer is an Armstrong number or not."
      ],
      "metadata": {
        "id": "lKiN4a8EUdeg"
      }
    },
    {
      "cell_type": "code",
      "source": [],
      "metadata": {
        "id": "-qzLGfN2Uf4P"
      },
      "execution_count": null,
      "outputs": []
    },
    {
      "cell_type": "markdown",
      "source": [
        "3.  Write a program in Python to check if a given number is prime or not."
      ],
      "metadata": {
        "id": "rRXiKRk8Udza"
      }
    },
    {
      "cell_type": "code",
      "source": [],
      "metadata": {
        "id": "pXUPP1dPUiWd"
      },
      "execution_count": null,
      "outputs": []
    },
    {
      "cell_type": "markdown",
      "source": [
        "4. Write a program in Python to print the Fibonacci series using an iterative method."
      ],
      "metadata": {
        "id": "mAi5mVDAUeBT"
      }
    },
    {
      "cell_type": "code",
      "source": [],
      "metadata": {
        "id": "ezf0BjhdUi6_"
      },
      "execution_count": null,
      "outputs": []
    },
    {
      "cell_type": "markdown",
      "source": [
        "5. Write a program in Python to print the fibonacci series using a recursive method."
      ],
      "metadata": {
        "id": "2wyXdHqtUeM6"
      }
    },
    {
      "cell_type": "code",
      "source": [],
      "metadata": {
        "id": "yi2DmmZVUjYd"
      },
      "execution_count": null,
      "outputs": []
    },
    {
      "cell_type": "markdown",
      "source": [
        "6. Write a program in Python to check whether a number is palindrome or not using an iterative method."
      ],
      "metadata": {
        "id": "uYq87pdnUee4"
      }
    },
    {
      "cell_type": "code",
      "source": [],
      "metadata": {
        "id": "6UoJkRitUjwh"
      },
      "execution_count": null,
      "outputs": []
    },
    {
      "cell_type": "markdown",
      "source": [
        "7. Write a program in Python to check whether a number is palindrome or not using a recursive method."
      ],
      "metadata": {
        "id": "TEKweL9NUeuP"
      }
    },
    {
      "cell_type": "code",
      "source": [],
      "metadata": {
        "id": "CO_AFgffUkWF"
      },
      "execution_count": null,
      "outputs": []
    },
    {
      "cell_type": "markdown",
      "source": [
        "8. Write a program in Python to find the greatest55 among three integers."
      ],
      "metadata": {
        "id": "YMzooNgcUe7_"
      }
    },
    {
      "cell_type": "code",
      "source": [],
      "metadata": {
        "id": "Dmq4zOI1Ukuj"
      },
      "execution_count": null,
      "outputs": []
    },
    {
      "cell_type": "markdown",
      "source": [
        "9. Write a program in Python to check if a number is binary?"
      ],
      "metadata": {
        "id": "-N8RuvAUUfMB"
      }
    },
    {
      "cell_type": "code",
      "source": [],
      "metadata": {
        "id": "RJJudLkaUllr"
      },
      "execution_count": null,
      "outputs": []
    },
    {
      "cell_type": "markdown",
      "source": [
        "10. Write a program in Python to find the sum of digits of a number using recursion?"
      ],
      "metadata": {
        "id": "hI9sBzDaUl9H"
      }
    },
    {
      "cell_type": "code",
      "source": [],
      "metadata": {
        "id": "vPo9Ov7AUrm_"
      },
      "execution_count": null,
      "outputs": []
    },
    {
      "cell_type": "markdown",
      "source": [
        "11. Write a program in Python to swap two numbers without using a third variable?"
      ],
      "metadata": {
        "id": "2EXAg3kdUmYb"
      }
    },
    {
      "cell_type": "code",
      "source": [],
      "metadata": {
        "id": "ERK2BRa9Ur70"
      },
      "execution_count": null,
      "outputs": []
    },
    {
      "cell_type": "markdown",
      "source": [
        "12. Write a program in Python to swap two numbers using a third variable?"
      ],
      "metadata": {
        "id": "6EsoYYwXUmpy"
      }
    },
    {
      "cell_type": "code",
      "source": [],
      "metadata": {
        "id": "CeADzyuqUsT7"
      },
      "execution_count": null,
      "outputs": []
    },
    {
      "cell_type": "markdown",
      "source": [
        "13. Write a program in Python to find prime factors of a given integer."
      ],
      "metadata": {
        "id": "G9zWHkn4Um6q"
      }
    },
    {
      "cell_type": "code",
      "source": [],
      "metadata": {
        "id": "LITQoz8MUstW"
      },
      "execution_count": null,
      "outputs": []
    },
    {
      "cell_type": "markdown",
      "source": [
        "14. Write a program in Python to add two integers without using arithmetic operators?"
      ],
      "metadata": {
        "id": "X_nkuAFIUnIi"
      }
    },
    {
      "cell_type": "code",
      "source": [],
      "metadata": {
        "id": "PF_tRm2vUtr6"
      },
      "execution_count": null,
      "outputs": []
    },
    {
      "cell_type": "markdown",
      "source": [
        "15. Write a program in Python to find if a given number is perfect or not?"
      ],
      "metadata": {
        "id": "g4bRXk-aUnag"
      }
    },
    {
      "cell_type": "code",
      "source": [],
      "metadata": {
        "id": "fgRYvX3LUuSN"
      },
      "execution_count": null,
      "outputs": []
    },
    {
      "cell_type": "markdown",
      "source": [
        "16. Python Program to find the Average of numbers with explanations."
      ],
      "metadata": {
        "id": "0OiB8OyvUnk5"
      }
    },
    {
      "cell_type": "code",
      "source": [],
      "metadata": {
        "id": "Y5243bFBUuwT"
      },
      "execution_count": null,
      "outputs": []
    },
    {
      "cell_type": "markdown",
      "source": [
        "17. Python Program to calculate factorial using iterative method."
      ],
      "metadata": {
        "id": "FHQ9oRxrUn3d"
      }
    },
    {
      "cell_type": "code",
      "source": [],
      "metadata": {
        "id": "by0smffrUvFl"
      },
      "execution_count": null,
      "outputs": []
    },
    {
      "cell_type": "markdown",
      "source": [
        "18. Python Program to calculate factorial using recursion."
      ],
      "metadata": {
        "id": "fJ8hbIP6UoHz"
      }
    },
    {
      "cell_type": "code",
      "source": [],
      "metadata": {
        "id": "TRQn3iPZUviX"
      },
      "execution_count": null,
      "outputs": []
    },
    {
      "cell_type": "markdown",
      "source": [
        "19. Python Program to check if a given number is even or odd."
      ],
      "metadata": {
        "id": "hVqLSe57UohH"
      }
    },
    {
      "cell_type": "code",
      "source": [],
      "metadata": {
        "id": "PxuTHcZsUwNt"
      },
      "execution_count": null,
      "outputs": []
    },
    {
      "cell_type": "markdown",
      "source": [
        "20. Python program to print first n Prime Number with explanation."
      ],
      "metadata": {
        "id": "43SS2utPUowy"
      }
    },
    {
      "cell_type": "code",
      "source": [],
      "metadata": {
        "id": "Ke2G1X9hUwr5"
      },
      "execution_count": null,
      "outputs": []
    },
    {
      "cell_type": "markdown",
      "source": [
        "21. Python Program to print Prime Number in a given range"
      ],
      "metadata": {
        "id": "TCIDETf_UpEM"
      }
    },
    {
      "cell_type": "code",
      "source": [],
      "metadata": {
        "id": "g-Iu3lwJUw-V"
      },
      "execution_count": null,
      "outputs": []
    },
    {
      "cell_type": "markdown",
      "source": [
        "22. Python Program to find Smallest number among three."
      ],
      "metadata": {
        "id": "w_alEUK8UpSL"
      }
    },
    {
      "cell_type": "code",
      "source": [],
      "metadata": {
        "id": "Znioh5ZYUxSs"
      },
      "execution_count": null,
      "outputs": []
    },
    {
      "cell_type": "markdown",
      "source": [
        "23. Python program to calculate the power using the POW method."
      ],
      "metadata": {
        "id": "r77fiHHKUpsP"
      }
    },
    {
      "cell_type": "code",
      "source": [],
      "metadata": {
        "id": "HI4zPlsUUx4A"
      },
      "execution_count": null,
      "outputs": []
    },
    {
      "cell_type": "markdown",
      "source": [
        "24. Python Program to calculate the power without using POW function.(using for loop)"
      ],
      "metadata": {
        "id": "-l9Kyi9KUp-T"
      }
    },
    {
      "cell_type": "code",
      "source": [],
      "metadata": {
        "id": "-cghUd5oUyqN"
      },
      "execution_count": null,
      "outputs": []
    },
    {
      "cell_type": "markdown",
      "source": [
        "25. Python Program to calculate the power without using POW function.(using while loop)."
      ],
      "metadata": {
        "id": "9B5dyuL7UqI8"
      }
    },
    {
      "cell_type": "code",
      "source": [],
      "metadata": {
        "id": "dY6pYTWtUzAV"
      },
      "execution_count": null,
      "outputs": []
    },
    {
      "cell_type": "markdown",
      "source": [
        "26. Python Program to calculate the square of a given number."
      ],
      "metadata": {
        "id": "QykDEsXOUqTW"
      }
    },
    {
      "cell_type": "code",
      "source": [],
      "metadata": {
        "id": "7H57eabSUzVr"
      },
      "execution_count": null,
      "outputs": []
    },
    {
      "cell_type": "markdown",
      "source": [
        "27. Python Program to calculate the cube of a given number"
      ],
      "metadata": {
        "id": "B_Hhctd8UqoT"
      }
    },
    {
      "cell_type": "code",
      "source": [],
      "metadata": {
        "id": "HS3j80bdU0Vp"
      },
      "execution_count": null,
      "outputs": []
    },
    {
      "cell_type": "markdown",
      "source": [
        "28. Python Program to calculate the square root of a given number."
      ],
      "metadata": {
        "id": "pJyDK9u8V6_6"
      }
    },
    {
      "cell_type": "code",
      "source": [],
      "metadata": {
        "id": "jhG-um49WT4h"
      },
      "execution_count": null,
      "outputs": []
    },
    {
      "cell_type": "markdown",
      "source": [
        "29. Python program to calculate LCM of given two numbers."
      ],
      "metadata": {
        "id": "QVX__fegV7Pi"
      }
    },
    {
      "cell_type": "code",
      "source": [],
      "metadata": {
        "id": "ZJsEz8uBWTqu"
      },
      "execution_count": null,
      "outputs": []
    },
    {
      "cell_type": "markdown",
      "source": [
        "30. Python Program to find GCD or HCF of two numbers."
      ],
      "metadata": {
        "id": "O2IG_-UBV7zK"
      }
    },
    {
      "cell_type": "code",
      "source": [],
      "metadata": {
        "id": "53ToW0PkWTdo"
      },
      "execution_count": null,
      "outputs": []
    },
    {
      "cell_type": "markdown",
      "source": [
        "31. Python Program to find GCD of two numbers using recursion."
      ],
      "metadata": {
        "id": "-tY223wAV8AJ"
      }
    },
    {
      "cell_type": "code",
      "source": [],
      "metadata": {
        "id": "r-TfBvK2WTPS"
      },
      "execution_count": null,
      "outputs": []
    },
    {
      "cell_type": "markdown",
      "source": [
        "32. Python Program to Convert Decimal Number into Binary."
      ],
      "metadata": {
        "id": "mqBevzfXV8Rv"
      }
    },
    {
      "cell_type": "code",
      "source": [],
      "metadata": {
        "id": "hWeFJLJ-WS8Q"
      },
      "execution_count": null,
      "outputs": []
    },
    {
      "cell_type": "markdown",
      "source": [
        "33. Python Program to convert Decimal number to Octal number."
      ],
      "metadata": {
        "id": "goDm1fn0V8dP"
      }
    },
    {
      "cell_type": "code",
      "source": [],
      "metadata": {
        "id": "urRM1iX-WSvS"
      },
      "execution_count": null,
      "outputs": []
    },
    {
      "cell_type": "markdown",
      "source": [
        "34. Python Program to check the given year is a leap year or not."
      ],
      "metadata": {
        "id": "r8n89hqxV8yP"
      }
    },
    {
      "cell_type": "code",
      "source": [],
      "metadata": {
        "id": "C_Cq-8a4WSNp"
      },
      "execution_count": null,
      "outputs": []
    },
    {
      "cell_type": "markdown",
      "source": [
        "35. Python Program to convert Celsius to Fahrenheit."
      ],
      "metadata": {
        "id": "Dtn6I2xMV9EN"
      }
    },
    {
      "cell_type": "code",
      "source": [],
      "metadata": {
        "id": "vcPDF0LZWR9C"
      },
      "execution_count": null,
      "outputs": []
    },
    {
      "cell_type": "markdown",
      "source": [
        "36. Python Program to convert Fahrenheit to Celsius."
      ],
      "metadata": {
        "id": "3UDtYD83V9OF"
      }
    },
    {
      "cell_type": "code",
      "source": [],
      "metadata": {
        "id": "X1y3n3ntWRtL"
      },
      "execution_count": null,
      "outputs": []
    },
    {
      "cell_type": "markdown",
      "source": [
        "37. Python program to calculate Simple Interest with explanation."
      ],
      "metadata": {
        "id": "0KXAA7F3V9c6"
      }
    },
    {
      "cell_type": "code",
      "source": [],
      "metadata": {
        "id": "bJfmxMCzWRab"
      },
      "execution_count": null,
      "outputs": []
    },
    {
      "cell_type": "markdown",
      "source": [
        "# Python Coding Questions on String"
      ],
      "metadata": {
        "id": "RiB6EUC1WoXm"
      }
    },
    {
      "cell_type": "markdown",
      "source": [
        "1. Python program to remove given character from String."
      ],
      "metadata": {
        "id": "pwl5CZMsV9mo"
      }
    },
    {
      "cell_type": "code",
      "source": [],
      "metadata": {
        "id": "4xMQV__1WROe"
      },
      "execution_count": null,
      "outputs": []
    },
    {
      "cell_type": "markdown",
      "source": [
        "2. Python Program to count occurrences of a given character in string."
      ],
      "metadata": {
        "id": "apumeNNlV99N"
      }
    },
    {
      "cell_type": "code",
      "source": [],
      "metadata": {
        "id": "8Am3tNfqWQ58"
      },
      "execution_count": null,
      "outputs": []
    },
    {
      "cell_type": "markdown",
      "source": [
        "3. Python Program to check if two Strings are Anagram."
      ],
      "metadata": {
        "id": "gRjpSR1ZV-NE"
      }
    },
    {
      "cell_type": "code",
      "source": [],
      "metadata": {
        "id": "JOXd6xmGWQtD"
      },
      "execution_count": null,
      "outputs": []
    },
    {
      "cell_type": "markdown",
      "source": [
        "4. Python program to check if a String is palindrome or not."
      ],
      "metadata": {
        "id": "pjpop0NFV-d0"
      }
    },
    {
      "cell_type": "code",
      "source": [],
      "metadata": {
        "id": "3S-C0VKFWQVY"
      },
      "execution_count": null,
      "outputs": []
    },
    {
      "cell_type": "markdown",
      "source": [
        "5. Python program to check if a given character is a vowel or consonant."
      ],
      "metadata": {
        "id": "eMwCRDkwV-vh"
      }
    },
    {
      "cell_type": "code",
      "source": [],
      "metadata": {
        "id": "_qHP7Z0hWPZW"
      },
      "execution_count": null,
      "outputs": []
    },
    {
      "cell_type": "markdown",
      "source": [
        "6. Python program to check if a given character is digit or not."
      ],
      "metadata": {
        "id": "5X5_kRqzV_HV"
      }
    },
    {
      "cell_type": "code",
      "source": [],
      "metadata": {
        "id": "PUBLOfykWPLp"
      },
      "execution_count": null,
      "outputs": []
    },
    {
      "cell_type": "markdown",
      "source": [
        "7. Python program to check if a given character is digit or not using isdigit() method."
      ],
      "metadata": {
        "id": "TLfz0NQ9V_V4"
      }
    },
    {
      "cell_type": "code",
      "source": [],
      "metadata": {
        "id": "UCp1TGlXWO9m"
      },
      "execution_count": null,
      "outputs": []
    },
    {
      "cell_type": "markdown",
      "source": [
        "8. Python program to replace the string space with a given character."
      ],
      "metadata": {
        "id": "bDXXpkrJV_kn"
      }
    },
    {
      "cell_type": "code",
      "source": [],
      "metadata": {
        "id": "7MUM8qYTWOjo"
      },
      "execution_count": null,
      "outputs": []
    },
    {
      "cell_type": "markdown",
      "source": [
        "9. Python program to replace the string space with a given character using replace() method."
      ],
      "metadata": {
        "id": "IVcHnoeRV_4P"
      }
    },
    {
      "cell_type": "code",
      "source": [],
      "metadata": {
        "id": "jdwEqZLnWOWN"
      },
      "execution_count": null,
      "outputs": []
    },
    {
      "cell_type": "markdown",
      "source": [
        "10. Python program to convert lowercase char to uppercase of string."
      ],
      "metadata": {
        "id": "aXjo0Z3YWACt"
      }
    },
    {
      "cell_type": "code",
      "source": [],
      "metadata": {
        "id": "OgpoyZ4LWOJQ"
      },
      "execution_count": null,
      "outputs": []
    },
    {
      "cell_type": "markdown",
      "source": [
        "11. Python program to convert lowercase vowels to uppercase in string."
      ],
      "metadata": {
        "id": "3Gy2L1ESWASW"
      }
    },
    {
      "cell_type": "code",
      "source": [],
      "metadata": {
        "id": "exRpeJ-4WNG-"
      },
      "execution_count": null,
      "outputs": []
    },
    {
      "cell_type": "markdown",
      "source": [
        "12. Python program to delete vowels in a given string."
      ],
      "metadata": {
        "id": "pm6F2eHkWAhX"
      }
    },
    {
      "cell_type": "code",
      "source": [],
      "metadata": {
        "id": "55OwAfPHWM2p"
      },
      "execution_count": null,
      "outputs": []
    },
    {
      "cell_type": "markdown",
      "source": [
        "13. Python program to count Occurrence Of Vowels & Consonants in a String."
      ],
      "metadata": {
        "id": "i4S5pti9WA4x"
      }
    },
    {
      "cell_type": "code",
      "source": [],
      "metadata": {
        "id": "9eakuVoNWMkj"
      },
      "execution_count": null,
      "outputs": []
    },
    {
      "cell_type": "markdown",
      "source": [
        "14. Python program to print the highest frequency character in a String."
      ],
      "metadata": {
        "id": "67RgR2csWBCz"
      }
    },
    {
      "cell_type": "code",
      "source": [],
      "metadata": {
        "id": "-I8zFeqlWMXT"
      },
      "execution_count": null,
      "outputs": []
    },
    {
      "cell_type": "markdown",
      "source": [
        "15. Python program to Replace First Occurrence Of Vowel With ‘-‘ in String."
      ],
      "metadata": {
        "id": "PGWU_JYfWBO3"
      }
    },
    {
      "cell_type": "code",
      "source": [],
      "metadata": {
        "id": "5OHK8LbaWMJW"
      },
      "execution_count": null,
      "outputs": []
    },
    {
      "cell_type": "markdown",
      "source": [
        "16. Python program to count alphabets, digits and special characters."
      ],
      "metadata": {
        "id": "OpnwemExWBY3"
      }
    },
    {
      "cell_type": "code",
      "source": [],
      "metadata": {
        "id": "VZnR25B_WL5k"
      },
      "execution_count": null,
      "outputs": []
    },
    {
      "cell_type": "markdown",
      "source": [
        "17. Python program to separate characters in a given string."
      ],
      "metadata": {
        "id": "Twh_-AGAWBnv"
      }
    },
    {
      "cell_type": "code",
      "source": [],
      "metadata": {
        "id": "hTi67rSDWLbU"
      },
      "execution_count": null,
      "outputs": []
    },
    {
      "cell_type": "markdown",
      "source": [
        "18. Python program to remove blank space from string."
      ],
      "metadata": {
        "id": "tY3O-Gq1WB0v"
      }
    },
    {
      "cell_type": "code",
      "source": [],
      "metadata": {
        "id": "eZWdwDkFWLN7"
      },
      "execution_count": null,
      "outputs": []
    },
    {
      "cell_type": "markdown",
      "source": [
        "19. Python program to concatenate two strings using join() method."
      ],
      "metadata": {
        "id": "HdMupileWCc8"
      }
    },
    {
      "cell_type": "code",
      "source": [],
      "metadata": {
        "id": "E0cLZpOHWKsL"
      },
      "execution_count": null,
      "outputs": []
    },
    {
      "cell_type": "markdown",
      "source": [
        "20. Python program to concatenate two strings using join() method."
      ],
      "metadata": {
        "id": "Nnc6bvftWCtp"
      }
    },
    {
      "cell_type": "code",
      "source": [],
      "metadata": {
        "id": "mAK505kfWKaJ"
      },
      "execution_count": null,
      "outputs": []
    },
    {
      "cell_type": "markdown",
      "source": [
        "21. Python program to remove repeated characters from string."
      ],
      "metadata": {
        "id": "7MCHGh0_WC4D"
      }
    },
    {
      "cell_type": "code",
      "source": [],
      "metadata": {
        "id": "oNRaM2vWWKKI"
      },
      "execution_count": null,
      "outputs": []
    },
    {
      "cell_type": "markdown",
      "source": [
        "22. Python program to calculate sum of integers in string."
      ],
      "metadata": {
        "id": "xjV9II9LWDC7"
      }
    },
    {
      "cell_type": "code",
      "source": [],
      "metadata": {
        "id": "r2zCz1dwWJlp"
      },
      "execution_count": null,
      "outputs": []
    },
    {
      "cell_type": "markdown",
      "source": [
        "23. Python program to print all non repeating characters in string."
      ],
      "metadata": {
        "id": "NyBvWnpaWDPu"
      }
    },
    {
      "cell_type": "code",
      "source": [],
      "metadata": {
        "id": "g7riBnNDWJBj"
      },
      "execution_count": null,
      "outputs": []
    },
    {
      "cell_type": "markdown",
      "source": [
        "24. Python program to copy one string to another string."
      ],
      "metadata": {
        "id": "LrLCKVLwWDcP"
      }
    },
    {
      "cell_type": "code",
      "source": [],
      "metadata": {
        "id": "8LQ7l_Q7WIvB"
      },
      "execution_count": null,
      "outputs": []
    },
    {
      "cell_type": "markdown",
      "source": [
        "25. Python Program to sort characters of string in ascending order."
      ],
      "metadata": {
        "id": "szNOdQV1WDwz"
      }
    },
    {
      "cell_type": "code",
      "source": [],
      "metadata": {
        "id": "exgrGaoRWH7I"
      },
      "execution_count": null,
      "outputs": []
    },
    {
      "cell_type": "markdown",
      "source": [
        "26. Python Program to sort character of string in descending order."
      ],
      "metadata": {
        "id": "V1W65NQFWD9f"
      }
    },
    {
      "cell_type": "code",
      "source": [],
      "metadata": {
        "id": "u0QoELi_WHjj"
      },
      "execution_count": null,
      "outputs": []
    },
    {
      "cell_type": "markdown",
      "source": [
        "# Python Coding Questions on Array"
      ],
      "metadata": {
        "id": "VGBVdtzPXW1b"
      }
    },
    {
      "cell_type": "markdown",
      "source": [
        "1. Write a program in Python for, In array 1-100 numbers are stored, one number is missing how do you find it."
      ],
      "metadata": {
        "id": "gp1vYR-YWEU3"
      }
    },
    {
      "cell_type": "code",
      "source": [],
      "metadata": {
        "id": "vK0VmFI0WHWn"
      },
      "execution_count": null,
      "outputs": []
    },
    {
      "cell_type": "markdown",
      "source": [
        "2. Write a program in Python for, In an array 1-100 multiple numbers are duplicates, how do you find it."
      ],
      "metadata": {
        "id": "Tjy-I78wWEqp"
      }
    },
    {
      "cell_type": "code",
      "source": [],
      "metadata": {
        "id": "Ru7T9xhXWHLp"
      },
      "execution_count": null,
      "outputs": []
    },
    {
      "cell_type": "markdown",
      "source": [
        "3. Write a program in Python for, How to find all pairs in an array of integers whose sum is equal to a given number."
      ],
      "metadata": {
        "id": "EkBa43msWE7d"
      }
    },
    {
      "cell_type": "code",
      "source": [],
      "metadata": {
        "id": "O-l3ZUXqWG6P"
      },
      "execution_count": null,
      "outputs": []
    },
    {
      "cell_type": "markdown",
      "source": [
        "4. Write a program in Python for, How to compare two arrays equal in size or not."
      ],
      "metadata": {
        "id": "egXypIcmWFG1"
      }
    },
    {
      "cell_type": "code",
      "source": [],
      "metadata": {
        "id": "56VjlYQQWGjh"
      },
      "execution_count": null,
      "outputs": []
    },
    {
      "cell_type": "markdown",
      "source": [
        "5. Write a program in Python to find the largest and smallest number in an array."
      ],
      "metadata": {
        "id": "ctQUKTPpWFRO"
      }
    },
    {
      "cell_type": "code",
      "source": [],
      "metadata": {
        "id": "47ajEDGQWGVd"
      },
      "execution_count": null,
      "outputs": []
    },
    {
      "cell_type": "markdown",
      "source": [
        "6. Write a program in Python to find the second highest number in an integer array."
      ],
      "metadata": {
        "id": "KjpKexHsWFhv"
      }
    },
    {
      "cell_type": "code",
      "source": [],
      "metadata": {
        "id": "j3TxlgLqWGHf"
      },
      "execution_count": null,
      "outputs": []
    },
    {
      "cell_type": "markdown",
      "source": [
        "7. Write a program in Python to find the top two maximum numbers in an array?"
      ],
      "metadata": {
        "id": "cP_mqRzKXklV"
      }
    },
    {
      "cell_type": "code",
      "source": [],
      "metadata": {
        "id": "PgW0TjpPXxaC"
      },
      "execution_count": null,
      "outputs": []
    },
    {
      "cell_type": "markdown",
      "source": [
        "8. Write a program in Python to remove duplicate elements from arrays."
      ],
      "metadata": {
        "id": "udCKPpk9Xk1U"
      }
    },
    {
      "cell_type": "code",
      "source": [],
      "metadata": {
        "id": "sC5ch0LrXxLm"
      },
      "execution_count": null,
      "outputs": []
    },
    {
      "cell_type": "markdown",
      "source": [
        "9. Python program to find the top two maximum numbers in an array."
      ],
      "metadata": {
        "id": "ukt8e1n6XlDS"
      }
    },
    {
      "cell_type": "code",
      "source": [],
      "metadata": {
        "id": "Nm7O98ZCXw88"
      },
      "execution_count": null,
      "outputs": []
    },
    {
      "cell_type": "markdown",
      "source": [
        "10. Python program to print arrays in reverse Order."
      ],
      "metadata": {
        "id": "vFNURU-zXlUi"
      }
    },
    {
      "cell_type": "code",
      "source": [],
      "metadata": {
        "id": "Aviqf414Xwsi"
      },
      "execution_count": null,
      "outputs": []
    },
    {
      "cell_type": "markdown",
      "source": [
        "11. Python program to reverse an Array in two ways."
      ],
      "metadata": {
        "id": "FWc8rn2QXliB"
      }
    },
    {
      "cell_type": "code",
      "source": [],
      "metadata": {
        "id": "RxOrCkKDXwVe"
      },
      "execution_count": null,
      "outputs": []
    },
    {
      "cell_type": "markdown",
      "source": [
        "12. Python Program to calculate length of an array."
      ],
      "metadata": {
        "id": "CDwthgj1XlvS"
      }
    },
    {
      "cell_type": "code",
      "source": [],
      "metadata": {
        "id": "z505RDBxXvei"
      },
      "execution_count": null,
      "outputs": []
    },
    {
      "cell_type": "markdown",
      "source": [
        "13. Python program to insert an element at the end of an Array."
      ],
      "metadata": {
        "id": "ObrT4zIyXl8u"
      }
    },
    {
      "cell_type": "code",
      "source": [],
      "metadata": {
        "id": "E3VFpJz2XvR6"
      },
      "execution_count": null,
      "outputs": []
    },
    {
      "cell_type": "markdown",
      "source": [
        "14. Python program to insert elements at a given location in Array."
      ],
      "metadata": {
        "id": "9VaVuknkXmQE"
      }
    },
    {
      "cell_type": "code",
      "source": [],
      "metadata": {
        "id": "_QNyrw2sXu4M"
      },
      "execution_count": null,
      "outputs": []
    },
    {
      "cell_type": "markdown",
      "source": [
        "15. Python Program to delete elements at end of Array."
      ],
      "metadata": {
        "id": "FdVB1SBGXmbJ"
      }
    },
    {
      "cell_type": "code",
      "source": [],
      "metadata": {
        "id": "YK5Rtre3XuVe"
      },
      "execution_count": null,
      "outputs": []
    },
    {
      "cell_type": "markdown",
      "source": [
        "16. Python Program to delete given element from Array."
      ],
      "metadata": {
        "id": "LRUpTMT2Xmra"
      }
    },
    {
      "cell_type": "code",
      "source": [],
      "metadata": {
        "id": "9J7HTFdfXuJa"
      },
      "execution_count": null,
      "outputs": []
    },
    {
      "cell_type": "markdown",
      "source": [
        "17. Python Program to delete element from array at given index."
      ],
      "metadata": {
        "id": "bY9CFMYuXm2p"
      }
    },
    {
      "cell_type": "code",
      "source": [],
      "metadata": {
        "id": "gAFmBFi0Xt8O"
      },
      "execution_count": null,
      "outputs": []
    },
    {
      "cell_type": "markdown",
      "source": [
        "18. Python Program to find sum of array elements."
      ],
      "metadata": {
        "id": "t8Lu1faYXnHO"
      }
    },
    {
      "cell_type": "code",
      "source": [],
      "metadata": {
        "id": "wNUiz66IXtwC"
      },
      "execution_count": null,
      "outputs": []
    },
    {
      "cell_type": "markdown",
      "source": [
        "19. Python Program to print all even numbers in an array."
      ],
      "metadata": {
        "id": "kGnPzfqlXnSy"
      }
    },
    {
      "cell_type": "code",
      "source": [],
      "metadata": {
        "id": "M9alqCqmXtjv"
      },
      "execution_count": null,
      "outputs": []
    },
    {
      "cell_type": "markdown",
      "source": [
        "20. Python Program to print all odd numbers in an array."
      ],
      "metadata": {
        "id": "7YkYUEW6Xnxa"
      }
    },
    {
      "cell_type": "code",
      "source": [],
      "metadata": {
        "id": "SzsaXBV_XtPg"
      },
      "execution_count": null,
      "outputs": []
    },
    {
      "cell_type": "markdown",
      "source": [
        "21. Python program to perform left rotation of array elements by two positions."
      ],
      "metadata": {
        "id": "Ra7we8uTXoT2"
      }
    },
    {
      "cell_type": "code",
      "source": [],
      "metadata": {
        "id": "XwTq2ewJXsI3"
      },
      "execution_count": null,
      "outputs": []
    },
    {
      "cell_type": "markdown",
      "source": [
        "22. Python program to perform right rotation in array by 2 positions."
      ],
      "metadata": {
        "id": "AkqmEhkzXoen"
      }
    },
    {
      "cell_type": "code",
      "source": [],
      "metadata": {
        "id": "wIzjI9NLXr6Z"
      },
      "execution_count": null,
      "outputs": []
    },
    {
      "cell_type": "markdown",
      "source": [
        "23. Python Program to merge two arrays."
      ],
      "metadata": {
        "id": "5voWctIZXovM"
      }
    },
    {
      "cell_type": "code",
      "source": [],
      "metadata": {
        "id": "QzO91DmyXrru"
      },
      "execution_count": null,
      "outputs": []
    },
    {
      "cell_type": "markdown",
      "source": [
        "24. Python Program to find highest frequency element in array."
      ],
      "metadata": {
        "id": "SWAFtPFcXo41"
      }
    },
    {
      "cell_type": "code",
      "source": [],
      "metadata": {
        "id": "E71PFpnDXrcl"
      },
      "execution_count": null,
      "outputs": []
    },
    {
      "cell_type": "markdown",
      "source": [
        "25. Python Program to add two numbers using recursion."
      ],
      "metadata": {
        "id": "QLsmPrDGXpFJ"
      }
    },
    {
      "cell_type": "code",
      "source": [],
      "metadata": {
        "id": "O8jojm6wXrK3"
      },
      "execution_count": null,
      "outputs": []
    },
    {
      "cell_type": "markdown",
      "source": [
        "26. Python Program to find sum of digit of number using recursion."
      ],
      "metadata": {
        "id": "NTfmiYFcXpQ8"
      }
    },
    {
      "cell_type": "code",
      "source": [],
      "metadata": {
        "id": "6xlES4KHXq6T"
      },
      "execution_count": null,
      "outputs": []
    },
    {
      "cell_type": "markdown",
      "source": [
        "# Interview questions on Linked List"
      ],
      "metadata": {
        "id": "8KN44V_2YXcW"
      }
    },
    {
      "cell_type": "markdown",
      "source": [
        "1. Python Program to Create and Traverse Singly linked list."
      ],
      "metadata": {
        "id": "QKOH70jGXpi5"
      }
    },
    {
      "cell_type": "code",
      "source": [],
      "metadata": {
        "id": "P6ucubLjXqOt"
      },
      "execution_count": null,
      "outputs": []
    },
    {
      "cell_type": "markdown",
      "source": [
        "2. Python program to insert a node in a linked list."
      ],
      "metadata": {
        "id": "E7RPVO97YaiX"
      }
    },
    {
      "cell_type": "code",
      "source": [],
      "metadata": {
        "id": "VZ-jKYOXYklc"
      },
      "execution_count": null,
      "outputs": []
    },
    {
      "cell_type": "markdown",
      "source": [
        "3. Write a program in Python to reverse a singly linked list."
      ],
      "metadata": {
        "id": "kNC17eVkYa3s"
      }
    },
    {
      "cell_type": "code",
      "source": [],
      "metadata": {
        "id": "26NC7EfbYkZs"
      },
      "execution_count": null,
      "outputs": []
    },
    {
      "cell_type": "markdown",
      "source": [
        "4. Python Program to search an element in a singly linked list."
      ],
      "metadata": {
        "id": "wv_m2XKAYbTY"
      }
    },
    {
      "cell_type": "code",
      "source": [],
      "metadata": {
        "id": "r-rq7hgmYkLS"
      },
      "execution_count": null,
      "outputs": []
    },
    {
      "cell_type": "markdown",
      "source": [
        "5. Linked list Deletion in Python: At beginning, End, Given location"
      ],
      "metadata": {
        "id": "1xU-PSedYbgX"
      }
    },
    {
      "cell_type": "code",
      "source": [],
      "metadata": {
        "id": "7JNioX4uYj_V"
      },
      "execution_count": null,
      "outputs": []
    },
    {
      "cell_type": "markdown",
      "source": [
        "6. Write a program in Python to find the 3rd element of Linked List from last in a single pass."
      ],
      "metadata": {
        "id": "oKQkZ3KkYbpJ"
      }
    },
    {
      "cell_type": "code",
      "source": [],
      "metadata": {
        "id": "23VeM53_Yjwo"
      },
      "execution_count": null,
      "outputs": []
    },
    {
      "cell_type": "markdown",
      "source": [
        "7. Write a program in Python to find the middle element of a linked list in a single pass."
      ],
      "metadata": {
        "id": "pqLUYUweYb6J"
      }
    },
    {
      "cell_type": "code",
      "source": [],
      "metadata": {
        "id": "IsJOiqV7Yjf2"
      },
      "execution_count": null,
      "outputs": []
    }
  ]
}