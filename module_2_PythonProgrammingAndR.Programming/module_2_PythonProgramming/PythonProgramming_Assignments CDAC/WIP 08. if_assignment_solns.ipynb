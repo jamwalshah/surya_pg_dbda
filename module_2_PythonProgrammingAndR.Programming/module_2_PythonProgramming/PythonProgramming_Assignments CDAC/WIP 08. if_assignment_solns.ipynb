{
  "nbformat": 4,
  "nbformat_minor": 0,
  "metadata": {
    "colab": {
      "provenance": []
    },
    "kernelspec": {
      "name": "python3",
      "display_name": "Python 3"
    },
    "language_info": {
      "name": "python"
    }
  },
  "cells": [
    {
      "cell_type": "markdown",
      "source": [
        "1. Write a program that takes a number as input and prints out whether it is an even or odd number."
      ],
      "metadata": {
        "id": "nInqL2FWrPWh"
      }
    },
    {
      "cell_type": "code",
      "source": [],
      "metadata": {
        "id": "xVFZlNn9rOpX"
      },
      "execution_count": null,
      "outputs": []
    },
    {
      "cell_type": "markdown",
      "source": [
        "2. Write a program that takes a year as input and prints out whether it is a leap year or not."
      ],
      "metadata": {
        "id": "W--wu3qerPro"
      }
    },
    {
      "cell_type": "code",
      "execution_count": null,
      "metadata": {
        "id": "4WZ87aUKrIol"
      },
      "outputs": [],
      "source": []
    },
    {
      "cell_type": "markdown",
      "source": [
        "3. Write a program that takes a string as input and checks whether it is a palindrome or not."
      ],
      "metadata": {
        "id": "CI-iue5MrQI2"
      }
    },
    {
      "cell_type": "code",
      "source": [],
      "metadata": {
        "id": "5pkCHsearQhd"
      },
      "execution_count": null,
      "outputs": []
    },
    {
      "cell_type": "markdown",
      "source": [
        "4. Write a program that takes three numbers as input and prints out the largest one."
      ],
      "metadata": {
        "id": "tkIBJlwarQxz"
      }
    },
    {
      "cell_type": "code",
      "source": [],
      "metadata": {
        "id": "nWfRud7SrREy"
      },
      "execution_count": null,
      "outputs": []
    },
    {
      "cell_type": "markdown",
      "source": [
        "5. Write a program that takes a sentence as input and counts the number of words in it."
      ],
      "metadata": {
        "id": "GIwkJUYArRZ8"
      }
    },
    {
      "cell_type": "code",
      "source": [],
      "metadata": {
        "id": "geE9XwYPrRqk"
      },
      "execution_count": null,
      "outputs": []
    },
    {
      "cell_type": "markdown",
      "source": [
        "6. Write a program that takes a list of numbers as input and prints out the sum of all the numbers."
      ],
      "metadata": {
        "id": "gbplyJpgrR9Q"
      }
    },
    {
      "cell_type": "code",
      "source": [],
      "metadata": {
        "id": "pwdEN4UKQHnC"
      },
      "execution_count": null,
      "outputs": []
    },
    {
      "cell_type": "markdown",
      "source": [
        "7. Write a program that takes a list of strings as input and prints out the longest string."
      ],
      "metadata": {
        "id": "YpfkrNlCQH1v"
      }
    },
    {
      "cell_type": "code",
      "source": [],
      "metadata": {
        "id": "jwlD70NXQIGA"
      },
      "execution_count": null,
      "outputs": []
    },
    {
      "cell_type": "markdown",
      "source": [
        "8. Write a program that takes two lists of numbers as input and prints out the common elements between the two lists."
      ],
      "metadata": {
        "id": "7pGcSyLyQId-"
      }
    },
    {
      "cell_type": "code",
      "source": [],
      "metadata": {
        "id": "b165mkPLQIyO"
      },
      "execution_count": null,
      "outputs": []
    },
    {
      "cell_type": "markdown",
      "source": [
        "9. Write a program that takes a list of numbers as input and prints out the numbers in ascending order."
      ],
      "metadata": {
        "id": "2cbvzdcAQJDT"
      }
    },
    {
      "cell_type": "code",
      "source": [],
      "metadata": {
        "id": "9hEpsEW4QJjP"
      },
      "execution_count": null,
      "outputs": []
    },
    {
      "cell_type": "markdown",
      "source": [
        "10.  Write a program that takes a list of strings as input and removes all duplicates from the list"
      ],
      "metadata": {
        "id": "9y1KExssQJvo"
      }
    },
    {
      "cell_type": "code",
      "source": [],
      "metadata": {
        "id": "r3DE6m8qQJ_C"
      },
      "execution_count": null,
      "outputs": []
    },
    {
      "cell_type": "markdown",
      "source": [
        "11.  Write a program that takes a string as input and prints out the frequency of each character in the string."
      ],
      "metadata": {
        "id": "5qyCS68yQKKj"
      }
    },
    {
      "cell_type": "code",
      "source": [],
      "metadata": {
        "id": "WJeFyDDxQKap"
      },
      "execution_count": null,
      "outputs": []
    },
    {
      "cell_type": "markdown",
      "source": [
        "12. Write a program that takes a string as input and checks whether it is a pangram or not."
      ],
      "metadata": {
        "id": "yTtNdXIQQK3l"
      }
    },
    {
      "cell_type": "code",
      "source": [],
      "metadata": {
        "id": "18ssrCXLQLF_"
      },
      "execution_count": null,
      "outputs": []
    },
    {
      "cell_type": "markdown",
      "source": [
        "13. Write a program that takes a list of numbers as input and prints out the median value."
      ],
      "metadata": {
        "id": "XFDT0wyaQLSC"
      }
    },
    {
      "cell_type": "code",
      "source": [],
      "metadata": {
        "id": "3qc1DoU_QLfL"
      },
      "execution_count": null,
      "outputs": []
    },
    {
      "cell_type": "markdown",
      "source": [
        "14. Write a program that takes two strings as input and checks whether they are anagrams or not."
      ],
      "metadata": {
        "id": "l_wMv8HxQLsS"
      }
    },
    {
      "cell_type": "code",
      "source": [],
      "metadata": {
        "id": "WdGN1I_bQMFk"
      },
      "execution_count": null,
      "outputs": []
    },
    {
      "cell_type": "markdown",
      "source": [
        "15. Write a program that takes a list of numbers as input and finds the second largest number in the list."
      ],
      "metadata": {
        "id": "Tm6Y_DDUQMYJ"
      }
    },
    {
      "cell_type": "code",
      "source": [],
      "metadata": {
        "id": "2vHVtmhkQMl8"
      },
      "execution_count": null,
      "outputs": []
    },
    {
      "cell_type": "markdown",
      "source": [
        "16. Write a program that takes a list of numbers as input and finds the sum of all the even numbers in the list."
      ],
      "metadata": {
        "id": "mn-bBhGwQMyp"
      }
    },
    {
      "cell_type": "code",
      "source": [],
      "metadata": {
        "id": "NjMi4gsfQNIL"
      },
      "execution_count": null,
      "outputs": []
    },
    {
      "cell_type": "markdown",
      "source": [
        "17. Write a program that takes a string as input and prints out the words in reverse order."
      ],
      "metadata": {
        "id": "Q_ruw4HZQNbx"
      }
    },
    {
      "cell_type": "code",
      "source": [],
      "metadata": {
        "id": "Asm9ca5KQNtS"
      },
      "execution_count": null,
      "outputs": []
    },
    {
      "cell_type": "markdown",
      "source": [
        "18. Write a program that takes a list of numbers as input and prints out the numbers in descending order."
      ],
      "metadata": {
        "id": "5sdSKT7OQOJV"
      }
    },
    {
      "cell_type": "code",
      "source": [],
      "metadata": {
        "id": "jm0KkMQ-QOq7"
      },
      "execution_count": null,
      "outputs": []
    },
    {
      "cell_type": "markdown",
      "source": [
        "19. Write a program that takes a list of strings as input and prints out the strings in alphabetical order."
      ],
      "metadata": {
        "id": "hY-IvjiOQPnD"
      }
    },
    {
      "cell_type": "code",
      "source": [],
      "metadata": {
        "id": "dGxsVVeUQRys"
      },
      "execution_count": null,
      "outputs": []
    },
    {
      "cell_type": "markdown",
      "source": [
        "20. Write a program that takes a list of numbers as input and checks whether it is a Fibonacci sequence or not."
      ],
      "metadata": {
        "id": "66FxVhQ-QPge"
      }
    },
    {
      "cell_type": "code",
      "source": [],
      "metadata": {
        "id": "7sQY-boQQSOx"
      },
      "execution_count": null,
      "outputs": []
    },
    {
      "cell_type": "markdown",
      "source": [
        "21. Write a program that takes a string as input and prints out the longest palindrome in the string."
      ],
      "metadata": {
        "id": "4UDjl3hdQSxL"
      }
    },
    {
      "cell_type": "code",
      "source": [],
      "metadata": {
        "id": "EL95lNwDQTA-"
      },
      "execution_count": null,
      "outputs": []
    },
    {
      "cell_type": "markdown",
      "source": [
        "22. Write a program that takes a list of strings as input and removes all strings that contain the letter \"a\"."
      ],
      "metadata": {
        "id": "YMojIcWOQTPV"
      }
    },
    {
      "cell_type": "code",
      "source": [],
      "metadata": {
        "id": "EndidEIWQTt2"
      },
      "execution_count": null,
      "outputs": []
    },
    {
      "cell_type": "markdown",
      "source": [
        "23. Write a program that takes a list of numbers as input and checks whether it contains any duplicates."
      ],
      "metadata": {
        "id": "yXRyvGOOQT7x"
      }
    },
    {
      "cell_type": "code",
      "source": [],
      "metadata": {
        "id": "ao7OdVSxQUMJ"
      },
      "execution_count": null,
      "outputs": []
    },
    {
      "cell_type": "markdown",
      "source": [
        "24. Write a program that takes a list of strings as input and prints out the strings that are palindromes."
      ],
      "metadata": {
        "id": "lZ_5zD4EQUaz"
      }
    },
    {
      "cell_type": "code",
      "source": [],
      "metadata": {
        "id": "9cpOyJfSQU2T"
      },
      "execution_count": null,
      "outputs": []
    },
    {
      "cell_type": "markdown",
      "source": [
        "25. Write a program that takes a string as input and prints out the most common word in the string."
      ],
      "metadata": {
        "id": "OnuniLsIQVFz"
      }
    },
    {
      "cell_type": "code",
      "source": [],
      "metadata": {
        "id": "ChGo4vrZQVUg"
      },
      "execution_count": null,
      "outputs": []
    },
    {
      "cell_type": "markdown",
      "source": [
        "26. Write a program that takes a list of numbers as input and finds the product of all the numbers."
      ],
      "metadata": {
        "id": "dxMaMnQSRAOS"
      }
    },
    {
      "cell_type": "code",
      "source": [],
      "metadata": {
        "id": "V9xUepS4Q_m_"
      },
      "execution_count": null,
      "outputs": []
    },
    {
      "cell_type": "markdown",
      "source": [
        "27. Write a program that takes a string as input and removes all the vowels from the string."
      ],
      "metadata": {
        "id": "XJYVY559RAml"
      }
    },
    {
      "cell_type": "code",
      "source": [],
      "metadata": {
        "id": "LXD3bys8RA9B"
      },
      "execution_count": null,
      "outputs": []
    },
    {
      "cell_type": "markdown",
      "source": [
        "28. Write a program that takes a list of numbers as input and checks whether it is a prime number sequence or not."
      ],
      "metadata": {
        "id": "6PKiOnO8RBIp"
      }
    },
    {
      "cell_type": "code",
      "source": [],
      "metadata": {
        "id": "QF70pLfLRBcj"
      },
      "execution_count": null,
      "outputs": []
    },
    {
      "cell_type": "markdown",
      "source": [
        "29. Write a program that takes a list of strings as input and checks whether all the strings are of the same length."
      ],
      "metadata": {
        "id": "KAanwkr-RBqf"
      }
    },
    {
      "cell_type": "code",
      "source": [],
      "metadata": {
        "id": "vWBp63QvRB7S"
      },
      "execution_count": null,
      "outputs": []
    },
    {
      "cell_type": "markdown",
      "source": [
        "30. Write a program that takes a string as input and checks whether it is a pangram or not, using only lowercase letters."
      ],
      "metadata": {
        "id": "HWxpH7tsRCOW"
      }
    },
    {
      "cell_type": "code",
      "source": [],
      "metadata": {
        "id": "eU5QVSmWRCyD"
      },
      "execution_count": null,
      "outputs": []
    },
    {
      "cell_type": "markdown",
      "source": [
        "31. Write a program that takes a list of numbers as input and checks whether the list is sorted in ascending order."
      ],
      "metadata": {
        "id": "iu1JY7NYRDId"
      }
    },
    {
      "cell_type": "code",
      "source": [],
      "metadata": {
        "id": "RWAlAM9pRDXF"
      },
      "execution_count": null,
      "outputs": []
    },
    {
      "cell_type": "markdown",
      "source": [
        "32. Write a program that takes a string as input and prints out the number of uppercase letters and lowercase letters in the string."
      ],
      "metadata": {
        "id": "SjjRTp5ZRDjY"
      }
    },
    {
      "cell_type": "code",
      "source": [],
      "metadata": {
        "id": "g5ikeO6CRDy_"
      },
      "execution_count": null,
      "outputs": []
    },
    {
      "cell_type": "markdown",
      "source": [
        "33. Write a program that takes two lists of numbers as input and prints out a new list containing the elements that are in the first list but not in the second list."
      ],
      "metadata": {
        "id": "9ub67mxGREN7"
      }
    },
    {
      "cell_type": "code",
      "source": [],
      "metadata": {
        "id": "2wdzHSp9REeB"
      },
      "execution_count": null,
      "outputs": []
    },
    {
      "cell_type": "markdown",
      "source": [
        "34. Write a program that takes a list of numbers as input and finds the smallest positive integer that is not in the list."
      ],
      "metadata": {
        "id": "J6VguRySREtZ"
      }
    },
    {
      "cell_type": "code",
      "source": [],
      "metadata": {
        "id": "1MQ_YzRcRFNN"
      },
      "execution_count": null,
      "outputs": []
    },
    {
      "cell_type": "markdown",
      "source": [
        "35. Write a program that takes a string as input and prints out the number of words that contain at least one vowel."
      ],
      "metadata": {
        "id": "V1ghlLkqRFd_"
      }
    },
    {
      "cell_type": "code",
      "source": [],
      "metadata": {
        "id": "D_2-kgq2RFqP"
      },
      "execution_count": null,
      "outputs": []
    },
    {
      "cell_type": "markdown",
      "source": [
        "36. Write a program that takes a list of numbers as input and prints out the numbers that are perfect squares."
      ],
      "metadata": {
        "id": "WkFIGWnKRF4e"
      }
    },
    {
      "cell_type": "code",
      "source": [],
      "metadata": {
        "id": "1Q6AZ1OpRGHz"
      },
      "execution_count": null,
      "outputs": []
    },
    {
      "cell_type": "markdown",
      "source": [
        "37. Write a program that takes a string as input and prints out the number of times each word appears in the string."
      ],
      "metadata": {
        "id": "l6RdN8CrRGb3"
      }
    },
    {
      "cell_type": "code",
      "source": [],
      "metadata": {
        "id": "D7kff0sLRHBi"
      },
      "execution_count": null,
      "outputs": []
    },
    {
      "cell_type": "markdown",
      "source": [
        "38. Write a program that takes a list of strings as input and prints out the strings that contain only uppercase letters."
      ],
      "metadata": {
        "id": "naBq9LP7Rf_Z"
      }
    },
    {
      "cell_type": "code",
      "source": [],
      "metadata": {
        "id": "RFbj1hnvRgOx"
      },
      "execution_count": null,
      "outputs": []
    },
    {
      "cell_type": "markdown",
      "source": [
        "39. Write a program that takes a list of numbers as input and prints out a new list where each element is the product of all the elements in the original list except for the current element."
      ],
      "metadata": {
        "id": "9US_u8RHRgbM"
      }
    },
    {
      "cell_type": "code",
      "source": [],
      "metadata": {
        "id": "9cRrDTT9Rgpj"
      },
      "execution_count": null,
      "outputs": []
    },
    {
      "cell_type": "markdown",
      "source": [
        "40. Write a program that takes a string as input and checks whether it is a palindrome or not."
      ],
      "metadata": {
        "id": "jkzaKo8IRhTn"
      }
    },
    {
      "cell_type": "code",
      "source": [],
      "metadata": {
        "id": "-ZyUPRGxRh5K"
      },
      "execution_count": null,
      "outputs": []
    }
  ]
}