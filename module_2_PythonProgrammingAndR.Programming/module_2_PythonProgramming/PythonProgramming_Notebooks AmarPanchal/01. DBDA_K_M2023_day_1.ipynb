{
  "nbformat": 4,
  "nbformat_minor": 0,
  "metadata": {
    "colab": {
      "provenance": []
    },
    "kernelspec": {
      "name": "python3",
      "display_name": "Python 3"
    },
    "language_info": {
      "name": "python"
    }
  },
  "cells": [
    {
      "cell_type": "markdown",
      "source": [
        "\n",
        "\n",
        "**Dynamic casting python**\n",
        "\n",
        "\n",
        "1.   5 basic type\n",
        "2.   type()\n",
        "\n",
        "\n",
        "\n"
      ],
      "metadata": {
        "id": "cLUK7VK3Uxpp"
      }
    },
    {
      "cell_type": "code",
      "execution_count": null,
      "metadata": {
        "colab": {
          "base_uri": "https://localhost:8080/"
        },
        "id": "E-0PIUCmUfLj",
        "outputId": "a90c51a9-ab61-4b6b-cdac-2db51300b5c3"
      },
      "outputs": [
        {
          "output_type": "execute_result",
          "data": {
            "text/plain": [
              "bool"
            ]
          },
          "metadata": {},
          "execution_count": 5
        }
      ],
      "source": [
        "a=True\n",
        "type(a)"
      ]
    },
    {
      "cell_type": "code",
      "source": [
        "a=10\n",
        "b=20\n",
        "c=30"
      ],
      "metadata": {
        "id": "sD-uTGT9bIno"
      },
      "execution_count": null,
      "outputs": []
    },
    {
      "cell_type": "code",
      "source": [
        "a=b=c=100"
      ],
      "metadata": {
        "id": "RiMnvisQbPh9"
      },
      "execution_count": null,
      "outputs": []
    },
    {
      "cell_type": "code",
      "source": [
        "a,b,c=10,20.23,True"
      ],
      "metadata": {
        "colab": {
          "base_uri": "https://localhost:8080/",
          "height": 169
        },
        "id": "bJXM2IH3bTdg",
        "outputId": "b0d40ccb-e79d-491f-d582-eb47bc32f599"
      },
      "execution_count": null,
      "outputs": [
        {
          "output_type": "error",
          "ename": "ValueError",
          "evalue": "ignored",
          "traceback": [
            "\u001b[0;31m---------------------------------------------------------------------------\u001b[0m",
            "\u001b[0;31mValueError\u001b[0m                                Traceback (most recent call last)",
            "\u001b[0;32m<ipython-input-15-02b868d612d4>\u001b[0m in \u001b[0;36m<cell line: 1>\u001b[0;34m()\u001b[0m\n\u001b[0;32m----> 1\u001b[0;31m \u001b[0ma\u001b[0m\u001b[0;34m,\u001b[0m\u001b[0mb\u001b[0m\u001b[0;34m,\u001b[0m\u001b[0mc\u001b[0m\u001b[0;34m=\u001b[0m\u001b[0;36m10\u001b[0m\u001b[0;34m,\u001b[0m\u001b[0;36m20.23\u001b[0m\u001b[0;34m\u001b[0m\u001b[0;34m\u001b[0m\u001b[0m\n\u001b[0m",
            "\u001b[0;31mValueError\u001b[0m: not enough values to unpack (expected 3, got 2)"
          ]
        }
      ]
    },
    {
      "cell_type": "code",
      "source": [
        "print(a,b,c)"
      ],
      "metadata": {
        "colab": {
          "base_uri": "https://localhost:8080/"
        },
        "id": "a58ix6BzbMOY",
        "outputId": "036edb07-7b71-4623-b9eb-619355a75d60"
      },
      "execution_count": null,
      "outputs": [
        {
          "output_type": "stream",
          "name": "stdout",
          "text": [
            "10 20.23 amar\n"
          ]
        }
      ]
    },
    {
      "cell_type": "code",
      "source": [
        "a=10\n",
        "b=20\n",
        "t=a\n",
        "a=b\n",
        "b=t\n",
        "print(a,b)"
      ],
      "metadata": {
        "colab": {
          "base_uri": "https://localhost:8080/"
        },
        "id": "yUgy9HYgbvaY",
        "outputId": "c2877d6a-d593-4c30-be3a-7a18a718adb7"
      },
      "execution_count": null,
      "outputs": [
        {
          "output_type": "stream",
          "name": "stdout",
          "text": [
            "20 10\n"
          ]
        }
      ]
    },
    {
      "cell_type": "code",
      "source": [
        "a=10\n",
        "b=20\n",
        "print(\"a:\",a,\"b:\",b)\n",
        "a,b=b,a\n",
        "print(\"a:\",a,\"b:\",b)"
      ],
      "metadata": {
        "colab": {
          "base_uri": "https://localhost:8080/"
        },
        "id": "OUfshjlvb4CO",
        "outputId": "50213d2a-4f3d-41d8-8e78-147baffa0232"
      },
      "execution_count": null,
      "outputs": [
        {
          "output_type": "stream",
          "name": "stdout",
          "text": [
            "a: 10 b: 20\n",
            "a: 20 b: 10\n"
          ]
        }
      ]
    },
    {
      "cell_type": "code",
      "source": [
        "a=10\n",
        "b=2*5\n",
        "c=13-3\n",
        "print(\"a:\",id(a),\"b:\",id(b),\"c:\",id(c))\n",
        "a=a-5\n",
        "print(\"a:\",id(a),\"b:\",id(b),\"c:\",id(c))\n",
        "b=b/2\n",
        "print(\"a:\",id(a),\"b:\",id(b),\"c:\",id(c))"
      ],
      "metadata": {
        "colab": {
          "base_uri": "https://localhost:8080/"
        },
        "id": "gTBa8IZldHpC",
        "outputId": "eb3451b5-2b54-4231-b77e-d0ee4a4d2e30"
      },
      "execution_count": null,
      "outputs": [
        {
          "output_type": "stream",
          "name": "stdout",
          "text": [
            "a: 139663338646096 b: 139663338646096 c: 139663338646096\n",
            "a: 139663338645936 b: 139663338646096 c: 139663338646096\n",
            "a: 139663338645936 b: 139662080491024 c: 139663338646096\n"
          ]
        }
      ]
    },
    {
      "cell_type": "code",
      "source": [
        "print('hello')\n",
        "print(\"hello\")\n",
        "print('''print''')\n",
        "print(\"\"\"print\"\"\")"
      ],
      "metadata": {
        "colab": {
          "base_uri": "https://localhost:8080/",
          "height": 151
        },
        "id": "i-bdTE7wgVtJ",
        "outputId": "4638d306-a7bc-4797-d266-90afd79d23b3"
      },
      "execution_count": null,
      "outputs": [
        {
          "output_type": "error",
          "ename": "SyntaxError",
          "evalue": "ignored",
          "traceback": [
            "\u001b[0;36m  File \u001b[0;32m\"<ipython-input-22-7d55f67b0aa9>\"\u001b[0;36m, line \u001b[0;32m4\u001b[0m\n\u001b[0;31m    print(\"\"\"print\"\"\")\u001b[0m\n\u001b[0m                      \n^\u001b[0m\n\u001b[0;31mSyntaxError\u001b[0m\u001b[0;31m:\u001b[0m EOF while scanning triple-quoted string literal\n"
          ]
        }
      ]
    },
    {
      "cell_type": "code",
      "source": [
        "a=2134\n",
        "print(a)"
      ],
      "metadata": {
        "colab": {
          "base_uri": "https://localhost:8080/"
        },
        "id": "MX2yjITmgwk_",
        "outputId": "28baebde-3b74-44c3-b7d6-5bb9fd90e026"
      },
      "execution_count": null,
      "outputs": [
        {
          "output_type": "stream",
          "name": "stdout",
          "text": [
            "2134\n"
          ]
        }
      ]
    },
    {
      "cell_type": "code",
      "source": [
        "a=10\n",
        "print(\"a is\",a)"
      ],
      "metadata": {
        "colab": {
          "base_uri": "https://localhost:8080/"
        },
        "id": "sECcIgdgg7kA",
        "outputId": "199ac68d-4534-47be-f107-35e01f0fe5aa"
      },
      "execution_count": null,
      "outputs": [
        {
          "output_type": "stream",
          "name": "stdout",
          "text": [
            "a is 10\n"
          ]
        }
      ]
    },
    {
      "cell_type": "code",
      "source": [
        "a=10\n",
        "b=20\n",
        "#a is 10 and 20 is b\n",
        "print(\"a is\",a,\"and\",b,\"is b\")\n",
        "#10 is a and 20 is b\n",
        "print(a,\"is a and\",b,\"is b\")\n",
        "#10 value of a and b is 20 \n",
        "print(a,\"value of a and b is\",b) "
      ],
      "metadata": {
        "colab": {
          "base_uri": "https://localhost:8080/"
        },
        "id": "MNPU4Y1MhFIB",
        "outputId": "931ebc35-9939-40df-bd96-5f6e3b8d2681"
      },
      "execution_count": null,
      "outputs": [
        {
          "output_type": "stream",
          "name": "stdout",
          "text": [
            "a is 10 and 20 is b\n",
            "10 is a and 20 is b\n",
            "10 value of a and b is 20\n"
          ]
        }
      ]
    },
    {
      "cell_type": "code",
      "source": [
        "print(\"line 1\",end='')\n",
        "print(\" 2nd line\")\n",
        "print(\"line 3 is this\")"
      ],
      "metadata": {
        "colab": {
          "base_uri": "https://localhost:8080/"
        },
        "id": "yLogddB9i8pd",
        "outputId": "08bedaf2-2926-43fc-d5ff-54b77f7119f8"
      },
      "execution_count": null,
      "outputs": [
        {
          "output_type": "stream",
          "name": "stdout",
          "text": [
            "line 1 2nd line\n",
            "line 3 is this\n"
          ]
        }
      ]
    },
    {
      "cell_type": "code",
      "source": [
        "a,b,c=10,20,30\n",
        "print(a,b,c,sep=\"-----\",end=\"\\t\")\n",
        "print(a,b,c,sep=\"-----\")\n",
        "print(a,b,c,sep=\"-----\")"
      ],
      "metadata": {
        "colab": {
          "base_uri": "https://localhost:8080/"
        },
        "id": "5aJVkaVgjb_j",
        "outputId": "1c1b8710-8f7d-4443-9723-377595119df3"
      },
      "execution_count": null,
      "outputs": [
        {
          "output_type": "stream",
          "name": "stdout",
          "text": [
            "10-----20-----30\t10-----20-----30\n",
            "10-----20-----30\n"
          ]
        }
      ]
    },
    {
      "cell_type": "code",
      "source": [
        "a=input(\"Enter Your name:\")"
      ],
      "metadata": {
        "colab": {
          "base_uri": "https://localhost:8080/"
        },
        "id": "I-hUnAUzkM0r",
        "outputId": "9453e8bb-eb63-4111-d091-db155a0caba6"
      },
      "execution_count": null,
      "outputs": [
        {
          "name": "stdout",
          "output_type": "stream",
          "text": [
            "Enter Your name:amar\n"
          ]
        }
      ]
    },
    {
      "cell_type": "code",
      "source": [
        "no=input(\"Enter a number:\")\n",
        "print(no,type(no))"
      ],
      "metadata": {
        "colab": {
          "base_uri": "https://localhost:8080/"
        },
        "id": "9GI2fstFks4V",
        "outputId": "33b8f94f-8ff2-4d3e-c09d-6d08c3aa7110"
      },
      "execution_count": null,
      "outputs": [
        {
          "output_type": "stream",
          "name": "stdout",
          "text": [
            "Enter a number:123\n",
            "123 <class 'str'>\n"
          ]
        }
      ]
    },
    {
      "cell_type": "code",
      "source": [
        "no=int(input(\"Enter a number:\"))\n",
        "print(no,type(no))"
      ],
      "metadata": {
        "colab": {
          "base_uri": "https://localhost:8080/"
        },
        "id": "bR_TUDklk4aS",
        "outputId": "152e2140-9c73-4aa3-e6ff-470c7c401d1f"
      },
      "execution_count": null,
      "outputs": [
        {
          "output_type": "stream",
          "name": "stdout",
          "text": [
            "Enter a number:123\n",
            "123 <class 'int'>\n"
          ]
        }
      ]
    },
    {
      "cell_type": "code",
      "source": [
        "no=bool(input(\"Enter a number:\"))\n",
        "print(no,type(no))"
      ],
      "metadata": {
        "colab": {
          "base_uri": "https://localhost:8080/"
        },
        "id": "9iBR40CrlaBp",
        "outputId": "5951b88d-df98-48cb-ac45-c795fe19b74c"
      },
      "execution_count": null,
      "outputs": [
        {
          "output_type": "stream",
          "name": "stdout",
          "text": [
            "Enter a number:\n",
            "False <class 'bool'>\n"
          ]
        }
      ]
    },
    {
      "cell_type": "code",
      "source": [
        "2**3"
      ],
      "metadata": {
        "colab": {
          "base_uri": "https://localhost:8080/"
        },
        "id": "l8OfVyDMnm57",
        "outputId": "68200115-a621-427f-a7b9-74af8bf652a1"
      },
      "execution_count": null,
      "outputs": [
        {
          "output_type": "execute_result",
          "data": {
            "text/plain": [
              "8"
            ]
          },
          "metadata": {},
          "execution_count": 49
        }
      ]
    },
    {
      "cell_type": "code",
      "source": [
        "5/2"
      ],
      "metadata": {
        "colab": {
          "base_uri": "https://localhost:8080/"
        },
        "id": "ubYwi8MOn0RN",
        "outputId": "c2b591d1-8f48-4170-f10e-553f987b5897"
      },
      "execution_count": null,
      "outputs": [
        {
          "output_type": "execute_result",
          "data": {
            "text/plain": [
              "2.5"
            ]
          },
          "metadata": {},
          "execution_count": 50
        }
      ]
    },
    {
      "cell_type": "code",
      "source": [
        "5//2"
      ],
      "metadata": {
        "colab": {
          "base_uri": "https://localhost:8080/"
        },
        "id": "FqH-TYlPn1gl",
        "outputId": "8cd8f41a-7ca5-4ae6-f615-542d303be030"
      },
      "execution_count": null,
      "outputs": [
        {
          "output_type": "execute_result",
          "data": {
            "text/plain": [
              "2"
            ]
          },
          "metadata": {},
          "execution_count": 51
        }
      ]
    }
  ]
}