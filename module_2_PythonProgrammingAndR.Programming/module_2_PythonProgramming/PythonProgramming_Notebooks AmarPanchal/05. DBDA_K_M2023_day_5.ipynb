{
  "nbformat": 4,
  "nbformat_minor": 0,
  "metadata": {
    "colab": {
      "provenance": []
    },
    "kernelspec": {
      "name": "python3",
      "display_name": "Python 3"
    },
    "language_info": {
      "name": "python"
    }
  },
  "cells": [
    {
      "cell_type": "code",
      "execution_count": null,
      "metadata": {
        "id": "o_rO-i4cbdy9"
      },
      "outputs": [],
      "source": [
        "s='amar'\n",
        "s2=\"amar\"\n",
        "s3='''amar'''\n",
        "s4=\"\"\"amar\"\"\"\n"
      ]
    },
    {
      "cell_type": "code",
      "source": [
        "print(s,s2,s3,s4)"
      ],
      "metadata": {
        "colab": {
          "base_uri": "https://localhost:8080/"
        },
        "id": "_mDU9VzQbzBb",
        "outputId": "d8d17ef6-2bae-4063-d7f2-ea8257de714f"
      },
      "execution_count": null,
      "outputs": [
        {
          "output_type": "stream",
          "name": "stdout",
          "text": [
            "amar amar amar amar\n"
          ]
        }
      ]
    },
    {
      "cell_type": "code",
      "source": [
        "# + used to add string to other\n",
        "s=\"am\"\n",
        "s2=\"ar\"\n",
        "s3=s+s2"
      ],
      "metadata": {
        "id": "fjEtHk5mb7f8"
      },
      "execution_count": null,
      "outputs": []
    },
    {
      "cell_type": "code",
      "source": [
        "print(s3)"
      ],
      "metadata": {
        "colab": {
          "base_uri": "https://localhost:8080/"
        },
        "id": "eP98Q9WucMtY",
        "outputId": "c7f99598-a984-45bc-bbd8-018e0f97e0d4"
      },
      "execution_count": null,
      "outputs": [
        {
          "output_type": "stream",
          "name": "stdout",
          "text": [
            "amar\n"
          ]
        }
      ]
    },
    {
      "cell_type": "code",
      "source": [
        "s=\"python\"\n",
        "print(s,id(s))\n",
        "s=s+\" language\"\n",
        "print(s,id(s))"
      ],
      "metadata": {
        "colab": {
          "base_uri": "https://localhost:8080/"
        },
        "id": "wUBtaOpLcQU_",
        "outputId": "b4679b8e-9650-4f0d-dd3f-2dfcd3689889"
      },
      "execution_count": null,
      "outputs": [
        {
          "output_type": "stream",
          "name": "stdout",
          "text": [
            "python 140338200369008\n",
            "python language 140337163498096\n"
          ]
        }
      ]
    },
    {
      "cell_type": "code",
      "source": [
        "data=[10,20]\n",
        "print(data,id(data))\n",
        "data.append(1000)\n",
        "print(data,id(data))"
      ],
      "metadata": {
        "colab": {
          "base_uri": "https://localhost:8080/"
        },
        "id": "Rnm6HPlWcfT3",
        "outputId": "50c92cb2-2947-4041-cb33-08b093630704"
      },
      "execution_count": null,
      "outputs": [
        {
          "output_type": "stream",
          "name": "stdout",
          "text": [
            "[10, 20] 140336944413248\n",
            "[10, 20, 1000] 140336944413248\n"
          ]
        }
      ]
    },
    {
      "cell_type": "code",
      "source": [
        "s=\"amar\"\n",
        "s2=\"amar\"\n",
        "if s==s2:\n",
        "    print('yes')"
      ],
      "metadata": {
        "colab": {
          "base_uri": "https://localhost:8080/"
        },
        "id": "ECtaanrWc7i0",
        "outputId": "67d24211-003d-4c5c-cf7a-984ed20a01e0"
      },
      "execution_count": null,
      "outputs": [
        {
          "output_type": "stream",
          "name": "stdout",
          "text": [
            "yes\n"
          ]
        }
      ]
    },
    {
      "cell_type": "code",
      "source": [
        "#indexed access +ve and -ve\n",
        "for i in range(0,len(s)):\n",
        "    print(i,s[i])"
      ],
      "metadata": {
        "colab": {
          "base_uri": "https://localhost:8080/"
        },
        "id": "QrIaSVrQdPvX",
        "outputId": "13815c06-d8be-40fd-d914-56380e4cd9b0"
      },
      "execution_count": null,
      "outputs": [
        {
          "output_type": "stream",
          "name": "stdout",
          "text": [
            "0 a\n",
            "1 m\n",
            "2 a\n",
            "3 r\n"
          ]
        }
      ]
    },
    {
      "cell_type": "code",
      "source": [
        "for i in s:\n",
        "    print(i)"
      ],
      "metadata": {
        "colab": {
          "base_uri": "https://localhost:8080/"
        },
        "id": "7-yFw1W7ddan",
        "outputId": "4bfc6a2b-577c-4225-b6eb-47a7dfe05edc"
      },
      "execution_count": null,
      "outputs": [
        {
          "output_type": "stream",
          "name": "stdout",
          "text": [
            "a\n",
            "m\n",
            "a\n",
            "r\n"
          ]
        }
      ]
    },
    {
      "cell_type": "code",
      "source": [
        "s*3"
      ],
      "metadata": {
        "colab": {
          "base_uri": "https://localhost:8080/",
          "height": 35
        },
        "id": "iIM6Hz8udl5L",
        "outputId": "ed3a5157-7327-4bbf-dfa1-f8f4502d90da"
      },
      "execution_count": null,
      "outputs": [
        {
          "output_type": "execute_result",
          "data": {
            "text/plain": [
              "'amaramaramar'"
            ],
            "application/vnd.google.colaboratory.intrinsic+json": {
              "type": "string"
            }
          },
          "metadata": {},
          "execution_count": 12
        }
      ]
    },
    {
      "cell_type": "code",
      "source": [
        "s=\"god_\"\n",
        "s*11"
      ],
      "metadata": {
        "colab": {
          "base_uri": "https://localhost:8080/",
          "height": 35
        },
        "id": "B8vYYVSIdo6s",
        "outputId": "ccfcaaa2-e137-48f2-ba13-6bd271cc8e46"
      },
      "execution_count": null,
      "outputs": [
        {
          "output_type": "execute_result",
          "data": {
            "text/plain": [
              "'god_god_god_god_god_god_god_god_god_god_god_'"
            ],
            "application/vnd.google.colaboratory.intrinsic+json": {
              "type": "string"
            }
          },
          "metadata": {},
          "execution_count": 13
        }
      ]
    },
    {
      "cell_type": "code",
      "source": [
        "for i in range(1,10,2):\n",
        "    print(\"X\"*i)"
      ],
      "metadata": {
        "colab": {
          "base_uri": "https://localhost:8080/"
        },
        "id": "J2ofCBG0d-ER",
        "outputId": "64081284-6672-4a4a-caf0-a861787095f1"
      },
      "execution_count": null,
      "outputs": [
        {
          "output_type": "stream",
          "name": "stdout",
          "text": [
            "X\n",
            "XXX\n",
            "XXXXX\n",
            "XXXXXXX\n",
            "XXXXXXXXX\n"
          ]
        }
      ]
    },
    {
      "cell_type": "code",
      "source": [
        "XXXXX\n",
        " XXXX\n",
        "  XXX\n",
        "   XX\n",
        "    X"
      ],
      "metadata": {
        "id": "HsTexBFbebdj"
      },
      "execution_count": null,
      "outputs": []
    },
    {
      "cell_type": "code",
      "source": [
        "for i in range(5,0,-1):\n",
        "    print(\" \"*(6-i),\"X \"*i)"
      ],
      "metadata": {
        "colab": {
          "base_uri": "https://localhost:8080/"
        },
        "id": "i6HmlT50fPex",
        "outputId": "548463de-0c53-4fbf-c45a-de5ac62efed6"
      },
      "execution_count": null,
      "outputs": [
        {
          "output_type": "stream",
          "name": "stdout",
          "text": [
            "  X X X X X \n",
            "   X X X X \n",
            "    X X X \n",
            "     X X \n",
            "      X \n"
          ]
        }
      ]
    },
    {
      "cell_type": "code",
      "source": [
        "s=\"abcdefghijk\"\n",
        "print(s[3:6])\n",
        "print(s[:3])# 0 to 3\n",
        "print(s[4:])# 4 to len(s)\n",
        "print(s[::-1])#reverse\n",
        "print(s[::])#start 0 end len(s)\n",
        "print(s[::+2])\n"
      ],
      "metadata": {
        "colab": {
          "base_uri": "https://localhost:8080/"
        },
        "id": "_EEj6M32ft4v",
        "outputId": "82cd6be9-58ee-44bf-e3cc-5600bf46c923"
      },
      "execution_count": null,
      "outputs": [
        {
          "output_type": "stream",
          "name": "stdout",
          "text": [
            "def\n",
            "abc\n",
            "efghijk\n",
            "kjihgfedcba\n",
            "abcdefghijk\n",
            "acegik\n"
          ]
        }
      ]
    },
    {
      "cell_type": "code",
      "source": [
        "#take a word and print word triangle\n",
        "#ip:amar\n",
        "#op: a\n",
        "     am\n",
        "     ama\n",
        "     amar"
      ],
      "metadata": {
        "id": "Mv-r0s6HhNde"
      },
      "execution_count": null,
      "outputs": []
    },
    {
      "cell_type": "code",
      "source": [
        "word=input(\"Enter a word:\")\n",
        "for i in range(1,len(word)+1):\n",
        "    print(word[:i])"
      ],
      "metadata": {
        "colab": {
          "base_uri": "https://localhost:8080/"
        },
        "id": "Lud93ZZCiTv7",
        "outputId": "537b47b4-838c-4915-c039-94cd3eb94c48"
      },
      "execution_count": null,
      "outputs": [
        {
          "output_type": "stream",
          "name": "stdout",
          "text": [
            "Enter a word:program\n",
            "p\n",
            "pr\n",
            "pro\n",
            "prog\n",
            "progr\n",
            "progra\n",
            "program\n"
          ]
        }
      ]
    },
    {
      "cell_type": "code",
      "source": [],
      "metadata": {
        "id": "OQj-bAK7jbK_"
      },
      "execution_count": null,
      "outputs": []
    },
    {
      "cell_type": "code",
      "source": [
        "word=input(\"Enter a word:\")\n",
        "for i in range(1,len(word)+1):\n",
        "    print(\" \"*(len(word)-i),word[:i])"
      ],
      "metadata": {
        "colab": {
          "base_uri": "https://localhost:8080/"
        },
        "id": "Ongbuj3BjTTo",
        "outputId": "c2475967-a419-4924-bc94-c223a6854d33"
      },
      "execution_count": null,
      "outputs": [
        {
          "output_type": "stream",
          "name": "stdout",
          "text": [
            "Enter a word:amar\n",
            "    a\n",
            "   am\n",
            "  ama\n",
            " amar\n"
          ]
        }
      ]
    },
    {
      "cell_type": "code",
      "source": [
        "word=input(\"Enter a word:\")\n",
        "if word==word[::-1]:\n",
        "    print(\"yes\")\n",
        "else:\n",
        "    print(\"no\")"
      ],
      "metadata": {
        "colab": {
          "base_uri": "https://localhost:8080/"
        },
        "id": "quKtI8rykEtF",
        "outputId": "45560883-f6a0-4782-cd07-07107b18968b"
      },
      "execution_count": null,
      "outputs": [
        {
          "output_type": "stream",
          "name": "stdout",
          "text": [
            "Enter a word:nitinwa\n",
            "no\n"
          ]
        }
      ]
    },
    {
      "cell_type": "code",
      "source": [
        "\"AMAR\" in \"amarendra bahubali\""
      ],
      "metadata": {
        "colab": {
          "base_uri": "https://localhost:8080/"
        },
        "id": "qxVxcShekfVE",
        "outputId": "946fd240-139e-4cb0-955a-af19696ad420"
      },
      "execution_count": null,
      "outputs": [
        {
          "output_type": "execute_result",
          "data": {
            "text/plain": [
              "False"
            ]
          },
          "metadata": {},
          "execution_count": 35
        }
      ]
    },
    {
      "cell_type": "code",
      "source": [
        "s=\"python\"\n",
        "dset=set(s)\n",
        "print(dset)"
      ],
      "metadata": {
        "colab": {
          "base_uri": "https://localhost:8080/"
        },
        "id": "xk8LNeg3lIxt",
        "outputId": "c27089fe-7f60-4337-9895-8feac8e2697e"
      },
      "execution_count": null,
      "outputs": [
        {
          "output_type": "stream",
          "name": "stdout",
          "text": [
            "{'p', 'n', 'o', 'y', 't', 'h'}\n"
          ]
        }
      ]
    },
    {
      "cell_type": "code",
      "source": [
        "word=input(\"Enter a word:\")\n",
        "count=0\n",
        "for c in word:\n",
        "    if c=='a' or c=='e' or c=='i' or c=='o' or c=='u':\n",
        "        count+=1\n",
        "print(\"in\",word,\"we have\",count,\"vowels\")"
      ],
      "metadata": {
        "colab": {
          "base_uri": "https://localhost:8080/"
        },
        "id": "xRw3T4L_mwnM",
        "outputId": "ada2d7e3-50f2-4ae2-8bb7-f8c9c93cfb95"
      },
      "execution_count": null,
      "outputs": [
        {
          "output_type": "stream",
          "name": "stdout",
          "text": [
            "Enter a word:this is a test line to try.\n",
            "in this is a test line to try. we have 7 vowels\n"
          ]
        }
      ]
    },
    {
      "cell_type": "code",
      "source": [
        "s=\"tHis IS tEST fOr Us\""
      ],
      "metadata": {
        "id": "3YMhESignW73"
      },
      "execution_count": null,
      "outputs": []
    },
    {
      "cell_type": "code",
      "source": [
        "s.swapcase()"
      ],
      "metadata": {
        "colab": {
          "base_uri": "https://localhost:8080/",
          "height": 35
        },
        "id": "oakB6d13oNZX",
        "outputId": "8fbb9971-4eed-46b4-e698-069fe57d741d"
      },
      "execution_count": null,
      "outputs": [
        {
          "output_type": "execute_result",
          "data": {
            "text/plain": [
              "'ThIS is Test FoR uS'"
            ],
            "application/vnd.google.colaboratory.intrinsic+json": {
              "type": "string"
            }
          },
          "metadata": {},
          "execution_count": 41
        }
      ]
    },
    {
      "cell_type": "code",
      "source": [
        "s.lower()"
      ],
      "metadata": {
        "colab": {
          "base_uri": "https://localhost:8080/",
          "height": 35
        },
        "id": "2tfCW07dodqn",
        "outputId": "6498062b-e6be-4d58-a588-2e86ebb62b70"
      },
      "execution_count": null,
      "outputs": [
        {
          "output_type": "execute_result",
          "data": {
            "text/plain": [
              "'this is test for us'"
            ],
            "application/vnd.google.colaboratory.intrinsic+json": {
              "type": "string"
            }
          },
          "metadata": {},
          "execution_count": 43
        }
      ]
    },
    {
      "cell_type": "code",
      "source": [
        "s.upper()"
      ],
      "metadata": {
        "colab": {
          "base_uri": "https://localhost:8080/",
          "height": 35
        },
        "id": "s8_kwMM6ogqf",
        "outputId": "3451f25f-b767-4c27-b647-4d6b3aee4f1d"
      },
      "execution_count": null,
      "outputs": [
        {
          "output_type": "execute_result",
          "data": {
            "text/plain": [
              "'THIS IS TEST FOR US'"
            ],
            "application/vnd.google.colaboratory.intrinsic+json": {
              "type": "string"
            }
          },
          "metadata": {},
          "execution_count": 44
        }
      ]
    },
    {
      "cell_type": "code",
      "source": [
        "print(s)"
      ],
      "metadata": {
        "colab": {
          "base_uri": "https://localhost:8080/"
        },
        "id": "o9T06uXfoVWh",
        "outputId": "1301ccb5-b136-4236-b32d-ed6300dfdeb3"
      },
      "execution_count": null,
      "outputs": [
        {
          "output_type": "stream",
          "name": "stdout",
          "text": [
            "tHis IS tEST fOr Us\n"
          ]
        }
      ]
    },
    {
      "cell_type": "code",
      "source": [
        "s"
      ],
      "metadata": {
        "colab": {
          "base_uri": "https://localhost:8080/",
          "height": 35
        },
        "id": "pxp5nUTsoiDU",
        "outputId": "ff83ea0d-3039-4726-a5e9-cfda1e4b57f6"
      },
      "execution_count": null,
      "outputs": [
        {
          "output_type": "execute_result",
          "data": {
            "text/plain": [
              "'tHis IS tEST fOr Us'"
            ],
            "application/vnd.google.colaboratory.intrinsic+json": {
              "type": "string"
            }
          },
          "metadata": {},
          "execution_count": 45
        }
      ]
    },
    {
      "cell_type": "code",
      "source": [
        "s.title()"
      ],
      "metadata": {
        "colab": {
          "base_uri": "https://localhost:8080/",
          "height": 35
        },
        "id": "8NmnnjXnokP6",
        "outputId": "04c54b22-7398-47d7-ab8f-834e927b133f"
      },
      "execution_count": null,
      "outputs": [
        {
          "output_type": "execute_result",
          "data": {
            "text/plain": [
              "'This Is Test For Us'"
            ],
            "application/vnd.google.colaboratory.intrinsic+json": {
              "type": "string"
            }
          },
          "metadata": {},
          "execution_count": 46
        }
      ]
    },
    {
      "cell_type": "code",
      "source": [
        "s.capitalize()"
      ],
      "metadata": {
        "colab": {
          "base_uri": "https://localhost:8080/",
          "height": 35
        },
        "id": "6TQee6-5okc0",
        "outputId": "216365be-c26d-4cfd-e1c2-15b218daa673"
      },
      "execution_count": null,
      "outputs": [
        {
          "output_type": "execute_result",
          "data": {
            "text/plain": [
              "'This is test for us'"
            ],
            "application/vnd.google.colaboratory.intrinsic+json": {
              "type": "string"
            }
          },
          "metadata": {},
          "execution_count": 47
        }
      ]
    },
    {
      "cell_type": "code",
      "source": [
        "s=\"assassination\"\n",
        "s.count('s')"
      ],
      "metadata": {
        "colab": {
          "base_uri": "https://localhost:8080/"
        },
        "id": "k-nIYtKepQgN",
        "outputId": "2710c89f-d047-40fe-a733-8e53d5ffd3c1"
      },
      "execution_count": null,
      "outputs": [
        {
          "output_type": "execute_result",
          "data": {
            "text/plain": [
              "4"
            ]
          },
          "metadata": {},
          "execution_count": 49
        }
      ]
    },
    {
      "cell_type": "code",
      "source": [
        "s=\"assassination\"\n",
        "s.rfind('s')"
      ],
      "metadata": {
        "colab": {
          "base_uri": "https://localhost:8080/"
        },
        "id": "wtbrT-lzpbFW",
        "outputId": "e537cfa6-18a1-4e71-9fcb-3a6cfdfc6c89"
      },
      "execution_count": null,
      "outputs": [
        {
          "output_type": "execute_result",
          "data": {
            "text/plain": [
              "5"
            ]
          },
          "metadata": {},
          "execution_count": 51
        }
      ]
    },
    {
      "cell_type": "code",
      "source": [
        "s.center(30,'*')"
      ],
      "metadata": {
        "colab": {
          "base_uri": "https://localhost:8080/",
          "height": 35
        },
        "id": "Q8IBGp0-q2Ol",
        "outputId": "8886ebfc-29a2-4fd0-99e7-77456c7f620e"
      },
      "execution_count": null,
      "outputs": [
        {
          "output_type": "execute_result",
          "data": {
            "text/plain": [
              "'********assassination*********'"
            ],
            "application/vnd.google.colaboratory.intrinsic+json": {
              "type": "string"
            }
          },
          "metadata": {},
          "execution_count": 54
        }
      ]
    },
    {
      "cell_type": "code",
      "source": [
        "s=\"he came by taxi\"\n",
        "s.replace(\"taxi\",\"ola\")"
      ],
      "metadata": {
        "colab": {
          "base_uri": "https://localhost:8080/",
          "height": 35
        },
        "id": "VEtmpmd5rjPI",
        "outputId": "c11a7955-973a-4826-8b5b-e3997d3716ab"
      },
      "execution_count": null,
      "outputs": [
        {
          "output_type": "execute_result",
          "data": {
            "text/plain": [
              "'he came by ola'"
            ],
            "application/vnd.google.colaboratory.intrinsic+json": {
              "type": "string"
            }
          },
          "metadata": {},
          "execution_count": 55
        }
      ]
    },
    {
      "cell_type": "code",
      "source": [
        "s=\"this is done by me\"\n",
        "s.replace(\" IS\",\" was\")\n",
        "print(s)"
      ],
      "metadata": {
        "colab": {
          "base_uri": "https://localhost:8080/"
        },
        "id": "p6My24iXrqLi",
        "outputId": "c4857ac1-4163-449e-8000-8d5afdd5b643"
      },
      "execution_count": null,
      "outputs": [
        {
          "output_type": "stream",
          "name": "stdout",
          "text": [
            "this is done by me\n"
          ]
        }
      ]
    },
    {
      "cell_type": "code",
      "source": [
        "s=\"     this     is a    test   line\"\n",
        "wordlist=s.split()\n",
        "print(len(wordlist))"
      ],
      "metadata": {
        "colab": {
          "base_uri": "https://localhost:8080/"
        },
        "id": "9JAqwAfqtLGP",
        "outputId": "68ac97da-059d-4364-953e-ec68815e9bd0"
      },
      "execution_count": null,
      "outputs": [
        {
          "output_type": "stream",
          "name": "stdout",
          "text": [
            "5\n"
          ]
        }
      ]
    },
    {
      "cell_type": "code",
      "source": [
        "print(\"Words are:\",len((input(\"Enter line:\")).split()))"
      ],
      "metadata": {
        "colab": {
          "base_uri": "https://localhost:8080/"
        },
        "id": "BfgxogfcurMQ",
        "outputId": "183c249d-f296-468f-e06b-527ce9e09ec7"
      },
      "execution_count": null,
      "outputs": [
        {
          "output_type": "stream",
          "name": "stdout",
          "text": [
            "Enter line:                            this                        is                      test                            \n",
            "Words are: 3\n"
          ]
        }
      ]
    },
    {
      "cell_type": "code",
      "source": [
        "word=input('Enter line :')\n",
        "word=word.lower()\n",
        "count=word.count('a')+word.count('e')+word.count('i')+word.count('o')+word.count('u')\n",
        "print(\"Vowels:\",count)"
      ],
      "metadata": {
        "colab": {
          "base_uri": "https://localhost:8080/"
        },
        "id": "zhUcT-50vJF7",
        "outputId": "a321391d-b718-4c90-f2a7-21233d7c5638"
      },
      "execution_count": null,
      "outputs": [
        {
          "output_type": "stream",
          "name": "stdout",
          "text": [
            "Enter line :THIS IS a Test\n",
            "Vowels: 4\n"
          ]
        }
      ]
    },
    {
      "cell_type": "code",
      "source": [
        "s=\"1,12,123,234\"\n",
        "wlist=s.split(',')\n",
        "wlist"
      ],
      "metadata": {
        "colab": {
          "base_uri": "https://localhost:8080/"
        },
        "id": "aWdqMAtit50G",
        "outputId": "0c63693a-0f28-4b9e-dcf6-04cc8ee2e166"
      },
      "execution_count": null,
      "outputs": [
        {
          "output_type": "execute_result",
          "data": {
            "text/plain": [
              "['1', '12', '123', '234']"
            ]
          },
          "metadata": {},
          "execution_count": 64
        }
      ]
    },
    {
      "cell_type": "code",
      "source": [
        "line=\"this is what was needed to do\" #it is this\n",
        "#create list\n",
        "wlist=line.split()\n",
        "print(\"Word list:\",wlist)\n",
        "#reverse list\n",
        "wlist=wlist[::-1]\n",
        "print(\"Reverse Word list:\",wlist)\n",
        "#add each word of list to rline +\n",
        "rline=\"\"\n",
        "for word in wlist:\n",
        "    rline=rline+\" \"+word\n",
        "    print(rline)\n",
        "#print\n"
      ],
      "metadata": {
        "colab": {
          "base_uri": "https://localhost:8080/"
        },
        "id": "qYrYLBkxw2C7",
        "outputId": "2cb13426-4623-4d44-b039-ffc3c0d7b217"
      },
      "execution_count": null,
      "outputs": [
        {
          "output_type": "stream",
          "name": "stdout",
          "text": [
            "Word list: ['this', 'is', 'what', 'was', 'needed', 'to', 'do']\n",
            "Reverse Word list: ['do', 'to', 'needed', 'was', 'what', 'is', 'this']\n",
            " do\n",
            " do to\n",
            " do to needed\n",
            " do to needed was\n",
            " do to needed was what\n",
            " do to needed was what is\n",
            " do to needed was what is this\n"
          ]
        }
      ]
    },
    {
      "cell_type": "code",
      "source": [
        "line=input(\"Enter names:\")\n",
        "nlist=line.split()\n",
        "c=202300\n",
        "nlist.sort()\n",
        "for i in nlist:\n",
        "    c+=1\n",
        "    print(\"E_id:\",c,\"Name:\",i)"
      ],
      "metadata": {
        "colab": {
          "base_uri": "https://localhost:8080/"
        },
        "id": "pgj6g8Vazb9P",
        "outputId": "8bf4aa9d-6404-4191-f806-4f0717370ee8"
      },
      "execution_count": null,
      "outputs": [
        {
          "output_type": "stream",
          "name": "stdout",
          "text": [
            "Enter names:xxxx aaaa www fff ggg  bbb jjj tt rrr eeee\n",
            "E_id: 202301 Name: aaaa\n",
            "E_id: 202302 Name: bbb\n",
            "E_id: 202303 Name: eeee\n",
            "E_id: 202304 Name: fff\n",
            "E_id: 202305 Name: ggg\n",
            "E_id: 202306 Name: jjj\n",
            "E_id: 202307 Name: rrr\n",
            "E_id: 202308 Name: tt\n",
            "E_id: 202309 Name: www\n",
            "E_id: 202310 Name: xxxx\n"
          ]
        }
      ]
    },
    {
      "cell_type": "code",
      "source": [
        "# count frequency of each word in a line of string\n",
        "line=input(\"Enter a line:\")\n",
        "wlist=line.split()\n",
        "for w in wlist:\n",
        "    print(w)"
      ],
      "metadata": {
        "colab": {
          "base_uri": "https://localhost:8080/"
        },
        "id": "luRn_POA9cUH",
        "outputId": "bb71a5d9-9494-4f5a-9820-25be78874706"
      },
      "execution_count": null,
      "outputs": [
        {
          "output_type": "stream",
          "name": "stdout",
          "text": [
            "Enter a line:this is is this line is\n",
            "this\n",
            "is\n",
            "is\n",
            "this\n",
            "line\n",
            "is\n"
          ]
        }
      ]
    },
    {
      "cell_type": "code",
      "source": [
        "# count frequency of each word in a line of string\n",
        "line=input(\"Enter a line:\")\n",
        "wlist=set(line.split())\n",
        "for w in wlist:\n",
        "    print(w)"
      ],
      "metadata": {
        "colab": {
          "base_uri": "https://localhost:8080/"
        },
        "id": "GeTJwRrz9-iM",
        "outputId": "adb12600-eb0d-4732-c355-b445a7614187"
      },
      "execution_count": null,
      "outputs": [
        {
          "output_type": "stream",
          "name": "stdout",
          "text": [
            "Enter a line:this is is this line is\n",
            "this\n",
            "is\n",
            "line\n"
          ]
        }
      ]
    },
    {
      "cell_type": "code",
      "source": [
        "# count frequency of each word in a line of string\n",
        "line=input(\"Enter a line:\")\n",
        "wlist=line.split()\n",
        "ulist=sorted(set(line.split()))\n",
        "for w in ulist:\n",
        "    print(w,\":\",wlist.count(w))"
      ],
      "metadata": {
        "colab": {
          "base_uri": "https://localhost:8080/"
        },
        "id": "u0I0TFKt9-sQ",
        "outputId": "95e0ef1d-52bd-49a9-9a73-834e2498231f"
      },
      "execution_count": null,
      "outputs": [
        {
          "output_type": "stream",
          "name": "stdout",
          "text": [
            "Enter a line:this is is this line is\n",
            "is : 3\n",
            "line : 1\n",
            "this : 2\n"
          ]
        }
      ]
    },
    {
      "cell_type": "code",
      "source": [
        "line=\"this is so good so is to is is is\"\n",
        "#world list\n",
        "wlist=line.split()\n",
        "print(\"Word List:\",wlist)\n",
        "finallist=[]\n",
        "#keep 1st occurance and eliminate other\n",
        "for i in wlist:\n",
        "    if i not in finallist:\n",
        "        finallist.append(i)\n",
        "        print(i,\"added\")\n",
        "    else:\n",
        "        print(i,\"rejected\")\n",
        "print(finallist)\n",
        "\n"
      ],
      "metadata": {
        "colab": {
          "base_uri": "https://localhost:8080/"
        },
        "id": "Xcy6Kmgr_bsZ",
        "outputId": "54d30bea-66f3-4df0-c769-1bb6e68a697b"
      },
      "execution_count": null,
      "outputs": [
        {
          "output_type": "stream",
          "name": "stdout",
          "text": [
            "Word List: ['this', 'is', 'so', 'good', 'so', 'is', 'to', 'is', 'is', 'is']\n",
            "this added\n",
            "is added\n",
            "so added\n",
            "good added\n",
            "so rejected\n",
            "is rejected\n",
            "to added\n",
            "is rejected\n",
            "is rejected\n",
            "is rejected\n",
            "['this', 'is', 'so', 'good', 'to']\n"
          ]
        }
      ]
    },
    {
      "cell_type": "code",
      "source": [
        "word=input(\"Enter a word\")\n",
        "wlist=[]\n",
        "#wordlist\n",
        "for i in word:\n",
        "    wlist.append(i)\n",
        "for i in range(0,len(word)):\n",
        "    t=wlist.pop(0)\n",
        "    wlist.append(t)\n",
        "    w=\"\"\n",
        "    for j in wlist:\n",
        "        w+=j\n",
        "    print(\"pass\",i,\":\",w)\n"
      ],
      "metadata": {
        "colab": {
          "base_uri": "https://localhost:8080/"
        },
        "id": "0zkizUmMGnco",
        "outputId": "1cbb34a6-0a3f-40df-b740-db5e30f19c70"
      },
      "execution_count": null,
      "outputs": [
        {
          "output_type": "stream",
          "name": "stdout",
          "text": [
            "Enter a wordindia\n",
            "pass 0 : ndiai\n",
            "pass 1 : diain\n",
            "pass 2 : iaind\n",
            "pass 3 : aindi\n",
            "pass 4 : india\n"
          ]
        }
      ]
    },
    {
      "cell_type": "code",
      "source": [
        "#ord():returns ascii \n",
        "#chr():converts ascii to char"
      ],
      "metadata": {
        "id": "LUh72jZvJUUk"
      },
      "execution_count": null,
      "outputs": []
    },
    {
      "cell_type": "code",
      "source": [
        "ord(\"a\")"
      ],
      "metadata": {
        "colab": {
          "base_uri": "https://localhost:8080/"
        },
        "id": "0ggTSd04JpdG",
        "outputId": "f3063e84-ed86-4b03-90c2-e6a865a9100b"
      },
      "execution_count": null,
      "outputs": [
        {
          "output_type": "execute_result",
          "data": {
            "text/plain": [
              "97"
            ]
          },
          "metadata": {},
          "execution_count": 101
        }
      ]
    },
    {
      "cell_type": "code",
      "source": [
        "chr(97+1)"
      ],
      "metadata": {
        "colab": {
          "base_uri": "https://localhost:8080/",
          "height": 35
        },
        "id": "2-bcDEGTJruk",
        "outputId": "dbfde5b7-8c23-4fb7-b3d8-ad6f891e56c3"
      },
      "execution_count": null,
      "outputs": [
        {
          "output_type": "execute_result",
          "data": {
            "text/plain": [
              "'b'"
            ],
            "application/vnd.google.colaboratory.intrinsic+json": {
              "type": "string"
            }
          },
          "metadata": {},
          "execution_count": 102
        }
      ]
    },
    {
      "cell_type": "code",
      "source": [
        "for i in range(97,(97+26)):\n",
        "    print(chr(i),\":\",i)"
      ],
      "metadata": {
        "colab": {
          "base_uri": "https://localhost:8080/"
        },
        "id": "8rjP9SajKutr",
        "outputId": "d43ec1f1-6822-4039-ecad-766ca23470da"
      },
      "execution_count": null,
      "outputs": [
        {
          "output_type": "stream",
          "name": "stdout",
          "text": [
            "a : 97\n",
            "b : 98\n",
            "c : 99\n",
            "d : 100\n",
            "e : 101\n",
            "f : 102\n",
            "g : 103\n",
            "h : 104\n",
            "i : 105\n",
            "j : 106\n",
            "k : 107\n",
            "l : 108\n",
            "m : 109\n",
            "n : 110\n",
            "o : 111\n",
            "p : 112\n",
            "q : 113\n",
            "r : 114\n",
            "s : 115\n",
            "t : 116\n",
            "u : 117\n",
            "v : 118\n",
            "w : 119\n",
            "x : 120\n",
            "y : 121\n",
            "z : 122\n"
          ]
        }
      ]
    },
    {
      "cell_type": "code",
      "source": [
        "start=input(\"Enter start:\")\n",
        "end=input(\"Enter end:\")\n",
        "for i in range(ord(start),ord(end)+1):\n",
        "    print(chr(i),\"--->\",i)"
      ],
      "metadata": {
        "colab": {
          "base_uri": "https://localhost:8080/"
        },
        "id": "PXXAnYsTL0ob",
        "outputId": "a01be5ac-d3a8-4e9d-d6bc-62a3a5d05e16"
      },
      "execution_count": null,
      "outputs": [
        {
          "output_type": "stream",
          "name": "stdout",
          "text": [
            "Enter start:E\n",
            "Enter end:J\n",
            "E ---> 69\n",
            "F ---> 70\n",
            "G ---> 71\n",
            "H ---> 72\n",
            "I ---> 73\n",
            "J ---> 74\n"
          ]
        }
      ]
    },
    {
      "cell_type": "code",
      "source": [
        "line1 =\"aaa ccc eee ggg hhh iii jjj kkk\"\n",
        "line2 =\"bbb ddd fff \"\n",
        "wlist1=line1.split()\n",
        "wlist2=line2.split()\n",
        "print(wlist1)\n",
        "print(wlist2)\n",
        "line3=\"\"\n",
        "i=0\n",
        "j=0\n",
        "while i<len(wlist1) or j<len(wlist2):\n",
        "    if i<len(wlist1):\n",
        "        line3=line3+\" \"+wlist1[i]\n",
        "        i+=1\n",
        "    if j<len(wlist2):\n",
        "        line3=line3+\" \"+wlist2[j]\n",
        "        j+=1\n",
        "\n",
        "print(line3)\n",
        "#line3=\"hi this how is are how you it is\"\n"
      ],
      "metadata": {
        "colab": {
          "base_uri": "https://localhost:8080/"
        },
        "id": "w2tDfr10MOF5",
        "outputId": "a496cc84-f083-46e1-b4ad-bcdad53c8c77"
      },
      "execution_count": null,
      "outputs": [
        {
          "output_type": "stream",
          "name": "stdout",
          "text": [
            "['aaa', 'ccc', 'eee', 'ggg', 'hhh', 'iii', 'jjj', 'kkk']\n",
            "['bbb', 'ddd', 'fff']\n",
            " aaa bbb ccc ddd eee fff ggg hhh iii jjj kkk\n"
          ]
        }
      ]
    },
    {
      "cell_type": "code",
      "source": [
        "l1=[1,2,3,4]\n",
        "l2=['aa','bb','cc','dd']\n",
        "dll={}\n",
        "for i in range(len(l1)):\n",
        "    dll[l1[i]]=l2[i]\n",
        "print(dll)"
      ],
      "metadata": {
        "colab": {
          "base_uri": "https://localhost:8080/"
        },
        "id": "8W_ejnBGUbFZ",
        "outputId": "15841cc7-f950-421c-9164-0e34f79054cb"
      },
      "execution_count": null,
      "outputs": [
        {
          "output_type": "stream",
          "name": "stdout",
          "text": [
            "{1: 'aa', 2: 'bb', 3: 'cc', 4: 'dd'}\n"
          ]
        }
      ]
    },
    {
      "cell_type": "code",
      "source": [
        "dll2={10:\"aaa\",33:\"er\"}\n",
        "dll2.update(dll)\n",
        "print(dll2)"
      ],
      "metadata": {
        "colab": {
          "base_uri": "https://localhost:8080/"
        },
        "id": "6FHMtweGVJxf",
        "outputId": "fde10b69-dbaa-4551-d12e-4446566a4491"
      },
      "execution_count": null,
      "outputs": [
        {
          "output_type": "stream",
          "name": "stdout",
          "text": [
            "{10: 'aaa', 33: 'er', 1: 'aa', 2: 'bb', 3: 'cc', 4: 'dd'}\n"
          ]
        }
      ]
    },
    {
      "cell_type": "code",
      "source": [
        "todel=[1,33,4]\n",
        "for i in todel:\n",
        "    print(\"Deleted:\",dll2.pop(i))\n",
        "print(dll2)\n"
      ],
      "metadata": {
        "colab": {
          "base_uri": "https://localhost:8080/"
        },
        "id": "3utAOPkRVgqN",
        "outputId": "6c40ad53-9312-4f06-9d65-a2ccf2213dc3"
      },
      "execution_count": null,
      "outputs": [
        {
          "output_type": "stream",
          "name": "stdout",
          "text": [
            "Deleted: aa\n",
            "Deleted: er\n",
            "Deleted: dd\n",
            "{10: 'aaa', 2: 'bb', 3: 'cc'}\n"
          ]
        }
      ]
    },
    {
      "cell_type": "code",
      "source": [
        "d={\"m1\":77,\"m2\":67,\"m3\":97,\"m4\":87,\"m5\":7,\"m6\":47}\n",
        "keys=d.keys()\n",
        "print(keys)\n",
        "max=0\n",
        "sub=''\n",
        "for i in keys:\n",
        "    if d[i]>max:\n",
        "        max=d[i]\n",
        "        sub=i\n",
        "print(\"Best subject:\",sub)\n",
        "\n"
      ],
      "metadata": {
        "colab": {
          "base_uri": "https://localhost:8080/"
        },
        "id": "_KI7p_ENWO1N",
        "outputId": "b6421ee0-e240-4112-e9c1-52b7105287eb"
      },
      "execution_count": null,
      "outputs": [
        {
          "output_type": "stream",
          "name": "stdout",
          "text": [
            "dict_keys(['m1', 'm2', 'm3', 'm4', 'm5', 'm6'])\n",
            "Best subject: m3\n"
          ]
        }
      ]
    },
    {
      "cell_type": "code",
      "source": [
        "d={\"m1\":77,\"m2\":67,\"m3\":97,\"m4\":87,\"m5\":7,\"m6\":47}\n",
        "max(d.values())"
      ],
      "metadata": {
        "colab": {
          "base_uri": "https://localhost:8080/",
          "height": 183
        },
        "id": "ZRzAW9oqX8ZT",
        "outputId": "bbbdb33a-b42a-4487-bc2d-a0479e15028e"
      },
      "execution_count": null,
      "outputs": [
        {
          "output_type": "error",
          "ename": "TypeError",
          "evalue": "ignored",
          "traceback": [
            "\u001b[0;31m---------------------------------------------------------------------------\u001b[0m",
            "\u001b[0;31mTypeError\u001b[0m                                 Traceback (most recent call last)",
            "\u001b[0;32m<ipython-input-129-3cf5c8b4f242>\u001b[0m in \u001b[0;36m<cell line: 2>\u001b[0;34m()\u001b[0m\n\u001b[1;32m      1\u001b[0m \u001b[0md\u001b[0m\u001b[0;34m=\u001b[0m\u001b[0;34m{\u001b[0m\u001b[0;34m\"m1\"\u001b[0m\u001b[0;34m:\u001b[0m\u001b[0;36m77\u001b[0m\u001b[0;34m,\u001b[0m\u001b[0;34m\"m2\"\u001b[0m\u001b[0;34m:\u001b[0m\u001b[0;36m67\u001b[0m\u001b[0;34m,\u001b[0m\u001b[0;34m\"m3\"\u001b[0m\u001b[0;34m:\u001b[0m\u001b[0;36m97\u001b[0m\u001b[0;34m,\u001b[0m\u001b[0;34m\"m4\"\u001b[0m\u001b[0;34m:\u001b[0m\u001b[0;36m87\u001b[0m\u001b[0;34m,\u001b[0m\u001b[0;34m\"m5\"\u001b[0m\u001b[0;34m:\u001b[0m\u001b[0;36m7\u001b[0m\u001b[0;34m,\u001b[0m\u001b[0;34m\"m6\"\u001b[0m\u001b[0;34m:\u001b[0m\u001b[0;36m47\u001b[0m\u001b[0;34m}\u001b[0m\u001b[0;34m\u001b[0m\u001b[0;34m\u001b[0m\u001b[0m\n\u001b[0;32m----> 2\u001b[0;31m \u001b[0mmax\u001b[0m\u001b[0;34m(\u001b[0m\u001b[0md\u001b[0m\u001b[0;34m.\u001b[0m\u001b[0mvalues\u001b[0m\u001b[0;34m(\u001b[0m\u001b[0;34m)\u001b[0m\u001b[0;34m)\u001b[0m\u001b[0;34m\u001b[0m\u001b[0;34m\u001b[0m\u001b[0m\n\u001b[0m",
            "\u001b[0;31mTypeError\u001b[0m: 'int' object is not callable"
          ]
        }
      ]
    }
  ]
}