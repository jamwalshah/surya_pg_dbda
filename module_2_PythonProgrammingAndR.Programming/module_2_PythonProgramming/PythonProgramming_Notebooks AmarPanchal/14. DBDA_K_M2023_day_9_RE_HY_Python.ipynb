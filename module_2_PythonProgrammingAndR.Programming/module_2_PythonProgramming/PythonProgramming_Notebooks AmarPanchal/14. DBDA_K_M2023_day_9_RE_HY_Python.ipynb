{
  "nbformat": 4,
  "nbformat_minor": 0,
  "metadata": {
    "colab": {
      "provenance": []
    },
    "kernelspec": {
      "name": "python3",
      "display_name": "Python 3"
    }
  },
  "cells": [
    {
      "cell_type": "code",
      "metadata": {
        "id": "6cXiroUVh3aZ",
        "colab": {
          "base_uri": "https://localhost:8080/"
        },
        "outputId": "a2029241-0c51-4952-c735-f6ae41a8092c"
      },
      "source": [
        "\n",
        "log='''192.168.198.92 - - [22/Jan/2002:23:08:37 -0400] \"GET \n",
        "   / HTTP/1.1\" 200 6394 www.yahoo.com \n",
        "   \"-\" \"Mozilla/4.0 (compatible; MSIE 6.0; Windows NT 5.1...)\" \"-\"\n",
        "192.168.198.92 - - [22/Mar/2002:23:08:38 -0400] \"GET \n",
        "   /images/logo.gif HTTP/1.1\" 200 807 www.yahoo.com \n",
        "   \"http://www.some.com/\" \"Mozilla/4.0 (compatible; MSIE 6...)\" \"-\"\n",
        "192.168.72.177 - - [22/Jun/2002:23:32:14 -0400] \"GET \n",
        "   /news/sports.html HTTP/1.1\" 200 3500 www.yahoo.com \n",
        "   \"http://www.some.com/\" \"Mozilla/4.0 (compatible; MSIE ...)\" \"-\"\n",
        "192.168.72.177 - - [22/Jul/2002:23:32:14 -0400] \"GET \n",
        "   /favicon.ico HTTP/1.1\" 404 1997 www.yahoo.com \n",
        "   \"-\" \"Mozilla/5.0 (Windows; U; Windows NT 5.1; rv:1.7.3)...\" \"-\"\n",
        "192.168.72.177 - - [22/Aug/2002:23:32:15 -0400] \"GET \n",
        "   /style.css HTTP/1.1\" 200 4138 www.yahoo.com \n",
        "   \"http://www.yahoo.com/index.html\" \"Mozilla/5.0 (Windows...\" \"-\"\n",
        "192.168.72.177 - - [22/Dec/2002:23:32:16 -0400] \"GET \n",
        "   /js/ads.js HTTP/1.1\" 200 10229 www.yahoo.com \n",
        "   \"http://www.search.com/index.html\" \"Mozilla/5.0 (Windows...\" \"-\"\n",
        "192.168.72.177 - - [22/Dec/2002:23:32:19 -0400] \"GET \n",
        "   /search.php HTTP/1.1\" 400 1997 www.yahoo.com \n",
        "   \"-\" \"Mozilla/4.0 (compatible; MSIE 6.0; Windows NT 5.1; ...)\" \"-\"'''\n",
        "p=\"\\d+\\.\\d+\\.\\d+\\.\\d+\"\n",
        "pdate=p=\"\\d+/\\w{3}/\\d+\"\n",
        "pwebsite=\"\\w{4}\\:+\\/\\/+\\w{3}\\.+\\w*\\.+\\w*\"\n",
        "list=re.findall(pwebsite,log)\n",
        "print(list)"
      ],
      "execution_count": null,
      "outputs": [
        {
          "output_type": "stream",
          "name": "stdout",
          "text": [
            "['http://www.some.com', 'http://www.some.com', 'http://www.yahoo.com', 'http://www.search.com']\n"
          ]
        }
      ]
    },
    {
      "cell_type": "code",
      "metadata": {
        "id": "wncKrRa-jdZJ"
      },
      "source": [],
      "execution_count": null,
      "outputs": []
    },
    {
      "cell_type": "code",
      "metadata": {
        "id": "la47b7P3lToD"
      },
      "source": [
        "import re\n",
        "log='''192.168.198.92 - - [22/Dec/2002:23:08:37 -0400] \"GET \n",
        "   / HTTP/1.1\" 200 6394 www.yahoo.com \n",
        "   \"-\" \"Mozilla/4.0 (compatible; MSIE 6.0; Windows NT 5.1...)\" \"-\"\n",
        "192.168.198.92 - - [22/Dec/2002:23:08:38 -0400] \"GET \n",
        "   /images/logo.gif HTTP/1.1\" 200 807 www.yahoo.com \n",
        "   \"http://www.some.com/\" \"Mozilla/4.0 (compatible; MSIE 6...)\" \"-\"\n",
        "192.168.72.177 - - [22/Dec/2002:23:32:14 -0400] \"GET \n",
        "   /news/sports.html HTTP/1.1\" 200 3500 www.yahoo.com \n",
        "   \"http://www.some.com/\" \"Mozilla/4.0 (compatible; MSIE ...)\" \"-\"\n",
        "192.168.72.177 - - [22/Dec/2002:23:32:14 -0400] \"GET \n",
        "   /favicon.ico HTTP/1.1\" 404 1997 www.yahoo.com \n",
        "   \"-\" \"Mozilla/5.0 (Windows; U; Windows NT 5.1; rv:1.7.3)...\" \"-\"\n",
        "192.168.72.177 - - [22/Dec/2002:23:32:15 -0400] \"GET \n",
        "   /style.css HTTP/1.1\" 200 4138 www.yahoo.com \n",
        "   \"http://www.yahoo.com/index.html\" \"Mozilla/5.0 (Windows...\" \"-\"\n",
        "192.168.72.177 - - [22/Dec/2002:23:32:16 -0400] \"GET \n",
        "   /js/ads.js HTTP/1.1\" 200 10229 www.yahoo.com \n",
        "   \"http://www.search.com/index.html\" \"Mozilla/5.0 (Windows...\" \"-\"\n",
        "192.168.72.177 - - [22/Dec/2002:23:32:19 -0400] \"GET \n",
        "   /search.php HTTP/1.1\" 400 1997 www.yahoo.com \n",
        "   \"-\" \"Mozilla/4.0 (compatible; MSIE 6.0; Windows NT 5.1; ...)\" \"-\"'''\n"
      ],
      "execution_count": null,
      "outputs": []
    },
    {
      "cell_type": "code",
      "metadata": {
        "id": "Wah_E6Tq5jh_"
      },
      "source": [
        "import re\n",
        "data=\"mail:amartohelp@yahoo.com +91-022-9821601163 mail:amartechno@yahoo.com +91-011-9899887766 mail:champa.chameli@gmail.com +91-033-8899776655\"\n",
        "pip=\"^(mail:)\"\n",
        "listed=re.findall(pip,data)\n",
        "print(listed)"
      ],
      "execution_count": null,
      "outputs": []
    },
    {
      "cell_type": "markdown",
      "source": [
        "# **validation done through RE**"
      ],
      "metadata": {
        "id": "Z_ubzkn6cYjk"
      }
    },
    {
      "cell_type": "code",
      "metadata": {
        "id": "1mwxxk07U0zp",
        "colab": {
          "base_uri": "https://localhost:8080/"
        },
        "outputId": "2a1de87c-a843-4ced-e0f8-abfc3caa1861"
      },
      "source": [
        "import re\n",
        "p=\"[a-z]\"\n",
        "p2=\"\\d\"\n",
        "i=input(\"Enter data to check:\")\n",
        "if re.search(p2,i):\n",
        "  print(\"yes\")\n",
        "else:\n",
        "  print(\"no\")\n"
      ],
      "execution_count": null,
      "outputs": [
        {
          "output_type": "stream",
          "name": "stdout",
          "text": [
            "Enter data to check:23456789\n",
            "yes\n"
          ]
        }
      ]
    },
    {
      "cell_type": "code",
      "metadata": {
        "id": "wTgcb1nKVpw7",
        "colab": {
          "base_uri": "https://localhost:8080/"
        },
        "outputId": "2f8989d7-ef0e-4150-d88b-29dd3015ad09"
      },
      "source": [
        "import re\n",
        "p=\"[a-zA-Z0-9]\"\n",
        "i=input(\"Enter data to check:\")\n",
        "if re.search(p,i):\n",
        "  print(\"yes\")\n",
        "else:\n",
        "  print(\"no\")\n"
      ],
      "execution_count": null,
      "outputs": [
        {
          "output_type": "stream",
          "name": "stdout",
          "text": [
            "Enter data to check:@#$%$^&*()_\n",
            "no\n"
          ]
        }
      ]
    },
    {
      "cell_type": "code",
      "metadata": {
        "id": "GR9G84I2VNeV",
        "colab": {
          "base_uri": "https://localhost:8080/"
        },
        "outputId": "22c17549-4046-4ea1-e32c-8b7a7f9eff8d"
      },
      "source": [
        "import re\n",
        "p=\"(com|co|in|man)\"\n",
        "i=input(\"Enter data to check:\")\n",
        "if re.search(p,i):\n",
        "  print(\"yes\")\n",
        "else:\n",
        "  print(\"no\")"
      ],
      "execution_count": null,
      "outputs": [
        {
          "output_type": "stream",
          "name": "stdout",
          "text": [
            "Enter data to check:AMAR.COM\n",
            "no\n"
          ]
        }
      ]
    },
    {
      "cell_type": "code",
      "metadata": {
        "id": "jp3uxsY5Wj6Q",
        "colab": {
          "base_uri": "https://localhost:8080/"
        },
        "outputId": "f514a775-3683-4186-85e0-88b7635062f4"
      },
      "source": [
        "import re\n",
        "p=\"[a-zA-Z0-9]+\\w.\"\n",
        "i=input(\"Enter data to check:\")\n",
        "if re.search(p,i):\n",
        "  print(\"yes\")\n",
        "else:\n",
        "  print(\"no\")\n"
      ],
      "execution_count": null,
      "outputs": [
        {
          "output_type": "stream",
          "name": "stdout",
          "text": [
            "Enter data to check:asdf123%^&*(\n",
            "no\n"
          ]
        }
      ]
    },
    {
      "cell_type": "code",
      "metadata": {
        "id": "cnTMbTEiWwSs",
        "colab": {
          "base_uri": "https://localhost:8080/"
        },
        "outputId": "8ecadedd-da50-40dd-aa20-c32d878adbee"
      },
      "source": [
        "import re\n",
        "p=\"[0-9]+\\.+[0-9]+\\.[0-9]+\\.+[0-9]\"#IP 0-9 0 TO 9 DIGIT\n",
        "i=input(\"Enter data to check:\")\n",
        "if re.search(p,i):\n",
        "  print(\"yes\")\n",
        "else:\n",
        "  print(\"no\")\n"
      ],
      "execution_count": null,
      "outputs": [
        {
          "output_type": "stream",
          "name": "stdout",
          "text": [
            "Enter data to check:123.12.34.45\n",
            "yes\n"
          ]
        }
      ]
    },
    {
      "cell_type": "code",
      "metadata": {
        "id": "pUzXGyT3XcH3",
        "colab": {
          "base_uri": "https://localhost:8080/"
        },
        "outputId": "83d73e81-0473-4b59-e3a8-303077fc61ec"
      },
      "source": [
        "#email\n",
        "p=\"[a-zA-Z0-9]+\\@+[a-zA-Z]+\\.+[a-zA-Z]\"#email\n",
        "i=input(\"Enter data to check:\")\n",
        "if re.search(p,i):\n",
        "  print(\"yes\")\n",
        "else:\n",
        "  print(\"no\")"
      ],
      "execution_count": null,
      "outputs": [
        {
          "output_type": "stream",
          "name": "stdout",
          "text": [
            "Enter data to check:AMAR@PANCHAL.COM\n",
            "yes\n"
          ]
        }
      ]
    },
    {
      "cell_type": "code",
      "metadata": {
        "id": "b26LBtG-q07d",
        "colab": {
          "base_uri": "https://localhost:8080/"
        },
        "outputId": "2959d2aa-203a-436c-ca9a-9b3d6423b9c2"
      },
      "source": [
        "p=\"\\d{10}\"#mobile 0-10 DIGITS\n",
        "i=input(\"Enter data to check:\")\n",
        "if re.search(p,i):\n",
        "  print(\"yes\")\n",
        "else:\n",
        "  print(\"no\")"
      ],
      "execution_count": null,
      "outputs": [
        {
          "output_type": "stream",
          "name": "stdout",
          "text": [
            "Enter data to check:98745\n",
            "no\n"
          ]
        }
      ]
    },
    {
      "cell_type": "code",
      "metadata": {
        "id": "nG4r4L16z5Vx",
        "colab": {
          "base_uri": "https://localhost:8080/"
        },
        "outputId": "a7eeca05-81b8-446f-b81f-3fe9f041346e"
      },
      "source": [
        "p=\"^\\d{2}\"#start with2 digits\n",
        "i=input(\"Enter data to check:\")\n",
        "if re.search(p,i):\n",
        "  print(\"yes\")\n",
        "else:\n",
        "  print(\"no\")"
      ],
      "execution_count": null,
      "outputs": [
        {
          "output_type": "stream",
          "name": "stdout",
          "text": [
            "Enter data to check:12AMAR\n",
            "yes\n"
          ]
        }
      ]
    },
    {
      "cell_type": "code",
      "metadata": {
        "id": "dUZYrKFD0Oc3",
        "colab": {
          "base_uri": "https://localhost:8080/"
        },
        "outputId": "b1d22f6f-3321-429d-ac3d-875389a727a2"
      },
      "source": [
        "p=\"\\d{2}$\"#end with 2 digits\n",
        "i=input(\"Enter data to check:\")\n",
        "if re.search(p,i):\n",
        "  print(\"yes\")\n",
        "else:\n",
        "  print(\"no\")"
      ],
      "execution_count": null,
      "outputs": [
        {
          "output_type": "stream",
          "name": "stdout",
          "text": [
            "Enter data to check:AMAR007\n",
            "yes\n"
          ]
        }
      ]
    },
    {
      "cell_type": "code",
      "metadata": {
        "id": "4E4YID06ZH7P",
        "colab": {
          "base_uri": "https://localhost:8080/"
        },
        "outputId": "872c5499-2b9c-4e7c-a317-59ee759b190a"
      },
      "source": [
        "p=\"\\+(\\d\\d)-(\\d\\d\\d)-(\\d\\d\\d\\d\\d\\d\\d\\d\\d\\d)\"\n",
        "newp=r\"Area:\\1\\2\\3\"#r raw string\n",
        "i=input(\"Enter data to check:\")\n",
        "newi=re.sub(p,newp,i)\n",
        "print(\"Final Result:\",newi)"
      ],
      "execution_count": null,
      "outputs": [
        {
          "output_type": "stream",
          "name": "stdout",
          "text": [
            "Enter data to check:+91-022-2357890123\n",
            "Final Result: Area:910222357890123\n"
          ]
        }
      ]
    },
    {
      "cell_type": "markdown",
      "source": [
        "# **Extract**"
      ],
      "metadata": {
        "id": "03TIJ45mfzji"
      }
    },
    {
      "cell_type": "code",
      "metadata": {
        "id": "mqpPeRaOzwRC",
        "colab": {
          "base_uri": "https://localhost:8080/"
        },
        "outputId": "879c7154-4abb-4969-c9bb-628f29920488"
      },
      "source": [
        "p=\"[\\d]+\"#word seprated \n",
        "i=input(\"Enter data to check:\")\n",
        "data=re.findall(p,i)\n",
        "print(\"Final Result:\",data)"
      ],
      "execution_count": null,
      "outputs": [
        {
          "output_type": "stream",
          "name": "stdout",
          "text": [
            "Enter data to check:AMAR HIS NUMBER IS 9821601163 CALL HIM AT ONCE\n",
            "Final Result: ['9821601163']\n"
          ]
        }
      ]
    },
    {
      "cell_type": "code",
      "metadata": {
        "id": "wd_UMULKz1Cx"
      },
      "source": [],
      "execution_count": null,
      "outputs": []
    },
    {
      "cell_type": "code",
      "metadata": {
        "id": "-g3RQFDAkGj3",
        "colab": {
          "base_uri": "https://localhost:8080/"
        },
        "outputId": "7f53cdd7-1d84-4340-ac91-c7326ced4440"
      },
      "source": [
        "p=\"\\+(\\d{2})-(\\d{3})-(\\d{10})\"\n",
        "newp=r\"Country:\\1 Area:\\2 Number\\3\"#r raw string\n",
        "i=input(\"Enter data to check:\")\n",
        "newi=re.sub(p,newp,i)\n",
        "print(\"Final Result:\",newi)"
      ],
      "execution_count": null,
      "outputs": [
        {
          "output_type": "stream",
          "name": "stdout",
          "text": [
            "Enter data to check:+91-022-9876543210\n",
            "Final Result: Country:91 Area:022 Number9876543210\n"
          ]
        }
      ]
    }
  ]
}