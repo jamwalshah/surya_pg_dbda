{
  "nbformat": 4,
  "nbformat_minor": 0,
  "metadata": {
    "colab": {
      "provenance": []
    },
    "kernelspec": {
      "name": "python3",
      "display_name": "Python 3"
    },
    "language_info": {
      "name": "python"
    }
  },
  "cells": [
    {
      "cell_type": "code",
      "metadata": {
        "colab": {
          "base_uri": "https://localhost:8080/",
          "height": 270
        },
        "id": "rBiAPbrzofNc",
        "outputId": "710cad68-14c9-4d79-849c-bc8bdbbea803"
      },
      "source": [
        "#we only trappiong error not what type\n",
        "a=int(input(\"Enter a number:\"))\n",
        "b=int(input(\"Enter other number:\"))\n",
        "c=a/b\n",
        "print (\"C is\",c)\n",
        "print(\"Code is running\")\n",
        "print(\"coded by amarpanchal.education\")"
      ],
      "execution_count": null,
      "outputs": [
        {
          "name": "stdout",
          "output_type": "stream",
          "text": [
            "Enter a number:9\n",
            "Enter other number:0\n"
          ]
        },
        {
          "output_type": "error",
          "ename": "ZeroDivisionError",
          "evalue": "ignored",
          "traceback": [
            "\u001b[0;31m---------------------------------------------------------------------------\u001b[0m",
            "\u001b[0;31mZeroDivisionError\u001b[0m                         Traceback (most recent call last)",
            "\u001b[0;32m<ipython-input-2-6614323db412>\u001b[0m in \u001b[0;36m<cell line: 4>\u001b[0;34m()\u001b[0m\n\u001b[1;32m      2\u001b[0m \u001b[0ma\u001b[0m\u001b[0;34m=\u001b[0m\u001b[0mint\u001b[0m\u001b[0;34m(\u001b[0m\u001b[0minput\u001b[0m\u001b[0;34m(\u001b[0m\u001b[0;34m\"Enter a number:\"\u001b[0m\u001b[0;34m)\u001b[0m\u001b[0;34m)\u001b[0m\u001b[0;34m\u001b[0m\u001b[0;34m\u001b[0m\u001b[0m\n\u001b[1;32m      3\u001b[0m \u001b[0mb\u001b[0m\u001b[0;34m=\u001b[0m\u001b[0mint\u001b[0m\u001b[0;34m(\u001b[0m\u001b[0minput\u001b[0m\u001b[0;34m(\u001b[0m\u001b[0;34m\"Enter other number:\"\u001b[0m\u001b[0;34m)\u001b[0m\u001b[0;34m)\u001b[0m\u001b[0;34m\u001b[0m\u001b[0;34m\u001b[0m\u001b[0m\n\u001b[0;32m----> 4\u001b[0;31m \u001b[0mc\u001b[0m\u001b[0;34m=\u001b[0m\u001b[0ma\u001b[0m\u001b[0;34m/\u001b[0m\u001b[0mb\u001b[0m\u001b[0;34m\u001b[0m\u001b[0;34m\u001b[0m\u001b[0m\n\u001b[0m\u001b[1;32m      5\u001b[0m \u001b[0mprint\u001b[0m \u001b[0;34m(\u001b[0m\u001b[0;34m\"C is\"\u001b[0m\u001b[0;34m,\u001b[0m\u001b[0mc\u001b[0m\u001b[0;34m)\u001b[0m\u001b[0;34m\u001b[0m\u001b[0;34m\u001b[0m\u001b[0m\n\u001b[1;32m      6\u001b[0m \u001b[0mprint\u001b[0m\u001b[0;34m(\u001b[0m\u001b[0;34m\"Code is running\"\u001b[0m\u001b[0;34m)\u001b[0m\u001b[0;34m\u001b[0m\u001b[0;34m\u001b[0m\u001b[0m\n",
            "\u001b[0;31mZeroDivisionError\u001b[0m: division by zero"
          ]
        }
      ]
    },
    {
      "cell_type": "code",
      "metadata": {
        "colab": {
          "base_uri": "https://localhost:8080/"
        },
        "id": "gx5IacVPo-Ll",
        "outputId": "1e554ea4-1a9a-42d7-dc95-1737b59ea868"
      },
      "source": [
        "#we only trappiong error not what type\n",
        "try:\n",
        "    a=int(input(\"Enter a number:\"))\n",
        "    b=int(input(\"Enter other number:\"))\n",
        "    c=a/b\n",
        "except Exception:\n",
        "    print(\"Exception\")\n",
        "else:\n",
        "    print (\"C is\",c)\n",
        "finally:\n",
        "    print(\"by Amar sir\")\n",
        "#part of code after handling exception\n",
        "print(\"still code is running\")"
      ],
      "execution_count": null,
      "outputs": [
        {
          "output_type": "stream",
          "name": "stdout",
          "text": [
            "Enter a number:amar\n",
            "Exception\n",
            "by Amar sir\n",
            "still code is running\n"
          ]
        }
      ]
    },
    {
      "cell_type": "code",
      "metadata": {
        "colab": {
          "base_uri": "https://localhost:8080/"
        },
        "id": "s2SGEjdQrjCe",
        "outputId": "a10dbb39-9272-4718-a4f1-26a1a31c7487"
      },
      "source": [
        "#we only trappiong error not what type\n",
        "try:\n",
        "    a=int(input(\"Enter a number:\"))\n",
        "    b=int(input(\"Enter other number:\"))\n",
        "    c=a/b\n",
        "except Exception as arg:\n",
        "    print(\"Exception:\",arg)\n",
        "else:\n",
        "    print (\"C is\",c)\n",
        "finally:\n",
        "    print(\"by Amar sir\")\n",
        "print(\"End of code\")\n",
        "print(\"bye\")"
      ],
      "execution_count": null,
      "outputs": [
        {
          "output_type": "stream",
          "name": "stdout",
          "text": [
            "Enter a number:9\n",
            "Enter other number:amar\n",
            "Exception: invalid literal for int() with base 10: 'amar'\n",
            "by Amar sir\n",
            "End of code\n",
            "bye\n"
          ]
        }
      ]
    },
    {
      "cell_type": "code",
      "metadata": {
        "id": "Lt1Mh4cpoZCg",
        "colab": {
          "base_uri": "https://localhost:8080/"
        },
        "outputId": "7b2ab11c-69c8-4aca-f12d-491af337e270"
      },
      "source": [
        "#we only trappiong error not what type\n",
        "try:\n",
        "    a=int(input(\"Enter a number:\"))\n",
        "    b=int(input(\"Enter other number:\"))\n",
        "    c=a/b\n",
        "    print (\"C is\",c)\n",
        "except Exception as arg:\n",
        "    print(\"Exception:\",arg)\n",
        "finally:\n",
        "    print(\"by Amar sir\")\n",
        "print(\"code continues\")\n",
        "print(\"remaining code continues\")"
      ],
      "execution_count": null,
      "outputs": [
        {
          "output_type": "stream",
          "name": "stdout",
          "text": [
            "Enter a number:a\n",
            "Exception: invalid literal for int() with base 10: 'a'\n",
            "by Amar sir\n",
            "code continues\n",
            "remaining code continues\n"
          ]
        }
      ]
    },
    {
      "cell_type": "code",
      "source": [
        "#we only trappiong error not what type\n",
        "try:\n",
        "    a=int(input(\"Enter a number:\"))\n",
        "    b=int(input(\"Enter other number:\"))\n",
        "    c=a/b\n",
        "    print (\"C is\",c)\n",
        "except Exception as arg:\n",
        "    print(\"Exception:\",arg)\n",
        "\n",
        "print(\"remaining code\")\n"
      ],
      "metadata": {
        "colab": {
          "base_uri": "https://localhost:8080/"
        },
        "id": "5wGD_Sc1zP0n",
        "outputId": "b3052e0b-47c2-4229-9c17-4292ade1b11b"
      },
      "execution_count": null,
      "outputs": [
        {
          "output_type": "stream",
          "name": "stdout",
          "text": [
            "Enter a number:9\n",
            "Enter other number:0\n",
            "Exception: division by zero\n",
            "remaining code\n"
          ]
        }
      ]
    },
    {
      "cell_type": "code",
      "source": [
        "#we only trappiong error not what type\n",
        "try:\n",
        "    a=int(input(\"Enter a number:\"))\n",
        "    b=int(input(\"Enter other number:\"))\n",
        "    c=a/b\n",
        "    print (\"C is\",c)\n",
        "finally:\n",
        "    print(\"Finally executed\")\n",
        "print(\"Remaining code to run\")\n"
      ],
      "metadata": {
        "colab": {
          "base_uri": "https://localhost:8080/",
          "height": 287
        },
        "id": "ov0d92yA0llq",
        "outputId": "209d2fd1-f11e-44e6-f026-4b0fc52f393a"
      },
      "execution_count": null,
      "outputs": [
        {
          "output_type": "stream",
          "name": "stdout",
          "text": [
            "Enter a number:7\n",
            "Enter other number:0\n",
            "Finally executed\n"
          ]
        },
        {
          "output_type": "error",
          "ename": "ZeroDivisionError",
          "evalue": "ignored",
          "traceback": [
            "\u001b[0;31m---------------------------------------------------------------------------\u001b[0m",
            "\u001b[0;31mZeroDivisionError\u001b[0m                         Traceback (most recent call last)",
            "\u001b[0;32m<ipython-input-12-89977058e79f>\u001b[0m in \u001b[0;36m<cell line: 2>\u001b[0;34m()\u001b[0m\n\u001b[1;32m      3\u001b[0m     \u001b[0ma\u001b[0m\u001b[0;34m=\u001b[0m\u001b[0mint\u001b[0m\u001b[0;34m(\u001b[0m\u001b[0minput\u001b[0m\u001b[0;34m(\u001b[0m\u001b[0;34m\"Enter a number:\"\u001b[0m\u001b[0;34m)\u001b[0m\u001b[0;34m)\u001b[0m\u001b[0;34m\u001b[0m\u001b[0;34m\u001b[0m\u001b[0m\n\u001b[1;32m      4\u001b[0m     \u001b[0mb\u001b[0m\u001b[0;34m=\u001b[0m\u001b[0mint\u001b[0m\u001b[0;34m(\u001b[0m\u001b[0minput\u001b[0m\u001b[0;34m(\u001b[0m\u001b[0;34m\"Enter other number:\"\u001b[0m\u001b[0;34m)\u001b[0m\u001b[0;34m)\u001b[0m\u001b[0;34m\u001b[0m\u001b[0;34m\u001b[0m\u001b[0m\n\u001b[0;32m----> 5\u001b[0;31m     \u001b[0mc\u001b[0m\u001b[0;34m=\u001b[0m\u001b[0ma\u001b[0m\u001b[0;34m/\u001b[0m\u001b[0mb\u001b[0m\u001b[0;34m\u001b[0m\u001b[0;34m\u001b[0m\u001b[0m\n\u001b[0m\u001b[1;32m      6\u001b[0m     \u001b[0mprint\u001b[0m \u001b[0;34m(\u001b[0m\u001b[0;34m\"C is\"\u001b[0m\u001b[0;34m,\u001b[0m\u001b[0mc\u001b[0m\u001b[0;34m)\u001b[0m\u001b[0;34m\u001b[0m\u001b[0;34m\u001b[0m\u001b[0m\n\u001b[1;32m      7\u001b[0m \u001b[0;32mfinally\u001b[0m\u001b[0;34m:\u001b[0m\u001b[0;34m\u001b[0m\u001b[0;34m\u001b[0m\u001b[0m\n",
            "\u001b[0;31mZeroDivisionError\u001b[0m: division by zero"
          ]
        }
      ]
    },
    {
      "cell_type": "code",
      "source": [
        "class AgeException(Exception):\n",
        "    def __init__(self,data):\n",
        "        self.data=data\n",
        "    def __str__(self): \n",
        "        return \"Exception : \"+str(self.data)+\" Under 18\"\n",
        "\n",
        "try:\n",
        "    n=int(input(\"Enter age : \"))\n",
        "    if n>=18:\n",
        "      print(\"You can vote, your age is \",n)\n",
        "    else:\n",
        "      raise AgeException(n)\n",
        "except Exception as msg:\n",
        "    print(msg)"
      ],
      "metadata": {
        "id": "9AyPxdDrwZCk",
        "colab": {
          "base_uri": "https://localhost:8080/"
        },
        "outputId": "2204fe98-1661-4e43-f56c-022cb7be45e9"
      },
      "execution_count": null,
      "outputs": [
        {
          "output_type": "stream",
          "name": "stdout",
          "text": [
            "Enter age : 23\n",
            "You can vote, your age is  23\n"
          ]
        }
      ]
    }
  ]
}