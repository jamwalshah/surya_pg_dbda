{
  "nbformat": 4,
  "nbformat_minor": 0,
  "metadata": {
    "colab": {
      "provenance": []
    },
    "kernelspec": {
      "name": "python3",
      "display_name": "Python 3"
    },
    "language_info": {
      "name": "python"
    }
  },
  "cells": [
    {
      "cell_type": "code",
      "execution_count": null,
      "metadata": {
        "id": "-U1D0tR8_-xE"
      },
      "outputs": [],
      "source": [
        "import numpy as np"
      ]
    },
    {
      "cell_type": "code",
      "source": [
        "m=np.array([[10,20,30,40],[23,34,45,55]])"
      ],
      "metadata": {
        "id": "ZaL21eI_AzpT"
      },
      "execution_count": null,
      "outputs": []
    },
    {
      "cell_type": "code",
      "source": [
        "m.size"
      ],
      "metadata": {
        "colab": {
          "base_uri": "https://localhost:8080/"
        },
        "id": "U6isgENhCiyE",
        "outputId": "29d7e9e0-73a3-4384-8941-3478bd19e557"
      },
      "execution_count": null,
      "outputs": [
        {
          "output_type": "execute_result",
          "data": {
            "text/plain": [
              "2"
            ]
          },
          "metadata": {},
          "execution_count": 25
        }
      ]
    },
    {
      "cell_type": "code",
      "source": [
        "print(m)"
      ],
      "metadata": {
        "colab": {
          "base_uri": "https://localhost:8080/"
        },
        "id": "pWiFMQhKBEjj",
        "outputId": "213925fb-9325-430d-b881-3ee45a0a0f1b"
      },
      "execution_count": null,
      "outputs": [
        {
          "output_type": "stream",
          "name": "stdout",
          "text": [
            "[list([5, 10, 20, 30, 40]) list([23, 34, 45, 55])]\n"
          ]
        }
      ]
    },
    {
      "cell_type": "code",
      "source": [
        "m.shape"
      ],
      "metadata": {
        "colab": {
          "base_uri": "https://localhost:8080/"
        },
        "id": "Ul9bededBLQg",
        "outputId": "5ab731e4-077b-456d-a0d1-7aab3ef1fcf2"
      },
      "execution_count": null,
      "outputs": [
        {
          "output_type": "execute_result",
          "data": {
            "text/plain": [
              "(2,)"
            ]
          },
          "metadata": {},
          "execution_count": 19
        }
      ]
    },
    {
      "cell_type": "code",
      "source": [
        "m.ndim"
      ],
      "metadata": {
        "colab": {
          "base_uri": "https://localhost:8080/"
        },
        "id": "5N8X1rgSCBkZ",
        "outputId": "6b4162de-1899-43a9-f164-d8d23ecbf8b2"
      },
      "execution_count": null,
      "outputs": [
        {
          "output_type": "execute_result",
          "data": {
            "text/plain": [
              "1"
            ]
          },
          "metadata": {},
          "execution_count": 20
        }
      ]
    },
    {
      "cell_type": "code",
      "source": [
        "m=np.array([[10,20,30,40],[23,34,45,55]])"
      ],
      "metadata": {
        "id": "A7hJqxn_DAA3"
      },
      "execution_count": null,
      "outputs": []
    },
    {
      "cell_type": "code",
      "source": [
        "m[0][2]"
      ],
      "metadata": {
        "colab": {
          "base_uri": "https://localhost:8080/"
        },
        "id": "q1XlK8agDA6E",
        "outputId": "75d8141a-519e-45b9-8406-288d895a3cf0"
      },
      "execution_count": null,
      "outputs": [
        {
          "output_type": "execute_result",
          "data": {
            "text/plain": [
              "30"
            ]
          },
          "metadata": {},
          "execution_count": 28
        }
      ]
    },
    {
      "cell_type": "code",
      "source": [
        "m=np.array([[11,22,33,44],[55,66,77,88],[99,111,222,333]])\n",
        "print(m)"
      ],
      "metadata": {
        "colab": {
          "base_uri": "https://localhost:8080/"
        },
        "id": "HloB99yuDNe3",
        "outputId": "d972ea18-fc3a-4be7-a6d5-aca51e8639ac"
      },
      "execution_count": null,
      "outputs": [
        {
          "output_type": "stream",
          "name": "stdout",
          "text": [
            "[[ 11  22  33  44]\n",
            " [ 55  66  77  88]\n",
            " [ 99 111 222 333]]\n"
          ]
        }
      ]
    },
    {
      "cell_type": "code",
      "source": [
        "#slice [start:end:step]\n",
        "m[0:2,0:2]\n",
        "m[1:3,2:4]"
      ],
      "metadata": {
        "colab": {
          "base_uri": "https://localhost:8080/"
        },
        "id": "AwmywoIXDZeH",
        "outputId": "9d02bd92-4d6c-4335-a1f4-c58f86de7168"
      },
      "execution_count": null,
      "outputs": [
        {
          "output_type": "execute_result",
          "data": {
            "text/plain": [
              "array([[ 77,  88],\n",
              "       [222, 333]])"
            ]
          },
          "metadata": {},
          "execution_count": 36
        }
      ]
    },
    {
      "cell_type": "code",
      "source": [
        "m=np.array([[11,22,33,44],[55,66,77,88],[99,111,222,333]])\n",
        "for i in m:\n",
        "    print(i)"
      ],
      "metadata": {
        "colab": {
          "base_uri": "https://localhost:8080/"
        },
        "id": "HQdOsomEEOxf",
        "outputId": "e2765801-d2f5-4611-fc7d-bab5bcf3699d"
      },
      "execution_count": null,
      "outputs": [
        {
          "output_type": "stream",
          "name": "stdout",
          "text": [
            "[11 22 33 44]\n",
            "[55 66 77 88]\n",
            "[ 99 111 222 333]\n"
          ]
        }
      ]
    },
    {
      "cell_type": "code",
      "source": [
        "len(m[0])"
      ],
      "metadata": {
        "colab": {
          "base_uri": "https://localhost:8080/"
        },
        "id": "fZOMU8NzEUAO",
        "outputId": "1a53cdb2-8c66-496e-84b8-3baf29d155fa"
      },
      "execution_count": null,
      "outputs": [
        {
          "output_type": "execute_result",
          "data": {
            "text/plain": [
              "4"
            ]
          },
          "metadata": {},
          "execution_count": 40
        }
      ]
    },
    {
      "cell_type": "code",
      "source": [
        "m=np.array([[11,22,33,44],[55,66,77,88],[99,111,222,333]])\n",
        "for sublist in m:\n",
        "    for element in sublist:\n",
        "        print(j)"
      ],
      "metadata": {
        "colab": {
          "base_uri": "https://localhost:8080/"
        },
        "id": "-j1VSOWfFLub",
        "outputId": "1430f100-6be4-4b27-a0ac-43e9303bbdac"
      },
      "execution_count": null,
      "outputs": [
        {
          "output_type": "stream",
          "name": "stdout",
          "text": [
            "11\n",
            "22\n",
            "33\n",
            "44\n",
            "55\n",
            "66\n",
            "77\n",
            "88\n",
            "99\n",
            "111\n",
            "222\n",
            "333\n"
          ]
        }
      ]
    },
    {
      "cell_type": "code",
      "source": [
        "for i in np.nditer(m[::]):\n",
        "    print(i)"
      ],
      "metadata": {
        "colab": {
          "base_uri": "https://localhost:8080/"
        },
        "id": "uia4lkKvFcK3",
        "outputId": "4911f4e6-40ac-4b6e-9130-cb4c5db8e897"
      },
      "execution_count": null,
      "outputs": [
        {
          "output_type": "stream",
          "name": "stdout",
          "text": [
            "11\n",
            "22\n",
            "33\n",
            "44\n",
            "55\n",
            "66\n",
            "77\n",
            "88\n",
            "99\n",
            "111\n",
            "222\n",
            "333\n"
          ]
        }
      ]
    },
    {
      "cell_type": "code",
      "source": [
        "m=np.arange(1,13)\n",
        "print(m)"
      ],
      "metadata": {
        "colab": {
          "base_uri": "https://localhost:8080/"
        },
        "id": "Qo9JIkLLFyGb",
        "outputId": "02759976-7fa4-4ac3-82c5-364f0b946eab"
      },
      "execution_count": null,
      "outputs": [
        {
          "output_type": "stream",
          "name": "stdout",
          "text": [
            "[ 1  2  3  4  5  6  7  8  9 10 11 12]\n"
          ]
        }
      ]
    },
    {
      "cell_type": "code",
      "source": [
        "m.reshape(3,4)"
      ],
      "metadata": {
        "colab": {
          "base_uri": "https://localhost:8080/"
        },
        "id": "izUYSnQKGFCH",
        "outputId": "c85adea8-d4ae-4145-acac-c4417f7b7815"
      },
      "execution_count": null,
      "outputs": [
        {
          "output_type": "execute_result",
          "data": {
            "text/plain": [
              "array([[ 1,  2,  3,  4],\n",
              "       [ 5,  6,  7,  8],\n",
              "       [ 9, 10, 11, 12]])"
            ]
          },
          "metadata": {},
          "execution_count": 49
        }
      ]
    },
    {
      "cell_type": "code",
      "source": [
        "m=np.arange(1,24,2).reshape(3,4)\n",
        "print(m)"
      ],
      "metadata": {
        "colab": {
          "base_uri": "https://localhost:8080/"
        },
        "id": "zPSClaiZGKJN",
        "outputId": "336051a7-fb3d-40b0-a253-fcc04260cd98"
      },
      "execution_count": null,
      "outputs": [
        {
          "output_type": "stream",
          "name": "stdout",
          "text": [
            "[[ 1  3  5  7]\n",
            " [ 9 11 13 15]\n",
            " [17 19 21 23]]\n"
          ]
        }
      ]
    },
    {
      "cell_type": "code",
      "source": [
        "m=np.linspace(1,12,4)\n",
        "print(m)"
      ],
      "metadata": {
        "colab": {
          "base_uri": "https://localhost:8080/"
        },
        "id": "76ZYr9gXHR2S",
        "outputId": "4caf127c-7d00-46c4-e86b-997c56576c9f"
      },
      "execution_count": null,
      "outputs": [
        {
          "output_type": "stream",
          "name": "stdout",
          "text": [
            "[ 1.          4.66666667  8.33333333 12.        ]\n"
          ]
        }
      ]
    },
    {
      "cell_type": "code",
      "source": [
        "from numpy import random"
      ],
      "metadata": {
        "id": "arkjfb5GIJQ7"
      },
      "execution_count": null,
      "outputs": []
    },
    {
      "cell_type": "code",
      "source": [
        "print(random.randint(6))"
      ],
      "metadata": {
        "colab": {
          "base_uri": "https://localhost:8080/"
        },
        "id": "gTTAsrHMIPv2",
        "outputId": "16bffce6-bfd0-49dc-a387-a3fde56cbec0"
      },
      "execution_count": null,
      "outputs": [
        {
          "output_type": "stream",
          "name": "stdout",
          "text": [
            "4\n"
          ]
        }
      ]
    },
    {
      "cell_type": "code",
      "source": [
        "m1=np.arange(1,11).reshape(5,2)"
      ],
      "metadata": {
        "id": "O_p016pwLQAd"
      },
      "execution_count": null,
      "outputs": []
    },
    {
      "cell_type": "code",
      "source": [
        "m2=np.arange(101,111).reshape(5,2)"
      ],
      "metadata": {
        "id": "R8OPnCG5Lbkc"
      },
      "execution_count": null,
      "outputs": []
    },
    {
      "cell_type": "code",
      "source": [
        "m2"
      ],
      "metadata": {
        "colab": {
          "base_uri": "https://localhost:8080/"
        },
        "id": "ufjq4YA7Llc3",
        "outputId": "53d0c8dd-7b78-4803-f004-4cba48683d07"
      },
      "execution_count": null,
      "outputs": [
        {
          "output_type": "execute_result",
          "data": {
            "text/plain": [
              "array([[101, 102],\n",
              "       [103, 104],\n",
              "       [105, 106],\n",
              "       [107, 108],\n",
              "       [109, 110]])"
            ]
          },
          "metadata": {},
          "execution_count": 92
        }
      ]
    },
    {
      "cell_type": "code",
      "source": [
        "m1"
      ],
      "metadata": {
        "colab": {
          "base_uri": "https://localhost:8080/"
        },
        "id": "2j-XwX1oLXIb",
        "outputId": "088c2f9e-1af3-45e4-a4d2-665eac01a957"
      },
      "execution_count": null,
      "outputs": [
        {
          "output_type": "execute_result",
          "data": {
            "text/plain": [
              "array([[ 1,  2],\n",
              "       [ 3,  4],\n",
              "       [ 5,  6],\n",
              "       [ 7,  8],\n",
              "       [ 9, 10]])"
            ]
          },
          "metadata": {},
          "execution_count": 89
        }
      ]
    },
    {
      "cell_type": "code",
      "source": [
        "m3=m1*m2\n",
        "print(m3)"
      ],
      "metadata": {
        "colab": {
          "base_uri": "https://localhost:8080/"
        },
        "id": "LSJBWtiOLqvd",
        "outputId": "c71b96d2-2221-4392-e3f6-a5c3235098d6"
      },
      "execution_count": null,
      "outputs": [
        {
          "output_type": "stream",
          "name": "stdout",
          "text": [
            "[[ 101  204]\n",
            " [ 309  416]\n",
            " [ 525  636]\n",
            " [ 749  864]\n",
            " [ 981 1100]]\n"
          ]
        }
      ]
    },
    {
      "cell_type": "code",
      "source": [
        "m=random.randint(1,50,size=(5,5))"
      ],
      "metadata": {
        "id": "5oUC0AQCL8-V"
      },
      "execution_count": null,
      "outputs": []
    },
    {
      "cell_type": "code",
      "source": [
        "m"
      ],
      "metadata": {
        "colab": {
          "base_uri": "https://localhost:8080/"
        },
        "id": "lyMp9gIyMV5a",
        "outputId": "419cffd3-5c47-448c-b4c1-8dc571e091fb"
      },
      "execution_count": null,
      "outputs": [
        {
          "output_type": "execute_result",
          "data": {
            "text/plain": [
              "array([[ 9, 36, 47, 26, 38],\n",
              "       [27, 13, 15,  6,  8],\n",
              "       [45,  8, 33,  9,  6],\n",
              "       [47, 13, 14, 49, 43],\n",
              "       [36,  1, 42, 17, 30]])"
            ]
          },
          "metadata": {},
          "execution_count": 97
        }
      ]
    },
    {
      "cell_type": "code",
      "source": [
        "v=np.where(m>=30)\n",
        "print(v)#list of x,y indexes that satisfies condition\n",
        "row=v[0]\n",
        "column=v[1]\n",
        "i=0\n",
        "j=0\n",
        "'''while i<len(row):\n",
        "    print(m[row[i]][column[j]])\n",
        "    i+=1\n",
        "    j+=1'''\n",
        "print(m[v])\n",
        "\n"
      ],
      "metadata": {
        "colab": {
          "base_uri": "https://localhost:8080/"
        },
        "id": "M3Pgx2ezM_UN",
        "outputId": "69172fd4-0b8e-42cd-ff63-c2f712d07eaf"
      },
      "execution_count": null,
      "outputs": [
        {
          "output_type": "stream",
          "name": "stdout",
          "text": [
            "(array([0, 0, 0, 2, 2, 3, 3, 3, 4, 4, 4]), array([1, 2, 4, 0, 2, 0, 3, 4, 0, 2, 4]))\n",
            "[36 47 38 45 33 47 49 43 36 42 30]\n"
          ]
        }
      ]
    },
    {
      "cell_type": "code",
      "source": [
        "np.sort(m,axis=1)"
      ],
      "metadata": {
        "colab": {
          "base_uri": "https://localhost:8080/"
        },
        "id": "e9CC--wqMYg4",
        "outputId": "49219a65-6f35-410a-8704-ee847152cdb2"
      },
      "execution_count": null,
      "outputs": [
        {
          "output_type": "execute_result",
          "data": {
            "text/plain": [
              "array([[ 9, 26, 36, 38, 47],\n",
              "       [ 6,  8, 13, 15, 27],\n",
              "       [ 6,  8,  9, 33, 45],\n",
              "       [13, 14, 43, 47, 49],\n",
              "       [ 1, 17, 30, 36, 42]])"
            ]
          },
          "metadata": {},
          "execution_count": 101
        }
      ]
    },
    {
      "cell_type": "markdown",
      "source": [],
      "metadata": {
        "id": "mxJlf2OhNdRX"
      }
    },
    {
      "cell_type": "code",
      "source": [
        "print(random.randint(100,size=(6,6)))"
      ],
      "metadata": {
        "colab": {
          "base_uri": "https://localhost:8080/"
        },
        "id": "fQz96ClrI70k",
        "outputId": "232345a1-1802-4810-cdfd-e5ed3aa90e47"
      },
      "execution_count": null,
      "outputs": [
        {
          "output_type": "stream",
          "name": "stdout",
          "text": [
            "[[79 60 62 95 62 13]\n",
            " [37 22 77 12 45 76]\n",
            " [74  8 33 30 61 13]\n",
            " [84 51 11 13 27 71]\n",
            " [96 24 27 95 78 20]\n",
            " [78 89 28 64 52 68]]\n"
          ]
        }
      ]
    },
    {
      "cell_type": "code",
      "source": [
        "random.choice([\"aa\",\"bb\",\"cc\",\"dd\",\"ee\",\"ff\",\"gg\",\"hh\",\"ii\",\"jj\"],size=(5,6))"
      ],
      "metadata": {
        "colab": {
          "base_uri": "https://localhost:8080/"
        },
        "id": "V8ThTxIKKU0L",
        "outputId": "f0c504d2-dc44-4938-c782-06a6d47062d0"
      },
      "execution_count": null,
      "outputs": [
        {
          "output_type": "execute_result",
          "data": {
            "text/plain": [
              "array([['bb', 'ff', 'aa', 'bb', 'ee', 'jj'],\n",
              "       ['ee', 'ff', 'gg', 'ee', 'bb', 'bb'],\n",
              "       ['aa', 'ii', 'jj', 'ee', 'jj', 'aa'],\n",
              "       ['ii', 'jj', 'dd', 'gg', 'bb', 'hh'],\n",
              "       ['aa', 'hh', 'bb', 'aa', 'hh', 'bb']], dtype='<U2')"
            ]
          },
          "metadata": {},
          "execution_count": 83
        }
      ]
    },
    {
      "cell_type": "code",
      "source": [
        "random.rand(4,5)"
      ],
      "metadata": {
        "colab": {
          "base_uri": "https://localhost:8080/"
        },
        "id": "Gec6afmZK8AN",
        "outputId": "a7193ff3-e806-469c-fd32-ee4bf9f3f45f"
      },
      "execution_count": null,
      "outputs": [
        {
          "output_type": "execute_result",
          "data": {
            "text/plain": [
              "array([[0.26104029, 0.33938805, 0.29752417, 0.2415673 , 0.27554654],\n",
              "       [0.3706542 , 0.63524279, 0.25098316, 0.51751413, 0.76313298],\n",
              "       [0.73220043, 0.9419517 , 0.15459737, 0.08894959, 0.21994607],\n",
              "       [0.52008014, 0.43017862, 0.52989846, 0.29018098, 0.12581306]])"
            ]
          },
          "metadata": {},
          "execution_count": 85
        }
      ]
    }
  ]
}