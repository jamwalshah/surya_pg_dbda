{
  "nbformat": 4,
  "nbformat_minor": 0,
  "metadata": {
    "colab": {
      "provenance": [],
      "toc_visible": true
    },
    "kernelspec": {
      "name": "python3",
      "display_name": "Python 3"
    },
    "language_info": {
      "name": "python"
    }
  },
  "cells": [
    {
      "cell_type": "markdown",
      "source": [
        "# chi square distribution\n",
        "1. goodness of fit - one variable\n",
        "2. degree of association - two variable"
      ],
      "metadata": {
        "id": "WHhwks8F5BS4"
      }
    },
    {
      "cell_type": "markdown",
      "source": [
        "## goodness of fit test - one variable\n",
        "- one variable, different categories\n",
        "- based on \"Pattern\" of frequencies of data\n",
        "- e.g.: student qualification- B.Tech., B.Sc. B.Com., etc."
      ],
      "metadata": {
        "id": "LIPbqYkx6jNq"
      }
    },
    {
      "cell_type": "code",
      "execution_count": null,
      "metadata": {
        "id": "djOhfrYj49wh"
      },
      "outputs": [],
      "source": [
        "import numpy as np\n",
        "import pandas as pd\n",
        "import scipy\n",
        "from scipy import stats\n",
        "from scipy.stats import chisquare"
      ]
    },
    {
      "cell_type": "code",
      "source": [
        "pattern = np.array([0.6, 0.25, 0.1, 0.05])\n",
        "# creating an array to define the pattern of observations"
      ],
      "metadata": {
        "id": "OtVdaAGO65gr"
      },
      "execution_count": null,
      "outputs": []
    },
    {
      "cell_type": "code",
      "source": [
        "sum(pattern)\n",
        "# sum need to be necessarily as 1.0 as all of the\n",
        "# elements in array are probabilities"
      ],
      "metadata": {
        "colab": {
          "base_uri": "https://localhost:8080/"
        },
        "id": "2I3Ndrtr7RdY",
        "outputId": "7dbb94f8-33f2-40a1-9364-d95f83e7134f"
      },
      "execution_count": null,
      "outputs": [
        {
          "output_type": "execute_result",
          "data": {
            "text/plain": [
              "1.0"
            ]
          },
          "metadata": {},
          "execution_count": 4
        }
      ]
    },
    {
      "cell_type": "code",
      "source": [
        "obs_counts = np.array([250, 180, 120, 40])\n",
        "# array of actual counts\n",
        "# need to check if actual counts follow the pattern\n",
        "obs_counts"
      ],
      "metadata": {
        "colab": {
          "base_uri": "https://localhost:8080/"
        },
        "id": "6SEvgD1M7S26",
        "outputId": "dcdfdbbf-7b55-4241-c948-5f5ec5dcc384"
      },
      "execution_count": null,
      "outputs": [
        {
          "output_type": "execute_result",
          "data": {
            "text/plain": [
              "array([250, 180, 120,  40])"
            ]
          },
          "metadata": {},
          "execution_count": 8
        }
      ]
    },
    {
      "cell_type": "markdown",
      "source": [
        "- H 0 : counts from the sample follow the pattern"
      ],
      "metadata": {
        "id": "SN28MQrO7zE8"
      }
    },
    {
      "cell_type": "code",
      "source": [
        "sum(obs_counts)\n",
        "# sum of actual observations"
      ],
      "metadata": {
        "colab": {
          "base_uri": "https://localhost:8080/"
        },
        "id": "iuCQxIJQ7kBu",
        "outputId": "84488edf-da39-41d9-cb89-5839b0dd8265"
      },
      "execution_count": null,
      "outputs": [
        {
          "output_type": "execute_result",
          "data": {
            "text/plain": [
              "590"
            ]
          },
          "metadata": {},
          "execution_count": 6
        }
      ]
    },
    {
      "cell_type": "code",
      "source": [
        "exp_counts = 590 * pattern\n",
        "# using ndarray broadcasting to calculate the expected counts as per pattern\n",
        "exp_counts"
      ],
      "metadata": {
        "colab": {
          "base_uri": "https://localhost:8080/"
        },
        "id": "QGBrLb0U79e8",
        "outputId": "d62c150e-4e6e-4a2e-e771-8b295097f808"
      },
      "execution_count": null,
      "outputs": [
        {
          "output_type": "execute_result",
          "data": {
            "text/plain": [
              "array([354. , 147.5,  59. ,  29.5])"
            ]
          },
          "metadata": {},
          "execution_count": 7
        }
      ]
    },
    {
      "cell_type": "code",
      "source": [
        "scipy.stats.chisquare(obs_counts, exp_counts)\n",
        "# P-value is less than 0.05 , so 'H 0' is rejected and action is required\n",
        "# actual/observation counts does not follow the expected counts\n",
        "\n",
        "# Power_divergenceResult(statistic=104.51977401129943, pvalue=1.657508756495914e-22)\n",
        "# here P-value is nearing zero"
      ],
      "metadata": {
        "colab": {
          "base_uri": "https://localhost:8080/"
        },
        "id": "g-URyLem8YGV",
        "outputId": "8cea03a3-1d31-418e-aff1-b2bd733aee4e"
      },
      "execution_count": null,
      "outputs": [
        {
          "output_type": "execute_result",
          "data": {
            "text/plain": [
              "Power_divergenceResult(statistic=104.51977401129943, pvalue=1.657508756495914e-22)"
            ]
          },
          "metadata": {},
          "execution_count": 9
        }
      ]
    },
    {
      "cell_type": "markdown",
      "source": [
        "### Note:\n",
        "- we can't rely on visual representation or practical significance and say that Null Hypothesis (H 0) is rejected, we have to check whether the difference is due to chance variation (check for statistical significance) by using stastical tools"
      ],
      "metadata": {
        "id": "sxmW602M9v51"
      }
    },
    {
      "cell_type": "markdown",
      "source": [
        "### ANOVA Test vs. Goodness of Fit test\n",
        "- ANOVA test is for continuous data\n",
        "- Goodness of fit test is for discrete data"
      ],
      "metadata": {
        "id": "fUhYpAMgFdDJ"
      }
    },
    {
      "cell_type": "code",
      "source": [
        "d = obs_counts - exp_counts\n",
        "# manually finding the deviation of obs_counts from exp_counts\n",
        "d"
      ],
      "metadata": {
        "colab": {
          "base_uri": "https://localhost:8080/"
        },
        "id": "jK1Kmv2J8o7z",
        "outputId": "819b72f0-a68b-45f9-ae30-95c0320b5ce3"
      },
      "execution_count": null,
      "outputs": [
        {
          "output_type": "execute_result",
          "data": {
            "text/plain": [
              "array([-104. ,   32.5,   61. ,   10.5])"
            ]
          },
          "metadata": {},
          "execution_count": 10
        }
      ]
    },
    {
      "cell_type": "code",
      "source": [
        "c = d**2 / exp_counts\n",
        "# manually finding variation of obs_counts\n",
        "c"
      ],
      "metadata": {
        "colab": {
          "base_uri": "https://localhost:8080/"
        },
        "id": "i_B4-Rmw-hdq",
        "outputId": "b3a082d4-5bfb-42e4-f691-98a59ff7c8a2"
      },
      "execution_count": null,
      "outputs": [
        {
          "output_type": "execute_result",
          "data": {
            "text/plain": [
              "array([30.55367232,  7.16101695, 63.06779661,  3.73728814])"
            ]
          },
          "metadata": {},
          "execution_count": 11
        }
      ]
    },
    {
      "cell_type": "code",
      "source": [
        "sum(c)\n",
        "# calculates test Statistic\n",
        "# staistically difference between observed 120 and expected 59 is significant"
      ],
      "metadata": {
        "colab": {
          "base_uri": "https://localhost:8080/"
        },
        "id": "9aMASRVS_BcX",
        "outputId": "1e41d3a2-c75e-4040-fe7c-ffa558b50d32"
      },
      "execution_count": null,
      "outputs": [
        {
          "output_type": "execute_result",
          "data": {
            "text/plain": [
              "104.51977401129943"
            ]
          },
          "metadata": {},
          "execution_count": 12
        }
      ]
    },
    {
      "cell_type": "markdown",
      "source": [
        "### TestStatistic vs. P-Value:\n",
        "- as ```TestStatistic``` increases, ```P-Value``` will decrease\n",
        "- Lower ```TestStatistic``` value means higher ```P-value``` means higher chance of Null Hypothesis being not rejected\n",
        "\n",
        "- ```TestStatistic = sum((ObservedCount - ExpectedCount)**2 / ExpectedCount)```"
      ],
      "metadata": {
        "id": "Md5KrEpmBfGs"
      }
    },
    {
      "cell_type": "markdown",
      "source": [
        "## Degree of Association Test - two variable\n",
        "- two variables, different categories\n",
        "- based on strength & relation between two variables\n",
        "- sample is discrete\n",
        "- claimed value is categorical\n",
        "- correlation coefficient is valid for continuous data only, not for categorical data\n",
        "- e.g.:"
      ],
      "metadata": {
        "id": "F6V31YqICZuw"
      }
    },
    {
      "cell_type": "code",
      "source": [
        "a1 = np.array([[45, 27, 21], [31, 28, 27]])\n",
        "# two variables are: count of students, count of students actually getting job\n",
        "a1"
      ],
      "metadata": {
        "colab": {
          "base_uri": "https://localhost:8080/"
        },
        "id": "bLrNW8fZBZtp",
        "outputId": "c1e37f5f-48a7-4662-ddb5-241a80e2830f"
      },
      "execution_count": null,
      "outputs": [
        {
          "output_type": "execute_result",
          "data": {
            "text/plain": [
              "array([[45, 27, 21],\n",
              "       [31, 28, 27]])"
            ]
          },
          "metadata": {},
          "execution_count": 13
        }
      ]
    },
    {
      "cell_type": "markdown",
      "source": [
        "- ```Hₒ``` : whether you get the job or not does not depend on the qualification"
      ],
      "metadata": {
        "id": "yvztk2QUC8gW"
      }
    },
    {
      "cell_type": "code",
      "source": [
        "from scipy.stats import chi2_contingency"
      ],
      "metadata": {
        "id": "7r5oAcqMC7DP"
      },
      "execution_count": null,
      "outputs": []
    },
    {
      "cell_type": "code",
      "source": [
        "scipy.stats.chi2_contingency(a1)\n",
        "#  testStatistic = 3.0780934692405153\n",
        "# P-Value = 0.2145855609456467\n",
        "# Degree of freedom = 2\n",
        "# expected frequency array = [[39.48603352, 28.57541899, 24.93854749],\n",
        "#                           [36.51396648, 26.42458101, 23.06145251]]\n",
        "\n",
        "# Here , P-Value id 0.214 > 0.05, so we do not reject H 0\n",
        "# dof = dof(row) x dof(column) = (2-1)x(3-1) = 1x2 = 2"
      ],
      "metadata": {
        "colab": {
          "base_uri": "https://localhost:8080/"
        },
        "id": "OmYwWzTpDKi2",
        "outputId": "f0244fbd-33a1-4479-e4fd-83e349a50075"
      },
      "execution_count": null,
      "outputs": [
        {
          "output_type": "execute_result",
          "data": {
            "text/plain": [
              "Chi2ContingencyResult(statistic=3.0780934692405153, pvalue=0.2145855609456467, dof=2, expected_freq=array([[39.48603352, 28.57541899, 24.93854749],\n",
              "       [36.51396648, 26.42458101, 23.06145251]]))"
            ]
          },
          "metadata": {},
          "execution_count": 15
        }
      ]
    },
    {
      "cell_type": "markdown",
      "source": [
        "# Poisson Rate tests\n",
        "1. one-Sample Poisson Rate\n",
        "2. two-Sample Poisson Rate"
      ],
      "metadata": {
        "id": "ZK1aOlyuh75h"
      }
    },
    {
      "cell_type": "markdown",
      "source": [
        "## one-Sample Poisson Rate\n",
        "- claim against the ratio of occurrences in one sample compare against claimed value\n",
        "- to compare the counts/occurences obtained from a sample against the claimed value\n",
        "\n",
        "- Q1.\n",
        "- claimed that fewer than 3 accidents take place on the local every day\n",
        "- ```Hₒ``` : n <= 3\n",
        "- ```Hᴀ``` : n > 3\n"
      ],
      "metadata": {
        "id": "8nH5N0iWiEzC"
      }
    },
    {
      "cell_type": "markdown",
      "source": [
        "## two-Sample Poisson Rate\n",
        "- ratio of the rates of occurrences in two different samples is compared against a claimed value\n"
      ],
      "metadata": {
        "id": "r4x3Fyh-iHDL"
      }
    },
    {
      "cell_type": "markdown",
      "source": [
        "- Q1.\n",
        "- in sample1 of 30 days, I saw 100 accidents were reported in Blore\n",
        "- in sample2 of 20 days, I saw 75 accidents were reported in Mumbai\n"
      ],
      "metadata": {
        "id": "N0JOtr05oOgf"
      }
    },
    {
      "cell_type": "code",
      "source": [
        "(100/30) / (75/20)\n",
        "# ratio of rates of occurrences"
      ],
      "metadata": {
        "id": "JWGvZL_FoQah"
      },
      "execution_count": null,
      "outputs": []
    },
    {
      "cell_type": "markdown",
      "source": [
        "- to compare the counts obtained from a sample against the claimed value\n",
        "- claimed that fewer than 3 accidents take place on the local every day\n",
        "- Hₒ : rate(Blr) / rate(Mum) = 1\n",
        "- Hᴀ : rate(Blr) / rate(Mum) != 1 --> two-tail test\n"
      ],
      "metadata": {
        "id": "EPyF3gt0ocuv"
      }
    },
    {
      "cell_type": "markdown",
      "source": [
        "## inferential statistics DONE"
      ],
      "metadata": {
        "id": "-voMt2SFEb_H"
      }
    },
    {
      "cell_type": "markdown",
      "source": [
        "# → Predictive Statistics"
      ],
      "metadata": {
        "id": "QTzBSTE7dqrT"
      }
    },
    {
      "cell_type": "markdown",
      "source": [
        "## need for predictive statistics\n",
        "1. Prediction & forecasting of numerical outcomes\n",
        "2. Analysing & Quantifying the relationship between variables\n",
        "3. identifying patterns"
      ],
      "metadata": {
        "id": "RfUenMmDd6oc"
      }
    },
    {
      "cell_type": "markdown",
      "source": [
        "\n",
        "1. historical data is needed for prediction\n",
        "2. when you need to make predictions\n",
        "3. certain conditions in which data should be collected\n",
        "\n",
        "4. supervised learning\n",
        "\n",
        "- Decision tree, KNN, randomForest,\n",
        "\n",
        "\n",
        "\n",
        "1. Supervised Learning\n",
        "    1. Regression Models\n",
        "        1. Linear Regression Model\n",
        "            1. Simple Linear Regression Model\n",
        "            2. Multiple Linear Regression Model\n",
        "            3. Categorical Regression Model\n",
        "        2. Non-Linear Regression Model\n",
        "        3. Logistic Regression Model\n",
        "            1. Binary Logistic Regression Model\n",
        "            2. Nominal Logistic Regression Model\n",
        "            3. Ordinal Logistic Regression Model\n",
        "        4. Counts Regression Model\n",
        "            1. Poisson Regression Model\n",
        "            2. Negative Binomial Regression Model\n",
        "    2. Classification Models\n",
        "        1. Decision Tree Classification Model\n",
        "        2. Random Forest Classification Model\n",
        "        3. Support Vector Machine classification Model\n",
        "        4. KNN (K-Nearest Neighbor) classification Model\n",
        "        5. Gaussian Naive Bayes Classification Model\n",
        "2. Unsupervised Learning\n",
        "    1. Clustering\n",
        "        1. K-Mean Clustering\n",
        "        2. Hierarchical Clustering\n",
        "    2. Association\n"
      ],
      "metadata": {
        "id": "qxrf8atJIUQW"
      }
    },
    {
      "cell_type": "markdown",
      "source": [
        "## Supervised Learning\n",
        "1. Regression Models\n",
        "    - multiple input columns, one output column\n",
        "2. Classification Models"
      ],
      "metadata": {
        "id": "87YuuOrAwLYX"
      }
    },
    {
      "cell_type": "markdown",
      "source": [
        "### Regression Models"
      ],
      "metadata": {
        "id": "hEB_W5KDfLA9"
      }
    },
    {
      "cell_type": "markdown",
      "source": [
        "#### Linear Regression Model\n",
        "1. Simple Linear Regression Model\n",
        "2. Multiple Linear Regression Model\n",
        "3. Categorical Regression Model\n"
      ],
      "metadata": {
        "id": "uKDmcS6AwXbU"
      }
    },
    {
      "cell_type": "markdown",
      "source": [
        "######  Correlation Coefficient (r)\n",
        "- correlation coefficient give information about the relation of two continuous variables\n",
        "- range for correlation coefficient is ```-1.0 to +1.0```\n",
        "1. sign of correlation coefficient\n",
        "    - tells the type of relation\n",
        "     - +ve sign = +ve relation : if 1st value of x is inceasing, the value of 2nd variable y also increases\n",
        "\n",
        "     e.g. age of car increases, cost of service also increases\n",
        "\n",
        "     - -ve sign = +ve relation : if 1st value of x is increasing, the value of 2nd variable y also decreases\n",
        "\n",
        "     e.g.: age of car increases, mileage/saleValue decreases\n",
        "\n",
        "2. Magnitude of correlation coefficient:\n",
        "    - tells the strength of relationship\n",
        "    - also known as correlration factor\n",
        "    - closer the magnitude to 1.0 stronger the relationship\n",
        "\n"
      ],
      "metadata": {
        "id": "mb772hRBMqgk"
      }
    },
    {
      "cell_type": "markdown",
      "source": [
        "##### Simple Linear Regression Model\n",
        "- response/output - continuous data\n",
        "- single predictor/input - continuous data\n",
        "- response & predictor have linear relation\n",
        "- basically calculates value of y & c for\n",
        "```y = mx + c```\n",
        "\n"
      ],
      "metadata": {
        "id": "B6W2JOe3K1MZ"
      }
    },
    {
      "cell_type": "markdown",
      "source": [
        "###### import statsmodels"
      ],
      "metadata": {
        "id": "3KjtT1x6_eam"
      }
    },
    {
      "cell_type": "code",
      "source": [
        "import numpy as np\n",
        "import pandas as pd\n",
        "# import numpy & pandas\n",
        "\n",
        "import statsmodels\n",
        "import statsmodels.api as sm\n",
        "from statsmodels.formula.api import ols\n",
        "import statsmodels.stats.multicomp\n",
        "# import statsmodels\n",
        "\n",
        "import sklearn\n",
        "from sklearn.model_selection import train_test_split\n",
        "from sklearn.metrics import confusion_matrix\n",
        "from sklearn.metrics import classification_report\n",
        "# import sklearn"
      ],
      "metadata": {
        "id": "_U2XtsUaDPuy"
      },
      "execution_count": null,
      "outputs": []
    },
    {
      "cell_type": "markdown",
      "source": [
        "###### upload dataset"
      ],
      "metadata": {
        "id": "4DXWH8jvEAho"
      }
    },
    {
      "cell_type": "code",
      "source": [
        "from google.colab import files\n",
        "uploaded=files.upload()\n",
        "# CDAC_DataBook.xlsx\n",
        "# to be used with google colab\n",
        "\n",
        "# import os\n",
        "# os.chdir(r'C:\\Users\\surya\\Downloads\\PG-DBDA-Mar23\\Datasets')\n",
        "# os.getcwd()\n",
        "# to change current working directory to specified path\n",
        "# to be used while running on local system"
      ],
      "metadata": {
        "colab": {
          "base_uri": "https://localhost:8080/",
          "height": 73
        },
        "id": "VftSNFKzSa5K",
        "outputId": "964587e0-26b7-45c9-c02e-e894dd2b0789"
      },
      "execution_count": null,
      "outputs": [
        {
          "output_type": "display_data",
          "data": {
            "text/plain": [
              "<IPython.core.display.HTML object>"
            ],
            "text/html": [
              "\n",
              "     <input type=\"file\" id=\"files-4d8c988b-be57-486f-8cfd-424be72df6f9\" name=\"files[]\" multiple disabled\n",
              "        style=\"border:none\" />\n",
              "     <output id=\"result-4d8c988b-be57-486f-8cfd-424be72df6f9\">\n",
              "      Upload widget is only available when the cell has been executed in the\n",
              "      current browser session. Please rerun this cell to enable.\n",
              "      </output>\n",
              "      <script>// Copyright 2017 Google LLC\n",
              "//\n",
              "// Licensed under the Apache License, Version 2.0 (the \"License\");\n",
              "// you may not use this file except in compliance with the License.\n",
              "// You may obtain a copy of the License at\n",
              "//\n",
              "//      http://www.apache.org/licenses/LICENSE-2.0\n",
              "//\n",
              "// Unless required by applicable law or agreed to in writing, software\n",
              "// distributed under the License is distributed on an \"AS IS\" BASIS,\n",
              "// WITHOUT WARRANTIES OR CONDITIONS OF ANY KIND, either express or implied.\n",
              "// See the License for the specific language governing permissions and\n",
              "// limitations under the License.\n",
              "\n",
              "/**\n",
              " * @fileoverview Helpers for google.colab Python module.\n",
              " */\n",
              "(function(scope) {\n",
              "function span(text, styleAttributes = {}) {\n",
              "  const element = document.createElement('span');\n",
              "  element.textContent = text;\n",
              "  for (const key of Object.keys(styleAttributes)) {\n",
              "    element.style[key] = styleAttributes[key];\n",
              "  }\n",
              "  return element;\n",
              "}\n",
              "\n",
              "// Max number of bytes which will be uploaded at a time.\n",
              "const MAX_PAYLOAD_SIZE = 100 * 1024;\n",
              "\n",
              "function _uploadFiles(inputId, outputId) {\n",
              "  const steps = uploadFilesStep(inputId, outputId);\n",
              "  const outputElement = document.getElementById(outputId);\n",
              "  // Cache steps on the outputElement to make it available for the next call\n",
              "  // to uploadFilesContinue from Python.\n",
              "  outputElement.steps = steps;\n",
              "\n",
              "  return _uploadFilesContinue(outputId);\n",
              "}\n",
              "\n",
              "// This is roughly an async generator (not supported in the browser yet),\n",
              "// where there are multiple asynchronous steps and the Python side is going\n",
              "// to poll for completion of each step.\n",
              "// This uses a Promise to block the python side on completion of each step,\n",
              "// then passes the result of the previous step as the input to the next step.\n",
              "function _uploadFilesContinue(outputId) {\n",
              "  const outputElement = document.getElementById(outputId);\n",
              "  const steps = outputElement.steps;\n",
              "\n",
              "  const next = steps.next(outputElement.lastPromiseValue);\n",
              "  return Promise.resolve(next.value.promise).then((value) => {\n",
              "    // Cache the last promise value to make it available to the next\n",
              "    // step of the generator.\n",
              "    outputElement.lastPromiseValue = value;\n",
              "    return next.value.response;\n",
              "  });\n",
              "}\n",
              "\n",
              "/**\n",
              " * Generator function which is called between each async step of the upload\n",
              " * process.\n",
              " * @param {string} inputId Element ID of the input file picker element.\n",
              " * @param {string} outputId Element ID of the output display.\n",
              " * @return {!Iterable<!Object>} Iterable of next steps.\n",
              " */\n",
              "function* uploadFilesStep(inputId, outputId) {\n",
              "  const inputElement = document.getElementById(inputId);\n",
              "  inputElement.disabled = false;\n",
              "\n",
              "  const outputElement = document.getElementById(outputId);\n",
              "  outputElement.innerHTML = '';\n",
              "\n",
              "  const pickedPromise = new Promise((resolve) => {\n",
              "    inputElement.addEventListener('change', (e) => {\n",
              "      resolve(e.target.files);\n",
              "    });\n",
              "  });\n",
              "\n",
              "  const cancel = document.createElement('button');\n",
              "  inputElement.parentElement.appendChild(cancel);\n",
              "  cancel.textContent = 'Cancel upload';\n",
              "  const cancelPromise = new Promise((resolve) => {\n",
              "    cancel.onclick = () => {\n",
              "      resolve(null);\n",
              "    };\n",
              "  });\n",
              "\n",
              "  // Wait for the user to pick the files.\n",
              "  const files = yield {\n",
              "    promise: Promise.race([pickedPromise, cancelPromise]),\n",
              "    response: {\n",
              "      action: 'starting',\n",
              "    }\n",
              "  };\n",
              "\n",
              "  cancel.remove();\n",
              "\n",
              "  // Disable the input element since further picks are not allowed.\n",
              "  inputElement.disabled = true;\n",
              "\n",
              "  if (!files) {\n",
              "    return {\n",
              "      response: {\n",
              "        action: 'complete',\n",
              "      }\n",
              "    };\n",
              "  }\n",
              "\n",
              "  for (const file of files) {\n",
              "    const li = document.createElement('li');\n",
              "    li.append(span(file.name, {fontWeight: 'bold'}));\n",
              "    li.append(span(\n",
              "        `(${file.type || 'n/a'}) - ${file.size} bytes, ` +\n",
              "        `last modified: ${\n",
              "            file.lastModifiedDate ? file.lastModifiedDate.toLocaleDateString() :\n",
              "                                    'n/a'} - `));\n",
              "    const percent = span('0% done');\n",
              "    li.appendChild(percent);\n",
              "\n",
              "    outputElement.appendChild(li);\n",
              "\n",
              "    const fileDataPromise = new Promise((resolve) => {\n",
              "      const reader = new FileReader();\n",
              "      reader.onload = (e) => {\n",
              "        resolve(e.target.result);\n",
              "      };\n",
              "      reader.readAsArrayBuffer(file);\n",
              "    });\n",
              "    // Wait for the data to be ready.\n",
              "    let fileData = yield {\n",
              "      promise: fileDataPromise,\n",
              "      response: {\n",
              "        action: 'continue',\n",
              "      }\n",
              "    };\n",
              "\n",
              "    // Use a chunked sending to avoid message size limits. See b/62115660.\n",
              "    let position = 0;\n",
              "    do {\n",
              "      const length = Math.min(fileData.byteLength - position, MAX_PAYLOAD_SIZE);\n",
              "      const chunk = new Uint8Array(fileData, position, length);\n",
              "      position += length;\n",
              "\n",
              "      const base64 = btoa(String.fromCharCode.apply(null, chunk));\n",
              "      yield {\n",
              "        response: {\n",
              "          action: 'append',\n",
              "          file: file.name,\n",
              "          data: base64,\n",
              "        },\n",
              "      };\n",
              "\n",
              "      let percentDone = fileData.byteLength === 0 ?\n",
              "          100 :\n",
              "          Math.round((position / fileData.byteLength) * 100);\n",
              "      percent.textContent = `${percentDone}% done`;\n",
              "\n",
              "    } while (position < fileData.byteLength);\n",
              "  }\n",
              "\n",
              "  // All done.\n",
              "  yield {\n",
              "    response: {\n",
              "      action: 'complete',\n",
              "    }\n",
              "  };\n",
              "}\n",
              "\n",
              "scope.google = scope.google || {};\n",
              "scope.google.colab = scope.google.colab || {};\n",
              "scope.google.colab._files = {\n",
              "  _uploadFiles,\n",
              "  _uploadFilesContinue,\n",
              "};\n",
              "})(self);\n",
              "</script> "
            ]
          },
          "metadata": {}
        },
        {
          "output_type": "stream",
          "name": "stdout",
          "text": [
            "Saving CDAC_DataBook.xlsx to CDAC_DataBook.xlsx\n"
          ]
        }
      ]
    },
    {
      "cell_type": "markdown",
      "source": [
        "###### pd.read_excel('WorkBook_Name.xlsx', sheet_name='SheetName')"
      ],
      "metadata": {
        "id": "hrBWPFeoG2Ax"
      }
    },
    {
      "cell_type": "code",
      "source": [
        "df = pd.read_excel('CDAC_DataBook.xlsx', sheet_name='faithful')\n",
        "# reading excelfile with specifying the sheet name to load dataset\n",
        "df.head()"
      ],
      "metadata": {
        "colab": {
          "base_uri": "https://localhost:8080/",
          "height": 206
        },
        "id": "cqVnpL85Q6ZM",
        "outputId": "70670d34-e51e-42ac-a011-88967d41317f"
      },
      "execution_count": null,
      "outputs": [
        {
          "output_type": "execute_result",
          "data": {
            "text/plain": [
              "   eruptions  waiting\n",
              "0      3.600       79\n",
              "1      1.800       54\n",
              "2      3.333       74\n",
              "3      2.283       62\n",
              "4      4.533       85"
            ],
            "text/html": [
              "\n",
              "  <div id=\"df-44e887c7-db49-49df-8add-f27a3f28b1eb\">\n",
              "    <div class=\"colab-df-container\">\n",
              "      <div>\n",
              "<style scoped>\n",
              "    .dataframe tbody tr th:only-of-type {\n",
              "        vertical-align: middle;\n",
              "    }\n",
              "\n",
              "    .dataframe tbody tr th {\n",
              "        vertical-align: top;\n",
              "    }\n",
              "\n",
              "    .dataframe thead th {\n",
              "        text-align: right;\n",
              "    }\n",
              "</style>\n",
              "<table border=\"1\" class=\"dataframe\">\n",
              "  <thead>\n",
              "    <tr style=\"text-align: right;\">\n",
              "      <th></th>\n",
              "      <th>eruptions</th>\n",
              "      <th>waiting</th>\n",
              "    </tr>\n",
              "  </thead>\n",
              "  <tbody>\n",
              "    <tr>\n",
              "      <th>0</th>\n",
              "      <td>3.600</td>\n",
              "      <td>79</td>\n",
              "    </tr>\n",
              "    <tr>\n",
              "      <th>1</th>\n",
              "      <td>1.800</td>\n",
              "      <td>54</td>\n",
              "    </tr>\n",
              "    <tr>\n",
              "      <th>2</th>\n",
              "      <td>3.333</td>\n",
              "      <td>74</td>\n",
              "    </tr>\n",
              "    <tr>\n",
              "      <th>3</th>\n",
              "      <td>2.283</td>\n",
              "      <td>62</td>\n",
              "    </tr>\n",
              "    <tr>\n",
              "      <th>4</th>\n",
              "      <td>4.533</td>\n",
              "      <td>85</td>\n",
              "    </tr>\n",
              "  </tbody>\n",
              "</table>\n",
              "</div>\n",
              "      <button class=\"colab-df-convert\" onclick=\"convertToInteractive('df-44e887c7-db49-49df-8add-f27a3f28b1eb')\"\n",
              "              title=\"Convert this dataframe to an interactive table.\"\n",
              "              style=\"display:none;\">\n",
              "        \n",
              "  <svg xmlns=\"http://www.w3.org/2000/svg\" height=\"24px\"viewBox=\"0 0 24 24\"\n",
              "       width=\"24px\">\n",
              "    <path d=\"M0 0h24v24H0V0z\" fill=\"none\"/>\n",
              "    <path d=\"M18.56 5.44l.94 2.06.94-2.06 2.06-.94-2.06-.94-.94-2.06-.94 2.06-2.06.94zm-11 1L8.5 8.5l.94-2.06 2.06-.94-2.06-.94L8.5 2.5l-.94 2.06-2.06.94zm10 10l.94 2.06.94-2.06 2.06-.94-2.06-.94-.94-2.06-.94 2.06-2.06.94z\"/><path d=\"M17.41 7.96l-1.37-1.37c-.4-.4-.92-.59-1.43-.59-.52 0-1.04.2-1.43.59L10.3 9.45l-7.72 7.72c-.78.78-.78 2.05 0 2.83L4 21.41c.39.39.9.59 1.41.59.51 0 1.02-.2 1.41-.59l7.78-7.78 2.81-2.81c.8-.78.8-2.07 0-2.86zM5.41 20L4 18.59l7.72-7.72 1.47 1.35L5.41 20z\"/>\n",
              "  </svg>\n",
              "      </button>\n",
              "      \n",
              "  <style>\n",
              "    .colab-df-container {\n",
              "      display:flex;\n",
              "      flex-wrap:wrap;\n",
              "      gap: 12px;\n",
              "    }\n",
              "\n",
              "    .colab-df-convert {\n",
              "      background-color: #E8F0FE;\n",
              "      border: none;\n",
              "      border-radius: 50%;\n",
              "      cursor: pointer;\n",
              "      display: none;\n",
              "      fill: #1967D2;\n",
              "      height: 32px;\n",
              "      padding: 0 0 0 0;\n",
              "      width: 32px;\n",
              "    }\n",
              "\n",
              "    .colab-df-convert:hover {\n",
              "      background-color: #E2EBFA;\n",
              "      box-shadow: 0px 1px 2px rgba(60, 64, 67, 0.3), 0px 1px 3px 1px rgba(60, 64, 67, 0.15);\n",
              "      fill: #174EA6;\n",
              "    }\n",
              "\n",
              "    [theme=dark] .colab-df-convert {\n",
              "      background-color: #3B4455;\n",
              "      fill: #D2E3FC;\n",
              "    }\n",
              "\n",
              "    [theme=dark] .colab-df-convert:hover {\n",
              "      background-color: #434B5C;\n",
              "      box-shadow: 0px 1px 3px 1px rgba(0, 0, 0, 0.15);\n",
              "      filter: drop-shadow(0px 1px 2px rgba(0, 0, 0, 0.3));\n",
              "      fill: #FFFFFF;\n",
              "    }\n",
              "  </style>\n",
              "\n",
              "      <script>\n",
              "        const buttonEl =\n",
              "          document.querySelector('#df-44e887c7-db49-49df-8add-f27a3f28b1eb button.colab-df-convert');\n",
              "        buttonEl.style.display =\n",
              "          google.colab.kernel.accessAllowed ? 'block' : 'none';\n",
              "\n",
              "        async function convertToInteractive(key) {\n",
              "          const element = document.querySelector('#df-44e887c7-db49-49df-8add-f27a3f28b1eb');\n",
              "          const dataTable =\n",
              "            await google.colab.kernel.invokeFunction('convertToInteractive',\n",
              "                                                     [key], {});\n",
              "          if (!dataTable) return;\n",
              "\n",
              "          const docLinkHtml = 'Like what you see? Visit the ' +\n",
              "            '<a target=\"_blank\" href=https://colab.research.google.com/notebooks/data_table.ipynb>data table notebook</a>'\n",
              "            + ' to learn more about interactive tables.';\n",
              "          element.innerHTML = '';\n",
              "          dataTable['output_type'] = 'display_data';\n",
              "          await google.colab.output.renderOutput(dataTable, element);\n",
              "          const docLink = document.createElement('div');\n",
              "          docLink.innerHTML = docLinkHtml;\n",
              "          element.appendChild(docLink);\n",
              "        }\n",
              "      </script>\n",
              "    </div>\n",
              "  </div>\n",
              "  "
            ]
          },
          "metadata": {},
          "execution_count": 21
        }
      ]
    },
    {
      "cell_type": "markdown",
      "source": [
        "###### how to split dataset\n",
        "- for training the model: 70-75%\n",
        "- for testing the model: 25-30%\n",
        "- dataSet splitting\n",
        "    - X : predictor (P1, P2, ...), multiple predictor columns can exist\n",
        "        - 70-75% : training\n",
        "        - 25-30% : testing\n",
        "    - Y : response (R), only one response column can exist\n",
        "        - 70-75% : training\n",
        "        - 25-30% : testing\n",
        "- then compare the predicted value with actual value from testing dataset\n"
      ],
      "metadata": {
        "id": "hehB9CaLX2my"
      }
    },
    {
      "cell_type": "markdown",
      "source": [
        "###### train_test_split(predictor_cols, response_col, test_size=0.25)"
      ],
      "metadata": {
        "id": "mQa-MURK-RJ4"
      }
    },
    {
      "cell_type": "code",
      "source": [
        "x_train, x_test, y_train, y_test = train_test_split(df['waiting'], df['eruptions'], test_size=0.25)\n",
        "# splitting dataset 4-ways\n",
        "# rows are randomly selected for testing"
      ],
      "metadata": {
        "id": "RG6AF8cCSZQl"
      },
      "execution_count": null,
      "outputs": []
    },
    {
      "cell_type": "code",
      "source": [
        "x_train.head()\n",
        "# indexing for training data will be same for predictor and response"
      ],
      "metadata": {
        "colab": {
          "base_uri": "https://localhost:8080/"
        },
        "id": "qMbMIQ6YXouA",
        "outputId": "378564be-0220-4451-b5cc-762d560a9a59"
      },
      "execution_count": null,
      "outputs": [
        {
          "output_type": "execute_result",
          "data": {
            "text/plain": [
              "80     75\n",
              "118    59\n",
              "63     82\n",
              "103    83\n",
              "134    46\n",
              "Name: waiting, dtype: int64"
            ]
          },
          "metadata": {},
          "execution_count": 24
        }
      ]
    },
    {
      "cell_type": "code",
      "source": [
        "y_train.head()\n",
        "# indexing for training data will be same for predictor and response"
      ],
      "metadata": {
        "colab": {
          "base_uri": "https://localhost:8080/"
        },
        "id": "Ns__do73b6Jb",
        "outputId": "c5111337-75be-48d2-b82c-0f1bf670a8d9"
      },
      "execution_count": null,
      "outputs": [
        {
          "output_type": "execute_result",
          "data": {
            "text/plain": [
              "80     4.133\n",
              "118    1.817\n",
              "63     4.800\n",
              "103    4.500\n",
              "134    1.833\n",
              "Name: eruptions, dtype: float64"
            ]
          },
          "metadata": {},
          "execution_count": 25
        }
      ]
    },
    {
      "cell_type": "markdown",
      "source": [
        "###### sm.add_constant(x_train, prepend=False)"
      ],
      "metadata": {
        "id": "EaqWYbFV-iKJ"
      }
    },
    {
      "cell_type": "code",
      "source": [
        "x_train = sm.add_constant(x_train, prepend=False)\n",
        "# adding constant to match equation\n",
        "# if we do not add constant, model will follow y = mx\n",
        "# if we add constant, model will follow y = mx + c"
      ],
      "metadata": {
        "id": "mannKg41cBZu"
      },
      "execution_count": null,
      "outputs": []
    },
    {
      "cell_type": "markdown",
      "source": [
        "###### sm.OLS(y_train, x_train).fit()"
      ],
      "metadata": {
        "id": "fIHNvULh-MSN"
      }
    },
    {
      "cell_type": "code",
      "source": [
        "mod1 = sm.OLS(y_train, x_train).fit()\n",
        "# creating model using sm.OLS().fit()"
      ],
      "metadata": {
        "id": "PwlW-Vk0ct3i"
      },
      "execution_count": null,
      "outputs": []
    },
    {
      "cell_type": "code",
      "source": [
        "print(mod1.summary())\n",
        "# printing model summary / OLS Regression Results"
      ],
      "metadata": {
        "colab": {
          "base_uri": "https://localhost:8080/"
        },
        "id": "uTiXmmVIfRZl",
        "outputId": "7d542a82-9421-41d2-bcce-f95edd77ad2d"
      },
      "execution_count": null,
      "outputs": [
        {
          "output_type": "stream",
          "name": "stdout",
          "text": [
            "                            OLS Regression Results                            \n",
            "==============================================================================\n",
            "Dep. Variable:              eruptions   R-squared:                       0.810\n",
            "Model:                            OLS   Adj. R-squared:                  0.809\n",
            "Method:                 Least Squares   F-statistic:                     860.8\n",
            "Date:                Tue, 20 Jun 2023   Prob (F-statistic):           9.20e-75\n",
            "Time:                        06:32:12   Log-Likelihood:                -144.16\n",
            "No. Observations:                 204   AIC:                             292.3\n",
            "Df Residuals:                     202   BIC:                             299.0\n",
            "Df Model:                           1                                         \n",
            "Covariance Type:            nonrobust                                         \n",
            "==============================================================================\n",
            "                 coef    std err          t      P>|t|      [0.025      0.975]\n",
            "------------------------------------------------------------------------------\n",
            "waiting        0.0742      0.003     29.339      0.000       0.069       0.079\n",
            "const         -1.8057      0.183     -9.848      0.000      -2.167      -1.444\n",
            "==============================================================================\n",
            "Omnibus:                        2.692   Durbin-Watson:                   1.907\n",
            "Prob(Omnibus):                  0.260   Jarque-Bera (JB):                2.107\n",
            "Skew:                          -0.100   Prob(JB):                        0.349\n",
            "Kurtosis:                       2.544   Cond. No.                         385.\n",
            "==============================================================================\n",
            "\n",
            "Notes:\n",
            "[1] Standard Errors assume that the covariance matrix of the errors is correctly specified.\n"
          ]
        }
      ]
    },
    {
      "cell_type": "markdown",
      "source": [
        "```y = mx + c```\n",
        "- 1st Null Hypothesis, ```Hₒ``` : for m\n",
        "\n",
        " 2nd Null Hypothesis, ```Hₒ``` : for c\n",
        "\n",
        "- ```Hₒ``` : m = 0 OR x has no effect on y\n",
        "- ```Hₒ``` : c = 0\n",
        "\n",
        "\n",
        "- ```Number of possible Hypothesis = Number of variables + 1```\n",
        "    - for ```y = mx + c```, number of variables = 1\n",
        "    - so, number of possible hypothesis = 2\n"
      ],
      "metadata": {
        "id": "yyImY9x-hGm8"
      }
    },
    {
      "cell_type": "markdown",
      "source": [
        "- as per model summary\n",
        "    - in ```y = mx + c```,\n",
        "    - the value of m is 0.0742 from column 'coef'\n",
        "    - the value of c is -1.8057 from column 'coef'\n",
        "    - P-Value is 0.00 from column 'P>|t|'\n",
        "\n",
        "    - the influence of x on y is statistically significant, it is not a mattter of chance variation\n",
        "    - influence of waiting on eruption is statistically significant and cannot be ignored, it is not a matter of chance variation\n",
        "    - R-Squared:\n",
        "        - is the square of correlation coefficient incase of one predictor\n",
        "        - value of R-Squared closer to 1.0 is a better model\n",
        "        - indicates if model can explain its variation\n",
        "        - 0.810 means model can expains 81% variation / chance variation\n",
        "        - means model cannot explain 19% variation / chance variation"
      ],
      "metadata": {
        "id": "YkFYKRdPiogH"
      }
    },
    {
      "cell_type": "code",
      "source": [
        "x_test = sm.add_constant(x_test, prepend=False)\n",
        "# adding constant to test sample"
      ],
      "metadata": {
        "id": "xs7N2bwPfYSa"
      },
      "execution_count": null,
      "outputs": []
    },
    {
      "cell_type": "code",
      "source": [
        "y_pred = mod1.predict(x_test)\n",
        "# generating prediction for test data"
      ],
      "metadata": {
        "id": "DpkUrFjMl3fH"
      },
      "execution_count": null,
      "outputs": []
    },
    {
      "cell_type": "code",
      "source": [
        "y_pred[:5]\n",
        "# printing first five generated predictions"
      ],
      "metadata": {
        "colab": {
          "base_uri": "https://localhost:8080/"
        },
        "id": "B7pYQk5umBw-",
        "outputId": "3b550326-24a5-4893-faa9-e38f851b283b"
      },
      "execution_count": null,
      "outputs": [
        {
          "output_type": "execute_result",
          "data": {
            "text/plain": [
              "154    3.459169\n",
              "152    3.014254\n",
              "160    1.531204\n",
              "211    4.126541\n",
              "241    1.679509\n",
              "dtype: float64"
            ]
          },
          "metadata": {},
          "execution_count": 33
        }
      ]
    },
    {
      "cell_type": "code",
      "source": [
        "y_test[:5]\n",
        "# printing first five records from test data\n",
        "# to compare with the generated predictions"
      ],
      "metadata": {
        "colab": {
          "base_uri": "https://localhost:8080/"
        },
        "id": "wzv_llWsmaSj",
        "outputId": "357da0d2-69d8-40a4-ff5a-0ceba2bc7fb9"
      },
      "execution_count": null,
      "outputs": [
        {
          "output_type": "execute_result",
          "data": {
            "text/plain": [
              "154    3.567\n",
              "152    2.400\n",
              "160    2.200\n",
              "211    4.700\n",
              "241    2.350\n",
              "Name: eruptions, dtype: float64"
            ]
          },
          "metadata": {},
          "execution_count": 34
        }
      ]
    },
    {
      "cell_type": "markdown",
      "source": [
        "##### Multiple Linear Regression Model\n",
        "- response/output - continuous data\n",
        "- multiple predictors/input - continuous data\n",
        "- basically calculates value of y & c for\n",
        "```y = m1x1 + m2x2 + c```"
      ],
      "metadata": {
        "id": "wcv4PhtSLHwj"
      }
    },
    {
      "cell_type": "markdown",
      "source": [
        "###### import statsmodels"
      ],
      "metadata": {
        "id": "EeTf3O1qGfkE"
      }
    },
    {
      "cell_type": "code",
      "source": [
        "import numpy as np\n",
        "import pandas as pd\n",
        "# import numpy & pandas\n",
        "\n",
        "import statsmodels\n",
        "import statsmodels.api as sm\n",
        "from statsmodels.formula.api import ols\n",
        "import statsmodels.stats.multicomp\n",
        "# import statsmodels\n",
        "\n",
        "import sklearn\n",
        "from sklearn.model_selection import train_test_split\n",
        "from sklearn.metrics import confusion_matrix\n",
        "from sklearn.metrics import classification_report\n",
        "# import sklearn"
      ],
      "metadata": {
        "id": "0BFMsvpgGXxE"
      },
      "execution_count": null,
      "outputs": []
    },
    {
      "cell_type": "markdown",
      "source": [
        "###### upload dataset"
      ],
      "metadata": {
        "id": "jC33T6dXGo3m"
      }
    },
    {
      "cell_type": "code",
      "source": [
        "from google.colab import files\n",
        "uploaded=files.upload()\n",
        "# CDAC_DataBook.xlsx\n",
        "# to be used with google colab\n",
        "\n",
        "# import os\n",
        "# os.chdir(r'C:\\Users\\surya\\Downloads\\PG-DBDA-Mar23\\Datasets')\n",
        "# os.getcwd()\n",
        "# to change current working directory to specified path\n",
        "# to be used while running on local system"
      ],
      "metadata": {
        "id": "H_4xt2o2Gb9q"
      },
      "execution_count": null,
      "outputs": []
    },
    {
      "cell_type": "markdown",
      "source": [
        "###### pd.read_excel('WorkBook_Name.xlsx', sheet_name='SheetName')"
      ],
      "metadata": {
        "id": "7lJSD3p3G0UO"
      }
    },
    {
      "cell_type": "code",
      "source": [
        "df = pd.read_excel('CDAC_DataBook.xlsx', sheet_name='stackloss')\n",
        "# reading excelfile with specifying the sheet name to load dataset\n",
        "df.head()"
      ],
      "metadata": {
        "colab": {
          "base_uri": "https://localhost:8080/",
          "height": 206
        },
        "id": "ogNuKEOYmbw1",
        "outputId": "0a56c95e-b4a4-4705-dadf-337775536210"
      },
      "execution_count": null,
      "outputs": [
        {
          "output_type": "execute_result",
          "data": {
            "text/plain": [
              "   AirFlow  WaterTemp  AcidConc  StackLoss\n",
              "0       80         27        89         42\n",
              "1       80         27        88         37\n",
              "2       75         25        90         37\n",
              "3       62         24        87         28\n",
              "4       62         22        87         18"
            ],
            "text/html": [
              "\n",
              "  <div id=\"df-cf34cddb-47d4-4ea6-9c39-41cf4beda072\">\n",
              "    <div class=\"colab-df-container\">\n",
              "      <div>\n",
              "<style scoped>\n",
              "    .dataframe tbody tr th:only-of-type {\n",
              "        vertical-align: middle;\n",
              "    }\n",
              "\n",
              "    .dataframe tbody tr th {\n",
              "        vertical-align: top;\n",
              "    }\n",
              "\n",
              "    .dataframe thead th {\n",
              "        text-align: right;\n",
              "    }\n",
              "</style>\n",
              "<table border=\"1\" class=\"dataframe\">\n",
              "  <thead>\n",
              "    <tr style=\"text-align: right;\">\n",
              "      <th></th>\n",
              "      <th>AirFlow</th>\n",
              "      <th>WaterTemp</th>\n",
              "      <th>AcidConc</th>\n",
              "      <th>StackLoss</th>\n",
              "    </tr>\n",
              "  </thead>\n",
              "  <tbody>\n",
              "    <tr>\n",
              "      <th>0</th>\n",
              "      <td>80</td>\n",
              "      <td>27</td>\n",
              "      <td>89</td>\n",
              "      <td>42</td>\n",
              "    </tr>\n",
              "    <tr>\n",
              "      <th>1</th>\n",
              "      <td>80</td>\n",
              "      <td>27</td>\n",
              "      <td>88</td>\n",
              "      <td>37</td>\n",
              "    </tr>\n",
              "    <tr>\n",
              "      <th>2</th>\n",
              "      <td>75</td>\n",
              "      <td>25</td>\n",
              "      <td>90</td>\n",
              "      <td>37</td>\n",
              "    </tr>\n",
              "    <tr>\n",
              "      <th>3</th>\n",
              "      <td>62</td>\n",
              "      <td>24</td>\n",
              "      <td>87</td>\n",
              "      <td>28</td>\n",
              "    </tr>\n",
              "    <tr>\n",
              "      <th>4</th>\n",
              "      <td>62</td>\n",
              "      <td>22</td>\n",
              "      <td>87</td>\n",
              "      <td>18</td>\n",
              "    </tr>\n",
              "  </tbody>\n",
              "</table>\n",
              "</div>\n",
              "      <button class=\"colab-df-convert\" onclick=\"convertToInteractive('df-cf34cddb-47d4-4ea6-9c39-41cf4beda072')\"\n",
              "              title=\"Convert this dataframe to an interactive table.\"\n",
              "              style=\"display:none;\">\n",
              "        \n",
              "  <svg xmlns=\"http://www.w3.org/2000/svg\" height=\"24px\"viewBox=\"0 0 24 24\"\n",
              "       width=\"24px\">\n",
              "    <path d=\"M0 0h24v24H0V0z\" fill=\"none\"/>\n",
              "    <path d=\"M18.56 5.44l.94 2.06.94-2.06 2.06-.94-2.06-.94-.94-2.06-.94 2.06-2.06.94zm-11 1L8.5 8.5l.94-2.06 2.06-.94-2.06-.94L8.5 2.5l-.94 2.06-2.06.94zm10 10l.94 2.06.94-2.06 2.06-.94-2.06-.94-.94-2.06-.94 2.06-2.06.94z\"/><path d=\"M17.41 7.96l-1.37-1.37c-.4-.4-.92-.59-1.43-.59-.52 0-1.04.2-1.43.59L10.3 9.45l-7.72 7.72c-.78.78-.78 2.05 0 2.83L4 21.41c.39.39.9.59 1.41.59.51 0 1.02-.2 1.41-.59l7.78-7.78 2.81-2.81c.8-.78.8-2.07 0-2.86zM5.41 20L4 18.59l7.72-7.72 1.47 1.35L5.41 20z\"/>\n",
              "  </svg>\n",
              "      </button>\n",
              "      \n",
              "  <style>\n",
              "    .colab-df-container {\n",
              "      display:flex;\n",
              "      flex-wrap:wrap;\n",
              "      gap: 12px;\n",
              "    }\n",
              "\n",
              "    .colab-df-convert {\n",
              "      background-color: #E8F0FE;\n",
              "      border: none;\n",
              "      border-radius: 50%;\n",
              "      cursor: pointer;\n",
              "      display: none;\n",
              "      fill: #1967D2;\n",
              "      height: 32px;\n",
              "      padding: 0 0 0 0;\n",
              "      width: 32px;\n",
              "    }\n",
              "\n",
              "    .colab-df-convert:hover {\n",
              "      background-color: #E2EBFA;\n",
              "      box-shadow: 0px 1px 2px rgba(60, 64, 67, 0.3), 0px 1px 3px 1px rgba(60, 64, 67, 0.15);\n",
              "      fill: #174EA6;\n",
              "    }\n",
              "\n",
              "    [theme=dark] .colab-df-convert {\n",
              "      background-color: #3B4455;\n",
              "      fill: #D2E3FC;\n",
              "    }\n",
              "\n",
              "    [theme=dark] .colab-df-convert:hover {\n",
              "      background-color: #434B5C;\n",
              "      box-shadow: 0px 1px 3px 1px rgba(0, 0, 0, 0.15);\n",
              "      filter: drop-shadow(0px 1px 2px rgba(0, 0, 0, 0.3));\n",
              "      fill: #FFFFFF;\n",
              "    }\n",
              "  </style>\n",
              "\n",
              "      <script>\n",
              "        const buttonEl =\n",
              "          document.querySelector('#df-cf34cddb-47d4-4ea6-9c39-41cf4beda072 button.colab-df-convert');\n",
              "        buttonEl.style.display =\n",
              "          google.colab.kernel.accessAllowed ? 'block' : 'none';\n",
              "\n",
              "        async function convertToInteractive(key) {\n",
              "          const element = document.querySelector('#df-cf34cddb-47d4-4ea6-9c39-41cf4beda072');\n",
              "          const dataTable =\n",
              "            await google.colab.kernel.invokeFunction('convertToInteractive',\n",
              "                                                     [key], {});\n",
              "          if (!dataTable) return;\n",
              "\n",
              "          const docLinkHtml = 'Like what you see? Visit the ' +\n",
              "            '<a target=\"_blank\" href=https://colab.research.google.com/notebooks/data_table.ipynb>data table notebook</a>'\n",
              "            + ' to learn more about interactive tables.';\n",
              "          element.innerHTML = '';\n",
              "          dataTable['output_type'] = 'display_data';\n",
              "          await google.colab.output.renderOutput(dataTable, element);\n",
              "          const docLink = document.createElement('div');\n",
              "          docLink.innerHTML = docLinkHtml;\n",
              "          element.appendChild(docLink);\n",
              "        }\n",
              "      </script>\n",
              "    </div>\n",
              "  </div>\n",
              "  "
            ]
          },
          "metadata": {},
          "execution_count": 35
        }
      ]
    },
    {
      "cell_type": "markdown",
      "source": [
        "###### train_test_split(predictor_cols, response_col, test_size=0.25)"
      ],
      "metadata": {
        "id": "1PczpdfH-p9-"
      }
    },
    {
      "cell_type": "code",
      "source": [
        "x_train, x_test, y_train, y_test = train_test_split(df.drop('StackLoss', axis=1), df['StackLoss'], test_size=0.25)\n",
        "# splitting dataset 4-ways\n",
        "# rows are randomly selected for testing"
      ],
      "metadata": {
        "id": "rH-kUENXovUO"
      },
      "execution_count": null,
      "outputs": []
    },
    {
      "cell_type": "markdown",
      "source": [
        "- H 0 : airflow has no effect on StackLoss\n",
        "- H 0 : WaterTemp has no effect on StackLoss\n",
        "- H 0 : AcidConc has no effect on StackLoss"
      ],
      "metadata": {
        "id": "TE3a92Q7sKrx"
      }
    },
    {
      "cell_type": "markdown",
      "source": [
        "###### sm.add_constant(x_train, prepend=False)"
      ],
      "metadata": {
        "id": "0LxEX2pO-v2x"
      }
    },
    {
      "cell_type": "code",
      "source": [
        "x_train = sm.add_constant(x_train, prepend=False)\n",
        "# adding constant to match equation\n",
        "# if we do not add constant, model will follow y = mx\n",
        "# if we add constant, model will follow y = m1x1 + m2x2 + m3x3 + ... + c"
      ],
      "metadata": {
        "id": "HbxoFUFmpHhD"
      },
      "execution_count": null,
      "outputs": []
    },
    {
      "cell_type": "markdown",
      "source": [
        "###### sm.OLS(y_train, x_train).fit()"
      ],
      "metadata": {
        "id": "Mc0mdTzq-0wm"
      }
    },
    {
      "cell_type": "code",
      "source": [
        "mod1 = sm.OLS(y_train, x_train).fit()\n",
        "# creating model"
      ],
      "metadata": {
        "id": "vbjM_6zBpTa-"
      },
      "execution_count": null,
      "outputs": []
    },
    {
      "cell_type": "code",
      "source": [
        "print(mod1.summary())\n",
        "# printing model summary / OLS Regression Results"
      ],
      "metadata": {
        "colab": {
          "base_uri": "https://localhost:8080/"
        },
        "id": "76i1NyoTpbCm",
        "outputId": "8653dc57-e0a6-4fd2-8525-1d0c184af47f"
      },
      "execution_count": null,
      "outputs": [
        {
          "output_type": "stream",
          "name": "stdout",
          "text": [
            "                            OLS Regression Results                            \n",
            "==============================================================================\n",
            "Dep. Variable:              StackLoss   R-squared:                       0.904\n",
            "Model:                            OLS   Adj. R-squared:                  0.877\n",
            "Method:                 Least Squares   F-statistic:                     34.35\n",
            "Date:                Tue, 20 Jun 2023   Prob (F-statistic):           7.01e-06\n",
            "Time:                        07:12:30   Log-Likelihood:                -36.204\n",
            "No. Observations:                  15   AIC:                             80.41\n",
            "Df Residuals:                      11   BIC:                             83.24\n",
            "Df Model:                           3                                         \n",
            "Covariance Type:            nonrobust                                         \n",
            "==============================================================================\n",
            "                 coef    std err          t      P>|t|      [0.025      0.975]\n",
            "------------------------------------------------------------------------------\n",
            "AirFlow        0.6928      0.147      4.711      0.001       0.369       1.016\n",
            "WaterTemp      1.1766      0.404      2.911      0.014       0.287       2.066\n",
            "AcidConc      -0.1515      0.162     -0.933      0.371      -0.509       0.206\n",
            "const        -36.7101     12.229     -3.002      0.012     -63.627      -9.793\n",
            "==============================================================================\n",
            "Omnibus:                        2.711   Durbin-Watson:                   2.904\n",
            "Prob(Omnibus):                  0.258   Jarque-Bera (JB):                0.736\n",
            "Skew:                          -0.140   Prob(JB):                        0.692\n",
            "Kurtosis:                       4.048   Cond. No.                     1.62e+03\n",
            "==============================================================================\n",
            "\n",
            "Notes:\n",
            "[1] Standard Errors assume that the covariance matrix of the errors is correctly specified.\n",
            "[2] The condition number is large, 1.62e+03. This might indicate that there are\n",
            "strong multicollinearity or other numerical problems.\n"
          ]
        },
        {
          "output_type": "stream",
          "name": "stderr",
          "text": [
            "/usr/local/lib/python3.10/dist-packages/scipy/stats/_stats_py.py:1736: UserWarning: kurtosistest only valid for n>=20 ... continuing anyway, n=15\n",
            "  warnings.warn(\"kurtosistest only valid for n>=20 ... continuing \"\n"
          ]
        }
      ]
    },
    {
      "cell_type": "markdown",
      "source": [
        "-  here equation for linear regression is, ```y = y1m1 + y2m2 + y3m3 + c```\n",
        "- m1 = coeff of AirFlow, P-Value=0.001 < 0.05, so H 0 is rejected, so AirFlow has an impact on StackLoss\n",
        "- m2 = coeff of WaterTemp, P-Value=0.014 < 0.05, so H 0 is rejected, so WaterTemp has an impact on StackLoss\n",
        "- m3 = coeff of AcidConc, P-Value=0.371 < 0.05, so H 0 is NOT rejected, so AcidConc has an impact on StackLoss"
      ],
      "metadata": {
        "id": "TAQkXOj9sZRF"
      }
    },
    {
      "cell_type": "markdown",
      "source": [
        "##### Categorical Regression Model\n",
        "\n",
        "- Multiple Regression Model with dummy columns\n",
        "- response/output - continuous data, but at least one predictor is categorical\n",
        "- multiple predictors/input - continuous data\n",
        "- basically calculates value of y & c for\n",
        "```y = m1x1 + m2x2 + c```"
      ],
      "metadata": {
        "id": "evFrf_UQesCF"
      }
    },
    {
      "cell_type": "markdown",
      "source": [
        "###### import statsmodels"
      ],
      "metadata": {
        "id": "oZos8jY0GhIc"
      }
    },
    {
      "cell_type": "code",
      "source": [
        "import numpy as np\n",
        "import pandas as pd\n",
        "# import numpy & pandas\n",
        "\n",
        "import statsmodels\n",
        "import statsmodels.api as sm\n",
        "from statsmodels.formula.api import ols\n",
        "import statsmodels.stats.multicomp\n",
        "# import statsmodels\n",
        "\n",
        "import sklearn\n",
        "from sklearn.model_selection import train_test_split\n",
        "from sklearn.metrics import confusion_matrix\n",
        "from sklearn.metrics import classification_report\n",
        "# import sklearn"
      ],
      "metadata": {
        "id": "QS-O1FvJGZMQ"
      },
      "execution_count": null,
      "outputs": []
    },
    {
      "cell_type": "markdown",
      "source": [
        "###### upload dataset"
      ],
      "metadata": {
        "id": "XHmKWhhIGqW_"
      }
    },
    {
      "cell_type": "code",
      "source": [
        "from google.colab import files\n",
        "uploaded=files.upload()\n",
        "# CDAC_DataBook.xlsx\n",
        "# to be used with google colab\n",
        "\n",
        "# import os\n",
        "# os.chdir(r'C:\\Users\\surya\\Downloads\\PG-DBDA-Mar23\\Datasets')\n",
        "# os.getcwd()\n",
        "# to change current working directory to specified path\n",
        "# to be used while running on local system"
      ],
      "metadata": {
        "id": "JDOyQqoDGdYH"
      },
      "execution_count": null,
      "outputs": []
    },
    {
      "cell_type": "markdown",
      "source": [
        "###### pd.read_excel('WorkBook_Name.xlsx', sheet_name='SheetName')"
      ],
      "metadata": {
        "id": "1o1IrLw2GtY3"
      }
    },
    {
      "cell_type": "code",
      "source": [
        "df = pd.read_excel('CDAC_DataBook.xlsx', sheet_name='salaries')\n",
        "# reading excelfile with specifying the sheet name to load dataset\n",
        "df.head()"
      ],
      "metadata": {
        "colab": {
          "base_uri": "https://localhost:8080/",
          "height": 206
        },
        "id": "FGOD9aeretoX",
        "outputId": "58315892-c81c-46be-c161-52fbe529b2d7"
      },
      "execution_count": null,
      "outputs": [
        {
          "output_type": "execute_result",
          "data": {
            "text/plain": [
              "       rank discipline  yrs_phd  yrs_service gender  salary\n",
              "0      Prof          B       19           18   Male  139750\n",
              "1      Prof          B       20           16   Male  173200\n",
              "2  AsstProf          B        4            3   Male   79750\n",
              "3      Prof          B       45           39   Male  115000\n",
              "4      Prof          B       40           41   Male  141500"
            ],
            "text/html": [
              "\n",
              "  <div id=\"df-13831a52-14dc-4dfa-bfdf-e575c570eff4\">\n",
              "    <div class=\"colab-df-container\">\n",
              "      <div>\n",
              "<style scoped>\n",
              "    .dataframe tbody tr th:only-of-type {\n",
              "        vertical-align: middle;\n",
              "    }\n",
              "\n",
              "    .dataframe tbody tr th {\n",
              "        vertical-align: top;\n",
              "    }\n",
              "\n",
              "    .dataframe thead th {\n",
              "        text-align: right;\n",
              "    }\n",
              "</style>\n",
              "<table border=\"1\" class=\"dataframe\">\n",
              "  <thead>\n",
              "    <tr style=\"text-align: right;\">\n",
              "      <th></th>\n",
              "      <th>rank</th>\n",
              "      <th>discipline</th>\n",
              "      <th>yrs_phd</th>\n",
              "      <th>yrs_service</th>\n",
              "      <th>gender</th>\n",
              "      <th>salary</th>\n",
              "    </tr>\n",
              "  </thead>\n",
              "  <tbody>\n",
              "    <tr>\n",
              "      <th>0</th>\n",
              "      <td>Prof</td>\n",
              "      <td>B</td>\n",
              "      <td>19</td>\n",
              "      <td>18</td>\n",
              "      <td>Male</td>\n",
              "      <td>139750</td>\n",
              "    </tr>\n",
              "    <tr>\n",
              "      <th>1</th>\n",
              "      <td>Prof</td>\n",
              "      <td>B</td>\n",
              "      <td>20</td>\n",
              "      <td>16</td>\n",
              "      <td>Male</td>\n",
              "      <td>173200</td>\n",
              "    </tr>\n",
              "    <tr>\n",
              "      <th>2</th>\n",
              "      <td>AsstProf</td>\n",
              "      <td>B</td>\n",
              "      <td>4</td>\n",
              "      <td>3</td>\n",
              "      <td>Male</td>\n",
              "      <td>79750</td>\n",
              "    </tr>\n",
              "    <tr>\n",
              "      <th>3</th>\n",
              "      <td>Prof</td>\n",
              "      <td>B</td>\n",
              "      <td>45</td>\n",
              "      <td>39</td>\n",
              "      <td>Male</td>\n",
              "      <td>115000</td>\n",
              "    </tr>\n",
              "    <tr>\n",
              "      <th>4</th>\n",
              "      <td>Prof</td>\n",
              "      <td>B</td>\n",
              "      <td>40</td>\n",
              "      <td>41</td>\n",
              "      <td>Male</td>\n",
              "      <td>141500</td>\n",
              "    </tr>\n",
              "  </tbody>\n",
              "</table>\n",
              "</div>\n",
              "      <button class=\"colab-df-convert\" onclick=\"convertToInteractive('df-13831a52-14dc-4dfa-bfdf-e575c570eff4')\"\n",
              "              title=\"Convert this dataframe to an interactive table.\"\n",
              "              style=\"display:none;\">\n",
              "        \n",
              "  <svg xmlns=\"http://www.w3.org/2000/svg\" height=\"24px\"viewBox=\"0 0 24 24\"\n",
              "       width=\"24px\">\n",
              "    <path d=\"M0 0h24v24H0V0z\" fill=\"none\"/>\n",
              "    <path d=\"M18.56 5.44l.94 2.06.94-2.06 2.06-.94-2.06-.94-.94-2.06-.94 2.06-2.06.94zm-11 1L8.5 8.5l.94-2.06 2.06-.94-2.06-.94L8.5 2.5l-.94 2.06-2.06.94zm10 10l.94 2.06.94-2.06 2.06-.94-2.06-.94-.94-2.06-.94 2.06-2.06.94z\"/><path d=\"M17.41 7.96l-1.37-1.37c-.4-.4-.92-.59-1.43-.59-.52 0-1.04.2-1.43.59L10.3 9.45l-7.72 7.72c-.78.78-.78 2.05 0 2.83L4 21.41c.39.39.9.59 1.41.59.51 0 1.02-.2 1.41-.59l7.78-7.78 2.81-2.81c.8-.78.8-2.07 0-2.86zM5.41 20L4 18.59l7.72-7.72 1.47 1.35L5.41 20z\"/>\n",
              "  </svg>\n",
              "      </button>\n",
              "      \n",
              "  <style>\n",
              "    .colab-df-container {\n",
              "      display:flex;\n",
              "      flex-wrap:wrap;\n",
              "      gap: 12px;\n",
              "    }\n",
              "\n",
              "    .colab-df-convert {\n",
              "      background-color: #E8F0FE;\n",
              "      border: none;\n",
              "      border-radius: 50%;\n",
              "      cursor: pointer;\n",
              "      display: none;\n",
              "      fill: #1967D2;\n",
              "      height: 32px;\n",
              "      padding: 0 0 0 0;\n",
              "      width: 32px;\n",
              "    }\n",
              "\n",
              "    .colab-df-convert:hover {\n",
              "      background-color: #E2EBFA;\n",
              "      box-shadow: 0px 1px 2px rgba(60, 64, 67, 0.3), 0px 1px 3px 1px rgba(60, 64, 67, 0.15);\n",
              "      fill: #174EA6;\n",
              "    }\n",
              "\n",
              "    [theme=dark] .colab-df-convert {\n",
              "      background-color: #3B4455;\n",
              "      fill: #D2E3FC;\n",
              "    }\n",
              "\n",
              "    [theme=dark] .colab-df-convert:hover {\n",
              "      background-color: #434B5C;\n",
              "      box-shadow: 0px 1px 3px 1px rgba(0, 0, 0, 0.15);\n",
              "      filter: drop-shadow(0px 1px 2px rgba(0, 0, 0, 0.3));\n",
              "      fill: #FFFFFF;\n",
              "    }\n",
              "  </style>\n",
              "\n",
              "      <script>\n",
              "        const buttonEl =\n",
              "          document.querySelector('#df-13831a52-14dc-4dfa-bfdf-e575c570eff4 button.colab-df-convert');\n",
              "        buttonEl.style.display =\n",
              "          google.colab.kernel.accessAllowed ? 'block' : 'none';\n",
              "\n",
              "        async function convertToInteractive(key) {\n",
              "          const element = document.querySelector('#df-13831a52-14dc-4dfa-bfdf-e575c570eff4');\n",
              "          const dataTable =\n",
              "            await google.colab.kernel.invokeFunction('convertToInteractive',\n",
              "                                                     [key], {});\n",
              "          if (!dataTable) return;\n",
              "\n",
              "          const docLinkHtml = 'Like what you see? Visit the ' +\n",
              "            '<a target=\"_blank\" href=https://colab.research.google.com/notebooks/data_table.ipynb>data table notebook</a>'\n",
              "            + ' to learn more about interactive tables.';\n",
              "          element.innerHTML = '';\n",
              "          dataTable['output_type'] = 'display_data';\n",
              "          await google.colab.output.renderOutput(dataTable, element);\n",
              "          const docLink = document.createElement('div');\n",
              "          docLink.innerHTML = docLinkHtml;\n",
              "          element.appendChild(docLink);\n",
              "        }\n",
              "      </script>\n",
              "    </div>\n",
              "  </div>\n",
              "  "
            ]
          },
          "metadata": {},
          "execution_count": 50
        }
      ]
    },
    {
      "cell_type": "code",
      "source": [
        "df = df[['rank', 'yrs_service', 'salary']]\n",
        "# selecting specific columns from dataset\n",
        "df.head()"
      ],
      "metadata": {
        "colab": {
          "base_uri": "https://localhost:8080/",
          "height": 206
        },
        "id": "D7Jrvn4kfGiP",
        "outputId": "c5506ae5-da8d-480e-ceef-728c18171927"
      },
      "execution_count": null,
      "outputs": [
        {
          "output_type": "execute_result",
          "data": {
            "text/plain": [
              "       rank  yrs_service  salary\n",
              "0      Prof           18  139750\n",
              "1      Prof           16  173200\n",
              "2  AsstProf            3   79750\n",
              "3      Prof           39  115000\n",
              "4      Prof           41  141500"
            ],
            "text/html": [
              "\n",
              "  <div id=\"df-3e1b431e-fc2b-4d72-9f08-8a8aa431daab\">\n",
              "    <div class=\"colab-df-container\">\n",
              "      <div>\n",
              "<style scoped>\n",
              "    .dataframe tbody tr th:only-of-type {\n",
              "        vertical-align: middle;\n",
              "    }\n",
              "\n",
              "    .dataframe tbody tr th {\n",
              "        vertical-align: top;\n",
              "    }\n",
              "\n",
              "    .dataframe thead th {\n",
              "        text-align: right;\n",
              "    }\n",
              "</style>\n",
              "<table border=\"1\" class=\"dataframe\">\n",
              "  <thead>\n",
              "    <tr style=\"text-align: right;\">\n",
              "      <th></th>\n",
              "      <th>rank</th>\n",
              "      <th>yrs_service</th>\n",
              "      <th>salary</th>\n",
              "    </tr>\n",
              "  </thead>\n",
              "  <tbody>\n",
              "    <tr>\n",
              "      <th>0</th>\n",
              "      <td>Prof</td>\n",
              "      <td>18</td>\n",
              "      <td>139750</td>\n",
              "    </tr>\n",
              "    <tr>\n",
              "      <th>1</th>\n",
              "      <td>Prof</td>\n",
              "      <td>16</td>\n",
              "      <td>173200</td>\n",
              "    </tr>\n",
              "    <tr>\n",
              "      <th>2</th>\n",
              "      <td>AsstProf</td>\n",
              "      <td>3</td>\n",
              "      <td>79750</td>\n",
              "    </tr>\n",
              "    <tr>\n",
              "      <th>3</th>\n",
              "      <td>Prof</td>\n",
              "      <td>39</td>\n",
              "      <td>115000</td>\n",
              "    </tr>\n",
              "    <tr>\n",
              "      <th>4</th>\n",
              "      <td>Prof</td>\n",
              "      <td>41</td>\n",
              "      <td>141500</td>\n",
              "    </tr>\n",
              "  </tbody>\n",
              "</table>\n",
              "</div>\n",
              "      <button class=\"colab-df-convert\" onclick=\"convertToInteractive('df-3e1b431e-fc2b-4d72-9f08-8a8aa431daab')\"\n",
              "              title=\"Convert this dataframe to an interactive table.\"\n",
              "              style=\"display:none;\">\n",
              "        \n",
              "  <svg xmlns=\"http://www.w3.org/2000/svg\" height=\"24px\"viewBox=\"0 0 24 24\"\n",
              "       width=\"24px\">\n",
              "    <path d=\"M0 0h24v24H0V0z\" fill=\"none\"/>\n",
              "    <path d=\"M18.56 5.44l.94 2.06.94-2.06 2.06-.94-2.06-.94-.94-2.06-.94 2.06-2.06.94zm-11 1L8.5 8.5l.94-2.06 2.06-.94-2.06-.94L8.5 2.5l-.94 2.06-2.06.94zm10 10l.94 2.06.94-2.06 2.06-.94-2.06-.94-.94-2.06-.94 2.06-2.06.94z\"/><path d=\"M17.41 7.96l-1.37-1.37c-.4-.4-.92-.59-1.43-.59-.52 0-1.04.2-1.43.59L10.3 9.45l-7.72 7.72c-.78.78-.78 2.05 0 2.83L4 21.41c.39.39.9.59 1.41.59.51 0 1.02-.2 1.41-.59l7.78-7.78 2.81-2.81c.8-.78.8-2.07 0-2.86zM5.41 20L4 18.59l7.72-7.72 1.47 1.35L5.41 20z\"/>\n",
              "  </svg>\n",
              "      </button>\n",
              "      \n",
              "  <style>\n",
              "    .colab-df-container {\n",
              "      display:flex;\n",
              "      flex-wrap:wrap;\n",
              "      gap: 12px;\n",
              "    }\n",
              "\n",
              "    .colab-df-convert {\n",
              "      background-color: #E8F0FE;\n",
              "      border: none;\n",
              "      border-radius: 50%;\n",
              "      cursor: pointer;\n",
              "      display: none;\n",
              "      fill: #1967D2;\n",
              "      height: 32px;\n",
              "      padding: 0 0 0 0;\n",
              "      width: 32px;\n",
              "    }\n",
              "\n",
              "    .colab-df-convert:hover {\n",
              "      background-color: #E2EBFA;\n",
              "      box-shadow: 0px 1px 2px rgba(60, 64, 67, 0.3), 0px 1px 3px 1px rgba(60, 64, 67, 0.15);\n",
              "      fill: #174EA6;\n",
              "    }\n",
              "\n",
              "    [theme=dark] .colab-df-convert {\n",
              "      background-color: #3B4455;\n",
              "      fill: #D2E3FC;\n",
              "    }\n",
              "\n",
              "    [theme=dark] .colab-df-convert:hover {\n",
              "      background-color: #434B5C;\n",
              "      box-shadow: 0px 1px 3px 1px rgba(0, 0, 0, 0.15);\n",
              "      filter: drop-shadow(0px 1px 2px rgba(0, 0, 0, 0.3));\n",
              "      fill: #FFFFFF;\n",
              "    }\n",
              "  </style>\n",
              "\n",
              "      <script>\n",
              "        const buttonEl =\n",
              "          document.querySelector('#df-3e1b431e-fc2b-4d72-9f08-8a8aa431daab button.colab-df-convert');\n",
              "        buttonEl.style.display =\n",
              "          google.colab.kernel.accessAllowed ? 'block' : 'none';\n",
              "\n",
              "        async function convertToInteractive(key) {\n",
              "          const element = document.querySelector('#df-3e1b431e-fc2b-4d72-9f08-8a8aa431daab');\n",
              "          const dataTable =\n",
              "            await google.colab.kernel.invokeFunction('convertToInteractive',\n",
              "                                                     [key], {});\n",
              "          if (!dataTable) return;\n",
              "\n",
              "          const docLinkHtml = 'Like what you see? Visit the ' +\n",
              "            '<a target=\"_blank\" href=https://colab.research.google.com/notebooks/data_table.ipynb>data table notebook</a>'\n",
              "            + ' to learn more about interactive tables.';\n",
              "          element.innerHTML = '';\n",
              "          dataTable['output_type'] = 'display_data';\n",
              "          await google.colab.output.renderOutput(dataTable, element);\n",
              "          const docLink = document.createElement('div');\n",
              "          docLink.innerHTML = docLinkHtml;\n",
              "          element.appendChild(docLink);\n",
              "        }\n",
              "      </script>\n",
              "    </div>\n",
              "  </div>\n",
              "  "
            ]
          },
          "metadata": {},
          "execution_count": 51
        }
      ]
    },
    {
      "cell_type": "markdown",
      "source": [
        "###### Note for dummies columns\n",
        "- for continuous or discrete data, reference value is zero\n",
        "- for categorical data, out of ```n``` possible values, one will be reference, and other ```n-1``` possible values will be target values\n",
        "- while creaating dummies, alphabetically first category will be taken as reference value and dummy columns will be created for other target values"
      ],
      "metadata": {
        "id": "n5wiL6a7p03P"
      }
    },
    {
      "cell_type": "markdown",
      "source": [
        "###### pd.get_dummies(categorical_col, drop_first=True)\n",
        "- create dummies for categorical columns\n",
        "- first value in alphabetical order is automatically taken as reference value\n"
      ],
      "metadata": {
        "id": "FuIxiQBP_vrk"
      }
    },
    {
      "cell_type": "code",
      "source": [
        "rank_dummy = pd.get_dummies(df['rank'], drop_first=True)\n",
        "# creating dummy column\n",
        "rank_dummy.head()"
      ],
      "metadata": {
        "colab": {
          "base_uri": "https://localhost:8080/",
          "height": 206
        },
        "id": "qmNM8wjTfTH5",
        "outputId": "a724ed71-1a2a-4304-c083-bd254ffbc677"
      },
      "execution_count": null,
      "outputs": [
        {
          "output_type": "execute_result",
          "data": {
            "text/plain": [
              "   AsstProf  Prof\n",
              "0         0     1\n",
              "1         0     1\n",
              "2         1     0\n",
              "3         0     1\n",
              "4         0     1"
            ],
            "text/html": [
              "\n",
              "  <div id=\"df-e96e263d-b12c-4a97-a429-82ef225f424d\">\n",
              "    <div class=\"colab-df-container\">\n",
              "      <div>\n",
              "<style scoped>\n",
              "    .dataframe tbody tr th:only-of-type {\n",
              "        vertical-align: middle;\n",
              "    }\n",
              "\n",
              "    .dataframe tbody tr th {\n",
              "        vertical-align: top;\n",
              "    }\n",
              "\n",
              "    .dataframe thead th {\n",
              "        text-align: right;\n",
              "    }\n",
              "</style>\n",
              "<table border=\"1\" class=\"dataframe\">\n",
              "  <thead>\n",
              "    <tr style=\"text-align: right;\">\n",
              "      <th></th>\n",
              "      <th>AsstProf</th>\n",
              "      <th>Prof</th>\n",
              "    </tr>\n",
              "  </thead>\n",
              "  <tbody>\n",
              "    <tr>\n",
              "      <th>0</th>\n",
              "      <td>0</td>\n",
              "      <td>1</td>\n",
              "    </tr>\n",
              "    <tr>\n",
              "      <th>1</th>\n",
              "      <td>0</td>\n",
              "      <td>1</td>\n",
              "    </tr>\n",
              "    <tr>\n",
              "      <th>2</th>\n",
              "      <td>1</td>\n",
              "      <td>0</td>\n",
              "    </tr>\n",
              "    <tr>\n",
              "      <th>3</th>\n",
              "      <td>0</td>\n",
              "      <td>1</td>\n",
              "    </tr>\n",
              "    <tr>\n",
              "      <th>4</th>\n",
              "      <td>0</td>\n",
              "      <td>1</td>\n",
              "    </tr>\n",
              "  </tbody>\n",
              "</table>\n",
              "</div>\n",
              "      <button class=\"colab-df-convert\" onclick=\"convertToInteractive('df-e96e263d-b12c-4a97-a429-82ef225f424d')\"\n",
              "              title=\"Convert this dataframe to an interactive table.\"\n",
              "              style=\"display:none;\">\n",
              "        \n",
              "  <svg xmlns=\"http://www.w3.org/2000/svg\" height=\"24px\"viewBox=\"0 0 24 24\"\n",
              "       width=\"24px\">\n",
              "    <path d=\"M0 0h24v24H0V0z\" fill=\"none\"/>\n",
              "    <path d=\"M18.56 5.44l.94 2.06.94-2.06 2.06-.94-2.06-.94-.94-2.06-.94 2.06-2.06.94zm-11 1L8.5 8.5l.94-2.06 2.06-.94-2.06-.94L8.5 2.5l-.94 2.06-2.06.94zm10 10l.94 2.06.94-2.06 2.06-.94-2.06-.94-.94-2.06-.94 2.06-2.06.94z\"/><path d=\"M17.41 7.96l-1.37-1.37c-.4-.4-.92-.59-1.43-.59-.52 0-1.04.2-1.43.59L10.3 9.45l-7.72 7.72c-.78.78-.78 2.05 0 2.83L4 21.41c.39.39.9.59 1.41.59.51 0 1.02-.2 1.41-.59l7.78-7.78 2.81-2.81c.8-.78.8-2.07 0-2.86zM5.41 20L4 18.59l7.72-7.72 1.47 1.35L5.41 20z\"/>\n",
              "  </svg>\n",
              "      </button>\n",
              "      \n",
              "  <style>\n",
              "    .colab-df-container {\n",
              "      display:flex;\n",
              "      flex-wrap:wrap;\n",
              "      gap: 12px;\n",
              "    }\n",
              "\n",
              "    .colab-df-convert {\n",
              "      background-color: #E8F0FE;\n",
              "      border: none;\n",
              "      border-radius: 50%;\n",
              "      cursor: pointer;\n",
              "      display: none;\n",
              "      fill: #1967D2;\n",
              "      height: 32px;\n",
              "      padding: 0 0 0 0;\n",
              "      width: 32px;\n",
              "    }\n",
              "\n",
              "    .colab-df-convert:hover {\n",
              "      background-color: #E2EBFA;\n",
              "      box-shadow: 0px 1px 2px rgba(60, 64, 67, 0.3), 0px 1px 3px 1px rgba(60, 64, 67, 0.15);\n",
              "      fill: #174EA6;\n",
              "    }\n",
              "\n",
              "    [theme=dark] .colab-df-convert {\n",
              "      background-color: #3B4455;\n",
              "      fill: #D2E3FC;\n",
              "    }\n",
              "\n",
              "    [theme=dark] .colab-df-convert:hover {\n",
              "      background-color: #434B5C;\n",
              "      box-shadow: 0px 1px 3px 1px rgba(0, 0, 0, 0.15);\n",
              "      filter: drop-shadow(0px 1px 2px rgba(0, 0, 0, 0.3));\n",
              "      fill: #FFFFFF;\n",
              "    }\n",
              "  </style>\n",
              "\n",
              "      <script>\n",
              "        const buttonEl =\n",
              "          document.querySelector('#df-e96e263d-b12c-4a97-a429-82ef225f424d button.colab-df-convert');\n",
              "        buttonEl.style.display =\n",
              "          google.colab.kernel.accessAllowed ? 'block' : 'none';\n",
              "\n",
              "        async function convertToInteractive(key) {\n",
              "          const element = document.querySelector('#df-e96e263d-b12c-4a97-a429-82ef225f424d');\n",
              "          const dataTable =\n",
              "            await google.colab.kernel.invokeFunction('convertToInteractive',\n",
              "                                                     [key], {});\n",
              "          if (!dataTable) return;\n",
              "\n",
              "          const docLinkHtml = 'Like what you see? Visit the ' +\n",
              "            '<a target=\"_blank\" href=https://colab.research.google.com/notebooks/data_table.ipynb>data table notebook</a>'\n",
              "            + ' to learn more about interactive tables.';\n",
              "          element.innerHTML = '';\n",
              "          dataTable['output_type'] = 'display_data';\n",
              "          await google.colab.output.renderOutput(dataTable, element);\n",
              "          const docLink = document.createElement('div');\n",
              "          docLink.innerHTML = docLinkHtml;\n",
              "          element.appendChild(docLink);\n",
              "        }\n",
              "      </script>\n",
              "    </div>\n",
              "  </div>\n",
              "  "
            ]
          },
          "metadata": {},
          "execution_count": 52
        }
      ]
    },
    {
      "cell_type": "code",
      "source": [
        "df = df.drop('rank', axis=1)\n",
        "# dropping actual categorical column\n",
        "df.head()\n",
        "# checking columns in DataFrame after dropping categorical column"
      ],
      "metadata": {
        "colab": {
          "base_uri": "https://localhost:8080/",
          "height": 206
        },
        "id": "zkDuPXDyfnTv",
        "outputId": "614d2264-a246-4bad-dc50-c37c559826f4"
      },
      "execution_count": null,
      "outputs": [
        {
          "output_type": "execute_result",
          "data": {
            "text/plain": [
              "   yrs_service  salary\n",
              "0           18  139750\n",
              "1           16  173200\n",
              "2            3   79750\n",
              "3           39  115000\n",
              "4           41  141500"
            ],
            "text/html": [
              "\n",
              "  <div id=\"df-c8a5b0b9-9ec1-4446-ab0f-6f8c9b002623\">\n",
              "    <div class=\"colab-df-container\">\n",
              "      <div>\n",
              "<style scoped>\n",
              "    .dataframe tbody tr th:only-of-type {\n",
              "        vertical-align: middle;\n",
              "    }\n",
              "\n",
              "    .dataframe tbody tr th {\n",
              "        vertical-align: top;\n",
              "    }\n",
              "\n",
              "    .dataframe thead th {\n",
              "        text-align: right;\n",
              "    }\n",
              "</style>\n",
              "<table border=\"1\" class=\"dataframe\">\n",
              "  <thead>\n",
              "    <tr style=\"text-align: right;\">\n",
              "      <th></th>\n",
              "      <th>yrs_service</th>\n",
              "      <th>salary</th>\n",
              "    </tr>\n",
              "  </thead>\n",
              "  <tbody>\n",
              "    <tr>\n",
              "      <th>0</th>\n",
              "      <td>18</td>\n",
              "      <td>139750</td>\n",
              "    </tr>\n",
              "    <tr>\n",
              "      <th>1</th>\n",
              "      <td>16</td>\n",
              "      <td>173200</td>\n",
              "    </tr>\n",
              "    <tr>\n",
              "      <th>2</th>\n",
              "      <td>3</td>\n",
              "      <td>79750</td>\n",
              "    </tr>\n",
              "    <tr>\n",
              "      <th>3</th>\n",
              "      <td>39</td>\n",
              "      <td>115000</td>\n",
              "    </tr>\n",
              "    <tr>\n",
              "      <th>4</th>\n",
              "      <td>41</td>\n",
              "      <td>141500</td>\n",
              "    </tr>\n",
              "  </tbody>\n",
              "</table>\n",
              "</div>\n",
              "      <button class=\"colab-df-convert\" onclick=\"convertToInteractive('df-c8a5b0b9-9ec1-4446-ab0f-6f8c9b002623')\"\n",
              "              title=\"Convert this dataframe to an interactive table.\"\n",
              "              style=\"display:none;\">\n",
              "        \n",
              "  <svg xmlns=\"http://www.w3.org/2000/svg\" height=\"24px\"viewBox=\"0 0 24 24\"\n",
              "       width=\"24px\">\n",
              "    <path d=\"M0 0h24v24H0V0z\" fill=\"none\"/>\n",
              "    <path d=\"M18.56 5.44l.94 2.06.94-2.06 2.06-.94-2.06-.94-.94-2.06-.94 2.06-2.06.94zm-11 1L8.5 8.5l.94-2.06 2.06-.94-2.06-.94L8.5 2.5l-.94 2.06-2.06.94zm10 10l.94 2.06.94-2.06 2.06-.94-2.06-.94-.94-2.06-.94 2.06-2.06.94z\"/><path d=\"M17.41 7.96l-1.37-1.37c-.4-.4-.92-.59-1.43-.59-.52 0-1.04.2-1.43.59L10.3 9.45l-7.72 7.72c-.78.78-.78 2.05 0 2.83L4 21.41c.39.39.9.59 1.41.59.51 0 1.02-.2 1.41-.59l7.78-7.78 2.81-2.81c.8-.78.8-2.07 0-2.86zM5.41 20L4 18.59l7.72-7.72 1.47 1.35L5.41 20z\"/>\n",
              "  </svg>\n",
              "      </button>\n",
              "      \n",
              "  <style>\n",
              "    .colab-df-container {\n",
              "      display:flex;\n",
              "      flex-wrap:wrap;\n",
              "      gap: 12px;\n",
              "    }\n",
              "\n",
              "    .colab-df-convert {\n",
              "      background-color: #E8F0FE;\n",
              "      border: none;\n",
              "      border-radius: 50%;\n",
              "      cursor: pointer;\n",
              "      display: none;\n",
              "      fill: #1967D2;\n",
              "      height: 32px;\n",
              "      padding: 0 0 0 0;\n",
              "      width: 32px;\n",
              "    }\n",
              "\n",
              "    .colab-df-convert:hover {\n",
              "      background-color: #E2EBFA;\n",
              "      box-shadow: 0px 1px 2px rgba(60, 64, 67, 0.3), 0px 1px 3px 1px rgba(60, 64, 67, 0.15);\n",
              "      fill: #174EA6;\n",
              "    }\n",
              "\n",
              "    [theme=dark] .colab-df-convert {\n",
              "      background-color: #3B4455;\n",
              "      fill: #D2E3FC;\n",
              "    }\n",
              "\n",
              "    [theme=dark] .colab-df-convert:hover {\n",
              "      background-color: #434B5C;\n",
              "      box-shadow: 0px 1px 3px 1px rgba(0, 0, 0, 0.15);\n",
              "      filter: drop-shadow(0px 1px 2px rgba(0, 0, 0, 0.3));\n",
              "      fill: #FFFFFF;\n",
              "    }\n",
              "  </style>\n",
              "\n",
              "      <script>\n",
              "        const buttonEl =\n",
              "          document.querySelector('#df-c8a5b0b9-9ec1-4446-ab0f-6f8c9b002623 button.colab-df-convert');\n",
              "        buttonEl.style.display =\n",
              "          google.colab.kernel.accessAllowed ? 'block' : 'none';\n",
              "\n",
              "        async function convertToInteractive(key) {\n",
              "          const element = document.querySelector('#df-c8a5b0b9-9ec1-4446-ab0f-6f8c9b002623');\n",
              "          const dataTable =\n",
              "            await google.colab.kernel.invokeFunction('convertToInteractive',\n",
              "                                                     [key], {});\n",
              "          if (!dataTable) return;\n",
              "\n",
              "          const docLinkHtml = 'Like what you see? Visit the ' +\n",
              "            '<a target=\"_blank\" href=https://colab.research.google.com/notebooks/data_table.ipynb>data table notebook</a>'\n",
              "            + ' to learn more about interactive tables.';\n",
              "          element.innerHTML = '';\n",
              "          dataTable['output_type'] = 'display_data';\n",
              "          await google.colab.output.renderOutput(dataTable, element);\n",
              "          const docLink = document.createElement('div');\n",
              "          docLink.innerHTML = docLinkHtml;\n",
              "          element.appendChild(docLink);\n",
              "        }\n",
              "      </script>\n",
              "    </div>\n",
              "  </div>\n",
              "  "
            ]
          },
          "metadata": {},
          "execution_count": 53
        }
      ]
    },
    {
      "cell_type": "code",
      "source": [
        "df = pd.concat([df, rank_dummy], axis=1)\n",
        "# concatenating dummy column in place of actual categorical column\n",
        "df.head()\n",
        "# checking columns in DataFrame after concatenating categorical column"
      ],
      "metadata": {
        "colab": {
          "base_uri": "https://localhost:8080/",
          "height": 206
        },
        "id": "UjKGvXHvgHyB",
        "outputId": "e33c5b10-acb2-466b-9830-2c3ec3469734"
      },
      "execution_count": null,
      "outputs": [
        {
          "output_type": "execute_result",
          "data": {
            "text/plain": [
              "   yrs_service  salary  AsstProf  Prof\n",
              "0           18  139750         0     1\n",
              "1           16  173200         0     1\n",
              "2            3   79750         1     0\n",
              "3           39  115000         0     1\n",
              "4           41  141500         0     1"
            ],
            "text/html": [
              "\n",
              "  <div id=\"df-a649bc2d-2eb6-454a-98b5-9d94eff378ca\">\n",
              "    <div class=\"colab-df-container\">\n",
              "      <div>\n",
              "<style scoped>\n",
              "    .dataframe tbody tr th:only-of-type {\n",
              "        vertical-align: middle;\n",
              "    }\n",
              "\n",
              "    .dataframe tbody tr th {\n",
              "        vertical-align: top;\n",
              "    }\n",
              "\n",
              "    .dataframe thead th {\n",
              "        text-align: right;\n",
              "    }\n",
              "</style>\n",
              "<table border=\"1\" class=\"dataframe\">\n",
              "  <thead>\n",
              "    <tr style=\"text-align: right;\">\n",
              "      <th></th>\n",
              "      <th>yrs_service</th>\n",
              "      <th>salary</th>\n",
              "      <th>AsstProf</th>\n",
              "      <th>Prof</th>\n",
              "    </tr>\n",
              "  </thead>\n",
              "  <tbody>\n",
              "    <tr>\n",
              "      <th>0</th>\n",
              "      <td>18</td>\n",
              "      <td>139750</td>\n",
              "      <td>0</td>\n",
              "      <td>1</td>\n",
              "    </tr>\n",
              "    <tr>\n",
              "      <th>1</th>\n",
              "      <td>16</td>\n",
              "      <td>173200</td>\n",
              "      <td>0</td>\n",
              "      <td>1</td>\n",
              "    </tr>\n",
              "    <tr>\n",
              "      <th>2</th>\n",
              "      <td>3</td>\n",
              "      <td>79750</td>\n",
              "      <td>1</td>\n",
              "      <td>0</td>\n",
              "    </tr>\n",
              "    <tr>\n",
              "      <th>3</th>\n",
              "      <td>39</td>\n",
              "      <td>115000</td>\n",
              "      <td>0</td>\n",
              "      <td>1</td>\n",
              "    </tr>\n",
              "    <tr>\n",
              "      <th>4</th>\n",
              "      <td>41</td>\n",
              "      <td>141500</td>\n",
              "      <td>0</td>\n",
              "      <td>1</td>\n",
              "    </tr>\n",
              "  </tbody>\n",
              "</table>\n",
              "</div>\n",
              "      <button class=\"colab-df-convert\" onclick=\"convertToInteractive('df-a649bc2d-2eb6-454a-98b5-9d94eff378ca')\"\n",
              "              title=\"Convert this dataframe to an interactive table.\"\n",
              "              style=\"display:none;\">\n",
              "        \n",
              "  <svg xmlns=\"http://www.w3.org/2000/svg\" height=\"24px\"viewBox=\"0 0 24 24\"\n",
              "       width=\"24px\">\n",
              "    <path d=\"M0 0h24v24H0V0z\" fill=\"none\"/>\n",
              "    <path d=\"M18.56 5.44l.94 2.06.94-2.06 2.06-.94-2.06-.94-.94-2.06-.94 2.06-2.06.94zm-11 1L8.5 8.5l.94-2.06 2.06-.94-2.06-.94L8.5 2.5l-.94 2.06-2.06.94zm10 10l.94 2.06.94-2.06 2.06-.94-2.06-.94-.94-2.06-.94 2.06-2.06.94z\"/><path d=\"M17.41 7.96l-1.37-1.37c-.4-.4-.92-.59-1.43-.59-.52 0-1.04.2-1.43.59L10.3 9.45l-7.72 7.72c-.78.78-.78 2.05 0 2.83L4 21.41c.39.39.9.59 1.41.59.51 0 1.02-.2 1.41-.59l7.78-7.78 2.81-2.81c.8-.78.8-2.07 0-2.86zM5.41 20L4 18.59l7.72-7.72 1.47 1.35L5.41 20z\"/>\n",
              "  </svg>\n",
              "      </button>\n",
              "      \n",
              "  <style>\n",
              "    .colab-df-container {\n",
              "      display:flex;\n",
              "      flex-wrap:wrap;\n",
              "      gap: 12px;\n",
              "    }\n",
              "\n",
              "    .colab-df-convert {\n",
              "      background-color: #E8F0FE;\n",
              "      border: none;\n",
              "      border-radius: 50%;\n",
              "      cursor: pointer;\n",
              "      display: none;\n",
              "      fill: #1967D2;\n",
              "      height: 32px;\n",
              "      padding: 0 0 0 0;\n",
              "      width: 32px;\n",
              "    }\n",
              "\n",
              "    .colab-df-convert:hover {\n",
              "      background-color: #E2EBFA;\n",
              "      box-shadow: 0px 1px 2px rgba(60, 64, 67, 0.3), 0px 1px 3px 1px rgba(60, 64, 67, 0.15);\n",
              "      fill: #174EA6;\n",
              "    }\n",
              "\n",
              "    [theme=dark] .colab-df-convert {\n",
              "      background-color: #3B4455;\n",
              "      fill: #D2E3FC;\n",
              "    }\n",
              "\n",
              "    [theme=dark] .colab-df-convert:hover {\n",
              "      background-color: #434B5C;\n",
              "      box-shadow: 0px 1px 3px 1px rgba(0, 0, 0, 0.15);\n",
              "      filter: drop-shadow(0px 1px 2px rgba(0, 0, 0, 0.3));\n",
              "      fill: #FFFFFF;\n",
              "    }\n",
              "  </style>\n",
              "\n",
              "      <script>\n",
              "        const buttonEl =\n",
              "          document.querySelector('#df-a649bc2d-2eb6-454a-98b5-9d94eff378ca button.colab-df-convert');\n",
              "        buttonEl.style.display =\n",
              "          google.colab.kernel.accessAllowed ? 'block' : 'none';\n",
              "\n",
              "        async function convertToInteractive(key) {\n",
              "          const element = document.querySelector('#df-a649bc2d-2eb6-454a-98b5-9d94eff378ca');\n",
              "          const dataTable =\n",
              "            await google.colab.kernel.invokeFunction('convertToInteractive',\n",
              "                                                     [key], {});\n",
              "          if (!dataTable) return;\n",
              "\n",
              "          const docLinkHtml = 'Like what you see? Visit the ' +\n",
              "            '<a target=\"_blank\" href=https://colab.research.google.com/notebooks/data_table.ipynb>data table notebook</a>'\n",
              "            + ' to learn more about interactive tables.';\n",
              "          element.innerHTML = '';\n",
              "          dataTable['output_type'] = 'display_data';\n",
              "          await google.colab.output.renderOutput(dataTable, element);\n",
              "          const docLink = document.createElement('div');\n",
              "          docLink.innerHTML = docLinkHtml;\n",
              "          element.appendChild(docLink);\n",
              "        }\n",
              "      </script>\n",
              "    </div>\n",
              "  </div>\n",
              "  "
            ]
          },
          "metadata": {},
          "execution_count": 54
        }
      ]
    },
    {
      "cell_type": "markdown",
      "source": [
        "###### train_test_split(predictor_cols, response_col, test_size=0.25)"
      ],
      "metadata": {
        "id": "hnp_PvRQB64B"
      }
    },
    {
      "cell_type": "code",
      "source": [
        "x_train, x_test, y_train, t_test = train_test_split(df.drop('salary', axis=1), df['salary'], test_size=0.25)\n",
        "# splitting dataset 4-ways\n",
        "# rows are randomly selected for testing"
      ],
      "metadata": {
        "id": "wqo15oHggZtP"
      },
      "execution_count": null,
      "outputs": []
    },
    {
      "cell_type": "markdown",
      "source": [
        "###### sm.add_constant(x_train, prepend=False)"
      ],
      "metadata": {
        "id": "YQ0aBmjpB-Z3"
      }
    },
    {
      "cell_type": "code",
      "source": [
        "x_train = sm.add_constant(x_train, prepend=False)\n",
        "# adding constant to match equation\n",
        "# if we do not add constant, model will follow y = mx\n",
        "# if we add constant, model will follow y = m1x1 + m2x2 + m3x3 + ... + c\n",
        "x_train.head()\n",
        "# checking columns in Predictor-training DataFrame after adding constant"
      ],
      "metadata": {
        "id": "lEZx-wQ1gxdn"
      },
      "execution_count": null,
      "outputs": []
    },
    {
      "cell_type": "markdown",
      "source": [
        "###### sm.OLS(y_train, x_train).fit()"
      ],
      "metadata": {
        "id": "jH0g_8JgCB5S"
      }
    },
    {
      "cell_type": "code",
      "source": [
        "mod1 = sm.OLS(y_train, x_train).fit()\n",
        "# creating model"
      ],
      "metadata": {
        "id": "y8Kb6HD_gyO7"
      },
      "execution_count": null,
      "outputs": []
    },
    {
      "cell_type": "code",
      "source": [
        "print(mod1.summary())\n",
        "# printing model summary / OLS Regression Results"
      ],
      "metadata": {
        "colab": {
          "base_uri": "https://localhost:8080/"
        },
        "id": "6hEBD5b4gyi5",
        "outputId": "72f990c6-d62e-45c8-f6f0-6cdaa14fc1da"
      },
      "execution_count": null,
      "outputs": [
        {
          "output_type": "stream",
          "name": "stdout",
          "text": [
            "                            OLS Regression Results                            \n",
            "==============================================================================\n",
            "Dep. Variable:                 salary   R-squared:                       0.404\n",
            "Model:                            OLS   Adj. R-squared:                  0.398\n",
            "Method:                 Least Squares   F-statistic:                     66.15\n",
            "Date:                Tue, 20 Jun 2023   Prob (F-statistic):           1.08e-32\n",
            "Time:                        11:16:39   Log-Likelihood:                -3419.4\n",
            "No. Observations:                 297   AIC:                             6847.\n",
            "Df Residuals:                     293   BIC:                             6862.\n",
            "Df Model:                           3                                         \n",
            "Covariance Type:            nonrobust                                         \n",
            "===============================================================================\n",
            "                  coef    std err          t      P>|t|      [0.025      0.975]\n",
            "-------------------------------------------------------------------------------\n",
            "yrs_service  -156.0714    138.097     -1.130      0.259    -427.860     115.717\n",
            "AsstProf    -1.201e+04   5093.799     -2.357      0.019    -2.2e+04   -1982.358\n",
            "Prof         3.748e+04   4158.028      9.015      0.000    2.93e+04    4.57e+04\n",
            "const        9.399e+04   3976.732     23.635      0.000    8.62e+04    1.02e+05\n",
            "==============================================================================\n",
            "Omnibus:                       35.178   Durbin-Watson:                   2.022\n",
            "Prob(Omnibus):                  0.000   Jarque-Bera (JB):               54.656\n",
            "Skew:                           0.730   Prob(JB):                     1.35e-12\n",
            "Kurtosis:                       4.511   Cond. No.                         102.\n",
            "==============================================================================\n",
            "\n",
            "Notes:\n",
            "[1] Standard Errors assume that the covariance matrix of the errors is correctly specified.\n"
          ]
        }
      ]
    },
    {
      "cell_type": "markdown",
      "source": [
        "###### interpreting predictors\n",
        "- for rank, reference value is ```AssocProf```, and all other categorical values are target values as per dummy column\n",
        "- if rank changes from ```AssocProf``` --> ```AsstProf```, keeping all other factors constant, salary is decreasing by 1.201e+04, decreasing due to -ve sign\n",
        "- if rank changes from ```AssocProf``` --> ```Prof```, keeping all other factors constant, salary is increasing by 3.748e+04, increasing due to +ve sign\n"
      ],
      "metadata": {
        "id": "QYVLMN1_rT-f"
      }
    },
    {
      "cell_type": "markdown",
      "source": [
        "###### interpreting const\n",
        "- ```const = 9.399e+04``` , means  if ```x=0``` in equation ```y = mx + c```, then ```y = c``` called as y-intercept.\n",
        "- This implies that the starting salary of employee is 9.399e+04 , when yrs_service = 0 and rank is also zero or fresher"
      ],
      "metadata": {
        "id": "ZSW-f1xtrzas"
      }
    },
    {
      "cell_type": "markdown",
      "source": [
        "#### Non-Linear Regression Model"
      ],
      "metadata": {
        "id": "Fc5HJCdcLLnm"
      }
    },
    {
      "cell_type": "code",
      "source": [],
      "metadata": {
        "id": "PvikP6wUpdR9"
      },
      "execution_count": null,
      "outputs": []
    }
  ]
}