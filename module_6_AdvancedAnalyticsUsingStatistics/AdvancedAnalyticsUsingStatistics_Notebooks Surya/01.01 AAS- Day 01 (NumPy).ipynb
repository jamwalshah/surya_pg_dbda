{
  "cells": [
    {
      "cell_type": "markdown",
      "source": [
        "# → Course contents\n",
        "1. Programming\n",
        "2. DataBase Management System\n",
        "3. Descriptive statistics\n",
        "4. Inferential statistics\n",
        "5. Predictive statistics\n",
        "6. Modeling\n"
      ],
      "metadata": {
        "id": "F-nJS13K5zRR"
      }
    },
    {
      "cell_type": "markdown",
      "source": [
        "# → Types of statistics\n",
        "1. Descriptive statistics - news and all, indicating variances or central tendencies\n",
        "2. Inferential statistics - making inferences using different tests, regressions, correlations to take decisions\n",
        "3. Predictive statistics - predictions based on previous data using regessions, classifications, associations or clustering\n",
        "4. Diagnostic Analytics - examines data or content tofind the root cause of an event happening, includes techniques such as drill-down, data discovery, data mining and correlations\n"
      ],
      "metadata": {
        "id": "TkdE0brS56qW"
      }
    },
    {
      "cell_type": "markdown",
      "source": [
        "# → Libraries to study\n",
        "1. NumPy (package for scientific computing)\n",
        "https://pypi.org/project/numpy/\n",
        "2. Pandas (fast, flexible, and expressive data structures)\n",
        "https://pypi.org/project/pandas/\n",
        "3. OpenPyXL library ( to export/import data from xlsx / csv file) https://pypi.org/project/openpyxl/\n"
      ],
      "metadata": {
        "id": "g_httdmv6EEc"
      }
    },
    {
      "cell_type": "markdown",
      "source": [
        "### NumPy"
      ],
      "metadata": {
        "id": "kxikNnGJS3cm"
      }
    },
    {
      "cell_type": "markdown",
      "source": [
        "- arrays in NumPy are called n-D array (ndarray)"
      ],
      "metadata": {
        "id": "RmpVzNCi-1sH"
      }
    },
    {
      "cell_type": "code",
      "execution_count": null,
      "metadata": {
        "id": "oiEHuJ4ln2F0"
      },
      "outputs": [],
      "source": [
        "import numpy as np"
      ]
    },
    {
      "cell_type": "markdown",
      "source": [
        "### np.arange()"
      ],
      "metadata": {
        "id": "LSaCxniuu9cm"
      }
    },
    {
      "cell_type": "code",
      "execution_count": null,
      "metadata": {
        "id": "pVAkZIq8oc_W",
        "colab": {
          "base_uri": "https://localhost:8080/"
        },
        "outputId": "4b2f3ebf-404f-4d8a-c9ac-c66a02758a28"
      },
      "outputs": [
        {
          "output_type": "execute_result",
          "data": {
            "text/plain": [
              "array([0, 1, 2, 3, 4, 5, 6])"
            ]
          },
          "metadata": {},
          "execution_count": 2
        }
      ],
      "source": [
        "x = np.arange(7)\n",
        "# to generate ndarray with even spacing of 7 numbers\n",
        "x"
      ]
    },
    {
      "cell_type": "code",
      "execution_count": null,
      "metadata": {
        "id": "SJiriNzzolGD",
        "colab": {
          "base_uri": "https://localhost:8080/"
        },
        "outputId": "eeba8eb7-395e-45f5-9f11-6f535800fc31"
      },
      "outputs": [
        {
          "output_type": "execute_result",
          "data": {
            "text/plain": [
              "array([3, 4, 5, 6])"
            ]
          },
          "metadata": {},
          "execution_count": 3
        }
      ],
      "source": [
        "x = np.arange(3, 7)\n",
        "# to generate ndarray between 3, 7 with default step=1\n",
        "x"
      ]
    },
    {
      "cell_type": "code",
      "execution_count": null,
      "metadata": {
        "id": "y47u9_Ctor02",
        "colab": {
          "base_uri": "https://localhost:8080/"
        },
        "outputId": "728a3649-d77a-4f04-d5d6-9d945cf993b0"
      },
      "outputs": [
        {
          "output_type": "execute_result",
          "data": {
            "text/plain": [
              "array([ 3,  7, 11, 15])"
            ]
          },
          "metadata": {},
          "execution_count": 4
        }
      ],
      "source": [
        "x = np.arange(3, 17, 4)\n",
        "# to generate ndarray between 3,17 with step=4\n",
        "x"
      ]
    },
    {
      "cell_type": "code",
      "execution_count": null,
      "metadata": {
        "id": "R8o5UStoo1SA",
        "colab": {
          "base_uri": "https://localhost:8080/"
        },
        "outputId": "1e86b01e-2bc1-4338-a76d-23a436c89bc0"
      },
      "outputs": [
        {
          "output_type": "execute_result",
          "data": {
            "text/plain": [
              "array([40, 38, 36, 34, 32, 30, 28, 26, 24, 22, 20, 18, 16, 14, 12, 10,  8])"
            ]
          },
          "metadata": {},
          "execution_count": 5
        }
      ],
      "source": [
        "x = np.arange(40, 6, -2)\n",
        "# to generate ndarray between 40,6 with reverse step=4\n",
        "x"
      ]
    },
    {
      "cell_type": "markdown",
      "source": [
        "### np.array()"
      ],
      "metadata": {
        "id": "bcmwpJ3HTqQ2"
      }
    },
    {
      "cell_type": "code",
      "execution_count": null,
      "metadata": {
        "id": "pRbKWghnqd-2",
        "colab": {
          "base_uri": "https://localhost:8080/"
        },
        "outputId": "dc94b0e5-4d8c-4015-af8a-f0e9f34d8248"
      },
      "outputs": [
        {
          "output_type": "execute_result",
          "data": {
            "text/plain": [
              "numpy.ndarray"
            ]
          },
          "metadata": {},
          "execution_count": 6
        }
      ],
      "source": [
        "x = np.array([3, 5, 4, 7]) # creating ndarray\n",
        "type(x)"
      ]
    },
    {
      "cell_type": "markdown",
      "source": [
        "- direct operations on ndarray is possible, known as broadcasting"
      ],
      "metadata": {
        "id": "dxET73S4TEsM"
      }
    },
    {
      "cell_type": "code",
      "execution_count": null,
      "metadata": {
        "colab": {
          "base_uri": "https://localhost:8080/"
        },
        "id": "f0G7OCqcre38",
        "outputId": "22c4d793-52b8-462e-84b3-d87bb8306d8a"
      },
      "outputs": [
        {
          "output_type": "execute_result",
          "data": {
            "text/plain": [
              "array([ 6,  8,  7, 10])"
            ]
          },
          "metadata": {},
          "execution_count": 7
        }
      ],
      "source": [
        "x+3\n",
        "# broadcasting operation returns another ndarray"
      ]
    },
    {
      "cell_type": "code",
      "source": [
        "x\n",
        "# actual value of ndarray is same"
      ],
      "metadata": {
        "colab": {
          "base_uri": "https://localhost:8080/"
        },
        "id": "_uVgUe8P17Bd",
        "outputId": "02f70762-6aca-4e1e-8809-5e483b2debb2"
      },
      "execution_count": null,
      "outputs": [
        {
          "output_type": "execute_result",
          "data": {
            "text/plain": [
              "array([3, 5, 4, 7])"
            ]
          },
          "metadata": {},
          "execution_count": 8
        }
      ]
    },
    {
      "cell_type": "code",
      "execution_count": null,
      "metadata": {
        "id": "n5objgjGrmol",
        "colab": {
          "base_uri": "https://localhost:8080/"
        },
        "outputId": "7f5f79e2-0fac-4c8b-a5e1-1dd98d4cf171"
      },
      "outputs": [
        {
          "output_type": "execute_result",
          "data": {
            "text/plain": [
              "array([2, 8, 7, 6])"
            ]
          },
          "metadata": {},
          "execution_count": 9
        }
      ],
      "source": [
        "y = [2, 8, 7, 6]    # creating a list\n",
        "y = np.array(y)     # casting that list to ndarray\n",
        "y"
      ]
    },
    {
      "cell_type": "code",
      "source": [
        "y = y + 3           # direct operation on ndarray\n",
        "y"
      ],
      "metadata": {
        "colab": {
          "base_uri": "https://localhost:8080/"
        },
        "id": "F6dl-52kUwWe",
        "outputId": "c1b6fc4c-bd95-4a2f-870a-566dbd6a9a80"
      },
      "execution_count": null,
      "outputs": [
        {
          "output_type": "execute_result",
          "data": {
            "text/plain": [
              "array([ 5, 11, 10,  9])"
            ]
          },
          "metadata": {},
          "execution_count": 10
        }
      ]
    },
    {
      "cell_type": "code",
      "source": [
        "y = list(y)         # casting that processed ndarray back to list\n",
        "y                   # printing list"
      ],
      "metadata": {
        "colab": {
          "base_uri": "https://localhost:8080/"
        },
        "id": "wqQaA9i7UwPe",
        "outputId": "31050668-7dd9-4520-978d-0bf66a816a07"
      },
      "execution_count": null,
      "outputs": [
        {
          "output_type": "execute_result",
          "data": {
            "text/plain": [
              "[5, 11, 10, 9]"
            ]
          },
          "metadata": {},
          "execution_count": 11
        }
      ]
    },
    {
      "cell_type": "code",
      "execution_count": null,
      "metadata": {
        "id": "6rxK00sWsFAl",
        "colab": {
          "base_uri": "https://localhost:8080/"
        },
        "outputId": "15f75926-76ee-43d2-bb09-a3c5e08d1190"
      },
      "outputs": [
        {
          "output_type": "execute_result",
          "data": {
            "text/plain": [
              "array([3, 7, 5, 8])"
            ]
          },
          "metadata": {},
          "execution_count": 12
        }
      ],
      "source": [
        "arr2d = np.array([3, 7, 5, 8]) # creating ndarray\n",
        "arr2d"
      ]
    },
    {
      "cell_type": "code",
      "execution_count": null,
      "metadata": {
        "id": "ujkloptjuNpW",
        "colab": {
          "base_uri": "https://localhost:8080/"
        },
        "outputId": "6c2b2a82-502b-44e2-e8d6-120683d4e38d"
      },
      "outputs": [
        {
          "output_type": "execute_result",
          "data": {
            "text/plain": [
              "array([[3, 7, 5, 8],\n",
              "       [1, 4, 3, 6]])"
            ]
          },
          "metadata": {},
          "execution_count": 13
        }
      ],
      "source": [
        "arr2d = np.array([[3, 7, 5, 8], [1, 4, 3, 6]])\n",
        "# creating 2-D ndarray with two rows\n",
        "arr2d"
      ]
    },
    {
      "cell_type": "code",
      "execution_count": null,
      "metadata": {
        "id": "rKW5PxW3uYwx",
        "colab": {
          "base_uri": "https://localhost:8080/"
        },
        "outputId": "5e8b3d14-7ac0-4acf-fbeb-ab070193c2ab"
      },
      "outputs": [
        {
          "output_type": "execute_result",
          "data": {
            "text/plain": [
              "array([[3, 7, 5, 8],\n",
              "       [1, 4, 3, 6],\n",
              "       [1, 9, 7, 4]])"
            ]
          },
          "metadata": {},
          "execution_count": 14
        }
      ],
      "source": [
        "arr2d = np.array([[3, 7, 5, 8], [1, 4, 3, 6], [1, 9, 7, 4]])\n",
        "# creating 2-D ndarray with three rows\n",
        "arr2d"
      ]
    },
    {
      "cell_type": "markdown",
      "source": [
        "### np.reshape(r, c)"
      ],
      "metadata": {
        "id": "pR5MigmpVj_A"
      }
    },
    {
      "cell_type": "code",
      "execution_count": null,
      "metadata": {
        "id": "DQYjXDzduiRn",
        "colab": {
          "base_uri": "https://localhost:8080/"
        },
        "outputId": "e7759398-3b0f-4d8b-c468-7b7c3c433aa4"
      },
      "outputs": [
        {
          "output_type": "execute_result",
          "data": {
            "text/plain": [
              "array([[[3, 7, 5, 8],\n",
              "        [1, 4, 3, 6],\n",
              "        [1, 9, 7, 4]],\n",
              "\n",
              "       [[4, 5, 6, 8],\n",
              "        [8, 7, 5, 6],\n",
              "        [1, 4, 3, 7]]])"
            ]
          },
          "metadata": {},
          "execution_count": 15
        }
      ],
      "source": [
        "arr3d = np.array([ [[3, 7, 5, 8], [1, 4, 3, 6], [1, 9, 7, 4]], [[4, 5, 6, 8], [8, 7, 5, 6], [1, 4, 3, 7]] ])\n",
        "# creating 3-D ndarray with two 2-D ndarrays of three row each\n",
        "arr3d"
      ]
    },
    {
      "cell_type": "code",
      "execution_count": null,
      "metadata": {
        "id": "p8LA9hKhwUe5",
        "colab": {
          "base_uri": "https://localhost:8080/"
        },
        "outputId": "9af17592-a965-4865-9807-c1bce25eeba6"
      },
      "outputs": [
        {
          "output_type": "execute_result",
          "data": {
            "text/plain": [
              "list"
            ]
          },
          "metadata": {},
          "execution_count": 16
        }
      ],
      "source": [
        "t = [2, 4, 3, 6, 5, 7, 8, 9, 1, 2, 3, 5]\n",
        "type(t) # checking type of t"
      ]
    },
    {
      "cell_type": "code",
      "execution_count": null,
      "metadata": {
        "colab": {
          "base_uri": "https://localhost:8080/"
        },
        "id": "LBD7zjnAwgwl",
        "outputId": "bfe12eea-35fd-4e5a-8ea7-f0d7b79f1c73"
      },
      "outputs": [
        {
          "output_type": "execute_result",
          "data": {
            "text/plain": [
              "12"
            ]
          },
          "metadata": {},
          "execution_count": 17
        }
      ],
      "source": [
        "len(t)\n",
        "# printing length of list t"
      ]
    },
    {
      "cell_type": "code",
      "execution_count": null,
      "metadata": {
        "id": "UaOtQDniwrXB",
        "colab": {
          "base_uri": "https://localhost:8080/"
        },
        "outputId": "a12969c8-9204-4f0a-89d9-958d505d7e4e"
      },
      "outputs": [
        {
          "output_type": "execute_result",
          "data": {
            "text/plain": [
              "array([2, 4, 3, 6, 5, 7, 8, 9, 1, 2, 3, 5])"
            ]
          },
          "metadata": {},
          "execution_count": 18
        }
      ],
      "source": [
        "t = np.array(t)\n",
        "# casting list t into ndarray t\n",
        "t"
      ]
    },
    {
      "cell_type": "code",
      "execution_count": null,
      "metadata": {
        "id": "U3Bf1GVPw2_x",
        "colab": {
          "base_uri": "https://localhost:8080/"
        },
        "outputId": "d19879f6-d959-4316-83d4-9b97a5bf2856"
      },
      "outputs": [
        {
          "output_type": "execute_result",
          "data": {
            "text/plain": [
              "array([[2, 4, 3, 6],\n",
              "       [5, 7, 8, 9],\n",
              "       [1, 2, 3, 5]])"
            ]
          },
          "metadata": {},
          "execution_count": 19
        }
      ],
      "source": [
        "arr2d = t.reshape(3, 4)\n",
        "# reshaping 1-D ndarray to 2-D ndarray by specifying\n",
        "# rows & columns to reshape(r,c) method\n",
        "arr2d"
      ]
    },
    {
      "cell_type": "code",
      "execution_count": null,
      "metadata": {
        "id": "7MuC0PK3xAhp",
        "colab": {
          "base_uri": "https://localhost:8080/"
        },
        "outputId": "4cf0160f-502f-41da-c7c8-c80f13a216ba"
      },
      "outputs": [
        {
          "output_type": "execute_result",
          "data": {
            "text/plain": [
              "array([[2, 4],\n",
              "       [3, 6],\n",
              "       [5, 7],\n",
              "       [8, 9],\n",
              "       [1, 2],\n",
              "       [3, 5]])"
            ]
          },
          "metadata": {},
          "execution_count": 20
        }
      ],
      "source": [
        "arr2d = t.reshape(6, 2)\n",
        "# again reshaping a 2-D ndarray to another 2-D ndarray by\n",
        "# specifying rows & columns to reshape(r,c) method\n",
        "arr2d"
      ]
    },
    {
      "cell_type": "code",
      "execution_count": null,
      "metadata": {
        "id": "_R99lpyxxFQl",
        "colab": {
          "base_uri": "https://localhost:8080/"
        },
        "outputId": "9a209190-2467-47e6-f3d3-144940fa2d62"
      },
      "outputs": [
        {
          "output_type": "execute_result",
          "data": {
            "text/plain": [
              "array([[2, 4, 3, 6, 5, 7],\n",
              "       [8, 9, 1, 2, 3, 5]])"
            ]
          },
          "metadata": {},
          "execution_count": 21
        }
      ],
      "source": [
        "arr2d = t.reshape(2, 6)\n",
        "# again reshaping a 2-D ndarray to another 2-D ndarray by\n",
        "# swapping rows & columns count\n",
        "arr2d"
      ]
    },
    {
      "cell_type": "code",
      "execution_count": null,
      "metadata": {
        "id": "JjneZg7gxJRA",
        "colab": {
          "base_uri": "https://localhost:8080/"
        },
        "outputId": "238618d2-0dd4-4529-c271-1df092f85639"
      },
      "outputs": [
        {
          "output_type": "execute_result",
          "data": {
            "text/plain": [
              "array([3, 7, 6, 4, 8])"
            ]
          },
          "metadata": {},
          "execution_count": 22
        }
      ],
      "source": [
        "arr1d = np.array([3, 7, 6, 4, 8])\n",
        "# creating 1-D ndarray\n",
        "arr1d"
      ]
    },
    {
      "cell_type": "code",
      "execution_count": null,
      "metadata": {
        "colab": {
          "base_uri": "https://localhost:8080/"
        },
        "id": "LfUgqdahxsxJ",
        "outputId": "5ad43f7f-a081-4aaf-bd6a-32a6557e9edd"
      },
      "outputs": [
        {
          "output_type": "execute_result",
          "data": {
            "text/plain": [
              "5"
            ]
          },
          "metadata": {},
          "execution_count": 23
        }
      ],
      "source": [
        "len(arr1d)"
      ]
    },
    {
      "cell_type": "markdown",
      "source": [
        "### accessing elements in 1-D ndarray"
      ],
      "metadata": {
        "id": "UyCnN2viZyIN"
      }
    },
    {
      "cell_type": "code",
      "execution_count": null,
      "metadata": {
        "colab": {
          "base_uri": "https://localhost:8080/"
        },
        "id": "WGi0Fa9Mxu6Q",
        "outputId": "2ebdd652-3d8e-4a1e-b238-75aa0c4391c2"
      },
      "outputs": [
        {
          "output_type": "execute_result",
          "data": {
            "text/plain": [
              "4"
            ]
          },
          "metadata": {},
          "execution_count": 24
        }
      ],
      "source": [
        "arr1d[3]\n",
        "# accessing 3rd element from 1-D ndarray"
      ]
    },
    {
      "cell_type": "code",
      "execution_count": null,
      "metadata": {
        "id": "6JpThpdux7bS",
        "colab": {
          "base_uri": "https://localhost:8080/"
        },
        "outputId": "455e6dbc-0046-4035-e315-302442cc3454"
      },
      "outputs": [
        {
          "output_type": "execute_result",
          "data": {
            "text/plain": [
              "array([3, 7, 6, 7, 8])"
            ]
          },
          "metadata": {},
          "execution_count": 25
        }
      ],
      "source": [
        "arr1d[3] = 7\n",
        "# updating 3rd element from 1-D ndarray\n",
        "arr1d"
      ]
    },
    {
      "cell_type": "markdown",
      "source": [
        "### np.append(ndarr, ele)"
      ],
      "metadata": {
        "id": "CVFMYmqzW6H1"
      }
    },
    {
      "cell_type": "code",
      "execution_count": null,
      "metadata": {
        "id": "eGAhg95bx-J7",
        "colab": {
          "base_uri": "https://localhost:8080/"
        },
        "outputId": "e14a49e8-11c2-4da2-ecf7-89fe5f0c9764"
      },
      "outputs": [
        {
          "output_type": "execute_result",
          "data": {
            "text/plain": [
              "array([ 3,  7,  6,  7,  8, 10])"
            ]
          },
          "metadata": {},
          "execution_count": 26
        }
      ],
      "source": [
        "arr1d = np.append(arr1d, 10)\n",
        "# np.append(ndarr, ele) appends ele to last of ndarray\n",
        "arr1d"
      ]
    },
    {
      "cell_type": "markdown",
      "source": [
        "### np.insert(ndarray, index, ele)"
      ],
      "metadata": {
        "id": "nPFEl0dCXN1d"
      }
    },
    {
      "cell_type": "code",
      "execution_count": null,
      "metadata": {
        "id": "3TajZ4piyRwY",
        "colab": {
          "base_uri": "https://localhost:8080/"
        },
        "outputId": "4b505d0f-dc3f-419c-963e-6d515c00f49c"
      },
      "outputs": [
        {
          "output_type": "execute_result",
          "data": {
            "text/plain": [
              "array([ 3,  7,  6,  5,  7,  8, 10])"
            ]
          },
          "metadata": {},
          "execution_count": 27
        }
      ],
      "source": [
        "arr1d = np.insert(arr1d, 3, 5)\n",
        "# np.insert(ndarray, pos, ele) inserts ele at index in ndarray\n",
        "arr1d"
      ]
    },
    {
      "cell_type": "markdown",
      "source": [
        "### np.delete(ndarray, index) in 1-D ndarray"
      ],
      "metadata": {
        "id": "256x0NOpXgFV"
      }
    },
    {
      "cell_type": "code",
      "execution_count": null,
      "metadata": {
        "id": "kcKJiqRMyYJX",
        "colab": {
          "base_uri": "https://localhost:8080/"
        },
        "outputId": "1dd87dfb-02d3-432a-fe73-ddc377ee9060"
      },
      "outputs": [
        {
          "output_type": "execute_result",
          "data": {
            "text/plain": [
              "array([ 3,  7,  6,  5,  8, 10])"
            ]
          },
          "metadata": {},
          "execution_count": 28
        }
      ],
      "source": [
        "arr1d = np.delete(arr1d, 4)\n",
        "# np.delete(ndarray, index) deletes element at specified index in ndarray\n",
        "arr1d"
      ]
    },
    {
      "cell_type": "markdown",
      "source": [
        "### np.array([list1, list2])"
      ],
      "metadata": {
        "id": "-qXJ8CreXx9K"
      }
    },
    {
      "cell_type": "code",
      "execution_count": null,
      "metadata": {
        "id": "gOsQGADYyg_Q"
      },
      "outputs": [],
      "source": [
        "list1 = [2, 5, 4, 6]\n",
        "list2 = [3, 9, 8, 1]"
      ]
    },
    {
      "cell_type": "code",
      "execution_count": null,
      "metadata": {
        "colab": {
          "base_uri": "https://localhost:8080/"
        },
        "id": "OCwvKtzxzVPB",
        "outputId": "8d7adaf0-fe5d-446f-9e59-8564986f56d1"
      },
      "outputs": [
        {
          "output_type": "execute_result",
          "data": {
            "text/plain": [
              "array([[2, 5, 4, 6],\n",
              "       [3, 9, 8, 1]])"
            ]
          },
          "metadata": {},
          "execution_count": 30
        }
      ],
      "source": [
        "arr2d = np.array([list1, list2])\n",
        "# using two lists as rows in 2-D ndarray\n",
        "arr2d"
      ]
    },
    {
      "cell_type": "markdown",
      "source": [
        "### np.array([list1, list2])"
      ],
      "metadata": {
        "id": "XaLexRC-YFd7"
      }
    },
    {
      "cell_type": "code",
      "execution_count": null,
      "metadata": {
        "id": "UQmPn9ZMzb8g"
      },
      "outputs": [],
      "source": [
        "list1 = [2, 5, 4, 6]\n",
        "list2 = [3, 9, 8, 1]\n",
        "list3 = [4, 8, 7, 2]"
      ]
    },
    {
      "cell_type": "code",
      "execution_count": null,
      "metadata": {
        "colab": {
          "base_uri": "https://localhost:8080/"
        },
        "id": "3MvZbk0mzfe4",
        "outputId": "8f43fe74-1674-42ed-b524-7796ae77885c"
      },
      "outputs": [
        {
          "output_type": "execute_result",
          "data": {
            "text/plain": [
              "array([[2, 5, 4, 6],\n",
              "       [3, 9, 8, 1],\n",
              "       [4, 8, 7, 2]])"
            ]
          },
          "metadata": {},
          "execution_count": 32
        }
      ],
      "source": [
        "arr2d = np.array([list1, list2, list3])\n",
        "# using three lists as rows in 2-D ndarray\n",
        "arr2d"
      ]
    },
    {
      "cell_type": "markdown",
      "source": [
        "### accessing elements in 2-D ndarray"
      ],
      "metadata": {
        "id": "up0g-iOtZM2-"
      }
    },
    {
      "cell_type": "code",
      "execution_count": null,
      "metadata": {
        "colab": {
          "base_uri": "https://localhost:8080/"
        },
        "id": "iN5l5JdLznjv",
        "outputId": "602c8f27-60fd-408a-fad5-d05a88ab1710"
      },
      "outputs": [
        {
          "output_type": "execute_result",
          "data": {
            "text/plain": [
              "array([3, 9, 8, 1])"
            ]
          },
          "metadata": {},
          "execution_count": 33
        }
      ],
      "source": [
        "arr2d[1]\n",
        "# to access 1st row of 2-D ndarray"
      ]
    },
    {
      "cell_type": "code",
      "execution_count": null,
      "metadata": {
        "colab": {
          "base_uri": "https://localhost:8080/"
        },
        "id": "AvQP9zQ-z4qS",
        "outputId": "4b405ae1-160e-4393-c0da-ed9c3e9ea4b8"
      },
      "outputs": [
        {
          "output_type": "execute_result",
          "data": {
            "text/plain": [
              "array([2, 5, 4, 6])"
            ]
          },
          "metadata": {},
          "execution_count": 34
        }
      ],
      "source": [
        "arr2d[0]\n",
        "# to access zeroth row of 2-D ndarray"
      ]
    },
    {
      "cell_type": "code",
      "execution_count": null,
      "metadata": {
        "colab": {
          "base_uri": "https://localhost:8080/"
        },
        "id": "Ssb_Qw7M0Ihw",
        "outputId": "499bd8d6-6f08-4b24-d894-48b6bc98320f"
      },
      "outputs": [
        {
          "output_type": "execute_result",
          "data": {
            "text/plain": [
              "array([4, 8, 7])"
            ]
          },
          "metadata": {},
          "execution_count": 35
        }
      ],
      "source": [
        "arr2d[ : , 2]\n",
        "# to access  only 2nd column element from all of the rows r[ : ] of 2-D ndarray\n",
        "# [r[ : ],c]"
      ]
    },
    {
      "cell_type": "code",
      "execution_count": null,
      "metadata": {
        "colab": {
          "base_uri": "https://localhost:8080/"
        },
        "id": "mk5xXn7d0LL9",
        "outputId": "77e9ec86-e503-4aab-d178-34a1b1b87c3d"
      },
      "outputs": [
        {
          "output_type": "execute_result",
          "data": {
            "text/plain": [
              "1"
            ]
          },
          "metadata": {},
          "execution_count": 36
        }
      ],
      "source": [
        "arr2d[1][3]\n",
        "# to access element at 1st row, 3rd column"
      ]
    },
    {
      "cell_type": "code",
      "execution_count": null,
      "metadata": {
        "id": "3AJFl6ms0YHO",
        "colab": {
          "base_uri": "https://localhost:8080/"
        },
        "outputId": "91537af5-b516-40de-e642-e0a1ed199cf1"
      },
      "outputs": [
        {
          "output_type": "execute_result",
          "data": {
            "text/plain": [
              "array([[2, 5, 4, 6],\n",
              "       [3, 9, 8, 5],\n",
              "       [4, 8, 7, 2]])"
            ]
          },
          "metadata": {},
          "execution_count": 37
        }
      ],
      "source": [
        "arr2d[1][3] = 5\n",
        "# to update element at 1st row, 3rd column\n",
        "arr2d"
      ]
    },
    {
      "cell_type": "markdown",
      "metadata": {
        "id": "W9F4qc6b2nKn"
      },
      "source": [
        "### vstack(ndarray1, ndarray2 or list)\n",
        "- adding newrow to the existing 2D array, using vstack() method\n",
        "- vstack will grow array in vertical dimension"
      ]
    },
    {
      "cell_type": "code",
      "source": [
        "list1 = [2, 5, 4, 6]\n",
        "list2 = [3, 9, 8, 1]\n",
        "list3 = [4, 8, 7, 2]\n",
        "arr2d = np.array([list1, list2, list3])\n",
        "# using three lists as rows in 2-D ndarray\n",
        "arr2d"
      ],
      "metadata": {
        "colab": {
          "base_uri": "https://localhost:8080/"
        },
        "id": "zvpYgGSBZ_Qc",
        "outputId": "538eac84-08b0-40c9-ba9d-69ca68e929f1"
      },
      "execution_count": null,
      "outputs": [
        {
          "output_type": "execute_result",
          "data": {
            "text/plain": [
              "array([[2, 5, 4, 6],\n",
              "       [3, 9, 8, 1],\n",
              "       [4, 8, 7, 2]])"
            ]
          },
          "metadata": {},
          "execution_count": 38
        }
      ]
    },
    {
      "cell_type": "code",
      "execution_count": null,
      "metadata": {
        "id": "7evfA9mR04l_",
        "colab": {
          "base_uri": "https://localhost:8080/"
        },
        "outputId": "5de5e143-c25c-4d73-a621-62982e9a98e4"
      },
      "outputs": [
        {
          "output_type": "execute_result",
          "data": {
            "text/plain": [
              "[3, 7, 1, 4]"
            ]
          },
          "metadata": {},
          "execution_count": 39
        }
      ],
      "source": [
        "newrow = [3, 7, 1, 4]\n",
        "# creating a horizontal list / row\n",
        "newrow"
      ]
    },
    {
      "cell_type": "code",
      "execution_count": null,
      "metadata": {
        "id": "Jw8cSqY_10ci",
        "colab": {
          "base_uri": "https://localhost:8080/"
        },
        "outputId": "c0f070a9-ab44-484a-8a6c-20fd2832fc11"
      },
      "outputs": [
        {
          "output_type": "execute_result",
          "data": {
            "text/plain": [
              "array([[2, 5, 4, 6],\n",
              "       [3, 9, 8, 1],\n",
              "       [4, 8, 7, 2],\n",
              "       [3, 7, 1, 4]])"
            ]
          },
          "metadata": {},
          "execution_count": 40
        }
      ],
      "source": [
        "arr2d = np.vstack([arr2d, newrow])\n",
        "# vertical stacking a horizontal list into 2-D ndarray\n",
        "# using vstack(ndarray1, ndarray2 or list)\n",
        "arr2d"
      ]
    },
    {
      "cell_type": "markdown",
      "source": [
        "### hstack([ndarray1, ndarray2])"
      ],
      "metadata": {
        "id": "-z_Ygh7-agtG"
      }
    },
    {
      "cell_type": "code",
      "execution_count": null,
      "metadata": {
        "id": "ka6zyYRs2Gv4",
        "colab": {
          "base_uri": "https://localhost:8080/"
        },
        "outputId": "030f0a08-3e1d-482c-e487-21f55b674ecc"
      },
      "outputs": [
        {
          "output_type": "execute_result",
          "data": {
            "text/plain": [
              "array([3, 8, 7, 2])"
            ]
          },
          "metadata": {},
          "execution_count": 41
        }
      ],
      "source": [
        "newcol = np.array([3, 8, 7, 2])\n",
        "# creating a horiizontal list / row\n",
        "newcol"
      ]
    },
    {
      "cell_type": "code",
      "execution_count": null,
      "metadata": {
        "id": "A3ft6rGL3Dq_",
        "colab": {
          "base_uri": "https://localhost:8080/"
        },
        "outputId": "af6c2f3f-4e18-460e-df50-b3a00bfad98a"
      },
      "outputs": [
        {
          "output_type": "execute_result",
          "data": {
            "text/plain": [
              "array([[3],\n",
              "       [8],\n",
              "       [7],\n",
              "       [2]])"
            ]
          },
          "metadata": {},
          "execution_count": 42
        }
      ],
      "source": [
        "newcol = newcol.reshape(4, 1)\n",
        "# reshaping to convert horizontal ndarray/row INTO vertical ndarray/ column\n",
        "newcol"
      ]
    },
    {
      "cell_type": "code",
      "execution_count": null,
      "metadata": {
        "id": "SaBLd9-f3T_n",
        "colab": {
          "base_uri": "https://localhost:8080/"
        },
        "outputId": "48e192f1-729e-4b6e-9571-c8cf2006c6b0"
      },
      "outputs": [
        {
          "output_type": "execute_result",
          "data": {
            "text/plain": [
              "array([[2, 5, 4, 6, 3],\n",
              "       [3, 9, 8, 1, 8],\n",
              "       [4, 8, 7, 2, 7],\n",
              "       [3, 7, 1, 4, 2]])"
            ]
          },
          "metadata": {},
          "execution_count": 43
        }
      ],
      "source": [
        "arr2d = np.hstack([arr2d, newcol])\n",
        "# using vertical ndarray / column to horizontally stack into 2-D ndarray\n",
        "# hstack takes only vertical column to stack into 2-D ndarray\n",
        "# because list cannot be vertical\n",
        "arr2d"
      ]
    },
    {
      "cell_type": "markdown",
      "metadata": {
        "id": "IT5OFyZv35lZ"
      },
      "source": [
        "### np.delete(ndarray, element, axis=0) in 2-D ndarray\n",
        "- Axis 0: Row\n",
        "- Axis 1: Column\n",
        "- in reshape command, we follow ```reshape(row, column)```"
      ]
    },
    {
      "cell_type": "code",
      "execution_count": null,
      "metadata": {
        "colab": {
          "base_uri": "https://localhost:8080/"
        },
        "id": "-Hc-fKn83m6U",
        "outputId": "94e008d3-960c-448d-9620-9eb8bf6d8b5c"
      },
      "outputs": [
        {
          "output_type": "execute_result",
          "data": {
            "text/plain": [
              "array([[2, 5, 4, 6, 3],\n",
              "       [3, 9, 8, 1, 8],\n",
              "       [3, 7, 1, 4, 2]])"
            ]
          },
          "metadata": {},
          "execution_count": 44
        }
      ],
      "source": [
        "np.delete(arr2d, 2, axis=0)\n",
        "# will delete 2nd element as per axis\n",
        "# axis=0 will delete 2nd row"
      ]
    },
    {
      "cell_type": "code",
      "execution_count": null,
      "metadata": {
        "colab": {
          "base_uri": "https://localhost:8080/"
        },
        "id": "l4yxrvzS4eQ4",
        "outputId": "03a18c7f-d3e0-4b7a-b4b5-361aadd164f3"
      },
      "outputs": [
        {
          "output_type": "execute_result",
          "data": {
            "text/plain": [
              "array([[2, 5, 6, 3],\n",
              "       [3, 9, 1, 8],\n",
              "       [4, 8, 2, 7],\n",
              "       [3, 7, 4, 2]])"
            ]
          },
          "metadata": {},
          "execution_count": 45
        }
      ],
      "source": [
        "np.delete(arr2d, 2, axis=1)\n",
        "# will delete 1st element as per axis\n",
        "# axis=1 will delete 2nd column"
      ]
    },
    {
      "cell_type": "markdown",
      "metadata": {
        "id": "P6U9NDQEA0PU"
      },
      "source": [
        "### slicing in ndarray"
      ]
    },
    {
      "cell_type": "code",
      "execution_count": null,
      "metadata": {
        "id": "fmbttHif42WR"
      },
      "outputs": [],
      "source": [
        "arr1d = np.array([3, 6, 5, 2, 7, 6, 9, 1])\n",
        "# creating 1-D ndarray using list"
      ]
    },
    {
      "cell_type": "code",
      "execution_count": null,
      "metadata": {
        "colab": {
          "base_uri": "https://localhost:8080/"
        },
        "id": "i4F_qrv4AlaQ",
        "outputId": "8a719b77-7bed-46aa-8103-0f21ac817d41"
      },
      "outputs": [
        {
          "output_type": "execute_result",
          "data": {
            "text/plain": [
              "array([3, 6, 5, 2])"
            ]
          },
          "metadata": {},
          "execution_count": 47
        }
      ],
      "source": [
        "arr1d[:4]\n",
        "# accesing initial/zeroth to 3rd element"
      ]
    },
    {
      "cell_type": "code",
      "execution_count": null,
      "metadata": {
        "colab": {
          "base_uri": "https://localhost:8080/"
        },
        "id": "t06iURqjAuvW",
        "outputId": "41421291-db17-4571-9242-31106b82ea5b"
      },
      "outputs": [
        {
          "output_type": "execute_result",
          "data": {
            "text/plain": [
              "array([6, 9, 1])"
            ]
          },
          "metadata": {},
          "execution_count": 48
        }
      ],
      "source": [
        "arr1d[5:]\n",
        "# accesing 5th to last element"
      ]
    },
    {
      "cell_type": "code",
      "execution_count": null,
      "metadata": {
        "colab": {
          "base_uri": "https://localhost:8080/"
        },
        "id": "xBh8jjJHBGRm",
        "outputId": "64e2fb40-d093-4b40-e1d3-56a654a3720d"
      },
      "outputs": [
        {
          "output_type": "execute_result",
          "data": {
            "text/plain": [
              "array([2, 7, 6, 9])"
            ]
          },
          "metadata": {},
          "execution_count": 49
        }
      ],
      "source": [
        "arr1d[3:7]\n",
        "# accesing 3rd to 6th (7-1=6) element"
      ]
    },
    {
      "cell_type": "code",
      "execution_count": null,
      "metadata": {
        "colab": {
          "base_uri": "https://localhost:8080/"
        },
        "id": "C3Z8sukwBV4z",
        "outputId": "1c9641d9-c24d-4a6b-c149-f9fa6f8bb1bd"
      },
      "outputs": [
        {
          "output_type": "execute_result",
          "data": {
            "text/plain": [
              "array([5, 2, 7, 6])"
            ]
          },
          "metadata": {},
          "execution_count": 50
        }
      ],
      "source": [
        "arr1d[2:6]\n",
        "# accesing 2nd to 5th element"
      ]
    },
    {
      "cell_type": "code",
      "execution_count": null,
      "metadata": {
        "colab": {
          "base_uri": "https://localhost:8080/"
        },
        "id": "pgCqyfflE90u",
        "outputId": "536fde71-572b-4da6-ea29-4bafbc38767e"
      },
      "outputs": [
        {
          "output_type": "execute_result",
          "data": {
            "text/plain": [
              "array([5])"
            ]
          },
          "metadata": {},
          "execution_count": 51
        }
      ],
      "source": [
        "arr1d[2:5:3]\n",
        "# accesing 2nd to 4th (51=4) element with step 3\n",
        "# only 2nd element"
      ]
    },
    {
      "cell_type": "markdown",
      "metadata": {
        "id": "q0no1mRDBmob"
      },
      "source": [
        "### operational difference between array & list\n",
        "\n",
        "1. list can't be operated on the go, it needs to be accessed with loop to operate on.\n",
        "While in array, array can be operated on the go, no need for using loop\n",
        "(broadcasting is possible, meaning you can operate on-the-go)\n",
        "2. you can access mutiple non-adjacent index in array, but you can't in list\n",
        "3. array can be multi-dimensional but list is always one-dimensional"
      ]
    },
    {
      "cell_type": "markdown",
      "source": [
        "### sorted(ndarray)"
      ],
      "metadata": {
        "id": "WINbWj2Xc7T5"
      }
    },
    {
      "cell_type": "code",
      "execution_count": null,
      "metadata": {
        "id": "tmqJhjQ8BZBT",
        "colab": {
          "base_uri": "https://localhost:8080/"
        },
        "outputId": "ab5ee7e0-c06a-43e9-d214-70194c4730a7"
      },
      "outputs": [
        {
          "output_type": "execute_result",
          "data": {
            "text/plain": [
              "[1, 2, 3, 5, 6, 6, 7, 9]"
            ]
          },
          "metadata": {},
          "execution_count": 52
        }
      ],
      "source": [
        "sorted_arr1d = sorted(arr1d)\n",
        "# by default sorted(ndarray) sorts in ascending order\n",
        "sorted_arr1d"
      ]
    },
    {
      "cell_type": "code",
      "execution_count": null,
      "metadata": {
        "id": "lPFXiX6pFuPq",
        "colab": {
          "base_uri": "https://localhost:8080/"
        },
        "outputId": "cc82f9c6-f8e2-4013-e847-67311fcc639e"
      },
      "outputs": [
        {
          "output_type": "execute_result",
          "data": {
            "text/plain": [
              "[9, 7, 6, 6, 5, 3, 2, 1]"
            ]
          },
          "metadata": {},
          "execution_count": 53
        }
      ],
      "source": [
        "sorted_arr1d = sorted(arr1d, reverse=True)\n",
        "# sorted(ndarray) sorts in descending order\n",
        "sorted_arr1d"
      ]
    },
    {
      "cell_type": "markdown",
      "metadata": {
        "id": "r12Cfi44GN62"
      },
      "source": [
        "## Questions in 1-D ndarray:\n",
        "1. count of elements which are >= 4\n",
        "2. print value of elements which are >= 4\n",
        "3. print indices of elements which are >= 4"
      ]
    },
    {
      "cell_type": "code",
      "execution_count": null,
      "metadata": {
        "id": "j6QAXUTZISbz",
        "colab": {
          "base_uri": "https://localhost:8080/"
        },
        "outputId": "c1b43c16-f474-4af0-8739-64dd2befe586"
      },
      "outputs": [
        {
          "output_type": "execute_result",
          "data": {
            "text/plain": [
              "array([3, 6, 5, 2, 7, 6, 9, 1])"
            ]
          },
          "metadata": {},
          "execution_count": 54
        }
      ],
      "source": [
        "arr1d = np.array([3, 6, 5, 2, 7, 6, 9, 1])\n",
        "# creating 1-D ndarray using list\n",
        "arr1d"
      ]
    },
    {
      "cell_type": "markdown",
      "source": [
        "### index = np.where(condition)\n",
        "\n",
        "- input of ```np.where(condition)``` is condition\n",
        "- output of ```np.where(condition)``` is index where condition is True"
      ],
      "metadata": {
        "id": "KM91l8mVdgX4"
      }
    },
    {
      "cell_type": "code",
      "source": [
        "(arr1d >= 4)\n",
        "# condition marks True for each of the element of ndarray for which\n",
        "# condition is true, shows broadcasting behavior"
      ],
      "metadata": {
        "colab": {
          "base_uri": "https://localhost:8080/"
        },
        "id": "KdP5_rKwE5SD",
        "outputId": "d2b9c77a-63f6-43b7-e659-2ff4fd212cd2"
      },
      "execution_count": null,
      "outputs": [
        {
          "output_type": "execute_result",
          "data": {
            "text/plain": [
              "array([False,  True,  True, False,  True,  True,  True, False])"
            ]
          },
          "metadata": {},
          "execution_count": 55
        }
      ]
    },
    {
      "cell_type": "code",
      "execution_count": null,
      "metadata": {
        "id": "ZVCCa9erGNLY",
        "colab": {
          "base_uri": "https://localhost:8080/"
        },
        "outputId": "f799a333-436a-4771-ddb9-fe87f2c4e0aa"
      },
      "outputs": [
        {
          "output_type": "execute_result",
          "data": {
            "text/plain": [
              "(array([1, 2, 4, 5, 6]),)"
            ]
          },
          "metadata": {},
          "execution_count": 56
        }
      ],
      "source": [
        "ind = np.where(arr1d >= 4)\n",
        "# check for indices of elements satisfying condition\n",
        "# returns tuple of ndarrays containing indices of Trues returned from condition\n",
        "ind"
      ]
    },
    {
      "cell_type": "code",
      "execution_count": null,
      "metadata": {
        "colab": {
          "base_uri": "https://localhost:8080/"
        },
        "id": "UNdia6cdG2fe",
        "outputId": "04de63c5-59c6-4053-8e07-a558187eeaa9"
      },
      "outputs": [
        {
          "output_type": "execute_result",
          "data": {
            "text/plain": [
              "1"
            ]
          },
          "metadata": {},
          "execution_count": 57
        }
      ],
      "source": [
        "len(ind)\n",
        "# returns 1, because length of tuple is one"
      ]
    },
    {
      "cell_type": "code",
      "execution_count": null,
      "metadata": {
        "colab": {
          "base_uri": "https://localhost:8080/"
        },
        "id": "uPVuUA39G3y8",
        "outputId": "bd5bd2b8-8631-48b9-d54a-5853953a94f8"
      },
      "outputs": [
        {
          "output_type": "execute_result",
          "data": {
            "text/plain": [
              "5"
            ]
          },
          "metadata": {},
          "execution_count": 58
        }
      ],
      "source": [
        "len(ind[0])\n",
        "# Q1 soln\n",
        "# returns 5, because length of zeroth element\n",
        "# (which is ndarray of indexes satisfying condition) in the tuple is five"
      ]
    },
    {
      "cell_type": "code",
      "execution_count": null,
      "metadata": {
        "colab": {
          "base_uri": "https://localhost:8080/"
        },
        "id": "xRbKzui9HSxT",
        "outputId": "46af1a09-6960-4ad1-bf2b-93f01154aa48"
      },
      "outputs": [
        {
          "output_type": "execute_result",
          "data": {
            "text/plain": [
              "array([1, 2, 4, 5, 6])"
            ]
          },
          "metadata": {},
          "execution_count": 59
        }
      ],
      "source": [
        "ind[0]\n",
        "# Q3 soln\n",
        "# accesses zeroth element\n",
        "# (which is ndarray of indexes satisfying condition) of tuple"
      ]
    },
    {
      "cell_type": "code",
      "execution_count": null,
      "metadata": {
        "colab": {
          "base_uri": "https://localhost:8080/"
        },
        "id": "3Cx6zTw4HXuY",
        "outputId": "d2648dc8-3557-4d6b-884e-33145646f749"
      },
      "outputs": [
        {
          "output_type": "execute_result",
          "data": {
            "text/plain": [
              "numpy.ndarray"
            ]
          },
          "metadata": {},
          "execution_count": 60
        }
      ],
      "source": [
        "type(ind[0])"
      ]
    },
    {
      "cell_type": "code",
      "execution_count": null,
      "metadata": {
        "colab": {
          "base_uri": "https://localhost:8080/"
        },
        "id": "uuFLW_-HJFf-",
        "outputId": "7d24942f-5ea7-4b5c-d648-0923a5c3c6bf"
      },
      "outputs": [
        {
          "output_type": "execute_result",
          "data": {
            "text/plain": [
              "tuple"
            ]
          },
          "metadata": {},
          "execution_count": 61
        }
      ],
      "source": [
        "type(ind)"
      ]
    },
    {
      "cell_type": "markdown",
      "source": [
        "### (condition).sum()"
      ],
      "metadata": {
        "id": "wUHSy4V1fz_u"
      }
    },
    {
      "cell_type": "code",
      "execution_count": null,
      "metadata": {
        "colab": {
          "base_uri": "https://localhost:8080/"
        },
        "id": "qVABMb-EJZo4",
        "outputId": "cb0b25ca-1e7d-49aa-d3b9-904ae9ad47a4"
      },
      "outputs": [
        {
          "output_type": "execute_result",
          "data": {
            "text/plain": [
              "5"
            ]
          },
          "metadata": {},
          "execution_count": 62
        }
      ],
      "source": [
        "(arr1d>=4).sum()\n",
        "# Q1 soln\n",
        "# sums all the True values found in ndarray from satisfying condition\n",
        "# which is actually the count of elements satisfying condition >= 4"
      ]
    },
    {
      "cell_type": "code",
      "execution_count": null,
      "metadata": {
        "colab": {
          "base_uri": "https://localhost:8080/"
        },
        "id": "eUYBQXiGJcPl",
        "outputId": "091ed0f8-387c-4c6f-8e7d-baf0520216ce"
      },
      "outputs": [
        {
          "output_type": "execute_result",
          "data": {
            "text/plain": [
              "array([6, 5, 7, 6, 9])"
            ]
          },
          "metadata": {},
          "execution_count": 63
        }
      ],
      "source": [
        "arr1d[ind]\n",
        "# Q2 soln\n",
        "# passing all the indxes where condition is satidfied using ind vaiable\n",
        "# to ndarray to get value of elements which satisfied the condition"
      ]
    },
    {
      "cell_type": "markdown",
      "source": [
        "## Questions in 2-D ndarray:\n",
        "1. count of elements which are >= 4\n",
        "2. print value of elements which are >= 4\n",
        "3. print indices of elements which are >= 4"
      ],
      "metadata": {
        "id": "y-LtHVRBgB77"
      }
    },
    {
      "cell_type": "code",
      "source": [
        "list1 = [2, 5, 4, 6, 3]\n",
        "list2 = [3, 9, 8, 1, 8]\n",
        "list3 = [4, 8, 7, 2, 7]\n",
        "list4 = [3, 7, 1, 4, 2]\n",
        "arr2d = np.array([list1, list2, list3, list4])\n",
        "# creating 2-D ndarray using four lists as rows\n",
        "arr2d"
      ],
      "metadata": {
        "colab": {
          "base_uri": "https://localhost:8080/"
        },
        "id": "gLVmnntRgPQ2",
        "outputId": "f2c52a7b-6543-47f2-ef27-7fa9035278e0"
      },
      "execution_count": null,
      "outputs": [
        {
          "output_type": "execute_result",
          "data": {
            "text/plain": [
              "array([[2, 5, 4, 6, 3],\n",
              "       [3, 9, 8, 1, 8],\n",
              "       [4, 8, 7, 2, 7],\n",
              "       [3, 7, 1, 4, 2]])"
            ]
          },
          "metadata": {},
          "execution_count": 64
        }
      ]
    },
    {
      "cell_type": "markdown",
      "source": [
        "### index = np.where(condition) in 2-D ndarray"
      ],
      "metadata": {
        "id": "Cbdla8_Vgx0u"
      }
    },
    {
      "cell_type": "code",
      "execution_count": null,
      "metadata": {
        "id": "Xli9EosyK6JX",
        "colab": {
          "base_uri": "https://localhost:8080/"
        },
        "outputId": "4725d6f0-c861-43b2-a339-9d1cf1c7f4a8"
      },
      "outputs": [
        {
          "output_type": "execute_result",
          "data": {
            "text/plain": [
              "(array([0, 0, 0, 1, 1, 1, 2, 2, 2, 2, 3, 3]),\n",
              " array([1, 2, 3, 1, 2, 4, 0, 1, 2, 4, 1, 3]))"
            ]
          },
          "metadata": {},
          "execution_count": 65
        }
      ],
      "source": [
        "ind2 = np.where(arr2d>=4)\n",
        "# check for indices of elements satisfying condition\n",
        "ind2\n",
        "# Q3 soln"
      ]
    },
    {
      "cell_type": "code",
      "execution_count": null,
      "metadata": {
        "colab": {
          "base_uri": "https://localhost:8080/"
        },
        "id": "XI1HJ336LF9O",
        "outputId": "1a9b24bc-88bd-4789-e806-79a9c16fa377"
      },
      "outputs": [
        {
          "output_type": "execute_result",
          "data": {
            "text/plain": [
              "2"
            ]
          },
          "metadata": {},
          "execution_count": 66
        }
      ],
      "source": [
        "len(ind2)"
      ]
    },
    {
      "cell_type": "code",
      "execution_count": null,
      "metadata": {
        "colab": {
          "base_uri": "https://localhost:8080/"
        },
        "id": "AD3q_l0kLapz",
        "outputId": "4438d476-f05c-44c5-df90-ac5b19c159e9"
      },
      "outputs": [
        {
          "output_type": "execute_result",
          "data": {
            "text/plain": [
              "12"
            ]
          },
          "metadata": {},
          "execution_count": 67
        }
      ],
      "source": [
        "len(ind2[0])\n",
        "# Q1 soln\n",
        "# count of elements which are >= 4"
      ]
    },
    {
      "cell_type": "markdown",
      "source": [
        "### (condition).sum() in 2-D ndarray"
      ],
      "metadata": {
        "id": "HA90MLPng53v"
      }
    },
    {
      "cell_type": "code",
      "execution_count": null,
      "metadata": {
        "colab": {
          "base_uri": "https://localhost:8080/"
        },
        "id": "HCg9o6pDLcxB",
        "outputId": "641b467c-058d-449d-d1a5-a00d126100dd"
      },
      "outputs": [
        {
          "output_type": "execute_result",
          "data": {
            "text/plain": [
              "12"
            ]
          },
          "metadata": {},
          "execution_count": 68
        }
      ],
      "source": [
        "(arr2d>=4).sum()\n",
        "# Q1 soln\n",
        "# count of elements which are >= 4"
      ]
    },
    {
      "cell_type": "code",
      "execution_count": null,
      "metadata": {
        "colab": {
          "base_uri": "https://localhost:8080/"
        },
        "id": "7pJqjj6SMQ0g",
        "outputId": "34107e2b-55fb-4c4e-8fa3-4c9da41adcdc"
      },
      "outputs": [
        {
          "output_type": "execute_result",
          "data": {
            "text/plain": [
              "array([5, 4, 6, 9, 8, 8, 4, 8, 7, 7, 7, 4])"
            ]
          },
          "metadata": {},
          "execution_count": 69
        }
      ],
      "source": [
        "arr2d[ind2]\n",
        "# Q2 solns\n",
        "# print value of elements which are >= 4"
      ]
    },
    {
      "cell_type": "markdown",
      "source": [
        "## np.concatenate((ndarray1, ndarray2))"
      ],
      "metadata": {
        "id": "rM598F2NhsCS"
      }
    },
    {
      "cell_type": "code",
      "execution_count": null,
      "metadata": {
        "colab": {
          "base_uri": "https://localhost:8080/"
        },
        "id": "CGcBhtpzMYvF",
        "outputId": "a2d05025-5d58-4b11-90e6-825888cbd68b"
      },
      "outputs": [
        {
          "output_type": "execute_result",
          "data": {
            "text/plain": [
              "array([3, 6, 5, 2, 7, 6, 9, 1, 3])"
            ]
          },
          "metadata": {},
          "execution_count": 70
        }
      ],
      "source": [
        "arr1d = np.array([3, 6, 5, 2, 7, 6, 9, 1, 3])\n",
        "# creating 1-D ndarray using list\n",
        "arr1d"
      ]
    },
    {
      "cell_type": "code",
      "execution_count": null,
      "metadata": {
        "id": "N2Fal-4NNXMb",
        "colab": {
          "base_uri": "https://localhost:8080/"
        },
        "outputId": "4c6ebad3-8a31-41fe-f436-e95a06b379df"
      },
      "outputs": [
        {
          "output_type": "execute_result",
          "data": {
            "text/plain": [
              "array([3, 5, 7, 3, 3, 5, 9, 1, 3])"
            ]
          },
          "metadata": {},
          "execution_count": 71
        }
      ],
      "source": [
        "x = np.array([3, 5, 7, 3, 3, 5, 9, 1, 3])\n",
        "x"
      ]
    },
    {
      "cell_type": "code",
      "execution_count": null,
      "metadata": {
        "id": "crVSbihwNlu6",
        "colab": {
          "base_uri": "https://localhost:8080/"
        },
        "outputId": "9e7914cf-4a84-4e5c-e213-6ecb096ee87a"
      },
      "outputs": [
        {
          "output_type": "execute_result",
          "data": {
            "text/plain": [
              "array([3, 6, 5, 2, 7, 6, 9, 1, 3, 3, 5, 7, 3, 3, 5, 9, 1, 3])"
            ]
          },
          "metadata": {},
          "execution_count": 72
        }
      ],
      "source": [
        "arr1d = np.concatenate((arr1d, x))\n",
        "arr1d"
      ]
    },
    {
      "cell_type": "markdown",
      "source": [
        "## np.unique(ndarray)"
      ],
      "metadata": {
        "id": "72Rt4-fkh_ab"
      }
    },
    {
      "cell_type": "code",
      "execution_count": null,
      "metadata": {
        "colab": {
          "base_uri": "https://localhost:8080/"
        },
        "id": "wYGDQUTkNs1P",
        "outputId": "37d5b6e5-14b0-495e-d476-4f166b9e4464"
      },
      "outputs": [
        {
          "output_type": "execute_result",
          "data": {
            "text/plain": [
              "array([1, 2, 3, 5, 6, 7, 9])"
            ]
          },
          "metadata": {},
          "execution_count": 73
        }
      ],
      "source": [
        "np.unique(arr1d)\n",
        "# returns sorted list of unique values from array"
      ]
    },
    {
      "cell_type": "code",
      "execution_count": null,
      "metadata": {
        "colab": {
          "base_uri": "https://localhost:8080/"
        },
        "id": "VhiyNIFsOSiZ",
        "outputId": "793eee22-f2d2-451b-fcf6-e730257b72a2"
      },
      "outputs": [
        {
          "output_type": "execute_result",
          "data": {
            "text/plain": [
              "False"
            ]
          },
          "metadata": {},
          "execution_count": 74
        }
      ],
      "source": [
        "4 in np.unique(arr1d)\n",
        "# checks if 4 exists in elements of ndarray arr1d"
      ]
    },
    {
      "cell_type": "markdown",
      "source": [
        "## 1-D ndarray operations"
      ],
      "metadata": {
        "id": "BsU79GNTSqlq"
      }
    },
    {
      "cell_type": "markdown",
      "source": [
        "### np.in1d(ndarray1, ndarray2 or list)"
      ],
      "metadata": {
        "id": "z3h-2jjCiMON"
      }
    },
    {
      "cell_type": "code",
      "execution_count": null,
      "metadata": {
        "colab": {
          "base_uri": "https://localhost:8080/"
        },
        "id": "vfS7vCI_OwIv",
        "outputId": "b2f39555-253f-4531-e24c-d0e4a11326fa"
      },
      "outputs": [
        {
          "output_type": "execute_result",
          "data": {
            "text/plain": [
              "array([False, False, False,  True,  True, False, False, False, False,\n",
              "       False, False,  True, False, False, False, False, False, False])"
            ]
          },
          "metadata": {},
          "execution_count": 75
        }
      ],
      "source": [
        "np.in1d(arr1d, [2, 7])\n",
        "# condition to check if each element of 1st ndarray is in 2nd ndarray / list\n",
        "# returns ndarray of True/False based on if condition is satisfied for each element"
      ]
    },
    {
      "cell_type": "code",
      "execution_count": null,
      "metadata": {
        "colab": {
          "base_uri": "https://localhost:8080/"
        },
        "id": "5_qKGfhfO-2K",
        "outputId": "916041ef-73fb-4c52-b343-082f16e2799a"
      },
      "outputs": [
        {
          "output_type": "execute_result",
          "data": {
            "text/plain": [
              "(array([ 3,  4, 11]),)"
            ]
          },
          "metadata": {},
          "execution_count": 76
        }
      ],
      "source": [
        "np.where(np.in1d(arr1d, [2, 7]))\n",
        "# using np.in1d() as a condition to np.where() to get indeces of elements\n",
        "# satisfying condition"
      ]
    },
    {
      "cell_type": "markdown",
      "metadata": {
        "id": "NELohzbCPgcZ"
      },
      "source": [
        "- input of ```np.where(condition)``` is condition\n",
        "- output of ```np.where(condition)``` is index where condition is True"
      ]
    },
    {
      "cell_type": "code",
      "execution_count": null,
      "metadata": {
        "id": "j5ZLQShIPYFK"
      },
      "outputs": [],
      "source": [
        "x = np.array([4, 7, 6, 3, 9])\n",
        "y = np.array([1, 4, 5, 7, 8])\n",
        "# creating two 1-D ndarrays"
      ]
    },
    {
      "cell_type": "markdown",
      "source": [
        "### np.union1d(ndarray1, ndarray2)"
      ],
      "metadata": {
        "id": "taFFwo7UjO9M"
      }
    },
    {
      "cell_type": "code",
      "execution_count": null,
      "metadata": {
        "colab": {
          "base_uri": "https://localhost:8080/"
        },
        "id": "PWE3WO2oTFg2",
        "outputId": "8b43f26d-7f44-4549-9901-462d80f298cf"
      },
      "outputs": [
        {
          "output_type": "execute_result",
          "data": {
            "text/plain": [
              "array([1, 3, 4, 5, 6, 7, 8, 9])"
            ]
          },
          "metadata": {},
          "execution_count": 78
        }
      ],
      "source": [
        "np.union1d(x, y)\n",
        "# returns sorted ndarray of union of two ndarrays\n",
        "# all unique elements from both ndarrays"
      ]
    },
    {
      "cell_type": "code",
      "execution_count": null,
      "metadata": {
        "colab": {
          "base_uri": "https://localhost:8080/"
        },
        "id": "JVXV6i6FUG9V",
        "outputId": "5e046dd3-89e5-42c9-c7bc-05caf6afb08d"
      },
      "outputs": [
        {
          "output_type": "execute_result",
          "data": {
            "text/plain": [
              "array([1, 3, 4, 5, 6, 7, 8, 9])"
            ]
          },
          "metadata": {},
          "execution_count": 79
        }
      ],
      "source": [
        "np.union1d(y, x)\n",
        "# np.union1d() is not affected by order of ndarrays in argument"
      ]
    },
    {
      "cell_type": "markdown",
      "source": [
        "### np.intersection(ndarray1, ndarray2)"
      ],
      "metadata": {
        "id": "K0PgfkdxjUD7"
      }
    },
    {
      "cell_type": "code",
      "execution_count": null,
      "metadata": {
        "colab": {
          "base_uri": "https://localhost:8080/"
        },
        "id": "cMlJHS0XTO8D",
        "outputId": "ecd3557d-d54e-4d8c-8b79-c59a0a3a935b"
      },
      "outputs": [
        {
          "output_type": "execute_result",
          "data": {
            "text/plain": [
              "array([4, 7])"
            ]
          },
          "metadata": {},
          "execution_count": 80
        }
      ],
      "source": [
        "np.intersect1d(x, y)\n",
        "# np.intersection() returns sorted ndarray of common elements"
      ]
    },
    {
      "cell_type": "code",
      "execution_count": null,
      "metadata": {
        "colab": {
          "base_uri": "https://localhost:8080/"
        },
        "id": "gYV9lgtsT65f",
        "outputId": "036d1104-ab7f-4420-b8f7-8e6717e95190"
      },
      "outputs": [
        {
          "output_type": "execute_result",
          "data": {
            "text/plain": [
              "array([4, 7])"
            ]
          },
          "metadata": {},
          "execution_count": 81
        }
      ],
      "source": [
        "np.intersect1d(y, x)\n",
        "# np.intersection() is not affected by order of ndarrays in argument"
      ]
    },
    {
      "cell_type": "code",
      "execution_count": null,
      "metadata": {
        "colab": {
          "base_uri": "https://localhost:8080/"
        },
        "id": "OVt_l6RcT7VR",
        "outputId": "bfa454b6-5309-4f5e-cc1b-49e8bc5baed3"
      },
      "outputs": [
        {
          "output_type": "execute_result",
          "data": {
            "text/plain": [
              "array([ True,  True, False, False, False])"
            ]
          },
          "metadata": {},
          "execution_count": 82
        }
      ],
      "source": [
        "np.in1d(x, y)\n",
        "# means x in y"
      ]
    },
    {
      "cell_type": "code",
      "execution_count": null,
      "metadata": {
        "colab": {
          "base_uri": "https://localhost:8080/"
        },
        "id": "G1qiWOyST8eo",
        "outputId": "75c6981b-1111-47b9-f758-5f2b976cf8c6"
      },
      "outputs": [
        {
          "output_type": "execute_result",
          "data": {
            "text/plain": [
              "array([False,  True, False,  True, False])"
            ]
          },
          "metadata": {},
          "execution_count": 83
        }
      ],
      "source": [
        "np.in1d(y, x)\n",
        "# means y in x\n",
        "# checks if all elements of ndarray1 are in ndarray2"
      ]
    },
    {
      "cell_type": "code",
      "execution_count": null,
      "metadata": {
        "colab": {
          "base_uri": "https://localhost:8080/"
        },
        "id": "tFmc1JX2UTqo",
        "outputId": "7f1d8d91-112f-4524-d8e1-3c71b8498b23"
      },
      "outputs": [
        {
          "output_type": "execute_result",
          "data": {
            "text/plain": [
              "array([4, 7, 6, 3, 9])"
            ]
          },
          "metadata": {},
          "execution_count": 84
        }
      ],
      "source": [
        "x"
      ]
    },
    {
      "cell_type": "code",
      "execution_count": null,
      "metadata": {
        "colab": {
          "base_uri": "https://localhost:8080/"
        },
        "id": "MAQ2Z2rqVDky",
        "outputId": "e6b8b462-cbdf-4c40-e983-c87a213d454a"
      },
      "outputs": [
        {
          "output_type": "execute_result",
          "data": {
            "text/plain": [
              "array([1, 4, 5, 7, 8])"
            ]
          },
          "metadata": {},
          "execution_count": 85
        }
      ],
      "source": [
        "y"
      ]
    },
    {
      "cell_type": "markdown",
      "source": [
        "### np.setdiff1d(ndarray1d1, ndarray1d2)"
      ],
      "metadata": {
        "id": "siy3ptQsR6Uo"
      }
    },
    {
      "cell_type": "code",
      "execution_count": null,
      "metadata": {
        "colab": {
          "base_uri": "https://localhost:8080/"
        },
        "id": "P3llMGFVVD7x",
        "outputId": "e3503a9e-012a-4d58-88a4-b5d4ff96e0cc"
      },
      "outputs": [
        {
          "output_type": "execute_result",
          "data": {
            "text/plain": [
              "array([3, 6, 9])"
            ]
          },
          "metadata": {},
          "execution_count": 86
        }
      ],
      "source": [
        "np.setdiff1d(x, y)\n",
        "# shows exclusive elements of x which are not in y"
      ]
    },
    {
      "cell_type": "code",
      "execution_count": null,
      "metadata": {
        "colab": {
          "base_uri": "https://localhost:8080/"
        },
        "id": "0Z2dQ4dBVEla",
        "outputId": "75f3f8c4-5484-4366-f3b2-0443adfc167e"
      },
      "outputs": [
        {
          "output_type": "execute_result",
          "data": {
            "text/plain": [
              "array([1, 5, 8])"
            ]
          },
          "metadata": {},
          "execution_count": 87
        }
      ],
      "source": [
        "np.setdiff1d(y, x)\n",
        "# shows exclusive elements of y which are not in x\n",
        "# result will vary if order of ndarrays is changed in argument list"
      ]
    },
    {
      "cell_type": "markdown",
      "source": [
        "### np.setxor1d(ndarray1d1, ndarray1d2)"
      ],
      "metadata": {
        "id": "bKzpjZ1ISLOI"
      }
    },
    {
      "cell_type": "code",
      "execution_count": null,
      "metadata": {
        "colab": {
          "base_uri": "https://localhost:8080/"
        },
        "id": "gP3FB2gSVFrf",
        "outputId": "3f3a8bba-94c8-4d08-b04b-7900d32eacc3"
      },
      "outputs": [
        {
          "output_type": "execute_result",
          "data": {
            "text/plain": [
              "array([1, 3, 5, 6, 8, 9])"
            ]
          },
          "metadata": {},
          "execution_count": 88
        }
      ],
      "source": [
        "np.setxor1d(x, y)\n",
        "# exclusive elements of x or exclusive elements of y\n",
        "# from either x or y but not the common ones"
      ]
    },
    {
      "cell_type": "code",
      "execution_count": null,
      "metadata": {
        "colab": {
          "base_uri": "https://localhost:8080/"
        },
        "id": "4Vh2yt1MVlWX",
        "outputId": "dfe2802a-4b23-4273-ef25-ddeafcfecf98"
      },
      "outputs": [
        {
          "output_type": "execute_result",
          "data": {
            "text/plain": [
              "array([1, 3, 5, 6, 8, 9])"
            ]
          },
          "metadata": {},
          "execution_count": 89
        }
      ],
      "source": [
        "np.setxor1d(y, x)\n",
        "# exclusive elements of x or exclusive elements of y\n",
        "# from either x or y but not the common ones\n",
        "# result will not vary if order of ndarrays is changed in argument list"
      ]
    },
    {
      "cell_type": "code",
      "source": [],
      "metadata": {
        "id": "0hMSD7ffvJCJ"
      },
      "execution_count": null,
      "outputs": []
    }
  ],
  "metadata": {
    "colab": {
      "provenance": [],
      "toc_visible": true
    },
    "kernelspec": {
      "display_name": "Python 3",
      "name": "python3"
    },
    "language_info": {
      "name": "python"
    }
  },
  "nbformat": 4,
  "nbformat_minor": 0
}