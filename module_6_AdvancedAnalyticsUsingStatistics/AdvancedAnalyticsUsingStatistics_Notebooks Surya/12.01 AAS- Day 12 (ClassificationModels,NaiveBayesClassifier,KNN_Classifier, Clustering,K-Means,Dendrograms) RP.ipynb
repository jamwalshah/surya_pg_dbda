{
  "nbformat": 4,
  "nbformat_minor": 0,
  "metadata": {
    "colab": {
      "provenance": [],
      "toc_visible": true
    },
    "kernelspec": {
      "name": "python3",
      "display_name": "Python 3"
    },
    "language_info": {
      "name": "python"
    }
  },
  "cells": [
    {
      "cell_type": "markdown",
      "source": [
        "### Naive Bayes Classifier\n",
        "- is a supervised learning model\n",
        "- uses Bayes' Theorem\n",
        "- works on conditional probability / posterior probability\n",
        "- conditional probability, P(A|B) = P(A ∪ B)/P(A)\n",
        "- used to find probability of event A if probability of event B is already known\n",
        "- e.g. supermarket case, if user buys bread and eggs, what is probability of user buying milk\n",
        "- e.g. if a person is wearing a saree is a feature, and we know the probability of person wearing saree, what will be probability of person being female ?"
      ],
      "metadata": {
        "id": "dlS5VvUIWHo2"
      }
    },
    {
      "cell_type": "code",
      "execution_count": null,
      "metadata": {
        "id": "8gp9Pi3DU6yb"
      },
      "outputs": [],
      "source": [
        "import numpy as np\n",
        "import pandas as pd\n",
        "import statsmodels\n",
        "import statsmodels.api as sm\n",
        "from statsmodels.formula.api import ols\n",
        "import statsmodels.stats.multicomp\n",
        "import sklearn\n",
        "from sklearn.model_selection import train_test_split\n",
        "from sklearn.metrics import confusion_matrix\n",
        "from sklearn.metrics import classification_report"
      ]
    },
    {
      "cell_type": "code",
      "source": [
        "import numpy as np\n",
        "import pandas as pd\n",
        "import sklearn\n",
        "from sklearn.naive_bayes import GaussianNB\n",
        "from sklearn.model_selection import train_test_split\n",
        "from sklearn.metrics import confusion_matrix"
      ],
      "metadata": {
        "id": "y9W9jhmzWRMp"
      },
      "execution_count": null,
      "outputs": []
    },
    {
      "cell_type": "code",
      "source": [
        "from google.colab import files\n",
        "uploaded=files.upload()\n",
        "# CDAC_DataBook.xlsx\n",
        "# to be used with google colab\n",
        "\n",
        "# import os\n",
        "# os.chdir(r'C:\\Users\\surya\\Downloads\\PG-DBDA-Mar23\\Datasets')\n",
        "# os.getcwd()\n",
        "# to change current working directory to specified path\n",
        "# to be used while running on local system"
      ],
      "metadata": {
        "colab": {
          "base_uri": "https://localhost:8080/",
          "height": 73
        },
        "id": "9sCxcQTjYOjY",
        "outputId": "b167d62a-e6df-488e-d91f-9f51ee95f96c"
      },
      "execution_count": null,
      "outputs": [
        {
          "output_type": "display_data",
          "data": {
            "text/plain": [
              "<IPython.core.display.HTML object>"
            ],
            "text/html": [
              "\n",
              "     <input type=\"file\" id=\"files-f292206b-49f1-434d-8ef2-7f5b251de9d6\" name=\"files[]\" multiple disabled\n",
              "        style=\"border:none\" />\n",
              "     <output id=\"result-f292206b-49f1-434d-8ef2-7f5b251de9d6\">\n",
              "      Upload widget is only available when the cell has been executed in the\n",
              "      current browser session. Please rerun this cell to enable.\n",
              "      </output>\n",
              "      <script>// Copyright 2017 Google LLC\n",
              "//\n",
              "// Licensed under the Apache License, Version 2.0 (the \"License\");\n",
              "// you may not use this file except in compliance with the License.\n",
              "// You may obtain a copy of the License at\n",
              "//\n",
              "//      http://www.apache.org/licenses/LICENSE-2.0\n",
              "//\n",
              "// Unless required by applicable law or agreed to in writing, software\n",
              "// distributed under the License is distributed on an \"AS IS\" BASIS,\n",
              "// WITHOUT WARRANTIES OR CONDITIONS OF ANY KIND, either express or implied.\n",
              "// See the License for the specific language governing permissions and\n",
              "// limitations under the License.\n",
              "\n",
              "/**\n",
              " * @fileoverview Helpers for google.colab Python module.\n",
              " */\n",
              "(function(scope) {\n",
              "function span(text, styleAttributes = {}) {\n",
              "  const element = document.createElement('span');\n",
              "  element.textContent = text;\n",
              "  for (const key of Object.keys(styleAttributes)) {\n",
              "    element.style[key] = styleAttributes[key];\n",
              "  }\n",
              "  return element;\n",
              "}\n",
              "\n",
              "// Max number of bytes which will be uploaded at a time.\n",
              "const MAX_PAYLOAD_SIZE = 100 * 1024;\n",
              "\n",
              "function _uploadFiles(inputId, outputId) {\n",
              "  const steps = uploadFilesStep(inputId, outputId);\n",
              "  const outputElement = document.getElementById(outputId);\n",
              "  // Cache steps on the outputElement to make it available for the next call\n",
              "  // to uploadFilesContinue from Python.\n",
              "  outputElement.steps = steps;\n",
              "\n",
              "  return _uploadFilesContinue(outputId);\n",
              "}\n",
              "\n",
              "// This is roughly an async generator (not supported in the browser yet),\n",
              "// where there are multiple asynchronous steps and the Python side is going\n",
              "// to poll for completion of each step.\n",
              "// This uses a Promise to block the python side on completion of each step,\n",
              "// then passes the result of the previous step as the input to the next step.\n",
              "function _uploadFilesContinue(outputId) {\n",
              "  const outputElement = document.getElementById(outputId);\n",
              "  const steps = outputElement.steps;\n",
              "\n",
              "  const next = steps.next(outputElement.lastPromiseValue);\n",
              "  return Promise.resolve(next.value.promise).then((value) => {\n",
              "    // Cache the last promise value to make it available to the next\n",
              "    // step of the generator.\n",
              "    outputElement.lastPromiseValue = value;\n",
              "    return next.value.response;\n",
              "  });\n",
              "}\n",
              "\n",
              "/**\n",
              " * Generator function which is called between each async step of the upload\n",
              " * process.\n",
              " * @param {string} inputId Element ID of the input file picker element.\n",
              " * @param {string} outputId Element ID of the output display.\n",
              " * @return {!Iterable<!Object>} Iterable of next steps.\n",
              " */\n",
              "function* uploadFilesStep(inputId, outputId) {\n",
              "  const inputElement = document.getElementById(inputId);\n",
              "  inputElement.disabled = false;\n",
              "\n",
              "  const outputElement = document.getElementById(outputId);\n",
              "  outputElement.innerHTML = '';\n",
              "\n",
              "  const pickedPromise = new Promise((resolve) => {\n",
              "    inputElement.addEventListener('change', (e) => {\n",
              "      resolve(e.target.files);\n",
              "    });\n",
              "  });\n",
              "\n",
              "  const cancel = document.createElement('button');\n",
              "  inputElement.parentElement.appendChild(cancel);\n",
              "  cancel.textContent = 'Cancel upload';\n",
              "  const cancelPromise = new Promise((resolve) => {\n",
              "    cancel.onclick = () => {\n",
              "      resolve(null);\n",
              "    };\n",
              "  });\n",
              "\n",
              "  // Wait for the user to pick the files.\n",
              "  const files = yield {\n",
              "    promise: Promise.race([pickedPromise, cancelPromise]),\n",
              "    response: {\n",
              "      action: 'starting',\n",
              "    }\n",
              "  };\n",
              "\n",
              "  cancel.remove();\n",
              "\n",
              "  // Disable the input element since further picks are not allowed.\n",
              "  inputElement.disabled = true;\n",
              "\n",
              "  if (!files) {\n",
              "    return {\n",
              "      response: {\n",
              "        action: 'complete',\n",
              "      }\n",
              "    };\n",
              "  }\n",
              "\n",
              "  for (const file of files) {\n",
              "    const li = document.createElement('li');\n",
              "    li.append(span(file.name, {fontWeight: 'bold'}));\n",
              "    li.append(span(\n",
              "        `(${file.type || 'n/a'}) - ${file.size} bytes, ` +\n",
              "        `last modified: ${\n",
              "            file.lastModifiedDate ? file.lastModifiedDate.toLocaleDateString() :\n",
              "                                    'n/a'} - `));\n",
              "    const percent = span('0% done');\n",
              "    li.appendChild(percent);\n",
              "\n",
              "    outputElement.appendChild(li);\n",
              "\n",
              "    const fileDataPromise = new Promise((resolve) => {\n",
              "      const reader = new FileReader();\n",
              "      reader.onload = (e) => {\n",
              "        resolve(e.target.result);\n",
              "      };\n",
              "      reader.readAsArrayBuffer(file);\n",
              "    });\n",
              "    // Wait for the data to be ready.\n",
              "    let fileData = yield {\n",
              "      promise: fileDataPromise,\n",
              "      response: {\n",
              "        action: 'continue',\n",
              "      }\n",
              "    };\n",
              "\n",
              "    // Use a chunked sending to avoid message size limits. See b/62115660.\n",
              "    let position = 0;\n",
              "    do {\n",
              "      const length = Math.min(fileData.byteLength - position, MAX_PAYLOAD_SIZE);\n",
              "      const chunk = new Uint8Array(fileData, position, length);\n",
              "      position += length;\n",
              "\n",
              "      const base64 = btoa(String.fromCharCode.apply(null, chunk));\n",
              "      yield {\n",
              "        response: {\n",
              "          action: 'append',\n",
              "          file: file.name,\n",
              "          data: base64,\n",
              "        },\n",
              "      };\n",
              "\n",
              "      let percentDone = fileData.byteLength === 0 ?\n",
              "          100 :\n",
              "          Math.round((position / fileData.byteLength) * 100);\n",
              "      percent.textContent = `${percentDone}% done`;\n",
              "\n",
              "    } while (position < fileData.byteLength);\n",
              "  }\n",
              "\n",
              "  // All done.\n",
              "  yield {\n",
              "    response: {\n",
              "      action: 'complete',\n",
              "    }\n",
              "  };\n",
              "}\n",
              "\n",
              "scope.google = scope.google || {};\n",
              "scope.google.colab = scope.google.colab || {};\n",
              "scope.google.colab._files = {\n",
              "  _uploadFiles,\n",
              "  _uploadFilesContinue,\n",
              "};\n",
              "})(self);\n",
              "</script> "
            ]
          },
          "metadata": {}
        },
        {
          "output_type": "stream",
          "name": "stdout",
          "text": [
            "Saving CDAC_DataBook.xlsx to CDAC_DataBook.xlsx\n"
          ]
        }
      ]
    },
    {
      "cell_type": "code",
      "source": [
        "df = pd.read_excel('CDAC_DataBook.xlsx', sheet_name='iris')\n",
        "df.head()"
      ],
      "metadata": {
        "colab": {
          "base_uri": "https://localhost:8080/",
          "height": 206
        },
        "id": "iguO2ZSsYSxC",
        "outputId": "621b0962-e773-4019-810e-f850602e5316"
      },
      "execution_count": null,
      "outputs": [
        {
          "output_type": "execute_result",
          "data": {
            "text/plain": [
              "   Sepal_length  Sepal_width  Petal_length  Petal_width      Species\n",
              "0           5.1          3.5           1.4          0.2  Iris-setosa\n",
              "1           4.9          3.0           1.4          0.2  Iris-setosa\n",
              "2           4.7          3.2           1.3          0.2  Iris-setosa\n",
              "3           4.6          3.1           1.5          0.2  Iris-setosa\n",
              "4           5.0          3.6           1.4          0.2  Iris-setosa"
            ],
            "text/html": [
              "\n",
              "  <div id=\"df-18d912e9-f3f7-4f21-99c6-6fb3125f00cf\">\n",
              "    <div class=\"colab-df-container\">\n",
              "      <div>\n",
              "<style scoped>\n",
              "    .dataframe tbody tr th:only-of-type {\n",
              "        vertical-align: middle;\n",
              "    }\n",
              "\n",
              "    .dataframe tbody tr th {\n",
              "        vertical-align: top;\n",
              "    }\n",
              "\n",
              "    .dataframe thead th {\n",
              "        text-align: right;\n",
              "    }\n",
              "</style>\n",
              "<table border=\"1\" class=\"dataframe\">\n",
              "  <thead>\n",
              "    <tr style=\"text-align: right;\">\n",
              "      <th></th>\n",
              "      <th>Sepal_length</th>\n",
              "      <th>Sepal_width</th>\n",
              "      <th>Petal_length</th>\n",
              "      <th>Petal_width</th>\n",
              "      <th>Species</th>\n",
              "    </tr>\n",
              "  </thead>\n",
              "  <tbody>\n",
              "    <tr>\n",
              "      <th>0</th>\n",
              "      <td>5.1</td>\n",
              "      <td>3.5</td>\n",
              "      <td>1.4</td>\n",
              "      <td>0.2</td>\n",
              "      <td>Iris-setosa</td>\n",
              "    </tr>\n",
              "    <tr>\n",
              "      <th>1</th>\n",
              "      <td>4.9</td>\n",
              "      <td>3.0</td>\n",
              "      <td>1.4</td>\n",
              "      <td>0.2</td>\n",
              "      <td>Iris-setosa</td>\n",
              "    </tr>\n",
              "    <tr>\n",
              "      <th>2</th>\n",
              "      <td>4.7</td>\n",
              "      <td>3.2</td>\n",
              "      <td>1.3</td>\n",
              "      <td>0.2</td>\n",
              "      <td>Iris-setosa</td>\n",
              "    </tr>\n",
              "    <tr>\n",
              "      <th>3</th>\n",
              "      <td>4.6</td>\n",
              "      <td>3.1</td>\n",
              "      <td>1.5</td>\n",
              "      <td>0.2</td>\n",
              "      <td>Iris-setosa</td>\n",
              "    </tr>\n",
              "    <tr>\n",
              "      <th>4</th>\n",
              "      <td>5.0</td>\n",
              "      <td>3.6</td>\n",
              "      <td>1.4</td>\n",
              "      <td>0.2</td>\n",
              "      <td>Iris-setosa</td>\n",
              "    </tr>\n",
              "  </tbody>\n",
              "</table>\n",
              "</div>\n",
              "      <button class=\"colab-df-convert\" onclick=\"convertToInteractive('df-18d912e9-f3f7-4f21-99c6-6fb3125f00cf')\"\n",
              "              title=\"Convert this dataframe to an interactive table.\"\n",
              "              style=\"display:none;\">\n",
              "        \n",
              "  <svg xmlns=\"http://www.w3.org/2000/svg\" height=\"24px\"viewBox=\"0 0 24 24\"\n",
              "       width=\"24px\">\n",
              "    <path d=\"M0 0h24v24H0V0z\" fill=\"none\"/>\n",
              "    <path d=\"M18.56 5.44l.94 2.06.94-2.06 2.06-.94-2.06-.94-.94-2.06-.94 2.06-2.06.94zm-11 1L8.5 8.5l.94-2.06 2.06-.94-2.06-.94L8.5 2.5l-.94 2.06-2.06.94zm10 10l.94 2.06.94-2.06 2.06-.94-2.06-.94-.94-2.06-.94 2.06-2.06.94z\"/><path d=\"M17.41 7.96l-1.37-1.37c-.4-.4-.92-.59-1.43-.59-.52 0-1.04.2-1.43.59L10.3 9.45l-7.72 7.72c-.78.78-.78 2.05 0 2.83L4 21.41c.39.39.9.59 1.41.59.51 0 1.02-.2 1.41-.59l7.78-7.78 2.81-2.81c.8-.78.8-2.07 0-2.86zM5.41 20L4 18.59l7.72-7.72 1.47 1.35L5.41 20z\"/>\n",
              "  </svg>\n",
              "      </button>\n",
              "      \n",
              "  <style>\n",
              "    .colab-df-container {\n",
              "      display:flex;\n",
              "      flex-wrap:wrap;\n",
              "      gap: 12px;\n",
              "    }\n",
              "\n",
              "    .colab-df-convert {\n",
              "      background-color: #E8F0FE;\n",
              "      border: none;\n",
              "      border-radius: 50%;\n",
              "      cursor: pointer;\n",
              "      display: none;\n",
              "      fill: #1967D2;\n",
              "      height: 32px;\n",
              "      padding: 0 0 0 0;\n",
              "      width: 32px;\n",
              "    }\n",
              "\n",
              "    .colab-df-convert:hover {\n",
              "      background-color: #E2EBFA;\n",
              "      box-shadow: 0px 1px 2px rgba(60, 64, 67, 0.3), 0px 1px 3px 1px rgba(60, 64, 67, 0.15);\n",
              "      fill: #174EA6;\n",
              "    }\n",
              "\n",
              "    [theme=dark] .colab-df-convert {\n",
              "      background-color: #3B4455;\n",
              "      fill: #D2E3FC;\n",
              "    }\n",
              "\n",
              "    [theme=dark] .colab-df-convert:hover {\n",
              "      background-color: #434B5C;\n",
              "      box-shadow: 0px 1px 3px 1px rgba(0, 0, 0, 0.15);\n",
              "      filter: drop-shadow(0px 1px 2px rgba(0, 0, 0, 0.3));\n",
              "      fill: #FFFFFF;\n",
              "    }\n",
              "  </style>\n",
              "\n",
              "      <script>\n",
              "        const buttonEl =\n",
              "          document.querySelector('#df-18d912e9-f3f7-4f21-99c6-6fb3125f00cf button.colab-df-convert');\n",
              "        buttonEl.style.display =\n",
              "          google.colab.kernel.accessAllowed ? 'block' : 'none';\n",
              "\n",
              "        async function convertToInteractive(key) {\n",
              "          const element = document.querySelector('#df-18d912e9-f3f7-4f21-99c6-6fb3125f00cf');\n",
              "          const dataTable =\n",
              "            await google.colab.kernel.invokeFunction('convertToInteractive',\n",
              "                                                     [key], {});\n",
              "          if (!dataTable) return;\n",
              "\n",
              "          const docLinkHtml = 'Like what you see? Visit the ' +\n",
              "            '<a target=\"_blank\" href=https://colab.research.google.com/notebooks/data_table.ipynb>data table notebook</a>'\n",
              "            + ' to learn more about interactive tables.';\n",
              "          element.innerHTML = '';\n",
              "          dataTable['output_type'] = 'display_data';\n",
              "          await google.colab.output.renderOutput(dataTable, element);\n",
              "          const docLink = document.createElement('div');\n",
              "          docLink.innerHTML = docLinkHtml;\n",
              "          element.appendChild(docLink);\n",
              "        }\n",
              "      </script>\n",
              "    </div>\n",
              "  </div>\n",
              "  "
            ]
          },
          "metadata": {},
          "execution_count": 5
        }
      ]
    },
    {
      "cell_type": "code",
      "source": [
        "x_train, x_test, y_train, y_test = train_test_split(df.drop('Species', axis=1), df.Species, test_size=0.25)"
      ],
      "metadata": {
        "id": "R4PA3KeMYqRm"
      },
      "execution_count": null,
      "outputs": []
    },
    {
      "cell_type": "markdown",
      "source": [
        "##### GaussianNB().fit(x_train, y_train)"
      ],
      "metadata": {
        "id": "kziLixVhpFiu"
      }
    },
    {
      "cell_type": "code",
      "source": [
        "mod1 = GaussianNB().fit(x_train, y_train)"
      ],
      "metadata": {
        "id": "AOQzwTz7ZP20"
      },
      "execution_count": null,
      "outputs": []
    },
    {
      "cell_type": "markdown",
      "source": [
        "##### mod1.predict(x_test)"
      ],
      "metadata": {
        "id": "TqKdgfv0pIP6"
      }
    },
    {
      "cell_type": "code",
      "source": [
        "y_pred = mod1.predict(x_test)"
      ],
      "metadata": {
        "id": "_Bm6q1N0ZV20"
      },
      "execution_count": null,
      "outputs": []
    },
    {
      "cell_type": "markdown",
      "source": [
        "##### confusion_matrix(y_test, y_pred)"
      ],
      "metadata": {
        "id": "yw59hzPSpKcB"
      }
    },
    {
      "cell_type": "code",
      "source": [
        "print(confusion_matrix(y_test, y_pred))"
      ],
      "metadata": {
        "colab": {
          "base_uri": "https://localhost:8080/"
        },
        "id": "YVKlMjljZinj",
        "outputId": "c5d968f0-5960-4dc9-942b-e3e69fe5cd56"
      },
      "execution_count": null,
      "outputs": [
        {
          "output_type": "stream",
          "name": "stdout",
          "text": [
            "[[12  0  0]\n",
            " [ 0 11  3]\n",
            " [ 0  0 12]]\n"
          ]
        }
      ]
    },
    {
      "cell_type": "code",
      "source": [],
      "metadata": {
        "id": "52ZfRQSiZn3E"
      },
      "execution_count": null,
      "outputs": []
    },
    {
      "cell_type": "markdown",
      "source": [
        "### KNN classifier\n",
        "- K-Nearest Neighbour classifier\n",
        "- selects ```k``` number of neighbours, and then selects the response with highest frequency as the final response\n",
        "-"
      ],
      "metadata": {
        "id": "edILOL6FhxMQ"
      }
    },
    {
      "cell_type": "markdown",
      "source": [
        "##### import KNeighborsClassifier"
      ],
      "metadata": {
        "id": "GFS8exHfpO68"
      }
    },
    {
      "cell_type": "code",
      "source": [
        "import numpy as np\n",
        "import pandas as pd\n",
        "import sklearn\n",
        "from sklearn.neighbors import KNeighborsClassifier as knc\n",
        "from sklearn.model_selection import train_test_split"
      ],
      "metadata": {
        "id": "8asIJ7OSiEIY"
      },
      "execution_count": null,
      "outputs": []
    },
    {
      "cell_type": "code",
      "source": [
        "from google.colab import files\n",
        "uploaded=files.upload()\n",
        "# CDAC_DataBook.xlsx\n",
        "# to be used with google colab\n",
        "\n",
        "# import os\n",
        "# os.chdir(r'C:\\Users\\surya\\Downloads\\PG-DBDA-Mar23\\Datasets')\n",
        "# os.getcwd()\n",
        "# to change current working directory to specified path\n",
        "# to be used while running on local system"
      ],
      "metadata": {
        "id": "8prDfRLRkw_0"
      },
      "execution_count": null,
      "outputs": []
    },
    {
      "cell_type": "code",
      "source": [
        "df = pd.read_excel('CDAC_DataBook.xlsx', sheet_name='iris')\n",
        "df.head()"
      ],
      "metadata": {
        "colab": {
          "base_uri": "https://localhost:8080/",
          "height": 206
        },
        "id": "HgphqacBkF79",
        "outputId": "cfa535c1-ae61-410e-b9ab-cd0d42b2ff03"
      },
      "execution_count": null,
      "outputs": [
        {
          "output_type": "execute_result",
          "data": {
            "text/plain": [
              "   Sepal_length  Sepal_width  Petal_length  Petal_width      Species\n",
              "0           5.1          3.5           1.4          0.2  Iris-setosa\n",
              "1           4.9          3.0           1.4          0.2  Iris-setosa\n",
              "2           4.7          3.2           1.3          0.2  Iris-setosa\n",
              "3           4.6          3.1           1.5          0.2  Iris-setosa\n",
              "4           5.0          3.6           1.4          0.2  Iris-setosa"
            ],
            "text/html": [
              "\n",
              "  <div id=\"df-9ae39414-92e1-4da2-b50f-fd53779e32d4\">\n",
              "    <div class=\"colab-df-container\">\n",
              "      <div>\n",
              "<style scoped>\n",
              "    .dataframe tbody tr th:only-of-type {\n",
              "        vertical-align: middle;\n",
              "    }\n",
              "\n",
              "    .dataframe tbody tr th {\n",
              "        vertical-align: top;\n",
              "    }\n",
              "\n",
              "    .dataframe thead th {\n",
              "        text-align: right;\n",
              "    }\n",
              "</style>\n",
              "<table border=\"1\" class=\"dataframe\">\n",
              "  <thead>\n",
              "    <tr style=\"text-align: right;\">\n",
              "      <th></th>\n",
              "      <th>Sepal_length</th>\n",
              "      <th>Sepal_width</th>\n",
              "      <th>Petal_length</th>\n",
              "      <th>Petal_width</th>\n",
              "      <th>Species</th>\n",
              "    </tr>\n",
              "  </thead>\n",
              "  <tbody>\n",
              "    <tr>\n",
              "      <th>0</th>\n",
              "      <td>5.1</td>\n",
              "      <td>3.5</td>\n",
              "      <td>1.4</td>\n",
              "      <td>0.2</td>\n",
              "      <td>Iris-setosa</td>\n",
              "    </tr>\n",
              "    <tr>\n",
              "      <th>1</th>\n",
              "      <td>4.9</td>\n",
              "      <td>3.0</td>\n",
              "      <td>1.4</td>\n",
              "      <td>0.2</td>\n",
              "      <td>Iris-setosa</td>\n",
              "    </tr>\n",
              "    <tr>\n",
              "      <th>2</th>\n",
              "      <td>4.7</td>\n",
              "      <td>3.2</td>\n",
              "      <td>1.3</td>\n",
              "      <td>0.2</td>\n",
              "      <td>Iris-setosa</td>\n",
              "    </tr>\n",
              "    <tr>\n",
              "      <th>3</th>\n",
              "      <td>4.6</td>\n",
              "      <td>3.1</td>\n",
              "      <td>1.5</td>\n",
              "      <td>0.2</td>\n",
              "      <td>Iris-setosa</td>\n",
              "    </tr>\n",
              "    <tr>\n",
              "      <th>4</th>\n",
              "      <td>5.0</td>\n",
              "      <td>3.6</td>\n",
              "      <td>1.4</td>\n",
              "      <td>0.2</td>\n",
              "      <td>Iris-setosa</td>\n",
              "    </tr>\n",
              "  </tbody>\n",
              "</table>\n",
              "</div>\n",
              "      <button class=\"colab-df-convert\" onclick=\"convertToInteractive('df-9ae39414-92e1-4da2-b50f-fd53779e32d4')\"\n",
              "              title=\"Convert this dataframe to an interactive table.\"\n",
              "              style=\"display:none;\">\n",
              "        \n",
              "  <svg xmlns=\"http://www.w3.org/2000/svg\" height=\"24px\"viewBox=\"0 0 24 24\"\n",
              "       width=\"24px\">\n",
              "    <path d=\"M0 0h24v24H0V0z\" fill=\"none\"/>\n",
              "    <path d=\"M18.56 5.44l.94 2.06.94-2.06 2.06-.94-2.06-.94-.94-2.06-.94 2.06-2.06.94zm-11 1L8.5 8.5l.94-2.06 2.06-.94-2.06-.94L8.5 2.5l-.94 2.06-2.06.94zm10 10l.94 2.06.94-2.06 2.06-.94-2.06-.94-.94-2.06-.94 2.06-2.06.94z\"/><path d=\"M17.41 7.96l-1.37-1.37c-.4-.4-.92-.59-1.43-.59-.52 0-1.04.2-1.43.59L10.3 9.45l-7.72 7.72c-.78.78-.78 2.05 0 2.83L4 21.41c.39.39.9.59 1.41.59.51 0 1.02-.2 1.41-.59l7.78-7.78 2.81-2.81c.8-.78.8-2.07 0-2.86zM5.41 20L4 18.59l7.72-7.72 1.47 1.35L5.41 20z\"/>\n",
              "  </svg>\n",
              "      </button>\n",
              "      \n",
              "  <style>\n",
              "    .colab-df-container {\n",
              "      display:flex;\n",
              "      flex-wrap:wrap;\n",
              "      gap: 12px;\n",
              "    }\n",
              "\n",
              "    .colab-df-convert {\n",
              "      background-color: #E8F0FE;\n",
              "      border: none;\n",
              "      border-radius: 50%;\n",
              "      cursor: pointer;\n",
              "      display: none;\n",
              "      fill: #1967D2;\n",
              "      height: 32px;\n",
              "      padding: 0 0 0 0;\n",
              "      width: 32px;\n",
              "    }\n",
              "\n",
              "    .colab-df-convert:hover {\n",
              "      background-color: #E2EBFA;\n",
              "      box-shadow: 0px 1px 2px rgba(60, 64, 67, 0.3), 0px 1px 3px 1px rgba(60, 64, 67, 0.15);\n",
              "      fill: #174EA6;\n",
              "    }\n",
              "\n",
              "    [theme=dark] .colab-df-convert {\n",
              "      background-color: #3B4455;\n",
              "      fill: #D2E3FC;\n",
              "    }\n",
              "\n",
              "    [theme=dark] .colab-df-convert:hover {\n",
              "      background-color: #434B5C;\n",
              "      box-shadow: 0px 1px 3px 1px rgba(0, 0, 0, 0.15);\n",
              "      filter: drop-shadow(0px 1px 2px rgba(0, 0, 0, 0.3));\n",
              "      fill: #FFFFFF;\n",
              "    }\n",
              "  </style>\n",
              "\n",
              "      <script>\n",
              "        const buttonEl =\n",
              "          document.querySelector('#df-9ae39414-92e1-4da2-b50f-fd53779e32d4 button.colab-df-convert');\n",
              "        buttonEl.style.display =\n",
              "          google.colab.kernel.accessAllowed ? 'block' : 'none';\n",
              "\n",
              "        async function convertToInteractive(key) {\n",
              "          const element = document.querySelector('#df-9ae39414-92e1-4da2-b50f-fd53779e32d4');\n",
              "          const dataTable =\n",
              "            await google.colab.kernel.invokeFunction('convertToInteractive',\n",
              "                                                     [key], {});\n",
              "          if (!dataTable) return;\n",
              "\n",
              "          const docLinkHtml = 'Like what you see? Visit the ' +\n",
              "            '<a target=\"_blank\" href=https://colab.research.google.com/notebooks/data_table.ipynb>data table notebook</a>'\n",
              "            + ' to learn more about interactive tables.';\n",
              "          element.innerHTML = '';\n",
              "          dataTable['output_type'] = 'display_data';\n",
              "          await google.colab.output.renderOutput(dataTable, element);\n",
              "          const docLink = document.createElement('div');\n",
              "          docLink.innerHTML = docLinkHtml;\n",
              "          element.appendChild(docLink);\n",
              "        }\n",
              "      </script>\n",
              "    </div>\n",
              "  </div>\n",
              "  "
            ]
          },
          "metadata": {},
          "execution_count": 15
        }
      ]
    },
    {
      "cell_type": "code",
      "source": [
        "x_train, x_test, y_train, y_test = train_test_split(df.drop('Species', axis=1), df.Species, test_size=0.25)"
      ],
      "metadata": {
        "id": "n34H8j0AkR7L"
      },
      "execution_count": null,
      "outputs": []
    },
    {
      "cell_type": "markdown",
      "source": [
        "#### KNeighborsClassifier(n_neighbors=4).fit(x_train, y_train)"
      ],
      "metadata": {
        "id": "rFUzU9ILpTbP"
      }
    },
    {
      "cell_type": "code",
      "source": [
        "mod2 = knc(n_neighbors=4).fit(x_train, y_train)"
      ],
      "metadata": {
        "id": "CnkmflYSkVot"
      },
      "execution_count": null,
      "outputs": []
    },
    {
      "cell_type": "markdown",
      "source": [
        "##### model.predict(x_test)"
      ],
      "metadata": {
        "id": "7o4G1_-PpXcX"
      }
    },
    {
      "cell_type": "code",
      "source": [
        "y_pred2 = mod2.predict(x_test)"
      ],
      "metadata": {
        "id": "uDAKgTiMkgQK"
      },
      "execution_count": null,
      "outputs": []
    },
    {
      "cell_type": "markdown",
      "source": [
        "##### confusion_matrix(y_test, y_pred)"
      ],
      "metadata": {
        "id": "MxmnlKFJpagb"
      }
    },
    {
      "cell_type": "code",
      "source": [
        "print(confusion_matrix(y_test, y_pred))\n",
        "# confusion matrix for naive Bayes classifier"
      ],
      "metadata": {
        "colab": {
          "base_uri": "https://localhost:8080/"
        },
        "id": "Pq-WAEellbq_",
        "outputId": "83efa493-064c-4b92-e344-581e1e69c682"
      },
      "execution_count": null,
      "outputs": [
        {
          "output_type": "stream",
          "name": "stdout",
          "text": [
            "[[6 4 3]\n",
            " [2 4 4]\n",
            " [4 3 8]]\n"
          ]
        }
      ]
    },
    {
      "cell_type": "code",
      "source": [
        "print(confusion_matrix(y_test, y_pred2))\n",
        "# confusion matrix for KNN classifier"
      ],
      "metadata": {
        "colab": {
          "base_uri": "https://localhost:8080/"
        },
        "id": "2sCr9mWgkmjG",
        "outputId": "f906c2b0-70db-41b1-9202-d7dd392ec441"
      },
      "execution_count": null,
      "outputs": [
        {
          "output_type": "stream",
          "name": "stdout",
          "text": [
            "[[13  0  0]\n",
            " [ 0 10  0]\n",
            " [ 0  1 14]]\n"
          ]
        }
      ]
    },
    {
      "cell_type": "markdown",
      "source": [
        "- ROC curve: receiver operating characteristic curve\n",
        "- indicates preicision, recall value\n",
        "- higher the area under the curve, higher the precision"
      ],
      "metadata": {
        "id": "4pbz07--l770"
      }
    },
    {
      "cell_type": "markdown",
      "source": [
        "# Unsupervised learning Models\n",
        "- there is no response in training data\n",
        "- used to discover hidden patterns\n",
        "- uses machine learning algorithms to analyze and cluster unlabeled datasets"
      ],
      "metadata": {
        "id": "LuJJuxBfnpg-"
      }
    },
    {
      "cell_type": "markdown",
      "source": [
        "## Clustering Model\n",
        "- we make atleast three clusters\n",
        "- each cluster has one center point called centeroid\n",
        "- one point in a specific cluster is closer to the centeroid of that cluster as compared to the centroid of other clusters in dataset\n",
        "- majorly used in marketing industry to analyse"
      ],
      "metadata": {
        "id": "LTaYHTxioK3K"
      }
    },
    {
      "cell_type": "markdown",
      "source": [
        "### Partitional Clustering"
      ],
      "metadata": {
        "id": "X6WymuLhLoMJ"
      }
    },
    {
      "cell_type": "markdown",
      "source": [
        "#### K-Means\n",
        "- is a clustering model, unsupervised learning model\n",
        "-"
      ],
      "metadata": {
        "id": "a06Ox91xt8cc"
      }
    },
    {
      "cell_type": "markdown",
      "source": [
        "##### import KMeans"
      ],
      "metadata": {
        "id": "CSOZgK_VpeZk"
      }
    },
    {
      "cell_type": "code",
      "source": [
        "import numpy as np\n",
        "import pandas as pd\n",
        "import sklearn\n",
        "from sklearn.cluster import KMeans"
      ],
      "metadata": {
        "id": "10-9QNO6kuyO"
      },
      "execution_count": null,
      "outputs": []
    },
    {
      "cell_type": "code",
      "source": [
        "from google.colab import files\n",
        "uploaded=files.upload()\n",
        "# clusters.xlsx\n",
        "# to be used with google colab\n",
        "\n",
        "# import os\n",
        "# os.chdir(r'C:\\Users\\surya\\Downloads\\PG-DBDA-Mar23\\Datasets')\n",
        "# os.getcwd()\n",
        "# to change current working directory to specified path\n",
        "# to be used while running on local system"
      ],
      "metadata": {
        "colab": {
          "base_uri": "https://localhost:8080/",
          "height": 73
        },
        "id": "mpZpo_hlqNVZ",
        "outputId": "4e4898b7-bb9f-4609-c35b-3ac53ecffbb9"
      },
      "execution_count": null,
      "outputs": [
        {
          "output_type": "display_data",
          "data": {
            "text/plain": [
              "<IPython.core.display.HTML object>"
            ],
            "text/html": [
              "\n",
              "     <input type=\"file\" id=\"files-ee9fce0d-4a29-4d7a-ad0a-f57e7a29d1dc\" name=\"files[]\" multiple disabled\n",
              "        style=\"border:none\" />\n",
              "     <output id=\"result-ee9fce0d-4a29-4d7a-ad0a-f57e7a29d1dc\">\n",
              "      Upload widget is only available when the cell has been executed in the\n",
              "      current browser session. Please rerun this cell to enable.\n",
              "      </output>\n",
              "      <script>// Copyright 2017 Google LLC\n",
              "//\n",
              "// Licensed under the Apache License, Version 2.0 (the \"License\");\n",
              "// you may not use this file except in compliance with the License.\n",
              "// You may obtain a copy of the License at\n",
              "//\n",
              "//      http://www.apache.org/licenses/LICENSE-2.0\n",
              "//\n",
              "// Unless required by applicable law or agreed to in writing, software\n",
              "// distributed under the License is distributed on an \"AS IS\" BASIS,\n",
              "// WITHOUT WARRANTIES OR CONDITIONS OF ANY KIND, either express or implied.\n",
              "// See the License for the specific language governing permissions and\n",
              "// limitations under the License.\n",
              "\n",
              "/**\n",
              " * @fileoverview Helpers for google.colab Python module.\n",
              " */\n",
              "(function(scope) {\n",
              "function span(text, styleAttributes = {}) {\n",
              "  const element = document.createElement('span');\n",
              "  element.textContent = text;\n",
              "  for (const key of Object.keys(styleAttributes)) {\n",
              "    element.style[key] = styleAttributes[key];\n",
              "  }\n",
              "  return element;\n",
              "}\n",
              "\n",
              "// Max number of bytes which will be uploaded at a time.\n",
              "const MAX_PAYLOAD_SIZE = 100 * 1024;\n",
              "\n",
              "function _uploadFiles(inputId, outputId) {\n",
              "  const steps = uploadFilesStep(inputId, outputId);\n",
              "  const outputElement = document.getElementById(outputId);\n",
              "  // Cache steps on the outputElement to make it available for the next call\n",
              "  // to uploadFilesContinue from Python.\n",
              "  outputElement.steps = steps;\n",
              "\n",
              "  return _uploadFilesContinue(outputId);\n",
              "}\n",
              "\n",
              "// This is roughly an async generator (not supported in the browser yet),\n",
              "// where there are multiple asynchronous steps and the Python side is going\n",
              "// to poll for completion of each step.\n",
              "// This uses a Promise to block the python side on completion of each step,\n",
              "// then passes the result of the previous step as the input to the next step.\n",
              "function _uploadFilesContinue(outputId) {\n",
              "  const outputElement = document.getElementById(outputId);\n",
              "  const steps = outputElement.steps;\n",
              "\n",
              "  const next = steps.next(outputElement.lastPromiseValue);\n",
              "  return Promise.resolve(next.value.promise).then((value) => {\n",
              "    // Cache the last promise value to make it available to the next\n",
              "    // step of the generator.\n",
              "    outputElement.lastPromiseValue = value;\n",
              "    return next.value.response;\n",
              "  });\n",
              "}\n",
              "\n",
              "/**\n",
              " * Generator function which is called between each async step of the upload\n",
              " * process.\n",
              " * @param {string} inputId Element ID of the input file picker element.\n",
              " * @param {string} outputId Element ID of the output display.\n",
              " * @return {!Iterable<!Object>} Iterable of next steps.\n",
              " */\n",
              "function* uploadFilesStep(inputId, outputId) {\n",
              "  const inputElement = document.getElementById(inputId);\n",
              "  inputElement.disabled = false;\n",
              "\n",
              "  const outputElement = document.getElementById(outputId);\n",
              "  outputElement.innerHTML = '';\n",
              "\n",
              "  const pickedPromise = new Promise((resolve) => {\n",
              "    inputElement.addEventListener('change', (e) => {\n",
              "      resolve(e.target.files);\n",
              "    });\n",
              "  });\n",
              "\n",
              "  const cancel = document.createElement('button');\n",
              "  inputElement.parentElement.appendChild(cancel);\n",
              "  cancel.textContent = 'Cancel upload';\n",
              "  const cancelPromise = new Promise((resolve) => {\n",
              "    cancel.onclick = () => {\n",
              "      resolve(null);\n",
              "    };\n",
              "  });\n",
              "\n",
              "  // Wait for the user to pick the files.\n",
              "  const files = yield {\n",
              "    promise: Promise.race([pickedPromise, cancelPromise]),\n",
              "    response: {\n",
              "      action: 'starting',\n",
              "    }\n",
              "  };\n",
              "\n",
              "  cancel.remove();\n",
              "\n",
              "  // Disable the input element since further picks are not allowed.\n",
              "  inputElement.disabled = true;\n",
              "\n",
              "  if (!files) {\n",
              "    return {\n",
              "      response: {\n",
              "        action: 'complete',\n",
              "      }\n",
              "    };\n",
              "  }\n",
              "\n",
              "  for (const file of files) {\n",
              "    const li = document.createElement('li');\n",
              "    li.append(span(file.name, {fontWeight: 'bold'}));\n",
              "    li.append(span(\n",
              "        `(${file.type || 'n/a'}) - ${file.size} bytes, ` +\n",
              "        `last modified: ${\n",
              "            file.lastModifiedDate ? file.lastModifiedDate.toLocaleDateString() :\n",
              "                                    'n/a'} - `));\n",
              "    const percent = span('0% done');\n",
              "    li.appendChild(percent);\n",
              "\n",
              "    outputElement.appendChild(li);\n",
              "\n",
              "    const fileDataPromise = new Promise((resolve) => {\n",
              "      const reader = new FileReader();\n",
              "      reader.onload = (e) => {\n",
              "        resolve(e.target.result);\n",
              "      };\n",
              "      reader.readAsArrayBuffer(file);\n",
              "    });\n",
              "    // Wait for the data to be ready.\n",
              "    let fileData = yield {\n",
              "      promise: fileDataPromise,\n",
              "      response: {\n",
              "        action: 'continue',\n",
              "      }\n",
              "    };\n",
              "\n",
              "    // Use a chunked sending to avoid message size limits. See b/62115660.\n",
              "    let position = 0;\n",
              "    do {\n",
              "      const length = Math.min(fileData.byteLength - position, MAX_PAYLOAD_SIZE);\n",
              "      const chunk = new Uint8Array(fileData, position, length);\n",
              "      position += length;\n",
              "\n",
              "      const base64 = btoa(String.fromCharCode.apply(null, chunk));\n",
              "      yield {\n",
              "        response: {\n",
              "          action: 'append',\n",
              "          file: file.name,\n",
              "          data: base64,\n",
              "        },\n",
              "      };\n",
              "\n",
              "      let percentDone = fileData.byteLength === 0 ?\n",
              "          100 :\n",
              "          Math.round((position / fileData.byteLength) * 100);\n",
              "      percent.textContent = `${percentDone}% done`;\n",
              "\n",
              "    } while (position < fileData.byteLength);\n",
              "  }\n",
              "\n",
              "  // All done.\n",
              "  yield {\n",
              "    response: {\n",
              "      action: 'complete',\n",
              "    }\n",
              "  };\n",
              "}\n",
              "\n",
              "scope.google = scope.google || {};\n",
              "scope.google.colab = scope.google.colab || {};\n",
              "scope.google.colab._files = {\n",
              "  _uploadFiles,\n",
              "  _uploadFilesContinue,\n",
              "};\n",
              "})(self);\n",
              "</script> "
            ]
          },
          "metadata": {}
        },
        {
          "output_type": "stream",
          "name": "stdout",
          "text": [
            "Saving clusters.xlsx to clusters.xlsx\n"
          ]
        }
      ]
    },
    {
      "cell_type": "code",
      "source": [
        "df = pd.read_excel('clusters.xlsx')\n",
        "df.head()"
      ],
      "metadata": {
        "colab": {
          "base_uri": "https://localhost:8080/",
          "height": 206
        },
        "id": "PNd1W3qKp12_",
        "outputId": "2d6e340f-c00d-4d9c-e602-8b30afd68798"
      },
      "execution_count": null,
      "outputs": [
        {
          "output_type": "execute_result",
          "data": {
            "text/plain": [
              "   Var1  Var2\n",
              "0    25    79\n",
              "1    34    51\n",
              "2    22    53\n",
              "3    27    78\n",
              "4    33    59"
            ],
            "text/html": [
              "\n",
              "  <div id=\"df-b89ae430-1551-457e-b642-7f04600e18ab\">\n",
              "    <div class=\"colab-df-container\">\n",
              "      <div>\n",
              "<style scoped>\n",
              "    .dataframe tbody tr th:only-of-type {\n",
              "        vertical-align: middle;\n",
              "    }\n",
              "\n",
              "    .dataframe tbody tr th {\n",
              "        vertical-align: top;\n",
              "    }\n",
              "\n",
              "    .dataframe thead th {\n",
              "        text-align: right;\n",
              "    }\n",
              "</style>\n",
              "<table border=\"1\" class=\"dataframe\">\n",
              "  <thead>\n",
              "    <tr style=\"text-align: right;\">\n",
              "      <th></th>\n",
              "      <th>Var1</th>\n",
              "      <th>Var2</th>\n",
              "    </tr>\n",
              "  </thead>\n",
              "  <tbody>\n",
              "    <tr>\n",
              "      <th>0</th>\n",
              "      <td>25</td>\n",
              "      <td>79</td>\n",
              "    </tr>\n",
              "    <tr>\n",
              "      <th>1</th>\n",
              "      <td>34</td>\n",
              "      <td>51</td>\n",
              "    </tr>\n",
              "    <tr>\n",
              "      <th>2</th>\n",
              "      <td>22</td>\n",
              "      <td>53</td>\n",
              "    </tr>\n",
              "    <tr>\n",
              "      <th>3</th>\n",
              "      <td>27</td>\n",
              "      <td>78</td>\n",
              "    </tr>\n",
              "    <tr>\n",
              "      <th>4</th>\n",
              "      <td>33</td>\n",
              "      <td>59</td>\n",
              "    </tr>\n",
              "  </tbody>\n",
              "</table>\n",
              "</div>\n",
              "      <button class=\"colab-df-convert\" onclick=\"convertToInteractive('df-b89ae430-1551-457e-b642-7f04600e18ab')\"\n",
              "              title=\"Convert this dataframe to an interactive table.\"\n",
              "              style=\"display:none;\">\n",
              "        \n",
              "  <svg xmlns=\"http://www.w3.org/2000/svg\" height=\"24px\"viewBox=\"0 0 24 24\"\n",
              "       width=\"24px\">\n",
              "    <path d=\"M0 0h24v24H0V0z\" fill=\"none\"/>\n",
              "    <path d=\"M18.56 5.44l.94 2.06.94-2.06 2.06-.94-2.06-.94-.94-2.06-.94 2.06-2.06.94zm-11 1L8.5 8.5l.94-2.06 2.06-.94-2.06-.94L8.5 2.5l-.94 2.06-2.06.94zm10 10l.94 2.06.94-2.06 2.06-.94-2.06-.94-.94-2.06-.94 2.06-2.06.94z\"/><path d=\"M17.41 7.96l-1.37-1.37c-.4-.4-.92-.59-1.43-.59-.52 0-1.04.2-1.43.59L10.3 9.45l-7.72 7.72c-.78.78-.78 2.05 0 2.83L4 21.41c.39.39.9.59 1.41.59.51 0 1.02-.2 1.41-.59l7.78-7.78 2.81-2.81c.8-.78.8-2.07 0-2.86zM5.41 20L4 18.59l7.72-7.72 1.47 1.35L5.41 20z\"/>\n",
              "  </svg>\n",
              "      </button>\n",
              "      \n",
              "  <style>\n",
              "    .colab-df-container {\n",
              "      display:flex;\n",
              "      flex-wrap:wrap;\n",
              "      gap: 12px;\n",
              "    }\n",
              "\n",
              "    .colab-df-convert {\n",
              "      background-color: #E8F0FE;\n",
              "      border: none;\n",
              "      border-radius: 50%;\n",
              "      cursor: pointer;\n",
              "      display: none;\n",
              "      fill: #1967D2;\n",
              "      height: 32px;\n",
              "      padding: 0 0 0 0;\n",
              "      width: 32px;\n",
              "    }\n",
              "\n",
              "    .colab-df-convert:hover {\n",
              "      background-color: #E2EBFA;\n",
              "      box-shadow: 0px 1px 2px rgba(60, 64, 67, 0.3), 0px 1px 3px 1px rgba(60, 64, 67, 0.15);\n",
              "      fill: #174EA6;\n",
              "    }\n",
              "\n",
              "    [theme=dark] .colab-df-convert {\n",
              "      background-color: #3B4455;\n",
              "      fill: #D2E3FC;\n",
              "    }\n",
              "\n",
              "    [theme=dark] .colab-df-convert:hover {\n",
              "      background-color: #434B5C;\n",
              "      box-shadow: 0px 1px 3px 1px rgba(0, 0, 0, 0.15);\n",
              "      filter: drop-shadow(0px 1px 2px rgba(0, 0, 0, 0.3));\n",
              "      fill: #FFFFFF;\n",
              "    }\n",
              "  </style>\n",
              "\n",
              "      <script>\n",
              "        const buttonEl =\n",
              "          document.querySelector('#df-b89ae430-1551-457e-b642-7f04600e18ab button.colab-df-convert');\n",
              "        buttonEl.style.display =\n",
              "          google.colab.kernel.accessAllowed ? 'block' : 'none';\n",
              "\n",
              "        async function convertToInteractive(key) {\n",
              "          const element = document.querySelector('#df-b89ae430-1551-457e-b642-7f04600e18ab');\n",
              "          const dataTable =\n",
              "            await google.colab.kernel.invokeFunction('convertToInteractive',\n",
              "                                                     [key], {});\n",
              "          if (!dataTable) return;\n",
              "\n",
              "          const docLinkHtml = 'Like what you see? Visit the ' +\n",
              "            '<a target=\"_blank\" href=https://colab.research.google.com/notebooks/data_table.ipynb>data table notebook</a>'\n",
              "            + ' to learn more about interactive tables.';\n",
              "          element.innerHTML = '';\n",
              "          dataTable['output_type'] = 'display_data';\n",
              "          await google.colab.output.renderOutput(dataTable, element);\n",
              "          const docLink = document.createElement('div');\n",
              "          docLink.innerHTML = docLinkHtml;\n",
              "          element.appendChild(docLink);\n",
              "        }\n",
              "      </script>\n",
              "    </div>\n",
              "  </div>\n",
              "  "
            ]
          },
          "metadata": {},
          "execution_count": 26
        }
      ]
    },
    {
      "cell_type": "markdown",
      "source": [
        "##### KMeans(n_clusters=3).fit(dataSet)"
      ],
      "metadata": {
        "id": "_G1vwkuspjsy"
      }
    },
    {
      "cell_type": "code",
      "source": [
        "mod3 = KMeans(n_clusters=3).fit(df)"
      ],
      "metadata": {
        "colab": {
          "base_uri": "https://localhost:8080/"
        },
        "id": "IjWFp3UgqI-2",
        "outputId": "4384e6ae-4736-4a12-82a3-b23a5f229493"
      },
      "execution_count": null,
      "outputs": [
        {
          "output_type": "stream",
          "name": "stderr",
          "text": [
            "/usr/local/lib/python3.10/dist-packages/sklearn/cluster/_kmeans.py:870: FutureWarning: The default value of `n_init` will change from 10 to 'auto' in 1.4. Set the value of `n_init` explicitly to suppress the warning\n",
            "  warnings.warn(\n"
          ]
        }
      ]
    },
    {
      "cell_type": "markdown",
      "source": [
        "##### model.cluster_centers_"
      ],
      "metadata": {
        "id": "7dXB3ImPppOL"
      }
    },
    {
      "cell_type": "code",
      "source": [
        "mod3.cluster_centers_\n",
        "# prints centroids from each of the clusters"
      ],
      "metadata": {
        "colab": {
          "base_uri": "https://localhost:8080/"
        },
        "id": "sz1ankqQqoCC",
        "outputId": "95f8e6af-68ae-40e0-d6d4-08b198e39fd9"
      },
      "execution_count": null,
      "outputs": [
        {
          "output_type": "execute_result",
          "data": {
            "text/plain": [
              "array([[43.2, 16.7],\n",
              "       [29.6, 66.8],\n",
              "       [55.1, 46.1]])"
            ]
          },
          "metadata": {},
          "execution_count": 28
        }
      ]
    },
    {
      "cell_type": "markdown",
      "source": [
        "##### mod.labels_"
      ],
      "metadata": {
        "id": "9GG2eYpzpryT"
      }
    },
    {
      "cell_type": "code",
      "source": [
        "mod3.labels_\n",
        "# prints the cluster to which each of the record is associated"
      ],
      "metadata": {
        "colab": {
          "base_uri": "https://localhost:8080/"
        },
        "id": "5dfjKtmaqyLr",
        "outputId": "b1e89b20-1ac4-41af-d803-6e9fcef61e47"
      },
      "execution_count": null,
      "outputs": [
        {
          "output_type": "execute_result",
          "data": {
            "text/plain": [
              "array([1, 1, 1, 1, 1, 1, 1, 1, 1, 1, 2, 2, 2, 2, 2, 2, 2, 2, 2, 2, 0, 0,\n",
              "       0, 0, 0, 0, 0, 0, 0, 0], dtype=int32)"
            ]
          },
          "metadata": {},
          "execution_count": 29
        }
      ]
    },
    {
      "cell_type": "markdown",
      "source": [
        "##### model.predict(2-D List)"
      ],
      "metadata": {
        "id": "7dfrVLylSD5J"
      }
    },
    {
      "cell_type": "code",
      "source": [
        "mod3.predict([[47, 14]])\n",
        "# returns the array index of the cluster to whose centroid,\n",
        "# this point is closest to"
      ],
      "metadata": {
        "colab": {
          "base_uri": "https://localhost:8080/"
        },
        "id": "_jzxJ8L_q7bO",
        "outputId": "0e548461-f509-4e26-8023-96921f959934"
      },
      "execution_count": null,
      "outputs": [
        {
          "output_type": "stream",
          "name": "stderr",
          "text": [
            "/usr/local/lib/python3.10/dist-packages/sklearn/base.py:439: UserWarning: X does not have valid feature names, but KMeans was fitted with feature names\n",
            "  warnings.warn(\n"
          ]
        },
        {
          "output_type": "execute_result",
          "data": {
            "text/plain": [
              "array([0], dtype=int32)"
            ]
          },
          "metadata": {},
          "execution_count": 30
        }
      ]
    },
    {
      "cell_type": "code",
      "source": [
        "from matplotlib import pyplot as plt"
      ],
      "metadata": {
        "id": "W59GcmL3sQwS"
      },
      "execution_count": null,
      "outputs": []
    },
    {
      "cell_type": "code",
      "source": [
        "plt.scatter(df.Var1, df.Var2, c='m') # all the points from dataset\n",
        "plt.scatter(43.2, 16.7, c='g') # centroid1\n",
        "plt.scatter(29.6, 66.8, c='b') # centroid2\n",
        "plt.scatter(55.1, 46.1, c='r') # centroid2"
      ],
      "metadata": {
        "colab": {
          "base_uri": "https://localhost:8080/",
          "height": 447
        },
        "id": "4Y_w2rMls0go",
        "outputId": "1113b248-d574-449f-be36-6e370bb39aba"
      },
      "execution_count": null,
      "outputs": [
        {
          "output_type": "execute_result",
          "data": {
            "text/plain": [
              "<matplotlib.collections.PathCollection at 0x7f6b44965960>"
            ]
          },
          "metadata": {},
          "execution_count": 33
        },
        {
          "output_type": "display_data",
          "data": {
            "text/plain": [
              "<Figure size 640x480 with 1 Axes>"
            ],
            "image/png": "[encoded data removed]"
          },
          "metadata": {}
        }
      ]
    },
    {
      "cell_type": "markdown",
      "source": [
        "#### Deciding on number of clusters\n",
        "- maximum possible number of cluster is total number of records in dataset, so that each record/point is a unique cluster\n",
        "- if number of clusters increase, the variation within the cluster will decrease"
      ],
      "metadata": {
        "id": "KZT20gTb0yn1"
      }
    },
    {
      "cell_type": "code",
      "source": [
        "mod4 = KMeans(n_clusters=4).fit(df)"
      ],
      "metadata": {
        "colab": {
          "base_uri": "https://localhost:8080/"
        },
        "id": "1jjaedm0s7Ay",
        "outputId": "01ba073d-711d-4357-8deb-09f7a0b772f4"
      },
      "execution_count": null,
      "outputs": [
        {
          "output_type": "stream",
          "name": "stderr",
          "text": [
            "/usr/local/lib/python3.10/dist-packages/sklearn/cluster/_kmeans.py:870: FutureWarning: The default value of `n_init` will change from 10 to 'auto' in 1.4. Set the value of `n_init` explicitly to suppress the warning\n",
            "  warnings.warn(\n"
          ]
        }
      ]
    },
    {
      "cell_type": "code",
      "source": [
        "mod6 = KMeans(n_clusters=6).fit(df)"
      ],
      "metadata": {
        "colab": {
          "base_uri": "https://localhost:8080/"
        },
        "id": "aXVmxabK3F8M",
        "outputId": "6944d6f9-f55a-4968-ecd1-0b95c4b1ccab"
      },
      "execution_count": null,
      "outputs": [
        {
          "output_type": "stream",
          "name": "stderr",
          "text": [
            "/usr/local/lib/python3.10/dist-packages/sklearn/cluster/_kmeans.py:870: FutureWarning: The default value of `n_init` will change from 10 to 'auto' in 1.4. Set the value of `n_init` explicitly to suppress the warning\n",
            "  warnings.warn(\n"
          ]
        }
      ]
    },
    {
      "cell_type": "code",
      "source": [
        "mod8 = KMeans(n_clusters=8).fit(df)"
      ],
      "metadata": {
        "colab": {
          "base_uri": "https://localhost:8080/"
        },
        "id": "wXLHVaog3IuY",
        "outputId": "bdb908f5-8cd0-4115-f6c9-43ad48212106"
      },
      "execution_count": null,
      "outputs": [
        {
          "output_type": "stream",
          "name": "stderr",
          "text": [
            "/usr/local/lib/python3.10/dist-packages/sklearn/cluster/_kmeans.py:870: FutureWarning: The default value of `n_init` will change from 10 to 'auto' in 1.4. Set the value of `n_init` explicitly to suppress the warning\n",
            "  warnings.warn(\n"
          ]
        }
      ]
    },
    {
      "cell_type": "code",
      "source": [
        "mod8.cluster_centers_"
      ],
      "metadata": {
        "colab": {
          "base_uri": "https://localhost:8080/"
        },
        "id": "ygWSwY253MJA",
        "outputId": "8e083777-ad90-4908-d3ec-eeb9528f62f9"
      },
      "execution_count": null,
      "outputs": [
        {
          "output_type": "execute_result",
          "data": {
            "text/plain": [
              "array([[27.75      , 55.        ],\n",
              "       [47.33333333,  6.66666667],\n",
              "       [56.75      , 35.75      ],\n",
              "       [30.83333333, 74.66666667],\n",
              "       [34.        , 13.        ],\n",
              "       [48.        , 52.        ],\n",
              "       [66.        , 55.        ],\n",
              "       [44.4       , 24.2       ]])"
            ]
          },
          "metadata": {},
          "execution_count": 37
        }
      ]
    },
    {
      "cell_type": "markdown",
      "source": [
        "#### model.inertia_\n",
        "- prints distance / gain / delta of points from their respective centroid, means how well a dataset was clustered by K-Means\n",
        "- inertia / gain / delta should be lower value\n",
        "- number of clusters should be low\n",
        "- gain / delta comes down as you increase the number of cluster"
      ],
      "metadata": {
        "id": "_zEf-YvI4TVQ"
      }
    },
    {
      "cell_type": "code",
      "source": [
        "mod3.inertia_"
      ],
      "metadata": {
        "colab": {
          "base_uri": "https://localhost:8080/"
        },
        "id": "AxpEbx7P3P6F",
        "outputId": "32e3ea20-875f-4246-fdde-2723cdbb7f2f"
      },
      "execution_count": null,
      "outputs": [
        {
          "output_type": "execute_result",
          "data": {
            "text/plain": [
              "3649.5"
            ]
          },
          "metadata": {},
          "execution_count": 39
        }
      ]
    },
    {
      "cell_type": "code",
      "source": [
        "mod6.inertia_"
      ],
      "metadata": {
        "colab": {
          "base_uri": "https://localhost:8080/"
        },
        "id": "PG6LV9Sw3fI5",
        "outputId": "fa65c87c-dabf-4ccc-c92b-1e12319e8e33"
      },
      "execution_count": null,
      "outputs": [
        {
          "output_type": "execute_result",
          "data": {
            "text/plain": [
              "1389.2166666666667"
            ]
          },
          "metadata": {},
          "execution_count": 40
        }
      ]
    },
    {
      "cell_type": "code",
      "source": [
        "mod8.inertia_"
      ],
      "metadata": {
        "colab": {
          "base_uri": "https://localhost:8080/"
        },
        "id": "dhst_c3I3l7s",
        "outputId": "941570dd-fd9f-4dc0-871d-1136954a4a09"
      },
      "execution_count": null,
      "outputs": [
        {
          "output_type": "execute_result",
          "data": {
            "text/plain": [
              "683.75"
            ]
          },
          "metadata": {},
          "execution_count": 41
        }
      ]
    },
    {
      "cell_type": "code",
      "source": [
        "mod10 = KMeans(n_clusters=10).fit(df)"
      ],
      "metadata": {
        "colab": {
          "base_uri": "https://localhost:8080/"
        },
        "id": "CBXKWwNe3m6w",
        "outputId": "75a450a5-42ce-4a3c-a316-9a399701920e"
      },
      "execution_count": null,
      "outputs": [
        {
          "output_type": "stream",
          "name": "stderr",
          "text": [
            "/usr/local/lib/python3.10/dist-packages/sklearn/cluster/_kmeans.py:870: FutureWarning: The default value of `n_init` will change from 10 to 'auto' in 1.4. Set the value of `n_init` explicitly to suppress the warning\n",
            "  warnings.warn(\n"
          ]
        }
      ]
    },
    {
      "cell_type": "code",
      "source": [
        "mod10.inertia_"
      ],
      "metadata": {
        "colab": {
          "base_uri": "https://localhost:8080/"
        },
        "id": "fjS8rPd93xlx",
        "outputId": "48281e1a-89df-401c-9fa6-836e75b7ce6f"
      },
      "execution_count": null,
      "outputs": [
        {
          "output_type": "execute_result",
          "data": {
            "text/plain": [
              "437.3333333333333"
            ]
          },
          "metadata": {},
          "execution_count": 43
        }
      ]
    },
    {
      "cell_type": "markdown",
      "source": [
        "### Hierarchical clustering\n",
        "- output resembles or\n",
        "- output might be dendrogram (tree-structure),\n",
        "- finds out which items have similar attributes and creates clusters\n",
        "- clusters at lowest level will have least differences, and as you go higher in level/altitude of levels, differences will increase\n",
        "- top/highest level cluster will have all the items / items with maximum possible diffferences"
      ],
      "metadata": {
        "id": "5e2XvT805J4Q"
      }
    },
    {
      "cell_type": "markdown",
      "source": [
        "##### import scipy.cluster.hierarchy"
      ],
      "metadata": {
        "id": "wV5p_HlCScmz"
      }
    },
    {
      "cell_type": "code",
      "source": [
        "import scipy\n",
        "import scipy.cluster.hierarchy as sch"
      ],
      "metadata": {
        "id": "--RciuIl30Gp"
      },
      "execution_count": null,
      "outputs": []
    },
    {
      "cell_type": "code",
      "source": [
        "from google.colab import files\n",
        "uploaded=files.upload()\n",
        "# CDAC_DataBook.xlsx\n",
        "# to be used with google colab\n",
        "\n",
        "# import os\n",
        "# os.chdir(r'C:\\Users\\surya\\Downloads\\PG-DBDA-Mar23\\Datasets')\n",
        "# os.getcwd()\n",
        "# to change current working directory to specified path\n",
        "# to be used while running on local system"
      ],
      "metadata": {
        "id": "Zu9OKF098SHY"
      },
      "execution_count": null,
      "outputs": []
    },
    {
      "cell_type": "code",
      "source": [
        "df = pd.read_excel('CDAC_DataBook.xlsx', sheet_name='mtcars')\n",
        "df.head()"
      ],
      "metadata": {
        "colab": {
          "base_uri": "https://localhost:8080/",
          "height": 206
        },
        "id": "utgLTIx08MnM",
        "outputId": "a4f62df8-1441-43d8-ff13-747c19b93903"
      },
      "execution_count": null,
      "outputs": [
        {
          "output_type": "execute_result",
          "data": {
            "text/plain": [
              "    mpg  cyl   disp   hp  drat     wt   qsec  vs  am  gear  carb\n",
              "0  21.0    6  160.0  110  3.90  2.620  16.46   0   1     4     4\n",
              "1  21.0    6  160.0  110  3.90  2.875  17.02   0   1     4     4\n",
              "2  22.8    4  108.0   93  3.85  2.320  18.61   1   1     4     1\n",
              "3  21.4    6  258.0  110  3.08  3.215  19.44   1   0     3     1\n",
              "4  18.7    8  360.0  175  3.15  3.440  17.02   0   0     3     2"
            ],
            "text/html": [
              "\n",
              "  <div id=\"df-4108dc89-0ed5-40ac-a7d1-fbabd989cafa\">\n",
              "    <div class=\"colab-df-container\">\n",
              "      <div>\n",
              "<style scoped>\n",
              "    .dataframe tbody tr th:only-of-type {\n",
              "        vertical-align: middle;\n",
              "    }\n",
              "\n",
              "    .dataframe tbody tr th {\n",
              "        vertical-align: top;\n",
              "    }\n",
              "\n",
              "    .dataframe thead th {\n",
              "        text-align: right;\n",
              "    }\n",
              "</style>\n",
              "<table border=\"1\" class=\"dataframe\">\n",
              "  <thead>\n",
              "    <tr style=\"text-align: right;\">\n",
              "      <th></th>\n",
              "      <th>mpg</th>\n",
              "      <th>cyl</th>\n",
              "      <th>disp</th>\n",
              "      <th>hp</th>\n",
              "      <th>drat</th>\n",
              "      <th>wt</th>\n",
              "      <th>qsec</th>\n",
              "      <th>vs</th>\n",
              "      <th>am</th>\n",
              "      <th>gear</th>\n",
              "      <th>carb</th>\n",
              "    </tr>\n",
              "  </thead>\n",
              "  <tbody>\n",
              "    <tr>\n",
              "      <th>0</th>\n",
              "      <td>21.0</td>\n",
              "      <td>6</td>\n",
              "      <td>160.0</td>\n",
              "      <td>110</td>\n",
              "      <td>3.90</td>\n",
              "      <td>2.620</td>\n",
              "      <td>16.46</td>\n",
              "      <td>0</td>\n",
              "      <td>1</td>\n",
              "      <td>4</td>\n",
              "      <td>4</td>\n",
              "    </tr>\n",
              "    <tr>\n",
              "      <th>1</th>\n",
              "      <td>21.0</td>\n",
              "      <td>6</td>\n",
              "      <td>160.0</td>\n",
              "      <td>110</td>\n",
              "      <td>3.90</td>\n",
              "      <td>2.875</td>\n",
              "      <td>17.02</td>\n",
              "      <td>0</td>\n",
              "      <td>1</td>\n",
              "      <td>4</td>\n",
              "      <td>4</td>\n",
              "    </tr>\n",
              "    <tr>\n",
              "      <th>2</th>\n",
              "      <td>22.8</td>\n",
              "      <td>4</td>\n",
              "      <td>108.0</td>\n",
              "      <td>93</td>\n",
              "      <td>3.85</td>\n",
              "      <td>2.320</td>\n",
              "      <td>18.61</td>\n",
              "      <td>1</td>\n",
              "      <td>1</td>\n",
              "      <td>4</td>\n",
              "      <td>1</td>\n",
              "    </tr>\n",
              "    <tr>\n",
              "      <th>3</th>\n",
              "      <td>21.4</td>\n",
              "      <td>6</td>\n",
              "      <td>258.0</td>\n",
              "      <td>110</td>\n",
              "      <td>3.08</td>\n",
              "      <td>3.215</td>\n",
              "      <td>19.44</td>\n",
              "      <td>1</td>\n",
              "      <td>0</td>\n",
              "      <td>3</td>\n",
              "      <td>1</td>\n",
              "    </tr>\n",
              "    <tr>\n",
              "      <th>4</th>\n",
              "      <td>18.7</td>\n",
              "      <td>8</td>\n",
              "      <td>360.0</td>\n",
              "      <td>175</td>\n",
              "      <td>3.15</td>\n",
              "      <td>3.440</td>\n",
              "      <td>17.02</td>\n",
              "      <td>0</td>\n",
              "      <td>0</td>\n",
              "      <td>3</td>\n",
              "      <td>2</td>\n",
              "    </tr>\n",
              "  </tbody>\n",
              "</table>\n",
              "</div>\n",
              "      <button class=\"colab-df-convert\" onclick=\"convertToInteractive('df-4108dc89-0ed5-40ac-a7d1-fbabd989cafa')\"\n",
              "              title=\"Convert this dataframe to an interactive table.\"\n",
              "              style=\"display:none;\">\n",
              "        \n",
              "  <svg xmlns=\"http://www.w3.org/2000/svg\" height=\"24px\"viewBox=\"0 0 24 24\"\n",
              "       width=\"24px\">\n",
              "    <path d=\"M0 0h24v24H0V0z\" fill=\"none\"/>\n",
              "    <path d=\"M18.56 5.44l.94 2.06.94-2.06 2.06-.94-2.06-.94-.94-2.06-.94 2.06-2.06.94zm-11 1L8.5 8.5l.94-2.06 2.06-.94-2.06-.94L8.5 2.5l-.94 2.06-2.06.94zm10 10l.94 2.06.94-2.06 2.06-.94-2.06-.94-.94-2.06-.94 2.06-2.06.94z\"/><path d=\"M17.41 7.96l-1.37-1.37c-.4-.4-.92-.59-1.43-.59-.52 0-1.04.2-1.43.59L10.3 9.45l-7.72 7.72c-.78.78-.78 2.05 0 2.83L4 21.41c.39.39.9.59 1.41.59.51 0 1.02-.2 1.41-.59l7.78-7.78 2.81-2.81c.8-.78.8-2.07 0-2.86zM5.41 20L4 18.59l7.72-7.72 1.47 1.35L5.41 20z\"/>\n",
              "  </svg>\n",
              "      </button>\n",
              "      \n",
              "  <style>\n",
              "    .colab-df-container {\n",
              "      display:flex;\n",
              "      flex-wrap:wrap;\n",
              "      gap: 12px;\n",
              "    }\n",
              "\n",
              "    .colab-df-convert {\n",
              "      background-color: #E8F0FE;\n",
              "      border: none;\n",
              "      border-radius: 50%;\n",
              "      cursor: pointer;\n",
              "      display: none;\n",
              "      fill: #1967D2;\n",
              "      height: 32px;\n",
              "      padding: 0 0 0 0;\n",
              "      width: 32px;\n",
              "    }\n",
              "\n",
              "    .colab-df-convert:hover {\n",
              "      background-color: #E2EBFA;\n",
              "      box-shadow: 0px 1px 2px rgba(60, 64, 67, 0.3), 0px 1px 3px 1px rgba(60, 64, 67, 0.15);\n",
              "      fill: #174EA6;\n",
              "    }\n",
              "\n",
              "    [theme=dark] .colab-df-convert {\n",
              "      background-color: #3B4455;\n",
              "      fill: #D2E3FC;\n",
              "    }\n",
              "\n",
              "    [theme=dark] .colab-df-convert:hover {\n",
              "      background-color: #434B5C;\n",
              "      box-shadow: 0px 1px 3px 1px rgba(0, 0, 0, 0.15);\n",
              "      filter: drop-shadow(0px 1px 2px rgba(0, 0, 0, 0.3));\n",
              "      fill: #FFFFFF;\n",
              "    }\n",
              "  </style>\n",
              "\n",
              "      <script>\n",
              "        const buttonEl =\n",
              "          document.querySelector('#df-4108dc89-0ed5-40ac-a7d1-fbabd989cafa button.colab-df-convert');\n",
              "        buttonEl.style.display =\n",
              "          google.colab.kernel.accessAllowed ? 'block' : 'none';\n",
              "\n",
              "        async function convertToInteractive(key) {\n",
              "          const element = document.querySelector('#df-4108dc89-0ed5-40ac-a7d1-fbabd989cafa');\n",
              "          const dataTable =\n",
              "            await google.colab.kernel.invokeFunction('convertToInteractive',\n",
              "                                                     [key], {});\n",
              "          if (!dataTable) return;\n",
              "\n",
              "          const docLinkHtml = 'Like what you see? Visit the ' +\n",
              "            '<a target=\"_blank\" href=https://colab.research.google.com/notebooks/data_table.ipynb>data table notebook</a>'\n",
              "            + ' to learn more about interactive tables.';\n",
              "          element.innerHTML = '';\n",
              "          dataTable['output_type'] = 'display_data';\n",
              "          await google.colab.output.renderOutput(dataTable, element);\n",
              "          const docLink = document.createElement('div');\n",
              "          docLink.innerHTML = docLinkHtml;\n",
              "          element.appendChild(docLink);\n",
              "        }\n",
              "      </script>\n",
              "    </div>\n",
              "  </div>\n",
              "  "
            ]
          },
          "metadata": {},
          "execution_count": 45
        }
      ]
    },
    {
      "cell_type": "markdown",
      "source": [
        "##### sch.dendrogram(sch.linkage(df))"
      ],
      "metadata": {
        "id": "tid7dO-nSfMj"
      }
    },
    {
      "cell_type": "code",
      "source": [
        "sch.dendrogram(sch.linkage(df))"
      ],
      "metadata": {
        "colab": {
          "base_uri": "https://localhost:8080/",
          "height": 1000
        },
        "id": "SA3xSUAE8cC6",
        "outputId": "ac34b3f4-77b4-4a0b-a055-50494c40611f"
      },
      "execution_count": null,
      "outputs": [
        {
          "output_type": "execute_result",
          "data": {
            "text/plain": [
              "{'icoord': [[25.0, 25.0, 35.0, 35.0],\n",
              "  [15.0, 15.0, 30.0, 30.0],\n",
              "  [55.0, 55.0, 65.0, 65.0],\n",
              "  [45.0, 45.0, 60.0, 60.0],\n",
              "  [75.0, 75.0, 85.0, 85.0],\n",
              "  [105.0, 105.0, 115.0, 115.0],\n",
              "  [95.0, 95.0, 110.0, 110.0],\n",
              "  [125.0, 125.0, 135.0, 135.0],\n",
              "  [102.5, 102.5, 130.0, 130.0],\n",
              "  [80.0, 80.0, 116.25, 116.25],\n",
              "  [145.0, 145.0, 155.0, 155.0],\n",
              "  [195.0, 195.0, 205.0, 205.0],\n",
              "  [185.0, 185.0, 200.0, 200.0],\n",
              "  [175.0, 175.0, 192.5, 192.5],\n",
              "  [225.0, 225.0, 235.0, 235.0],\n",
              "  [245.0, 245.0, 255.0, 255.0],\n",
              "  [230.0, 230.0, 250.0, 250.0],\n",
              "  [305.0, 305.0, 315.0, 315.0],\n",
              "  [295.0, 295.0, 310.0, 310.0],\n",
              "  [285.0, 285.0, 302.5, 302.5],\n",
              "  [275.0, 275.0, 293.75, 293.75],\n",
              "  [265.0, 265.0, 284.375, 284.375],\n",
              "  [240.0, 240.0, 274.6875, 274.6875],\n",
              "  [215.0, 215.0, 257.34375, 257.34375],\n",
              "  [183.75, 183.75, 236.171875, 236.171875],\n",
              "  [165.0, 165.0, 209.9609375, 209.9609375],\n",
              "  [150.0, 150.0, 187.48046875, 187.48046875],\n",
              "  [98.125, 98.125, 168.740234375, 168.740234375],\n",
              "  [52.5, 52.5, 133.4326171875, 133.4326171875],\n",
              "  [22.5, 22.5, 92.96630859375, 92.96630859375],\n",
              "  [5.0, 5.0, 57.733154296875, 57.733154296875]],\n",
              " 'dcoord': [[0.0, 10.07612028510974, 10.07612028510974, 0.0],\n",
              "  [0.0, 19.35890234491615, 19.35890234491615, 10.07612028510974],\n",
              "  [0.0, 15.622444623041554, 15.622444623041554, 0.0],\n",
              "  [0.0, 25.37142370857418, 25.37142370857418, 15.622444623041554],\n",
              "  [0.0, 40.00524746830096, 40.00524746830096, 0.0],\n",
              "  [0.0, 0.9826494797230624, 0.9826494797230624, 0.0],\n",
              "  [0.0, 1.3726252219743014, 1.3726252219743014, 0.9826494797230624],\n",
              "  [0.0, 14.015499455959462, 14.015499455959462, 0.0],\n",
              "  [1.3726252219743014,\n",
              "   41.19290503229894,\n",
              "   41.19290503229894,\n",
              "   14.015499455959462],\n",
              "  [40.00524746830096, 48.98388510520577, 48.98388510520577, 41.19290503229894],\n",
              "  [0.0, 33.55086921377745, 33.55086921377745, 0.0],\n",
              "  [0.0, 5.147341546856977, 5.147341546856977, 0.0],\n",
              "  [0.0, 7.832478854104882, 7.832478854104882, 5.147341546856977],\n",
              "  [0.0, 14.348062586983655, 14.348062586983655, 7.832478854104882],\n",
              "  [0.0, 0.6153251173160401, 0.6153251173160401, 0.0],\n",
              "  [0.0, 1.5231546211727793, 1.5231546211727793, 0.0],\n",
              "  [0.6153251173160401,\n",
              "   15.29568648345016,\n",
              "   15.29568648345016,\n",
              "   1.5231546211727793],\n",
              "  [0.0, 8.65359029536296, 8.65359029536296, 0.0],\n",
              "  [0.0, 12.250527539661304, 12.250527539661304, 8.65359029536296],\n",
              "  [0.0, 12.965474345352733, 12.965474345352733, 12.250527539661304],\n",
              "  [0.0, 21.096201672339046, 21.096201672339046, 12.965474345352733],\n",
              "  [0.0, 25.094855030463915, 25.094855030463915, 21.096201672339046],\n",
              "  [15.29568648345016,\n",
              "   25.328450900124146,\n",
              "   25.328450900124146,\n",
              "   25.094855030463915],\n",
              "  [0.0, 33.68730473041736, 33.68730473041736, 25.328450900124146],\n",
              "  [14.348062586983655,\n",
              "   39.88151482830109,\n",
              "   39.88151482830109,\n",
              "   33.68730473041736],\n",
              "  [0.0, 56.83651027288709, 56.83651027288709, 39.88151482830109],\n",
              "  [33.55086921377745,\n",
              "   60.265565624160544,\n",
              "   60.265565624160544,\n",
              "   56.83651027288709],\n",
              "  [48.98388510520577,\n",
              "   61.36018986280926,\n",
              "   61.36018986280926,\n",
              "   60.265565624160544],\n",
              "  [25.37142370857418, 68.20307471074894, 68.20307471074894, 61.36018986280926],\n",
              "  [19.35890234491615, 70.17672619893293, 70.17672619893293, 68.20307471074894],\n",
              "  [0.0, 86.93832526567326, 86.93832526567326, 70.17672619893293]],\n",
              " 'ivl': ['30',\n",
              "  '28',\n",
              "  '6',\n",
              "  '23',\n",
              "  '16',\n",
              "  '14',\n",
              "  '15',\n",
              "  '4',\n",
              "  '24',\n",
              "  '13',\n",
              "  '11',\n",
              "  '12',\n",
              "  '21',\n",
              "  '22',\n",
              "  '3',\n",
              "  '5',\n",
              "  '29',\n",
              "  '18',\n",
              "  '19',\n",
              "  '17',\n",
              "  '25',\n",
              "  '7',\n",
              "  '0',\n",
              "  '1',\n",
              "  '9',\n",
              "  '10',\n",
              "  '27',\n",
              "  '8',\n",
              "  '2',\n",
              "  '31',\n",
              "  '20',\n",
              "  '26'],\n",
              " 'leaves': [30,\n",
              "  28,\n",
              "  6,\n",
              "  23,\n",
              "  16,\n",
              "  14,\n",
              "  15,\n",
              "  4,\n",
              "  24,\n",
              "  13,\n",
              "  11,\n",
              "  12,\n",
              "  21,\n",
              "  22,\n",
              "  3,\n",
              "  5,\n",
              "  29,\n",
              "  18,\n",
              "  19,\n",
              "  17,\n",
              "  25,\n",
              "  7,\n",
              "  0,\n",
              "  1,\n",
              "  9,\n",
              "  10,\n",
              "  27,\n",
              "  8,\n",
              "  2,\n",
              "  31,\n",
              "  20,\n",
              "  26],\n",
              " 'color_list': ['C1',\n",
              "  'C1',\n",
              "  'C2',\n",
              "  'C2',\n",
              "  'C3',\n",
              "  'C3',\n",
              "  'C3',\n",
              "  'C3',\n",
              "  'C3',\n",
              "  'C3',\n",
              "  'C4',\n",
              "  'C4',\n",
              "  'C4',\n",
              "  'C4',\n",
              "  'C4',\n",
              "  'C4',\n",
              "  'C4',\n",
              "  'C4',\n",
              "  'C4',\n",
              "  'C4',\n",
              "  'C4',\n",
              "  'C4',\n",
              "  'C4',\n",
              "  'C4',\n",
              "  'C4',\n",
              "  'C4',\n",
              "  'C4',\n",
              "  'C0',\n",
              "  'C0',\n",
              "  'C0',\n",
              "  'C0'],\n",
              " 'leaves_color_list': ['C0',\n",
              "  'C1',\n",
              "  'C1',\n",
              "  'C1',\n",
              "  'C2',\n",
              "  'C2',\n",
              "  'C2',\n",
              "  'C3',\n",
              "  'C3',\n",
              "  'C3',\n",
              "  'C3',\n",
              "  'C3',\n",
              "  'C3',\n",
              "  'C3',\n",
              "  'C4',\n",
              "  'C4',\n",
              "  'C4',\n",
              "  'C4',\n",
              "  'C4',\n",
              "  'C4',\n",
              "  'C4',\n",
              "  'C4',\n",
              "  'C4',\n",
              "  'C4',\n",
              "  'C4',\n",
              "  'C4',\n",
              "  'C4',\n",
              "  'C4',\n",
              "  'C4',\n",
              "  'C4',\n",
              "  'C4',\n",
              "  'C4']}"
            ]
          },
          "metadata": {},
          "execution_count": 46
        },
        {
          "output_type": "display_data",
          "data": {
            "text/plain": [
              "<Figure size 640x480 with 1 Axes>"
            ],
            "image/png": "[encoded data removed]"
          },
          "metadata": {}
        }
      ]
    },
    {
      "cell_type": "code",
      "source": [
        "df.iloc[9]"
      ],
      "metadata": {
        "colab": {
          "base_uri": "https://localhost:8080/"
        },
        "id": "BYgBYEP38im0",
        "outputId": "e4336078-1458-4af3-d1f5-cfcb4fc62d05"
      },
      "execution_count": null,
      "outputs": [
        {
          "output_type": "execute_result",
          "data": {
            "text/plain": [
              "mpg      19.20\n",
              "cyl       6.00\n",
              "disp    167.60\n",
              "hp      123.00\n",
              "drat      3.92\n",
              "wt        3.44\n",
              "qsec     18.30\n",
              "vs        1.00\n",
              "am        0.00\n",
              "gear      4.00\n",
              "carb      4.00\n",
              "Name: 9, dtype: float64"
            ]
          },
          "metadata": {},
          "execution_count": 49
        }
      ]
    },
    {
      "cell_type": "markdown",
      "source": [
        "# Time-Series Modelling\n",
        "- special form of regression\n",
        "- only one predictor\n",
        "- response only depends on time\n",
        "- variations over time can be analysed\n",
        "- sequencing of data is extremely important in Time Series\n",
        "    - order of records is not important in supervised or unsupervised modelling, but in time series modelling, ordering of records matter\n",
        "    - sequencing of the records is extremely important, so data should be strictly as per time, otherwise results will change\n",
        "\n",
        "\n",
        "\n",
        "\n",
        "- → Trend: slow variation over a longer period of time\n",
        "    - e.g. sales of innova increased from its launch in 2005, and sales of qualis decreased from 2005\n",
        "- → Seasonal variation: varaiation over smaller period of time\n",
        "    - e.g. variation in car sales over different seasons\n",
        "- → cyclical variation: when events occur after a fixed time period of years/centuries\n",
        "    - e.g. 1919 spanish flu, 2019 COVID-19\n",
        "- → irregular variations: random variations\n"
      ],
      "metadata": {
        "id": "rQ1ibtZ3_OcM"
      }
    },
    {
      "cell_type": "markdown",
      "source": [
        "### preparing data for Time Series Modelling\n",
        "- earlier we could remove null/duplicate records for supervised/unsupervised models, but if we remove such records, it'll impact the results, so we cannot remove such records\n",
        "1. missing values need to be filled with some data\n",
        "    - better to take data from previous year than copying data from last month\n",
        "2. outliers need to be checked carefully, as outliers might contain some useful data\n",
        "    -"
      ],
      "metadata": {
        "id": "7c9k7KeKJ9L4"
      }
    },
    {
      "cell_type": "markdown",
      "source": [
        "- Error of the forecast = actual Value - Forecast Value"
      ],
      "metadata": {
        "id": "o0fOvtOEKMFD"
      }
    },
    {
      "cell_type": "markdown",
      "source": [
        "##### Types of errors\n",
        "- MAD - Mean Absolute Deviation\n",
        "- MSQ - Mean Square Error\n",
        "- MAPE - Mean Absolute Percentage Error\n",
        "- RMSE - Root Mean Square Error"
      ],
      "metadata": {
        "id": "7X5kjKhDMysZ"
      }
    },
    {
      "cell_type": "code",
      "source": [],
      "metadata": {
        "id": "Yh0NqN0q-GS0"
      },
      "execution_count": null,
      "outputs": []
    }
  ]
}