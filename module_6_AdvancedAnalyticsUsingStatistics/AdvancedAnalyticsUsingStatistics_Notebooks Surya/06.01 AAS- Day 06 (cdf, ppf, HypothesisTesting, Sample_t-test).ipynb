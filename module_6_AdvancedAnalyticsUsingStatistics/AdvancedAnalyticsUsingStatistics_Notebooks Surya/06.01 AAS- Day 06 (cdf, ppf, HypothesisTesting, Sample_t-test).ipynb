{
  "nbformat": 4,
  "nbformat_minor": 0,
  "metadata": {
    "colab": {
      "provenance": [],
      "toc_visible": true
    },
    "kernelspec": {
      "name": "python3",
      "display_name": "Python 3"
    },
    "language_info": {
      "name": "python"
    }
  },
  "cells": [
    {
      "cell_type": "markdown",
      "source": [
        "### cdf and ppf\n",
        "- cdf: Cumulative Distribution Function\n",
        "- ppf: Percent Point Function\n",
        "- cdf & ppf are inverse of each other"
      ],
      "metadata": {
        "id": "utAstRaNcg8P"
      }
    },
    {
      "cell_type": "markdown",
      "source": [
        "#### scipy.stats.norm"
      ],
      "metadata": {
        "id": "w7AMa1pEUUPf"
      }
    },
    {
      "cell_type": "code",
      "execution_count": null,
      "metadata": {
        "id": "vR0yh_qIcSzY"
      },
      "outputs": [],
      "source": [
        "import scipy\n",
        "from scipy import stats\n",
        "from scipy.stats import norm\n",
        "from scipy.stats import t"
      ]
    },
    {
      "cell_type": "markdown",
      "source": [
        "#### norm.cdf(Z)\n",
        "- cdf: Cumulative Distribution Function\n",
        "- takes Z-Statistics, value on x-axis\n",
        "- returns area under the curve towards the left side of the mean\n",
        "- returned area under the curve represents probability / P-Value\n",
        "- total area under all the curve or total probability = 1\n"
      ],
      "metadata": {
        "id": "QIRLYV4XUxSs"
      }
    },
    {
      "cell_type": "code",
      "source": [
        "norm.cdf(-1)\n",
        "# cdf takes values from the x-axis, which can be +ve/-ve\n",
        "# cdf returns area under the curve to the left side of the value on x-axis"
      ],
      "metadata": {
        "colab": {
          "base_uri": "https://localhost:8080/"
        },
        "id": "w72gPKo8criP",
        "outputId": "4732c425-220f-4eaa-ac77-1ab235b9918c"
      },
      "execution_count": null,
      "outputs": [
        {
          "output_type": "execute_result",
          "data": {
            "text/plain": [
              "0.15865525393145707"
            ]
          },
          "metadata": {},
          "execution_count": 4
        }
      ]
    },
    {
      "cell_type": "markdown",
      "source": [
        "#### norm.ppf(area/prob)\n",
        "- ppf: Percent Point Function\n",
        "- takes area under the curve or the probability\n",
        "- area under the curve as argument can't be -ve\n",
        "- returns Z-Statistics or Z-Score on X-axis on left side of the mean"
      ],
      "metadata": {
        "id": "qxTAsr9NVfdc"
      }
    },
    {
      "cell_type": "code",
      "source": [
        "norm.ppf(0.15865525393145707)\n",
        "# ppf: Percent Point Function\n",
        "# Inverse of CDF: Cumulative distribution function"
      ],
      "metadata": {
        "colab": {
          "base_uri": "https://localhost:8080/"
        },
        "id": "SLIfRBadctr2",
        "outputId": "391a7e0f-1ce4-40c1-b4de-781db7fbe20d"
      },
      "execution_count": null,
      "outputs": [
        {
          "output_type": "execute_result",
          "data": {
            "text/plain": [
              "-1.0"
            ]
          },
          "metadata": {},
          "execution_count": 5
        }
      ]
    },
    {
      "cell_type": "code",
      "source": [
        "norm.ppf(0.025)\n",
        "# takes 0.025 or 2.5%  of area unde rthe curve on the left side of the mean\n",
        "# returns Z-Statistics on X-axis"
      ],
      "metadata": {
        "colab": {
          "base_uri": "https://localhost:8080/"
        },
        "id": "PnNupo1adVB6",
        "outputId": "7228aa18-5fad-4264-9ae7-8139b0ad0d46"
      },
      "execution_count": null,
      "outputs": [
        {
          "output_type": "execute_result",
          "data": {
            "text/plain": [
              "-1.9599639845400545"
            ]
          },
          "metadata": {},
          "execution_count": 9
        }
      ]
    },
    {
      "cell_type": "code",
      "source": [
        "norm.ppf(0.975)\n",
        "# takes 0.025 or 2.5%  of area unde rthe curve on the left side of the mean\n",
        "# returns Z-Statistics on X-axis"
      ],
      "metadata": {
        "colab": {
          "base_uri": "https://localhost:8080/"
        },
        "id": "s-W3XY6Pd8sC",
        "outputId": "d143ed3f-fd4c-4a63-c924-a792935b9edd"
      },
      "execution_count": null,
      "outputs": [
        {
          "output_type": "execute_result",
          "data": {
            "text/plain": [
              "1.959963984540054"
            ]
          },
          "metadata": {},
          "execution_count": 10
        }
      ]
    },
    {
      "cell_type": "code",
      "source": [
        "norm.ppf(0.5)\n",
        "# takes 0.5 or 50% area under the curve on the left side of the curve\n",
        "# total area under the curve or total probability = 1\n",
        "# so Z-Statistics = 0"
      ],
      "metadata": {
        "colab": {
          "base_uri": "https://localhost:8080/"
        },
        "id": "sgJ2zSk_eKpH",
        "outputId": "11c5ff52-bf7c-4b1e-ae63-deb9812ed8d7"
      },
      "execution_count": null,
      "outputs": [
        {
          "output_type": "execute_result",
          "data": {
            "text/plain": [
              "0.0"
            ]
          },
          "metadata": {},
          "execution_count": 11
        }
      ]
    },
    {
      "cell_type": "markdown",
      "source": [
        "-- --"
      ],
      "metadata": {
        "id": "vv8radsI1fHW"
      }
    },
    {
      "cell_type": "markdown",
      "source": [
        "# Hypothesis Testing\n",
        "- Null Hypothesis ```Hₒ``` : No effect exists in the population.\n",
        "- Alternative Hypothesis ```Hᴀ``` / ```H1``` / ```H2```: The effect exists in the population.\n"
      ],
      "metadata": {
        "id": "jfj6c1OSk0l1"
      }
    },
    {
      "cell_type": "markdown",
      "source": [
        "### Steps involved in Hypothesis analysis\n",
        "\n",
        "\n",
        "*Step 1:* Establish Null Hypothesis ```Hₒ ``` & Alternative Hypothesis (```Hᴀ``` / ```H1``` / ```H2```)\n",
        "- If Null Hypothesis, ```Hₒ ``` is found to be true, then\n",
        "    - NO action , NO decision , NO changes\n",
        "\n",
        "    1.  ```Right Tail Test```: when error is on right side of Null Hypothesis on number line\n",
        "        - e.g. delivery time <= 40min, speed limit <= 80kmph\n",
        "\n",
        "    2.  ```Left Tail Test```: when error is on left side of Null Hypothesis on number line\n",
        "        - e.g. voltage <=220\n",
        "\n",
        "    3.  ```Two Tail Test```: when error is both sides of an interval\n",
        "        - e.g. Blood Pressure level <=80 and Blood Pressure level >= 120\n",
        "        - e.g. Voltage<=180 & voltage>=240\n",
        "\n",
        "- Null Hypothesis, ```Hₒ ``` will always have an equal to sign\n",
        "- e.g. salaray promised >=30,000 is Null Hypothesis\n",
        "\n",
        "\n",
        "\n",
        "*Step 2:* Establish Confidence Level(C.L.) and the Level of Significance (LoS) for the analysis\n",
        "\n",
        "- Confidence level (C.L.)\n",
        "    - default value is >= 0.95 or 95%\n",
        "\n",
        "- Level of Significane (LoS):\n",
        "    - ```LoS = 1 - C.L.```\n",
        "    - default value of LoS is <= 0.05 or 5%\n",
        "\n",
        "*Step 3:* Choose the appropriate staistical test for performing the analysis\n",
        "\n",
        "*Step 4:* use the appropriate functions in python to calculate the P-Value\n",
        "\n",
        "*Step 5:* Compare the P-value (which you got from step 4) against the Level of Significance LoS (which you got from Step 2)\n",
        "\n"
      ],
      "metadata": {
        "id": "Nd7sY737lQ3B"
      }
    },
    {
      "cell_type": "markdown",
      "source": [
        "- *NOTE:*\n",
        "    - If ```P-value``` < ```LoS``` , then reject ```Hₒ ```\n",
        "    - If ```P-value``` > ```LoS``` , then don't reject ```Hₒ ```\n",
        "\n",
        "- Data used in hypothesis is prone to error as it is not population data, it is sample data\n",
        "\n",
        "- Statistical Sample = Population parameter + Actual Difference + Chance Variation [not a mathematical equation]\n",
        "\n",
        "- ```Number of possible Hypothesis = Number of variables + 1```\n",
        "    - for ```y = mx + c```, number of variables = 1\n",
        "    - so, number of possible hypothesis = 2\n",
        "\n"
      ],
      "metadata": {
        "id": "iSP6sYAxqq2G"
      }
    },
    {
      "cell_type": "markdown",
      "source": [
        "### Types of Error\n",
        "1. Type 1 Error\n",
        "2. Type 2 Error"
      ],
      "metadata": {
        "id": "PNAMSILm39d2"
      }
    },
    {
      "cell_type": "markdown",
      "source": [
        "#### Type 1 Error\n",
        "- rejecting a Null Hypothesis ```Hₒ ``` which is actually true is Type 1 Error\n",
        "- rejecting due to limited information\n",
        "- e.g.: rejecting a good girl / important phone call / some good movie due to limited information"
      ],
      "metadata": {
        "id": "fFz7L11Hp56h"
      }
    },
    {
      "cell_type": "markdown",
      "source": [
        "#### Type 2 Error\n",
        "- Not rejecting the Null Hypothesis ```Hₒ ``` , which is actually False\n",
        "- e.g.: not rejecting a bad movie"
      ],
      "metadata": {
        "id": "YHqpQPSQp_9-"
      }
    },
    {
      "cell_type": "markdown",
      "source": [
        "- ```LoS``` : max allowed probability of committing Type 1 error\n",
        "- ```P-Value``` :  actual probability of committing Type 1 Error"
      ],
      "metadata": {
        "id": "7Z-aywLasf6A"
      }
    },
    {
      "cell_type": "markdown",
      "source": [
        "- assume maxprob(getting affecting) / LoS = 7%\n",
        "- if p-value / actual probability  is 23%, then we reject ```Hₒ ```\n",
        "- if p-value / actual probability  is 3%, then we accept ```Hₒ ```\n",
        "\n",
        "\n",
        "- if the Sample Statistics and Plain Value(P-Value)/Population Parameter do not meet the criteria, then P-value gives the probability that the difference is just a matter of chance, there is no actual difference and the action can be avoided."
      ],
      "metadata": {
        "id": "jli_aWuzsiPt"
      }
    },
    {
      "cell_type": "markdown",
      "source": [
        "# General Note (Hypothesis Testing)\n",
        "- H 0 : X does not have an impact on Y\n",
        "    - X : predictor / variables\n",
        "    - Y : response / result\n",
        "- if ```P-Value < 0.05``` (```P<|Z|```)\n",
        "    - ```Hₒ```  is rejected\n",
        "    - X has impact on Y . ```y = mx + c```\n",
        "    - influence of X on Y cannot be ignored\n",
        "    - It is statistically significant\n",
        "    - it is not a matter of chance variation"
      ],
      "metadata": {
        "id": "_8CcUgkOc_tL"
      }
    },
    {
      "cell_type": "markdown",
      "source": [
        "# Tools for continuous data\n",
        "1. Sample t Tests / Sample Z tests\n",
        "    - one-sample t test / one-sample Z test\n",
        "    - two-sample t test / two-sample Z test\n",
        "2. ANOVA tests\n",
        "    - one-way ANOVA\n",
        "    - two-way ANOVA\n",
        "5. one-Sample Variance Test"
      ],
      "metadata": {
        "id": "Ms3z-7CdCb9i"
      }
    },
    {
      "cell_type": "markdown",
      "source": [
        "## Sample t test / Sample Z test\n",
        "\n",
        "1. one-sample t test / one-sample Z test\n",
        "2. two-sample t test / two-sample Z test\n",
        "- uses ztest\n",
        "- used to compare mean against a claimed value"
      ],
      "metadata": {
        "id": "0id7smkD4Sy-"
      }
    },
    {
      "cell_type": "markdown",
      "source": [
        "### one-sample t test / one-sample Z test\n",
        "- one-sample t test is used to comapre the mean of a sample against a claimed value and establish whether the difference between them is statistically significant or not\n",
        "- z-test\n",
        "    - population S.D. should be known\n",
        "    - we work with sample S.D.\n",
        "    - Sample size, n > 30\n",
        "- t-test\n",
        "    - Sample S.D should be known\n",
        "    - Sample size, n <= 30\n",
        "- data should follow normal distribution\n",
        "\n"
      ],
      "metadata": {
        "id": "ILy8YeMbBagW"
      }
    },
    {
      "cell_type": "code",
      "source": [
        "x = [4, 7, 6, 8, 9, 7, 2, 3, 5, 6, 7, 8]\n",
        "# create a list of sample data"
      ],
      "metadata": {
        "id": "uafHhkKsfJPs"
      },
      "execution_count": null,
      "outputs": []
    },
    {
      "cell_type": "code",
      "source": [
        "import numpy as np\n",
        "import pandas as pd\n",
        "\n",
        "import statsmodels\n",
        "from statsmodels import stats\n",
        "from statsmodels.stats import weightstats\n",
        "# for ztest\n",
        "\n",
        "\n",
        "from scipy import stats\n",
        "from scipy.stats import norm\n",
        "# for P-value / probability"
      ],
      "metadata": {
        "id": "zQ1fdBLnEd72"
      },
      "execution_count": null,
      "outputs": []
    },
    {
      "cell_type": "code",
      "source": [
        "np.mean(x)\n",
        "# actual sample Mean to be used to compare with claimed mean\n",
        "# and then cestablish whether difference is stistically significant or not"
      ],
      "metadata": {
        "colab": {
          "base_uri": "https://localhost:8080/"
        },
        "id": "frRai247EpDK",
        "outputId": "2507ed55-47c6-43ef-da57-83fda0cc5dd2"
      },
      "execution_count": null,
      "outputs": [
        {
          "output_type": "execute_result",
          "data": {
            "text/plain": [
              "6.0"
            ]
          },
          "metadata": {},
          "execution_count": 17
        }
      ]
    },
    {
      "cell_type": "markdown",
      "source": [
        "assuming that, ```Hₒ``` : Mean(x) is atleast 7.2\n",
        "\n",
        "Step1: establishing ```Hₒ``` & ```Hᴀ```\n",
        "\n",
        "=> ```Hₒ``` : ```a >= 7.2```     and     ```Hᴀ``` : ```a < 7.2```\n",
        "\n",
        "    - SS  =   PP  +   ActualDifference    +   ChanceVariation\n",
        "    - 6       7.2                             could be a matter of chance variation\n",
        "\n",
        "\n",
        "Step2: CL = 95% , LoS = 5% = 0.05\n",
        "\n",
        "\n",
        "Step3: Choose one-sample t test / one-sample Z test to compare a sample mean with the claim value\n",
        "\n",
        "Step4: use appropriate python function to calculate P-value"
      ],
      "metadata": {
        "id": "9kfQnIzhE6fR"
      }
    },
    {
      "cell_type": "markdown",
      "source": [
        "#### statsmodels.stats.weightstats.ztest(list/ndarray, value=Claimed Value, alternative=Sign Of Hᴀ)"
      ],
      "metadata": {
        "id": "NoQiF3pK6kfu"
      }
    },
    {
      "cell_type": "code",
      "source": [
        "statsmodels.stats.weightstats.ztest(x, value=7.2, alternative='smaller')\n",
        "# statsmodels.stats.weightstats.ztest(list/ndarray, value=Claimed Value, alternative=Sign Of Hᴀ)\n",
        "# returns (TestStatistics, P-Value)"
      ],
      "metadata": {
        "colab": {
          "base_uri": "https://localhost:8080/"
        },
        "id": "BrYGmcjvEyHj",
        "outputId": "0aa783b6-6ea4-426e-fdaf-c8ced932dc83"
      },
      "execution_count": null,
      "outputs": [
        {
          "output_type": "execute_result",
          "data": {
            "text/plain": [
              "(-1.9497692171126306, 0.025601816055026008)"
            ]
          },
          "metadata": {},
          "execution_count": 18
        }
      ]
    },
    {
      "cell_type": "markdown",
      "source": [
        "#### norm.cdf(testStatistics)\n",
        "- to cross verify the P-Value with the P-Value we got from ztest() using the TestStatistics value"
      ],
      "metadata": {
        "id": "dnoQds448GPt"
      }
    },
    {
      "cell_type": "code",
      "source": [
        "norm.cdf(-1.9497692171126306)\n",
        "# norm.cdf(testStatistics) returns P-value / Probability"
      ],
      "metadata": {
        "colab": {
          "base_uri": "https://localhost:8080/"
        },
        "id": "uWJ3JHlhIGhf",
        "outputId": "2c5bb2a0-914c-4480-af5b-548710c88651"
      },
      "execution_count": null,
      "outputs": [
        {
          "output_type": "execute_result",
          "data": {
            "text/plain": [
              "0.025601816055026008"
            ]
          },
          "metadata": {},
          "execution_count": 21
        }
      ]
    },
    {
      "cell_type": "markdown",
      "source": [
        "Step5: comapare the P-Value with LoS\n",
        "\n",
        "- ```P-Value(0.025601816055026008)``` < ```LoS(0.05)```, so we reject the ```Hₒ```\n",
        "- the differenece between 6 and 7.2 is statistically significant, cannot be ignored, so action is required\n",
        "\n",
        "\n",
        "\n",
        "- Next stepis to take an action and repeat(here repeating with different claimed value)"
      ],
      "metadata": {
        "id": "27yjUySPH7RR"
      }
    },
    {
      "cell_type": "markdown",
      "source": [
        "In next repetition, assuming that, ```Hₒ``` : Mean(x) is atleast 6.5\n",
        "\n",
        "Step1: establishing ```Hₒ``` & ```Hᴀ```\n",
        "\n",
        "=> ```Hₒ``` : a >= 6.5     and     ```Hᴀ``` : a < 6.5"
      ],
      "metadata": {
        "id": "6SFA4yBPJ6Vx"
      }
    },
    {
      "cell_type": "code",
      "source": [
        "statsmodels.stats.weightstats.ztest(x, value=6.5, alternative='smaller')\n",
        "# statsmodels.stats.weightstats.ztest(list/ndarray, value=ClaimedValue, alternative=SignOfAltHypothesis)\n",
        "# returns (TestStatistics, P-Value)"
      ],
      "metadata": {
        "colab": {
          "base_uri": "https://localhost:8080/"
        },
        "id": "8UtvUN1gHjVw",
        "outputId": "8f8d1d0a-b871-4c3c-a8ab-75f61d1cf6e9"
      },
      "execution_count": null,
      "outputs": [
        {
          "output_type": "execute_result",
          "data": {
            "text/plain": [
              "(-0.812403840463596, 0.2082799716383955)"
            ]
          },
          "metadata": {},
          "execution_count": 22
        }
      ]
    },
    {
      "cell_type": "markdown",
      "source": [
        "- Now, ```P-Value(0.2082799716383955)``` > ```LoS(0.05)```, so we do not reject the ```Hₒ```\n",
        "- But, the differenece between 6 and 6.5 is statistically significant which cannot be ignored, so action is required, and we repeat Step1 to Step5 with different claimed value"
      ],
      "metadata": {
        "id": "Ek8rY23jKQiM"
      }
    },
    {
      "cell_type": "markdown",
      "source": [
        "#### scipy.stats.t"
      ],
      "metadata": {
        "id": "bUoG53ZF8xNo"
      }
    },
    {
      "cell_type": "code",
      "source": [
        "import scipy\n",
        "from scipy import stats\n",
        "from scipy.stats import t"
      ],
      "metadata": {
        "id": "H-YGiZUK8hYZ"
      },
      "execution_count": null,
      "outputs": []
    },
    {
      "cell_type": "markdown",
      "source": [
        "#### scipy.stats.t.interval(C.L., dof, x̄, StdErrMean)\n",
        "- calculating interval, and then calculating the probability / area under the curve for the interval as Z-statistics on x-axis using CDF method"
      ],
      "metadata": {
        "id": "Qck1stZo856a"
      }
    },
    {
      "cell_type": "code",
      "source": [
        "x = stats.t.interval(0.95, 2000-1, 27000, 1000/2000**0.5)\n",
        "# interval(C.L., dof, x̄, StdErrMean)\n",
        "# Standard Error of the Mean, StdErrMean = S.D. / sqrt(SampleSize)\n",
        "# returns (lower_value, higher_value)\n",
        "x"
      ],
      "metadata": {
        "colab": {
          "base_uri": "https://localhost:8080/"
        },
        "id": "whMTbMg8KKvM",
        "outputId": "6ad7aed2-f62b-4544-f380-4ab9e04bf190"
      },
      "execution_count": null,
      "outputs": [
        {
          "output_type": "execute_result",
          "data": {
            "text/plain": [
              "(26956.147321103283, 27043.852678896717)"
            ]
          },
          "metadata": {},
          "execution_count": 1
        }
      ]
    },
    {
      "cell_type": "markdown",
      "source": [
        "#### scipy.stats.norm"
      ],
      "metadata": {
        "id": "3yhrXEFy81EX"
      }
    },
    {
      "cell_type": "code",
      "source": [
        "import scipy\n",
        "from scipy import stats\n",
        "from scipy.stats import norm\n",
        "norm.cdf(1) - norm.cdf(-1) # 1-σ"
      ],
      "metadata": {
        "colab": {
          "base_uri": "https://localhost:8080/"
        },
        "id": "5CYPYPDUL7AG",
        "outputId": "270321d5-480e-4c21-c134-858125ffa122"
      },
      "execution_count": null,
      "outputs": [
        {
          "output_type": "execute_result",
          "data": {
            "text/plain": [
              "0.6826894921370859"
            ]
          },
          "metadata": {},
          "execution_count": 1
        }
      ]
    },
    {
      "cell_type": "markdown",
      "source": [
        "#### norm.cdf(Z)"
      ],
      "metadata": {
        "id": "WBfjbcKcBD_J"
      }
    },
    {
      "cell_type": "code",
      "source": [
        "norm.cdf(1)\n",
        "# area under curve/probability for z-statistics = 1"
      ],
      "metadata": {
        "colab": {
          "base_uri": "https://localhost:8080/"
        },
        "id": "rFsTMEtBMHP3",
        "outputId": "d0996cf0-2ba3-4686-f4ff-f062dc0063ba"
      },
      "execution_count": null,
      "outputs": [
        {
          "output_type": "execute_result",
          "data": {
            "text/plain": [
              "0.8413447460685429"
            ]
          },
          "metadata": {},
          "execution_count": 2
        }
      ]
    },
    {
      "cell_type": "code",
      "source": [
        "norm.cdf(-1)\n",
        "# area under curve/probability for z-statistics = -1"
      ],
      "metadata": {
        "colab": {
          "base_uri": "https://localhost:8080/"
        },
        "id": "k4gZdbbuMUHh",
        "outputId": "bb32065c-d8f3-4bc2-c276-e390a5c5c90f"
      },
      "execution_count": null,
      "outputs": [
        {
          "output_type": "execute_result",
          "data": {
            "text/plain": [
              "0.15865525393145707"
            ]
          },
          "metadata": {},
          "execution_count": 3
        }
      ]
    },
    {
      "cell_type": "code",
      "source": [
        "norm.cdf(26956.147321103283)\n",
        "# z-statistics is lower end of interval\n",
        "# area under curve/probability for z-statistics = 26956.147321103283"
      ],
      "metadata": {
        "colab": {
          "base_uri": "https://localhost:8080/"
        },
        "id": "twv3ESTF7_Jp",
        "outputId": "24e8247d-2b86-400f-e6f8-6e0f661b25c7"
      },
      "execution_count": null,
      "outputs": [
        {
          "output_type": "execute_result",
          "data": {
            "text/plain": [
              "1.0"
            ]
          },
          "metadata": {},
          "execution_count": 6
        }
      ]
    },
    {
      "cell_type": "code",
      "source": [
        "norm.cdf(27043.852678896717)\n",
        "# z-statistics is upper end of interval\n",
        "# area under curve/probability for z-statistics = 27043.852678896717"
      ],
      "metadata": {
        "colab": {
          "base_uri": "https://localhost:8080/"
        },
        "id": "8OczTiJu8MHT",
        "outputId": "74e1b52f-fcaf-4f92-e833-b7321f10c4e8"
      },
      "execution_count": null,
      "outputs": [
        {
          "output_type": "execute_result",
          "data": {
            "text/plain": [
              "1.0"
            ]
          },
          "metadata": {},
          "execution_count": 7
        }
      ]
    },
    {
      "cell_type": "code",
      "source": [
        "norm.cdf(26956.147321103283) - norm.cdf(27043.852678896717)\n",
        "# area under the curve / probability between the intervals"
      ],
      "metadata": {
        "colab": {
          "base_uri": "https://localhost:8080/"
        },
        "id": "r9KbC0nW8LU6",
        "outputId": "9ab74024-0d2c-4735-8465-a25d61ec0594"
      },
      "execution_count": null,
      "outputs": [
        {
          "output_type": "execute_result",
          "data": {
            "text/plain": [
              "0.0"
            ]
          },
          "metadata": {},
          "execution_count": 8
        }
      ]
    },
    {
      "cell_type": "markdown",
      "source": [
        "## Note\n",
        "- Non-parametiric test can be used without considering the distribution"
      ],
      "metadata": {
        "id": "ZJ6ma7NRJVIL"
      }
    }
  ]
}