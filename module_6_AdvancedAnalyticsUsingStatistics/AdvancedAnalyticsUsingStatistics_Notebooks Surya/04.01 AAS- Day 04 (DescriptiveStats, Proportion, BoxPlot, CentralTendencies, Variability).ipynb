{
  "nbformat": 4,
  "nbformat_minor": 0,
  "metadata": {
    "colab": {
      "provenance": [],
      "toc_visible": true
    },
    "kernelspec": {
      "name": "python3",
      "display_name": "Python 3"
    },
    "language_info": {
      "name": "python"
    }
  },
  "cells": [
    {
      "cell_type": "markdown",
      "source": [
        "# → Descriptive Analytics\n",
        "1. Data summarization\n",
        "2. Visualization\n",
        "3. Probability\n"
      ],
      "metadata": {
        "id": "VoHMZo5TlTo-"
      }
    },
    {
      "cell_type": "markdown",
      "source": [
        "# → Types of Data w.r.t statistics\n",
        "1. Continuous data\n",
        "    - There is possibility of decimal values\n",
        "    - Always be NUMERIC\n",
        "    - E.g. distance b/ KHGR-CSMT is 85.45metres\n",
        "2. Discrete data\n",
        "    - There is no possibility of decimal\n",
        "    - Only whole numbers allowed, usually counting\n",
        "    - Always be NUMERIC\n",
        "    - E.g. count of students in class is 84\n",
        "3. Attribute data\n",
        "    - Characteristic data  / attributes\n",
        "    - E.g. gender of Ryan is ‘Male’\n",
        "\n"
      ],
      "metadata": {
        "id": "9p1epwZ4lj9d"
      }
    },
    {
      "cell_type": "markdown",
      "source": [
        "# Descriptive Statistics\n",
        "\n",
        "- helps to describe, show and summarize data in a meaningful way.\n",
        "- describing features of a data set by generating summaries\n",
        "- state facts and proven outcomes from a population\n",
        "- describe a situation\n",
        "- achieved with the help of charts, graphs, tables, etc.\n",
        "\n"
      ],
      "metadata": {
        "id": "5tQldSHDfA5W"
      }
    },
    {
      "cell_type": "markdown",
      "source": [
        "## NumPy"
      ],
      "metadata": {
        "id": "Upw92w-JeVMB"
      }
    },
    {
      "cell_type": "code",
      "source": [
        "import numpy as np\n",
        "import pandas as pd\n",
        "# importing NumPy & pandas"
      ],
      "metadata": {
        "id": "2g0Q5_dbe_OK"
      },
      "execution_count": null,
      "outputs": []
    },
    {
      "cell_type": "code",
      "source": [
        "grades = np.array(['A', 'C', 'D', 'A', 'A', 'B', 'C', 'A', 'B', 'B', 'B', 'A', 'C', 'B', 'A', 'A', 'B', 'C'])\n",
        "# creating an ndarray of grades"
      ],
      "metadata": {
        "id": "_wXbYoNyeYaf"
      },
      "execution_count": null,
      "outputs": []
    },
    {
      "cell_type": "code",
      "source": [
        "len(grades)\n",
        "# printing the count of grades"
      ],
      "metadata": {
        "colab": {
          "base_uri": "https://localhost:8080/"
        },
        "id": "Z31CQm6Ee8yA",
        "outputId": "d281eb59-616b-4f2a-bf87-7076ef42cbf3"
      },
      "execution_count": null,
      "outputs": [
        {
          "output_type": "execute_result",
          "data": {
            "text/plain": [
              "18"
            ]
          },
          "metadata": {},
          "execution_count": 3
        }
      ]
    },
    {
      "cell_type": "markdown",
      "source": [
        "### np.unique(ndarray)"
      ],
      "metadata": {
        "id": "42xDkNj_5OBV"
      }
    },
    {
      "cell_type": "code",
      "source": [
        "np.unique(grades)\n",
        "# printing nd array of only unique values from existing ndarray"
      ],
      "metadata": {
        "colab": {
          "base_uri": "https://localhost:8080/"
        },
        "id": "qRASwpRTfGXn",
        "outputId": "c43bcd5b-91da-49b1-daf5-2113b07ad1d7"
      },
      "execution_count": null,
      "outputs": [
        {
          "output_type": "execute_result",
          "data": {
            "text/plain": [
              "array(['A', 'B', 'C', 'D'], dtype='<U1')"
            ]
          },
          "metadata": {},
          "execution_count": 4
        }
      ]
    },
    {
      "cell_type": "markdown",
      "source": [
        "### np.unique(ndarray, return_counts=True)"
      ],
      "metadata": {
        "id": "vp4vMKb-5Tnk"
      }
    },
    {
      "cell_type": "code",
      "source": [
        "np.unique(grades, return_counts=True)\n",
        "# returns a tuple of two ndarrays, one with unique values and\n",
        "# other with their respective count\n",
        "# unique values are attribute data\n",
        "# count of unique values is discrete data"
      ],
      "metadata": {
        "colab": {
          "base_uri": "https://localhost:8080/"
        },
        "id": "SC53mo0HfIq7",
        "outputId": "3c68b47f-88ca-4f3b-8598-02b67cd125eb"
      },
      "execution_count": null,
      "outputs": [
        {
          "output_type": "execute_result",
          "data": {
            "text/plain": [
              "(array(['A', 'B', 'C', 'D'], dtype='<U1'), array([7, 6, 4, 1]))"
            ]
          },
          "metadata": {},
          "execution_count": 5
        }
      ]
    },
    {
      "cell_type": "code",
      "source": [
        "grd_counts = np.unique(grades, return_counts=True)\n",
        "# returns a tuple of two ndarrays, one with unique values and\n",
        "# other with their respective count"
      ],
      "metadata": {
        "id": "jen_WqqKfOE8"
      },
      "execution_count": null,
      "outputs": []
    },
    {
      "cell_type": "code",
      "source": [
        "grd_counts[0]\n",
        "# printing unique values from tuple grd_counts"
      ],
      "metadata": {
        "colab": {
          "base_uri": "https://localhost:8080/"
        },
        "id": "yeKKSQDPfa-t",
        "outputId": "4e7d339c-b468-4b42-922c-14f10c24e3d7"
      },
      "execution_count": null,
      "outputs": [
        {
          "output_type": "execute_result",
          "data": {
            "text/plain": [
              "array(['A', 'B', 'C', 'D'], dtype='<U1')"
            ]
          },
          "metadata": {},
          "execution_count": 7
        }
      ]
    },
    {
      "cell_type": "code",
      "source": [
        "grd_counts[1]\n",
        "# printing count of unique values from tuple grd_counts"
      ],
      "metadata": {
        "colab": {
          "base_uri": "https://localhost:8080/"
        },
        "id": "56wyHlB4f8oj",
        "outputId": "e40adb10-140e-4269-d67d-2f201efaea30"
      },
      "execution_count": null,
      "outputs": [
        {
          "output_type": "execute_result",
          "data": {
            "text/plain": [
              "array([7, 6, 4, 1])"
            ]
          },
          "metadata": {},
          "execution_count": 8
        }
      ]
    },
    {
      "cell_type": "markdown",
      "source": [
        "## Proportion\n",
        "- Proportion = count / total number of items"
      ],
      "metadata": {
        "id": "tFSiR3K6_E7M"
      }
    },
    {
      "cell_type": "code",
      "source": [
        "grd_props = grd_counts[1] / len(grades)\n",
        "grd_props\n",
        "# calculate grade proportion"
      ],
      "metadata": {
        "colab": {
          "base_uri": "https://localhost:8080/"
        },
        "id": "BUaOCywcgAxL",
        "outputId": "cb9ffeea-3892-4c4a-8c8f-9e77f3f3a23d"
      },
      "execution_count": null,
      "outputs": [
        {
          "output_type": "execute_result",
          "data": {
            "text/plain": [
              "array([0.38888889, 0.33333333, 0.22222222, 0.05555556])"
            ]
          },
          "metadata": {},
          "execution_count": 9
        }
      ]
    },
    {
      "cell_type": "code",
      "source": [
        "grd_props = np.round(grd_props, 3)\n",
        "grd_props\n",
        "# rounding off grade proportion"
      ],
      "metadata": {
        "colab": {
          "base_uri": "https://localhost:8080/"
        },
        "id": "OOvML6ySgXEm",
        "outputId": "e6aec2f6-65fc-4a4c-b25e-7f914def0f88"
      },
      "execution_count": null,
      "outputs": [
        {
          "output_type": "execute_result",
          "data": {
            "text/plain": [
              "array([0.389, 0.333, 0.222, 0.056])"
            ]
          },
          "metadata": {},
          "execution_count": 10
        }
      ]
    },
    {
      "cell_type": "markdown",
      "source": [
        "### Proportion Percentage\n",
        "- proportion percentage = Proportion * 100\n",
        "- proportion percentage = (count/total Number of items)*100"
      ],
      "metadata": {
        "id": "5nruXIVy_Pau"
      }
    },
    {
      "cell_type": "code",
      "source": [
        "grd_pct = grd_props*100\n",
        "grd_pct\n",
        "# calculate grade percentage from grade proportion"
      ],
      "metadata": {
        "colab": {
          "base_uri": "https://localhost:8080/"
        },
        "id": "VS2MvqN7gjul",
        "outputId": "6df450b3-d62a-455d-bbaf-1f71f63647e1"
      },
      "execution_count": null,
      "outputs": [
        {
          "output_type": "execute_result",
          "data": {
            "text/plain": [
              "array([38.9, 33.3, 22.2,  5.6])"
            ]
          },
          "metadata": {},
          "execution_count": 11
        }
      ]
    },
    {
      "cell_type": "markdown",
      "source": [
        "### np.cumsum()\n",
        "- returns cummulative sum\n",
        "- keeps summing up values index-wise"
      ],
      "metadata": {
        "id": "k8nr7hOb_hUH"
      }
    },
    {
      "cell_type": "code",
      "source": [
        "np.cumsum(grd_pct)\n",
        "# calculate summulative sum, means to add grade percentages cummulativly\n",
        "# to tell"
      ],
      "metadata": {
        "colab": {
          "base_uri": "https://localhost:8080/"
        },
        "id": "65dl-Kv8gxSd",
        "outputId": "7842db2f-1c47-47c3-9cbe-b10e9bdd777b"
      },
      "execution_count": null,
      "outputs": [
        {
          "output_type": "execute_result",
          "data": {
            "text/plain": [
              "array([ 38.9,  72.2,  94.4, 100. ])"
            ]
          },
          "metadata": {},
          "execution_count": 12
        }
      ]
    },
    {
      "cell_type": "markdown",
      "source": [
        "## Sorting"
      ],
      "metadata": {
        "id": "I2QMtHK2iq1l"
      }
    },
    {
      "cell_type": "code",
      "source": [
        "x = np.array([45, 78, 23, 56, 12])\n",
        "# creading an ndarray"
      ],
      "metadata": {
        "id": "rb47Sfn1hc39"
      },
      "execution_count": null,
      "outputs": []
    },
    {
      "cell_type": "code",
      "source": [
        "np.argsort(x)\n",
        "# returns index in order of sorted numbers"
      ],
      "metadata": {
        "colab": {
          "base_uri": "https://localhost:8080/"
        },
        "id": "fWmET7z0i1TB",
        "outputId": "9b2e4c49-9060-413f-b062-9789e74d089e"
      },
      "execution_count": null,
      "outputs": [
        {
          "output_type": "execute_result",
          "data": {
            "text/plain": [
              "array([4, 2, 0, 3, 1])"
            ]
          },
          "metadata": {},
          "execution_count": 14
        }
      ]
    },
    {
      "cell_type": "code",
      "source": [
        "sorted(x)\n",
        "# returns list in sorted order"
      ],
      "metadata": {
        "colab": {
          "base_uri": "https://localhost:8080/"
        },
        "id": "JrQSYY0ti4Jl",
        "outputId": "da892289-e7a7-43ec-d1de-620d7e6be3cc"
      },
      "execution_count": null,
      "outputs": [
        {
          "output_type": "execute_result",
          "data": {
            "text/plain": [
              "[12, 23, 45, 56, 78]"
            ]
          },
          "metadata": {},
          "execution_count": 15
        }
      ]
    },
    {
      "cell_type": "markdown",
      "source": [
        "# Box Plot\n",
        "- method for descriptive statistics\n",
        "- also known as box and whisker plot\n",
        "- includes two parts, a box and a set of whiskers\n",
        "- consists of five number summary of data set\n",
        "    1. Minimum (0th percentile) - lower whisker\n",
        "    2. first quartile (25th percentile)\n",
        "    3. Median (50th percentile) - horizontal line in the middle of box\n",
        "    4. third quartile (75th percentile)\n",
        "    5. Maximum (100th percentile) - upper whisker\n",
        "- we draw a box from the first quartile to the third quartile\n",
        "- A vertical line goes through the box at the median, and\n",
        "\n",
        "![box-plot.gif](data:image/gif;base64,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)"
      ],
      "metadata": {
        "id": "nOPwRizLBXS9"
      }
    },
    {
      "cell_type": "markdown",
      "source": [
        "### IQR\n",
        "- Inter-Quartile Range\n",
        "- consists of the central 50% of the data\n",
        "    - ```IQR = Q3 - Q1```\n",
        "            IQR = third quartiile - first quartile\n",
        "            IQR = 75th percentile - 25th percentile\n",
        "\n"
      ],
      "metadata": {
        "id": "Gn4YDBX5D9EX"
      }
    },
    {
      "cell_type": "markdown",
      "source": [
        "### Whiskers\n",
        "- two whiskers represent the maximum & minimum\n",
        "    - Lower whisker - minimum / 0th Percentile\n",
        "    - Upper Whisker - maximum / 100th Percentile"
      ],
      "metadata": {
        "id": "bVpyMp9vD63T"
      }
    },
    {
      "cell_type": "markdown",
      "source": [
        "### Fences\n",
        "- used to identify outliers\n",
        "1. lower inner fence: ```Q1 - 1.5*IQ```\n",
        "2. upper inner fence: ```Q3 + 1.5*IQ```\n",
        "\n",
        "sometimes we consider 3IQR too for fences\n",
        "3. lower outer fence: ```Q1 - 3*IQ```\n",
        "4. upper outer fence: ```Q3 + 3*IQ```"
      ],
      "metadata": {
        "id": "p95Vsx-EDU8v"
      }
    },
    {
      "cell_type": "markdown",
      "source": [
        "### Outliers\n",
        "- a data point that is located outside the fences of the box plot\n",
        "- represented by dot, a small circle, a star, etc.\n"
      ],
      "metadata": {
        "id": "2-Rh8I1jDSx-"
      }
    },
    {
      "cell_type": "markdown",
      "source": [
        "# Three types of Descriptive summaries\n",
        "1. Distribution (Probability Distribution)\n",
        "2. Central Tendency\n",
        "3. Variability"
      ],
      "metadata": {
        "id": "n8IXfi5ofcLh"
      }
    },
    {
      "cell_type": "markdown",
      "source": [
        "- Central Tendency\n",
        "    1. mean\n",
        "    2. median\n",
        "    3. mode\n",
        "- Variation or Dispersion\n",
        "    1. range\n",
        "    2. inter-quartile range\n",
        "    3. variance\n",
        "    4. standard deviation\n",
        "    5. Shape\n",
        "        1. skewness\n",
        "        2. kurtosis\n",
        "- Probability Distributions\n",
        "    1. Discrete Probability Distributions\n",
        "        1. Binomial Distribution\n",
        "        2. Poisson Distribution\n",
        "        3. Hypergeometric Distribution\n",
        "    2. Continuous Probability Distributions\n",
        "        1. Exponential Probability Distributions\n",
        "        2. Normal Probability Distributions\n",
        "        3. Student's t Probability Distributions"
      ],
      "metadata": {
        "id": "EQ9OJajYjsxR"
      }
    },
    {
      "cell_type": "markdown",
      "source": [
        "# Central Tendency\n",
        "- represent the center point or typical value of a dataset\n",
        "- descriptive \"summary\" of a data set\n",
        "1. Mean\n",
        "2. Median\n",
        "3. Mode\n"
      ],
      "metadata": {
        "id": "LozI4jl_tUup"
      }
    },
    {
      "cell_type": "markdown",
      "source": [
        "## Mean / Average x̄ or µ\n",
        "- Mean or Average : sum of all elements / count of elements\n",
        "- ```Mean or Average : (x1 + x2 + x3 + ... + xn) / n```\n",
        "1. Sample Mean / Average (x̄)\n",
        "    - ```x̄``` : Sample Mean of variable ```x```\n",
        "    - ```Σxn``` : sum of ```n``` values\n",
        "    - ```n``` : number of values in sample\n",
        "    - ```x̄ = Σxn / n```\n",
        "2. Population Mean / Average (µ)\n",
        "    - ```µ``` : Population Mean / Average\n",
        "    - ```∑XN``` : sum of ```N``` values\n",
        "    - ```N``` : number of values in the population\n",
        "    - ```µ = ∑XN / N```\n",
        "\n",
        "\n",
        "### Note:\n",
        "- Inferential statistics use Hypothesis tests such as t-tests, ANOVA tests to determine whether Sample data is different than Population mean"
      ],
      "metadata": {
        "id": "roMybWb0KKYg"
      }
    },
    {
      "cell_type": "markdown",
      "source": [
        "### np.mean(ndarray)"
      ],
      "metadata": {
        "id": "N7VmKq3kRC15"
      }
    },
    {
      "cell_type": "code",
      "source": [
        "mylist = [3, 6, 5, 4, 7, 6, 8, 9, 1, 10, 13, 4, 7, 11, 4, 7, 9]\n",
        "# create a list of values\n",
        "mylist\n",
        "# printing the list"
      ],
      "metadata": {
        "colab": {
          "base_uri": "https://localhost:8080/"
        },
        "id": "38LXDz1AjDLS",
        "outputId": "308b3ade-eade-4f33-c375-daf6fe6270b3"
      },
      "execution_count": null,
      "outputs": [
        {
          "output_type": "execute_result",
          "data": {
            "text/plain": [
              "[3, 6, 5, 4, 7, 6, 8, 9, 1, 10, 13, 4, 7, 11, 4, 7, 9]"
            ]
          },
          "metadata": {},
          "execution_count": 7
        }
      ]
    },
    {
      "cell_type": "code",
      "source": [
        "sum(mylist)/len(mylist)\n",
        "# manually calculating mean"
      ],
      "metadata": {
        "colab": {
          "base_uri": "https://localhost:8080/"
        },
        "id": "BhDFVTtij-en",
        "outputId": "e43b3ae7-357f-42e0-8217-2646e8935526"
      },
      "execution_count": null,
      "outputs": [
        {
          "output_type": "execute_result",
          "data": {
            "text/plain": [
              "6.705882352941177"
            ]
          },
          "metadata": {},
          "execution_count": 8
        }
      ]
    },
    {
      "cell_type": "code",
      "source": [
        "np.mean(mylist)\n",
        "# Claculates Population Mean or Average of the the ndarray / list"
      ],
      "metadata": {
        "colab": {
          "base_uri": "https://localhost:8080/"
        },
        "id": "13MmMAd3kMja",
        "outputId": "aeaa853f-e12d-4d70-9f59-0287a10d2dd8"
      },
      "execution_count": null,
      "outputs": [
        {
          "output_type": "execute_result",
          "data": {
            "text/plain": [
              "6.705882352941177"
            ]
          },
          "metadata": {},
          "execution_count": 9
        }
      ]
    },
    {
      "cell_type": "markdown",
      "source": [
        "## Weighted Mean\n",
        "- 10 have value as 7\n",
        "- 15 have value as 8\n",
        "- 23 have value as 19\n",
        "- 8 have value as 10\n",
        "\n",
        "\n",
        "- Assign a weight to each value in the dataset\n",
        "- frequency is the weight\n",
        "        - x1 = 07     w1 = 10\n",
        "        - x2 = 08     w1 = 15\n",
        "        - x3 = 09     w1 = 23\n",
        "        - x4 = 10     w1 = 08\n",
        "\n",
        "    - ```Weighted Mean = ∑xw / ∑w```\n",
        "    - ```Weighted Mean = (x1w1 + x2w2 +x3w3 + x4w4) / (w1 + w2 + w3 + w4) ```\n"
      ],
      "metadata": {
        "id": "HpMsFxT1ODRV"
      }
    },
    {
      "cell_type": "code",
      "source": [
        "values = np.array([7, 8, 9, 10])\n",
        "# creating ndarray of values / weights to assign weight"
      ],
      "metadata": {
        "id": "tT1Tnp6xkxqs"
      },
      "execution_count": null,
      "outputs": []
    },
    {
      "cell_type": "code",
      "source": [
        "freq = np.array([10, 15, 23, 8])\n",
        "# creating ndarray of frequencies\n",
        "freq"
      ],
      "metadata": {
        "id": "Ctf_-oRDkOZs",
        "colab": {
          "base_uri": "https://localhost:8080/"
        },
        "outputId": "c21271e0-56d3-4d80-a283-dfd7f4d16009"
      },
      "execution_count": null,
      "outputs": [
        {
          "output_type": "execute_result",
          "data": {
            "text/plain": [
              "array([10, 15, 23,  8])"
            ]
          },
          "metadata": {},
          "execution_count": 11
        }
      ]
    },
    {
      "cell_type": "code",
      "source": [
        "freq*values\n",
        "# calculating products of weights & samples"
      ],
      "metadata": {
        "colab": {
          "base_uri": "https://localhost:8080/"
        },
        "id": "mQ30yBUKmp5a",
        "outputId": "e75fcaaa-8cf9-425f-cc05-a02813caf24b"
      },
      "execution_count": null,
      "outputs": [
        {
          "output_type": "execute_result",
          "data": {
            "text/plain": [
              "array([ 70, 120, 207,  80])"
            ]
          },
          "metadata": {},
          "execution_count": 12
        }
      ]
    },
    {
      "cell_type": "code",
      "source": [
        "freq*values/sum(freq)\n",
        "# average or mean of each weight"
      ],
      "metadata": {
        "colab": {
          "base_uri": "https://localhost:8080/"
        },
        "id": "2guFnF2Ek1nc",
        "outputId": "ce29ff65-bfbe-42f9-9437-a7baa2c2acb8"
      },
      "execution_count": null,
      "outputs": [
        {
          "output_type": "execute_result",
          "data": {
            "text/plain": [
              "array([1.25      , 2.14285714, 3.69642857, 1.42857143])"
            ]
          },
          "metadata": {},
          "execution_count": 13
        }
      ]
    },
    {
      "cell_type": "code",
      "source": [
        "sum(freq*values/sum(freq))\n",
        "# weighted mean / average"
      ],
      "metadata": {
        "colab": {
          "base_uri": "https://localhost:8080/"
        },
        "id": "1DXFh3jEk4D_",
        "outputId": "714868cd-ec54-4ee4-d3d9-43029baaa0fd"
      },
      "execution_count": null,
      "outputs": [
        {
          "output_type": "execute_result",
          "data": {
            "text/plain": [
              "8.517857142857142"
            ]
          },
          "metadata": {},
          "execution_count": 14
        }
      ]
    },
    {
      "cell_type": "markdown",
      "source": [
        "## Median\n",
        "- natural measure of central tendency\n",
        "- splits the dataset in half\n",
        "- middle value in sorted list of data\n",
        "- first sort the data in increasing order, then median is the middle value\n",
        "    - for odd sample size, ```Median = middle value```\n",
        "                            Median = middle value\n",
        "                            Median = ((n+1)/2)th term\n",
        "        - e.g. ```sample size, n=7```\n",
        "                Median = ((7+1)/2)th term\n",
        "                Median = (8/2)th term\n",
        "                Median = 4th term\n",
        "    - for even sample size: ```Median = Average of two Middle values```\n",
        "                            Median = Average of two Middle values\n",
        "                            Median = ((n/2)th term + ((n/2)+1)th term)/2\n",
        "        - e.g. ```sample size, n=8```\n",
        "                Median = ((8/2)th term + ((8/2)+1)th term)/2\n",
        "                Median = (4th term + (4+1)th term)/2\n",
        "                Median = (4th term + 5th term)/2"
      ],
      "metadata": {
        "id": "wB-lj2jUKSsG"
      }
    },
    {
      "cell_type": "code",
      "source": [
        "mylist = [3, 6, 5, 4, 7, 6, 8, 9, 1, 10, 13, 4, 7, 11, 4, 7, 9]\n",
        "# create a list of values\n",
        "mylist\n",
        "# printing the list"
      ],
      "metadata": {
        "colab": {
          "base_uri": "https://localhost:8080/"
        },
        "id": "YObzRHP-vKZI",
        "outputId": "9781db58-68c6-448d-f275-18e2b7e3a4f7"
      },
      "execution_count": null,
      "outputs": [
        {
          "output_type": "execute_result",
          "data": {
            "text/plain": [
              "[3, 6, 5, 4, 7, 6, 8, 9, 1, 10, 13, 4, 7, 11, 4, 7, 9]"
            ]
          },
          "metadata": {},
          "execution_count": 15
        }
      ]
    },
    {
      "cell_type": "code",
      "source": [
        "len(mylist)"
      ],
      "metadata": {
        "colab": {
          "base_uri": "https://localhost:8080/"
        },
        "id": "tWozHy5wlI-x",
        "outputId": "826963e5-4ea4-400f-e50d-ddfc983dba98"
      },
      "execution_count": null,
      "outputs": [
        {
          "output_type": "execute_result",
          "data": {
            "text/plain": [
              "17"
            ]
          },
          "metadata": {},
          "execution_count": 16
        }
      ]
    },
    {
      "cell_type": "code",
      "source": [
        "sorted(mylist)[8]\n",
        "# median: middle value in sorted list\n",
        "# 17+1/2 = 18/2 = 9th value = at 8th index"
      ],
      "metadata": {
        "colab": {
          "base_uri": "https://localhost:8080/"
        },
        "id": "qrcly2WMmExD",
        "outputId": "c4fadf09-27c1-4185-c68e-ce93811575ef"
      },
      "execution_count": null,
      "outputs": [
        {
          "output_type": "execute_result",
          "data": {
            "text/plain": [
              "7"
            ]
          },
          "metadata": {},
          "execution_count": 17
        }
      ]
    },
    {
      "cell_type": "markdown",
      "source": [
        "### np.median(ndarray or list)"
      ],
      "metadata": {
        "id": "kw8-BB8NRhPY"
      }
    },
    {
      "cell_type": "code",
      "source": [
        "np.median(mylist)\n",
        "# median using Numpy median method for the array / list"
      ],
      "metadata": {
        "colab": {
          "base_uri": "https://localhost:8080/"
        },
        "id": "eFxXiudUmY0B",
        "outputId": "f238beaf-69cc-4513-aaef-4a28177e3f16"
      },
      "execution_count": null,
      "outputs": [
        {
          "output_type": "execute_result",
          "data": {
            "text/plain": [
              "7.0"
            ]
          },
          "metadata": {},
          "execution_count": 18
        }
      ]
    },
    {
      "cell_type": "markdown",
      "source": [
        "### Mean vs. Median ... when to use mean and when median\n",
        "- mean might skew your average value drastically, while median does not skew the middle value\n",
        "\n",
        "1. mean should be used when\n",
        "    - when data distribution is symmetric\n",
        "    - data doesnot have any extreme values\n",
        "2. for symmetric distribution, both mean & median are almost same\n",
        "3. for skewed distribution, median better represents the central tendency\n",
        "4. median is a robust statistic, mean is sensitive to outliers and skewed distributions\n",
        "5. use median only for Skewed distribution, Continuous data, Ordinal data\n",
        "\n",
        "### Note\n",
        "- if data is symmetric, then mean = median\n",
        "- example of symmetric distribution is normal distribution curve/ bell curve"
      ],
      "metadata": {
        "id": "G2Oy2a6VnGp7"
      }
    },
    {
      "cell_type": "code",
      "source": [
        "sal = [6, 7, 6, 7, 6, 7, 8, 8, 6, 7, 6, 8, 8, 7, 7,8, 6, 7, 8, 6]\n",
        "# list with symmetric/normal distribution"
      ],
      "metadata": {
        "id": "mKYlKzfDma-L"
      },
      "execution_count": null,
      "outputs": []
    },
    {
      "cell_type": "code",
      "source": [
        "np.mean(sal)\n",
        "# Mean / Average"
      ],
      "metadata": {
        "colab": {
          "base_uri": "https://localhost:8080/"
        },
        "id": "S147yOQ9ncVD",
        "outputId": "fd42b559-128e-4c0b-d8c3-f34d953fa804"
      },
      "execution_count": null,
      "outputs": [
        {
          "output_type": "execute_result",
          "data": {
            "text/plain": [
              "6.95"
            ]
          },
          "metadata": {},
          "execution_count": 20
        }
      ]
    },
    {
      "cell_type": "code",
      "source": [
        "np.median(sal)\n",
        "# Median\n",
        "\n",
        "# note that, for symmetric data, as there are no extreme values\n",
        "# so mean & median are almost same"
      ],
      "metadata": {
        "colab": {
          "base_uri": "https://localhost:8080/"
        },
        "id": "UXBP_FFFniyG",
        "outputId": "7e499ff0-08c4-459f-bd7e-fdaead2565c0"
      },
      "execution_count": null,
      "outputs": [
        {
          "output_type": "execute_result",
          "data": {
            "text/plain": [
              "7.0"
            ]
          },
          "metadata": {},
          "execution_count": 21
        }
      ]
    },
    {
      "cell_type": "code",
      "source": [
        "new_sal = [6, 7, 6, 7, 6, 7, 8, 8, 6, 7, 6, 8, 8, 7, 7,8, 6, 7, 8, 6, 54, 50, 52]\n",
        "# list with extreme values, does not follow symmetric distribution"
      ],
      "metadata": {
        "id": "aGcQGKotnleB"
      },
      "execution_count": null,
      "outputs": []
    },
    {
      "cell_type": "code",
      "source": [
        "np.mean(new_sal)\n",
        "# as there are extreme values, so mean / average might be misleading"
      ],
      "metadata": {
        "colab": {
          "base_uri": "https://localhost:8080/"
        },
        "id": "qLTEmPN1oFBB",
        "outputId": "40ad75ba-2676-4249-d77e-7748282039b9"
      },
      "execution_count": null,
      "outputs": [
        {
          "output_type": "execute_result",
          "data": {
            "text/plain": [
              "12.826086956521738"
            ]
          },
          "metadata": {},
          "execution_count": 23
        }
      ]
    },
    {
      "cell_type": "code",
      "source": [
        "np.median(new_sal)\n",
        "#  median shows better reality for middle value\n",
        "# note that, as there are extreme values, mean has changed drastically\n",
        "# but median is not impacted"
      ],
      "metadata": {
        "colab": {
          "base_uri": "https://localhost:8080/"
        },
        "id": "i-_aIvQDoHCg",
        "outputId": "8e9b0094-07d9-41e7-f7ce-bcdb9ea6b706"
      },
      "execution_count": null,
      "outputs": [
        {
          "output_type": "execute_result",
          "data": {
            "text/plain": [
              "7.0"
            ]
          },
          "metadata": {},
          "execution_count": 24
        }
      ]
    },
    {
      "cell_type": "markdown",
      "source": [
        "## Mode\n",
        "- most frequent value\n",
        "- two value can be mode if both hold the highest frequency\n",
        "- if no value is repeating, (all values have frequency=1), then data does not have a mode\n",
        "- use mode for categorical , ordinal and discrete data only\n",
        "\n",
        "\n",
        "### Note\n",
        "- for symmetrical data, mean, median and mode are same"
      ],
      "metadata": {
        "id": "3yokQYENssD7"
      }
    },
    {
      "cell_type": "code",
      "source": [
        "from collections import Counter"
      ],
      "metadata": {
        "id": "fJRxkhmSoI64"
      },
      "execution_count": null,
      "outputs": []
    },
    {
      "cell_type": "code",
      "source": [
        "mylist = [3, 6, 5, 4, 7, 6, 8, 9, 1, 10, 13, 4, 7, 11, 4, 7, 9]\n",
        "# create a list of values\n",
        "mylist\n",
        "# printing the list"
      ],
      "metadata": {
        "colab": {
          "base_uri": "https://localhost:8080/"
        },
        "id": "ccPDDKtwsJNG",
        "outputId": "9626ba61-7d86-48ab-ab91-b2cadbc7b683"
      },
      "execution_count": null,
      "outputs": [
        {
          "output_type": "execute_result",
          "data": {
            "text/plain": [
              "[3, 6, 5, 4, 7, 6, 8, 9, 1, 10, 13, 4, 7, 11, 4, 7, 9]"
            ]
          },
          "metadata": {},
          "execution_count": 26
        }
      ]
    },
    {
      "cell_type": "code",
      "source": [
        "Counter(mylist).most_common()\n",
        "# returns unique values and their espective count\n",
        "# Mode: element with most number of occurences\n",
        "# mode is 4, 7 with frequecy 3"
      ],
      "metadata": {
        "colab": {
          "base_uri": "https://localhost:8080/"
        },
        "id": "vS2vdGcbr08U",
        "outputId": "3bf9bcdd-e825-4b67-8b8e-193276fc9cae"
      },
      "execution_count": null,
      "outputs": [
        {
          "output_type": "execute_result",
          "data": {
            "text/plain": [
              "[(4, 3),\n",
              " (7, 3),\n",
              " (6, 2),\n",
              " (9, 2),\n",
              " (3, 1),\n",
              " (5, 1),\n",
              " (8, 1),\n",
              " (1, 1),\n",
              " (10, 1),\n",
              " (13, 1),\n",
              " (11, 1)]"
            ]
          },
          "metadata": {},
          "execution_count": 27
        }
      ]
    },
    {
      "cell_type": "markdown",
      "source": [
        "# Variation or Dispersion\n",
        "1. Range\n",
        "2. Inter-Quartile Range\n",
        "3. Variance\n",
        "4. Standard Deviation"
      ],
      "metadata": {
        "id": "PfY1VlbGtaYo"
      }
    },
    {
      "cell_type": "markdown",
      "source": [
        "## Range\n",
        "- easiest to calulate, simplest measure of dispersion\n",
        "- denotes the spread of observations\n",
        "- difference between maximum (0th Percentile) and minimum (100th percentile)\n",
        "- ```range(X) = max(x) - min(x)```\n",
        "\n",
        "\n",
        "### Drawbacks of range\n",
        "1. it uses only two elements of multiple elements, which does not describe intermediate values, making it unreliable if intermediate values change\n",
        "2. calculation of range can be affected by presence of extreme values\n",
        "3. does tell anything about variablility of other data"
      ],
      "metadata": {
        "id": "dS5pVyIutuwN"
      }
    },
    {
      "cell_type": "code",
      "source": [
        "mylist = [3, 6, 5, 4, 7, 6, 8, 9, 1, 10, 13, 4, 7, 11, 4, 7, 9]\n",
        "# create a list of values\n",
        "mylist\n",
        "# printing the list"
      ],
      "metadata": {
        "colab": {
          "base_uri": "https://localhost:8080/"
        },
        "id": "eLRCWlQvr3uN",
        "outputId": "b1a91178-e41c-4b2e-a245-cd86bf0bb585"
      },
      "execution_count": null,
      "outputs": [
        {
          "output_type": "execute_result",
          "data": {
            "text/plain": [
              "[3, 6, 5, 4, 7, 6, 8, 9, 1, 10, 13, 4, 7, 11, 4, 7, 9]"
            ]
          },
          "metadata": {},
          "execution_count": 28
        }
      ]
    },
    {
      "cell_type": "code",
      "source": [
        "max(mylist) - min(mylist)\n",
        "# range: max - min\n",
        "# printing the range for list 'mylist'"
      ],
      "metadata": {
        "colab": {
          "base_uri": "https://localhost:8080/"
        },
        "id": "9vjpLNOxtfhE",
        "outputId": "0cda4655-3438-4c1b-8916-135e0053252c"
      },
      "execution_count": null,
      "outputs": [
        {
          "output_type": "execute_result",
          "data": {
            "text/plain": [
              "12"
            ]
          },
          "metadata": {},
          "execution_count": 29
        }
      ]
    },
    {
      "cell_type": "code",
      "source": [
        "x = [1, 4, 4, 7, 5, 8, 9, 3, 10]\n",
        "max(x)-min(x)\n",
        "# printing the range for list 'x'"
      ],
      "metadata": {
        "colab": {
          "base_uri": "https://localhost:8080/"
        },
        "id": "XtPCRucOtpSK",
        "outputId": "61d4ac25-79c6-4db6-e38e-90c8195c9421"
      },
      "execution_count": null,
      "outputs": [
        {
          "output_type": "execute_result",
          "data": {
            "text/plain": [
              "9"
            ]
          },
          "metadata": {},
          "execution_count": 30
        }
      ]
    },
    {
      "cell_type": "code",
      "source": [
        "y = [1, 4, 4, 4, 4, 4, 4, 4, 10]\n",
        "max(y)-min(y)\n",
        "# printing the range for list 'y'"
      ],
      "metadata": {
        "colab": {
          "base_uri": "https://localhost:8080/"
        },
        "id": "JotO5yJRuMet",
        "outputId": "da1b38f3-2c86-49e3-af6f-2c0cfaf227f1"
      },
      "execution_count": null,
      "outputs": [
        {
          "output_type": "execute_result",
          "data": {
            "text/plain": [
              "9"
            ]
          },
          "metadata": {},
          "execution_count": 31
        }
      ]
    },
    {
      "cell_type": "markdown",
      "source": [
        "## Inter-Quartile Range (IQR)\n",
        "- Inter-Quartile Range\n",
        "- consists of the central 50% of the data\n",
        "    - ```IQR = Q3 - Q1```\n",
        "            IQR = third quartile - first quartile\n",
        "            IQR = 75th percentile - 25th percentile\n",
        "\n",
        "- cannot calculate IQR directly in python, first calulate 75th percentile & 25th percentile using ```np.percentile(ndarray, percentile)```, and then find the difference"
      ],
      "metadata": {
        "id": "GMkdxmAmv_D-"
      }
    },
    {
      "cell_type": "code",
      "source": [
        "mylist = [3, 6, 5, 4, 7, 6, 8, 9, 1, 10, 13, 4, 7, 11, 4, 7, 9]\n",
        "# create a list of values\n",
        "mylist\n",
        "# printing the list"
      ],
      "metadata": {
        "colab": {
          "base_uri": "https://localhost:8080/"
        },
        "id": "rYzV6syrubJS",
        "outputId": "f9300ff6-b5c5-4c68-d60e-ccd6f13a903e"
      },
      "execution_count": null,
      "outputs": [
        {
          "output_type": "execute_result",
          "data": {
            "text/plain": [
              "[3, 6, 5, 4, 7, 6, 8, 9, 1, 10, 13, 4, 7, 11, 4, 7, 9]"
            ]
          },
          "metadata": {},
          "execution_count": 32
        }
      ]
    },
    {
      "cell_type": "markdown",
      "source": [
        "#### np.percentile(ndarray, percentile)"
      ],
      "metadata": {
        "id": "tAx-dq6_NNbc"
      }
    },
    {
      "cell_type": "code",
      "source": [
        "np.percentile(mylist, 75)\n",
        "# calculates 75th percentile"
      ],
      "metadata": {
        "colab": {
          "base_uri": "https://localhost:8080/"
        },
        "id": "plgvtoAzw_ZG",
        "outputId": "fceb8e8b-fd49-46cb-c006-abcb8335a74e"
      },
      "execution_count": null,
      "outputs": [
        {
          "output_type": "execute_result",
          "data": {
            "text/plain": [
              "9.0"
            ]
          },
          "metadata": {},
          "execution_count": 33
        }
      ]
    },
    {
      "cell_type": "code",
      "source": [
        "np.percentile(mylist, 75) - np.percentile(mylist, 25)\n",
        "# IQR = 75th percentile - 25th percentile\n",
        "# calculates IQR"
      ],
      "metadata": {
        "colab": {
          "base_uri": "https://localhost:8080/"
        },
        "id": "Hj2KU8iIw4uI",
        "outputId": "5b039f93-9a99-4c33-d7ed-a9b43960cdb3"
      },
      "execution_count": null,
      "outputs": [
        {
          "output_type": "execute_result",
          "data": {
            "text/plain": [
              "5.0"
            ]
          },
          "metadata": {},
          "execution_count": 34
        }
      ]
    },
    {
      "cell_type": "code",
      "source": [
        "x = [1, 4, 4, 7, 5, 8, 9, 3, 10]\n",
        "# asymmetric data - has extreme values/ skewed distribution\n",
        "y = [1, 4, 4, 4, 4, 4, 4, 4, 10]\n",
        "# symmetric data - has normal distribution"
      ],
      "metadata": {
        "id": "049Gxh7sw9s1"
      },
      "execution_count": null,
      "outputs": []
    },
    {
      "cell_type": "code",
      "source": [
        "np.percentile(x, 75) - np.percentile(x, 25)\n",
        "# for asymmetric data, there will be some value of IQR"
      ],
      "metadata": {
        "colab": {
          "base_uri": "https://localhost:8080/"
        },
        "id": "1rACUxCxxjBL",
        "outputId": "e2ec2eca-9daf-4fa3-ac66-5d86d9732a59"
      },
      "execution_count": null,
      "outputs": [
        {
          "output_type": "execute_result",
          "data": {
            "text/plain": [
              "4.0"
            ]
          },
          "metadata": {},
          "execution_count": 36
        }
      ]
    },
    {
      "cell_type": "code",
      "source": [
        "np.percentile(y, 75) - np.percentile(y, 25)\n",
        "# for symmetric data, IQR is zero\n",
        "# it has same value on both sides of median, so IQR = zero"
      ],
      "metadata": {
        "colab": {
          "base_uri": "https://localhost:8080/"
        },
        "id": "J6T5dICZxvP3",
        "outputId": "85b6304f-6ce8-40a1-8f82-b9dc23e1230c"
      },
      "execution_count": null,
      "outputs": [
        {
          "output_type": "execute_result",
          "data": {
            "text/plain": [
              "0.0"
            ]
          },
          "metadata": {},
          "execution_count": 37
        }
      ]
    },
    {
      "cell_type": "markdown",
      "source": [
        "## Deviation, D\n",
        "- calculated by taking the differences between each number in the data set and the mean\n",
        "- deviation of each observation (```X```) w.r.t. Sample Mean (```x̄```), which can be +ve or -ve\n",
        "- sum of all devations is zero\n",
        "- ```Deviation, D  = Observation - Sample Mean```\n",
        "- ```Deviation, D  = Xn - x̄```\n"
      ],
      "metadata": {
        "id": "9blydgyFTje2"
      }
    },
    {
      "cell_type": "markdown",
      "source": [
        "## Variance S^2  or  σ^2\n",
        "- measures how far each number in the set is from the mean\n",
        "- measurement of the spread between numbers in a data set\n",
        "- square of deviation for each observation\n",
        "- unit is also squared, as it is squared to remove negative values\n",
        "\n",
        "1. Sample Variance, S^2\n",
        "    - ```Sample Variance, S^2 = (Observation - Sample Mean)^2/Number Of Values```\n",
        "    - ```Sample Variance, S^2 = Σ(Xn - x̄)^2 / n-1```\n",
        "2. Population Variance, σ^2\n",
        "    - ```Population Variance, σ^2 = (Observation - Population Mean)^2/Number Of Values```\n",
        "    - ```Population Variance, σ^2 = (Xn - µ)^2 / N```"
      ],
      "metadata": {
        "id": "Yb0irkoBz3v3"
      }
    },
    {
      "cell_type": "markdown",
      "source": [
        "#### np.var(ndarray, ddof=0)"
      ],
      "metadata": {
        "id": "rRr4fmdwPZre"
      }
    },
    {
      "cell_type": "code",
      "source": [
        "x = [4, 6, 7, 9, 10, 3, 5, 8, 3, 7]"
      ],
      "metadata": {
        "id": "akRaXswZx1kz"
      },
      "execution_count": null,
      "outputs": []
    },
    {
      "cell_type": "code",
      "source": [
        "np.var(x, ddof=0)\n",
        "# when ddof=0, calculates Population Variance"
      ],
      "metadata": {
        "colab": {
          "base_uri": "https://localhost:8080/"
        },
        "id": "ORXUElOuFhgb",
        "outputId": "ff18462e-3ddf-4dbe-da4f-80320f7bc272"
      },
      "execution_count": null,
      "outputs": [
        {
          "output_type": "execute_result",
          "data": {
            "text/plain": [
              "5.36"
            ]
          },
          "metadata": {},
          "execution_count": 48
        }
      ]
    },
    {
      "cell_type": "code",
      "source": [
        "np.var(x, ddof=1)\n",
        "# when ddof=0, calculates Sample Variance"
      ],
      "metadata": {
        "colab": {
          "base_uri": "https://localhost:8080/"
        },
        "id": "M33OEccZF1jI",
        "outputId": "d5217ee1-feff-4108-ff5c-695245b160fc"
      },
      "execution_count": null,
      "outputs": [
        {
          "output_type": "execute_result",
          "data": {
            "text/plain": [
              "5.955555555555556"
            ]
          },
          "metadata": {},
          "execution_count": 49
        }
      ]
    },
    {
      "cell_type": "code",
      "source": [
        "np.var(x, ddof=0)**0.5\n",
        "# population standard deviation is square root of population variance"
      ],
      "metadata": {
        "colab": {
          "base_uri": "https://localhost:8080/"
        },
        "id": "rEvFLJp-F7qs",
        "outputId": "fbe06123-66bf-4189-fa62-b57fa0a71605"
      },
      "execution_count": null,
      "outputs": [
        {
          "output_type": "execute_result",
          "data": {
            "text/plain": [
              "2.3151673805580453"
            ]
          },
          "metadata": {},
          "execution_count": 50
        }
      ]
    },
    {
      "cell_type": "markdown",
      "source": [
        "## Standard Deviation, σ  or S.D.\n",
        "- square root of variance\n",
        "- unit is same as observation data, as it is square root of variance\n",
        "- represents the average distance from the mean\n",
        "- S.D. reflects the extent of variation in data\n",
        "- As variation increases, value of S.D also increases\n",
        "\n",
        "1. Sample S.D.\n",
        "    - ```Sample S.D., σ = sqrt(sum(Observation - Sample Mean)**2/Number Of Values)```\n",
        "    - ```Sample S.D., σ = sqrt(Σ(Xn - x̄)**2 / n-1)```\n",
        "2. Population S.D.\n",
        "    - ```Population S.D., σ = sqrt(sum(Observation - Population Mean)**2/Number Of Values)```\n",
        "    - ```Population S.D., σ = sqrt(Σ(Xn - µ)**2 / N)```\n",
        "\n",
        "- ```Sample S.D.``` > ```Population S.D.``` because there is uncertainity in sample S.D. as dof is more\n",
        "- ```degreee of freedom (dof) = Sample Size (N) - 1```"
      ],
      "metadata": {
        "id": "oGq9dvAybwWk"
      }
    },
    {
      "cell_type": "markdown",
      "source": [
        "#### np.std(ndarray, ddof=0)"
      ],
      "metadata": {
        "id": "UMkR9khOPAae"
      }
    },
    {
      "cell_type": "code",
      "source": [
        "np.std(x, ddof=0)\n",
        "# when ddof=0, calculates Population standard deviation\n",
        "# ddof : delta degree of freedom"
      ],
      "metadata": {
        "colab": {
          "base_uri": "https://localhost:8080/"
        },
        "id": "l7LdLUi2GG1L",
        "outputId": "5cc15e3a-1d5c-4f9a-c265-65cc3d77fc14"
      },
      "execution_count": null,
      "outputs": [
        {
          "output_type": "execute_result",
          "data": {
            "text/plain": [
              "2.3151673805580453"
            ]
          },
          "metadata": {},
          "execution_count": 51
        }
      ]
    },
    {
      "cell_type": "code",
      "source": [
        "np.std(x)\n",
        "# when ddof is not specified, ddof=0, calculates Population standard deviation"
      ],
      "metadata": {
        "colab": {
          "base_uri": "https://localhost:8080/"
        },
        "id": "vh5VdAagGdKu",
        "outputId": "d1705cb9-f340-4382-c22d-27bc8abfbd68"
      },
      "execution_count": null,
      "outputs": [
        {
          "output_type": "execute_result",
          "data": {
            "text/plain": [
              "2.3151673805580453"
            ]
          },
          "metadata": {},
          "execution_count": 52
        }
      ]
    },
    {
      "cell_type": "code",
      "source": [
        "np.std(x, ddof=1)\n",
        "# sample standard deviation\n",
        "# when ddof=1, calculates Sample standard deviation"
      ],
      "metadata": {
        "colab": {
          "base_uri": "https://localhost:8080/"
        },
        "id": "kc_PQ0t0GRzl",
        "outputId": "ef26d176-266d-4061-eb88-804fd76c61ab"
      },
      "execution_count": null,
      "outputs": [
        {
          "output_type": "execute_result",
          "data": {
            "text/plain": [
              "2.440400695696417"
            ]
          },
          "metadata": {},
          "execution_count": 53
        }
      ]
    },
    {
      "cell_type": "code",
      "source": [
        "x = [4, 7, 6, 8, 9, 2, 3, 5, 4, 7]"
      ],
      "metadata": {
        "id": "mHtqmSNPTcD9"
      },
      "execution_count": null,
      "outputs": []
    },
    {
      "cell_type": "code",
      "source": [
        "np.std(x, ddof=0)\n",
        "# population standard deviation"
      ],
      "metadata": {
        "colab": {
          "base_uri": "https://localhost:8080/"
        },
        "id": "VrTvFT9iTd1z",
        "outputId": "852facad-5653-4f60-ca9d-e2c477040dd2"
      },
      "execution_count": null,
      "outputs": [
        {
          "output_type": "execute_result",
          "data": {
            "text/plain": [
              "2.1563858652847827"
            ]
          },
          "metadata": {},
          "execution_count": 55
        }
      ]
    },
    {
      "cell_type": "code",
      "source": [
        "np.std(x, ddof=1)\n",
        "# sample standard deviation"
      ],
      "metadata": {
        "colab": {
          "base_uri": "https://localhost:8080/"
        },
        "id": "VZSdVIJVTiaH",
        "outputId": "da40dc0c-c421-4d34-9513-d9b4538d79cb"
      },
      "execution_count": null,
      "outputs": [
        {
          "output_type": "execute_result",
          "data": {
            "text/plain": [
              "2.273030282830976"
            ]
          },
          "metadata": {},
          "execution_count": 56
        }
      ]
    },
    {
      "cell_type": "markdown",
      "source": [
        "## Shape\n",
        "1. skewness - for location of peak\n",
        "2. kurtosis - for nature of peak"
      ],
      "metadata": {
        "id": "Ws2PgyTfTR6B"
      }
    },
    {
      "cell_type": "markdown",
      "source": [
        "### Skewness, Skew[X]\n",
        "- measure of the lack of symmetry\n",
        "1. Symmetric\n",
        "    - A distribution, or data set, is symmetric if it looks the same to the left and right of the center point\n",
        "    - for symmetric curve\n",
        "    - normal distribution\n",
        "    - ```Skew[X] = 0```\n",
        "    - e.g. bell curve / normal distribution\n",
        "\n",
        "2. peak at left\n",
        "    - when peak is at left, it is Right skewed\n",
        "    - positively skewed, ```Skew[X] > 0 (+ve)```\n",
        "    - e.g. salary distribution of employees, seniors have more salary but have less frequency,\n",
        "\n",
        "3. peak at right\n",
        "    - when peak is at right, it is Left skewed\n",
        "    - negatively skewed, ``` Skew[X] < 0 (-ve)```\n",
        "    - e.g. age distribution of members of parliament, young people are very\n",
        "\n",
        "### Note:\n",
        "- Using skewness, we can predict if calculating mean would be risky or not, because mean for data which is not normally distributed, would be incorrect"
      ],
      "metadata": {
        "id": "r9KGQ7qIW8j6"
      }
    },
    {
      "cell_type": "code",
      "source": [
        "import scipy\n",
        "from scipy import stats"
      ],
      "metadata": {
        "id": "0GVjB85YZGqM"
      },
      "execution_count": null,
      "outputs": []
    },
    {
      "cell_type": "code",
      "source": [
        "x = [1,1,2,2,2,2,2,2,2,2,2,2,3,3,3,4,4,5,6]\n",
        "y = [1,2,2,3,3,4,4,4,5,5,5,5,5,5,5,5,5,5,6,6,7]\n",
        "z = [1,1,2,2,2,3,3,3,3,4,4,4,4,4,4,4,4,4,4,4,4,4,4,5,5,5,5,6,6,6,7,7]"
      ],
      "metadata": {
        "id": "41u5g70oZf3N"
      },
      "execution_count": null,
      "outputs": []
    },
    {
      "cell_type": "code",
      "source": [
        "scipy.stats.skew(x)\n",
        "# Positive skewness means Right Skewed or peak at left"
      ],
      "metadata": {
        "colab": {
          "base_uri": "https://localhost:8080/"
        },
        "id": "pqDPp456ZjQ9",
        "outputId": "5280d022-9a0a-44f4-c2c4-c07fe2a95b3d"
      },
      "execution_count": null,
      "outputs": [
        {
          "output_type": "execute_result",
          "data": {
            "text/plain": [
              "1.1839325019418967"
            ]
          },
          "metadata": {},
          "execution_count": 59
        }
      ]
    },
    {
      "cell_type": "code",
      "source": [
        "scipy.stats.skew(y)\n",
        "# Negative skewness means Left Skewed or peak at right"
      ],
      "metadata": {
        "colab": {
          "base_uri": "https://localhost:8080/"
        },
        "id": "WY4cGAofZnAp",
        "outputId": "7d9e332f-ccee-45fc-9456-2ffe3fd72c46"
      },
      "execution_count": null,
      "outputs": [
        {
          "output_type": "execute_result",
          "data": {
            "text/plain": [
              "-0.6877802002110032"
            ]
          },
          "metadata": {},
          "execution_count": 60
        }
      ]
    },
    {
      "cell_type": "code",
      "source": [
        "scipy.stats.skew(z)\n",
        "# Zero skewness means Normal Distribution"
      ],
      "metadata": {
        "colab": {
          "base_uri": "https://localhost:8080/"
        },
        "id": "8iWSfzO_Zoqm",
        "outputId": "fca5e495-7a9b-4ce2-e9f2-70db5b3ab6f3"
      },
      "execution_count": null,
      "outputs": [
        {
          "output_type": "execute_result",
          "data": {
            "text/plain": [
              "0.0"
            ]
          },
          "metadata": {},
          "execution_count": 61
        }
      ]
    },
    {
      "cell_type": "markdown",
      "source": [
        "### Kurtosis, K\n",
        "- is a unitless measure that describes sharpness of the peak\n",
        "- describes range of data, how much of variation is there in data\n",
        "- degree to which data values are concentrated around the mean\n",
        "- measure of whether the data are heavy-tailed or light-tailed relative to a normal distribution\n",
        "\n",
        "1. mesokurtic\n",
        "    - for normal distribution curve or bell curve\n",
        "    - ```kurtosis = 0```\n",
        "\n",
        "2. leptokurtic\n",
        "if curve is sharper than normal distribution curve\n",
        "    - heavy tails, ```kurtosis > 0 (+ve)```\n",
        "    - more peaked as compared to normal distribution curve\n",
        "    - peak is prominent, so many outliers\n",
        "\n",
        "3. platykurtic\n",
        "    - light tails, ```kurtosis < 0 (-ve)```\n",
        "    - if curve is flat than normal distribution curve\n",
        "    - less peaked than normal distribution curve\n",
        "    - peak is less prominent, so fewer outliers\n",
        "\n",
        "\n",
        "### Note:\n",
        "- higher the Kurtosis (+ve or -ve), means some elements have very high frequency"
      ],
      "metadata": {
        "id": "JqucvtenbLlM"
      }
    },
    {
      "cell_type": "code",
      "source": [
        "x = [1,1,1,2,2,2,3,3,3,3,4,4,4,4,4,5,5,5,5,6,6,6,7,7]\n",
        "y = [1,1,2,2,2,3,3,3,3,4,4,4,4,4,4,4,4,4,4,4,4,4,4,4,4,4,4,4,4,4,4,5,5,5,5,6,6,6,7,7]"
      ],
      "metadata": {
        "id": "H84CXzmLh7HR"
      },
      "execution_count": null,
      "outputs": []
    },
    {
      "cell_type": "code",
      "source": [
        "scipy.stats.kurtosis(y)\n",
        "# positive kurtosis means sharp curve"
      ],
      "metadata": {
        "colab": {
          "base_uri": "https://localhost:8080/"
        },
        "id": "bjExqI2nh_Ld",
        "outputId": "e653e8e9-2386-497f-d640-27c1ba6de99e"
      },
      "execution_count": null,
      "outputs": [
        {
          "output_type": "execute_result",
          "data": {
            "text/plain": [
              "0.70242214532872"
            ]
          },
          "metadata": {},
          "execution_count": 63
        }
      ]
    },
    {
      "cell_type": "code",
      "source": [
        "scipy.stats.kurtosis(x)\n",
        "# negative kurtosis means flat curve"
      ],
      "metadata": {
        "colab": {
          "base_uri": "https://localhost:8080/"
        },
        "id": "fps6vjowiA4G",
        "outputId": "3764f648-bf6f-4b87-d2e2-92e721804616"
      },
      "execution_count": null,
      "outputs": [
        {
          "output_type": "execute_result",
          "data": {
            "text/plain": [
              "-0.9451498127839182"
            ]
          },
          "metadata": {},
          "execution_count": 64
        }
      ]
    },
    {
      "cell_type": "markdown",
      "source": [
        "# Laptop Project\n",
        "### Refer: use data.xlsx file\n",
        "- Q1. How many laptops did I sell overall?\n",
        "How many of those where Dell Laptops(absolute and percentage)?\n",
        "- Q2. What was my total revenue?\n",
        "How much of that can be contributed to Dell(absolute and percentage)?\n",
        "- Q4. How is the revenue distributed over laptop categories?\n",
        "- Q5. What is the best selling continent, country and city?\n",
        "\n",
        "\n"
      ],
      "metadata": {
        "id": "lNlAMX1vHaFA"
      }
    }
  ]
}