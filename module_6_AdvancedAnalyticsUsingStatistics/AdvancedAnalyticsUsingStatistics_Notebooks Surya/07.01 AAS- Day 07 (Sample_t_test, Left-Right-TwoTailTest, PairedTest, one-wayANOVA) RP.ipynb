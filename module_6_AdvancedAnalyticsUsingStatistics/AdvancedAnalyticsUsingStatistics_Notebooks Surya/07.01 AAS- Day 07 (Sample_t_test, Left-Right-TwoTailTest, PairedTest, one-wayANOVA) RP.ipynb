{
  "nbformat": 4,
  "nbformat_minor": 0,
  "metadata": {
    "colab": {
      "provenance": [],
      "toc_visible": true
    },
    "kernelspec": {
      "name": "python3",
      "display_name": "Python 3"
    },
    "language_info": {
      "name": "python"
    }
  },
  "cells": [
    {
      "cell_type": "markdown",
      "source": [
        "## Sample t test / Sample Z test\n",
        "\n",
        "1. one-sample t test / one-sample Z test\n",
        "2. two-sample t test / two-sample Z test\n",
        "- uses ztest\n",
        "- used to compare mean against a claimed value"
      ],
      "metadata": {
        "id": "wRmgxqfMBYvt"
      }
    },
    {
      "cell_type": "markdown",
      "source": [
        "### one-sample t test / one-sample Z test\n",
        "- one-sample t test is used to comapre the mean/average of a sample against a claimed value and establish whether the difference between them is statistically significant or not\n",
        "\n",
        "- z-test\n",
        "    - population S.D. should be known\n",
        "    - we work with sample S.D.\n",
        "    - Sample size, n > 30\n",
        "- t-test\n",
        "    - Sample S.D should be known\n",
        "    - Sample size, n <= 30\n",
        "- data should follow normal distribution"
      ],
      "metadata": {
        "id": "2y0vlzyDjBQZ"
      }
    },
    {
      "cell_type": "markdown",
      "source": [
        "#### import statsmodels.stats.weightstats"
      ],
      "metadata": {
        "id": "byJmnpeaBwka"
      }
    },
    {
      "cell_type": "code",
      "execution_count": null,
      "metadata": {
        "id": "_ucDIJ3yeqnb"
      },
      "outputs": [],
      "source": [
        "import numpy as np\n",
        "import pandas as pd\n",
        "# import numpy & pandas\n",
        "\n",
        "import statsmodels\n",
        "from statsmodels import stats\n",
        "from statsmodels.stats import weightstats\n",
        "# for ztest"
      ]
    },
    {
      "cell_type": "markdown",
      "source": [
        "#### np.mean(ndarray)"
      ],
      "metadata": {
        "id": "qGq7P5FyB4NS"
      }
    },
    {
      "cell_type": "code",
      "source": [
        "x = [3, 7, 6, 5, 9, 8, 2, 3, 5, 4, 6, 7]\n",
        "# create a list of Sample data"
      ],
      "metadata": {
        "id": "8G1bXcs3i1K3"
      },
      "execution_count": null,
      "outputs": []
    },
    {
      "cell_type": "markdown",
      "source": [
        "- Q1.\n",
        "- I'm claiming that the mean of x is more than 6.5\n",
        "- ```Hₒ``` : mean(x) >= 6.5\n",
        "- ```Hᴀ``` / ```H1``` : mean(x) < 6.5"
      ],
      "metadata": {
        "id": "Bgwfk5wcjkYI"
      }
    },
    {
      "cell_type": "code",
      "source": [
        "np.mean(x)\n",
        "# actual sample Mean x̄ to be used to compare with claimed mean\n",
        "# and then cestablish whether difference is staistically significant or not"
      ],
      "metadata": {
        "colab": {
          "base_uri": "https://localhost:8080/"
        },
        "id": "9tWvTSd-FSUe",
        "outputId": "4fd7cadf-ab89-46cb-a1b1-7447efce9430"
      },
      "execution_count": null,
      "outputs": [
        {
          "output_type": "execute_result",
          "data": {
            "text/plain": [
              "5.416666666666667"
            ]
          },
          "metadata": {},
          "execution_count": 3
        }
      ]
    },
    {
      "cell_type": "markdown",
      "source": [
        "##### statsmodels.stats.weightstats.ztest(Sample, value=ClaimValue, alternative='Sign of Hᴀ')"
      ],
      "metadata": {
        "id": "w-R4-DiXmY2a"
      }
    },
    {
      "cell_type": "code",
      "source": [
        "statsmodels.stats.weightstats.ztest(x, value=6.5, alternative='smaller')\n",
        "# statsmodels.stats.weightstats.ztest(list/ndarray, value=Claimed Value, alternative=Sign Of Hᴀ)\n",
        "# returns (TestStatistics, P-Value)"
      ],
      "metadata": {
        "colab": {
          "base_uri": "https://localhost:8080/"
        },
        "id": "0K2_a6aTjjZo",
        "outputId": "03a99968-c7c2-44c8-cfb5-557201bf4a1e"
      },
      "execution_count": null,
      "outputs": [
        {
          "output_type": "execute_result",
          "data": {
            "text/plain": [
              "(-1.744291601622091, 0.04055412767721645)"
            ]
          },
          "metadata": {},
          "execution_count": 4
        }
      ]
    },
    {
      "cell_type": "markdown",
      "source": [
        "- assume ```C.L. = 98%``` means ```LoS = 2% = 0.02```\n",
        "- ```P-value = 0.04055``` > ```LoS = 0.02```\n",
        "- since ```P-Value``` > ```LoS```, we don't reject this ```Hₒ```"
      ],
      "metadata": {
        "id": "QDFtGKMw983L"
      }
    },
    {
      "cell_type": "markdown",
      "source": [
        "- ```P-value = 0.04055``` means there is 4.055% chance that we commit Type 1 error\n",
        "- means 4.055% chances of chance variation so that we might reject this hypothesis"
      ],
      "metadata": {
        "id": "_xJaEUCBCdej"
      }
    },
    {
      "cell_type": "markdown",
      "source": [
        "- if ```p-value < 0.05 = 5%``` , we reject the ```Hₒ``` ,\n",
        "- it means that the difference between Sample Statistics```SS``` & Population Parameter ```PP``` is large enough not to be ignored, so action is required"
      ],
      "metadata": {
        "id": "uzrstDyeEtN-"
      }
    },
    {
      "cell_type": "markdown",
      "source": [
        "Q2.\n",
        "- Now, I'm claiming, that mean of x is more than 6.0\n",
        "- ```Hₒ``` : mean(x) >= 6.0\n",
        "- ```Hᴀ``` / ```H1``` : mean(x) < 6.0"
      ],
      "metadata": {
        "id": "QdzCCNpymxT_"
      }
    },
    {
      "cell_type": "code",
      "source": [
        "np.mean(x)\n",
        "# actual sample Mean x̄ to be used to compare with claimed mean\n",
        "# and then cestablish whether difference is stistically significant or not"
      ],
      "metadata": {
        "colab": {
          "base_uri": "https://localhost:8080/"
        },
        "id": "VqzwGo2HFdj6",
        "outputId": "5fa75251-aa1e-4b6d-b40a-e6ec48565857"
      },
      "execution_count": null,
      "outputs": [
        {
          "output_type": "execute_result",
          "data": {
            "text/plain": [
              "5.416666666666667"
            ]
          },
          "metadata": {},
          "execution_count": 5
        }
      ]
    },
    {
      "cell_type": "code",
      "source": [
        "statsmodels.stats.weightstats.ztest(x, value=6.0, alternative='smaller')\n",
        "# statsmodels.stats.weightstats.ztest(list/ndarray, value=Claimed Value, alternative=Sign Of Hᴀ)\n",
        "# returns (TestStatistics, P-Value)"
      ],
      "metadata": {
        "colab": {
          "base_uri": "https://localhost:8080/"
        },
        "id": "Udf9-0pRlpbg",
        "outputId": "d62c5acf-129b-4569-a565-c66bbb57538e"
      },
      "execution_count": null,
      "outputs": [
        {
          "output_type": "execute_result",
          "data": {
            "text/plain": [
              "(-0.9392339393349719, 0.17380532364640544)"
            ]
          },
          "metadata": {},
          "execution_count": 6
        }
      ]
    },
    {
      "cell_type": "markdown",
      "source": [
        "- assume ```C.L. = 98%``` means ```LoS = 2% = 0.02```\n",
        "- ```P-value = 0.1738``` > ```LoS = 0.02```\n",
        "- since ```P-Value``` > ```Los``` , we don't reject this ```Hₒ```\n",
        "- but, ```p-Value = 0.1735 or 17.35%``` , which is very high (although ```> 5% LoS``` is acceptable), so we reject this Null Hypothesis\n"
      ],
      "metadata": {
        "id": "EtYXA72vDclH"
      }
    },
    {
      "cell_type": "markdown",
      "source": [
        "- if ```p-value < 0.05 = 5%``` , we reject the ```Hₒ``` ,\n",
        "- it means that the difference between Sample Statistics```SS``` & Population Parameter ```PP``` is large enough not to be ignored, so action is required"
      ],
      "metadata": {
        "id": "XL7f6QeSEMA2"
      }
    },
    {
      "cell_type": "markdown",
      "source": [
        "#### using Sample S.D. to manually calculate Test Statistics\n"
      ],
      "metadata": {
        "id": "kTqxcJ4Zryw-"
      }
    },
    {
      "cell_type": "markdown",
      "source": [
        "##### np.mean(ndarray)\n",
        "- actual Population Mean (µ)"
      ],
      "metadata": {
        "id": "6CxlpRvSFreH"
      }
    },
    {
      "cell_type": "code",
      "source": [
        "np.mean(x)\n",
        "# actual Population Mean (µ)\n",
        "# to be used to compare with claimed mean\n",
        "# and then cestablish whether difference is stistically significant or not"
      ],
      "metadata": {
        "colab": {
          "base_uri": "https://localhost:8080/"
        },
        "id": "-gurWPbJFey6",
        "outputId": "4c32d87c-0deb-4032-c219-555e85d20634"
      },
      "execution_count": null,
      "outputs": [
        {
          "output_type": "execute_result",
          "data": {
            "text/plain": [
              "5.416666666666667"
            ]
          },
          "metadata": {},
          "execution_count": 7
        }
      ]
    },
    {
      "cell_type": "markdown",
      "source": [
        "##### np.std(ndarray, ddof=1)\n",
        "- Sample Standard Deviation (σ)"
      ],
      "metadata": {
        "id": "onlPibHZFx6b"
      }
    },
    {
      "cell_type": "code",
      "source": [
        "np.std(x, ddof=1)\n",
        "# Sample Standard Deviation (σ)"
      ],
      "metadata": {
        "colab": {
          "base_uri": "https://localhost:8080/"
        },
        "id": "ZR-hQbd7n8W6",
        "outputId": "fe7f8977-954d-4513-8035-7747d8c0c849"
      },
      "execution_count": null,
      "outputs": [
        {
          "output_type": "execute_result",
          "data": {
            "text/plain": [
              "2.151461800448216"
            ]
          },
          "metadata": {},
          "execution_count": 8
        }
      ]
    },
    {
      "cell_type": "markdown",
      "source": [
        "##### len(ndaray)\n",
        "- Calculate Sample Size (n)"
      ],
      "metadata": {
        "id": "PuPjC83YGH0P"
      }
    },
    {
      "cell_type": "code",
      "source": [
        "len(x)\n",
        "# Claculate Sample Size (n)"
      ],
      "metadata": {
        "colab": {
          "base_uri": "https://localhost:8080/"
        },
        "id": "UayirMr1r8Rc",
        "outputId": "3b8fb7f6-565a-4372-b666-659359a94e79"
      },
      "execution_count": null,
      "outputs": [
        {
          "output_type": "execute_result",
          "data": {
            "text/plain": [
              "12"
            ]
          },
          "metadata": {},
          "execution_count": 9
        }
      ]
    },
    {
      "cell_type": "markdown",
      "source": [
        "##### Test Statistics formula\n",
        "- ```TestStatistics, Z = (PopulationMean - ClaimedMean) / S.D. / sqrt(SampleSize)```\n",
        "- ```TestStatistics, Z = (µ - X) / ( σ/sqrt(n) )```\n",
        "- ```TestStatistics, Z = (µ - X) / ( σ/(n)**0.5 )```"
      ],
      "metadata": {
        "id": "wv0Lc6-IGiOG"
      }
    },
    {
      "cell_type": "code",
      "source": [
        "(5.416666 - 6.5) / (2.151461800448216/12**0.5)\n",
        "# (µ - X) / (S.D./n**0.5)\n",
        "# test statistics if claimValue=6.5"
      ],
      "metadata": {
        "colab": {
          "base_uri": "https://localhost:8080/"
        },
        "id": "60zpaZrVshXP",
        "outputId": "9895ba9b-1579-44f1-b5a8-068b122cd639"
      },
      "execution_count": null,
      "outputs": [
        {
          "output_type": "execute_result",
          "data": {
            "text/plain": [
              "-1.7442926750323076"
            ]
          },
          "metadata": {},
          "execution_count": 9
        }
      ]
    },
    {
      "cell_type": "code",
      "source": [
        "(5.416666 - 6) / (2.151461800448216/12**0.5)\n",
        "# (µ - X) / (S.D./n**0.5)\n",
        "# test statistics if claimValue=6.0"
      ],
      "metadata": {
        "colab": {
          "base_uri": "https://localhost:8080/"
        },
        "id": "QtrD7RypsOzh",
        "outputId": "92f0cb29-7f8b-4a71-f308-f1160b4ea77d"
      },
      "execution_count": null,
      "outputs": [
        {
          "output_type": "execute_result",
          "data": {
            "text/plain": [
              "-0.9392350127451884"
            ]
          },
          "metadata": {},
          "execution_count": 8
        }
      ]
    },
    {
      "cell_type": "markdown",
      "source": [
        "##### import scipy.stats.norm"
      ],
      "metadata": {
        "id": "m_ba49wc0XBQ"
      }
    },
    {
      "cell_type": "code",
      "source": [
        "import scipy\n",
        "from scipy import stats\n",
        "from scipy.stats import norm"
      ],
      "metadata": {
        "id": "anllVpzuskbn"
      },
      "execution_count": null,
      "outputs": []
    },
    {
      "cell_type": "markdown",
      "source": [
        "##### norm.cdf(Z)"
      ],
      "metadata": {
        "id": "DfbuUsJ42scX"
      }
    },
    {
      "cell_type": "code",
      "source": [
        "norm.cdf(-1.7442926750323076)\n",
        "# to find out area under curve using value on x-axis\n",
        "# returns P-Value when claimValue=6.5"
      ],
      "metadata": {
        "colab": {
          "base_uri": "https://localhost:8080/"
        },
        "id": "7kxZb9a5s4Yo",
        "outputId": "1d0191ec-f098-4206-a3d8-820c4fba956e"
      },
      "execution_count": null,
      "outputs": [
        {
          "output_type": "execute_result",
          "data": {
            "text/plain": [
              "0.040554034138080716"
            ]
          },
          "metadata": {},
          "execution_count": 16
        }
      ]
    },
    {
      "cell_type": "code",
      "source": [
        "norm.cdf(-0.9392350127451884)\n",
        "# to find out area under curve using value on x-axis\n",
        "# returns P-Value when claimValue=6.0"
      ],
      "metadata": {
        "colab": {
          "base_uri": "https://localhost:8080/"
        },
        "id": "sNpj9JeLs6qu",
        "outputId": "25305313-2ebb-4eac-b1ff-050a1a6ff039"
      },
      "execution_count": null,
      "outputs": [
        {
          "output_type": "execute_result",
          "data": {
            "text/plain": [
              "0.17380504814940417"
            ]
          },
          "metadata": {},
          "execution_count": 18
        }
      ]
    },
    {
      "cell_type": "markdown",
      "source": [
        "##### 95% upper bound\n",
        "- ```5.41``` is the Population mean and because error is on left side,\n",
        "we would prefer this to be as high as possible\n",
        "- ```95% upper bound``` : the highest possible value at 95% C.L., is called as 95% upper bound"
      ],
      "metadata": {
        "id": "s5WEw2pGti4i"
      }
    },
    {
      "cell_type": "markdown",
      "source": [
        "##### norm.ppf(area/prob)"
      ],
      "metadata": {
        "id": "SlmoAN2G28QD"
      }
    },
    {
      "cell_type": "code",
      "source": [
        "norm.ppf(0.05)\n",
        "# value on x-axis fo area under curve for 0.05 area\n",
        "# value on x-axis is on left side of mean so it returns -ve value"
      ],
      "metadata": {
        "colab": {
          "base_uri": "https://localhost:8080/"
        },
        "id": "65xl4umms92b",
        "outputId": "a731f2a7-c23a-47dd-83f6-e9efbd50be37"
      },
      "execution_count": null,
      "outputs": [
        {
          "output_type": "execute_result",
          "data": {
            "text/plain": [
              "-1.6448536269514729"
            ]
          },
          "metadata": {},
          "execution_count": 19
        }
      ]
    },
    {
      "cell_type": "markdown",
      "source": [
        "- 95% upper bound = ```PopulationMean + (TestStatistics * S.D / Sqrt(SampleSize) )```\n",
        "- 95% upper bound = ```µ + (Z * σ / Sqrt(n) )```\n",
        "- 95% upper bound = ```µ + (Z * σ / n**0.5 )```"
      ],
      "metadata": {
        "id": "Hdk7sEzziPIG"
      }
    },
    {
      "cell_type": "code",
      "source": [
        "5.41 + 1.645*(2.151461800448216 / 12**0.5)\n",
        "# 95% upper bound = Population Mean + TestStatistics * S.D / Sqrt(SampleSize)\n",
        "# 95% upper bound = µ + Z * σ / Sqrt(n)\n",
        "# 95% upper bound = µ + Z * σ / n**0.5\n",
        "\n",
        "# if considering chance variation or benefit of doubt,\n",
        "# actual mean can go till 6.431665948328879\n",
        "# but it cannot be exactly 6.431665948328879\n",
        "# which is answer for highest possible sample mean or 95% upper bound"
      ],
      "metadata": {
        "colab": {
          "base_uri": "https://localhost:8080/"
        },
        "id": "0-q3HHAtvSFZ",
        "outputId": "aa15aa63-e62e-40b7-8586-70049fc9c3c4"
      },
      "execution_count": null,
      "outputs": [
        {
          "output_type": "execute_result",
          "data": {
            "text/plain": [
              "6.431665948328879"
            ]
          },
          "metadata": {},
          "execution_count": 20
        }
      ]
    },
    {
      "cell_type": "code",
      "source": [
        "statsmodels.stats.weightstats.ztest(x, value=6.0, alternative='smaller')"
      ],
      "metadata": {
        "colab": {
          "base_uri": "https://localhost:8080/"
        },
        "id": "C5j_7KVSwPqj",
        "outputId": "7bb29f4c-c2c0-46ef-8d9b-ef758ad7dd55"
      },
      "execution_count": null,
      "outputs": [
        {
          "output_type": "execute_result",
          "data": {
            "text/plain": [
              "(-0.9392339393349719, 0.17380532364640544)"
            ]
          },
          "metadata": {},
          "execution_count": 23
        }
      ]
    },
    {
      "cell_type": "code",
      "source": [
        "statsmodels.stats.weightstats.ztest(x, value=6.5, alternative='smaller')"
      ],
      "metadata": {
        "colab": {
          "base_uri": "https://localhost:8080/"
        },
        "id": "TeyAghxHxn-g",
        "outputId": "5b167467-8493-4c69-fe54-12c38453445b"
      },
      "execution_count": null,
      "outputs": [
        {
          "output_type": "execute_result",
          "data": {
            "text/plain": [
              "(-1.744291601622091, 0.04055412767721645)"
            ]
          },
          "metadata": {},
          "execution_count": 25
        }
      ]
    },
    {
      "cell_type": "code",
      "source": [
        "statsmodels.stats.weightstats.ztest(x, value=7.0, alternative='smaller')"
      ],
      "metadata": {
        "colab": {
          "base_uri": "https://localhost:8080/"
        },
        "id": "vuhL8xKNxm4G",
        "outputId": "5642503e-917c-47b5-c26d-86f933b60432"
      },
      "execution_count": null,
      "outputs": [
        {
          "output_type": "execute_result",
          "data": {
            "text/plain": [
              "(-2.5493492639092104, 0.005396207746961571)"
            ]
          },
          "metadata": {},
          "execution_count": 24
        }
      ]
    },
    {
      "cell_type": "markdown",
      "source": [
        "##### Note : ClaimedValue vs. P-Value\n",
        "- As we keep on increasing the claimedValue, P-Value / Probability-Value keeps on decreasing because actual Population mean is getting away from claimedValues"
      ],
      "metadata": {
        "id": "FOAGeYD9lB97"
      }
    },
    {
      "cell_type": "markdown",
      "source": [
        "### two-sample t test / two-sample Z test\n",
        "\n",
        "- Two Sample t Test is used to compare the difference of the averages of two independent samples with the claimed value and establish whether the difference is statistically significant or not\n",
        "- two separate samples, a & b, calculate mean for a & b, and compare the difference of mean with claimed value"
      ],
      "metadata": {
        "id": "9-18l0wtzr1Z"
      }
    },
    {
      "cell_type": "markdown",
      "source": [
        "- Q1.\n",
        "- claiming that student of C.Blr. will get 15k more salary than student of C.Kh.\n",
        "- find the difference, sample/actual difference value = 12500\n",
        "- (15000 - 12500) check whether difference between claimed and actual value is significant or not\n",
        "\n"
      ],
      "metadata": {
        "id": "ISwgbnG62DvX"
      }
    },
    {
      "cell_type": "code",
      "source": [
        "x = [3, 7, 6, 5, 9, 8, 2, 3, 5, 4, 6, 7]\n",
        "y = [9, 6, 8, 10, 6, 4, 7, 8, 9, 10]\n",
        "# creating two samples"
      ],
      "metadata": {
        "id": "7z-NmjHRyEu8"
      },
      "execution_count": null,
      "outputs": []
    },
    {
      "cell_type": "markdown",
      "source": [
        "### Left Tail Test\n",
        "- ```Hₒ``` : mean(y) - mean(x) >= 2.7\n",
        "- ```Hᴀ``` / ```H1``` : mean(y) - mean(x) < 2.7 [Left Tail test]"
      ],
      "metadata": {
        "id": "BO-Znw6S1Mcf"
      }
    },
    {
      "cell_type": "markdown",
      "source": [
        "#### import statsmodels.stats.weightstats"
      ],
      "metadata": {
        "id": "XZ3yKnA13a6N"
      }
    },
    {
      "cell_type": "code",
      "source": [
        "import numpy as np\n",
        "import pandas as pd\n",
        "# import numpy & pandas\n",
        "\n",
        "import statsmodels\n",
        "from statsmodels import stats\n",
        "from statsmodels.stats import weightstats\n",
        "# for ztest"
      ],
      "metadata": {
        "id": "9ZZSACXt1peI"
      },
      "execution_count": null,
      "outputs": []
    },
    {
      "cell_type": "markdown",
      "source": [
        "#### np.mean(ndarray1) - np.mean(ndarray2)"
      ],
      "metadata": {
        "id": "fWRyYRE8l_fD"
      }
    },
    {
      "cell_type": "code",
      "source": [
        "np.mean(y) - np.mean(x)\n",
        "# actual difference of sample Mean x̄ for two samples to be used to compare\n",
        "# with claimed mean difference\n",
        "# and then cestablish whether difference is staistically significant or not"
      ],
      "metadata": {
        "colab": {
          "base_uri": "https://localhost:8080/"
        },
        "id": "cge8LCUz1LcY",
        "outputId": "18030afb-05eb-4b05-aea2-0b52cf21b54a"
      },
      "execution_count": null,
      "outputs": [
        {
          "output_type": "execute_result",
          "data": {
            "text/plain": [
              "2.283333333333333"
            ]
          },
          "metadata": {},
          "execution_count": 31
        }
      ]
    },
    {
      "cell_type": "markdown",
      "source": [
        "##### statsmodels.stats.weightstats.ztest(Sample1, Sample2, value=ClaimValue, alternative='Sign of Hᴀ')\n",
        "- ```alternative='smaller'```     - for left tail Test\n",
        "- ```alternative='larger'```      - for right tail Test\n",
        "- ```alternative='two-sided'```   - for two tail Test"
      ],
      "metadata": {
        "id": "atJ2lI-Smnbe"
      }
    },
    {
      "cell_type": "code",
      "source": [
        "statsmodels.stats.weightstats.ztest(y, x, value=2.7, alternative='smaller')\n",
        "# alternative='smaller'     - for left tail Test\n",
        "# alternative='larger'      - for right tail Test\n",
        "# alternative='two-sided'   - for two tail Test"
      ],
      "metadata": {
        "colab": {
          "base_uri": "https://localhost:8080/"
        },
        "id": "UwbL9LbC1h0z",
        "outputId": "fef5eb61-df2d-4653-8b14-0fc6a62a9cad"
      },
      "execution_count": null,
      "outputs": [
        {
          "output_type": "execute_result",
          "data": {
            "text/plain": [
              "(-0.47198804896079605, 0.3184676595008745)"
            ]
          },
          "metadata": {},
          "execution_count": 32
        }
      ]
    },
    {
      "cell_type": "code",
      "source": [
        "statsmodels.stats.weightstats.ztest(y, x, value=3.7, alternative='smaller')"
      ],
      "metadata": {
        "colab": {
          "base_uri": "https://localhost:8080/"
        },
        "id": "V8gceyc58nuk",
        "outputId": "8d5252fa-1326-437c-a8dd-25166242ac14"
      },
      "execution_count": null,
      "outputs": [
        {
          "output_type": "execute_result",
          "data": {
            "text/plain": [
              "(-1.6047593664667057, 0.054273385712541596)"
            ]
          },
          "metadata": {},
          "execution_count": 33
        }
      ]
    },
    {
      "cell_type": "code",
      "source": [
        "statsmodels.stats.weightstats.ztest(y, x, value=4.2, alternative='smaller')"
      ],
      "metadata": {
        "colab": {
          "base_uri": "https://localhost:8080/"
        },
        "id": "YmnEHgk_-hHC",
        "outputId": "6cdc87b7-e097-4d77-eb2f-913dff204a27"
      },
      "execution_count": null,
      "outputs": [
        {
          "output_type": "execute_result",
          "data": {
            "text/plain": [
              "(-2.1711450252196607, 0.014960105716979144)"
            ]
          },
          "metadata": {},
          "execution_count": 34
        }
      ]
    },
    {
      "cell_type": "markdown",
      "source": [
        "##### Note:\n",
        "- as claimed difference keeps on increasing, P-Value / Probability Value keeps on decreasing"
      ],
      "metadata": {
        "id": "_A_EPC8jm36P"
      }
    },
    {
      "cell_type": "markdown",
      "source": [
        "### Right Tail Test\n",
        "- ```Hₒ``` : mean(y) - mean(x) <= 1.5\n",
        "- ```Hᴀ``` / ```H1``` : mean(y) - mean(x) > 1.5 [right tail test]"
      ],
      "metadata": {
        "id": "OL-2yRjw_Umh"
      }
    },
    {
      "cell_type": "code",
      "source": [
        "statsmodels.stats.weightstats.ztest(y, x, value=1.5, alternative='larger')"
      ],
      "metadata": {
        "colab": {
          "base_uri": "https://localhost:8080/"
        },
        "id": "7phl4pX8-jDe",
        "outputId": "8c45e0fe-00a0-4423-d2b8-cedead97be5f"
      },
      "execution_count": null,
      "outputs": [
        {
          "output_type": "execute_result",
          "data": {
            "text/plain": [
              "(0.8873375320462958, 0.1874486022476365)"
            ]
          },
          "metadata": {},
          "execution_count": 35
        }
      ]
    },
    {
      "cell_type": "markdown",
      "source": [
        "### Two Tail Test\n",
        "- if it was two tail test, ```Hₒ``` will be equality with some value, and ```Hᴀ``` will be not equal to that value\n",
        "\n",
        "- ```Hₒ``` : mean(y) - mean(x) = 1.5\n",
        "- ```Hᴀ``` / ```H1``` : mean(y) - mean(x) != 1.5 [two tail test]"
      ],
      "metadata": {
        "id": "scJFbce4_85c"
      }
    },
    {
      "cell_type": "code",
      "source": [
        "statsmodels.stats.weightstats.ztest(y, x, value=1.5, alternative='two-sided')"
      ],
      "metadata": {
        "id": "-qvUg9P84yXY"
      },
      "execution_count": null,
      "outputs": []
    },
    {
      "cell_type": "markdown",
      "source": [
        "## Paired t test\n",
        "\n",
        "- two samples are dependent and paired to each other\n",
        "- sample size has to be same\n",
        "- whenever performance/some numbers/parameters need to be compared before and after an event\n",
        "- in two-sample t test: difference of averages/means of two samples is compared with claimed value\n",
        "- in paired t test: mean of differences of two samples  is compared with claimed value\n"
      ],
      "metadata": {
        "id": "QnQV_aFp6dkZ"
      }
    },
    {
      "cell_type": "markdown",
      "source": [
        "Q. before & after covid started,\n",
        "-  before people worked from home and after people worked from office\n",
        "\n",
        "        before = c(7, 9, 8, 6, 7, 8)\n",
        "        after = c(6, 8, 9, 5, 6, 8)\n",
        "        since people started working from home, their time of delivery has increased by an avg of 0.2min\n",
        "        - Hₒ : avg(after-before) >= 0.2\n",
        "        - Hᴀ : avg(after-before) < 0.2 ---> left tail test\n",
        "\n"
      ],
      "metadata": {
        "id": "zHw_B4gv61OM"
      }
    },
    {
      "cell_type": "code",
      "source": [
        "# t.test(after, before, mu=0.2, alternative='less', paired=T)\n",
        "# run in R lang\n",
        "\n",
        "# t.test(s1, s2, mu=claimedValue, alternative='less', paired=T)\n",
        "# difference of means is statistically significant as P-Value 0.04786 < 0.05,\n",
        "# so Hₒ is rejected"
      ],
      "metadata": {
        "id": "ONb-dEJn7coX"
      },
      "execution_count": null,
      "outputs": []
    },
    {
      "cell_type": "markdown",
      "source": [
        "### one-way ANOVA\n",
        "- ANOVA : ANalysis Of VAriance\n",
        "- used when we have multiple samples\n",
        "- ANova uses F-Distribution(Fischer Distribution)\n",
        "- ```Hₒ``` : all the pair of means are equal\n",
        "- ```Hᴀ``` / ```H1``` : there is atleast one pair of means where the difference is not equal to zero\n",
        "- response should follow normal distribution\n",
        "- variances are equal\n",
        "- Predictor is attribute/categorical & Response is continuous"
      ],
      "metadata": {
        "id": "Gg0yBxcdDH-P"
      }
    },
    {
      "cell_type": "code",
      "source": [
        "from google.colab import files\n",
        "uploaded = files.upload()\n",
        "# MyData.xlsx\n",
        "\n",
        "# import os\n",
        "# os.chdir(r'C:\\Users\\surya\\Downloads\\PG-DBDA-Mar23\\Datasets')\n",
        "# os.getcwd()"
      ],
      "metadata": {
        "colab": {
          "base_uri": "https://localhost:8080/",
          "height": 56
        },
        "id": "FkOe9qG5_voT",
        "outputId": "7c851f6b-1eb8-4e35-d483-2276bc2ef131"
      },
      "execution_count": null,
      "outputs": [
        {
          "output_type": "display_data",
          "data": {
            "text/plain": [
              "<IPython.core.display.HTML object>"
            ],
            "text/html": [
              "\n",
              "     <input type=\"file\" id=\"files-df6ae249-079e-47bc-ba59-382131396f4f\" name=\"files[]\" multiple disabled\n",
              "        style=\"border:none\" />\n",
              "     <output id=\"result-df6ae249-079e-47bc-ba59-382131396f4f\">\n",
              "      Upload widget is only available when the cell has been executed in the\n",
              "      current browser session. Please rerun this cell to enable.\n",
              "      </output>\n",
              "      <script>// Copyright 2017 Google LLC\n",
              "//\n",
              "// Licensed under the Apache License, Version 2.0 (the \"License\");\n",
              "// you may not use this file except in compliance with the License.\n",
              "// You may obtain a copy of the License at\n",
              "//\n",
              "//      http://www.apache.org/licenses/LICENSE-2.0\n",
              "//\n",
              "// Unless required by applicable law or agreed to in writing, software\n",
              "// distributed under the License is distributed on an \"AS IS\" BASIS,\n",
              "// WITHOUT WARRANTIES OR CONDITIONS OF ANY KIND, either express or implied.\n",
              "// See the License for the specific language governing permissions and\n",
              "// limitations under the License.\n",
              "\n",
              "/**\n",
              " * @fileoverview Helpers for google.colab Python module.\n",
              " */\n",
              "(function(scope) {\n",
              "function span(text, styleAttributes = {}) {\n",
              "  const element = document.createElement('span');\n",
              "  element.textContent = text;\n",
              "  for (const key of Object.keys(styleAttributes)) {\n",
              "    element.style[key] = styleAttributes[key];\n",
              "  }\n",
              "  return element;\n",
              "}\n",
              "\n",
              "// Max number of bytes which will be uploaded at a time.\n",
              "const MAX_PAYLOAD_SIZE = 100 * 1024;\n",
              "\n",
              "function _uploadFiles(inputId, outputId) {\n",
              "  const steps = uploadFilesStep(inputId, outputId);\n",
              "  const outputElement = document.getElementById(outputId);\n",
              "  // Cache steps on the outputElement to make it available for the next call\n",
              "  // to uploadFilesContinue from Python.\n",
              "  outputElement.steps = steps;\n",
              "\n",
              "  return _uploadFilesContinue(outputId);\n",
              "}\n",
              "\n",
              "// This is roughly an async generator (not supported in the browser yet),\n",
              "// where there are multiple asynchronous steps and the Python side is going\n",
              "// to poll for completion of each step.\n",
              "// This uses a Promise to block the python side on completion of each step,\n",
              "// then passes the result of the previous step as the input to the next step.\n",
              "function _uploadFilesContinue(outputId) {\n",
              "  const outputElement = document.getElementById(outputId);\n",
              "  const steps = outputElement.steps;\n",
              "\n",
              "  const next = steps.next(outputElement.lastPromiseValue);\n",
              "  return Promise.resolve(next.value.promise).then((value) => {\n",
              "    // Cache the last promise value to make it available to the next\n",
              "    // step of the generator.\n",
              "    outputElement.lastPromiseValue = value;\n",
              "    return next.value.response;\n",
              "  });\n",
              "}\n",
              "\n",
              "/**\n",
              " * Generator function which is called between each async step of the upload\n",
              " * process.\n",
              " * @param {string} inputId Element ID of the input file picker element.\n",
              " * @param {string} outputId Element ID of the output display.\n",
              " * @return {!Iterable<!Object>} Iterable of next steps.\n",
              " */\n",
              "function* uploadFilesStep(inputId, outputId) {\n",
              "  const inputElement = document.getElementById(inputId);\n",
              "  inputElement.disabled = false;\n",
              "\n",
              "  const outputElement = document.getElementById(outputId);\n",
              "  outputElement.innerHTML = '';\n",
              "\n",
              "  const pickedPromise = new Promise((resolve) => {\n",
              "    inputElement.addEventListener('change', (e) => {\n",
              "      resolve(e.target.files);\n",
              "    });\n",
              "  });\n",
              "\n",
              "  const cancel = document.createElement('button');\n",
              "  inputElement.parentElement.appendChild(cancel);\n",
              "  cancel.textContent = 'Cancel upload';\n",
              "  const cancelPromise = new Promise((resolve) => {\n",
              "    cancel.onclick = () => {\n",
              "      resolve(null);\n",
              "    };\n",
              "  });\n",
              "\n",
              "  // Wait for the user to pick the files.\n",
              "  const files = yield {\n",
              "    promise: Promise.race([pickedPromise, cancelPromise]),\n",
              "    response: {\n",
              "      action: 'starting',\n",
              "    }\n",
              "  };\n",
              "\n",
              "  cancel.remove();\n",
              "\n",
              "  // Disable the input element since further picks are not allowed.\n",
              "  inputElement.disabled = true;\n",
              "\n",
              "  if (!files) {\n",
              "    return {\n",
              "      response: {\n",
              "        action: 'complete',\n",
              "      }\n",
              "    };\n",
              "  }\n",
              "\n",
              "  for (const file of files) {\n",
              "    const li = document.createElement('li');\n",
              "    li.append(span(file.name, {fontWeight: 'bold'}));\n",
              "    li.append(span(\n",
              "        `(${file.type || 'n/a'}) - ${file.size} bytes, ` +\n",
              "        `last modified: ${\n",
              "            file.lastModifiedDate ? file.lastModifiedDate.toLocaleDateString() :\n",
              "                                    'n/a'} - `));\n",
              "    const percent = span('0% done');\n",
              "    li.appendChild(percent);\n",
              "\n",
              "    outputElement.appendChild(li);\n",
              "\n",
              "    const fileDataPromise = new Promise((resolve) => {\n",
              "      const reader = new FileReader();\n",
              "      reader.onload = (e) => {\n",
              "        resolve(e.target.result);\n",
              "      };\n",
              "      reader.readAsArrayBuffer(file);\n",
              "    });\n",
              "    // Wait for the data to be ready.\n",
              "    let fileData = yield {\n",
              "      promise: fileDataPromise,\n",
              "      response: {\n",
              "        action: 'continue',\n",
              "      }\n",
              "    };\n",
              "\n",
              "    // Use a chunked sending to avoid message size limits. See b/62115660.\n",
              "    let position = 0;\n",
              "    do {\n",
              "      const length = Math.min(fileData.byteLength - position, MAX_PAYLOAD_SIZE);\n",
              "      const chunk = new Uint8Array(fileData, position, length);\n",
              "      position += length;\n",
              "\n",
              "      const base64 = btoa(String.fromCharCode.apply(null, chunk));\n",
              "      yield {\n",
              "        response: {\n",
              "          action: 'append',\n",
              "          file: file.name,\n",
              "          data: base64,\n",
              "        },\n",
              "      };\n",
              "\n",
              "      let percentDone = fileData.byteLength === 0 ?\n",
              "          100 :\n",
              "          Math.round((position / fileData.byteLength) * 100);\n",
              "      percent.textContent = `${percentDone}% done`;\n",
              "\n",
              "    } while (position < fileData.byteLength);\n",
              "  }\n",
              "\n",
              "  // All done.\n",
              "  yield {\n",
              "    response: {\n",
              "      action: 'complete',\n",
              "    }\n",
              "  };\n",
              "}\n",
              "\n",
              "scope.google = scope.google || {};\n",
              "scope.google.colab = scope.google.colab || {};\n",
              "scope.google.colab._files = {\n",
              "  _uploadFiles,\n",
              "  _uploadFilesContinue,\n",
              "};\n",
              "})(self);\n",
              "</script> "
            ]
          },
          "metadata": {}
        },
        {
          "output_type": "stream",
          "name": "stdout",
          "text": [
            "Saving MyData.xlsx to MyData.xlsx\n"
          ]
        }
      ]
    },
    {
      "cell_type": "code",
      "source": [
        "df = pd.read_excel('MyData.xlsx')\n",
        "df.head()"
      ],
      "metadata": {
        "colab": {
          "base_uri": "https://localhost:8080/",
          "height": 488
        },
        "id": "CzE1PGgrCgi-",
        "outputId": "82ee3a20-a422-4122-9610-1a7a72b63143"
      },
      "execution_count": null,
      "outputs": [
        {
          "output_type": "execute_result",
          "data": {
            "text/plain": [
              "   Sample  Value\n",
              "0       A      5\n",
              "1       A      4\n",
              "2       A      6\n",
              "3       A      7\n",
              "4       A      5\n",
              "5       B      6\n",
              "6       B      5\n",
              "7       B      4\n",
              "8       B      7\n",
              "9       B      6\n",
              "10      C     10\n",
              "11      C     14\n",
              "12      C     13\n",
              "13      C     12"
            ],
            "text/html": [
              "\n",
              "  <div id=\"df-15ba118e-5324-4f38-8557-a7289fcaa6e1\">\n",
              "    <div class=\"colab-df-container\">\n",
              "      <div>\n",
              "<style scoped>\n",
              "    .dataframe tbody tr th:only-of-type {\n",
              "        vertical-align: middle;\n",
              "    }\n",
              "\n",
              "    .dataframe tbody tr th {\n",
              "        vertical-align: top;\n",
              "    }\n",
              "\n",
              "    .dataframe thead th {\n",
              "        text-align: right;\n",
              "    }\n",
              "</style>\n",
              "<table border=\"1\" class=\"dataframe\">\n",
              "  <thead>\n",
              "    <tr style=\"text-align: right;\">\n",
              "      <th></th>\n",
              "      <th>Sample</th>\n",
              "      <th>Value</th>\n",
              "    </tr>\n",
              "  </thead>\n",
              "  <tbody>\n",
              "    <tr>\n",
              "      <th>0</th>\n",
              "      <td>A</td>\n",
              "      <td>5</td>\n",
              "    </tr>\n",
              "    <tr>\n",
              "      <th>1</th>\n",
              "      <td>A</td>\n",
              "      <td>4</td>\n",
              "    </tr>\n",
              "    <tr>\n",
              "      <th>2</th>\n",
              "      <td>A</td>\n",
              "      <td>6</td>\n",
              "    </tr>\n",
              "    <tr>\n",
              "      <th>3</th>\n",
              "      <td>A</td>\n",
              "      <td>7</td>\n",
              "    </tr>\n",
              "    <tr>\n",
              "      <th>4</th>\n",
              "      <td>A</td>\n",
              "      <td>5</td>\n",
              "    </tr>\n",
              "    <tr>\n",
              "      <th>5</th>\n",
              "      <td>B</td>\n",
              "      <td>6</td>\n",
              "    </tr>\n",
              "    <tr>\n",
              "      <th>6</th>\n",
              "      <td>B</td>\n",
              "      <td>5</td>\n",
              "    </tr>\n",
              "    <tr>\n",
              "      <th>7</th>\n",
              "      <td>B</td>\n",
              "      <td>4</td>\n",
              "    </tr>\n",
              "    <tr>\n",
              "      <th>8</th>\n",
              "      <td>B</td>\n",
              "      <td>7</td>\n",
              "    </tr>\n",
              "    <tr>\n",
              "      <th>9</th>\n",
              "      <td>B</td>\n",
              "      <td>6</td>\n",
              "    </tr>\n",
              "    <tr>\n",
              "      <th>10</th>\n",
              "      <td>C</td>\n",
              "      <td>10</td>\n",
              "    </tr>\n",
              "    <tr>\n",
              "      <th>11</th>\n",
              "      <td>C</td>\n",
              "      <td>14</td>\n",
              "    </tr>\n",
              "    <tr>\n",
              "      <th>12</th>\n",
              "      <td>C</td>\n",
              "      <td>13</td>\n",
              "    </tr>\n",
              "    <tr>\n",
              "      <th>13</th>\n",
              "      <td>C</td>\n",
              "      <td>12</td>\n",
              "    </tr>\n",
              "  </tbody>\n",
              "</table>\n",
              "</div>\n",
              "      <button class=\"colab-df-convert\" onclick=\"convertToInteractive('df-15ba118e-5324-4f38-8557-a7289fcaa6e1')\"\n",
              "              title=\"Convert this dataframe to an interactive table.\"\n",
              "              style=\"display:none;\">\n",
              "        \n",
              "  <svg xmlns=\"http://www.w3.org/2000/svg\" height=\"24px\"viewBox=\"0 0 24 24\"\n",
              "       width=\"24px\">\n",
              "    <path d=\"M0 0h24v24H0V0z\" fill=\"none\"/>\n",
              "    <path d=\"M18.56 5.44l.94 2.06.94-2.06 2.06-.94-2.06-.94-.94-2.06-.94 2.06-2.06.94zm-11 1L8.5 8.5l.94-2.06 2.06-.94-2.06-.94L8.5 2.5l-.94 2.06-2.06.94zm10 10l.94 2.06.94-2.06 2.06-.94-2.06-.94-.94-2.06-.94 2.06-2.06.94z\"/><path d=\"M17.41 7.96l-1.37-1.37c-.4-.4-.92-.59-1.43-.59-.52 0-1.04.2-1.43.59L10.3 9.45l-7.72 7.72c-.78.78-.78 2.05 0 2.83L4 21.41c.39.39.9.59 1.41.59.51 0 1.02-.2 1.41-.59l7.78-7.78 2.81-2.81c.8-.78.8-2.07 0-2.86zM5.41 20L4 18.59l7.72-7.72 1.47 1.35L5.41 20z\"/>\n",
              "  </svg>\n",
              "      </button>\n",
              "      \n",
              "  <style>\n",
              "    .colab-df-container {\n",
              "      display:flex;\n",
              "      flex-wrap:wrap;\n",
              "      gap: 12px;\n",
              "    }\n",
              "\n",
              "    .colab-df-convert {\n",
              "      background-color: #E8F0FE;\n",
              "      border: none;\n",
              "      border-radius: 50%;\n",
              "      cursor: pointer;\n",
              "      display: none;\n",
              "      fill: #1967D2;\n",
              "      height: 32px;\n",
              "      padding: 0 0 0 0;\n",
              "      width: 32px;\n",
              "    }\n",
              "\n",
              "    .colab-df-convert:hover {\n",
              "      background-color: #E2EBFA;\n",
              "      box-shadow: 0px 1px 2px rgba(60, 64, 67, 0.3), 0px 1px 3px 1px rgba(60, 64, 67, 0.15);\n",
              "      fill: #174EA6;\n",
              "    }\n",
              "\n",
              "    [theme=dark] .colab-df-convert {\n",
              "      background-color: #3B4455;\n",
              "      fill: #D2E3FC;\n",
              "    }\n",
              "\n",
              "    [theme=dark] .colab-df-convert:hover {\n",
              "      background-color: #434B5C;\n",
              "      box-shadow: 0px 1px 3px 1px rgba(0, 0, 0, 0.15);\n",
              "      filter: drop-shadow(0px 1px 2px rgba(0, 0, 0, 0.3));\n",
              "      fill: #FFFFFF;\n",
              "    }\n",
              "  </style>\n",
              "\n",
              "      <script>\n",
              "        const buttonEl =\n",
              "          document.querySelector('#df-15ba118e-5324-4f38-8557-a7289fcaa6e1 button.colab-df-convert');\n",
              "        buttonEl.style.display =\n",
              "          google.colab.kernel.accessAllowed ? 'block' : 'none';\n",
              "\n",
              "        async function convertToInteractive(key) {\n",
              "          const element = document.querySelector('#df-15ba118e-5324-4f38-8557-a7289fcaa6e1');\n",
              "          const dataTable =\n",
              "            await google.colab.kernel.invokeFunction('convertToInteractive',\n",
              "                                                     [key], {});\n",
              "          if (!dataTable) return;\n",
              "\n",
              "          const docLinkHtml = 'Like what you see? Visit the ' +\n",
              "            '<a target=\"_blank\" href=https://colab.research.google.com/notebooks/data_table.ipynb>data table notebook</a>'\n",
              "            + ' to learn more about interactive tables.';\n",
              "          element.innerHTML = '';\n",
              "          dataTable['output_type'] = 'display_data';\n",
              "          await google.colab.output.renderOutput(dataTable, element);\n",
              "          const docLink = document.createElement('div');\n",
              "          docLink.innerHTML = docLinkHtml;\n",
              "          element.appendChild(docLink);\n",
              "        }\n",
              "      </script>\n",
              "    </div>\n",
              "  </div>\n",
              "  "
            ]
          },
          "metadata": {},
          "execution_count": 38
        }
      ]
    },
    {
      "cell_type": "code",
      "source": [
        "import  statsmodels.api as sm\n",
        "from statsmodels.formula.api import ols\n",
        "import statsmodels.stats.multicomp"
      ],
      "metadata": {
        "id": "khQEbDhuC2Qs"
      },
      "execution_count": null,
      "outputs": []
    },
    {
      "cell_type": "code",
      "source": [
        "# 'sample' is called predictor\n",
        "# 'value' is called as response\n",
        "# '~' means depends on\n",
        "mod1 = ols('Value ~ Sample', data=df).fit()\n",
        "# ols('colWithResponse ~ ColumnWithPredictor', data=dataFrame).fit()"
      ],
      "metadata": {
        "id": "PvN5M_neEXSd"
      },
      "execution_count": null,
      "outputs": []
    },
    {
      "cell_type": "code",
      "source": [
        "tbl = sm.stats.anova_lm(mod1)\n",
        "tbl\n",
        "# df : degree of freedom\n",
        "# degree of freedom for residual = sample size 14 - sample 2 - 1 = 11\n",
        "# sum_sq : sum of squares\n",
        "# mean_sq : mean of squares\n",
        "# F : F-Distribution\n",
        "# PR(>F) : P-Value from F-distribution"
      ],
      "metadata": {
        "colab": {
          "base_uri": "https://localhost:8080/",
          "height": 112
        },
        "id": "IDjrsGrwGOoV",
        "outputId": "07719a14-7c65-4ec3-d658-200c44371b96"
      },
      "execution_count": null,
      "outputs": [
        {
          "output_type": "execute_result",
          "data": {
            "text/plain": [
              "            df      sum_sq    mean_sq          F    PR(>F)\n",
              "Sample     2.0  130.278571  65.139286  37.416822  0.000012\n",
              "Residual  11.0   19.150000   1.740909        NaN       NaN"
            ],
            "text/html": [
              "\n",
              "  <div id=\"df-c7826079-7acd-41bd-a2f9-f90d05c9498c\">\n",
              "    <div class=\"colab-df-container\">\n",
              "      <div>\n",
              "<style scoped>\n",
              "    .dataframe tbody tr th:only-of-type {\n",
              "        vertical-align: middle;\n",
              "    }\n",
              "\n",
              "    .dataframe tbody tr th {\n",
              "        vertical-align: top;\n",
              "    }\n",
              "\n",
              "    .dataframe thead th {\n",
              "        text-align: right;\n",
              "    }\n",
              "</style>\n",
              "<table border=\"1\" class=\"dataframe\">\n",
              "  <thead>\n",
              "    <tr style=\"text-align: right;\">\n",
              "      <th></th>\n",
              "      <th>df</th>\n",
              "      <th>sum_sq</th>\n",
              "      <th>mean_sq</th>\n",
              "      <th>F</th>\n",
              "      <th>PR(&gt;F)</th>\n",
              "    </tr>\n",
              "  </thead>\n",
              "  <tbody>\n",
              "    <tr>\n",
              "      <th>Sample</th>\n",
              "      <td>2.0</td>\n",
              "      <td>130.278571</td>\n",
              "      <td>65.139286</td>\n",
              "      <td>37.416822</td>\n",
              "      <td>0.000012</td>\n",
              "    </tr>\n",
              "    <tr>\n",
              "      <th>Residual</th>\n",
              "      <td>11.0</td>\n",
              "      <td>19.150000</td>\n",
              "      <td>1.740909</td>\n",
              "      <td>NaN</td>\n",
              "      <td>NaN</td>\n",
              "    </tr>\n",
              "  </tbody>\n",
              "</table>\n",
              "</div>\n",
              "      <button class=\"colab-df-convert\" onclick=\"convertToInteractive('df-c7826079-7acd-41bd-a2f9-f90d05c9498c')\"\n",
              "              title=\"Convert this dataframe to an interactive table.\"\n",
              "              style=\"display:none;\">\n",
              "        \n",
              "  <svg xmlns=\"http://www.w3.org/2000/svg\" height=\"24px\"viewBox=\"0 0 24 24\"\n",
              "       width=\"24px\">\n",
              "    <path d=\"M0 0h24v24H0V0z\" fill=\"none\"/>\n",
              "    <path d=\"M18.56 5.44l.94 2.06.94-2.06 2.06-.94-2.06-.94-.94-2.06-.94 2.06-2.06.94zm-11 1L8.5 8.5l.94-2.06 2.06-.94-2.06-.94L8.5 2.5l-.94 2.06-2.06.94zm10 10l.94 2.06.94-2.06 2.06-.94-2.06-.94-.94-2.06-.94 2.06-2.06.94z\"/><path d=\"M17.41 7.96l-1.37-1.37c-.4-.4-.92-.59-1.43-.59-.52 0-1.04.2-1.43.59L10.3 9.45l-7.72 7.72c-.78.78-.78 2.05 0 2.83L4 21.41c.39.39.9.59 1.41.59.51 0 1.02-.2 1.41-.59l7.78-7.78 2.81-2.81c.8-.78.8-2.07 0-2.86zM5.41 20L4 18.59l7.72-7.72 1.47 1.35L5.41 20z\"/>\n",
              "  </svg>\n",
              "      </button>\n",
              "      \n",
              "  <style>\n",
              "    .colab-df-container {\n",
              "      display:flex;\n",
              "      flex-wrap:wrap;\n",
              "      gap: 12px;\n",
              "    }\n",
              "\n",
              "    .colab-df-convert {\n",
              "      background-color: #E8F0FE;\n",
              "      border: none;\n",
              "      border-radius: 50%;\n",
              "      cursor: pointer;\n",
              "      display: none;\n",
              "      fill: #1967D2;\n",
              "      height: 32px;\n",
              "      padding: 0 0 0 0;\n",
              "      width: 32px;\n",
              "    }\n",
              "\n",
              "    .colab-df-convert:hover {\n",
              "      background-color: #E2EBFA;\n",
              "      box-shadow: 0px 1px 2px rgba(60, 64, 67, 0.3), 0px 1px 3px 1px rgba(60, 64, 67, 0.15);\n",
              "      fill: #174EA6;\n",
              "    }\n",
              "\n",
              "    [theme=dark] .colab-df-convert {\n",
              "      background-color: #3B4455;\n",
              "      fill: #D2E3FC;\n",
              "    }\n",
              "\n",
              "    [theme=dark] .colab-df-convert:hover {\n",
              "      background-color: #434B5C;\n",
              "      box-shadow: 0px 1px 3px 1px rgba(0, 0, 0, 0.15);\n",
              "      filter: drop-shadow(0px 1px 2px rgba(0, 0, 0, 0.3));\n",
              "      fill: #FFFFFF;\n",
              "    }\n",
              "  </style>\n",
              "\n",
              "      <script>\n",
              "        const buttonEl =\n",
              "          document.querySelector('#df-c7826079-7acd-41bd-a2f9-f90d05c9498c button.colab-df-convert');\n",
              "        buttonEl.style.display =\n",
              "          google.colab.kernel.accessAllowed ? 'block' : 'none';\n",
              "\n",
              "        async function convertToInteractive(key) {\n",
              "          const element = document.querySelector('#df-c7826079-7acd-41bd-a2f9-f90d05c9498c');\n",
              "          const dataTable =\n",
              "            await google.colab.kernel.invokeFunction('convertToInteractive',\n",
              "                                                     [key], {});\n",
              "          if (!dataTable) return;\n",
              "\n",
              "          const docLinkHtml = 'Like what you see? Visit the ' +\n",
              "            '<a target=\"_blank\" href=https://colab.research.google.com/notebooks/data_table.ipynb>data table notebook</a>'\n",
              "            + ' to learn more about interactive tables.';\n",
              "          element.innerHTML = '';\n",
              "          dataTable['output_type'] = 'display_data';\n",
              "          await google.colab.output.renderOutput(dataTable, element);\n",
              "          const docLink = document.createElement('div');\n",
              "          docLink.innerHTML = docLinkHtml;\n",
              "          element.appendChild(docLink);\n",
              "        }\n",
              "      </script>\n",
              "    </div>\n",
              "  </div>\n",
              "  "
            ]
          },
          "metadata": {},
          "execution_count": 44
        }
      ]
    },
    {
      "cell_type": "code",
      "source": [
        "from statsmodels.stats.multicomp import pairwise_tukeyhsd"
      ],
      "metadata": {
        "id": "1vafyE3lHqGS"
      },
      "execution_count": null,
      "outputs": []
    },
    {
      "cell_type": "code",
      "source": [
        "pairwise_tukeyhsd(df.Value, df.Sample)"
      ],
      "metadata": {
        "colab": {
          "base_uri": "https://localhost:8080/"
        },
        "id": "vKpZDTn8JAJY",
        "outputId": "ca457cb8-6532-4ded-a77c-67299bb3d0d1"
      },
      "execution_count": null,
      "outputs": [
        {
          "output_type": "execute_result",
          "data": {
            "text/plain": [
              "<statsmodels.sandbox.stats.multicomp.TukeyHSDResults at 0x7f1ccde72200>"
            ]
          },
          "metadata": {},
          "execution_count": 48
        }
      ]
    },
    {
      "cell_type": "code",
      "source": [
        "print(pairwise_tukeyhsd(df.Value, df.Sample))"
      ],
      "metadata": {
        "colab": {
          "base_uri": "https://localhost:8080/"
        },
        "id": "5lS5t3GpJRZc",
        "outputId": "f542f284-90cf-4ab6-af52-dff1fcabb1ec"
      },
      "execution_count": null,
      "outputs": [
        {
          "output_type": "stream",
          "name": "stdout",
          "text": [
            "Multiple Comparison of Means - Tukey HSD, FWER=0.05\n",
            "===================================================\n",
            "group1 group2 meandiff p-adj   lower  upper  reject\n",
            "---------------------------------------------------\n",
            "     A      B      0.2 0.9689 -2.0538 2.4538  False\n",
            "     A      C     6.85    0.0  4.4595 9.2405   True\n",
            "     B      C     6.65    0.0  4.2595 9.0405   True\n",
            "---------------------------------------------------\n"
          ]
        }
      ]
    },
    {
      "cell_type": "code",
      "source": [],
      "metadata": {
        "id": "D584P6sWJX6z"
      },
      "execution_count": null,
      "outputs": []
    }
  ]
}