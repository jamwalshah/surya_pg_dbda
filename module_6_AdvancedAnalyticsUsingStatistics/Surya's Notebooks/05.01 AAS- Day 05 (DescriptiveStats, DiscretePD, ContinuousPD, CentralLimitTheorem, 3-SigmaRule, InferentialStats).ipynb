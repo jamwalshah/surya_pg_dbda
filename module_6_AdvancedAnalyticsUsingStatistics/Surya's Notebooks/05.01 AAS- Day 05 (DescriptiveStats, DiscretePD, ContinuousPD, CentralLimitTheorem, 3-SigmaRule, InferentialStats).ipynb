{
  "nbformat": 4,
  "nbformat_minor": 0,
  "metadata": {
    "colab": {
      "provenance": [],
      "toc_visible": true
    },
    "kernelspec": {
      "name": "python3",
      "display_name": "Python 3"
    },
    "language_info": {
      "name": "python"
    }
  },
  "cells": [
    {
      "cell_type": "markdown",
      "source": [
        "# Probability Distributions\n",
        "- gives the possibility of each outcome of a random experiment or event\n",
        "- measure of uncertainty of various phenomena\n",
        "- statistical function that describes the likelihood of obtaining all possible values that a random variable can take\n",
        "1. Discrete Probability Distributions\n",
        "2. Continuous Probability Distributions\n"
      ],
      "metadata": {
        "id": "vOdUY-fOYvXC"
      }
    },
    {
      "cell_type": "markdown",
      "source": [
        "## Discrete Probability Distributions\n",
        "1. Binomial Distribution\n",
        "2. Poisson Distribution\n",
        "3. Hypergeometric Distribution"
      ],
      "metadata": {
        "id": "_ND1qDqwm8Tv"
      }
    },
    {
      "cell_type": "markdown",
      "source": [
        "### Binomial Distribution\n",
        "- for only two possibilites, to model binary data, such as coin tosses\n",
        "- probability of occurence should be known already\n",
        "- binomial distribution is sampled with replacement\n",
        "- population size is finite\n",
        "- used when you have a fixed number of independent trials (experiments) with two possible outcomes (usually referred to as success and failure), and you want to know the probability of getting a certain number of successes in those trials\n"
      ],
      "metadata": {
        "id": "Xa9o-HWaZf2k"
      }
    },
    {
      "cell_type": "markdown",
      "source": [
        "probability of rains in June on any given day is 0.4\n",
        "\n",
        "I am in Mumbai for 20 days. What are the chances that\n",
        "1. it rains for exactly 12 days\n",
        "2. it rains for max 12 days\n",
        "3. it rains for min 12 days"
      ],
      "metadata": {
        "id": "4VXvo8AOaVeO"
      }
    },
    {
      "cell_type": "markdown",
      "source": [
        "### scipy.stats.binom"
      ],
      "metadata": {
        "id": "_wL68tjDJsjP"
      }
    },
    {
      "cell_type": "code",
      "source": [
        "import scipy\n",
        "from scipy import stats\n",
        "from scipy.stats import binom"
      ],
      "metadata": {
        "id": "9bL9Z1nkUae_"
      },
      "execution_count": null,
      "outputs": []
    },
    {
      "cell_type": "markdown",
      "source": [
        "#### binom.pmf(exact number, max possible number, probability)"
      ],
      "metadata": {
        "id": "IDhlPcnEJ1Lx"
      }
    },
    {
      "cell_type": "code",
      "source": [
        "# for exactly 12 days\n",
        "binom.pmf(12, 20, 0.4)\n",
        "# PMF: Probability Mass Function\n",
        "# pmf(exact number, max possible number, probability)\n",
        "# for exactly 12 days out of 20 days of stay with probability 0.4"
      ],
      "metadata": {
        "colab": {
          "base_uri": "https://localhost:8080/"
        },
        "id": "xmjcLn9HayeA",
        "outputId": "f7f857d3-b072-4b66-e84e-e1e001b1a5e1"
      },
      "execution_count": null,
      "outputs": [
        {
          "output_type": "execute_result",
          "data": {
            "text/plain": [
              "0.03549743955648174"
            ]
          },
          "metadata": {},
          "execution_count": 2
        }
      ]
    },
    {
      "cell_type": "markdown",
      "source": [
        "#### binom.cdf(range number, max possible number, probability)"
      ],
      "metadata": {
        "id": "CMLTogy6J8hq"
      }
    },
    {
      "cell_type": "code",
      "source": [
        "# for at max 12 days\n",
        "binom.cdf(12, 20, 0.4)\n",
        "# CDF: Cummulative Distribution Function\n",
        "# cdf(range number, max possible number, probability)\n",
        "# for 0days or 1 days or 2 days or ... or 12 days out of 20 days stay with probability 0.4"
      ],
      "metadata": {
        "colab": {
          "base_uri": "https://localhost:8080/"
        },
        "id": "QpHxODGwbPVx",
        "outputId": "cc81e09d-88f5-4798-bd37-298c849b3475"
      },
      "execution_count": null,
      "outputs": [
        {
          "output_type": "execute_result",
          "data": {
            "text/plain": [
              "0.9789710725222288"
            ]
          },
          "metadata": {},
          "execution_count": 3
        }
      ]
    },
    {
      "cell_type": "code",
      "source": [
        "binom.cdf(4, 20, 0.4)"
      ],
      "metadata": {
        "colab": {
          "base_uri": "https://localhost:8080/"
        },
        "id": "CQU7LyRwcDjy",
        "outputId": "8697119b-c764-4f26-d0ac-1538658eb724"
      },
      "execution_count": null,
      "outputs": [
        {
          "output_type": "execute_result",
          "data": {
            "text/plain": [
              "0.05095195319416651"
            ]
          },
          "metadata": {},
          "execution_count": 4
        }
      ]
    },
    {
      "cell_type": "code",
      "source": [
        "binom.pmf(0, 20, 0.4)+binom.pmf(1, 20, 0.4)+binom.pmf(2, 20, 0.4)+binom.pmf(3, 20, 0.4)+binom.pmf(4, 20, 0.4)\n",
        "# same as binom.cdf(4, 20, 0.4)\n",
        "# prob(0 days) + prob(1 days) + prob(2 days) + ... + prob(4 days)"
      ],
      "metadata": {
        "colab": {
          "base_uri": "https://localhost:8080/"
        },
        "id": "xDU_yTg8cJ8l",
        "outputId": "070a3672-0016-4c1a-c578-4ddd0963a7ae"
      },
      "execution_count": null,
      "outputs": [
        {
          "output_type": "execute_result",
          "data": {
            "text/plain": [
              "0.05095195319416648"
            ]
          },
          "metadata": {},
          "execution_count": 5
        }
      ]
    },
    {
      "cell_type": "code",
      "source": [
        "# for 13days, 14days, ..., 20 days\n",
        "1 - binom.cdf(12, 20, 0.4)"
      ],
      "metadata": {
        "colab": {
          "base_uri": "https://localhost:8080/"
        },
        "id": "G3PxDlrRcVmP",
        "outputId": "e95bdfde-3f25-4cba-c1cc-af35b5b31a64"
      },
      "execution_count": null,
      "outputs": [
        {
          "output_type": "execute_result",
          "data": {
            "text/plain": [
              "0.021028927477771187"
            ]
          },
          "metadata": {},
          "execution_count": 6
        }
      ]
    },
    {
      "cell_type": "code",
      "source": [
        "1 - binom.cdf(11, 20, 0.4)\n",
        "# for min 12 days (12 days, 13 days, 14 days, ... 20 days)"
      ],
      "metadata": {
        "colab": {
          "base_uri": "https://localhost:8080/"
        },
        "id": "X_-aNLd7dtq1",
        "outputId": "bb5121ff-58f1-49f2-884c-503376b5d69b"
      },
      "execution_count": null,
      "outputs": [
        {
          "output_type": "execute_result",
          "data": {
            "text/plain": [
              "0.05652636703425307"
            ]
          },
          "metadata": {},
          "execution_count": 7
        }
      ]
    },
    {
      "cell_type": "markdown",
      "source": [
        "#### binom.sf(range number - 1, max possible number, probability)"
      ],
      "metadata": {
        "id": "48vmLfRfKPg6"
      }
    },
    {
      "cell_type": "code",
      "source": [
        "binom.sf(11, 20, 0.4)\n",
        "# SF: survival Function\n",
        "# SF = 1 - CDF"
      ],
      "metadata": {
        "colab": {
          "base_uri": "https://localhost:8080/"
        },
        "id": "Fxej1PrpePaN",
        "outputId": "e92381a2-7118-48aa-b8b3-506a9cfd2cc0"
      },
      "execution_count": null,
      "outputs": [
        {
          "output_type": "execute_result",
          "data": {
            "text/plain": [
              "0.056526367034253025"
            ]
          },
          "metadata": {},
          "execution_count": 8
        }
      ]
    },
    {
      "cell_type": "markdown",
      "source": [
        "### Poisson's Distribution\n",
        "- when probability is too low or cannot be calculated\n",
        "- we work with \"average number of occurences\", to model count data\n",
        "- describes probabilities for counts of events that occur in a specified observation space\n",
        "- population size has no limits, it can be infinite\n",
        "- e.g. probability of lightening striking at a place\n",
        "\n",
        "\n",
        "- A variable follows a Poisson distribution when the following conditions are true:\n",
        "    - Data are counts of events.\n",
        "    - All events are independent.\n",
        "    - The average rate of occurrence does not change during the period of interest.\n",
        "\n",
        "### Note\n",
        "- as probability tends to zero, binomial distribution tends to be poisson's distribution"
      ],
      "metadata": {
        "id": "Fk9XZ_0ChF5C"
      }
    },
    {
      "cell_type": "markdown",
      "source": [
        "Number of accidents in an area are 30 per day\n",
        "1. exactly 27 accidents take place\n",
        "2. max 27 accidents take place\n",
        "3. min 27 accidents take place"
      ],
      "metadata": {
        "id": "WTxHCHEun5yP"
      }
    },
    {
      "cell_type": "markdown",
      "source": [
        "### scipy.stats.poisson"
      ],
      "metadata": {
        "id": "8ldP84lGJowY"
      }
    },
    {
      "cell_type": "code",
      "source": [
        "import scipy\n",
        "from scipy import stats\n",
        "from scipy.stats import poisson"
      ],
      "metadata": {
        "id": "NYjQuYcEg-5S"
      },
      "execution_count": null,
      "outputs": []
    },
    {
      "cell_type": "markdown",
      "source": [
        "#### poisson.pmf(exact number, average count)"
      ],
      "metadata": {
        "id": "5uk16hxlKUup"
      }
    },
    {
      "cell_type": "code",
      "source": [
        "poisson.pmf(27, 30)\n",
        "# PMF: Probability Mass Function\n",
        "# pmf(exact number, average count)\n",
        "# exactly 27 accidents"
      ],
      "metadata": {
        "colab": {
          "base_uri": "https://localhost:8080/"
        },
        "id": "hhsGonahoa3z",
        "outputId": "396346a2-e33f-42ca-ee0b-458f5720b3cd"
      },
      "execution_count": null,
      "outputs": [
        {
          "output_type": "execute_result",
          "data": {
            "text/plain": [
              "0.06553248388325897"
            ]
          },
          "metadata": {},
          "execution_count": 10
        }
      ]
    },
    {
      "cell_type": "markdown",
      "source": [
        "#### poisson.cdf(range number, average count)"
      ],
      "metadata": {
        "id": "U_czgiKvKb9f"
      }
    },
    {
      "cell_type": "code",
      "source": [
        "poisson.cdf(27, 30)\n",
        "# CDF: Cummulative Distribution Function\n",
        "# cdf(range number, average count)\n",
        "# max 27 acidents with average 30 accidents per day"
      ],
      "metadata": {
        "colab": {
          "base_uri": "https://localhost:8080/"
        },
        "id": "qfKKKKQMo09o",
        "outputId": "6c102c87-b6bd-4bac-acfd-0a2c13bd5d6e"
      },
      "execution_count": null,
      "outputs": [
        {
          "output_type": "execute_result",
          "data": {
            "text/plain": [
              "0.3328690840455234"
            ]
          },
          "metadata": {},
          "execution_count": 11
        }
      ]
    },
    {
      "cell_type": "code",
      "source": [
        "1 - poisson.cdf(27, 30)\n",
        "# min 28 accidents with average 30 accidents per day\n",
        "# 28 or 29 or 30 or 31 .... n accidents"
      ],
      "metadata": {
        "colab": {
          "base_uri": "https://localhost:8080/"
        },
        "id": "W6dbL1D9pmV6",
        "outputId": "ca0adb41-d0e4-4cff-e0d8-f095c37ce4ca"
      },
      "execution_count": null,
      "outputs": [
        {
          "output_type": "execute_result",
          "data": {
            "text/plain": [
              "0.6671309159544766"
            ]
          },
          "metadata": {},
          "execution_count": 12
        }
      ]
    },
    {
      "cell_type": "code",
      "source": [
        "1 - poisson.cdf(26, 30)\n",
        "# min 27 accidents with average 30 accidents per day\n",
        "# 27 or 28 or 29 or 30 or 31 .... n accidents"
      ],
      "metadata": {
        "colab": {
          "base_uri": "https://localhost:8080/"
        },
        "id": "G7sBB_wlqgpR",
        "outputId": "7787a9ba-718f-4e71-b9db-655043725b5c"
      },
      "execution_count": null,
      "outputs": [
        {
          "output_type": "execute_result",
          "data": {
            "text/plain": [
              "0.7326633998377348"
            ]
          },
          "metadata": {},
          "execution_count": 13
        }
      ]
    },
    {
      "cell_type": "markdown",
      "source": [
        "### Hypergeometric Distribution\n",
        "- is a discrete probability distribution that calculates the likelihood an event happens ```k``` times in ```n``` trials when you are sampling from a small population without replacement\n",
        "- it is like the binomial distribution except for the sampling without replacement aspect\n",
        "- ```hypergeom.cdf(k, N, K, n)```\n",
        "    - ```K``` : outcome of interest in Population\n",
        "    - ```N``` : Population Size\n",
        "    - ```k``` : outcome of interest in Sample\n",
        "    - ```n``` : Sample Size\n",
        "- used when sampling is done without replacement, but binomial distribution is sampled with replacement\n",
        "- population size is finite\n",
        "- used in industrial quality checking\n"
      ],
      "metadata": {
        "id": "k45JQZwUrxYt"
      }
    },
    {
      "cell_type": "markdown",
      "source": [
        "70 LEDs from the manufacturer , out of which upto 7 can be defective\n",
        "\n",
        "we take a sample of 20, out of which UPTO 2 can be allowed to be defective and we still accept the lot"
      ],
      "metadata": {
        "id": "Ev8jbvlOs9wb"
      }
    },
    {
      "cell_type": "markdown",
      "source": [
        "### scipy.stats.hypergeom"
      ],
      "metadata": {
        "id": "ln8YlZcGJi2J"
      }
    },
    {
      "cell_type": "code",
      "source": [
        "import scipy\n",
        "from scipy import stats\n",
        "from scipy.stats import hypergeom"
      ],
      "metadata": {
        "id": "j85YMFwIqpWb"
      },
      "execution_count": null,
      "outputs": []
    },
    {
      "cell_type": "markdown",
      "source": [
        "#### hypergeom.cdf(k, N, K, n)"
      ],
      "metadata": {
        "id": "tvtV26_QKlz8"
      }
    },
    {
      "cell_type": "code",
      "source": [
        "hypergeom.cdf(2, 70, 7, 20)\n",
        "# cdf(no of events, population size, population of events, sample size)\n",
        "# cdf(no of allowed events in sample, population size, no of allowed events in population, picked sample size)\n",
        "# prob(0 defective) + prob(1 defective) + prob(2 defective) + prob(3 defective)"
      ],
      "metadata": {
        "colab": {
          "base_uri": "https://localhost:8080/"
        },
        "id": "9QhiNKcruE_n",
        "outputId": "ba7f7f95-b99c-49d9-b42d-5c5ca1d67a9a"
      },
      "execution_count": null,
      "outputs": [
        {
          "output_type": "execute_result",
          "data": {
            "text/plain": [
              "0.6842509992202706"
            ]
          },
          "metadata": {},
          "execution_count": 15
        }
      ]
    },
    {
      "cell_type": "markdown",
      "source": [
        "#### hypergeom.pmf(k, N, K, n)"
      ],
      "metadata": {
        "id": "Ctk6Jq6uLH6y"
      }
    },
    {
      "cell_type": "code",
      "source": [
        "hypergeom.pmf(0, 70, 7, 20)+hypergeom.pmf(1, 70, 7, 20)+hypergeom.pmf(2, 70, 7, 20)\n",
        "# same as hypergeom.cdf(2, 70, 7, 20)"
      ],
      "metadata": {
        "colab": {
          "base_uri": "https://localhost:8080/"
        },
        "id": "MbJcNqpAuq7j",
        "outputId": "963c2d25-5f39-48b3-a7b4-c2d367491142"
      },
      "execution_count": null,
      "outputs": [
        {
          "output_type": "execute_result",
          "data": {
            "text/plain": [
              "0.6842509992202704"
            ]
          },
          "metadata": {},
          "execution_count": 16
        }
      ]
    },
    {
      "cell_type": "markdown",
      "source": [
        "## Continuous Probability Distributions\n",
        "1. Exponential Probability Distributions\n",
        "2. Normal Probability Distributions\n",
        "3. Student's t Probability Distributions"
      ],
      "metadata": {
        "id": "Jhk-CDBjnOOX"
      }
    },
    {
      "cell_type": "markdown",
      "source": [
        "### Exponential Probability Distributions\n",
        "- used when we wish to model the time gap between two successive events\n",
        "- usually failures are taken as events in industry, and use this distribution to model failure times\n",
        "- small values are more likely than larger values\n",
        "- MTBF should be known [MTBF: Mean/Average Time Between Failures] and the time gap to find the failures should be known"
      ],
      "metadata": {
        "id": "3ZsDwn3MwmZL"
      }
    },
    {
      "cell_type": "markdown",
      "source": [
        "- On an average, there are 200 server trips in one year. A client is visiting the office for 60 hours.\n",
        "- What are the chances that he sees the server trip ?"
      ],
      "metadata": {
        "id": "iRLN7o9RxCUo"
      }
    },
    {
      "cell_type": "code",
      "source": [
        "365*24\n",
        "# 365d X 24hrs = 8460hrs"
      ],
      "metadata": {
        "colab": {
          "base_uri": "https://localhost:8080/"
        },
        "id": "pB5HbP9UvXLd",
        "outputId": "6da11dcd-4778-4b97-b617-36482e94a2c1"
      },
      "execution_count": null,
      "outputs": [
        {
          "output_type": "execute_result",
          "data": {
            "text/plain": [
              "8760"
            ]
          },
          "metadata": {},
          "execution_count": 17
        }
      ]
    },
    {
      "cell_type": "code",
      "source": [
        "8760/200\n",
        "# 8760hrs / 200 trips per year\n",
        "# next trip after 43.8hrs"
      ],
      "metadata": {
        "colab": {
          "base_uri": "https://localhost:8080/"
        },
        "id": "XFMi2d-Ax3xl",
        "outputId": "9624a0a4-e2f9-467b-e6e5-5e96b9f45441"
      },
      "execution_count": null,
      "outputs": [
        {
          "output_type": "execute_result",
          "data": {
            "text/plain": [
              "43.8"
            ]
          },
          "metadata": {},
          "execution_count": 18
        }
      ]
    },
    {
      "cell_type": "code",
      "source": [
        "e = 2.7182\n",
        "# base of natural log"
      ],
      "metadata": {
        "id": "vYbvRT2wyGgG"
      },
      "execution_count": null,
      "outputs": []
    },
    {
      "cell_type": "markdown",
      "source": [
        "#### e^(-a/b)\n",
        "- e^(-a/b)\n",
        "- e^(-timeFrame/avgFailureTime)\n"
      ],
      "metadata": {
        "id": "_8-jtB4WLMvY"
      }
    },
    {
      "cell_type": "code",
      "source": [
        "e**(-60/43.8)\n",
        "# e^(-a/b)\n",
        "# e^(-timeFrame/avgFailureTime)\n",
        "# probability that the client will not see the failure"
      ],
      "metadata": {
        "colab": {
          "base_uri": "https://localhost:8080/"
        },
        "id": "unqHPJmJyN0I",
        "outputId": "96917fd8-df48-487b-87a2-4253659546cd"
      },
      "execution_count": null,
      "outputs": [
        {
          "output_type": "execute_result",
          "data": {
            "text/plain": [
              "0.2541522515269206"
            ]
          },
          "metadata": {},
          "execution_count": 20
        }
      ]
    },
    {
      "cell_type": "markdown",
      "source": [
        "#### 1 - e^(-a/b)"
      ],
      "metadata": {
        "id": "rxVE3ytpLQKE"
      }
    },
    {
      "cell_type": "code",
      "source": [
        "1 - e**(-60/43.8)\n",
        "# prob that the client will see the breakdown"
      ],
      "metadata": {
        "colab": {
          "base_uri": "https://localhost:8080/"
        },
        "id": "lA_0t0RQytwV",
        "outputId": "9228d065-4e9b-445f-ee18-ab1906bebb6f"
      },
      "execution_count": null,
      "outputs": [
        {
          "output_type": "execute_result",
          "data": {
            "text/plain": [
              "0.7458477484730794"
            ]
          },
          "metadata": {},
          "execution_count": 21
        }
      ]
    },
    {
      "cell_type": "markdown",
      "source": [
        "### Normal Probability Distributions\n",
        "- normal distribution will be used only when sample size > 30, or for historical/huge data\n",
        "- normal distribution can't be used when sample size <= 30, then use Student's t distribution\n",
        "- A normal bell-shaped curve is defined by two parameters: Mean & Standard Deviation\n",
        "- For Standard Normal Curve, Mean = 0, SD = 1\n",
        "- Normal Distribution used when sample size > 30, and if Sample Size <= 30, then use Student's t distribution [as per Central Limit Theorem]\n",
        "- Population S.D. is known, then use Normal Distribution and if Population S.D. is not known, then use Student's t distribution\n",
        "\n",
        "\n",
        "\n",
        "\n",
        "\n"
      ],
      "metadata": {
        "id": "ioAU_Z-ezdT3"
      }
    },
    {
      "cell_type": "markdown",
      "source": [
        "Q. averge time travel = 70min with SD of 2min\n",
        "\n",
        "what is the probability of reaching CST\n",
        "1. in less than 67min\n",
        "2. more than 67min\n",
        "\n",
        "```X``` outcome of interest = 67 ; ```x̄``` Sample Mean = 70 ; ```σ``` S.D. = 2\n",
        "\n"
      ],
      "metadata": {
        "id": "mHfJydxc2mSO"
      }
    },
    {
      "cell_type": "markdown",
      "source": [
        "### scipy.stats.norm"
      ],
      "metadata": {
        "id": "dXtp3P1WJdzX"
      }
    },
    {
      "cell_type": "code",
      "source": [
        "import scipy\n",
        "from scipy import stats\n",
        "from scipy.stats import norm"
      ],
      "metadata": {
        "id": "tsSd2RWay_Co"
      },
      "execution_count": null,
      "outputs": []
    },
    {
      "cell_type": "markdown",
      "source": [
        "#### norm.cdf(X, x̄, σ)"
      ],
      "metadata": {
        "id": "hE0drF9wLf0m"
      }
    },
    {
      "cell_type": "code",
      "source": [
        "norm.cdf(67, 70, 2)\n",
        "# norm.cdf(X, x̄, σ)\n",
        "# probability of less than 67min"
      ],
      "metadata": {
        "colab": {
          "base_uri": "https://localhost:8080/"
        },
        "id": "rumiqTMU276o",
        "outputId": "93e3748c-26d7-4ee9-e036-6e5f7e16d12c"
      },
      "execution_count": null,
      "outputs": [
        {
          "output_type": "execute_result",
          "data": {
            "text/plain": [
              "0.06680720126885807"
            ]
          },
          "metadata": {},
          "execution_count": 34
        }
      ]
    },
    {
      "cell_type": "code",
      "source": [
        "1 - norm.cdf(67, 70, 2)\n",
        "# probability of more than 67min"
      ],
      "metadata": {
        "colab": {
          "base_uri": "https://localhost:8080/"
        },
        "id": "FjtmUCGJ2-2K",
        "outputId": "f5f202d9-20e3-4c8b-d8b2-84dee5d5b083"
      },
      "execution_count": null,
      "outputs": [
        {
          "output_type": "execute_result",
          "data": {
            "text/plain": [
              "0.9331927987311419"
            ]
          },
          "metadata": {},
          "execution_count": 35
        }
      ]
    },
    {
      "cell_type": "markdown",
      "source": [
        "#### norm.sf(X, x̄, σ)"
      ],
      "metadata": {
        "id": "8CCrZfzMLiZE"
      }
    },
    {
      "cell_type": "code",
      "source": [
        "norm.sf(67, 70, 2)\n",
        "# norm.sf(X, x̄, σ)\n",
        "# probability of more than 67min\n",
        "# same as 1 - norm.cdf(67, 70, 2)"
      ],
      "metadata": {
        "colab": {
          "base_uri": "https://localhost:8080/"
        },
        "id": "_QbMC21o3I6v",
        "outputId": "abaced63-b866-44f2-d0a2-3a3e60f8644f"
      },
      "execution_count": null,
      "outputs": [
        {
          "output_type": "execute_result",
          "data": {
            "text/plain": [
              "0.9331927987311419"
            ]
          },
          "metadata": {},
          "execution_count": 36
        }
      ]
    },
    {
      "cell_type": "markdown",
      "source": [
        "#### norm.cdf(Z)\n",
        "- uses Z-Statistics to calculate normal distribution"
      ],
      "metadata": {
        "id": "oNuxTeKTLre9"
      }
    },
    {
      "cell_type": "code",
      "source": [
        "norm.cdf(-1.5)\n",
        "# norm.cdf(Z)\n",
        "# calculating normal distribution using Z-Statistics"
      ],
      "metadata": {
        "colab": {
          "base_uri": "https://localhost:8080/"
        },
        "id": "T9IjGaRZ3oE9",
        "outputId": "77bb91e0-28d3-4041-8b1a-123c41373bed"
      },
      "execution_count": null,
      "outputs": [
        {
          "output_type": "execute_result",
          "data": {
            "text/plain": [
              "0.06680720126885807"
            ]
          },
          "metadata": {},
          "execution_count": 43
        }
      ]
    },
    {
      "cell_type": "markdown",
      "source": [
        "#### Z-Score or Z-Statistics , Z\n",
        "- used to determine whether to reject the null hypothesis or otherwise\n",
        "- value on x-axis of Standard Normal Deviation\n",
        "- directly linked with C.L.\n",
        "- if C.L. increases, Z also increases\n",
        "\n",
        "\n",
        "- Z = (X -Mean)/S.D.  =  (X - μ)/σ\n",
        "- ```Z = (Observation - x̄) / S.D.```\n",
        "- ```Z = (X - x̄) / σ```\n",
        "\n",
        "        x̄ (Sample Mean) = 70\n",
        "        X (Claimed / Population Mean)= 67\n",
        "        σ (S.D.) = 2\n",
        "\n",
        "\n",
        "        Z = (X - x̄) / σ\n",
        "        Z = (67 - 70) / 2\n",
        "        Z = -3 / 2\n",
        "        Z = -1.5"
      ],
      "metadata": {
        "id": "K16nGy9x9unA"
      }
    },
    {
      "cell_type": "markdown",
      "source": [
        "### Central Limit Theorem\n",
        "- the sampling distribution of the mean will always be normally distributed, as long as the sample size is large enough\n",
        "- as the number of samples/ sample size increase, the distribution of sample means will get closer to the normal distribution"
      ],
      "metadata": {
        "id": "J7AlFsBjA6cc"
      }
    },
    {
      "cell_type": "markdown",
      "source": [
        "### Student's t Probability Distributions\n",
        "- symmetrical, bell-shaped distribution, similar to the standard normal curve, but has heavier tail\n",
        "- shape of the t-distribution varies with the change in degrees of freedom\n",
        "- mean & S.D. are needed to transform Z-Statistics\n",
        "- also needs degree of freedom(dof), higher the degrees of freedom (dof), the closer this distribution will approximate a standard normal distribution with a mean of 0 and a S.D. of 1\n",
        "- Normal Distribution used when sample size > 30, and if Sample Size <= 30, then use Student's t distribution [as per Central Limit Theorem]\n",
        "- Population S.D. is known, then use Normal Distribution and if Population S.D. is not known, then use Student's t distribution\n"
      ],
      "metadata": {
        "id": "Shn6NJpc_776"
      }
    },
    {
      "cell_type": "markdown",
      "source": [
        "#### Applications of student's t-distribution\n",
        "- The important applications of t-distributions are as follows:\n",
        "    - Testing for the hypothesis of the population mean\n",
        "    - Testing for the hypothesis of the difference between two means. In this case, the t-test can be calculated in two different ways, such as\n",
        "        - Variances are equal\n",
        "        - Variances are unequal\n",
        "    - Testing for the hypothesis of the difference between two means having the dependent sample\n",
        "    - Testing for the hypothesis about the Coefficient of Correlation. It is involved in three cases. They are:\n",
        "        - When the population coefficient of correlation is zero, i.e. ρ = 0.\n",
        "        - When the population coefficient of correlation is not zero, i.e. ρ≠ 0.\n",
        "        - When the hypothesis is examined for the difference between two independent correlation coefficients\n"
      ],
      "metadata": {
        "id": "seFLjV8CyF0J"
      }
    },
    {
      "cell_type": "markdown",
      "source": [
        "Q. averge time travel = 70min with SD of 2min\n",
        "\n",
        "what is the probability of reaching CST\n",
        "1. in less than 67min\n",
        "2. more than 67min\n",
        "\n",
        "above data is based on 20 trips(< 30), so we need to use student's t distribution"
      ],
      "metadata": {
        "id": "um_LKBOgAJ6w"
      }
    },
    {
      "cell_type": "markdown",
      "source": [
        "### scipy.stats.t"
      ],
      "metadata": {
        "id": "1AKyHbmXJVwe"
      }
    },
    {
      "cell_type": "code",
      "source": [
        "import scipy\n",
        "from scipy import stats\n",
        "from scipy.stats import t"
      ],
      "metadata": {
        "id": "8MEKVpJk9jlm"
      },
      "execution_count": null,
      "outputs": []
    },
    {
      "cell_type": "markdown",
      "source": [
        "### t.cdf(Z, n-1)\n",
        "- uses Z-statistics ```Z``` & Degree of fredom ```dof``` to calculate Student's t distribution\n",
        "- does not take S.D. or σ in arguments"
      ],
      "metadata": {
        "id": "2isdOqQSL4_n"
      }
    },
    {
      "cell_type": "code",
      "source": [
        "t.cdf(-1.5, 20-1)\n",
        "# t.cdf(Z, dof)\n",
        "# uses Z-statistics to calculate Student's t distribution"
      ],
      "metadata": {
        "colab": {
          "base_uri": "https://localhost:8080/"
        },
        "id": "asXF3689AUcM",
        "outputId": "6b8a5c02-43ff-483f-86d5-c8936192c344"
      },
      "execution_count": null,
      "outputs": [
        {
          "output_type": "execute_result",
          "data": {
            "text/plain": [
              "0.07502426537113577"
            ]
          },
          "metadata": {},
          "execution_count": 2
        }
      ]
    },
    {
      "cell_type": "code",
      "source": [
        "# n = 200\n",
        "# Z = -1.5\n",
        "t.cdf(-1.5, 200-1)\n",
        "# t.cdf(Z, dof)"
      ],
      "metadata": {
        "colab": {
          "base_uri": "https://localhost:8080/"
        },
        "id": "uk-pqAutAe00",
        "outputId": "4eefc1ed-f0ab-474c-819f-f2658698c551"
      },
      "execution_count": null,
      "outputs": [
        {
          "output_type": "execute_result",
          "data": {
            "text/plain": [
              "0.06759961872077877"
            ]
          },
          "metadata": {},
          "execution_count": 3
        }
      ]
    },
    {
      "cell_type": "code",
      "source": [
        "t.ppf(0.06759961872077877, 200-1)"
      ],
      "metadata": {
        "colab": {
          "base_uri": "https://localhost:8080/"
        },
        "id": "BPSax9Y-yTSv",
        "outputId": "efe176f3-7bcc-467d-b993-cf2f2bfc0e02"
      },
      "execution_count": null,
      "outputs": [
        {
          "output_type": "execute_result",
          "data": {
            "text/plain": [
              "-1.499999999999639"
            ]
          },
          "metadata": {},
          "execution_count": 5
        }
      ]
    },
    {
      "cell_type": "markdown",
      "source": [
        "## Empirical Rule / Three-Sigma Rule\n",
        "1. ```1-σ``` : 68.26% of the observations will fall between +/- 1 S.D. from the mean\n",
        "2. ```2-σ``` : 95.44%  of the observations will fall between +/- 2 S.D. from the mean\n",
        "3. ```3-σ``` : 99.73% of the observations will fall between +/- 3 S.D. from the mean\n",
        "\n",
        "![Standard_deviation_diagram.svg.png](data:image/png;base64,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)"
      ],
      "metadata": {
        "id": "GA0DwoHwwQid"
      }
    },
    {
      "cell_type": "markdown",
      "source": [
        "### scipy.stats.norm"
      ],
      "metadata": {
        "id": "TsRJTOw6J25f"
      }
    },
    {
      "cell_type": "code",
      "source": [
        "import scipy\n",
        "from scipy import stats\n",
        "from scipy.stats import norm"
      ],
      "metadata": {
        "id": "x7FTSHafA3yi"
      },
      "execution_count": null,
      "outputs": []
    },
    {
      "cell_type": "markdown",
      "source": [
        "### norm.cdf(Z)"
      ],
      "metadata": {
        "id": "Sxgwqia_J6My"
      }
    },
    {
      "cell_type": "code",
      "source": [
        "norm.cdf(-1)\n",
        "# norm.cdf(Z)\n",
        "# uses Z-Statistics from normal distribution\n",
        "# gives z_statistics on negative-side of mean only"
      ],
      "metadata": {
        "colab": {
          "base_uri": "https://localhost:8080/"
        },
        "id": "fkQRtYA9vWSn",
        "outputId": "aa5dcaa6-8098-4e42-f9c7-9a197d83b3c9"
      },
      "execution_count": null,
      "outputs": [
        {
          "output_type": "execute_result",
          "data": {
            "text/plain": [
              "0.15865525393145707"
            ]
          },
          "metadata": {},
          "execution_count": 3
        }
      ]
    },
    {
      "cell_type": "code",
      "source": [
        "norm.cdf(-1)*2\n",
        "# multiplying Z-Statistics on negative-side with 2 to get\n",
        "# value from both sides of mean"
      ],
      "metadata": {
        "colab": {
          "base_uri": "https://localhost:8080/"
        },
        "id": "XiX8dsZqvY7I",
        "outputId": "9eb10957-9153-4d73-c2f8-f79f50193922"
      },
      "execution_count": null,
      "outputs": [
        {
          "output_type": "execute_result",
          "data": {
            "text/plain": [
              "0.31731050786291415"
            ]
          },
          "metadata": {},
          "execution_count": 4
        }
      ]
    },
    {
      "cell_type": "markdown",
      "source": [
        "### 1-σ"
      ],
      "metadata": {
        "id": "E9OF0CDmKhFx"
      }
    },
    {
      "cell_type": "code",
      "source": [
        "1 - norm.cdf(-1)*2\n",
        "# 1-σ\n",
        "# use Z-Statistics of -1 to find value on both sides of mean,\n",
        "# and subtract from total probabitliy of 1 to get 1-σ"
      ],
      "metadata": {
        "colab": {
          "base_uri": "https://localhost:8080/"
        },
        "id": "fPsXRjRUvn4y",
        "outputId": "ecea69a5-46e0-45ba-d89e-d347cac0c9b1"
      },
      "execution_count": null,
      "outputs": [
        {
          "output_type": "execute_result",
          "data": {
            "text/plain": [
              "0.6826894921370859"
            ]
          },
          "metadata": {},
          "execution_count": 5
        }
      ]
    },
    {
      "cell_type": "markdown",
      "source": [
        "### 2-σ"
      ],
      "metadata": {
        "id": "8QdjOLOiKjba"
      }
    },
    {
      "cell_type": "code",
      "source": [
        "1 - norm.cdf(-2)*2\n",
        "# 2-σ\n",
        "# use Z-Statistics of -2 to find value on both sides of mean,\n",
        "# and subtract from total probabitliy of 1 to get 2-σ"
      ],
      "metadata": {
        "colab": {
          "base_uri": "https://localhost:8080/"
        },
        "id": "meG2nyFEvs2e",
        "outputId": "e1b8a651-85a4-4ddd-f596-26a018f4eb1b"
      },
      "execution_count": null,
      "outputs": [
        {
          "output_type": "execute_result",
          "data": {
            "text/plain": [
              "0.9544997361036416"
            ]
          },
          "metadata": {},
          "execution_count": 6
        }
      ]
    },
    {
      "cell_type": "markdown",
      "source": [
        "### 3-σ"
      ],
      "metadata": {
        "id": "a9HXFN1kKluc"
      }
    },
    {
      "cell_type": "code",
      "source": [
        "1 - norm.cdf(-3)*2\n",
        "# 3-σ\n",
        "# use Z-Statistics of -3 to find value on both sides of mean,\n",
        "# and subtract from total probabitliy of 1 to get 3-σ"
      ],
      "metadata": {
        "id": "mxv8B8emwEfD",
        "colab": {
          "base_uri": "https://localhost:8080/"
        },
        "outputId": "b13284a0-0b35-4894-9d68-0e417f72365a"
      },
      "execution_count": null,
      "outputs": [
        {
          "output_type": "execute_result",
          "data": {
            "text/plain": [
              "0.9973002039367398"
            ]
          },
          "metadata": {},
          "execution_count": 4
        }
      ]
    },
    {
      "cell_type": "markdown",
      "source": [
        "# → Inferential Statistics\n",
        "- analyze samplings to make predictions about larger populations\n",
        "- allows you to make inferences\n",
        "- by taking a small sample instead of working on the whole population\n",
        "- explains the chance of occurrence of an event\n",
        "- achieved by probability\n"
      ],
      "metadata": {
        "id": "6EigVJE1wUEX"
      }
    },
    {
      "cell_type": "markdown",
      "source": [
        "### 5 elements of inferential statistics\n",
        "1. population size\n",
        "2. number of variables\n",
        "3. sample set\n",
        "4. satistical inference about the population\n",
        "5. measure of reliability"
      ],
      "metadata": {
        "id": "czSVcrOVrh47"
      }
    },
    {
      "cell_type": "markdown",
      "source": [
        "### Sample Statistics, Population Parameter & Chance Variation\n",
        "1. Population: entire set\n",
        "2. Sample: subset of population\n",
        "\n",
        "\n",
        "1. Population Parameter (PP): properties related to pupulation set\n",
        "2. Sample Statistics (SS): properties related to sample set\n",
        "3. meaning of bias: prejudice / assumption\n",
        "4. chance variation: changes due to sampling, can be removed to zero only if we take population\n",
        "5.  ```Sample Statistic(SS) = Population Parameter(PP) + Bias + Chance Variation```\n",
        "            Sample Statistic(SS) = Population Parameter(PP) + Bias + Chance Variation\n",
        "            seen or shown        = reality                  + Bias + Chance variation\n",
        "\n",
        "\n",
        "- Note: Sample Statistics changes from sample to sample, but Population Parameter remains same for the same dataset\n"
      ],
      "metadata": {
        "id": "6fGS-4ZNw2w1"
      }
    },
    {
      "cell_type": "markdown",
      "source": [
        "### Confidence Level (C.L.)\n",
        "- probability of delivering correct result\n",
        "- default value of C.L. is 95%\n",
        "\n",
        "\n",
        "- ```C.L. of Sample < 100%```\n",
        "- ```C.L. of Population =100%```\n",
        "\n",
        "\n",
        "- ```C.L. ∝ Sample Size (n)```\n",
        "- to increase confidence level, increase Sample Size"
      ],
      "metadata": {
        "id": "kAdSDWiFO8_Q"
      }
    },
    {
      "cell_type": "code",
      "source": [
        "import scipy\n",
        "from scipy import stats"
      ],
      "metadata": {
        "id": "TAv8bL1uwZxF"
      },
      "execution_count": null,
      "outputs": []
    },
    {
      "cell_type": "markdown",
      "source": [
        "### scipy.stats.t.interval(C.L., dof, x̄, StdErrMean)\n",
        "- calculating the interval, its size, and the factors it depends on\n",
        "- bigger the interval size, lesser the C.L.\n"
      ],
      "metadata": {
        "id": "q3DG1OaSMeAJ"
      }
    },
    {
      "cell_type": "markdown",
      "source": [
        "for C.L. = 0.95 or 95 %\n",
        "- Sample Size ```n``` = 2000\n",
        "- SS or Mean(x) or ```x̄``` = 27,000\n",
        "- S.D. ```σ``` = 5000\n",
        "- Standard Error of the Mean, ```StdErrMean = S.D. / sqrt(SampleSize)```\n",
        "- Standard Error of the Mean, ```StdErrMean = σ / sqrt(n)```"
      ],
      "metadata": {
        "id": "pNchx5LFPgy0"
      }
    },
    {
      "cell_type": "code",
      "source": [
        "x = stats.t.interval(0.95, 2000-1, 27000, 5000/2000**0.5)\n",
        "# interval(C.L., dof, x̄, StdErrMean)\n",
        "# Standard Error of the Mean = S.D. / sqrt(SampleSize)\n",
        "# returns (lower_value, higher_value)\n",
        "x"
      ],
      "metadata": {
        "colab": {
          "base_uri": "https://localhost:8080/"
        },
        "id": "-TqMak1ZB8ey",
        "outputId": "36db34b6-447a-4ec2-ea5b-891df254326a"
      },
      "execution_count": null,
      "outputs": [
        {
          "output_type": "execute_result",
          "data": {
            "text/plain": [
              "(26780.73660551642, 27219.26339448358)"
            ]
          },
          "metadata": {},
          "execution_count": 9
        }
      ]
    },
    {
      "cell_type": "code",
      "source": [
        "base_interval = x[1] - x[0]\n",
        "base_interval\n",
        "# Interval Size"
      ],
      "metadata": {
        "colab": {
          "base_uri": "https://localhost:8080/"
        },
        "id": "cFgZ7RxDEp8z",
        "outputId": "5c683144-526d-4879-be9a-a5453ebbd987"
      },
      "execution_count": null,
      "outputs": [
        {
          "output_type": "execute_result",
          "data": {
            "text/plain": [
              "438.5267889671595"
            ]
          },
          "metadata": {},
          "execution_count": 10
        }
      ]
    },
    {
      "cell_type": "markdown",
      "source": [
        "for C.L. = 0.99 or 99.9 %\n",
        "- Sample Size ```n``` = 2000\n",
        "- SS or Mean(x) or ```x̄``` = 27,000\n",
        "- S.D. ```σ``` = 5000\n",
        "- ```Standard Error of the Mean, StdErrMean = S.D. / sqrt(SampleSize)```\n",
        "- ```Standard Error of the Mean, StdErrMean = σ / sqrt(n)```"
      ],
      "metadata": {
        "id": "kyDbgLscRC7I"
      }
    },
    {
      "cell_type": "code",
      "source": [
        "x = stats.t.interval(0.999, 2000-1, 27000, 5000/2000**0.5)\n",
        "# interval(C.L., dof, x̄, StdErrMean)\n",
        "x"
      ],
      "metadata": {
        "colab": {
          "base_uri": "https://localhost:8080/"
        },
        "id": "wbC3DPS5GWmQ",
        "outputId": "dc370d7d-1e02-4886-d337-07b474e76f5f"
      },
      "execution_count": null,
      "outputs": [
        {
          "output_type": "execute_result",
          "data": {
            "text/plain": [
              "(26631.56301484492, 27368.436985155084)"
            ]
          },
          "metadata": {},
          "execution_count": 12
        }
      ]
    },
    {
      "cell_type": "code",
      "source": [
        "CL_interval = x[1]- x[0]\n",
        "CL_interval"
      ],
      "metadata": {
        "colab": {
          "base_uri": "https://localhost:8080/"
        },
        "id": "IKSHJGzcGkYf",
        "outputId": "4883836b-d797-42a7-fffe-61d468586ac2"
      },
      "execution_count": null,
      "outputs": [
        {
          "output_type": "execute_result",
          "data": {
            "text/plain": [
              "736.8739703101637"
            ]
          },
          "metadata": {},
          "execution_count": 13
        }
      ]
    },
    {
      "cell_type": "markdown",
      "source": [
        "for C.L. = 0.95 or 95 %\n",
        "- Sample Size ```n``` = 2000\n",
        "- SS or Mean(x) or ```x̄``` = 27,000\n",
        "- S.D. ```σ``` = 1000 [5000-->1000]\n",
        "- ```Standard Error of the Mean, StdErrMean = S.D. / sqrt(SampleSize)```\n",
        "- ```Standard Error of the Mean, StdErrMean = σ / sqrt(n)```"
      ],
      "metadata": {
        "id": "BES07JbZQNvm"
      }
    },
    {
      "cell_type": "code",
      "source": [
        "x = stats.t.interval(0.95, 2000-1, 27000, 1000/2000**0.5)\n",
        "# interval(C.L., dof, x̄, StdErrMean)\n",
        "x"
      ],
      "metadata": {
        "colab": {
          "base_uri": "https://localhost:8080/"
        },
        "id": "kA4Aji5MG_qp",
        "outputId": "ffbe0f34-106b-4bba-a215-cce0da91ce8e"
      },
      "execution_count": null,
      "outputs": [
        {
          "output_type": "execute_result",
          "data": {
            "text/plain": [
              "(26956.147321103283, 27043.852678896717)"
            ]
          },
          "metadata": {},
          "execution_count": 16
        }
      ]
    },
    {
      "cell_type": "code",
      "source": [
        "Sigma_interval = x[1] - x[0]\n",
        "Sigma_interval"
      ],
      "metadata": {
        "colab": {
          "base_uri": "https://localhost:8080/"
        },
        "id": "iA8eSrHqHE6M",
        "outputId": "3042da38-a552-4fb2-b447-ad2ba8256eb6"
      },
      "execution_count": null,
      "outputs": [
        {
          "output_type": "execute_result",
          "data": {
            "text/plain": [
              "87.70535779343481"
            ]
          },
          "metadata": {},
          "execution_count": 17
        }
      ]
    },
    {
      "cell_type": "markdown",
      "source": [
        "for C.L. = 0.95 or 95 %\n",
        "- Sample Size ```n``` = 2000000 [2000->2000000]\n",
        "- SS or Mean(x) or ```x̄``` = 27,000\n",
        "- S.D. ```σ``` = 5000\n",
        "- ```Standard Error of the Mean, StdErrMean = S.D. / sqrt(SampleSize)```\n",
        "- ```Standard Error of the Mean, StdErrMean = σ / sqrt(n)```"
      ],
      "metadata": {
        "id": "dK-drkMvQkqP"
      }
    },
    {
      "cell_type": "code",
      "source": [
        "x = stats.t.interval(0.95, 2000000-1, 27000, 5000/2000000**0.5)\n",
        "# interval(C.L., dof, x̄, StdErrMean)\n",
        "x"
      ],
      "metadata": {
        "colab": {
          "base_uri": "https://localhost:8080/"
        },
        "id": "3zMlWWZdHqDw",
        "outputId": "26440d96-1b33-460a-e841-348fb703db96"
      },
      "execution_count": null,
      "outputs": [
        {
          "output_type": "execute_result",
          "data": {
            "text/plain": [
              "(26993.070476684625, 27006.929523315375)"
            ]
          },
          "metadata": {},
          "execution_count": 18
        }
      ]
    },
    {
      "cell_type": "code",
      "source": [
        "ss_interval = x[1] - x[0]\n",
        "ss_interval"
      ],
      "metadata": {
        "colab": {
          "base_uri": "https://localhost:8080/"
        },
        "id": "HiPpTw4LH3_h",
        "outputId": "852d4dbc-035c-4c51-8b39-88d85837bea4"
      },
      "execution_count": null,
      "outputs": [
        {
          "output_type": "execute_result",
          "data": {
            "text/plain": [
              "13.859046630750527"
            ]
          },
          "metadata": {},
          "execution_count": 20
        }
      ]
    },
    {
      "cell_type": "code",
      "source": [
        "#                               Confidence Level        σ           n       IntervalSize\n",
        "# Base                          95                      5000        2000    438.5\n",
        "# CL 95-->99.9                  99.9                    5000        2000    736.8\n",
        "# Sigma 5000-->2000             95                      1000        2000    087.7\n",
        "# SS or Mean 2000-->2000000     95                      5000        2000000 13.85"
      ],
      "metadata": {
        "id": "pORFJjL6E-Qj"
      },
      "execution_count": null,
      "outputs": []
    },
    {
      "cell_type": "markdown",
      "source": [
        "### Deciding Minimum Sample Size, n\n",
        "- ```n = 9(z ** 2) x σ ** 2) / d ** 2```\n",
        "- ```n``` : Minimum Sample Size\n",
        "- ```Z``` : Z-Statistics or Z-Score, value on x-axis of Standard Normal Deviation [directly linked with C.L., if C.L. increases, Z also increases] [provided by Boss in your organization]\n",
        "- ```σ``` : S.D. [prior known]\n",
        "- ```d``` : Interval Size (MoE: Margin of Error) [by client of your organization]"
      ],
      "metadata": {
        "id": "k-gcDL1DH-ya"
      }
    },
    {
      "cell_type": "markdown",
      "source": [
        "### Proportion\n",
        "- S.D. ```σ = sqrt(p(1 - p))```"
      ],
      "metadata": {
        "id": "BvhtcgTdbS9r"
      }
    }
  ]
}