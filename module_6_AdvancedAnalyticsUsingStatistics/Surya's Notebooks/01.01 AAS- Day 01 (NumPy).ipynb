{
  "cells": [
    {
      "cell_type": "markdown",
      "source": [
        "# → Course contents\n",
        "1. Programming\n",
        "2. DataBase Management System\n",
        "3. Descriptive statistics\n",
        "4. Inferential statistics\n",
        "5. Predictive statistics\n",
        "6. Modeling\n"
      ],
      "metadata": {
        "id": "F-nJS13K5zRR"
      }
    },
    {
      "cell_type": "markdown",
      "source": [
        "# → Types of statistics\n",
        "1. Descriptive statistics - news and all, indicating variances or central tendencies\n",
        "2. Inferential statistics - making inferences using different tests, regressions, correlations to take decisions\n",
        "3. Predictive statistics - predictions based on previous data using regessions, classifications, associations or clustering\n",
        "4. Diagnostic Analytics - examines data or content tofind the root cause of an event happening, includes techniques such as drill-down, data discovery, data mining and correlations\n"
      ],
      "metadata": {
        "id": "TkdE0brS56qW"
      }
    },
    {
      "cell_type": "markdown",
      "source": [
        "# → Libraries to study\n",
        "1. NumPy (package for scientific computing)\n",
        "https://pypi.org/project/numpy/\n",
        "2. Pandas (fast, flexible, and expressive data structures)\n",
        "https://pypi.org/project/pandas/\n",
        "3. OpenPyXL library ( to export/import data from xlsx / csv file) https://pypi.org/project/openpyxl/\n"
      ],
      "metadata": {
        "id": "g_httdmv6EEc"
      }
    },
    {
      "cell_type": "markdown",
      "source": [
        "### NumPy"
      ],
      "metadata": {
        "id": "kxikNnGJS3cm"
      }
    },
    {
      "cell_type": "markdown",
      "source": [
        "- arrays in NumPy are called n-D array (ndarray)"
      ],
      "metadata": {
        "id": "RmpVzNCi-1sH"
      }
    },
    {
      "cell_type": "code",
      "execution_count": null,
      "metadata": {
        "id": "oiEHuJ4ln2F0"
      },
      "outputs": [],
      "source": [
        "import numpy as np"
      ]
    },
    {
      "cell_type": "markdown",
      "source": [
        "### np.arange()"
      ],
      "metadata": {
        "id": "LSaCxniuu9cm"
      }
    },
    {
      "cell_type": "code",
      "execution_count": null,
      "metadata": {
        "id": "pVAkZIq8oc_W",
        "colab": {
          "base_uri": "https://localhost:8080/"
        },
        "outputId": "bb16cd8b-e717-404a-ee6f-06d535ae01f8"
      },
      "outputs": [
        {
          "output_type": "execute_result",
          "data": {
            "text/plain": [
              "array([0, 1, 2, 3, 4, 5, 6])"
            ]
          },
          "metadata": {},
          "execution_count": 3
        }
      ],
      "source": [
        "x = np.arange(7)\n",
        "# to generate ndarray with even spacing of 7 numbers\n",
        "x"
      ]
    },
    {
      "cell_type": "code",
      "execution_count": null,
      "metadata": {
        "id": "SJiriNzzolGD",
        "colab": {
          "base_uri": "https://localhost:8080/"
        },
        "outputId": "29e97f31-e3e1-4f2a-9295-b1ef9e08a59d"
      },
      "outputs": [
        {
          "output_type": "execute_result",
          "data": {
            "text/plain": [
              "array([3, 4, 5, 6])"
            ]
          },
          "metadata": {},
          "execution_count": 4
        }
      ],
      "source": [
        "x = np.arange(3, 7)\n",
        "# to generate ndarray between 3, 7 with default step=1\n",
        "x"
      ]
    },
    {
      "cell_type": "code",
      "execution_count": null,
      "metadata": {
        "id": "y47u9_Ctor02",
        "colab": {
          "base_uri": "https://localhost:8080/"
        },
        "outputId": "8b1d42a4-4fe9-47e1-eab8-79a78f0c4633"
      },
      "outputs": [
        {
          "output_type": "execute_result",
          "data": {
            "text/plain": [
              "array([ 3,  7, 11, 15])"
            ]
          },
          "metadata": {},
          "execution_count": 5
        }
      ],
      "source": [
        "x = np.arange(3, 17, 4)\n",
        "# to generate ndarray between 3,17 with step=4\n",
        "x"
      ]
    },
    {
      "cell_type": "code",
      "execution_count": null,
      "metadata": {
        "id": "R8o5UStoo1SA",
        "colab": {
          "base_uri": "https://localhost:8080/"
        },
        "outputId": "6ec4a7c9-9d4f-49af-ccc7-0bbf3eec844b"
      },
      "outputs": [
        {
          "output_type": "execute_result",
          "data": {
            "text/plain": [
              "array([40, 38, 36, 34, 32, 30, 28, 26, 24, 22, 20, 18, 16, 14, 12, 10,  8])"
            ]
          },
          "metadata": {},
          "execution_count": 6
        }
      ],
      "source": [
        "x = np.arange(40, 6, -2)\n",
        "# to generate ndarray between 40,6 with reverse step=4\n",
        "x"
      ]
    },
    {
      "cell_type": "markdown",
      "source": [
        "### np.array()"
      ],
      "metadata": {
        "id": "bcmwpJ3HTqQ2"
      }
    },
    {
      "cell_type": "code",
      "execution_count": null,
      "metadata": {
        "id": "pRbKWghnqd-2",
        "colab": {
          "base_uri": "https://localhost:8080/"
        },
        "outputId": "4af594d4-6aac-4990-a4d1-a19e6ccdbbb3"
      },
      "outputs": [
        {
          "output_type": "execute_result",
          "data": {
            "text/plain": [
              "numpy.ndarray"
            ]
          },
          "metadata": {},
          "execution_count": 7
        }
      ],
      "source": [
        "x = np.array([3, 5, 4, 7]) # creating ndarray\n",
        "type(x)"
      ]
    },
    {
      "cell_type": "markdown",
      "source": [
        "- direct operations on ndarray is possible, known as broadcasting"
      ],
      "metadata": {
        "id": "dxET73S4TEsM"
      }
    },
    {
      "cell_type": "code",
      "execution_count": null,
      "metadata": {
        "colab": {
          "base_uri": "https://localhost:8080/"
        },
        "id": "f0G7OCqcre38",
        "outputId": "dc6905a1-8e74-4525-9e96-f1cd430e7c34"
      },
      "outputs": [
        {
          "output_type": "execute_result",
          "data": {
            "text/plain": [
              "array([ 6,  8,  7, 10])"
            ]
          },
          "metadata": {},
          "execution_count": 8
        }
      ],
      "source": [
        "x+3\n",
        "# broadcasting operation returns another ndarray"
      ]
    },
    {
      "cell_type": "code",
      "source": [
        "x\n",
        "# actual value of ndarray is same"
      ],
      "metadata": {
        "colab": {
          "base_uri": "https://localhost:8080/"
        },
        "id": "_uVgUe8P17Bd",
        "outputId": "a04260ec-a14b-4ffc-a784-a92f2f5a3c56"
      },
      "execution_count": null,
      "outputs": [
        {
          "output_type": "execute_result",
          "data": {
            "text/plain": [
              "array([3, 5, 4, 7])"
            ]
          },
          "metadata": {},
          "execution_count": 9
        }
      ]
    },
    {
      "cell_type": "code",
      "execution_count": null,
      "metadata": {
        "id": "n5objgjGrmol",
        "colab": {
          "base_uri": "https://localhost:8080/"
        },
        "outputId": "67e827fd-1ba7-487d-8b88-1da87be08d6d"
      },
      "outputs": [
        {
          "output_type": "execute_result",
          "data": {
            "text/plain": [
              "array([2, 8, 7, 6])"
            ]
          },
          "metadata": {},
          "execution_count": 10
        }
      ],
      "source": [
        "y = [2, 8, 7, 6]    # creating a list\n",
        "y = np.array(y)     # casting that list to ndarray\n",
        "y"
      ]
    },
    {
      "cell_type": "code",
      "source": [
        "y = y + 3           # direct operation on ndarray\n",
        "y"
      ],
      "metadata": {
        "colab": {
          "base_uri": "https://localhost:8080/"
        },
        "id": "F6dl-52kUwWe",
        "outputId": "c595c109-81e2-49d6-df77-63cfe414d4e3"
      },
      "execution_count": null,
      "outputs": [
        {
          "output_type": "execute_result",
          "data": {
            "text/plain": [
              "array([ 5, 11, 10,  9])"
            ]
          },
          "metadata": {},
          "execution_count": 9
        }
      ]
    },
    {
      "cell_type": "code",
      "source": [
        "y = list(y)         # casting that processed ndarray back to list\n",
        "y                   # printing list"
      ],
      "metadata": {
        "colab": {
          "base_uri": "https://localhost:8080/"
        },
        "id": "wqQaA9i7UwPe",
        "outputId": "9e072d23-7e1f-4185-ae8a-f409114e45ff"
      },
      "execution_count": null,
      "outputs": [
        {
          "output_type": "execute_result",
          "data": {
            "text/plain": [
              "[5, 11, 10, 9]"
            ]
          },
          "metadata": {},
          "execution_count": 10
        }
      ]
    },
    {
      "cell_type": "code",
      "execution_count": null,
      "metadata": {
        "id": "6rxK00sWsFAl",
        "colab": {
          "base_uri": "https://localhost:8080/"
        },
        "outputId": "7a32dc8c-b4c8-486d-8185-062f28fca806"
      },
      "outputs": [
        {
          "output_type": "execute_result",
          "data": {
            "text/plain": [
              "array([3, 7, 5, 8])"
            ]
          },
          "metadata": {},
          "execution_count": 11
        }
      ],
      "source": [
        "arr2d = np.array([3, 7, 5, 8]) # creating ndarray\n",
        "arr2d"
      ]
    },
    {
      "cell_type": "code",
      "execution_count": null,
      "metadata": {
        "id": "ujkloptjuNpW",
        "colab": {
          "base_uri": "https://localhost:8080/"
        },
        "outputId": "0dda1062-803b-44ea-a512-f13d893459ec"
      },
      "outputs": [
        {
          "output_type": "execute_result",
          "data": {
            "text/plain": [
              "array([[3, 7, 5, 8],\n",
              "       [1, 4, 3, 6]])"
            ]
          },
          "metadata": {},
          "execution_count": 12
        }
      ],
      "source": [
        "arr2d = np.array([[3, 7, 5, 8], [1, 4, 3, 6]])\n",
        "# creating 2-D ndarray with two rows\n",
        "arr2d"
      ]
    },
    {
      "cell_type": "code",
      "execution_count": null,
      "metadata": {
        "id": "rKW5PxW3uYwx",
        "colab": {
          "base_uri": "https://localhost:8080/"
        },
        "outputId": "bb16bc2c-c56a-45b5-da83-4782e11253d0"
      },
      "outputs": [
        {
          "output_type": "execute_result",
          "data": {
            "text/plain": [
              "array([[3, 7, 5, 8],\n",
              "       [1, 4, 3, 6],\n",
              "       [1, 9, 7, 4]])"
            ]
          },
          "metadata": {},
          "execution_count": 13
        }
      ],
      "source": [
        "arr2d = np.array([[3, 7, 5, 8], [1, 4, 3, 6], [1, 9, 7, 4]])\n",
        "# creating 2-D ndarray with three rows\n",
        "arr2d"
      ]
    },
    {
      "cell_type": "markdown",
      "source": [
        "### np.reshape(r, c)"
      ],
      "metadata": {
        "id": "pR5MigmpVj_A"
      }
    },
    {
      "cell_type": "code",
      "execution_count": null,
      "metadata": {
        "id": "DQYjXDzduiRn",
        "colab": {
          "base_uri": "https://localhost:8080/"
        },
        "outputId": "62c04799-835f-4653-a676-f59d9da24c21"
      },
      "outputs": [
        {
          "output_type": "execute_result",
          "data": {
            "text/plain": [
              "array([[[3, 7, 5, 8],\n",
              "        [1, 4, 3, 6],\n",
              "        [1, 9, 7, 4]],\n",
              "\n",
              "       [[4, 5, 6, 8],\n",
              "        [8, 7, 5, 6],\n",
              "        [1, 4, 3, 7]]])"
            ]
          },
          "metadata": {},
          "execution_count": 14
        }
      ],
      "source": [
        "arr3d = np.array([ [[3, 7, 5, 8], [1, 4, 3, 6], [1, 9, 7, 4]], [[4, 5, 6, 8], [8, 7, 5, 6], [1, 4, 3, 7]] ])\n",
        "# creating 3-D ndarray with two 2-D ndarrays of three row each\n",
        "arr3d"
      ]
    },
    {
      "cell_type": "code",
      "execution_count": null,
      "metadata": {
        "id": "p8LA9hKhwUe5",
        "colab": {
          "base_uri": "https://localhost:8080/"
        },
        "outputId": "cc517ba3-12e2-4344-ac1a-63ac98d69444"
      },
      "outputs": [
        {
          "output_type": "execute_result",
          "data": {
            "text/plain": [
              "list"
            ]
          },
          "metadata": {},
          "execution_count": 15
        }
      ],
      "source": [
        "t = [2, 4, 3, 6, 5, 7, 8, 9, 1, 2, 3, 5]\n",
        "type(t) # checking type of t"
      ]
    },
    {
      "cell_type": "code",
      "execution_count": null,
      "metadata": {
        "colab": {
          "base_uri": "https://localhost:8080/"
        },
        "id": "LBD7zjnAwgwl",
        "outputId": "5c8e1fe0-9bec-4eaf-d589-ccba5fba4209"
      },
      "outputs": [
        {
          "output_type": "execute_result",
          "data": {
            "text/plain": [
              "12"
            ]
          },
          "metadata": {},
          "execution_count": 16
        }
      ],
      "source": [
        "len(t)\n",
        "# printing length of list t"
      ]
    },
    {
      "cell_type": "code",
      "execution_count": null,
      "metadata": {
        "id": "UaOtQDniwrXB",
        "colab": {
          "base_uri": "https://localhost:8080/"
        },
        "outputId": "a6abe90b-ac28-40c2-eb32-06cbf7efa895"
      },
      "outputs": [
        {
          "output_type": "execute_result",
          "data": {
            "text/plain": [
              "array([2, 4, 3, 6, 5, 7, 8, 9, 1, 2, 3, 5])"
            ]
          },
          "metadata": {},
          "execution_count": 17
        }
      ],
      "source": [
        "t = np.array(t)\n",
        "# casting list t into ndarray t\n",
        "t"
      ]
    },
    {
      "cell_type": "code",
      "execution_count": null,
      "metadata": {
        "id": "U3Bf1GVPw2_x",
        "colab": {
          "base_uri": "https://localhost:8080/"
        },
        "outputId": "b33056aa-c23c-48f1-dd34-540e65cf96ed"
      },
      "outputs": [
        {
          "output_type": "execute_result",
          "data": {
            "text/plain": [
              "array([[2, 4, 3, 6],\n",
              "       [5, 7, 8, 9],\n",
              "       [1, 2, 3, 5]])"
            ]
          },
          "metadata": {},
          "execution_count": 18
        }
      ],
      "source": [
        "arr2d = t.reshape(3, 4)\n",
        "# reshaping 1-D ndarray to 2-D ndarray by specifying\n",
        "# rows & columns to reshape(r,c) method\n",
        "arr2d"
      ]
    },
    {
      "cell_type": "code",
      "execution_count": null,
      "metadata": {
        "id": "7MuC0PK3xAhp",
        "colab": {
          "base_uri": "https://localhost:8080/"
        },
        "outputId": "cd16829a-70a2-493d-b132-e1a36adb4504"
      },
      "outputs": [
        {
          "output_type": "execute_result",
          "data": {
            "text/plain": [
              "array([[2, 4],\n",
              "       [3, 6],\n",
              "       [5, 7],\n",
              "       [8, 9],\n",
              "       [1, 2],\n",
              "       [3, 5]])"
            ]
          },
          "metadata": {},
          "execution_count": 19
        }
      ],
      "source": [
        "arr2d = t.reshape(6, 2)\n",
        "# again reshaping a 2-D ndarray to another 2-D ndarray by\n",
        "# specifying rows & columns to reshape(r,c) method\n",
        "arr2d"
      ]
    },
    {
      "cell_type": "code",
      "execution_count": null,
      "metadata": {
        "id": "_R99lpyxxFQl",
        "colab": {
          "base_uri": "https://localhost:8080/"
        },
        "outputId": "c25c1298-4570-4def-e045-4df82d34f44c"
      },
      "outputs": [
        {
          "output_type": "execute_result",
          "data": {
            "text/plain": [
              "array([[2, 4, 3, 6, 5, 7],\n",
              "       [8, 9, 1, 2, 3, 5]])"
            ]
          },
          "metadata": {},
          "execution_count": 20
        }
      ],
      "source": [
        "arr2d = t.reshape(2, 6)\n",
        "# again reshaping a 2-D ndarray to another 2-D ndarray by\n",
        "# swapping rows & columns count\n",
        "arr2d"
      ]
    },
    {
      "cell_type": "code",
      "execution_count": null,
      "metadata": {
        "id": "JjneZg7gxJRA",
        "colab": {
          "base_uri": "https://localhost:8080/"
        },
        "outputId": "6f6f9442-0084-4c53-f2af-cfd2716b5a42"
      },
      "outputs": [
        {
          "output_type": "execute_result",
          "data": {
            "text/plain": [
              "array([3, 7, 6, 4, 8])"
            ]
          },
          "metadata": {},
          "execution_count": 21
        }
      ],
      "source": [
        "arr1d = np.array([3, 7, 6, 4, 8])\n",
        "# creating 1-D ndarray\n",
        "arr1d"
      ]
    },
    {
      "cell_type": "code",
      "execution_count": null,
      "metadata": {
        "colab": {
          "base_uri": "https://localhost:8080/"
        },
        "id": "LfUgqdahxsxJ",
        "outputId": "8cb1d4b6-40c8-44ad-d231-97eca616662d"
      },
      "outputs": [
        {
          "output_type": "execute_result",
          "data": {
            "text/plain": [
              "5"
            ]
          },
          "metadata": {},
          "execution_count": 22
        }
      ],
      "source": [
        "len(arr1d)"
      ]
    },
    {
      "cell_type": "markdown",
      "source": [
        "### accessing elements in 1-D ndarray"
      ],
      "metadata": {
        "id": "UyCnN2viZyIN"
      }
    },
    {
      "cell_type": "code",
      "execution_count": null,
      "metadata": {
        "colab": {
          "base_uri": "https://localhost:8080/"
        },
        "id": "WGi0Fa9Mxu6Q",
        "outputId": "10ffc475-d6de-49db-b589-3d5009f0c60d"
      },
      "outputs": [
        {
          "output_type": "execute_result",
          "data": {
            "text/plain": [
              "4"
            ]
          },
          "metadata": {},
          "execution_count": 23
        }
      ],
      "source": [
        "arr1d[3]\n",
        "# accessing 3rd element from 1-D ndarray"
      ]
    },
    {
      "cell_type": "code",
      "execution_count": null,
      "metadata": {
        "id": "6JpThpdux7bS",
        "colab": {
          "base_uri": "https://localhost:8080/"
        },
        "outputId": "5b786db0-b60a-4699-c096-19c6c32eab75"
      },
      "outputs": [
        {
          "output_type": "execute_result",
          "data": {
            "text/plain": [
              "array([3, 7, 6, 7, 8])"
            ]
          },
          "metadata": {},
          "execution_count": 24
        }
      ],
      "source": [
        "arr1d[3] = 7\n",
        "# updating 3rd element from 1-D ndarray\n",
        "arr1d"
      ]
    },
    {
      "cell_type": "markdown",
      "source": [
        "### np.append(ndarr, ele)"
      ],
      "metadata": {
        "id": "CVFMYmqzW6H1"
      }
    },
    {
      "cell_type": "code",
      "execution_count": null,
      "metadata": {
        "id": "eGAhg95bx-J7",
        "colab": {
          "base_uri": "https://localhost:8080/"
        },
        "outputId": "d332dbad-3778-4a6d-b27e-2b845bbd91c8"
      },
      "outputs": [
        {
          "output_type": "execute_result",
          "data": {
            "text/plain": [
              "array([ 3,  7,  6,  7,  8, 10])"
            ]
          },
          "metadata": {},
          "execution_count": 25
        }
      ],
      "source": [
        "arr1d = np.append(arr1d, 10)\n",
        "# np.append(ndarr, ele) appends ele to last of ndarray\n",
        "arr1d"
      ]
    },
    {
      "cell_type": "markdown",
      "source": [
        "### np.insert(ndarray, index, ele)"
      ],
      "metadata": {
        "id": "nPFEl0dCXN1d"
      }
    },
    {
      "cell_type": "code",
      "execution_count": null,
      "metadata": {
        "id": "3TajZ4piyRwY",
        "colab": {
          "base_uri": "https://localhost:8080/"
        },
        "outputId": "72e3ac98-ac5d-41c5-8980-9f12953c6bc8"
      },
      "outputs": [
        {
          "output_type": "execute_result",
          "data": {
            "text/plain": [
              "array([ 3,  7,  6,  5,  7,  8, 10])"
            ]
          },
          "metadata": {},
          "execution_count": 26
        }
      ],
      "source": [
        "arr1d = np.insert(arr1d, 3, 5)\n",
        "# np.insert(ndarray, pos, ele) inserts ele at index in ndarray\n",
        "arr1d"
      ]
    },
    {
      "cell_type": "markdown",
      "source": [
        "### np.delete(ndarray, index) in 1-D ndarray"
      ],
      "metadata": {
        "id": "256x0NOpXgFV"
      }
    },
    {
      "cell_type": "code",
      "execution_count": null,
      "metadata": {
        "id": "kcKJiqRMyYJX",
        "colab": {
          "base_uri": "https://localhost:8080/"
        },
        "outputId": "65a02800-140f-4fd5-bdae-a5fb790513f8"
      },
      "outputs": [
        {
          "output_type": "execute_result",
          "data": {
            "text/plain": [
              "array([ 3,  7,  6,  5,  8, 10])"
            ]
          },
          "metadata": {},
          "execution_count": 27
        }
      ],
      "source": [
        "arr1d = np.delete(arr1d, 4)\n",
        "# np.delete(ndarray, index) deletes element at specified index in ndarray\n",
        "arr1d"
      ]
    },
    {
      "cell_type": "markdown",
      "source": [
        "### np.array([list1, list2])"
      ],
      "metadata": {
        "id": "-qXJ8CreXx9K"
      }
    },
    {
      "cell_type": "code",
      "execution_count": null,
      "metadata": {
        "id": "gOsQGADYyg_Q"
      },
      "outputs": [],
      "source": [
        "list1 = [2, 5, 4, 6]\n",
        "list2 = [3, 9, 8, 1]"
      ]
    },
    {
      "cell_type": "code",
      "execution_count": null,
      "metadata": {
        "colab": {
          "base_uri": "https://localhost:8080/"
        },
        "id": "OCwvKtzxzVPB",
        "outputId": "359947d3-5002-4f81-d3ef-43fc563b3bec"
      },
      "outputs": [
        {
          "output_type": "execute_result",
          "data": {
            "text/plain": [
              "array([[2, 5, 4, 6],\n",
              "       [3, 9, 8, 1]])"
            ]
          },
          "metadata": {},
          "execution_count": 29
        }
      ],
      "source": [
        "arr2d = np.array([list1, list2])\n",
        "# using two lists as rows in 2-D ndarray\n",
        "arr2d"
      ]
    },
    {
      "cell_type": "markdown",
      "source": [
        "### np.array([list1, list2])"
      ],
      "metadata": {
        "id": "XaLexRC-YFd7"
      }
    },
    {
      "cell_type": "code",
      "execution_count": null,
      "metadata": {
        "id": "UQmPn9ZMzb8g"
      },
      "outputs": [],
      "source": [
        "list1 = [2, 5, 4, 6]\n",
        "list2 = [3, 9, 8, 1]\n",
        "list3 = [4, 8, 7, 2]"
      ]
    },
    {
      "cell_type": "code",
      "execution_count": null,
      "metadata": {
        "colab": {
          "base_uri": "https://localhost:8080/"
        },
        "id": "3MvZbk0mzfe4",
        "outputId": "e9f544d7-d763-4c26-b26b-591528a5423e"
      },
      "outputs": [
        {
          "output_type": "execute_result",
          "data": {
            "text/plain": [
              "array([[2, 5, 4, 6],\n",
              "       [3, 9, 8, 1],\n",
              "       [4, 8, 7, 2]])"
            ]
          },
          "metadata": {},
          "execution_count": 31
        }
      ],
      "source": [
        "arr2d = np.array([list1, list2, list3])\n",
        "# using three lists as rows in 2-D ndarray\n",
        "arr2d"
      ]
    },
    {
      "cell_type": "markdown",
      "source": [
        "### accessing elements in 2-D ndarray"
      ],
      "metadata": {
        "id": "up0g-iOtZM2-"
      }
    },
    {
      "cell_type": "code",
      "execution_count": null,
      "metadata": {
        "colab": {
          "base_uri": "https://localhost:8080/"
        },
        "id": "iN5l5JdLznjv",
        "outputId": "6782b6c5-1d4c-4b2f-d107-913730c1d8e6"
      },
      "outputs": [
        {
          "output_type": "execute_result",
          "data": {
            "text/plain": [
              "array([3, 9, 8, 1])"
            ]
          },
          "metadata": {},
          "execution_count": 32
        }
      ],
      "source": [
        "arr2d[1]\n",
        "# to access 1st row of 2-D ndarray"
      ]
    },
    {
      "cell_type": "code",
      "execution_count": null,
      "metadata": {
        "colab": {
          "base_uri": "https://localhost:8080/"
        },
        "id": "AvQP9zQ-z4qS",
        "outputId": "837b2826-fb86-48a3-bc46-4118288ae87e"
      },
      "outputs": [
        {
          "output_type": "execute_result",
          "data": {
            "text/plain": [
              "array([2, 5, 4, 6])"
            ]
          },
          "metadata": {},
          "execution_count": 33
        }
      ],
      "source": [
        "arr2d[0]\n",
        "# to access zeroth row of 2-D ndarray"
      ]
    },
    {
      "cell_type": "code",
      "execution_count": null,
      "metadata": {
        "colab": {
          "base_uri": "https://localhost:8080/"
        },
        "id": "Ssb_Qw7M0Ihw",
        "outputId": "9c2c0d9d-f3c9-427a-8b61-ce2cd6707aaf"
      },
      "outputs": [
        {
          "output_type": "execute_result",
          "data": {
            "text/plain": [
              "array([4, 8, 7])"
            ]
          },
          "metadata": {},
          "execution_count": 34
        }
      ],
      "source": [
        "arr2d[ : , 2]\n",
        "# to access  only 2nd column element from all of the rows r[ : ] of 2-D ndarray\n",
        "# [r[ : ],c]"
      ]
    },
    {
      "cell_type": "code",
      "execution_count": null,
      "metadata": {
        "colab": {
          "base_uri": "https://localhost:8080/"
        },
        "id": "mk5xXn7d0LL9",
        "outputId": "612394f6-62e9-4113-d2da-28623240f692"
      },
      "outputs": [
        {
          "output_type": "execute_result",
          "data": {
            "text/plain": [
              "1"
            ]
          },
          "metadata": {},
          "execution_count": 35
        }
      ],
      "source": [
        "arr2d[1][3]\n",
        "# to access element at 1st row, 3rd column"
      ]
    },
    {
      "cell_type": "code",
      "execution_count": null,
      "metadata": {
        "id": "3AJFl6ms0YHO",
        "colab": {
          "base_uri": "https://localhost:8080/"
        },
        "outputId": "e6a13719-76bb-41ec-fb88-fb7ab7141c60"
      },
      "outputs": [
        {
          "output_type": "execute_result",
          "data": {
            "text/plain": [
              "array([[2, 5, 4, 6],\n",
              "       [3, 9, 8, 5],\n",
              "       [4, 8, 7, 2]])"
            ]
          },
          "metadata": {},
          "execution_count": 36
        }
      ],
      "source": [
        "arr2d[1][3] = 5\n",
        "# to update element at 1st row, 3rd column\n",
        "arr2d"
      ]
    },
    {
      "cell_type": "markdown",
      "metadata": {
        "id": "W9F4qc6b2nKn"
      },
      "source": [
        "### vstack(ndarray1, ndarray2 or list)\n",
        "- adding newrow to the existing 2D array, using vstack() method\n",
        "- vstack will grow array in vertical dimension"
      ]
    },
    {
      "cell_type": "code",
      "source": [
        "list1 = [2, 5, 4, 6]\n",
        "list2 = [3, 9, 8, 1]\n",
        "list3 = [4, 8, 7, 2]\n",
        "arr2d = np.array([list1, list2, list3])\n",
        "# using three lists as rows in 2-D ndarray\n",
        "arr2d"
      ],
      "metadata": {
        "colab": {
          "base_uri": "https://localhost:8080/"
        },
        "id": "zvpYgGSBZ_Qc",
        "outputId": "8f0c9928-920a-4dec-a16d-83d1e78d198d"
      },
      "execution_count": null,
      "outputs": [
        {
          "output_type": "execute_result",
          "data": {
            "text/plain": [
              "array([[2, 5, 4, 6],\n",
              "       [3, 9, 8, 1],\n",
              "       [4, 8, 7, 2]])"
            ]
          },
          "metadata": {},
          "execution_count": 37
        }
      ]
    },
    {
      "cell_type": "code",
      "execution_count": null,
      "metadata": {
        "id": "7evfA9mR04l_",
        "colab": {
          "base_uri": "https://localhost:8080/"
        },
        "outputId": "bfca748a-50e2-4ec6-e415-c25e79717d23"
      },
      "outputs": [
        {
          "output_type": "execute_result",
          "data": {
            "text/plain": [
              "[3, 7, 1, 4]"
            ]
          },
          "metadata": {},
          "execution_count": 38
        }
      ],
      "source": [
        "newrow = [3, 7, 1, 4]\n",
        "# creating a horizontal list / row\n",
        "newrow"
      ]
    },
    {
      "cell_type": "code",
      "execution_count": null,
      "metadata": {
        "id": "Jw8cSqY_10ci",
        "colab": {
          "base_uri": "https://localhost:8080/"
        },
        "outputId": "738e923d-e208-44b9-82e9-d3bcc44ca6f3"
      },
      "outputs": [
        {
          "output_type": "execute_result",
          "data": {
            "text/plain": [
              "array([[2, 5, 4, 6],\n",
              "       [3, 9, 8, 1],\n",
              "       [4, 8, 7, 2],\n",
              "       [3, 7, 1, 4]])"
            ]
          },
          "metadata": {},
          "execution_count": 39
        }
      ],
      "source": [
        "arr2d = np.vstack([arr2d, newrow])\n",
        "# vertical stacking a horizontal list into 2-D ndarray\n",
        "# using vstack(ndarray1, ndarray2 or list)\n",
        "arr2d"
      ]
    },
    {
      "cell_type": "markdown",
      "source": [
        "### hstack([ndarray1, ndarray2])"
      ],
      "metadata": {
        "id": "-z_Ygh7-agtG"
      }
    },
    {
      "cell_type": "code",
      "execution_count": null,
      "metadata": {
        "id": "ka6zyYRs2Gv4",
        "colab": {
          "base_uri": "https://localhost:8080/"
        },
        "outputId": "bb7115f7-ef44-430d-f57e-a8f70ca9d63e"
      },
      "outputs": [
        {
          "output_type": "execute_result",
          "data": {
            "text/plain": [
              "array([3, 8, 7, 2])"
            ]
          },
          "metadata": {},
          "execution_count": 40
        }
      ],
      "source": [
        "newcol = np.array([3, 8, 7, 2])\n",
        "# creating a horiizontal list / row\n",
        "newcol"
      ]
    },
    {
      "cell_type": "code",
      "execution_count": null,
      "metadata": {
        "id": "A3ft6rGL3Dq_",
        "colab": {
          "base_uri": "https://localhost:8080/"
        },
        "outputId": "75193b70-fe9e-40f8-c603-048f950a8a51"
      },
      "outputs": [
        {
          "output_type": "execute_result",
          "data": {
            "text/plain": [
              "array([[3],\n",
              "       [8],\n",
              "       [7],\n",
              "       [2]])"
            ]
          },
          "metadata": {},
          "execution_count": 41
        }
      ],
      "source": [
        "newcol = newcol.reshape(4, 1)\n",
        "# reshaping to convert horizontal ndarray/row INTO vertical ndarray/ column\n",
        "newcol"
      ]
    },
    {
      "cell_type": "code",
      "execution_count": null,
      "metadata": {
        "id": "SaBLd9-f3T_n",
        "colab": {
          "base_uri": "https://localhost:8080/"
        },
        "outputId": "b4ba47b6-f160-4e9c-fe46-061a4120b964"
      },
      "outputs": [
        {
          "output_type": "execute_result",
          "data": {
            "text/plain": [
              "array([[2, 5, 4, 6, 3],\n",
              "       [3, 9, 8, 1, 8],\n",
              "       [4, 8, 7, 2, 7],\n",
              "       [3, 7, 1, 4, 2]])"
            ]
          },
          "metadata": {},
          "execution_count": 42
        }
      ],
      "source": [
        "arr2d = np.hstack([arr2d, newcol])\n",
        "# using vertical ndarray / column to horizontally stack into 2-D ndarray\n",
        "# hstack takes only vertical column to stack into 2-D ndarray\n",
        "# because list cannot be vertical\n",
        "arr2d"
      ]
    },
    {
      "cell_type": "markdown",
      "metadata": {
        "id": "IT5OFyZv35lZ"
      },
      "source": [
        "### np.delete(ndarray, element, axis=0) in 2-D ndarray\n",
        "- Axis 0: Row\n",
        "- Axis 1: Column\n",
        "- in reshape command, we follow ```reshape(row, column)```"
      ]
    },
    {
      "cell_type": "code",
      "execution_count": null,
      "metadata": {
        "colab": {
          "base_uri": "https://localhost:8080/"
        },
        "id": "-Hc-fKn83m6U",
        "outputId": "159f49c9-6448-45c1-a039-cf55749a712a"
      },
      "outputs": [
        {
          "output_type": "execute_result",
          "data": {
            "text/plain": [
              "array([[2, 5, 4, 6, 3],\n",
              "       [3, 9, 8, 1, 8],\n",
              "       [3, 7, 1, 4, 2]])"
            ]
          },
          "metadata": {},
          "execution_count": 43
        }
      ],
      "source": [
        "np.delete(arr2d, 2, axis=0)\n",
        "# will delete 2nd element as per axis\n",
        "# axis=0 will delete 2nd row"
      ]
    },
    {
      "cell_type": "code",
      "execution_count": null,
      "metadata": {
        "colab": {
          "base_uri": "https://localhost:8080/"
        },
        "id": "l4yxrvzS4eQ4",
        "outputId": "a7f94f0b-2661-476c-c9a3-b42c09776a65"
      },
      "outputs": [
        {
          "output_type": "execute_result",
          "data": {
            "text/plain": [
              "array([[2, 5, 6, 3],\n",
              "       [3, 9, 1, 8],\n",
              "       [4, 8, 2, 7],\n",
              "       [3, 7, 4, 2]])"
            ]
          },
          "metadata": {},
          "execution_count": 44
        }
      ],
      "source": [
        "np.delete(arr2d, 2, axis=1)\n",
        "# will delete 1st element as per axis\n",
        "# axis=1 will delete 2nd column"
      ]
    },
    {
      "cell_type": "markdown",
      "metadata": {
        "id": "P6U9NDQEA0PU"
      },
      "source": [
        "### slicing in ndarray"
      ]
    },
    {
      "cell_type": "code",
      "execution_count": null,
      "metadata": {
        "id": "fmbttHif42WR"
      },
      "outputs": [],
      "source": [
        "arr1d = np.array([3, 6, 5, 2, 7, 6, 9, 1])\n",
        "# creating 1-D ndarray using list"
      ]
    },
    {
      "cell_type": "code",
      "execution_count": null,
      "metadata": {
        "colab": {
          "base_uri": "https://localhost:8080/"
        },
        "id": "i4F_qrv4AlaQ",
        "outputId": "fb224296-7d44-4c7d-b213-19b6e3c7ae23"
      },
      "outputs": [
        {
          "output_type": "execute_result",
          "data": {
            "text/plain": [
              "array([3, 6, 5, 2])"
            ]
          },
          "metadata": {},
          "execution_count": 46
        }
      ],
      "source": [
        "arr1d[:4]\n",
        "# accesing initial/zeroth to 3rd element"
      ]
    },
    {
      "cell_type": "code",
      "execution_count": null,
      "metadata": {
        "colab": {
          "base_uri": "https://localhost:8080/"
        },
        "id": "t06iURqjAuvW",
        "outputId": "d7ddf30c-2307-4aba-e99c-9f44a236acf0"
      },
      "outputs": [
        {
          "output_type": "execute_result",
          "data": {
            "text/plain": [
              "array([6, 9, 1])"
            ]
          },
          "metadata": {},
          "execution_count": 47
        }
      ],
      "source": [
        "arr1d[5:]\n",
        "# accesing 5th to last element"
      ]
    },
    {
      "cell_type": "code",
      "execution_count": null,
      "metadata": {
        "colab": {
          "base_uri": "https://localhost:8080/"
        },
        "id": "xBh8jjJHBGRm",
        "outputId": "f22408eb-4606-4179-c06d-c23a9da2f3d9"
      },
      "outputs": [
        {
          "output_type": "execute_result",
          "data": {
            "text/plain": [
              "array([2, 7, 6, 9])"
            ]
          },
          "metadata": {},
          "execution_count": 48
        }
      ],
      "source": [
        "arr1d[3:7]\n",
        "# accesing 3rd to 6th (7-1=6) element"
      ]
    },
    {
      "cell_type": "code",
      "execution_count": null,
      "metadata": {
        "colab": {
          "base_uri": "https://localhost:8080/"
        },
        "id": "C3Z8sukwBV4z",
        "outputId": "9a525305-ac52-4033-d9e9-1b279c4b6b32"
      },
      "outputs": [
        {
          "output_type": "execute_result",
          "data": {
            "text/plain": [
              "array([5, 2, 7, 6])"
            ]
          },
          "metadata": {},
          "execution_count": 49
        }
      ],
      "source": [
        "arr1d[2:6]\n",
        "# accesing 2nd to 5th element"
      ]
    },
    {
      "cell_type": "code",
      "execution_count": null,
      "metadata": {
        "colab": {
          "base_uri": "https://localhost:8080/"
        },
        "id": "pgCqyfflE90u",
        "outputId": "79968bb1-d9db-4012-a6da-d5de298e2fd3"
      },
      "outputs": [
        {
          "output_type": "execute_result",
          "data": {
            "text/plain": [
              "array([5])"
            ]
          },
          "metadata": {},
          "execution_count": 50
        }
      ],
      "source": [
        "arr1d[2:5:3]\n",
        "# accesing 2nd to 4th (51=4) element with step 3\n",
        "# only 2nd element"
      ]
    },
    {
      "cell_type": "markdown",
      "metadata": {
        "id": "q0no1mRDBmob"
      },
      "source": [
        "### operational difference between array & list\n",
        "\n",
        "1. list can't be operated on the go(broadcasting is possible, meaning you can operate on-the-go), it needs to be accessed with loop to operate on.\n",
        "While in array, array can be operated on the go, no need for using loop\n",
        "2. you can access mutiple non-adjacent index in array, but you can't in list\n",
        "3. array can be multi-dimensional but list is always one-dimensional"
      ]
    },
    {
      "cell_type": "markdown",
      "source": [
        "### sorted(ndarray)"
      ],
      "metadata": {
        "id": "WINbWj2Xc7T5"
      }
    },
    {
      "cell_type": "code",
      "execution_count": null,
      "metadata": {
        "id": "tmqJhjQ8BZBT",
        "colab": {
          "base_uri": "https://localhost:8080/"
        },
        "outputId": "d2470443-2ae4-43ad-b389-d2688182fba1"
      },
      "outputs": [
        {
          "output_type": "execute_result",
          "data": {
            "text/plain": [
              "[1, 2, 3, 5, 6, 6, 7, 9]"
            ]
          },
          "metadata": {},
          "execution_count": 51
        }
      ],
      "source": [
        "sorted_arr1d = sorted(arr1d)\n",
        "# by default sorted(ndarray) sorts in ascending order\n",
        "sorted_arr1d"
      ]
    },
    {
      "cell_type": "code",
      "execution_count": null,
      "metadata": {
        "id": "lPFXiX6pFuPq",
        "colab": {
          "base_uri": "https://localhost:8080/"
        },
        "outputId": "4a824f36-aae5-43c9-acd2-906ffc4bd404"
      },
      "outputs": [
        {
          "output_type": "execute_result",
          "data": {
            "text/plain": [
              "[9, 7, 6, 6, 5, 3, 2, 1]"
            ]
          },
          "metadata": {},
          "execution_count": 52
        }
      ],
      "source": [
        "sorted_arr1d = sorted(arr1d, reverse=True)\n",
        "# sorted(ndarray) sorts in descending order\n",
        "sorted_arr1d"
      ]
    },
    {
      "cell_type": "markdown",
      "metadata": {
        "id": "r12Cfi44GN62"
      },
      "source": [
        "## Questions in 1-D ndarray:\n",
        "1. count of elements which are >= 4\n",
        "2. print value of elements which are >= 4\n",
        "3. print indices of elements which are >= 4"
      ]
    },
    {
      "cell_type": "code",
      "execution_count": null,
      "metadata": {
        "id": "j6QAXUTZISbz",
        "colab": {
          "base_uri": "https://localhost:8080/"
        },
        "outputId": "86191fc0-fbe3-4f57-952b-f1110a452a90"
      },
      "outputs": [
        {
          "output_type": "execute_result",
          "data": {
            "text/plain": [
              "array([3, 6, 5, 2, 7, 6, 9, 1])"
            ]
          },
          "metadata": {},
          "execution_count": 53
        }
      ],
      "source": [
        "arr1d = np.array([3, 6, 5, 2, 7, 6, 9, 1])\n",
        "# creating 1-D ndarray using list\n",
        "arr1d"
      ]
    },
    {
      "cell_type": "markdown",
      "source": [
        "### index = np.where(condition)\n",
        "\n",
        "- input of ```np.where(condition)``` is condition\n",
        "- output of ```np.where(condition)``` is index where condition is True"
      ],
      "metadata": {
        "id": "KM91l8mVdgX4"
      }
    },
    {
      "cell_type": "code",
      "execution_count": null,
      "metadata": {
        "id": "ZVCCa9erGNLY",
        "colab": {
          "base_uri": "https://localhost:8080/"
        },
        "outputId": "0c0917fb-e399-48ba-cb26-56da22badfeb"
      },
      "outputs": [
        {
          "output_type": "execute_result",
          "data": {
            "text/plain": [
              "(array([1, 2, 4, 5, 6]),)"
            ]
          },
          "metadata": {},
          "execution_count": 54
        }
      ],
      "source": [
        "ind = np.where(arr1d >= 4)\n",
        "# check for indices of elements satisfying condition\n",
        "ind"
      ]
    },
    {
      "cell_type": "code",
      "execution_count": null,
      "metadata": {
        "colab": {
          "base_uri": "https://localhost:8080/"
        },
        "id": "UNdia6cdG2fe",
        "outputId": "4d665621-82e3-4c8a-e0a8-086e50084d5b"
      },
      "outputs": [
        {
          "output_type": "execute_result",
          "data": {
            "text/plain": [
              "1"
            ]
          },
          "metadata": {},
          "execution_count": 55
        }
      ],
      "source": [
        "len(ind)\n",
        "# returns 1, because length of tuple is one"
      ]
    },
    {
      "cell_type": "code",
      "execution_count": null,
      "metadata": {
        "colab": {
          "base_uri": "https://localhost:8080/"
        },
        "id": "uPVuUA39G3y8",
        "outputId": "4bb8dd17-b627-42a8-a1a9-9546f05f1fcd"
      },
      "outputs": [
        {
          "output_type": "execute_result",
          "data": {
            "text/plain": [
              "5"
            ]
          },
          "metadata": {},
          "execution_count": 56
        }
      ],
      "source": [
        "len(ind[0])\n",
        "# returns 5, because length of zeroth element\n",
        "# (which is ndarray of indexes satisfying condition) in the tuple is five"
      ]
    },
    {
      "cell_type": "code",
      "execution_count": null,
      "metadata": {
        "colab": {
          "base_uri": "https://localhost:8080/"
        },
        "id": "xRbKzui9HSxT",
        "outputId": "74aa4dc6-d61f-4234-8ce2-99bade1da908"
      },
      "outputs": [
        {
          "output_type": "execute_result",
          "data": {
            "text/plain": [
              "array([1, 2, 4, 5, 6])"
            ]
          },
          "metadata": {},
          "execution_count": 57
        }
      ],
      "source": [
        "ind[0]\n",
        "# accesses zeroth element\n",
        "# (which is ndarray of indexes satisfying condition) of tuple"
      ]
    },
    {
      "cell_type": "code",
      "execution_count": null,
      "metadata": {
        "colab": {
          "base_uri": "https://localhost:8080/"
        },
        "id": "3Cx6zTw4HXuY",
        "outputId": "e555c255-410b-4e49-8d01-02335b044c1d"
      },
      "outputs": [
        {
          "output_type": "execute_result",
          "data": {
            "text/plain": [
              "numpy.ndarray"
            ]
          },
          "metadata": {},
          "execution_count": 58
        }
      ],
      "source": [
        "type(ind[0])"
      ]
    },
    {
      "cell_type": "code",
      "execution_count": null,
      "metadata": {
        "colab": {
          "base_uri": "https://localhost:8080/"
        },
        "id": "uuFLW_-HJFf-",
        "outputId": "0623949c-f805-4056-fcc9-751fed3e78d9"
      },
      "outputs": [
        {
          "output_type": "execute_result",
          "data": {
            "text/plain": [
              "tuple"
            ]
          },
          "metadata": {},
          "execution_count": 59
        }
      ],
      "source": [
        "type(ind)"
      ]
    },
    {
      "cell_type": "markdown",
      "source": [
        "### (condition).sum()"
      ],
      "metadata": {
        "id": "wUHSy4V1fz_u"
      }
    },
    {
      "cell_type": "code",
      "execution_count": null,
      "metadata": {
        "colab": {
          "base_uri": "https://localhost:8080/"
        },
        "id": "qVABMb-EJZo4",
        "outputId": "56adccee-b215-409f-cddc-bf09a3b1cb10"
      },
      "outputs": [
        {
          "output_type": "execute_result",
          "data": {
            "text/plain": [
              "5"
            ]
          },
          "metadata": {},
          "execution_count": 60
        }
      ],
      "source": [
        "(arr1d>=4).sum()\n",
        "# sums all the True values found in ndarray from satisfying condition\n",
        "# which is actually the count of elements satisfying condition >= 4"
      ]
    },
    {
      "cell_type": "code",
      "execution_count": null,
      "metadata": {
        "colab": {
          "base_uri": "https://localhost:8080/"
        },
        "id": "eUYBQXiGJcPl",
        "outputId": "3f017bdb-3e0a-4fc2-ba2a-628d93b27832"
      },
      "outputs": [
        {
          "output_type": "execute_result",
          "data": {
            "text/plain": [
              "array([6, 5, 7, 6, 9])"
            ]
          },
          "metadata": {},
          "execution_count": 61
        }
      ],
      "source": [
        "arr1d[ind]\n",
        "# passing all the indxes where condition is satidfied using ind vaiable\n",
        "# to ndarray to get value of elements which satisfied the condition"
      ]
    },
    {
      "cell_type": "markdown",
      "source": [
        "## Questions in 2-D ndarray:\n",
        "1. count of elements which are >= 4\n",
        "2. print value of elements which are >= 4\n",
        "3. print indices of elements which are >= 4"
      ],
      "metadata": {
        "id": "y-LtHVRBgB77"
      }
    },
    {
      "cell_type": "code",
      "source": [
        "list1 = [2, 5, 4, 6, 3]\n",
        "list2 = [3, 9, 8, 1, 8]\n",
        "list3 = [4, 8, 7, 2, 7]\n",
        "list4 = [3, 7, 1, 4, 2]\n",
        "arr2d = np.array([list1, list2, list3, list4])\n",
        "# creating 2-D ndarray using four lists as rows\n",
        "arr2d"
      ],
      "metadata": {
        "colab": {
          "base_uri": "https://localhost:8080/"
        },
        "id": "gLVmnntRgPQ2",
        "outputId": "1b38d88c-95cc-4e4a-d419-54a86683256f"
      },
      "execution_count": null,
      "outputs": [
        {
          "output_type": "execute_result",
          "data": {
            "text/plain": [
              "array([[2, 5, 4, 6, 3],\n",
              "       [3, 9, 8, 1, 8],\n",
              "       [4, 8, 7, 2, 7],\n",
              "       [3, 7, 1, 4, 2]])"
            ]
          },
          "metadata": {},
          "execution_count": 62
        }
      ]
    },
    {
      "cell_type": "markdown",
      "source": [
        "### index = np.where(condition) in 2-D ndarray"
      ],
      "metadata": {
        "id": "Cbdla8_Vgx0u"
      }
    },
    {
      "cell_type": "code",
      "execution_count": null,
      "metadata": {
        "id": "Xli9EosyK6JX",
        "colab": {
          "base_uri": "https://localhost:8080/"
        },
        "outputId": "b01ade7b-a34e-4d7b-b81a-9e09201a0583"
      },
      "outputs": [
        {
          "output_type": "execute_result",
          "data": {
            "text/plain": [
              "(array([0, 0, 0, 1, 1, 1, 2, 2, 2, 2, 3, 3]),\n",
              " array([1, 2, 3, 1, 2, 4, 0, 1, 2, 4, 1, 3]))"
            ]
          },
          "metadata": {},
          "execution_count": 63
        }
      ],
      "source": [
        "ind2 = np.where(arr2d>=4)\n",
        "# check for indices of elements satisfying condition\n",
        "ind2"
      ]
    },
    {
      "cell_type": "code",
      "execution_count": null,
      "metadata": {
        "colab": {
          "base_uri": "https://localhost:8080/"
        },
        "id": "XI1HJ336LF9O",
        "outputId": "28f296ce-e081-4b33-84bd-91699fbbf095"
      },
      "outputs": [
        {
          "output_type": "execute_result",
          "data": {
            "text/plain": [
              "2"
            ]
          },
          "metadata": {},
          "execution_count": 64
        }
      ],
      "source": [
        "len(ind2)"
      ]
    },
    {
      "cell_type": "code",
      "execution_count": null,
      "metadata": {
        "colab": {
          "base_uri": "https://localhost:8080/"
        },
        "id": "AD3q_l0kLapz",
        "outputId": "e33ef8a9-0c13-4366-fe3a-52f360595af4"
      },
      "outputs": [
        {
          "output_type": "execute_result",
          "data": {
            "text/plain": [
              "12"
            ]
          },
          "metadata": {},
          "execution_count": 65
        }
      ],
      "source": [
        "len(ind2[0])\n",
        "# count of elements which are >= 4"
      ]
    },
    {
      "cell_type": "markdown",
      "source": [
        "### (condition).sum() in 2-D ndarray"
      ],
      "metadata": {
        "id": "HA90MLPng53v"
      }
    },
    {
      "cell_type": "code",
      "execution_count": null,
      "metadata": {
        "colab": {
          "base_uri": "https://localhost:8080/"
        },
        "id": "HCg9o6pDLcxB",
        "outputId": "0007a72b-1253-4c4b-db42-c38e3fd32f37"
      },
      "outputs": [
        {
          "output_type": "execute_result",
          "data": {
            "text/plain": [
              "12"
            ]
          },
          "metadata": {},
          "execution_count": 66
        }
      ],
      "source": [
        "(arr2d>=4).sum()\n",
        "# count of elements which are >= 4"
      ]
    },
    {
      "cell_type": "code",
      "execution_count": null,
      "metadata": {
        "colab": {
          "base_uri": "https://localhost:8080/"
        },
        "id": "7pJqjj6SMQ0g",
        "outputId": "465045b4-7495-49e7-a2ee-2fdc42cb7be5"
      },
      "outputs": [
        {
          "output_type": "execute_result",
          "data": {
            "text/plain": [
              "array([5, 4, 6, 9, 8, 8, 4, 8, 7, 7, 7, 4])"
            ]
          },
          "metadata": {},
          "execution_count": 67
        }
      ],
      "source": [
        "arr2d[ind2]\n",
        "# print value of elements which are >= 4"
      ]
    },
    {
      "cell_type": "markdown",
      "source": [
        "### np.concatenate((ndarray1, ndarray2))"
      ],
      "metadata": {
        "id": "rM598F2NhsCS"
      }
    },
    {
      "cell_type": "code",
      "execution_count": null,
      "metadata": {
        "colab": {
          "base_uri": "https://localhost:8080/"
        },
        "id": "CGcBhtpzMYvF",
        "outputId": "cb301697-9318-4b3f-89da-c23a5cb16649"
      },
      "outputs": [
        {
          "output_type": "execute_result",
          "data": {
            "text/plain": [
              "array([3, 6, 5, 2, 7, 6, 9, 1, 3])"
            ]
          },
          "metadata": {},
          "execution_count": 68
        }
      ],
      "source": [
        "arr1d = np.array([3, 6, 5, 2, 7, 6, 9, 1, 3])\n",
        "# creating 1-D ndarray using list\n",
        "arr1d"
      ]
    },
    {
      "cell_type": "code",
      "execution_count": null,
      "metadata": {
        "id": "N2Fal-4NNXMb",
        "colab": {
          "base_uri": "https://localhost:8080/"
        },
        "outputId": "75842063-fc21-47b6-fb28-f537daf6a88b"
      },
      "outputs": [
        {
          "output_type": "execute_result",
          "data": {
            "text/plain": [
              "array([3, 5, 7, 3, 3, 5, 9, 1, 3])"
            ]
          },
          "metadata": {},
          "execution_count": 69
        }
      ],
      "source": [
        "x = np.array([3, 5, 7, 3, 3, 5, 9, 1, 3])\n",
        "x"
      ]
    },
    {
      "cell_type": "code",
      "execution_count": null,
      "metadata": {
        "id": "crVSbihwNlu6",
        "colab": {
          "base_uri": "https://localhost:8080/"
        },
        "outputId": "d53de48d-54a8-428d-c2bd-465a1afd3097"
      },
      "outputs": [
        {
          "output_type": "execute_result",
          "data": {
            "text/plain": [
              "array([3, 6, 5, 2, 7, 6, 9, 1, 3, 3, 5, 7, 3, 3, 5, 9, 1, 3])"
            ]
          },
          "metadata": {},
          "execution_count": 70
        }
      ],
      "source": [
        "arr1d = np.concatenate((arr1d, x))\n",
        "arr1d"
      ]
    },
    {
      "cell_type": "markdown",
      "source": [
        "### np.unique(ndarray)"
      ],
      "metadata": {
        "id": "72Rt4-fkh_ab"
      }
    },
    {
      "cell_type": "code",
      "execution_count": null,
      "metadata": {
        "colab": {
          "base_uri": "https://localhost:8080/"
        },
        "id": "wYGDQUTkNs1P",
        "outputId": "6487bbb4-06d1-4033-f190-dcea56815f7a"
      },
      "outputs": [
        {
          "output_type": "execute_result",
          "data": {
            "text/plain": [
              "array([1, 2, 3, 5, 6, 7, 9])"
            ]
          },
          "metadata": {},
          "execution_count": 71
        }
      ],
      "source": [
        "np.unique(arr1d)\n",
        "# returns sorted list of unique values from array"
      ]
    },
    {
      "cell_type": "code",
      "execution_count": null,
      "metadata": {
        "colab": {
          "base_uri": "https://localhost:8080/"
        },
        "id": "VhiyNIFsOSiZ",
        "outputId": "76c9b349-0dde-4776-a871-e7a82bdf49cb"
      },
      "outputs": [
        {
          "output_type": "execute_result",
          "data": {
            "text/plain": [
              "False"
            ]
          },
          "metadata": {},
          "execution_count": 72
        }
      ],
      "source": [
        "4 in np.unique(arr1d)\n",
        "# checks if 4 exists in elements of ndarray arr1d"
      ]
    },
    {
      "cell_type": "markdown",
      "source": [
        "## 1-D ndarray operations"
      ],
      "metadata": {
        "id": "BsU79GNTSqlq"
      }
    },
    {
      "cell_type": "markdown",
      "source": [
        "### np.in1d(ndarray1, ndarray2 or list)"
      ],
      "metadata": {
        "id": "z3h-2jjCiMON"
      }
    },
    {
      "cell_type": "code",
      "execution_count": null,
      "metadata": {
        "colab": {
          "base_uri": "https://localhost:8080/"
        },
        "id": "vfS7vCI_OwIv",
        "outputId": "942a3ee8-7269-4221-f524-9878d0d2a7d2"
      },
      "outputs": [
        {
          "output_type": "execute_result",
          "data": {
            "text/plain": [
              "array([False, False, False,  True,  True, False, False, False, False,\n",
              "       False, False,  True, False, False, False, False, False, False])"
            ]
          },
          "metadata": {},
          "execution_count": 73
        }
      ],
      "source": [
        "np.in1d(arr1d, [2, 7])\n",
        "# condition to check if each eleemnt of 1st ndarray is in 2nd ndarray / list"
      ]
    },
    {
      "cell_type": "code",
      "execution_count": null,
      "metadata": {
        "colab": {
          "base_uri": "https://localhost:8080/"
        },
        "id": "5_qKGfhfO-2K",
        "outputId": "92670215-ace4-4ab8-9f75-a80a3b2c59fe"
      },
      "outputs": [
        {
          "output_type": "execute_result",
          "data": {
            "text/plain": [
              "(array([ 3,  4, 11]),)"
            ]
          },
          "metadata": {},
          "execution_count": 74
        }
      ],
      "source": [
        "np.where(np.in1d(arr1d, [2, 7]))\n",
        "# using np.in1d() as a condition to np.where()"
      ]
    },
    {
      "cell_type": "markdown",
      "metadata": {
        "id": "NELohzbCPgcZ"
      },
      "source": [
        "- input of ```np.where(condition)``` is condition\n",
        "- output of ```np.where(condition)``` is index where condition is True"
      ]
    },
    {
      "cell_type": "code",
      "execution_count": null,
      "metadata": {
        "id": "j5ZLQShIPYFK"
      },
      "outputs": [],
      "source": [
        "x = np.array([4, 7, 6, 3, 9])\n",
        "y = np.array([1, 4, 5, 7, 8])\n",
        "# creating two 1-D ndarrays"
      ]
    },
    {
      "cell_type": "markdown",
      "source": [
        "### np.union1d(ndarray1, ndarray2)"
      ],
      "metadata": {
        "id": "taFFwo7UjO9M"
      }
    },
    {
      "cell_type": "code",
      "execution_count": null,
      "metadata": {
        "colab": {
          "base_uri": "https://localhost:8080/"
        },
        "id": "PWE3WO2oTFg2",
        "outputId": "9ad564e9-1dc7-4bc7-c512-48399d13f7ce"
      },
      "outputs": [
        {
          "output_type": "execute_result",
          "data": {
            "text/plain": [
              "array([1, 3, 4, 5, 6, 7, 8, 9])"
            ]
          },
          "metadata": {},
          "execution_count": 76
        }
      ],
      "source": [
        "np.union1d(x, y)\n",
        "# returns ndarray of union of two ndarrays\n",
        "# all unique elements from both ndarrays"
      ]
    },
    {
      "cell_type": "code",
      "execution_count": null,
      "metadata": {
        "colab": {
          "base_uri": "https://localhost:8080/"
        },
        "id": "JVXV6i6FUG9V",
        "outputId": "82f5e4b7-6d74-4c96-a097-258c933a1f35"
      },
      "outputs": [
        {
          "output_type": "execute_result",
          "data": {
            "text/plain": [
              "array([1, 3, 4, 5, 6, 7, 8, 9])"
            ]
          },
          "metadata": {},
          "execution_count": 77
        }
      ],
      "source": [
        "np.union1d(y, x)\n",
        "# np.union1d() is not affected by order of ndarrays in argument"
      ]
    },
    {
      "cell_type": "markdown",
      "source": [
        "### np.intersection(ndarray1, ndarray2)"
      ],
      "metadata": {
        "id": "K0PgfkdxjUD7"
      }
    },
    {
      "cell_type": "code",
      "execution_count": null,
      "metadata": {
        "colab": {
          "base_uri": "https://localhost:8080/"
        },
        "id": "cMlJHS0XTO8D",
        "outputId": "2c9ee407-5798-4e53-8dc2-90ba74d8fc08"
      },
      "outputs": [
        {
          "output_type": "execute_result",
          "data": {
            "text/plain": [
              "array([4, 7])"
            ]
          },
          "metadata": {},
          "execution_count": 78
        }
      ],
      "source": [
        "np.intersect1d(x, y)\n",
        "# np.intersection() returns ndarray of common elements"
      ]
    },
    {
      "cell_type": "code",
      "execution_count": null,
      "metadata": {
        "colab": {
          "base_uri": "https://localhost:8080/"
        },
        "id": "gYV9lgtsT65f",
        "outputId": "2efb24e6-c218-4e80-bafd-8f6375466094"
      },
      "outputs": [
        {
          "output_type": "execute_result",
          "data": {
            "text/plain": [
              "array([4, 7])"
            ]
          },
          "metadata": {},
          "execution_count": 79
        }
      ],
      "source": [
        "np.intersect1d(y, x)\n",
        "# np.intersection() is not affected by order of ndarrays in argument"
      ]
    },
    {
      "cell_type": "code",
      "execution_count": null,
      "metadata": {
        "colab": {
          "base_uri": "https://localhost:8080/"
        },
        "id": "OVt_l6RcT7VR",
        "outputId": "bbb27e9c-480d-4611-e973-c5176666ea11"
      },
      "outputs": [
        {
          "output_type": "execute_result",
          "data": {
            "text/plain": [
              "array([ True,  True, False, False, False])"
            ]
          },
          "metadata": {},
          "execution_count": 80
        }
      ],
      "source": [
        "np.in1d(x, y)\n",
        "# means x in y"
      ]
    },
    {
      "cell_type": "code",
      "execution_count": null,
      "metadata": {
        "colab": {
          "base_uri": "https://localhost:8080/"
        },
        "id": "G1qiWOyST8eo",
        "outputId": "738258dc-8f71-47e8-b3ed-90b778b68a09"
      },
      "outputs": [
        {
          "output_type": "execute_result",
          "data": {
            "text/plain": [
              "array([False,  True, False,  True, False])"
            ]
          },
          "metadata": {},
          "execution_count": 81
        }
      ],
      "source": [
        "np.in1d(y, x)\n",
        "# means y in x\n",
        "# checks if all elements of ndarray1 are in ndarray2"
      ]
    },
    {
      "cell_type": "code",
      "execution_count": null,
      "metadata": {
        "colab": {
          "base_uri": "https://localhost:8080/"
        },
        "id": "tFmc1JX2UTqo",
        "outputId": "fed1acde-a70d-4f86-dec1-2317543a8c6c"
      },
      "outputs": [
        {
          "output_type": "execute_result",
          "data": {
            "text/plain": [
              "array([4, 7, 6, 3, 9])"
            ]
          },
          "metadata": {},
          "execution_count": 82
        }
      ],
      "source": [
        "x"
      ]
    },
    {
      "cell_type": "code",
      "execution_count": null,
      "metadata": {
        "colab": {
          "base_uri": "https://localhost:8080/"
        },
        "id": "MAQ2Z2rqVDky",
        "outputId": "9ecfe085-6bf0-4ca6-c0d3-0899a418ec31"
      },
      "outputs": [
        {
          "output_type": "execute_result",
          "data": {
            "text/plain": [
              "array([1, 4, 5, 7, 8])"
            ]
          },
          "metadata": {},
          "execution_count": 83
        }
      ],
      "source": [
        "y"
      ]
    },
    {
      "cell_type": "markdown",
      "source": [
        "### np.setdiff1d(ndarray1d1, ndarray1d2)"
      ],
      "metadata": {
        "id": "siy3ptQsR6Uo"
      }
    },
    {
      "cell_type": "code",
      "execution_count": null,
      "metadata": {
        "colab": {
          "base_uri": "https://localhost:8080/"
        },
        "id": "P3llMGFVVD7x",
        "outputId": "88c31dab-3489-49db-a5b5-b48a5edf783e"
      },
      "outputs": [
        {
          "output_type": "execute_result",
          "data": {
            "text/plain": [
              "array([3, 6, 9])"
            ]
          },
          "metadata": {},
          "execution_count": 84
        }
      ],
      "source": [
        "np.setdiff1d(x, y)\n",
        "# shows exclusive elements of x which are not in y"
      ]
    },
    {
      "cell_type": "code",
      "execution_count": null,
      "metadata": {
        "colab": {
          "base_uri": "https://localhost:8080/"
        },
        "id": "0Z2dQ4dBVEla",
        "outputId": "ceb8cde2-d337-4937-8213-5b1911fe3344"
      },
      "outputs": [
        {
          "output_type": "execute_result",
          "data": {
            "text/plain": [
              "array([1, 5, 8])"
            ]
          },
          "metadata": {},
          "execution_count": 85
        }
      ],
      "source": [
        "np.setdiff1d(y, x)\n",
        "# shows exclusive elements of y which are not in x\n",
        "# result will vary if order of ndarrays is changed in argument list"
      ]
    },
    {
      "cell_type": "markdown",
      "source": [
        "### np.setxor1d(ndarray1d1, ndarray1d2)"
      ],
      "metadata": {
        "id": "bKzpjZ1ISLOI"
      }
    },
    {
      "cell_type": "code",
      "execution_count": null,
      "metadata": {
        "colab": {
          "base_uri": "https://localhost:8080/"
        },
        "id": "gP3FB2gSVFrf",
        "outputId": "d043b13f-0de7-4f54-c61e-7a4c72c3558a"
      },
      "outputs": [
        {
          "output_type": "execute_result",
          "data": {
            "text/plain": [
              "array([1, 3, 5, 6, 8, 9])"
            ]
          },
          "metadata": {},
          "execution_count": 86
        }
      ],
      "source": [
        "np.setxor1d(x, y)\n",
        "# exclusive elements of x  & y\n",
        "# from either x or y but not the common ones"
      ]
    },
    {
      "cell_type": "code",
      "execution_count": null,
      "metadata": {
        "colab": {
          "base_uri": "https://localhost:8080/"
        },
        "id": "4Vh2yt1MVlWX",
        "outputId": "fdaa4b84-0ab8-4451-b3e4-b7a9e2d6b483"
      },
      "outputs": [
        {
          "output_type": "execute_result",
          "data": {
            "text/plain": [
              "array([1, 3, 5, 6, 8, 9])"
            ]
          },
          "metadata": {},
          "execution_count": 87
        }
      ],
      "source": [
        "np.setxor1d(y, x)\n",
        "# exclusive elements of x  & y\n",
        "# from either x or y but not the common ones\n",
        "# result will vary if order of ndarrays is changed in argument list"
      ]
    },
    {
      "cell_type": "code",
      "source": [],
      "metadata": {
        "id": "0hMSD7ffvJCJ"
      },
      "execution_count": null,
      "outputs": []
    }
  ],
  "metadata": {
    "colab": {
      "provenance": [],
      "toc_visible": true
    },
    "kernelspec": {
      "display_name": "Python 3",
      "name": "python3"
    },
    "language_info": {
      "name": "python"
    }
  },
  "nbformat": 4,
  "nbformat_minor": 0
}