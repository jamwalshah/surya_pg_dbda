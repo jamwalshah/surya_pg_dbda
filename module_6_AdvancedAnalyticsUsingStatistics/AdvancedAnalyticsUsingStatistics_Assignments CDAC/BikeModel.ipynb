{
 "cells": [
  {
   "cell_type": "markdown",
   "id": "2cf500d7",
   "metadata": {},
   "source": [
    "import numpy as np\n",
    "import pandas as pd\n",
    "import statsmodels\n",
    "import statsmodels.api as sm\n",
    "import statsmodels.stats.multicomp\n",
    "import sklearn\n",
    "from sklearn.model_selection import train_test_split\n",
    "from sklearn.metrics import confusion_matrix\n",
    "from sklearn.metrics import classification_report"
   ]
  },
  {
   "cell_type": "code",
   "execution_count": 3,
   "id": "094f5037",
   "metadata": {},
   "outputs": [],
   "source": [
    "df = pd.read_csv('day.csv')"
   ]
  },
  {
   "cell_type": "markdown",
   "id": "4aeca0d7",
   "metadata": {},
   "source": [
    "# Create dummies for season"
   ]
  },
  {
   "cell_type": "code",
   "execution_count": 4,
   "id": "4f828165",
   "metadata": {},
   "outputs": [],
   "source": [
    "season_dummy = pd.get_dummies(df['season'],drop_first = True)"
   ]
  },
  {
   "cell_type": "code",
   "execution_count": 5,
   "id": "a73eddb6",
   "metadata": {},
   "outputs": [],
   "source": [
    "season_dummy.rename(columns={2:'summer',3:'fall',4:'winter'},inplace = True)"
   ]
  },
  {
   "cell_type": "code",
   "execution_count": 6,
   "id": "f91074d5",
   "metadata": {},
   "outputs": [
    {
     "data": {
      "text/plain": [
       "Index(['summer', 'fall', 'winter'], dtype='object')"
      ]
     },
     "execution_count": 6,
     "metadata": {},
     "output_type": "execute_result"
    }
   ],
   "source": [
    "season_dummy.columns"
   ]
  },
  {
   "cell_type": "markdown",
   "id": "ba7b9b1e",
   "metadata": {},
   "source": [
    "# Create dummy for year"
   ]
  },
  {
   "cell_type": "code",
   "execution_count": 7,
   "id": "70620c95",
   "metadata": {},
   "outputs": [],
   "source": [
    "year_dummy = pd.get_dummies(df['yr'],drop_first = True)"
   ]
  },
  {
   "cell_type": "code",
   "execution_count": 8,
   "id": "7f011d62",
   "metadata": {},
   "outputs": [],
   "source": [
    "year_dummy.rename(columns={1:'2019'},inplace = True)"
   ]
  },
  {
   "cell_type": "markdown",
   "id": "7750347f",
   "metadata": {},
   "source": [
    "# Create dummy for months"
   ]
  },
  {
   "cell_type": "code",
   "execution_count": 9,
   "id": "15f70206",
   "metadata": {},
   "outputs": [],
   "source": [
    "month_dummy = pd.get_dummies(df['mnth'],drop_first = True)"
   ]
  },
  {
   "cell_type": "code",
   "execution_count": 10,
   "id": "8a155065",
   "metadata": {},
   "outputs": [],
   "source": [
    "month_dummy.rename(columns={2:'feb',3:'march',4:'april',5:'may',6:'june',7:'july',8:'aug',\n",
    "                            9:'sept',10:'oct',11:'nov',12:'dec'}\n",
    "                   ,inplace = True)"
   ]
  },
  {
   "cell_type": "code",
   "execution_count": 11,
   "id": "3501055d",
   "metadata": {},
   "outputs": [
    {
     "data": {
      "text/plain": [
       "Index(['feb', 'march', 'april', 'may', 'june', 'july', 'aug', 'sept', 'oct',\n",
       "       'nov', 'dec'],\n",
       "      dtype='object')"
      ]
     },
     "execution_count": 11,
     "metadata": {},
     "output_type": "execute_result"
    }
   ],
   "source": [
    "month_dummy.columns"
   ]
  },
  {
   "cell_type": "markdown",
   "id": "31ecfa68",
   "metadata": {},
   "source": [
    "# Create dummy for weatherSit"
   ]
  },
  {
   "cell_type": "code",
   "execution_count": 12,
   "id": "96218958",
   "metadata": {},
   "outputs": [],
   "source": [
    "weat_dummy = pd.get_dummies(df['weathersit'],drop_first = True)"
   ]
  },
  {
   "cell_type": "code",
   "execution_count": 13,
   "id": "aa9c1507",
   "metadata": {},
   "outputs": [],
   "source": [
    "weat_dummy.rename(columns={2:'mist',3:'snow'},inplace = True)"
   ]
  },
  {
   "cell_type": "code",
   "execution_count": 14,
   "id": "6efd1c83",
   "metadata": {},
   "outputs": [
    {
     "data": {
      "text/html": [
       "<div>\n",
       "<style scoped>\n",
       "    .dataframe tbody tr th:only-of-type {\n",
       "        vertical-align: middle;\n",
       "    }\n",
       "\n",
       "    .dataframe tbody tr th {\n",
       "        vertical-align: top;\n",
       "    }\n",
       "\n",
       "    .dataframe thead th {\n",
       "        text-align: right;\n",
       "    }\n",
       "</style>\n",
       "<table border=\"1\" class=\"dataframe\">\n",
       "  <thead>\n",
       "    <tr style=\"text-align: right;\">\n",
       "      <th></th>\n",
       "      <th>mist</th>\n",
       "      <th>snow</th>\n",
       "    </tr>\n",
       "  </thead>\n",
       "  <tbody>\n",
       "    <tr>\n",
       "      <th>0</th>\n",
       "      <td>1</td>\n",
       "      <td>0</td>\n",
       "    </tr>\n",
       "    <tr>\n",
       "      <th>1</th>\n",
       "      <td>1</td>\n",
       "      <td>0</td>\n",
       "    </tr>\n",
       "    <tr>\n",
       "      <th>2</th>\n",
       "      <td>0</td>\n",
       "      <td>0</td>\n",
       "    </tr>\n",
       "    <tr>\n",
       "      <th>3</th>\n",
       "      <td>0</td>\n",
       "      <td>0</td>\n",
       "    </tr>\n",
       "    <tr>\n",
       "      <th>4</th>\n",
       "      <td>0</td>\n",
       "      <td>0</td>\n",
       "    </tr>\n",
       "  </tbody>\n",
       "</table>\n",
       "</div>"
      ],
      "text/plain": [
       "   mist  snow\n",
       "0     1     0\n",
       "1     1     0\n",
       "2     0     0\n",
       "3     0     0\n",
       "4     0     0"
      ]
     },
     "execution_count": 14,
     "metadata": {},
     "output_type": "execute_result"
    }
   ],
   "source": [
    "weat_dummy.head()"
   ]
  },
  {
   "cell_type": "markdown",
   "id": "30087fd5",
   "metadata": {},
   "source": [
    "# Concat the dummy with original data"
   ]
  },
  {
   "cell_type": "code",
   "execution_count": 15,
   "id": "8fbc1f13",
   "metadata": {},
   "outputs": [
    {
     "data": {
      "text/plain": [
       "Index(['instant', 'dteday', 'season', 'yr', 'mnth', 'holiday', 'weekday',\n",
       "       'workingday', 'weathersit', 'temp', 'atemp', 'hum', 'windspeed',\n",
       "       'casual', 'registered', 'cnt'],\n",
       "      dtype='object')"
      ]
     },
     "execution_count": 15,
     "metadata": {},
     "output_type": "execute_result"
    }
   ],
   "source": [
    "df.columns"
   ]
  },
  {
   "cell_type": "code",
   "execution_count": 16,
   "id": "5c260d24",
   "metadata": {},
   "outputs": [],
   "source": [
    "df = df[['temp','atemp','hum','windspeed','cnt']]"
   ]
  },
  {
   "cell_type": "code",
   "execution_count": 17,
   "id": "df3a523f",
   "metadata": {},
   "outputs": [],
   "source": [
    "df = pd.concat([df,season_dummy,year_dummy,month_dummy,weat_dummy],axis = 1)"
   ]
  },
  {
   "cell_type": "code",
   "execution_count": 18,
   "id": "9d2703e2",
   "metadata": {},
   "outputs": [
    {
     "data": {
      "text/plain": [
       "Index(['temp', 'atemp', 'hum', 'windspeed', 'cnt', 'summer', 'fall', 'winter',\n",
       "       '2019', 'feb', 'march', 'april', 'may', 'june', 'july', 'aug', 'sept',\n",
       "       'oct', 'nov', 'dec', 'mist', 'snow'],\n",
       "      dtype='object')"
      ]
     },
     "execution_count": 18,
     "metadata": {},
     "output_type": "execute_result"
    }
   ],
   "source": [
    "df.columns"
   ]
  },
  {
   "cell_type": "markdown",
   "id": "86835901",
   "metadata": {},
   "source": [
    "# Split into training and testing set"
   ]
  },
  {
   "cell_type": "code",
   "execution_count": 19,
   "id": "df24ffb0",
   "metadata": {},
   "outputs": [],
   "source": [
    "x_train , x_test , y_train , y_test = train_test_split(df.drop('cnt',axis = 1)\n",
    "                                                       ,df['cnt'],test_size=0.25)"
   ]
  },
  {
   "cell_type": "markdown",
   "id": "074c8bab",
   "metadata": {},
   "source": [
    "# Add the constant"
   ]
  },
  {
   "cell_type": "code",
   "execution_count": 20,
   "id": "66b36821",
   "metadata": {},
   "outputs": [],
   "source": [
    "x_train = sm.add_constant(x_train,prepend = False)"
   ]
  },
  {
   "cell_type": "code",
   "execution_count": 21,
   "id": "ac376360",
   "metadata": {},
   "outputs": [],
   "source": [
    "from statsmodels.stats.outliers_influence import variance_inflation_factor"
   ]
  },
  {
   "cell_type": "code",
   "execution_count": 22,
   "id": "5ba0a819",
   "metadata": {},
   "outputs": [
    {
     "data": {
      "text/plain": [
       "Index(['temp', 'atemp', 'hum', 'windspeed', 'summer', 'fall', 'winter', '2019',\n",
       "       'feb', 'march', 'april', 'may', 'june', 'july', 'aug', 'sept', 'oct',\n",
       "       'nov', 'dec', 'mist', 'snow', 'const'],\n",
       "      dtype='object')"
      ]
     },
     "execution_count": 22,
     "metadata": {},
     "output_type": "execute_result"
    }
   ],
   "source": [
    "x_train.columns"
   ]
  },
  {
   "cell_type": "markdown",
   "id": "94ea24b6",
   "metadata": {},
   "source": [
    "# Calculate the VIF "
   ]
  },
  {
   "cell_type": "code",
   "execution_count": 23,
   "id": "22f189d1",
   "metadata": {},
   "outputs": [
    {
     "data": {
      "text/plain": [
       "67.6039088757249"
      ]
     },
     "execution_count": 23,
     "metadata": {},
     "output_type": "execute_result"
    }
   ],
   "source": [
    "variance_inflation_factor(x_train.values,0)  # temp"
   ]
  },
  {
   "cell_type": "code",
   "execution_count": 24,
   "id": "ad56e50a",
   "metadata": {},
   "outputs": [
    {
     "data": {
      "text/plain": [
       "57.88912541919824"
      ]
     },
     "execution_count": 24,
     "metadata": {},
     "output_type": "execute_result"
    }
   ],
   "source": [
    "variance_inflation_factor(x_train.values,1)   #atemp"
   ]
  },
  {
   "cell_type": "code",
   "execution_count": 25,
   "id": "fc5513c0",
   "metadata": {},
   "outputs": [
    {
     "data": {
      "text/plain": [
       "2.0220813059566756"
      ]
     },
     "execution_count": 25,
     "metadata": {},
     "output_type": "execute_result"
    }
   ],
   "source": [
    "variance_inflation_factor(x_train.values,2)     # hum"
   ]
  },
  {
   "cell_type": "code",
   "execution_count": 26,
   "id": "e4e09a65",
   "metadata": {},
   "outputs": [
    {
     "data": {
      "text/plain": [
       "1.9145279435689975"
      ]
     },
     "execution_count": 26,
     "metadata": {},
     "output_type": "execute_result"
    }
   ],
   "source": [
    "variance_inflation_factor(x_train.values,8)    # windspeed"
   ]
  },
  {
   "cell_type": "markdown",
   "id": "0c301491",
   "metadata": {},
   "source": [
    "# Drop the column temp"
   ]
  },
  {
   "cell_type": "code",
   "execution_count": 27,
   "id": "703db8e9",
   "metadata": {},
   "outputs": [],
   "source": [
    "x_train = x_train.drop('temp',axis = 1)"
   ]
  },
  {
   "cell_type": "code",
   "execution_count": 28,
   "id": "6c649eb1",
   "metadata": {},
   "outputs": [],
   "source": [
    "x_train = sm.add_constant(x_train,prepend = False)"
   ]
  },
  {
   "cell_type": "code",
   "execution_count": 29,
   "id": "65c3f3e5",
   "metadata": {},
   "outputs": [
    {
     "data": {
      "text/plain": [
       "Index(['atemp', 'hum', 'windspeed', 'summer', 'fall', 'winter', '2019', 'feb',\n",
       "       'march', 'april', 'may', 'june', 'july', 'aug', 'sept', 'oct', 'nov',\n",
       "       'dec', 'mist', 'snow', 'const'],\n",
       "      dtype='object')"
      ]
     },
     "execution_count": 29,
     "metadata": {},
     "output_type": "execute_result"
    }
   ],
   "source": [
    "x_train.columns"
   ]
  },
  {
   "cell_type": "code",
   "execution_count": 30,
   "id": "975f9949",
   "metadata": {},
   "outputs": [
    {
     "data": {
      "text/plain": [
       "6.024085108055772"
      ]
     },
     "execution_count": 30,
     "metadata": {},
     "output_type": "execute_result"
    }
   ],
   "source": [
    "variance_inflation_factor(x_train.values,0)  # atemp"
   ]
  },
  {
   "cell_type": "code",
   "execution_count": 31,
   "id": "560a09fc",
   "metadata": {},
   "outputs": [
    {
     "data": {
      "text/plain": [
       "1.2214003766674681"
      ]
     },
     "execution_count": 31,
     "metadata": {},
     "output_type": "execute_result"
    }
   ],
   "source": [
    "variance_inflation_factor(x_train.values,2)  # hum"
   ]
  },
  {
   "cell_type": "code",
   "execution_count": 32,
   "id": "095dcdc5",
   "metadata": {},
   "outputs": [
    {
     "data": {
      "text/plain": [
       "7.534243936158367"
      ]
     },
     "execution_count": 32,
     "metadata": {},
     "output_type": "execute_result"
    }
   ],
   "source": [
    "variance_inflation_factor(x_train.values,3)    # windspeed"
   ]
  },
  {
   "cell_type": "markdown",
   "id": "0a8535a9",
   "metadata": {},
   "source": [
    "# Create a model"
   ]
  },
  {
   "cell_type": "code",
   "execution_count": 33,
   "id": "f4805943",
   "metadata": {},
   "outputs": [],
   "source": [
    "mod1 = sm.OLS(y_train,x_train).fit()"
   ]
  },
  {
   "cell_type": "code",
   "execution_count": 34,
   "id": "07801a2e",
   "metadata": {},
   "outputs": [
    {
     "name": "stdout",
     "output_type": "stream",
     "text": [
      "                            OLS Regression Results                            \n",
      "==============================================================================\n",
      "Dep. Variable:                    cnt   R-squared:                       0.849\n",
      "Model:                            OLS   Adj. R-squared:                  0.843\n",
      "Method:                 Least Squares   F-statistic:                     147.3\n",
      "Date:                Fri, 23 Jun 2023   Prob (F-statistic):          1.23e-200\n",
      "Time:                        14:55:05   Log-Likelihood:                -4397.6\n",
      "No. Observations:                 547   AIC:                             8837.\n",
      "Df Residuals:                     526   BIC:                             8928.\n",
      "Df Model:                          20                                         \n",
      "Covariance Type:            nonrobust                                         \n",
      "==============================================================================\n",
      "                 coef    std err          t      P>|t|      [0.025      0.975]\n",
      "------------------------------------------------------------------------------\n",
      "atemp         78.4520      9.778      8.023      0.000      59.243      97.661\n",
      "hum          -15.2875      3.281     -4.660      0.000     -21.733      -8.842\n",
      "windspeed    -39.2877      7.134     -5.507      0.000     -53.302     -25.274\n",
      "summer       937.9364    208.828      4.491      0.000     527.698    1348.175\n",
      "fall        1008.2204    250.583      4.023      0.000     515.953    1500.488\n",
      "winter      1873.9458    215.894      8.680      0.000    1449.825    2298.066\n",
      "2019        2016.9322     66.686     30.245      0.000    1885.929    2147.936\n",
      "feb          224.0017    164.731      1.360      0.174     -99.609     547.613\n",
      "march        672.8064    184.714      3.642      0.000     309.940    1035.673\n",
      "april        729.5752    285.819      2.553      0.011     168.088    1291.063\n",
      "may          974.5981    299.299      3.256      0.001     386.631    1562.566\n",
      "june         929.3971    311.672      2.982      0.003     317.123    1541.672\n",
      "july         270.4113    350.805      0.771      0.441    -418.741     959.563\n",
      "aug          785.9900    337.846      2.326      0.020     122.297    1449.683\n",
      "sept        1259.5539    301.828      4.173      0.000     666.618    1852.490\n",
      "oct          410.4676    279.769      1.467      0.143    -139.134     960.069\n",
      "nov         -160.9404    272.689     -0.590      0.555    -696.633     374.752\n",
      "dec         -215.7112    221.590     -0.973      0.331    -651.022     219.599\n",
      "mist        -510.5283     87.372     -5.843      0.000    -682.170    -338.887\n",
      "snow       -1901.6964    220.476     -8.625      0.000   -2334.819   -1468.574\n",
      "const       1886.2040    261.023      7.226      0.000    1373.429    2398.979\n",
      "==============================================================================\n",
      "Omnibus:                       96.835   Durbin-Watson:                   1.952\n",
      "Prob(Omnibus):                  0.000   Jarque-Bera (JB):              252.010\n",
      "Skew:                          -0.887   Prob(JB):                     1.89e-55\n",
      "Kurtosis:                       5.812   Cond. No.                     1.68e+03\n",
      "==============================================================================\n",
      "\n",
      "Notes:\n",
      "[1] Standard Errors assume that the covariance matrix of the errors is correctly specified.\n",
      "[2] The condition number is large, 1.68e+03. This might indicate that there are\n",
      "strong multicollinearity or other numerical problems.\n"
     ]
    }
   ],
   "source": [
    "print(mod1.summary())"
   ]
  },
  {
   "cell_type": "code",
   "execution_count": 38,
   "id": "83be44fc",
   "metadata": {},
   "outputs": [
    {
     "name": "stdout",
     "output_type": "stream",
     "text": [
      "atemp   6.024085108055772\n",
      "hum   2.018393132889318\n",
      "windspeed   1.2214003766674681\n",
      "summer   7.534243936158367\n",
      "fall   11.426339289924138\n",
      "winter   7.929655353309492\n",
      "2019   1.0384345731999856\n",
      "feb   1.913701460075495\n",
      "march   2.646869175796154\n",
      "april   5.2908546276239345\n",
      "may   6.824070442554543\n",
      "june   6.57207897543355\n",
      "july   9.547015015662286\n",
      "aug   7.886164685603212\n",
      "sept   6.811911427238677\n",
      "oct   5.519805562946378\n",
      "nov   4.923609781748123\n",
      "dec   3.6022811426838475\n",
      "mist   1.5653143017136961\n",
      "snow   1.289277975231605\n",
      "const   63.641290022410566\n"
     ]
    }
   ],
   "source": [
    "for i in range(len(x_train.columns)):\n",
    "    print(x_train.columns[i],\" \",variance_inflation_factor(x_train.values,i))"
   ]
  },
  {
   "cell_type": "code",
   "execution_count": null,
   "id": "8c0a4df5",
   "metadata": {},
   "outputs": [],
   "source": []
  }
 ],
 "metadata": {
  "kernelspec": {
   "display_name": "Python 3 (ipykernel)",
   "language": "python",
   "name": "python3"
  },
  "language_info": {
   "codemirror_mode": {
    "name": "ipython",
    "version": 3
   },
   "file_extension": ".py",
   "mimetype": "text/x-python",
   "name": "python",
   "nbconvert_exporter": "python",
   "pygments_lexer": "ipython3",
   "version": "3.10.9"
  }
 },
 "nbformat": 4,
 "nbformat_minor": 5
}
