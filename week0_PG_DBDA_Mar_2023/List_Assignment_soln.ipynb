{
  "nbformat": 4,
  "nbformat_minor": 0,
  "metadata": {
    "colab": {
      "provenance": []
    },
    "kernelspec": {
      "name": "python3",
      "display_name": "Python 3"
    },
    "language_info": {
      "name": "python"
    }
  },
  "cells": [
    {
      "cell_type": "markdown",
      "source": [
        "Q1 : Write a Python program to remove duplicates from a list."
      ],
      "metadata": {
        "id": "z4UaYHXVhanC"
      }
    },
    {
      "cell_type": "code",
      "source": [
        "lst = [1, 2, 3, 2, 7, 4, 1, 5, 6, 4]\n",
        "new_lst = list(set(lst))\n",
        "print(new_lst)"
      ],
      "metadata": {
        "id": "4ZBPQR50hhq1",
        "colab": {
          "base_uri": "https://localhost:8080/"
        },
        "outputId": "b933b5ac-d5d6-437f-c0f2-8480079c3ca0"
      },
      "execution_count": 46,
      "outputs": [
        {
          "output_type": "stream",
          "name": "stdout",
          "text": [
            "[1, 2, 3, 4, 5, 6, 7]\n"
          ]
        }
      ]
    },
    {
      "cell_type": "markdown",
      "source": [
        "Q2 : Write a Python program to get the sum of all the elements in a list."
      ],
      "metadata": {
        "id": "W6vZA-I5hiyt"
      }
    },
    {
      "cell_type": "code",
      "source": [
        "lst = [1, 2, 3, 4, 5, 6, 7]\n",
        "ad = 0\n",
        "for i in range(len(lst)):\n",
        "  ad+=lst[i]\n",
        "print(\"sum = \", ad)"
      ],
      "metadata": {
        "id": "wtw31X3bhnri",
        "colab": {
          "base_uri": "https://localhost:8080/"
        },
        "outputId": "3f934672-d362-4b71-cd09-fb71d9ba6b56"
      },
      "execution_count": 47,
      "outputs": [
        {
          "output_type": "stream",
          "name": "stdout",
          "text": [
            "sum =  28\n"
          ]
        }
      ]
    },
    {
      "cell_type": "markdown",
      "source": [
        "Q3 : Write a Python program to find the largest number in a list."
      ],
      "metadata": {
        "id": "o9Xb5vvBhovu"
      }
    },
    {
      "cell_type": "code",
      "source": [
        "nlst = [34, 23, 65 ,34, 78, 11, 89, 93, 92]\n",
        "largest = nlst[0]\n",
        "for i in range(len(nlst)):\n",
        "  if largest < nlst[i]:\n",
        "    largest  = nlst[i]\n",
        "print(largest)"
      ],
      "metadata": {
        "id": "R0vbBzSDhrzd",
        "colab": {
          "base_uri": "https://localhost:8080/"
        },
        "outputId": "cb298957-0ed7-4c56-f921-7f4930f5a4af"
      },
      "execution_count": 48,
      "outputs": [
        {
          "output_type": "stream",
          "name": "stdout",
          "text": [
            "93\n"
          ]
        }
      ]
    },
    {
      "cell_type": "markdown",
      "source": [
        "Q4 : Write a Python program to find the second largest number in a list."
      ],
      "metadata": {
        "id": "dsJeeIAhhtAo"
      }
    },
    {
      "cell_type": "code",
      "source": [
        "nlist = [34, 23, 65 ,34, 78, 11, 89, 93, 92]\n",
        "l = sl = 0\n",
        "#print(l, sl) #debug\n",
        "if(nlist[0] > nlist[1]):\n",
        "  l = nlist[0]\n",
        "  sl = nlist[1]\n",
        "else:\n",
        "  l = nlist[1]\n",
        "  sl = nlist[0]\n",
        "#print(l, sl) #debug\n",
        "for i in range(2, len(nlist)):\n",
        "  #print(\"debug\", nlist[i]) #debug\n",
        "  if l < nlist[i]:\n",
        "    sl = l\n",
        "    l = nlist[i]\n",
        "  else:\n",
        "    if (sl < nlist[i]):\n",
        "      sl = nlist[i]\n",
        "#print(l, sl) #debug\n",
        "print(\"second largest = \", sl)"
      ],
      "metadata": {
        "id": "mezctHHVhvKP",
        "colab": {
          "base_uri": "https://localhost:8080/"
        },
        "outputId": "57fd0c6c-85ac-466a-b6b8-db83f52aff19"
      },
      "execution_count": 49,
      "outputs": [
        {
          "output_type": "stream",
          "name": "stdout",
          "text": [
            "second largest =  92\n"
          ]
        }
      ]
    },
    {
      "cell_type": "markdown",
      "source": [
        "Q5 : Write a Python program to concatenate two lists."
      ],
      "metadata": {
        "id": "EABmcCjBhwVc"
      }
    },
    {
      "cell_type": "code",
      "source": [
        "list1 = [34, 62, 73, 86, 22]\n",
        "print(\"List1 : \", list1)\n",
        "list2 = [84, 92, 21, 56, 27, 87]\n",
        "print(\"List2 : \", list2)\n",
        "list1.extend(list2)\n",
        "print(\"Concatenated list : \", list1)"
      ],
      "metadata": {
        "id": "0bkOXeI_hzjA",
        "colab": {
          "base_uri": "https://localhost:8080/"
        },
        "outputId": "eb9652c1-1469-46d5-9d0e-ca8f0907a969"
      },
      "execution_count": 50,
      "outputs": [
        {
          "output_type": "stream",
          "name": "stdout",
          "text": [
            "List1 :  [34, 62, 73, 86, 22]\n",
            "List2 :  [84, 92, 21, 56, 27, 87]\n",
            "Concatenated list :  [34, 62, 73, 86, 22, 84, 92, 21, 56, 27, 87]\n"
          ]
        }
      ]
    },
    {
      "cell_type": "markdown",
      "source": [
        "Q6 : Write a Python program to find the index of an element in a list."
      ],
      "metadata": {
        "id": "l9HUbunoh0tT"
      }
    },
    {
      "cell_type": "code",
      "source": [
        "list1 = [34, 62, 73, 86, 22]\n",
        "print(list1)\n",
        "print(list1.index(73))"
      ],
      "metadata": {
        "id": "qG9OIAA6h4GE",
        "colab": {
          "base_uri": "https://localhost:8080/"
        },
        "outputId": "27857794-49a2-4ab4-8e59-38ed9002a6a8"
      },
      "execution_count": 51,
      "outputs": [
        {
          "output_type": "stream",
          "name": "stdout",
          "text": [
            "[34, 62, 73, 86, 22]\n",
            "2\n"
          ]
        }
      ]
    },
    {
      "cell_type": "markdown",
      "source": [
        "Q7 : Write a Python program to check if a given element exists in a list."
      ],
      "metadata": {
        "id": "zN4fZek3h5kp"
      }
    },
    {
      "cell_type": "code",
      "source": [
        "list1 = [34, 62, 73, 86, 22]\n",
        "print(list1)\n",
        "if(list1.count(73)): \n",
        "  print(True)\n",
        "else:\n",
        "  print(False)"
      ],
      "metadata": {
        "id": "MxMEjNtzh8Td",
        "colab": {
          "base_uri": "https://localhost:8080/"
        },
        "outputId": "ae632724-0c15-4d8e-ff05-aae32a669139"
      },
      "execution_count": 52,
      "outputs": [
        {
          "output_type": "stream",
          "name": "stdout",
          "text": [
            "[34, 62, 73, 86, 22]\n",
            "True\n"
          ]
        }
      ]
    },
    {
      "cell_type": "markdown",
      "source": [
        "Q8 : Write a Python program to sort a list in descending order."
      ],
      "metadata": {
        "id": "YczdmJUyh-HP"
      }
    },
    {
      "cell_type": "code",
      "source": [
        "list1 = [34, 62, 73, 86, 22]\n",
        "print(list1)\n",
        "list1.sort(reverse=True)\n",
        "print(list1)"
      ],
      "metadata": {
        "id": "Fnapw7xgiDII",
        "colab": {
          "base_uri": "https://localhost:8080/"
        },
        "outputId": "30c56eef-f299-4a7c-bbe2-4440435c6c5a"
      },
      "execution_count": 53,
      "outputs": [
        {
          "output_type": "stream",
          "name": "stdout",
          "text": [
            "[34, 62, 73, 86, 22]\n",
            "[86, 73, 62, 34, 22]\n"
          ]
        }
      ]
    },
    {
      "cell_type": "markdown",
      "source": [
        "Q9 : Write a Python program to reverse a list."
      ],
      "metadata": {
        "id": "uLukIUIWiAvW"
      }
    },
    {
      "cell_type": "code",
      "source": [
        "list1 = [34, 62, 73, 86, 22]\n",
        "print(list1)\n",
        "print(list1[::-1])"
      ],
      "metadata": {
        "id": "fiS-DkIYiIIf",
        "colab": {
          "base_uri": "https://localhost:8080/"
        },
        "outputId": "7d5b5ffc-ae58-4064-87dd-95e55c63fc4f"
      },
      "execution_count": 54,
      "outputs": [
        {
          "output_type": "stream",
          "name": "stdout",
          "text": [
            "[34, 62, 73, 86, 22]\n",
            "[22, 86, 73, 62, 34]\n"
          ]
        }
      ]
    },
    {
      "cell_type": "markdown",
      "source": [
        "Q10 : Write a Python program to find the common elements between two lists."
      ],
      "metadata": {
        "id": "Dysgl0eeiK8L"
      }
    },
    {
      "cell_type": "code",
      "source": [
        "list1 = [34, 62, 73, 21, 56, 22]\n",
        "print(\"List1 : \", list1)\n",
        "list2 = [84, 92, 21, 56, 27, 87]\n",
        "print(\"List2 : \", list2)\n",
        "print(list(set(list1) & set(list2)))"
      ],
      "metadata": {
        "id": "zvOm73mZiM8H",
        "colab": {
          "base_uri": "https://localhost:8080/"
        },
        "outputId": "3ae17c67-70f6-4898-ce23-0833ad71a093"
      },
      "execution_count": 55,
      "outputs": [
        {
          "output_type": "stream",
          "name": "stdout",
          "text": [
            "List1 :  [34, 62, 73, 21, 56, 22]\n",
            "List2 :  [84, 92, 21, 56, 27, 87]\n",
            "[56, 21]\n"
          ]
        }
      ]
    },
    {
      "cell_type": "markdown",
      "source": [
        "Q1 : Write a Python function that takes a list of numbers as input and returns the sum of all the even numbers in the list. You can assume that the input list only contains integers."
      ],
      "metadata": {
        "id": "hkyytuzAiN8w"
      }
    },
    {
      "cell_type": "code",
      "source": [
        "def add_evens(arglst):\n",
        "  sum = 0\n",
        "  for i in range(len(arglst)):\n",
        "    if arglst[i] % 2 == 0 :\n",
        "      sum = sum + arglst[i]\n",
        "  print(\"Sum of even elements : \", sum)\n",
        "list1 = [1, 2, 3, 4, 5]\n",
        "add_evens(list1)"
      ],
      "metadata": {
        "id": "XrDShXcwiR8o",
        "colab": {
          "base_uri": "https://localhost:8080/"
        },
        "outputId": "5784fb58-e679-4f04-b27a-8f2bbcf6b103"
      },
      "execution_count": 56,
      "outputs": [
        {
          "output_type": "stream",
          "name": "stdout",
          "text": [
            "Sum of even elements :  6\n"
          ]
        }
      ]
    },
    {
      "cell_type": "markdown",
      "source": [
        "Q2 : Write a Python function that takes two lists as input and returns a new list that contains all the elements that are common between the two input lists. You can assume that the input lists only contain integers, and that the output list should not contain any duplicate elements."
      ],
      "metadata": {
        "id": "Su4RBb_piU_z"
      }
    },
    {
      "cell_type": "code",
      "source": [
        "def get_common_ele(arglst1, arglst2):\n",
        "  print(\"Common elements : \", list(set(arglst1) & set(arglst2)))\n",
        "list1 = [34, 62, 73, 86, 92, 22]\n",
        "print(\"List1 : \", list1)\n",
        "list2 = [84, 92, 21, 56, 22, 87]\n",
        "print(\"List2 : \", list2)\n",
        "get_common_ele(list1, list2)"
      ],
      "metadata": {
        "id": "XWkLn4C_iZsO",
        "colab": {
          "base_uri": "https://localhost:8080/"
        },
        "outputId": "141f27cc-28e3-4e40-cb6a-5d281a8545ed"
      },
      "execution_count": 57,
      "outputs": [
        {
          "output_type": "stream",
          "name": "stdout",
          "text": [
            "List1 :  [34, 62, 73, 86, 92, 22]\n",
            "List2 :  [84, 92, 21, 56, 22, 87]\n",
            "Common elements :  [92, 22]\n"
          ]
        }
      ]
    },
    {
      "cell_type": "markdown",
      "source": [
        "Q3 : Write a Python program that takes a list of strings as input and returns a new list containing only the strings that are longer than five characters. Your program should define a function filter_long_strings() that takes the input list as an argument and returns the filtered list."
      ],
      "metadata": {
        "id": "RsE_yM-zia33"
      }
    },
    {
      "cell_type": "code",
      "source": [
        "def get_ele_longer_than_lim(arglst):\n",
        "  #print(\"fun call 1st statement \", arglst) #debug\n",
        "  rslt = []\n",
        "  for i in range(len(arglst)):\n",
        "    #print(arglst[i], len(arglst[i])) #debug \n",
        "    if len(arglst[i]) > 5 :\n",
        "      rslt.append(arglst[i])\n",
        "  print(rslt)\n",
        "strin = input(\"Enter a string to check words of length over 5 : \")\n",
        "lst1 = strin.split()\n",
        "#print(\"after split \", lst1) #debug\n",
        "get_ele_longer_than_lim(lst1)     "
      ],
      "metadata": {
        "colab": {
          "base_uri": "https://localhost:8080/"
        },
        "id": "YfFjMbqQeiKv",
        "outputId": "5fdb3817-f50b-4dbf-a4d3-30e940b323f5"
      },
      "execution_count": 58,
      "outputs": [
        {
          "output_type": "stream",
          "name": "stdout",
          "text": [
            "Enter a string to check words of length over 5 : welcome to cdac mumbai\n",
            "['welcome', 'mumbai']\n"
          ]
        }
      ]
    },
    {
      "cell_type": "code",
      "source": [],
      "metadata": {
        "id": "xzemlxkTgFSt"
      },
      "execution_count": null,
      "outputs": []
    }
  ]
}