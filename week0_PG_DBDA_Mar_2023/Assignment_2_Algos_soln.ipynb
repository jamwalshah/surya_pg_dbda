{
  "nbformat": 4,
  "nbformat_minor": 0,
  "metadata": {
    "colab": {
      "provenance": []
    },
    "kernelspec": {
      "name": "python3",
      "display_name": "Python 3"
    },
    "language_info": {
      "name": "python"
    }
  },
  "cells": [
    {
      "cell_type": "markdown",
      "source": [
        "Write an algorithm for finding the largest number in a list of integers."
      ],
      "metadata": {
        "id": "xsxslJ0VWRK5"
      }
    },
    {
      "cell_type": "markdown",
      "source": [
        "1. start\n",
        "2. get a list of mnumbers\n",
        "3. comare the the first two numbers, and copy the greater number into a separate variable named largest\n",
        "4. now comapre rest of the numbers one by one from list with previous largest number, and replace largest with the new largest if next number is greater\n",
        "5. after traversing and comparing all elements from list, print the largest\n",
        "6. end"
      ],
      "metadata": {
        "id": "1JnJw3QzWSYR"
      }
    },
    {
      "cell_type": "markdown",
      "source": [
        "Write an algorithm for finding the factorial of a number (i.e., the product of all positive integers up to and including that number)."
      ],
      "metadata": {
        "id": "loyibZ4TXVVE"
      }
    },
    {
      "cell_type": "markdown",
      "source": [
        "1. start\n",
        "2. get a number from user to find factorial\n",
        "3. set a variable fact with initial value of 1\n",
        "4. put a loop which takes user entered number, and decrements it in each loop, to get the product with the current value of loop counter/user enetered value and the previous value of fact variable\n",
        "6. run the loop till loop counter/ userenetered variable is greater than zero\n",
        "7. print the value of fact, which is the product of each of the decrements applied on user entered value\n",
        "8. end"
      ],
      "metadata": {
        "id": "lJQnqNRtXWc5"
      }
    },
    {
      "cell_type": "markdown",
      "source": [
        "Write an algorithm for reversing a string."
      ],
      "metadata": {
        "id": "lv3ZQeMBYb98"
      }
    },
    {
      "cell_type": "markdown",
      "source": [
        "1. start\n",
        "2. take a string\n",
        "3. traverse the string from the reverse using -ve value in slicing the string, and print it\n",
        "4.  end"
      ],
      "metadata": {
        "id": "srBiuX5jYeRc"
      }
    },
    {
      "cell_type": "markdown",
      "source": [
        "Write an algorithm for finding the nth Fibonacci number (i.e., the sum of the two preceding numbers in the sequence)."
      ],
      "metadata": {
        "id": "bgPQDdp4Yqd5"
      }
    },
    {
      "cell_type": "markdown",
      "source": [
        "1. start\n",
        "2. take the value of n from user\n",
        "3. set a=0, b=1, and c=a+b\n",
        "4. a=b, b=c\n",
        "5. start the loop with counter =2, and run till the n value entered by user, and in each loop do c=a+b, a=b, b=c\n",
        "6. print value of b at end, which is the nth value in fibonacci series\n",
        "7. end"
      ],
      "metadata": {
        "id": "j5bLn26AYr4l"
      }
    },
    {
      "cell_type": "markdown",
      "source": [
        "Write an algorithm for converting a decimal number to binary."
      ],
      "metadata": {
        "id": "kEApQAFxaO9Z"
      }
    },
    {
      "cell_type": "markdown",
      "source": [
        "1. start\n",
        "2. take a decimal number from user\n",
        "3. set a loop to find modulus of entered number, and store the remainder by dividing the number by 2 in an array as per loop index, and the divide the number with 2 and store in same variable again\n",
        "4. print the array in reverse order which stored the remainders\n",
        "5. end"
      ],
      "metadata": {
        "id": "fXDExnsvaQ29"
      }
    },
    {
      "cell_type": "markdown",
      "source": [
        "Write an algorithm for checking whether a given word is a palindrome (i.e., reads the same backwards as forwards)."
      ],
      "metadata": {
        "id": "TLPXmCxmcR4r"
      }
    },
    {
      "cell_type": "markdown",
      "source": [
        "1. start\n",
        "2. take a number from user\n",
        "3. convert the number into string\n",
        "4. reverse the number and compare with original value, if it matched, it is pallindrome. and it it doesn't match, it is not a pallindrome\n",
        "5. end"
      ],
      "metadata": {
        "id": "R820ZAfocTu_"
      }
    },
    {
      "cell_type": "markdown",
      "source": [
        "Write an algorithm for finding the roots of a quadratic equation."
      ],
      "metadata": {
        "id": "cemMvPDwc5ev"
      }
    },
    {
      "cell_type": "markdown",
      "source": [
        "1.  start\n",
        "2. take value of a, b, c from user\n",
        "3. calculate d = b*b - 4*a*c\n",
        "4. if d = 0 , print \"roots are equal\", and calculate r1 = r2 = -b / 2*a\n",
        "5. if d < 0,  r1 = (-b + sqrt(d))/2 * a  ,  r1 = (-b + sqrt(d))/2 * a  &  print r1 & r2\n",
        "6. else,  real = -b / 2 * a  ,  imag = sqrt(-(d)) / 2 * a   &  print r1 = real + imag'i' & r2 = real - imag'i'\n",
        "7. end"
      ],
      "metadata": {
        "id": "HEp01XOsc6L8"
      }
    }
  ]
}