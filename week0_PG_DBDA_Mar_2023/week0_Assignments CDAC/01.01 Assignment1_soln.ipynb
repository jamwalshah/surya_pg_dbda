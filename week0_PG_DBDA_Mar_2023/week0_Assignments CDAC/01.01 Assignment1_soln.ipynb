{
  "nbformat": 4,
  "nbformat_minor": 0,
  "metadata": {
    "colab": {
      "provenance": []
    },
    "kernelspec": {
      "name": "python3",
      "display_name": "Python 3"
    },
    "language_info": {
      "name": "python"
    }
  },
  "cells": [
    {
      "cell_type": "markdown",
      "source": [
        "Q1 : Create a string variable named my_string and assign it the value \"qwertyuiopasdfghjkl asdfghjkzxcvbnm\"."
      ],
      "metadata": {
        "id": "e8Ob4kp0UIMX"
      }
    },
    {
      "cell_type": "code",
      "source": [
        "my_string = \"qwertyuiopasdfghjkl asdfghjkzxcvbnm\""
      ],
      "metadata": {
        "id": "zzM4M9AOUO_Q"
      },
      "execution_count": null,
      "outputs": []
    },
    {
      "cell_type": "markdown",
      "source": [
        "Q2 : Print the third character of my_string using indexing."
      ],
      "metadata": {
        "id": "nQXww5MGUtUR"
      }
    },
    {
      "cell_type": "code",
      "source": [
        "print(my_string[2])"
      ],
      "metadata": {
        "colab": {
          "base_uri": "https://localhost:8080/"
        },
        "id": "dFPJFoiGUyQw",
        "outputId": "be3936d9-056c-4ee2-be07-026642bb4c28"
      },
      "execution_count": null,
      "outputs": [
        {
          "output_type": "stream",
          "name": "stdout",
          "text": [
            "e\n"
          ]
        }
      ]
    },
    {
      "cell_type": "markdown",
      "source": [
        "Q3 : Print the last character of my_string using indexing."
      ],
      "metadata": {
        "id": "unrOlfLgVOQN"
      }
    },
    {
      "cell_type": "code",
      "source": [
        "print(my_string[-1])"
      ],
      "metadata": {
        "colab": {
          "base_uri": "https://localhost:8080/"
        },
        "id": "CQoYvGlAVQjA",
        "outputId": "08e329e0-0066-466b-ed66-6e99295476fc"
      },
      "execution_count": null,
      "outputs": [
        {
          "output_type": "stream",
          "name": "stdout",
          "text": [
            "m\n"
          ]
        }
      ]
    },
    {
      "cell_type": "markdown",
      "source": [
        "Q4 : Print the first five characters of my_string using slicing."
      ],
      "metadata": {
        "id": "t6roU8UwVcNC"
      }
    },
    {
      "cell_type": "code",
      "source": [
        "print(my_string[:5])"
      ],
      "metadata": {
        "colab": {
          "base_uri": "https://localhost:8080/"
        },
        "id": "dRuXDjIVVe_F",
        "outputId": "093070e3-523d-4541-b457-da83fb87bf92"
      },
      "execution_count": null,
      "outputs": [
        {
          "output_type": "stream",
          "name": "stdout",
          "text": [
            "qwert\n"
          ]
        }
      ]
    },
    {
      "cell_type": "markdown",
      "source": [
        "Q5 : Print the last five characters of my_string using slicing."
      ],
      "metadata": {
        "id": "rcNOSmy5VmVT"
      }
    },
    {
      "cell_type": "code",
      "source": [
        "print(my_string[-5:])"
      ],
      "metadata": {
        "colab": {
          "base_uri": "https://localhost:8080/"
        },
        "id": "OOc7S8rsVp-Z",
        "outputId": "07ad90eb-4f3b-4369-c15e-fae673c24c6f"
      },
      "execution_count": null,
      "outputs": [
        {
          "output_type": "stream",
          "name": "stdout",
          "text": [
            "cvbnm\n"
          ]
        }
      ]
    },
    {
      "cell_type": "markdown",
      "source": [
        "Q6 : Print every other character of my_string using slicing."
      ],
      "metadata": {
        "id": "xWwCGwrnWPHr"
      }
    },
    {
      "cell_type": "code",
      "source": [
        "print(my_string[::2])"
      ],
      "metadata": {
        "colab": {
          "base_uri": "https://localhost:8080/"
        },
        "id": "Q3Xhgoy3WRyH",
        "outputId": "b9338fe5-ed38-4df6-a22f-dcb391af0b2b"
      },
      "execution_count": null,
      "outputs": [
        {
          "output_type": "stream",
          "name": "stdout",
          "text": [
            "qetuoadgjladgjzcbm\n"
          ]
        }
      ]
    },
    {
      "cell_type": "markdown",
      "source": [
        "Q7 : Print my_string in reverse using slicing."
      ],
      "metadata": {
        "id": "-iWMo-GTWYKr"
      }
    },
    {
      "cell_type": "code",
      "source": [
        "print(my_string[::-1])"
      ],
      "metadata": {
        "colab": {
          "base_uri": "https://localhost:8080/"
        },
        "id": "OM3sWA7UWc-A",
        "outputId": "a73b2f93-56da-42ac-f90b-248df5db3f9a"
      },
      "execution_count": null,
      "outputs": [
        {
          "output_type": "stream",
          "name": "stdout",
          "text": [
            "mnbvcxzkjhgfdsa lkjhgfdsapoiuytrewq\n"
          ]
        }
      ]
    },
    {
      "cell_type": "markdown",
      "source": [
        "Q8 : Print the first two characters of my_string using slicing."
      ],
      "metadata": {
        "id": "8UXFFbxUWvT8"
      }
    },
    {
      "cell_type": "code",
      "source": [
        "print(my_string[1:3])"
      ],
      "metadata": {
        "colab": {
          "base_uri": "https://localhost:8080/"
        },
        "id": "bwxscV-JX8q0",
        "outputId": "1c9148a2-a427-42e1-99d2-d7625334afd9"
      },
      "execution_count": null,
      "outputs": [
        {
          "output_type": "stream",
          "name": "stdout",
          "text": [
            "we\n"
          ]
        }
      ]
    },
    {
      "cell_type": "markdown",
      "source": [
        "Q9 : Print the characters of my_string from index 7 to index 12 (inclusive) using slicing."
      ],
      "metadata": {
        "id": "HLm7wCyMY3hT"
      }
    },
    {
      "cell_type": "code",
      "source": [
        "print(my_string[7:13])"
      ],
      "metadata": {
        "colab": {
          "base_uri": "https://localhost:8080/"
        },
        "id": "0k3_wm6fY6AE",
        "outputId": "bb1e5333-72f4-4dce-f30e-3d5113826534"
      },
      "execution_count": null,
      "outputs": [
        {
          "output_type": "stream",
          "name": "stdout",
          "text": [
            "iopasd\n"
          ]
        }
      ]
    },
    {
      "cell_type": "markdown",
      "source": [
        "Q10 : Print the last three characters of my_string using slicing."
      ],
      "metadata": {
        "id": "xhAMUiEeZPDR"
      }
    },
    {
      "cell_type": "code",
      "source": [
        "print(my_string[-3:len(my_string):1])"
      ],
      "metadata": {
        "colab": {
          "base_uri": "https://localhost:8080/"
        },
        "id": "9kYTOuAbZR-a",
        "outputId": "9b049def-b0a5-473d-e86f-f4f3dee211b2"
      },
      "execution_count": null,
      "outputs": [
        {
          "output_type": "stream",
          "name": "stdout",
          "text": [
            "bnm\n"
          ]
        }
      ]
    },
    {
      "cell_type": "markdown",
      "source": [
        "Q11 : Print the characters of my_string in reverse order using slicing."
      ],
      "metadata": {
        "id": "iUN4wCZYaK1x"
      }
    },
    {
      "cell_type": "code",
      "source": [
        "print(my_string[::-1])"
      ],
      "metadata": {
        "colab": {
          "base_uri": "https://localhost:8080/"
        },
        "id": "-Xqw0wrraMxl",
        "outputId": "2b9d616a-b55a-4c91-edd8-992d3f456172"
      },
      "execution_count": null,
      "outputs": [
        {
          "output_type": "stream",
          "name": "stdout",
          "text": [
            "mnbvcxzkjhgfdsa lkjhgfdsapoiuytrewq\n"
          ]
        }
      ]
    },
    {
      "cell_type": "markdown",
      "source": [
        "Q12 : Print every third character of my_string starting from the second character using slicing."
      ],
      "metadata": {
        "id": "lu1c5FddaWW9"
      }
    },
    {
      "cell_type": "code",
      "source": [
        "print(my_string[1::3])"
      ],
      "metadata": {
        "colab": {
          "base_uri": "https://localhost:8080/"
        },
        "id": "uFoVKkGaaZYm",
        "outputId": "24efc063-935f-4562-b011-935afd1222b6"
      },
      "execution_count": null,
      "outputs": [
        {
          "output_type": "stream",
          "name": "stdout",
          "text": [
            "wtiafj dhzvm\n"
          ]
        }
      ]
    },
    {
      "cell_type": "markdown",
      "source": [
        "Q13 : Create a new string variable named new_string and assign it the value \"learning is fun\". Concatenate my_string and new_string using the + operator and print the resulting string."
      ],
      "metadata": {
        "id": "mvSrB38ucpQd"
      }
    },
    {
      "cell_type": "code",
      "source": [
        "new_string = \"learning is fun\"\n",
        "print(my_string + new_string)"
      ],
      "metadata": {
        "colab": {
          "base_uri": "https://localhost:8080/"
        },
        "id": "1XOrNWD6cqjF",
        "outputId": "0466ebcc-89ef-444d-afce-0b7405b6aff0"
      },
      "execution_count": null,
      "outputs": [
        {
          "output_type": "stream",
          "name": "stdout",
          "text": [
            "qwertyuiopasdfghjkl asdfghjkzxcvbnmlearning is fun\n"
          ]
        }
      ]
    },
    {
      "cell_type": "markdown",
      "source": [
        "Q14 : Create a string variable named my_string and assign it the value \"Python is easy to learn!\".\n",
        "1. Print the length of my_string.\n",
        "2. Convert my_string to uppercase and print it.\n",
        "3. Replace the word \"easy\" in my_string with the word \"powerful\" and print the resulting string."
      ],
      "metadata": {
        "id": "eFF48mokdgRl"
      }
    },
    {
      "cell_type": "code",
      "source": [
        "my_string = \"Python is easy to learn!\"\n",
        "print(len(my_string))\n",
        "print(my_string.upper())\n",
        "print(my_string.replace(\"easy\", \"powerful\"))"
      ],
      "metadata": {
        "colab": {
          "base_uri": "https://localhost:8080/"
        },
        "id": "XfFgTqaHdtB4",
        "outputId": "a63041ad-9138-4586-cbf7-d5f6b098a2e7"
      },
      "execution_count": null,
      "outputs": [
        {
          "output_type": "stream",
          "name": "stdout",
          "text": [
            "24\n",
            "PYTHON IS EASY TO LEARN!\n",
            "Python is powerful to learn!\n"
          ]
        }
      ]
    },
    {
      "cell_type": "markdown",
      "source": [
        "Q15 : Create a string variable named email and assign it the value \"jane.doe@example.com\".\n",
        "1. Print the username (i.e., \"jane.doe\") by slicing the string.\n",
        "2. Print the domain (i.e., \"example.com\") by slicing the string.\n",
        "3. Replace the domain with \"mycompany.com\" and print the resulting email address."
      ],
      "metadata": {
        "id": "W1Nq_6LVgIb7"
      }
    },
    {
      "cell_type": "code",
      "source": [
        "email = \"jane.doe@example.com\"\n",
        "username  = email[:email.index(\"@\")]\n",
        "print(username)\n",
        "domain = email[email.index(\"@\")+1:]\n",
        "print(domain)\n",
        "rep_email = email.replace(domain, \"mycompany.com\")\n",
        "print(rep_email)"
      ],
      "metadata": {
        "colab": {
          "base_uri": "https://localhost:8080/"
        },
        "id": "_Rw_YwwlgR9T",
        "outputId": "9f8331b8-6616-4f20-b89a-a411ea67ef46"
      },
      "execution_count": null,
      "outputs": [
        {
          "output_type": "stream",
          "name": "stdout",
          "text": [
            "jane.doe\n",
            "example.com\n",
            "jane.doe@mycompany.com\n"
          ]
        }
      ]
    },
    {
      "cell_type": "markdown",
      "source": [
        "Q16 : Create a string variable named my_string and assign it the value \"Python is fun\".\n",
        "1. Check if the word \"is\" is in my_string and print the result.\n",
        "2. Check if the word \"Java\" is not in my_string and print the result.\n",
        "3. Split my_string into a list of words and print the result."
      ],
      "metadata": {
        "id": "sp8CYN5JkFxj"
      }
    },
    {
      "cell_type": "code",
      "source": [
        "my_string = \"Python is fun\"\n",
        "print(\"'is' substring check\")\n",
        "if (my_string.find(\"is\") != -1): print(\"'is' is not present \")\n",
        "else : print(\"'is' check skipped\")\n",
        "print(\"'Java' substring check\")\n",
        "if (my_string.find(\"is\") == -1): print(\"'is' is not present \")\n",
        "else : print(\"'Java' check skipped\")\n",
        "print(my_string.split())"
      ],
      "metadata": {
        "colab": {
          "base_uri": "https://localhost:8080/"
        },
        "id": "X2T54RPJkUeR",
        "outputId": "1e6db6b5-5e89-47be-b7e4-99acdb345ab1"
      },
      "execution_count": null,
      "outputs": [
        {
          "output_type": "stream",
          "name": "stdout",
          "text": [
            "'is' substring check\n",
            "'is' is not present \n",
            "'Java' substring check\n",
            "'Java' check skipped\n",
            "['Python', 'is', 'fun']\n"
          ]
        }
      ]
    },
    {
      "cell_type": "markdown",
      "source": [
        "Q17 : Create a string variable named my_string and assign it the value \"Programming is fun!\".\n",
        "1. Use string interpolation to replace \"fun\" with \"awesome\" and print the resulting string.\n",
        "2. Use the split method to split my_string into a list of words and print the result.\n",
        "3. Use the join method to concatenate the list of words into a single string using a space as a separator and print the resulting string."
      ],
      "metadata": {
        "id": "50tbM8Y5-Vri"
      }
    },
    {
      "cell_type": "code",
      "source": [
        "my_string = \"Programming is fun!\"\n",
        "print(my_string.replace(\"fun\", \"awesome\"))\n",
        "split_str = my_string.split()\n",
        "print(my_string.split())\n",
        "print(\" \".join(split_str))\n",
        "\n",
        "#concat = \"\"\n",
        "#i=0\n",
        "#for (i in range(0, len(split_str))):\n",
        "#      concat = concat + split_str[i]\n",
        "#print(\"concatenated  string is \"+concat)"
      ],
      "metadata": {
        "colab": {
          "base_uri": "https://localhost:8080/"
        },
        "id": "_MH-nN_B-bva",
        "outputId": "f7d0912c-1c0c-4c0b-d1c3-c26e3202fd8c"
      },
      "execution_count": null,
      "outputs": [
        {
          "output_type": "stream",
          "name": "stdout",
          "text": [
            "Programming is awesome!\n",
            "['Programming', 'is', 'fun!']\n",
            "Programming is fun!\n"
          ]
        }
      ]
    },
    {
      "cell_type": "markdown",
      "source": [
        "Q18 : Create a string variable named my_string and assign it the value \"This is a test sentence.\".\n",
        "1. Use the count method to count the number of occurrences of the letter \"e\" in my_string and print the result.\n",
        "2. Use the find method to find the index of the first occurrence of the word \"test\" in my_string and print the result.\n",
        "3. Use the replace method to replace the word \"test\" with the word \"example\" in my_string and print the resulting string."
      ],
      "metadata": {
        "id": "9Pu8ieYhFv72"
      }
    },
    {
      "cell_type": "code",
      "source": [
        "my_string =  \"This is a test sentence.\"\n",
        "print(\"count of letter 'e' is \"+str(my_string.count('e')))\n",
        "print(my_string.find(\"test\"))\n",
        "print(my_string.replace(\"test\", \"example\"))"
      ],
      "metadata": {
        "id": "UiY5-QzvF0MZ",
        "colab": {
          "base_uri": "https://localhost:8080/"
        },
        "outputId": "1844c118-19b9-4ab7-f4cf-de070c516a18"
      },
      "execution_count": null,
      "outputs": [
        {
          "output_type": "stream",
          "name": "stdout",
          "text": [
            "count of letter 'e' is 4\n",
            "10\n",
            "This is a example sentence.\n"
          ]
        }
      ]
    },
    {
      "cell_type": "markdown",
      "source": [
        "Q19 : Create a string variable named my_string and assign it the value \"python\".\n",
        "1. Use slicing to print the first three characters of my_string in reverse order.\n",
        "2. Use slicing to print the last two characters of my_string in reverse order.\n",
        "3. Use the join method to add a hyphen between each character of my_string and print the resulting string."
      ],
      "metadata": {
        "id": "IfWGDd6MF22V"
      }
    },
    {
      "cell_type": "code",
      "source": [
        "my_string = \"python\"\n",
        "print(my_string[-1:-4:-1])\n",
        "print(my_string[-1:-3:-1])\n",
        "print(\"-\".join(my_string))"
      ],
      "metadata": {
        "id": "O7AZSIuWGB0P",
        "colab": {
          "base_uri": "https://localhost:8080/"
        },
        "outputId": "5aee201b-25b7-49d6-93fa-27d852292e86"
      },
      "execution_count": null,
      "outputs": [
        {
          "output_type": "stream",
          "name": "stdout",
          "text": [
            "noh\n",
            "no\n",
            "p-y-t-h-o-n\n"
          ]
        }
      ]
    },
    {
      "cell_type": "markdown",
      "source": [
        "Q20 : Create a string variable named my_string and assign it the value \"Python is a popular programming language\".\n",
        "1. Use the title method to capitalize the first letter of each word in my_string and print the resulting string.\n",
        "2. Use the split method to split my_string into a list of words and print the result.\n",
        "3. Use the replace method to replace the word \"Python\" with \"Java\" in my_string and print the resulting string."
      ],
      "metadata": {
        "id": "ZtS1xorWGEIw"
      }
    },
    {
      "cell_type": "code",
      "source": [
        "my_string = \"Python is a popular programming language\"\n",
        "print(my_string.title())\n",
        "print(my_string.split())\n",
        "print(my_string.replace(\"Python\", \"Java\"))"
      ],
      "metadata": {
        "id": "loBhaVcQGK96",
        "colab": {
          "base_uri": "https://localhost:8080/"
        },
        "outputId": "4cc1261c-7b0d-4c28-e45a-cfdf6b805880"
      },
      "execution_count": null,
      "outputs": [
        {
          "output_type": "stream",
          "name": "stdout",
          "text": [
            "Python Is A Popular Programming Language\n",
            "['Python', 'is', 'a', 'popular', 'programming', 'language']\n",
            "Java is a popular programming language\n"
          ]
        }
      ]
    },
    {
      "cell_type": "markdown",
      "source": [
        "Q21 : Create a string variable named my_string and assign it the value \"Hello, World!\".\n",
        "1. Use the lower method to convert my_string to lowercase and print the resulting string.\n",
        "2. Use the upper method to convert my_string to uppercase and print the resulting string.\n",
        "3. Use slicing to print the string \"World\" from my_string."
      ],
      "metadata": {
        "id": "aNM0Rl5dGNSI"
      }
    },
    {
      "cell_type": "code",
      "source": [
        "my_string = \"Hello, World!\"\n",
        "print(my_string.lower())\n",
        "print(my_string.upper())\n",
        "print(my_string[7:12])"
      ],
      "metadata": {
        "id": "NPSW23tUGSq3",
        "colab": {
          "base_uri": "https://localhost:8080/"
        },
        "outputId": "01fb97f0-9652-4720-8523-d82b6903b0c1"
      },
      "execution_count": null,
      "outputs": [
        {
          "output_type": "stream",
          "name": "stdout",
          "text": [
            "hello, world!\n",
            "HELLO, WORLD!\n",
            "World\n"
          ]
        }
      ]
    },
    {
      "cell_type": "markdown",
      "source": [
        "Q22 : Create a string variable named my_string and assign it the value \"racecar\".\n",
        "1. Use slicing to print the string \"race\" from my_string.\n",
        "2. Use slicing to print the string \"cec\" from my_string in reverse order.\n",
        "3. Check if my_string is a palindrome (i.e., reads the same forwards and backwards) and print the result."
      ],
      "metadata": {
        "id": "xHkiQCIEGUPy"
      }
    },
    {
      "cell_type": "code",
      "source": [
        "my_string = \"racecar\"\n",
        "print(my_string[:4])\n",
        "print(my_string[2:5])\n",
        "if(my_string[:] == my_string[::-1]):\n",
        "  print(\"Palindrome string\")\n",
        "else:\n",
        "    print(\"Not a pallindrome string\")"
      ],
      "metadata": {
        "id": "u045KxPxGZCj",
        "colab": {
          "base_uri": "https://localhost:8080/"
        },
        "outputId": "1ea190e2-81e5-45b9-9b62-9e70f1e63ba6"
      },
      "execution_count": null,
      "outputs": [
        {
          "output_type": "stream",
          "name": "stdout",
          "text": [
            "race\n",
            "cec\n",
            "Palindrome string\n"
          ]
        }
      ]
    },
    {
      "cell_type": "code",
      "source": [],
      "metadata": {
        "id": "yEBjkQE2WkEj"
      },
      "execution_count": null,
      "outputs": []
    }
  ]
}